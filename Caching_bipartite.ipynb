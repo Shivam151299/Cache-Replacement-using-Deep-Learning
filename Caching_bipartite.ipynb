{
  "nbformat": 4,
  "nbformat_minor": 0,
  "metadata": {
    "colab": {
      "name": "Caching bipartite",
      "provenance": [],
      "collapsed_sections": []
    },
    "kernelspec": {
      "name": "python3",
      "display_name": "Python 3"
    }
  },
  "cells": [
    {
      "cell_type": "code",
      "metadata": {
        "id": "g6dzR9rt_krF",
        "colab_type": "code",
        "colab": {}
      },
      "source": [
        "import numpy as np\n",
        "from numpy import random\n",
        "import matplotlib.pyplot as plt\n",
        "%matplotlib inline"
      ],
      "execution_count": 32,
      "outputs": []
    },
    {
      "cell_type": "code",
      "metadata": {
        "id": "eki7BDaX_RpP",
        "colab_type": "code",
        "colab": {}
      },
      "source": [
        "gen_req1 = np.load('/content/drive/My Drive/gen_req.npy')\n",
        "req1 = np.load('/content/drive/My Drive/req.npy')"
      ],
      "execution_count": 33,
      "outputs": []
    },
    {
      "cell_type": "code",
      "metadata": {
        "id": "lAcMUnr1RECc",
        "colab_type": "code",
        "colab": {
          "base_uri": "https://localhost:8080/",
          "height": 34
        },
        "outputId": "1159310f-af1b-421b-deb8-748c0eaf1751"
      },
      "source": [
        "#req1 = req1[20000:2005000]\n",
        "#gen_req1 = gen_req1[20000:2005000]\n",
        "req1.shape,gen_req1.shape"
      ],
      "execution_count": 34,
      "outputs": [
        {
          "output_type": "execute_result",
          "data": {
            "text/plain": [
              "((2005000,), (2255000,))"
            ]
          },
          "metadata": {
            "tags": []
          },
          "execution_count": 34
        }
      ]
    },
    {
      "cell_type": "code",
      "metadata": {
        "id": "SOUAMkThUS-c",
        "colab_type": "code",
        "colab": {}
      },
      "source": [
        "N = 100 # total ids \n",
        "pi = 3.14"
      ],
      "execution_count": 35,
      "outputs": []
    },
    {
      "cell_type": "markdown",
      "metadata": {
        "id": "Av1Kgt5FUF3x",
        "colab_type": "text"
      },
      "source": [
        "LRU"
      ]
    },
    {
      "cell_type": "code",
      "metadata": {
        "id": "IU2Dme6MjK66",
        "colab_type": "code",
        "colab": {}
      },
      "source": [
        "def LRU(y, x, request_time,con):\n",
        "  [N,I] = x.shape\n",
        "  J = len(y)\n",
        "  for j in range(J):\n",
        "    x_t_j = np.zeros(N)\n",
        "    file_req_time = np.zeros(N)\n",
        "\n",
        "    # to find which users are connected to this cache \n",
        "    connected_users = []\n",
        "    for k in range(I):\n",
        "      if con[k,j] == 1:\n",
        "        connected_users.append(k)\n",
        "    for k in range(len(connected_users)):\n",
        "      x_t_j += x[:,connected_users[k]]\n",
        "      file_req_time = np.maximum(file_req_time, request_time[:,connected_users[k]])\n",
        "    x_t_j = np.minimum(np.ones(N),x_t_j)\n",
        "\n",
        "    a1 = np.transpose(np.logical_and(y[j],np.logical_not(np.logical_and(y[j],np.transpose(x_t_j)))))# file which is not requested but still in the cache\n",
        "    b1 = np.transpose(np.logical_and(np.transpose(x_t_j),np.logical_not(np.logical_and(y[j],np.transpose(x_t_j))))) # file requested but not in the cache.\n",
        "    a = np.sum(a1)\n",
        "    b = np.sum(b1)\n",
        "\n",
        "    if a>0 and b>0:\n",
        "      if a>b:\n",
        "        ind = []\n",
        "        for k in range(N):\n",
        "          if a1[k] == 1:\n",
        "            ind.append(k)\n",
        "        t = np.zeros(a)\n",
        "        for k in range(a):\n",
        "          t[k] = file_req_time[ind[k]]\n",
        "        replace = (t).argsort()[:b]\n",
        "        for k in range(b):\n",
        "          y[j,ind[int(replace[k])]] = 0\n",
        "        for k in range(N):\n",
        "          if b1[k] == 1:\n",
        "            y[j,k] = 1\n",
        "      \n",
        "      else:\n",
        "        for k in range(N):\n",
        "          if a1[k] == 1:\n",
        "            y[j,k] = 0\n",
        "        \n",
        "        ind = []\n",
        "        for k in range(N):\n",
        "          if b1[k] == 1:\n",
        "            ind.append(k)\n",
        "        t = np.zeros(b)\n",
        "        for k in range(b):\n",
        "          t[k] = file_req_time[ind[k]]\n",
        "        replace = (t).argsort()[:a]\n",
        "        for k in range(a):\n",
        "          y[j,ind[int(replace[k])]] = 1\n",
        "  return y"
      ],
      "execution_count": 36,
      "outputs": []
    },
    {
      "cell_type": "markdown",
      "metadata": {
        "id": "rlnncX3lUi-6",
        "colab_type": "text"
      },
      "source": [
        "LFU"
      ]
    },
    {
      "cell_type": "code",
      "metadata": {
        "id": "rZKodE159k31",
        "colab_type": "code",
        "colab": {}
      },
      "source": [
        "def LFU(y,x,freq,con):\n",
        "  [N,I] = x.shape\n",
        "  J = len(y)\n",
        "\n",
        "  for j in range(J):\n",
        "    file_freq = np.zeros(N)\n",
        "    x_t_j = np.zeros(N)\n",
        "\n",
        "    # to find which users are connected to this cache \n",
        "    connected_users = []\n",
        "    for k in range(I):\n",
        "      if con[k,j] == 1:\n",
        "        connected_users.append(k)\n",
        "    for k in range(len(connected_users)):\n",
        "      x_t_j += x[:,connected_users[k]]\n",
        "      file_freq += freq[:,connected_users[k]]\n",
        "    x_t_j = np.minimum(np.ones(N),x_t_j)\n",
        "\n",
        "    a1 = np.transpose(np.logical_and(y[j],np.logical_not(np.logical_and(y[j],np.transpose(x_t_j)))))# file which is not requested but still in the cache\n",
        "    b1 = np.transpose(np.logical_and(np.transpose(x_t_j),np.logical_not(np.logical_and(y[j],np.transpose(x_t_j))))) # file requested but not in the cache.\n",
        "    a = np.sum(a1)\n",
        "    b = np.sum(b1)\n",
        "  \n",
        "    if a>0 and b>0:\n",
        "      if a>b:\n",
        "        ind = []\n",
        "        for k in range(N):\n",
        "          if a1[k] == 1:\n",
        "            ind.append(k)\n",
        "        t = np.zeros(a)\n",
        "        for k in range(a):\n",
        "          t[k] = file_freq[ind[k]]\n",
        "        replace = (t).argsort()[:b]\n",
        "        for k in range(b):\n",
        "          y[j,ind[int(replace[k])]] = 0\n",
        "        for k in range(N):\n",
        "          if b1[k] == 1:\n",
        "            y[j,k] = 1\n",
        "      else:\n",
        "        for k in range(N):\n",
        "          if a1[k] == 1:\n",
        "            y[j,k] = 0\n",
        "        ind = []\n",
        "        for k in range(N):\n",
        "          if b1[k] == 1:\n",
        "            ind.append(k)\n",
        "        t = np.zeros(b)\n",
        "        for k in range(b):\n",
        "          t[k] = file_freq[ind[k]]\n",
        "        replace = (t).argsort()[:a]\n",
        "        for k in range(a):\n",
        "          y[j,ind[int(replace[k])]] = 1\n",
        "\n",
        "  return y"
      ],
      "execution_count": 37,
      "outputs": []
    },
    {
      "cell_type": "markdown",
      "metadata": {
        "id": "NxQfsTnXWQyP",
        "colab_type": "text"
      },
      "source": [
        "perturbed count"
      ]
    },
    {
      "cell_type": "code",
      "metadata": {
        "id": "V4d6vCcjWOP7",
        "colab_type": "code",
        "colab": {}
      },
      "source": [
        "def per_count(eta,count):\n",
        "  [N,I] = count.shape\n",
        "  p_count = np.zeros((N,I),dtype = float)\n",
        "  for i in range(I):\n",
        "    p_count[:,i] = count[:,i] + (eta*random.normal(0,1,[N,1])).reshape(N)\n",
        "  return p_count"
      ],
      "execution_count": 38,
      "outputs": []
    },
    {
      "cell_type": "markdown",
      "metadata": {
        "id": "WIbLBZBYswP8",
        "colab_type": "text"
      },
      "source": [
        "GREEDY"
      ]
    },
    {
      "cell_type": "code",
      "metadata": {
        "id": "plLnprjKsv75",
        "colab_type": "code",
        "colab": {}
      },
      "source": [
        "def Greedy(con,count):\n",
        "  [I,J] = con.shape\n",
        "  [N,I] = count.shape\n",
        "  load = np.zeros((1,J),dtype = float)\n",
        "\n",
        "  for i in range(I):\n",
        "    for f in range(N):\n",
        "      if count[f,i] < 0:\n",
        "        count[f,i] = 0\n",
        "  \n",
        "  loadc = 0\n",
        "  y = np.zeros((J,N),dtype = float)\n",
        "  z = np.zeros((I,N),dtype = float)\n",
        "  mark = np.zeros((I,N),dtype = float)\n",
        "\n",
        "  while(loadc < J):\n",
        "    best_cache = -1\n",
        "    best_file = -1\n",
        "    best_imp = -1\n",
        "\n",
        "    for j in range(J):\n",
        "      if load[0,j] < C:\n",
        "        for f in range(N):\n",
        "          if y[j,f] != 1:\n",
        "            imp = 0\n",
        "\n",
        "            for i in range(I):\n",
        "              if con[i,j] == 1 and mark[i,f] == 0:\n",
        "                imp += count[f,i]\n",
        "\n",
        "            if imp >= best_imp:\n",
        "              best_cache = j\n",
        "              best_file = f\n",
        "              best_imp = imp\n",
        "\n",
        "    y[best_cache,best_file] = 1\n",
        "\n",
        "    for i in range(I):\n",
        "      if con[i,best_cache] == 1:\n",
        "        mark[i,best_cache] = 1\n",
        "\n",
        "    load[0,best_cache] += 1\n",
        "    if load[0,best_cache] == C:\n",
        "      loadc += 1\n",
        "  \n",
        "  for i in range(I):\n",
        "    for f in range(N):\n",
        "      for j in range(J):\n",
        "        if con[i,j] == 1:\n",
        "          z[i,f] = np.maximum(y[j,f],z[i,f])\n",
        "      \n",
        "  return y,z"
      ],
      "execution_count": 39,
      "outputs": []
    },
    {
      "cell_type": "markdown",
      "metadata": {
        "id": "8RkOlMhDjohA",
        "colab_type": "text"
      },
      "source": [
        "SINGLE CACHE"
      ]
    },
    {
      "cell_type": "code",
      "metadata": {
        "id": "ZyC3_Jwrjn5s",
        "colab_type": "code",
        "colab": {
          "base_uri": "https://localhost:8080/",
          "height": 34
        },
        "outputId": "29772850-9fa1-4d37-8e1a-e515586866bf"
      },
      "source": [
        "I = 1 #users\n",
        "T = 100000\n",
        "degree = 1\n",
        "J = 1 #caches\n",
        "C = 5\n",
        "connection = np.array([[1]])\n",
        "connection.shape"
      ],
      "execution_count": 40,
      "outputs": [
        {
          "output_type": "execute_result",
          "data": {
            "text/plain": [
              "(1, 1)"
            ]
          },
          "metadata": {
            "tags": []
          },
          "execution_count": 40
        }
      ]
    },
    {
      "cell_type": "code",
      "metadata": {
        "id": "4Xqi6iqtfnhE",
        "colab_type": "code",
        "colab": {
          "base_uri": "https://localhost:8080/",
          "height": 34
        },
        "outputId": "4505626d-905f-4ef6-b62b-dde296211cb3"
      },
      "source": [
        "req = np.zeros((I,T),dtype = int)\n",
        "for i in range(I):\n",
        "  for j in range(T):\n",
        "    req[i,j] = req1[(i+1)*(j+1) - 1]\n",
        "req.shape"
      ],
      "execution_count": 41,
      "outputs": [
        {
          "output_type": "execute_result",
          "data": {
            "text/plain": [
              "(1, 100000)"
            ]
          },
          "metadata": {
            "tags": []
          },
          "execution_count": 41
        }
      ]
    },
    {
      "cell_type": "code",
      "metadata": {
        "id": "7NQUPQz7JvtR",
        "colab_type": "code",
        "colab": {
          "base_uri": "https://localhost:8080/",
          "height": 34
        },
        "outputId": "640f1318-ebb9-447e-caa5-21f55704e79b"
      },
      "source": [
        "gen_req = np.zeros((I,T),dtype = int)\n",
        "for i in range(I):\n",
        "  for j in range(T):\n",
        "    gen_req[i,j] = gen_req1[(i+1)*(j+1) - 1]\n",
        "gen_req.shape"
      ],
      "execution_count": 42,
      "outputs": [
        {
          "output_type": "execute_result",
          "data": {
            "text/plain": [
              "(1, 100000)"
            ]
          },
          "metadata": {
            "tags": []
          },
          "execution_count": 42
        }
      ]
    },
    {
      "cell_type": "code",
      "metadata": {
        "id": "pWowJlSAki2e",
        "colab_type": "code",
        "colab": {
          "base_uri": "https://localhost:8080/",
          "height": 185
        },
        "outputId": "a91ff021-b371-4088-df08-d82d6b0b77d0"
      },
      "source": [
        "y_LRU = np.zeros((J,N),dtype = float)\n",
        "y_LFU = np.zeros((J,N),dtype = float)\n",
        "y_FTPL = np.zeros((J,N),dtype = float)\n",
        "y_LSTM = np.zeros((J,N),dtype = float)\n",
        "y_LSTM[:,:C] = np.ones((J,C),dtype = float)\n",
        "y_FTPL[:,:C] = np.ones((J,C),dtype = float)\n",
        "y_LRU[:,:C] = np.ones((J,C),dtype = float)\n",
        "y_LFU[:,:C] = np.ones((J,C),dtype = float)\n",
        "\n",
        "count = np.zeros((N,I),dtype = float)\n",
        "\n",
        "reward_LSTM =  np.zeros(T)\n",
        "reward_FTPL =  np.zeros(T)\n",
        "reward_LRU =  np.zeros(T)\n",
        "reward_LFU =  np.zeros(T)\n",
        "hits_FTPL =  []\n",
        "hits_LRU =  []\n",
        "hits_LFU =  []\n",
        "hits_LSTM = []\n",
        "download_FTPL =  []\n",
        "download_LRU =  []\n",
        "download_LFU =  []\n",
        "download_LSTM = []\n",
        "miss_LRU =  0\n",
        "miss_LSTM =  0\n",
        "miss_LFU =  0\n",
        "miss_FTPL =  0\n",
        "\n",
        "\n",
        "req_time = np.zeros((N,I),dtype = float) \n",
        "req_time1 = np.zeros((N,I),dtype = float) \n",
        "\n",
        "for t in range(T):\n",
        "  old_FTPL = []\n",
        "  old_LRU = []\n",
        "  old_LFU = []\n",
        "  old_LSTM = []\n",
        "  new_FTPL = []\n",
        "  new_LRU = []\n",
        "  new_LFU = []\n",
        "  new_LSTM = []\n",
        "  for j in range(J):\n",
        "    for k in range(N):\n",
        "      old_LRU.append(y_LRU[j,k])\n",
        "      old_LFU.append(y_LFU[j,k])\n",
        "      old_FTPL.append(y_FTPL[j,k])\n",
        "      old_LSTM.append(y_LSTM[j,k])\n",
        "\n",
        "  x_t1 = np.zeros((N,I),dtype = int)\n",
        "  x_t = np.zeros((N,I),dtype = int)\n",
        "  for i in range(I):\n",
        "    x_t[req[i,t],i] += 1\n",
        "    x_t1[gen_req[i,t],i] += 1\n",
        "    count[int(req[i,t]),i] += 1\n",
        "    req_time[int(req[i,t]),i] = t+1\n",
        "    req_time1[int(gen_req[i,t]),i] = t+1\n",
        "  \n",
        "  ireward_LRU =  np.zeros(I)\n",
        "  ireward_LSTM =  np.zeros(I)\n",
        "  ireward_LFU =  np.zeros(I)\n",
        "  ireward_FTPL =  np.zeros(I)\n",
        "  \n",
        "  for i in range(I):\n",
        "    temp1 = np.zeros(N)\n",
        "    temp2 = np.zeros(N)\n",
        "    temp3 = np.zeros(N)\n",
        "    temp4 = np.zeros(N)\n",
        "    connected_cache = []\n",
        "    for j in range(J):\n",
        "      if connection[i,j] == 1:\n",
        "        connected_cache.append(j)\n",
        "    for k in range(len(connected_cache)):\n",
        "      temp1 += y_FTPL[connected_cache[k],:]\n",
        "      temp2 += y_LFU[connected_cache[k],:]\n",
        "      temp3 += y_LRU[connected_cache[k],:]\n",
        "      temp4 += y_LSTM[connected_cache[k],:]\n",
        "    ireward_FTPL[i] += np.dot(np.minimum(np.ones(N),temp1),x_t[:,i])\n",
        "    ireward_LFU[i] += np.dot(np.minimum(np.ones(N),temp2),x_t[:,i])\n",
        "    ireward_LRU[i] += np.dot(np.minimum(np.ones(N),temp3),x_t[:,i])\n",
        "    ireward_LSTM[i] += np.dot(np.minimum(np.ones(N),temp4),x_t1[:,i])\n",
        "\n",
        "  reward_FTPL[t] =  np.sum(ireward_FTPL)\n",
        "  reward_LRU[t] =  np.sum(ireward_LRU)\n",
        "  reward_LFU[t] =  np.sum(ireward_LFU)\n",
        "  reward_LSTM[t] =  np.sum(ireward_LSTM)\n",
        "  reward_LSTMc = np.sum(reward_LSTM)\n",
        "  reward_FTPLc = np.sum(reward_FTPL)\n",
        "  reward_LRUc = np.sum(reward_LRU)\n",
        "  reward_LFUc = np.sum(reward_LFU)\n",
        "\n",
        "\n",
        "  y_LFU = LFU(y_LFU,x_t,count,connection)\n",
        "  y_LRU = LRU(y_LRU,x_t,req_time,connection)\n",
        "  y_LSTM = LRU(y_LSTM,x_t1,req_time1,connection)\n",
        "\n",
        "  eta = pow(4*pi*np.log(N),-.25)*pow((t+1)/C,.5)\n",
        "  perturbed_count=per_count(eta,count)\n",
        "\n",
        "  add = (-perturbed_count[:,0]).argsort()[:C]\n",
        "  y_FTPL = np.zeros((J,N),dtype = float)\n",
        "  for k in range(len(add)):\n",
        "    y_FTPL[0,int(add[k])] = 1 \n",
        " \n",
        "  for j in range(J):\n",
        "    for k in range(N):\n",
        "      new_LRU.append(y_LRU[j,k])\n",
        "      new_LFU.append(y_LFU[j,k])\n",
        "      new_FTPL.append(y_FTPL[j,k])\n",
        "      new_LSTM.append(y_LSTM[j,k])\n",
        "  \n",
        "  miss_FTPL += (np.sum(np.logical_and(new_FTPL,np.logical_not(old_FTPL))))\n",
        "  miss_LFU += (np.sum(np.logical_and(new_LFU,np.logical_not(old_LFU))))\n",
        "  miss_LRU += (np.sum(np.logical_and(new_LRU,np.logical_not(old_LRU))))\n",
        "  miss_LSTM += (np.sum(np.logical_and(new_LSTM,np.logical_not(old_LSTM))))\n",
        "  download_LFU.append(miss_LFU)\n",
        "  download_LRU.append(miss_LRU)\n",
        "  download_FTPL.append(miss_FTPL)\n",
        "  download_LSTM.append(miss_LSTM)\n",
        "\n",
        "  hits_LRU.append(reward_LRUc)\n",
        "  hits_LFU.append(reward_LFUc)\n",
        "  hits_FTPL.append(reward_FTPLc)\n",
        "  hits_LSTM.append(reward_LSTMc)\n",
        "\n",
        "  if t %10000 == 0:\n",
        "    print(t,download_FTPL[t],download_LFU[t],download_LRU[t],download_LSTM[t])"
      ],
      "execution_count": 43,
      "outputs": [
        {
          "output_type": "stream",
          "text": [
            "0 5 1 1 1\n",
            "10000 37075 9397 9477 9477\n",
            "20000 63530 18715 18994 18994\n",
            "30000 85491 28029 28465 27616\n",
            "40000 102594 37355 37919 36214\n",
            "50000 117600 46740 47407 44815\n",
            "60000 130541 56073 56865 53412\n",
            "70000 141903 65392 66324 62018\n",
            "80000 152783 74733 75808 70578\n",
            "90000 162559 84087 85340 79217\n"
          ],
          "name": "stdout"
        }
      ]
    },
    {
      "cell_type": "code",
      "metadata": {
        "id": "J_3kWL_JCNjX",
        "colab_type": "code",
        "colab": {
          "base_uri": "https://localhost:8080/",
          "height": 279
        },
        "outputId": "2239b453-9fef-4a70-b40e-908d44d00856"
      },
      "source": [
        "plt.plot(hits_FTPL,'black',label='FTPL')\n",
        "plt.plot(hits_LRU,'green',label='LRU')\n",
        "plt.plot(hits_LFU,'blue',label='LFU')\n",
        "plt.plot(hits_LSTM,'red',label='LSTM')\n",
        "plt.xlabel('T')\n",
        "plt.ylabel('Total hits')\n",
        "plt.legend()\n",
        "plt.savefig('Total hits(I=J=1).png')"
      ],
      "execution_count": 44,
      "outputs": [
        {
          "output_type": "display_data",
          "data": {
            "image/png": "[encoded data removed]",
            "text/plain": [
              "<Figure size 432x288 with 1 Axes>"
            ]
          },
          "metadata": {
            "tags": [],
            "needs_background": "light"
          }
        }
      ]
    },
    {
      "cell_type": "code",
      "metadata": {
        "id": "YK-m4yZjrs3l",
        "colab_type": "code",
        "colab": {
          "base_uri": "https://localhost:8080/",
          "height": 279
        },
        "outputId": "1357952a-433c-4d4a-c936-cc803f1f6442"
      },
      "source": [
        "plt.plot(download_FTPL,'black',label='FTPL')\n",
        "plt.plot(download_LRU,'green',label='LRU')\n",
        "plt.plot(download_LFU,'blue',label='LFU')\n",
        "plt.plot(download_LSTM,'red',label='LSTM')\n",
        "plt.xlabel('T')\n",
        "plt.ylabel('New downloads')\n",
        "plt.legend()\n",
        "plt.savefig('New downloads(I=J=1).png')"
      ],
      "execution_count": 45,
      "outputs": [
        {
          "output_type": "display_data",
          "data": {
            "image/png": "[encoded data removed]",
            "text/plain": [
              "<Figure size 432x288 with 1 Axes>"
            ]
          },
          "metadata": {
            "tags": [],
            "needs_background": "light"
          }
        }
      ]
    },
    {
      "cell_type": "markdown",
      "metadata": {
        "id": "Fj30MgQaWN_E",
        "colab_type": "text"
      },
      "source": [
        "I = 5 J = 3 d = 2"
      ]
    },
    {
      "cell_type": "code",
      "metadata": {
        "id": "jA0Kz7jzKJ3G",
        "colab_type": "code",
        "colab": {}
      },
      "source": [
        "C = 5\n",
        "I = 5\n",
        "J = 3\n",
        "degree = 3\n",
        "T = 20000"
      ],
      "execution_count": 46,
      "outputs": []
    },
    {
      "cell_type": "code",
      "metadata": {
        "id": "fkzyLhrGKhB6",
        "colab_type": "code",
        "colab": {
          "base_uri": "https://localhost:8080/",
          "height": 101
        },
        "outputId": "2b9fee3a-7712-45ac-f465-789abd7e75cd"
      },
      "source": [
        "connection = np.zeros((I,J),dtype = int)\n",
        "i = 0\n",
        "for j in range(J):\n",
        "  x = 0\n",
        "  while x < degree:\n",
        "    connection[i,j] = 1\n",
        "    x += 1\n",
        "    i += 1\n",
        "    if i == I:\n",
        "      i = 0\n",
        "connection"
      ],
      "execution_count": 47,
      "outputs": [
        {
          "output_type": "execute_result",
          "data": {
            "text/plain": [
              "array([[1, 1, 0],\n",
              "       [1, 0, 1],\n",
              "       [1, 0, 1],\n",
              "       [0, 1, 1],\n",
              "       [0, 1, 0]])"
            ]
          },
          "metadata": {
            "tags": []
          },
          "execution_count": 47
        }
      ]
    },
    {
      "cell_type": "code",
      "metadata": {
        "id": "TIjWw46mSfxG",
        "colab_type": "code",
        "colab": {}
      },
      "source": [
        "gen_req1 = np.load('/content/drive/My Drive/gen_req.npy')\n",
        "req1 = np.load('/content/drive/My Drive/req.npy')\n",
        "req1 = req1[20000:2005000]\n",
        "gen_req1 = gen_req1[20000:2005000]"
      ],
      "execution_count": 48,
      "outputs": []
    },
    {
      "cell_type": "code",
      "metadata": {
        "id": "DNOrEFxxThnu",
        "colab_type": "code",
        "colab": {
          "base_uri": "https://localhost:8080/",
          "height": 34
        },
        "outputId": "68a516aa-4263-4ed7-ba98-de9853f89b4f"
      },
      "source": [
        "req = np.zeros((I,T),dtype = int)\n",
        "for i in range(I):\n",
        "  for j in range(T):\n",
        "    req[i,j] = req1[(i+1)*(j+1) - 1]\n",
        "req.shape"
      ],
      "execution_count": 49,
      "outputs": [
        {
          "output_type": "execute_result",
          "data": {
            "text/plain": [
              "(5, 20000)"
            ]
          },
          "metadata": {
            "tags": []
          },
          "execution_count": 49
        }
      ]
    },
    {
      "cell_type": "code",
      "metadata": {
        "id": "DAQ_EHg8TlOp",
        "colab_type": "code",
        "colab": {
          "base_uri": "https://localhost:8080/",
          "height": 34
        },
        "outputId": "48fd26a5-fa6f-4e19-ea1e-9972738cb27e"
      },
      "source": [
        "gen_req = np.zeros((I,T),dtype = int)\n",
        "for i in range(I):\n",
        "  for j in range(T):\n",
        "    gen_req[i,j] = gen_req1[(i+1)*(j+1) - 1]\n",
        "gen_req.shape"
      ],
      "execution_count": 50,
      "outputs": [
        {
          "output_type": "execute_result",
          "data": {
            "text/plain": [
              "(5, 20000)"
            ]
          },
          "metadata": {
            "tags": []
          },
          "execution_count": 50
        }
      ]
    },
    {
      "cell_type": "code",
      "metadata": {
        "id": "5U7m8AJ9Sw6B",
        "colab_type": "code",
        "colab": {
          "base_uri": "https://localhost:8080/",
          "height": 353
        },
        "outputId": "314701d4-a22d-4176-dc98-263e9390de21"
      },
      "source": [
        "y_LRU = np.zeros((J,N),dtype = float)\n",
        "y_LFU = np.zeros((J,N),dtype = float)\n",
        "y_FTPL = np.zeros((J,N),dtype = float)\n",
        "y_LSTM = np.zeros((J,N),dtype = float)\n",
        "y_LSTM[:,:C] = np.ones((J,C),dtype = float)\n",
        "y_FTPL[:,:C] = np.ones((J,C),dtype = float)\n",
        "y_LRU[:,:C] = np.ones((J,C),dtype = float)\n",
        "y_LFU[:,:C] = np.ones((J,C),dtype = float)\n",
        "\n",
        "count = np.zeros((N,I),dtype = float)\n",
        "\n",
        "reward_LSTM =  np.zeros(T)\n",
        "reward_FTPL =  np.zeros(T)\n",
        "reward_LRU =  np.zeros(T)\n",
        "reward_LFU =  np.zeros(T)\n",
        "hits_FTPL =  []\n",
        "hits_LRU =  []\n",
        "hits_LFU =  []\n",
        "hits_LSTM = []\n",
        "download_FTPL =  []\n",
        "download_LRU =  []\n",
        "download_LFU =  []\n",
        "download_LSTM = []\n",
        "miss_LRU =  0\n",
        "miss_LSTM =  0\n",
        "miss_LFU =  0\n",
        "miss_FTPL =  0\n",
        "\n",
        "\n",
        "req_time = np.zeros((N,I),dtype = float) \n",
        "req_time1 = np.zeros((N,I),dtype = float) \n",
        "\n",
        "for t in range(T):\n",
        "  old_FTPL = []\n",
        "  old_LRU = []\n",
        "  old_LFU = []\n",
        "  old_LSTM = []\n",
        "  new_FTPL = []\n",
        "  new_LRU = []\n",
        "  new_LFU = []\n",
        "  new_LSTM = []\n",
        "  for j in range(J):\n",
        "    for k in range(N):\n",
        "      old_LRU.append(y_LRU[j,k])\n",
        "      old_LFU.append(y_LFU[j,k])\n",
        "      old_FTPL.append(y_FTPL[j,k])\n",
        "      old_LSTM.append(y_LSTM[j,k])\n",
        "  x_t1 = np.zeros((N,I),dtype = int)\n",
        "  x_t = np.zeros((N,I),dtype = int)\n",
        "  for i in range(I):\n",
        "    x_t[req[i,t],i] += 1\n",
        "    x_t1[gen_req[i,t],i] += 1\n",
        "    count[int(req[i,t]),i] += 1\n",
        "    req_time[int(req[i,t]),i] = t+1\n",
        "    req_time1[int(gen_req[i,t]),i] = t+1\n",
        "  \n",
        "  ireward_LRU =  np.zeros(I)\n",
        "  ireward_LSTM =  np.zeros(I)\n",
        "  ireward_LFU =  np.zeros(I)\n",
        "  ireward_FTPL =  np.zeros(I)\n",
        "  \n",
        "  for i in range(I):\n",
        "    temp1 = np.zeros(N)\n",
        "    temp2 = np.zeros(N)\n",
        "    temp3 = np.zeros(N)\n",
        "    temp4 = np.zeros(N)\n",
        "    connected_cache = []\n",
        "    for j in range(J):\n",
        "      if connection[i,j] == 1:\n",
        "        connected_cache.append(j)\n",
        "    for k in range(len(connected_cache)):\n",
        "      temp1 += y_FTPL[connected_cache[k],:]\n",
        "      temp2 += y_LFU[connected_cache[k],:]\n",
        "      temp3 += y_LRU[connected_cache[k],:]\n",
        "      temp4 += y_LSTM[connected_cache[k],:]\n",
        "    ireward_FTPL[i] += np.dot(np.minimum(np.ones(N),temp1),x_t[:,i])\n",
        "    ireward_LFU[i] += np.dot(np.minimum(np.ones(N),temp2),x_t[:,i])\n",
        "    ireward_LRU[i] += np.dot(np.minimum(np.ones(N),temp3),x_t[:,i])\n",
        "    ireward_LSTM[i] += np.dot(np.minimum(np.ones(N),temp4),x_t1[:,i])\n",
        "\n",
        "  reward_FTPL[t] =  np.sum(ireward_FTPL)\n",
        "  reward_LRU[t] =  np.sum(ireward_LRU)\n",
        "  reward_LFU[t] =  np.sum(ireward_LFU)\n",
        "  reward_LSTM[t] =  np.sum(ireward_LSTM)\n",
        "  reward_LSTMc = np.sum(reward_LSTM)\n",
        "  reward_FTPLc = np.sum(reward_FTPL)\n",
        "  reward_LRUc = np.sum(reward_LRU)\n",
        "  reward_LFUc = np.sum(reward_LFU)\n",
        "\n",
        "\n",
        "  y_LFU = LFU(y_LFU,x_t,count,connection)\n",
        "  y_LRU = LRU(y_LRU,x_t,req_time,connection)\n",
        "  y_LSTM = LRU(y_LSTM,x_t1,req_time1,connection)\n",
        "\n",
        "  eta = I*pow(4*pi*np.log(N*I),-0.25)*pow((t+1)/(J*degree*C),.5)\n",
        "  perturbed_count=per_count(eta,count)\n",
        "\n",
        "  [y_FTPL,z] = Greedy(connection,perturbed_count)\n",
        "  for j in range(J):\n",
        "    for k in range(N):\n",
        "      new_LRU.append(y_LRU[j,k])\n",
        "      new_LFU.append(y_LFU[j,k])\n",
        "      new_FTPL.append(y_FTPL[j,k])\n",
        "      new_LSTM.append(y_LSTM[j,k])\n",
        "  \n",
        "#  print(old_LRU)\n",
        "  miss_FTPL += (np.sum(np.logical_and(new_FTPL,np.logical_not(old_FTPL))))\n",
        "  miss_LFU += (np.sum(np.logical_and(new_LFU,np.logical_not(old_LFU))))\n",
        "  miss_LRU += (np.sum(np.logical_and(new_LRU,np.logical_not(old_LRU))))\n",
        "  miss_LSTM += (np.sum(np.logical_and(new_LSTM,np.logical_not(old_LSTM))))\n",
        "  download_LFU.append(miss_LFU)\n",
        "  download_LRU.append(miss_LRU)\n",
        "  download_FTPL.append(miss_FTPL)\n",
        "  download_LSTM.append(miss_LSTM)\n",
        "\n",
        "  hits_LRU.append(reward_LRUc)\n",
        "  hits_LFU.append(reward_LFUc)\n",
        "  hits_FTPL.append(reward_FTPLc)\n",
        "  hits_LSTM.append(reward_LSTMc)\n",
        "\n",
        "  if t %1000 == 0:\n",
        "    print(t,download_FTPL[t],download_LFU[t],download_LRU[t],download_LSTM[t],hits_FTPL[t],hits_LFU[t],hits_LRU[t],hits_LSTM[t])"
      ],
      "execution_count": 51,
      "outputs": [
        {
          "output_type": "stream",
          "text": [
            "0 15 9 9 9 0.0 0.0 0.0 0.0\n",
            "1000 13274 8376 8422 8147 444.0 416.0 388.0 574.0\n",
            "2000 25863 16748 16839 16317 879.0 834.0 782.0 1141.0\n",
            "3000 37547 25136 25282 24441 1313.0 1222.0 1140.0 1718.0\n",
            "4000 48190 33436 33679 32589 1786.0 1651.0 1527.0 2301.0\n",
            "5000 58053 41763 42085 40642 2214.0 2056.0 1901.0 2922.0\n",
            "6000 67501 50134 50491 48752 2656.0 2455.0 2287.0 3521.0\n",
            "7000 76667 58467 58877 56856 3110.0 2842.0 2693.0 4111.0\n",
            "8000 85510 66881 67332 65002 3496.0 3193.0 3046.0 4686.0\n",
            "9000 94170 75292 75786 73105 3926.0 3569.0 3411.0 5265.0\n",
            "10000 102471 83722 84268 81197 4372.0 3923.0 3744.0 5888.0\n",
            "11000 110585 92097 92707 89344 4801.0 4299.0 4115.0 6460.0\n",
            "12000 118341 100493 101143 97447 5224.0 4654.0 4463.0 7057.0\n",
            "13000 126016 108890 109581 105480 5644.0 5030.0 4825.0 7679.0\n",
            "14000 133728 117270 118017 113614 6076.0 5413.0 5193.0 8251.0\n",
            "15000 141145 125650 126483 121757 6529.0 5795.0 5538.0 8844.0\n",
            "16000 148424 134002 134887 129874 6910.0 6165.0 5927.0 9456.0\n",
            "17000 155789 142417 143370 137957 7330.0 6525.0 6268.0 10072.0\n",
            "18000 162813 150795 151848 146096 7772.0 6921.0 6611.0 10633.0\n",
            "19000 169541 159172 160269 154252 8189.0 7298.0 6973.0 11211.0\n"
          ],
          "name": "stdout"
        }
      ]
    },
    {
      "cell_type": "code",
      "metadata": {
        "id": "u33MS3DDT1CZ",
        "colab_type": "code",
        "colab": {
          "base_uri": "https://localhost:8080/",
          "height": 279
        },
        "outputId": "e953740d-e6f8-4ab9-b039-9caa3a21ff9a"
      },
      "source": [
        "plt.plot(hits_FTPL,'black',label='FTPL')\n",
        "plt.plot(hits_LRU,'green',label='LRU')\n",
        "plt.plot(hits_LFU,'blue',label='LFU')\n",
        "plt.plot(hits_LSTM,'red',label='LSTM')\n",
        "plt.xlabel('T')\n",
        "plt.ylabel('total hits')\n",
        "plt.legend()\n",
        "plt.savefig('Total hits(I=5 J=3 d=2).png')"
      ],
      "execution_count": 52,
      "outputs": [
        {
          "output_type": "display_data",
          "data": {
            "image/png": "[encoded data removed]",
            "text/plain": [
              "<Figure size 432x288 with 1 Axes>"
            ]
          },
          "metadata": {
            "tags": [],
            "needs_background": "light"
          }
        }
      ]
    },
    {
      "cell_type": "code",
      "metadata": {
        "id": "BO6RqcCjt-I0",
        "colab_type": "code",
        "colab": {
          "base_uri": "https://localhost:8080/",
          "height": 279
        },
        "outputId": "7dcac88e-2920-4bc4-8f0f-b8f475b12c88"
      },
      "source": [
        "plt.plot(download_FTPL,'black',label='FTPL')\n",
        "plt.plot(download_LRU,'green',label='LRU')\n",
        "plt.plot(download_LFU,'blue',label='LFU')\n",
        "plt.plot(download_LSTM,'red',label='LSTM')\n",
        "plt.xlabel('T')\n",
        "plt.ylabel('New downloads')\n",
        "plt.legend()\n",
        "plt.savefig('New downloads(I=5 J=3 d=2).png')"
      ],
      "execution_count": 53,
      "outputs": [
        {
          "output_type": "display_data",
          "data": {
            "image/png": "[encoded data removed]",
            "text/plain": [
              "<Figure size 432x288 with 1 Axes>"
            ]
          },
          "metadata": {
            "tags": [],
            "needs_background": "light"
          }
        }
      ]
    },
    {
      "cell_type": "markdown",
      "metadata": {
        "id": "BdHsz8OLbfRt",
        "colab_type": "text"
      },
      "source": [
        "I = 15 J = 10 d = 7"
      ]
    },
    {
      "cell_type": "code",
      "metadata": {
        "id": "2k2iUESfYkec",
        "colab_type": "code",
        "colab": {}
      },
      "source": [
        "I = 15\n",
        "J = 10\n",
        "C = 10\n",
        "degree = 7\n",
        "T = 10000"
      ],
      "execution_count": 54,
      "outputs": []
    },
    {
      "cell_type": "code",
      "metadata": {
        "id": "P6LK3SH5cVIs",
        "colab_type": "code",
        "colab": {
          "base_uri": "https://localhost:8080/",
          "height": 269
        },
        "outputId": "57709f77-6f74-440b-a6f9-c05a94ba0b15"
      },
      "source": [
        "connection = np.zeros((I,J),dtype = int)\n",
        "i = 0\n",
        "for j in range(J):\n",
        "  x = 0\n",
        "  while x < degree:\n",
        "    connection[i,j] = 1\n",
        "    x += 1\n",
        "    i += 1\n",
        "    if i == I:\n",
        "      i = 0\n",
        "connection"
      ],
      "execution_count": 55,
      "outputs": [
        {
          "output_type": "execute_result",
          "data": {
            "text/plain": [
              "array([[1, 0, 1, 0, 1, 0, 1, 0, 1, 0],\n",
              "       [1, 0, 1, 0, 1, 0, 1, 0, 1, 0],\n",
              "       [1, 0, 1, 0, 1, 0, 1, 0, 1, 0],\n",
              "       [1, 0, 1, 0, 1, 0, 1, 0, 0, 1],\n",
              "       [1, 0, 1, 0, 1, 0, 0, 1, 0, 1],\n",
              "       [1, 0, 1, 0, 0, 1, 0, 1, 0, 1],\n",
              "       [1, 0, 0, 1, 0, 1, 0, 1, 0, 1],\n",
              "       [0, 1, 0, 1, 0, 1, 0, 1, 0, 1],\n",
              "       [0, 1, 0, 1, 0, 1, 0, 1, 0, 1],\n",
              "       [0, 1, 0, 1, 0, 1, 0, 1, 0, 1],\n",
              "       [0, 1, 0, 1, 0, 1, 0, 1, 0, 0],\n",
              "       [0, 1, 0, 1, 0, 1, 0, 0, 1, 0],\n",
              "       [0, 1, 0, 1, 0, 0, 1, 0, 1, 0],\n",
              "       [0, 1, 0, 0, 1, 0, 1, 0, 1, 0],\n",
              "       [0, 0, 1, 0, 1, 0, 1, 0, 1, 0]])"
            ]
          },
          "metadata": {
            "tags": []
          },
          "execution_count": 55
        }
      ]
    },
    {
      "cell_type": "code",
      "metadata": {
        "id": "h4UcLkHF6DUJ",
        "colab_type": "code",
        "colab": {}
      },
      "source": [
        "gen_req1 = np.load('/content/drive/My Drive/gen_req.npy')\n",
        "req1 = np.load('/content/drive/My Drive/req.npy')\n",
        "req1 = req1[20000:2005000]\n",
        "gen_req1 = gen_req1[20000:2005000]"
      ],
      "execution_count": 56,
      "outputs": []
    },
    {
      "cell_type": "code",
      "metadata": {
        "id": "UNmrOGVdccUk",
        "colab_type": "code",
        "colab": {
          "base_uri": "https://localhost:8080/",
          "height": 34
        },
        "outputId": "54ed98ad-fd22-47e4-c512-16d8e0aca7ce"
      },
      "source": [
        "req = np.zeros((I,T),dtype = int)\n",
        "for i in range(I):\n",
        "  for j in range(T):\n",
        "    req[i,j] = req1[(i+1)*(j+1) - 1]\n",
        "req.shape"
      ],
      "execution_count": 57,
      "outputs": [
        {
          "output_type": "execute_result",
          "data": {
            "text/plain": [
              "(15, 10000)"
            ]
          },
          "metadata": {
            "tags": []
          },
          "execution_count": 57
        }
      ]
    },
    {
      "cell_type": "code",
      "metadata": {
        "id": "qrLF_GmicgHd",
        "colab_type": "code",
        "colab": {
          "base_uri": "https://localhost:8080/",
          "height": 34
        },
        "outputId": "22bb8352-ec68-4b73-da24-99d7ac304d36"
      },
      "source": [
        "gen_req = np.zeros((I,T),dtype = int)\n",
        "for i in range(I):\n",
        "  for j in range(T):\n",
        "    gen_req[i,j] = gen_req1[(i+1)*(j+1) - 1]\n",
        "gen_req.shape"
      ],
      "execution_count": 58,
      "outputs": [
        {
          "output_type": "execute_result",
          "data": {
            "text/plain": [
              "(15, 10000)"
            ]
          },
          "metadata": {
            "tags": []
          },
          "execution_count": 58
        }
      ]
    },
    {
      "cell_type": "code",
      "metadata": {
        "id": "Oke-J6xqgp0l",
        "colab_type": "code",
        "colab": {
          "base_uri": "https://localhost:8080/",
          "height": 185
        },
        "outputId": "7e195a21-0c39-4178-f476-f5f2c8e64354"
      },
      "source": [
        "y_LRU = np.zeros((J,N),dtype = float)\n",
        "y_LFU = np.zeros((J,N),dtype = float)\n",
        "y_FTPL = np.zeros((J,N),dtype = float)\n",
        "y_LSTM = np.zeros((J,N),dtype = float)\n",
        "y_LSTM[:,:C] = np.ones((J,C),dtype = float)\n",
        "y_FTPL[:,:C] = np.ones((J,C),dtype = float)\n",
        "y_LRU[:,:C] = np.ones((J,C),dtype = float)\n",
        "y_LFU[:,:C] = np.ones((J,C),dtype = float)\n",
        "\n",
        "count = np.zeros((N,I),dtype = float)\n",
        "\n",
        "reward_LSTM =  np.zeros(T)\n",
        "reward_FTPL =  np.zeros(T)\n",
        "reward_LRU =  np.zeros(T)\n",
        "reward_LFU =  np.zeros(T)\n",
        "hits_FTPL =  []\n",
        "hits_LRU =  []\n",
        "hits_LFU =  []\n",
        "hits_LSTM = []\n",
        "download_FTPL =  []\n",
        "download_LRU =  []\n",
        "download_LFU =  []\n",
        "download_LSTM = []\n",
        "miss_LRU =  0\n",
        "miss_LSTM =  0\n",
        "miss_LFU =  0\n",
        "miss_FTPL =  0\n",
        "\n",
        "req_time = np.zeros((N,I),dtype = float) \n",
        "req_time1 = np.zeros((N,I),dtype = float) \n",
        "\n",
        "for t in range(T):\n",
        "  old_FTPL = []\n",
        "  old_LRU = []\n",
        "  old_LFU = []\n",
        "  old_LSTM = []\n",
        "  new_FTPL = []\n",
        "  new_LRU = []\n",
        "  new_LFU = []\n",
        "  new_LSTM = []\n",
        "  for j in range(J):\n",
        "    for k in range(N):\n",
        "      old_LRU.append(y_LRU[j,k])\n",
        "      old_LFU.append(y_LFU[j,k])\n",
        "      old_FTPL.append(y_FTPL[j,k])\n",
        "      old_LSTM.append(y_LSTM[j,k])\n",
        "  x_t1 = np.zeros((N,I),dtype = int)\n",
        "  x_t = np.zeros((N,I),dtype = int)\n",
        "  for i in range(I):\n",
        "    x_t[req[i,t],i] += 1\n",
        "    x_t1[gen_req[i,t],i] += 1\n",
        "    count[int(req[i,t]),i] += 1\n",
        "    req_time[int(req[i,t]),i] = t+1\n",
        "    req_time1[int(gen_req[i,t]),i] = t+1\n",
        "  \n",
        "  ireward_LRU =  np.zeros(I)\n",
        "  ireward_LSTM =  np.zeros(I)\n",
        "  ireward_LFU =  np.zeros(I)\n",
        "  ireward_FTPL =  np.zeros(I)\n",
        "  \n",
        "  for i in range(I):\n",
        "    temp1 = np.zeros(N)\n",
        "    temp2 = np.zeros(N)\n",
        "    temp3 = np.zeros(N)\n",
        "    temp4 = np.zeros(N)\n",
        "    connected_cache = []\n",
        "    for j in range(J):\n",
        "      if connection[i,j] == 1:\n",
        "        connected_cache.append(j)\n",
        "    for k in range(len(connected_cache)):\n",
        "      temp1 += y_FTPL[connected_cache[k],:]\n",
        "      temp2 += y_LFU[connected_cache[k],:]\n",
        "      temp3 += y_LRU[connected_cache[k],:]\n",
        "      temp4 += y_LSTM[connected_cache[k],:]\n",
        "    ireward_FTPL[i] += np.dot(np.minimum(np.ones(N),temp1),x_t[:,i])\n",
        "    ireward_LFU[i] += np.dot(np.minimum(np.ones(N),temp2),x_t[:,i])\n",
        "    ireward_LRU[i] += np.dot(np.minimum(np.ones(N),temp3),x_t[:,i])\n",
        "    ireward_LSTM[i] += np.dot(np.minimum(np.ones(N),temp4),x_t1[:,i])\n",
        "\n",
        "  reward_FTPL[t] =  np.sum(ireward_FTPL)\n",
        "  reward_LRU[t] =  np.sum(ireward_LRU)\n",
        "  reward_LFU[t] =  np.sum(ireward_LFU)\n",
        "  reward_LSTM[t] =  np.sum(ireward_LSTM)\n",
        "  reward_LSTMc = np.sum(reward_LSTM)\n",
        "  reward_FTPLc = np.sum(reward_FTPL)\n",
        "  reward_LRUc = np.sum(reward_LRU)\n",
        "  reward_LFUc = np.sum(reward_LFU)\n",
        "\n",
        "  y_LFU = LFU(y_LFU,x_t,count,connection)\n",
        "  y_LRU = LRU(y_LRU,x_t,req_time,connection)\n",
        "  y_LSTM = LRU(y_LSTM,x_t1,req_time1,connection)\n",
        "\n",
        "  eta = I*pow(4*pi*np.log(N*I),-0.25)*pow((t+1)/(J*degree*C),.5)\n",
        "  perturbed_count=per_count(eta,count)\n",
        "  [y_FTPL,z] = Greedy(connection,perturbed_count)\n",
        "\n",
        "  for j in range(J):\n",
        "    for k in range(N):\n",
        "      new_LRU.append(y_LRU[j,k])\n",
        "      new_LFU.append(y_LFU[j,k])\n",
        "      new_FTPL.append(y_FTPL[j,k])\n",
        "      new_LSTM.append(y_LSTM[j,k])\n",
        "  \n",
        "#  print(old_LRU)\n",
        "  miss_FTPL += (np.sum(np.logical_and(new_FTPL,np.logical_not(old_FTPL))))\n",
        "  miss_LFU += (np.sum(np.logical_and(new_LFU,np.logical_not(old_LFU))))\n",
        "  miss_LRU += (np.sum(np.logical_and(new_LRU,np.logical_not(old_LRU))))\n",
        "  miss_LSTM += (np.sum(np.logical_and(new_LSTM,np.logical_not(old_LSTM))))\n",
        "  download_LFU.append(miss_LFU)\n",
        "  download_LRU.append(miss_LRU)\n",
        "  download_FTPL.append(miss_FTPL)\n",
        "  download_LSTM.append(miss_LSTM)\n",
        "\n",
        "  hits_LRU.append(reward_LRUc)\n",
        "  hits_LFU.append(reward_LFUc)\n",
        "  hits_FTPL.append(reward_FTPLc)\n",
        "  hits_LSTM.append(reward_LSTMc)\n",
        "\n",
        "  if t %1000 == 0:\n",
        "    print(t,download_FTPL[t],download_LFU[t],download_LRU[t],download_LSTM[t],hits_FTPL[t],hits_LFU[t],hits_LRU[t],hits_LSTM[t])"
      ],
      "execution_count": 59,
      "outputs": [
        {
          "output_type": "stream",
          "text": [
            "0 98 65 65 53 1.0 1.0 1.0 0.0\n",
            "1000 66608 60185 60847 58863 3627.0 2792.0 2585.0 3052.0\n",
            "2000 124196 120399 121831 117444 6802.0 5486.0 5139.0 6222.0\n",
            "3000 173523 180639 182770 175700 9912.0 8088.0 7742.0 9425.0\n",
            "4000 216427 240664 243607 234066 12957.0 10693.0 10349.0 12617.0\n",
            "5000 255383 300924 304581 291944 15837.0 13271.0 12910.0 15924.0\n",
            "6000 291467 361163 365637 350642 18730.0 15832.0 15459.0 19046.0\n",
            "7000 324349 421381 426412 408916 21508.0 18458.0 18088.0 22270.0\n",
            "8000 356413 481611 487328 467193 24298.0 21039.0 20682.0 25498.0\n",
            "9000 387304 541865 548362 525182 27064.0 23620.0 23275.0 28689.0\n"
          ],
          "name": "stdout"
        }
      ]
    },
    {
      "cell_type": "code",
      "metadata": {
        "id": "2iv4C7Z09VGe",
        "colab_type": "code",
        "colab": {
          "base_uri": "https://localhost:8080/",
          "height": 279
        },
        "outputId": "67aa0b90-5d3e-4ebc-b396-2f1bad8d6d53"
      },
      "source": [
        "plt.plot(hits_FTPL,'black',label='FTPL')\n",
        "plt.plot(hits_LRU,'green',label='LRU')\n",
        "plt.plot(hits_LFU,'blue',label='LFU')\n",
        "plt.plot(hits_LSTM,'red',label='LSTM')\n",
        "plt.xlabel('T')\n",
        "plt.ylabel('total hits')\n",
        "plt.legend()\n",
        "plt.savefig('Total hits(I=15 J=10 d=7).png')"
      ],
      "execution_count": 60,
      "outputs": [
        {
          "output_type": "display_data",
          "data": {
            "image/png": "[encoded data removed]",
            "text/plain": [
              "<Figure size 432x288 with 1 Axes>"
            ]
          },
          "metadata": {
            "tags": [],
            "needs_background": "light"
          }
        }
      ]
    },
    {
      "cell_type": "code",
      "metadata": {
        "id": "0BUxR46t9YE8",
        "colab_type": "code",
        "colab": {
          "base_uri": "https://localhost:8080/",
          "height": 279
        },
        "outputId": "0a07a594-eec0-495d-99fe-a304ad5ca174"
      },
      "source": [
        "plt.plot(download_FTPL,'black',label='FTPL')\n",
        "plt.plot(download_LRU,'green',label='LRU')\n",
        "plt.plot(download_LFU,'blue',label='LFU')\n",
        "plt.plot(download_LSTM,'red',label='LSTM')\n",
        "plt.xlabel('T')\n",
        "plt.ylabel('new downloads')\n",
        "plt.legend()\n",
        "plt.savefig('New downloads(I=15 J=10 d=7).png')"
      ],
      "execution_count": 61,
      "outputs": [
        {
          "output_type": "display_data",
          "data": {
            "image/png": "[encoded data removed]",
            "text/plain": [
              "<Figure size 432x288 with 1 Axes>"
            ]
          },
          "metadata": {
            "tags": [],
            "needs_background": "light"
          }
        }
      ]
    },
    {
      "cell_type": "code",
      "metadata": {
        "id": "Y3BSdBiwipHp",
        "colab_type": "code",
        "colab": {}
      },
      "source": [
        ""
      ],
      "execution_count": null,
      "outputs": []
    }
  ]
}