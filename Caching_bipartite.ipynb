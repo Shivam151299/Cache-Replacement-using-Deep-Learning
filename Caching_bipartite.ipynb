{
  "nbformat": 4,
  "nbformat_minor": 0,
  "metadata": {
    "colab": {
      "name": "Caching bipartite",
      "provenance": [],
      "collapsed_sections": []
    },
    "kernelspec": {
      "name": "python3",
      "display_name": "Python 3"
    }
  },
  "cells": [
    {
      "cell_type": "code",
      "metadata": {
        "id": "g6dzR9rt_krF",
        "colab_type": "code",
        "colab": {}
      },
      "source": [
        "import numpy as np\n",
        "from numpy import random\n",
        "import matplotlib.pyplot as plt\n",
        "%matplotlib inline"
      ],
      "execution_count": 30,
      "outputs": []
    },
    {
      "cell_type": "code",
      "metadata": {
        "id": "eki7BDaX_RpP",
        "colab_type": "code",
        "colab": {}
      },
      "source": [
        "gen_req1 = np.load('/content/drive/My Drive/gen_req.npy')\n",
        "req1 = np.load('/content/drive/My Drive/req.npy')"
      ],
      "execution_count": 31,
      "outputs": []
    },
    {
      "cell_type": "code",
      "metadata": {
        "id": "lAcMUnr1RECc",
        "colab_type": "code",
        "colab": {
          "base_uri": "https://localhost:8080/",
          "height": 34
        },
        "outputId": "1f7ffabf-78c2-470d-c4f5-c0c6f72901cf"
      },
      "source": [
        "#req1 = req1[20000:2005000]\n",
        "#gen_req1 = gen_req1[20000:2005000]\n",
        "req1.shape,gen_req1.shape"
      ],
      "execution_count": 32,
      "outputs": [
        {
          "output_type": "execute_result",
          "data": {
            "text/plain": [
              "((2005000,), (2255000,))"
            ]
          },
          "metadata": {
            "tags": []
          },
          "execution_count": 32
        }
      ]
    },
    {
      "cell_type": "code",
      "metadata": {
        "id": "SOUAMkThUS-c",
        "colab_type": "code",
        "colab": {}
      },
      "source": [
        "N = 100 # total ids \n",
        "pi = 3.14"
      ],
      "execution_count": 33,
      "outputs": []
    },
    {
      "cell_type": "markdown",
      "metadata": {
        "id": "Av1Kgt5FUF3x",
        "colab_type": "text"
      },
      "source": [
        "LRU"
      ]
    },
    {
      "cell_type": "code",
      "metadata": {
        "id": "IU2Dme6MjK66",
        "colab_type": "code",
        "colab": {}
      },
      "source": [
        "def LRU(y, x, request_time,con):\n",
        "  [N,I] = x.shape\n",
        "  J = len(y)\n",
        "  for j in range(J):\n",
        "    x_t_j = np.zeros(N)\n",
        "    file_req_time = np.zeros(N)\n",
        "\n",
        "    # to find which users are connected to this cache \n",
        "    connected_users = []\n",
        "    for k in range(I):\n",
        "      if con[k,j] == 1:\n",
        "        connected_users.append(k)\n",
        "    for k in range(len(connected_users)):\n",
        "      x_t_j += x[:,connected_users[k]]\n",
        "      file_req_time = np.maximum(file_req_time, request_time[:,connected_users[k]])\n",
        "    x_t_j = np.minimum(np.ones(N),x_t_j)\n",
        "\n",
        "    a1 = np.transpose(np.logical_and(y[j],np.logical_not(np.logical_and(y[j],np.transpose(x_t_j)))))# file which is not requested but still in the cache\n",
        "    b1 = np.transpose(np.logical_and(np.transpose(x_t_j),np.logical_not(np.logical_and(y[j],np.transpose(x_t_j))))) # file requested but not in the cache.\n",
        "    a = np.sum(a1)\n",
        "    b = np.sum(b1)\n",
        "\n",
        "    if a>0 and b>0:\n",
        "      if a>b:\n",
        "        ind = []\n",
        "        for k in range(N):\n",
        "          if a1[k] == 1:\n",
        "            ind.append(k)\n",
        "        t = np.zeros(a)\n",
        "        for k in range(a):\n",
        "          t[k] = file_req_time[ind[k]]\n",
        "        replace = (t).argsort()[:b]\n",
        "        for k in range(b):\n",
        "          y[j,ind[int(replace[k])]] = 0\n",
        "        for k in range(N):\n",
        "          if b1[k] == 1:\n",
        "            y[j,k] = 1\n",
        "      \n",
        "      else:\n",
        "        for k in range(N):\n",
        "          if a1[k] == 1:\n",
        "            y[j,k] = 0\n",
        "        \n",
        "        ind = []\n",
        "        for k in range(N):\n",
        "          if b1[k] == 1:\n",
        "            ind.append(k)\n",
        "        t = np.zeros(b)\n",
        "        for k in range(b):\n",
        "          t[k] = file_req_time[ind[k]]\n",
        "        replace = (t).argsort()[:a]\n",
        "        for k in range(a):\n",
        "          y[j,ind[int(replace[k])]] = 1\n",
        "  return y"
      ],
      "execution_count": 34,
      "outputs": []
    },
    {
      "cell_type": "markdown",
      "metadata": {
        "id": "rlnncX3lUi-6",
        "colab_type": "text"
      },
      "source": [
        "LFU"
      ]
    },
    {
      "cell_type": "code",
      "metadata": {
        "id": "rZKodE159k31",
        "colab_type": "code",
        "colab": {}
      },
      "source": [
        "def LFU(y,x,freq,con):\n",
        "  [N,I] = x.shape\n",
        "  J = len(y)\n",
        "\n",
        "  for j in range(J):\n",
        "    file_freq = np.zeros(N)\n",
        "    x_t_j = np.zeros(N)\n",
        "\n",
        "    # to find which users are connected to this cache \n",
        "    connected_users = []\n",
        "    for k in range(I):\n",
        "      if con[k,j] == 1:\n",
        "        connected_users.append(k)\n",
        "    for k in range(len(connected_users)):\n",
        "      x_t_j += x[:,connected_users[k]]\n",
        "      file_freq += freq[:,connected_users[k]]\n",
        "    x_t_j = np.minimum(np.ones(N),x_t_j)\n",
        "\n",
        "    a1 = np.transpose(np.logical_and(y[j],np.logical_not(np.logical_and(y[j],np.transpose(x_t_j)))))# file which is not requested but still in the cache\n",
        "    b1 = np.transpose(np.logical_and(np.transpose(x_t_j),np.logical_not(np.logical_and(y[j],np.transpose(x_t_j))))) # file requested but not in the cache.\n",
        "    a = np.sum(a1)\n",
        "    b = np.sum(b1)\n",
        "  \n",
        "    if a>0 and b>0:\n",
        "      if a>b:\n",
        "        ind = []\n",
        "        for k in range(N):\n",
        "          if a1[k] == 1:\n",
        "            ind.append(k)\n",
        "        t = np.zeros(a)\n",
        "        for k in range(a):\n",
        "          t[k] = file_freq[ind[k]]\n",
        "        replace = (t).argsort()[:b]\n",
        "        for k in range(b):\n",
        "          y[j,ind[int(replace[k])]] = 0\n",
        "        for k in range(N):\n",
        "          if b1[k] == 1:\n",
        "            y[j,k] = 1\n",
        "      else:\n",
        "        for k in range(N):\n",
        "          if a1[k] == 1:\n",
        "            y[j,k] = 0\n",
        "        ind = []\n",
        "        for k in range(N):\n",
        "          if b1[k] == 1:\n",
        "            ind.append(k)\n",
        "        t = np.zeros(b)\n",
        "        for k in range(b):\n",
        "          t[k] = file_freq[ind[k]]\n",
        "        replace = (t).argsort()[:a]\n",
        "        for k in range(a):\n",
        "          y[j,ind[int(replace[k])]] = 1\n",
        "\n",
        "  return y"
      ],
      "execution_count": 35,
      "outputs": []
    },
    {
      "cell_type": "markdown",
      "metadata": {
        "id": "NxQfsTnXWQyP",
        "colab_type": "text"
      },
      "source": [
        "perturbed count"
      ]
    },
    {
      "cell_type": "code",
      "metadata": {
        "id": "V4d6vCcjWOP7",
        "colab_type": "code",
        "colab": {}
      },
      "source": [
        "def per_count(eta,count):\n",
        "  [N,I] = count.shape\n",
        "  p_count = np.zeros((N,I),dtype = float)\n",
        "  for i in range(I):\n",
        "    p_count[:,i] = count[:,i] + (eta*random.normal(0,1,[N,1])).reshape(N)\n",
        "  return p_count"
      ],
      "execution_count": 36,
      "outputs": []
    },
    {
      "cell_type": "markdown",
      "metadata": {
        "id": "8RkOlMhDjohA",
        "colab_type": "text"
      },
      "source": [
        "SINGLE CACHE"
      ]
    },
    {
      "cell_type": "code",
      "metadata": {
        "id": "ZyC3_Jwrjn5s",
        "colab_type": "code",
        "colab": {
          "base_uri": "https://localhost:8080/",
          "height": 34
        },
        "outputId": "80cc19d1-a013-46b0-b6ea-529f96fbc10d"
      },
      "source": [
        "I = 1 #users\n",
        "T = 200000\n",
        "degree = 1\n",
        "J = 1 #caches\n",
        "C = 5\n",
        "connection = np.array([[1]])\n",
        "connection.shape"
      ],
      "execution_count": 47,
      "outputs": [
        {
          "output_type": "execute_result",
          "data": {
            "text/plain": [
              "(1, 1)"
            ]
          },
          "metadata": {
            "tags": []
          },
          "execution_count": 47
        }
      ]
    },
    {
      "cell_type": "code",
      "metadata": {
        "id": "4Xqi6iqtfnhE",
        "colab_type": "code",
        "colab": {
          "base_uri": "https://localhost:8080/",
          "height": 34
        },
        "outputId": "a1038aed-949f-4ac7-acb7-e7bf2b107794"
      },
      "source": [
        "req = np.zeros((I,T),dtype = int)\n",
        "for i in range(I):\n",
        "  for j in range(T):\n",
        "    req[i,j] = req1[(i+1)*(j+1) - 1]\n",
        "req.shape"
      ],
      "execution_count": 48,
      "outputs": [
        {
          "output_type": "execute_result",
          "data": {
            "text/plain": [
              "(1, 200000)"
            ]
          },
          "metadata": {
            "tags": []
          },
          "execution_count": 48
        }
      ]
    },
    {
      "cell_type": "code",
      "metadata": {
        "id": "7NQUPQz7JvtR",
        "colab_type": "code",
        "colab": {
          "base_uri": "https://localhost:8080/",
          "height": 34
        },
        "outputId": "aa74b9c7-51b6-4220-8122-2d33e554f295"
      },
      "source": [
        "gen_req = np.zeros((I,T),dtype = int)\n",
        "for i in range(I):\n",
        "  for j in range(T):\n",
        "    gen_req[i,j] = gen_req1[(i+1)*(j+1) - 1]\n",
        "gen_req.shape"
      ],
      "execution_count": 49,
      "outputs": [
        {
          "output_type": "execute_result",
          "data": {
            "text/plain": [
              "(1, 200000)"
            ]
          },
          "metadata": {
            "tags": []
          },
          "execution_count": 49
        }
      ]
    },
    {
      "cell_type": "code",
      "metadata": {
        "id": "pWowJlSAki2e",
        "colab_type": "code",
        "colab": {
          "base_uri": "https://localhost:8080/",
          "height": 353
        },
        "outputId": "ef161059-4302-4502-b382-371090db29f8"
      },
      "source": [
        "y_LRU = np.zeros((J,N),dtype = float)\n",
        "y_LFU = np.zeros((J,N),dtype = float)\n",
        "y_FTPL = np.zeros((J,N),dtype = float)\n",
        "y_LSTM = np.zeros((J,N),dtype = float)\n",
        "y_LSTM[:,:C] = np.ones((J,C),dtype = float)\n",
        "y_FTPL[:,:C] = np.ones((J,C),dtype = float)\n",
        "y_LRU[:,:C] = np.ones((J,C),dtype = float)\n",
        "y_LFU[:,:C] = np.ones((J,C),dtype = float)\n",
        "\n",
        "count = np.zeros((N,I),dtype = float)\n",
        "\n",
        "reward_LSTM =  np.zeros(T)\n",
        "reward_FTPL =  np.zeros(T)\n",
        "reward_LRU =  np.zeros(T)\n",
        "reward_LFU =  np.zeros(T)\n",
        "hits_FTPL =  []\n",
        "hits_LRU =  []\n",
        "hits_LFU =  []\n",
        "hits_LSTM = []\n",
        "download_FTPL =  []\n",
        "download_LRU =  []\n",
        "download_LFU =  []\n",
        "download_LSTM = []\n",
        "miss_LRU =  0\n",
        "miss_LSTM =  0\n",
        "miss_LFU =  0\n",
        "miss_FTPL =  0\n",
        "\n",
        "\n",
        "req_time = np.zeros((N,I),dtype = float) \n",
        "req_time1 = np.zeros((N,I),dtype = float) \n",
        "\n",
        "for t in range(T):\n",
        "  old_FTPL = []\n",
        "  old_LRU = []\n",
        "  old_LFU = []\n",
        "  old_LSTM = []\n",
        "  new_FTPL = []\n",
        "  new_LRU = []\n",
        "  new_LFU = []\n",
        "  new_LSTM = []\n",
        "  for j in range(J):\n",
        "    for k in range(N):\n",
        "      old_LRU.append(y_LRU[j,k])\n",
        "      old_LFU.append(y_LFU[j,k])\n",
        "      old_FTPL.append(y_FTPL[j,k])\n",
        "      old_LSTM.append(y_LSTM[j,k])\n",
        "#  print(old_LRU)\n",
        "  x_t1 = np.zeros((N,I),dtype = int)\n",
        "  x_t = np.zeros((N,I),dtype = int)\n",
        "  for i in range(I):\n",
        "    x_t[req[i,t],i] += 1\n",
        "    x_t1[gen_req[i,t],i] += 1\n",
        "    count[int(req[i,t]),i] += 1\n",
        "    req_time[int(req[i,t]),i] = t+1\n",
        "    req_time1[int(gen_req[i,t]),i] = t+1\n",
        "  \n",
        "  ireward_LRU =  np.zeros(I)\n",
        "  ireward_LSTM =  np.zeros(I)\n",
        "  ireward_LFU =  np.zeros(I)\n",
        "  ireward_FTPL =  np.zeros(I)\n",
        "  \n",
        "  for i in range(I):\n",
        "    temp1 = np.zeros(N)\n",
        "    temp2 = np.zeros(N)\n",
        "    temp3 = np.zeros(N)\n",
        "    temp4 = np.zeros(N)\n",
        "    connected_cache = []\n",
        "    for j in range(J):\n",
        "      if connection[i,j] == 1:\n",
        "        connected_cache.append(j)\n",
        "    for k in range(len(connected_cache)):\n",
        "      temp1 += y_FTPL[connected_cache[k],:]\n",
        "      temp2 += y_LFU[connected_cache[k],:]\n",
        "      temp3 += y_LRU[connected_cache[k],:]\n",
        "      temp4 += y_LSTM[connected_cache[k],:]\n",
        "    ireward_FTPL[i] += np.dot(np.minimum(np.ones(N),temp1),x_t[:,i])\n",
        "    ireward_LFU[i] += np.dot(np.minimum(np.ones(N),temp2),x_t[:,i])\n",
        "    ireward_LRU[i] += np.dot(np.minimum(np.ones(N),temp3),x_t[:,i])\n",
        "    ireward_LSTM[i] += np.dot(np.minimum(np.ones(N),temp4),x_t1[:,i])\n",
        "\n",
        "  reward_FTPL[t] =  np.sum(ireward_FTPL)\n",
        "  reward_LRU[t] =  np.sum(ireward_LRU)\n",
        "  reward_LFU[t] =  np.sum(ireward_LFU)\n",
        "  reward_LSTM[t] =  np.sum(ireward_LSTM)\n",
        "  reward_LSTMc = np.sum(reward_LSTM)\n",
        "  reward_FTPLc = np.sum(reward_FTPL)\n",
        "  reward_LRUc = np.sum(reward_LRU)\n",
        "  reward_LFUc = np.sum(reward_LFU)\n",
        "\n",
        "\n",
        "  y_LFU = LFU(y_LFU,x_t,count,connection)\n",
        "  y_LRU = LRU(y_LRU,x_t,req_time,connection)\n",
        "  y_LSTM = LRU(y_LSTM,x_t1,req_time1,connection)\n",
        "\n",
        "  eta = pow(4*pi*np.log(N),-.25)*pow((t+1)/C,.5)\n",
        "  perturbed_count=per_count(eta,count)\n",
        "\n",
        "  add = (-perturbed_count[:,0]).argsort()[:C]\n",
        "  y_FTPL = np.zeros((J,N),dtype = float)\n",
        "  for k in range(len(add)):\n",
        "    y_FTPL[0,int(add[k])] = 1 \n",
        " \n",
        "  for j in range(J):\n",
        "    for k in range(N):\n",
        "      new_LRU.append(y_LRU[j,k])\n",
        "      new_LFU.append(y_LFU[j,k])\n",
        "      new_FTPL.append(y_FTPL[j,k])\n",
        "      new_LSTM.append(y_LSTM[j,k])\n",
        "  \n",
        "#  print(old_LRU)\n",
        "  miss_FTPL += (np.sum(np.logical_and(new_FTPL,np.logical_not(old_FTPL))))\n",
        "  miss_LFU += (np.sum(np.logical_and(new_LFU,np.logical_not(old_LFU))))\n",
        "  miss_LRU += (np.sum(np.logical_and(new_LRU,np.logical_not(old_LRU))))\n",
        "  miss_LSTM += (np.sum(np.logical_and(new_LSTM,np.logical_not(old_LSTM))))\n",
        "  download_LFU.append(miss_LFU)\n",
        "  download_LRU.append(miss_LRU)\n",
        "  download_FTPL.append(miss_FTPL)\n",
        "  download_LSTM.append(miss_LSTM)\n",
        "\n",
        "  hits_LRU.append(reward_LRUc)\n",
        "  hits_LFU.append(reward_LFUc)\n",
        "  hits_FTPL.append(reward_FTPLc)\n",
        "  hits_LSTM.append(reward_LSTMc)\n",
        "\n",
        "  if t %10000 == 0:\n",
        "    print(t,download_FTPL[t],download_LFU[t],download_LRU[t],download_LSTM[t])"
      ],
      "execution_count": 50,
      "outputs": [
        {
          "output_type": "stream",
          "text": [
            "0 5 1 1 1\n",
            "10000 36785 9397 9477 9477\n",
            "20000 63409 18715 18994 18994\n",
            "30000 85461 28029 28465 27616\n",
            "40000 102549 37355 37919 36214\n",
            "50000 117540 46740 47407 44815\n",
            "60000 130446 56073 56865 53412\n",
            "70000 141720 65392 66324 62018\n",
            "80000 152426 74733 75808 70578\n",
            "90000 162430 84087 85340 79217\n",
            "100000 171257 93415 94835 87881\n",
            "110000 179298 102743 104293 96523\n",
            "120000 187359 112087 113766 105147\n",
            "130000 195357 121436 123257 113729\n",
            "140000 203115 130781 132765 122339\n",
            "150000 211242 140113 142275 131006\n",
            "160000 219462 149450 151796 139586\n",
            "170000 227874 158837 161274 148243\n",
            "180000 236287 168149 170803 156913\n",
            "190000 244680 177520 180335 165502\n"
          ],
          "name": "stdout"
        }
      ]
    },
    {
      "cell_type": "code",
      "metadata": {
        "id": "J_3kWL_JCNjX",
        "colab_type": "code",
        "colab": {
          "base_uri": "https://localhost:8080/",
          "height": 279
        },
        "outputId": "a3bb9a17-1e85-4088-fc46-1704e482fefb"
      },
      "source": [
        "plt.plot(hits_FTPL,'black',label='FTPL')\n",
        "plt.plot(hits_LRU,'green',label='LRU')\n",
        "plt.plot(hits_LFU,'blue',label='LFU')\n",
        "plt.plot(hits_LSTM,'red',label='LSTM')\n",
        "plt.xlabel('T')\n",
        "plt.ylabel('Total hits')\n",
        "plt.legend()\n",
        "plt.savefig('Total hits(I=J=1).png')"
      ],
      "execution_count": 53,
      "outputs": [
        {
          "output_type": "display_data",
          "data": {
            "image/png": "[encoded data removed]",
            "text/plain": [
              "<Figure size 432x288 with 1 Axes>"
            ]
          },
          "metadata": {
            "tags": [],
            "needs_background": "light"
          }
        }
      ]
    },
    {
      "cell_type": "code",
      "metadata": {
        "id": "YK-m4yZjrs3l",
        "colab_type": "code",
        "colab": {
          "base_uri": "https://localhost:8080/",
          "height": 279
        },
        "outputId": "6bffc168-ef81-4ea9-89d9-0c3519bc8216"
      },
      "source": [
        "plt.plot(download_FTPL,'black',label='FTPL')\n",
        "plt.plot(download_LRU,'green',label='LRU')\n",
        "plt.plot(download_LFU,'blue',label='LFU')\n",
        "plt.plot(download_LSTM,'red',label='LSTM')\n",
        "plt.xlabel('T')\n",
        "plt.ylabel('New downloads')\n",
        "plt.legend()\n",
        "plt.savefig('New downloads(I=J=1).png')"
      ],
      "execution_count": 54,
      "outputs": [
        {
          "output_type": "display_data",
          "data": {
            "image/png": "[encoded data removed]",
            "text/plain": [
              "<Figure size 432x288 with 1 Axes>"
            ]
          },
          "metadata": {
            "tags": [],
            "needs_background": "light"
          }
        }
      ]
    },
    {
      "cell_type": "markdown",
      "metadata": {
        "id": "Fj30MgQaWN_E",
        "colab_type": "text"
      },
      "source": [
        "I = 5 J = 3 d = 2"
      ]
    },
    {
      "cell_type": "code",
      "metadata": {
        "id": "jA0Kz7jzKJ3G",
        "colab_type": "code",
        "colab": {}
      },
      "source": [
        "C = 5\n",
        "I = 5\n",
        "J = 3\n",
        "degree = 2\n",
        "T = 200000"
      ],
      "execution_count": 14,
      "outputs": []
    },
    {
      "cell_type": "code",
      "metadata": {
        "id": "fkzyLhrGKhB6",
        "colab_type": "code",
        "colab": {
          "base_uri": "https://localhost:8080/",
          "height": 101
        },
        "outputId": "c3dfbd8a-7635-40a5-abab-1337ac19f361"
      },
      "source": [
        "connection = np.zeros((I,J),dtype = int)\n",
        "j = 0\n",
        "for i in range(I):\n",
        "    x = 0\n",
        "    while x < degree:\n",
        "        connection[i,j] = 1\n",
        "        x += 1\n",
        "        j += 1\n",
        "        if j == J:\n",
        "          j = 0\n",
        "connection"
      ],
      "execution_count": 15,
      "outputs": [
        {
          "output_type": "execute_result",
          "data": {
            "text/plain": [
              "array([[1, 1, 0],\n",
              "       [1, 0, 1],\n",
              "       [0, 1, 1],\n",
              "       [1, 1, 0],\n",
              "       [1, 0, 1]])"
            ]
          },
          "metadata": {
            "tags": []
          },
          "execution_count": 15
        }
      ]
    },
    {
      "cell_type": "code",
      "metadata": {
        "id": "TIjWw46mSfxG",
        "colab_type": "code",
        "colab": {}
      },
      "source": [
        "gen_req1 = np.load('/content/drive/My Drive/gen_req.npy')\n",
        "req1 = np.load('/content/drive/My Drive/req.npy')\n",
        "req1 = req1[20000:2005000]\n",
        "gen_req1 = gen_req1[20000:2005000]"
      ],
      "execution_count": 16,
      "outputs": []
    },
    {
      "cell_type": "code",
      "metadata": {
        "id": "DNOrEFxxThnu",
        "colab_type": "code",
        "colab": {
          "base_uri": "https://localhost:8080/",
          "height": 34
        },
        "outputId": "ec19adeb-f4d9-481e-c81c-a26b4cec2272"
      },
      "source": [
        "req = np.zeros((I,T),dtype = int)\n",
        "for i in range(I):\n",
        "  for j in range(T):\n",
        "    req[i,j] = req1[(i+1)*(j+1) - 1]\n",
        "req.shape"
      ],
      "execution_count": 17,
      "outputs": [
        {
          "output_type": "execute_result",
          "data": {
            "text/plain": [
              "(5, 200000)"
            ]
          },
          "metadata": {
            "tags": []
          },
          "execution_count": 17
        }
      ]
    },
    {
      "cell_type": "code",
      "metadata": {
        "id": "DAQ_EHg8TlOp",
        "colab_type": "code",
        "colab": {
          "base_uri": "https://localhost:8080/",
          "height": 34
        },
        "outputId": "eefba475-2535-4fc6-b267-af9cc18239f9"
      },
      "source": [
        "gen_req = np.zeros((I,T),dtype = int)\n",
        "for i in range(I):\n",
        "  for j in range(T):\n",
        "    gen_req[i,j] = gen_req1[(i+1)*(j+1) - 1]\n",
        "gen_req.shape"
      ],
      "execution_count": 18,
      "outputs": [
        {
          "output_type": "execute_result",
          "data": {
            "text/plain": [
              "(5, 200000)"
            ]
          },
          "metadata": {
            "tags": []
          },
          "execution_count": 18
        }
      ]
    },
    {
      "cell_type": "code",
      "metadata": {
        "id": "5U7m8AJ9Sw6B",
        "colab_type": "code",
        "colab": {
          "base_uri": "https://localhost:8080/",
          "height": 353
        },
        "outputId": "8f441719-ce78-4f7a-b4b1-a286aef3eedd"
      },
      "source": [
        "y_LRU = np.zeros((J,N),dtype = float)\n",
        "y_LFU = np.zeros((J,N),dtype = float)\n",
        "y_FTPL = np.zeros((J,N),dtype = float)\n",
        "y_LSTM = np.zeros((J,N),dtype = float)\n",
        "y_LSTM[:,:C] = np.ones((J,C),dtype = float)\n",
        "y_FTPL[:,:C] = np.ones((J,C),dtype = float)\n",
        "y_LRU[:,:C] = np.ones((J,C),dtype = float)\n",
        "y_LFU[:,:C] = np.ones((J,C),dtype = float)\n",
        "\n",
        "count = np.zeros((N,I),dtype = float)\n",
        "\n",
        "reward_LSTM =  np.zeros(T)\n",
        "reward_FTPL =  np.zeros(T)\n",
        "reward_LRU =  np.zeros(T)\n",
        "reward_LFU =  np.zeros(T)\n",
        "hits_FTPL =  []\n",
        "hits_LRU =  []\n",
        "hits_LFU =  []\n",
        "hits_LSTM = []\n",
        "download_FTPL =  []\n",
        "download_LRU =  []\n",
        "download_LFU =  []\n",
        "download_LSTM = []\n",
        "miss_LRU =  0\n",
        "miss_LSTM =  0\n",
        "miss_LFU =  0\n",
        "miss_FTPL =  0\n",
        "\n",
        "\n",
        "req_time = np.zeros((N,I),dtype = float) \n",
        "req_time1 = np.zeros((N,I),dtype = float) \n",
        "\n",
        "for t in range(T):\n",
        "  old_FTPL = []\n",
        "  old_LRU = []\n",
        "  old_LFU = []\n",
        "  old_LSTM = []\n",
        "  new_FTPL = []\n",
        "  new_LRU = []\n",
        "  new_LFU = []\n",
        "  new_LSTM = []\n",
        "  for j in range(J):\n",
        "    for k in range(N):\n",
        "      old_LRU.append(y_LRU[j,k])\n",
        "      old_LFU.append(y_LFU[j,k])\n",
        "      old_FTPL.append(y_FTPL[j,k])\n",
        "      old_LSTM.append(y_LSTM[j,k])\n",
        "#  print(old_LRU)\n",
        "  x_t1 = np.zeros((N,I),dtype = int)\n",
        "  x_t = np.zeros((N,I),dtype = int)\n",
        "  for i in range(I):\n",
        "    x_t[req[i,t],i] += 1\n",
        "    x_t1[gen_req[i,t],i] += 1\n",
        "    count[int(req[i,t]),i] += 1\n",
        "    req_time[int(req[i,t]),i] = t+1\n",
        "    req_time1[int(gen_req[i,t]),i] = t+1\n",
        "  \n",
        "  ireward_LRU =  np.zeros(I)\n",
        "  ireward_LSTM =  np.zeros(I)\n",
        "  ireward_LFU =  np.zeros(I)\n",
        "  ireward_FTPL =  np.zeros(I)\n",
        "  \n",
        "  for i in range(I):\n",
        "    temp1 = np.zeros(N)\n",
        "    temp2 = np.zeros(N)\n",
        "    temp3 = np.zeros(N)\n",
        "    temp4 = np.zeros(N)\n",
        "    connected_cache = []\n",
        "    for j in range(J):\n",
        "      if connection[i,j] == 1:\n",
        "        connected_cache.append(j)\n",
        "    for k in range(len(connected_cache)):\n",
        "      temp1 += y_FTPL[connected_cache[k],:]\n",
        "      temp2 += y_LFU[connected_cache[k],:]\n",
        "      temp3 += y_LRU[connected_cache[k],:]\n",
        "      temp4 += y_LSTM[connected_cache[k],:]\n",
        "    ireward_FTPL[i] += np.dot(np.minimum(np.ones(N),temp1),x_t[:,i])\n",
        "    ireward_LFU[i] += np.dot(np.minimum(np.ones(N),temp2),x_t[:,i])\n",
        "    ireward_LRU[i] += np.dot(np.minimum(np.ones(N),temp3),x_t[:,i])\n",
        "    ireward_LSTM[i] += np.dot(np.minimum(np.ones(N),temp4),x_t1[:,i])\n",
        "\n",
        "  reward_FTPL[t] =  np.sum(ireward_FTPL)\n",
        "  reward_LRU[t] =  np.sum(ireward_LRU)\n",
        "  reward_LFU[t] =  np.sum(ireward_LFU)\n",
        "  reward_LSTM[t] =  np.sum(ireward_LSTM)\n",
        "  reward_LSTMc = np.sum(reward_LSTM)\n",
        "  reward_FTPLc = np.sum(reward_FTPL)\n",
        "  reward_LRUc = np.sum(reward_LRU)\n",
        "  reward_LFUc = np.sum(reward_LFU)\n",
        "\n",
        "\n",
        "  y_LFU = LFU(y_LFU,x_t,count,connection)\n",
        "  y_LRU = LRU(y_LRU,x_t,req_time,connection)\n",
        "  y_LSTM = LRU(y_LSTM,x_t1,req_time1,connection)\n",
        "\n",
        "  eta = pow(4*pi*np.log(N),-.25)*pow((t+1)/C,.5)\n",
        "  perturbed_count=per_count(eta,count)\n",
        "\n",
        "  if t%1== 0:\n",
        "    for j in range(J):\n",
        "      max_FTPL = np.zeros(N)\n",
        "      for f in range(N):\n",
        "        y_FTPL[j,f] = 1\n",
        "        z_FTPL = np.zeros((I,N), dtype = float)\n",
        "        for i in range(I):\n",
        "          for k in range(J):\n",
        "            if connection[i,k] == 1:\n",
        "              z_FTPL[i] += y_FTPL[k]\n",
        "          z_FTPL[i] = np.minimum(np.ones(N),z_FTPL[i].reshape(N))\n",
        "        max_FTPL[f] += np.dot(z_FTPL[i],perturbed_count[:,i])  \n",
        "        y_FTPL[j,f] = 0\n",
        "      f_FTPL = (-max_FTPL).argsort()[:C]\n",
        "      for k in range (C):\n",
        "        y_FTPL[j,f_FTPL[k]] = 1\n",
        "  \n",
        "  for j in range(J):\n",
        "    for k in range(N):\n",
        "      new_LRU.append(y_LRU[j,k])\n",
        "      new_LFU.append(y_LFU[j,k])\n",
        "      new_FTPL.append(y_FTPL[j,k])\n",
        "      new_LSTM.append(y_LSTM[j,k])\n",
        "  \n",
        "#  print(old_LRU)\n",
        "  miss_FTPL += (np.sum(np.logical_and(new_FTPL,np.logical_not(old_FTPL))))\n",
        "  miss_LFU += (np.sum(np.logical_and(new_LFU,np.logical_not(old_LFU))))\n",
        "  miss_LRU += (np.sum(np.logical_and(new_LRU,np.logical_not(old_LRU))))\n",
        "  miss_LSTM += (np.sum(np.logical_and(new_LSTM,np.logical_not(old_LSTM))))\n",
        "  download_LFU.append(miss_LFU)\n",
        "  download_LRU.append(miss_LRU)\n",
        "  download_FTPL.append(miss_FTPL)\n",
        "  download_LSTM.append(miss_LSTM)\n",
        "\n",
        "  hits_LRU.append(reward_LRUc)\n",
        "  hits_LFU.append(reward_LFUc)\n",
        "  hits_FTPL.append(reward_FTPLc)\n",
        "  hits_LSTM.append(reward_LSTMc)\n",
        "\n",
        "  if t %10000 == 0:\n",
        "    print(t,download_FTPL[t],download_LFU[t],download_LRU[t],download_LSTM[t])"
      ],
      "execution_count": 19,
      "outputs": [
        {
          "output_type": "stream",
          "text": [
            "0 14 10 10 10\n",
            "10000 67700 93041 93562 90026\n",
            "20000 132444 186193 187241 180017\n",
            "30000 195130 279377 281086 270289\n",
            "40000 258694 372653 374997 360778\n",
            "50000 323115 465691 468759 451107\n",
            "60000 387486 558757 562540 541361\n",
            "70000 452539 651992 656383 631571\n",
            "80000 517530 745064 749999 721779\n",
            "90000 582026 838110 843716 811958\n",
            "100000 646265 931037 937520 902183\n",
            "110000 710651 1024002 1031131 992343\n",
            "120000 774787 1116902 1124730 1082574\n",
            "130000 839103 1209817 1218341 1172736\n",
            "140000 904431 1302881 1312112 1262727\n",
            "150000 969478 1395711 1405716 1352934\n",
            "160000 1034000 1488518 1499369 1443357\n",
            "170000 1098723 1581649 1593232 1533395\n",
            "180000 1163135 1674823 1686953 1623642\n",
            "190000 1227504 1767896 1780607 1713751\n"
          ],
          "name": "stdout"
        }
      ]
    },
    {
      "cell_type": "code",
      "metadata": {
        "id": "u33MS3DDT1CZ",
        "colab_type": "code",
        "colab": {
          "base_uri": "https://localhost:8080/",
          "height": 279
        },
        "outputId": "373957f4-337d-4278-d7ec-f6d1d6d51a10"
      },
      "source": [
        "plt.plot(hits_FTPL,'black',label='FTPL')\n",
        "plt.plot(hits_LRU,'green',label='LRU')\n",
        "plt.plot(hits_LFU,'blue',label='LFU')\n",
        "plt.plot(hits_LSTM,'red',label='LSTM')\n",
        "plt.xlabel('T')\n",
        "plt.ylabel('total hits')\n",
        "plt.legend()\n",
        "plt.savefig('Total hits(I=5 J=3 d=2).png')"
      ],
      "execution_count": 20,
      "outputs": [
        {
          "output_type": "display_data",
          "data": {
            "image/png": "[encoded data removed]",
            "text/plain": [
              "<Figure size 432x288 with 1 Axes>"
            ]
          },
          "metadata": {
            "tags": [],
            "needs_background": "light"
          }
        }
      ]
    },
    {
      "cell_type": "code",
      "metadata": {
        "id": "BO6RqcCjt-I0",
        "colab_type": "code",
        "colab": {
          "base_uri": "https://localhost:8080/",
          "height": 290
        },
        "outputId": "03e651f1-c2b4-4bfb-989b-6450807f6dd1"
      },
      "source": [
        "plt.plot(download_FTPL,'black',label='FTPL')\n",
        "plt.plot(download_LRU,'green',label='LRU')\n",
        "plt.plot(download_LFU,'blue',label='LFU')\n",
        "plt.plot(download_LSTM,'red',label='LSTM')\n",
        "plt.xlabel('T')\n",
        "plt.ylabel('New downloads')\n",
        "plt.legend()\n",
        "plt.savefig('New downloads(I=5 J=3 d=2).png')"
      ],
      "execution_count": 21,
      "outputs": [
        {
          "output_type": "display_data",
          "data": {
            "image/png": "[encoded data removed]",
            "text/plain": [
              "<Figure size 432x288 with 1 Axes>"
            ]
          },
          "metadata": {
            "tags": [],
            "needs_background": "light"
          }
        }
      ]
    },
    {
      "cell_type": "markdown",
      "metadata": {
        "id": "BdHsz8OLbfRt",
        "colab_type": "text"
      },
      "source": [
        "I = 15 J = 10 d = 7"
      ]
    },
    {
      "cell_type": "code",
      "metadata": {
        "id": "2k2iUESfYkec",
        "colab_type": "code",
        "colab": {}
      },
      "source": [
        "I = 15\n",
        "J = 10\n",
        "C = 10\n",
        "degree = 7\n",
        "T = 10000"
      ],
      "execution_count": 22,
      "outputs": []
    },
    {
      "cell_type": "code",
      "metadata": {
        "id": "P6LK3SH5cVIs",
        "colab_type": "code",
        "colab": {}
      },
      "source": [
        "connection = np.zeros((I,J),dtype = int)\n",
        "j = 0\n",
        "for i in range(I):\n",
        "    x = 0\n",
        "    while x < degree:\n",
        "        connection[i,j] = 1\n",
        "        x += 1\n",
        "        j += 1\n",
        "        if j == J:\n",
        "          j = 0"
      ],
      "execution_count": 23,
      "outputs": []
    },
    {
      "cell_type": "code",
      "metadata": {
        "id": "UNmrOGVdccUk",
        "colab_type": "code",
        "colab": {
          "base_uri": "https://localhost:8080/",
          "height": 34
        },
        "outputId": "790e3514-3ea1-4971-ee4d-36670d6c2230"
      },
      "source": [
        "req = np.zeros((I,T),dtype = int)\n",
        "for i in range(I):\n",
        "  for j in range(T):\n",
        "    req[i,j] = req1[(i+1)*(j+1) - 1]\n",
        "req.shape"
      ],
      "execution_count": 24,
      "outputs": [
        {
          "output_type": "execute_result",
          "data": {
            "text/plain": [
              "(15, 10000)"
            ]
          },
          "metadata": {
            "tags": []
          },
          "execution_count": 24
        }
      ]
    },
    {
      "cell_type": "code",
      "metadata": {
        "id": "qrLF_GmicgHd",
        "colab_type": "code",
        "colab": {
          "base_uri": "https://localhost:8080/",
          "height": 34
        },
        "outputId": "86e5747e-c35d-48bc-a114-adf8c3fe319b"
      },
      "source": [
        "gen_req = np.zeros((I,T),dtype = int)\n",
        "for i in range(I):\n",
        "  for j in range(T):\n",
        "    gen_req[i,j] = gen_req1[(i+1)*(j+1) - 1]\n",
        "gen_req.shape"
      ],
      "execution_count": 25,
      "outputs": [
        {
          "output_type": "execute_result",
          "data": {
            "text/plain": [
              "(15, 10000)"
            ]
          },
          "metadata": {
            "tags": []
          },
          "execution_count": 25
        }
      ]
    },
    {
      "cell_type": "code",
      "metadata": {
        "id": "Oke-J6xqgp0l",
        "colab_type": "code",
        "colab": {
          "base_uri": "https://localhost:8080/",
          "height": 185
        },
        "outputId": "e77f4fc3-7c12-431c-bd53-1b31abf36daf"
      },
      "source": [
        "y_LRU = np.zeros((J,N),dtype = float)\n",
        "y_LFU = np.zeros((J,N),dtype = float)\n",
        "y_FTPL = np.zeros((J,N),dtype = float)\n",
        "y_LSTM = np.zeros((J,N),dtype = float)\n",
        "y_LSTM[:,:C] = np.ones((J,C),dtype = float)\n",
        "y_FTPL[:,:C] = np.ones((J,C),dtype = float)\n",
        "y_LRU[:,:C] = np.ones((J,C),dtype = float)\n",
        "y_LFU[:,:C] = np.ones((J,C),dtype = float)\n",
        "\n",
        "count = np.zeros((N,I),dtype = float)\n",
        "\n",
        "reward_LSTM =  np.zeros(T)\n",
        "reward_FTPL =  np.zeros(T)\n",
        "reward_LRU =  np.zeros(T)\n",
        "reward_LFU =  np.zeros(T)\n",
        "hits_FTPL =  []\n",
        "hits_LRU =  []\n",
        "hits_LFU =  []\n",
        "hits_LSTM = []\n",
        "download_FTPL =  []\n",
        "download_LRU =  []\n",
        "download_LFU =  []\n",
        "download_LSTM = []\n",
        "miss_LRU =  0\n",
        "miss_LSTM =  0\n",
        "miss_LFU =  0\n",
        "miss_FTPL =  0\n",
        "req_time = np.zeros((N,I),dtype = float) \n",
        "req_time1 = np.zeros((N,I),dtype = float) \n",
        "\n",
        "for t in range(T):\n",
        "  old_FTPL = []\n",
        "  old_LRU = []\n",
        "  old_LFU = []\n",
        "  old_LSTM = []\n",
        "  new_FTPL = []\n",
        "  new_LRU = []\n",
        "  new_LFU = []\n",
        "  new_LSTM = []\n",
        "  for j in range(J):\n",
        "    for k in range(N):\n",
        "      old_LRU.append(y_LRU[j,k])\n",
        "      old_LFU.append(y_LFU[j,k])\n",
        "      old_FTPL.append(y_FTPL[j,k])\n",
        "      old_LSTM.append(y_LSTM[j,k])\n",
        "#  print(old_LRU)\n",
        "  x_t1 = np.zeros((N,I),dtype = int)\n",
        "  x_t = np.zeros((N,I),dtype = int)\n",
        "  for i in range(I):\n",
        "    x_t[req[i,t],i] += 1\n",
        "    x_t1[gen_req[i,t],i] += 1\n",
        "    count[int(req[i,t]),i] += 1\n",
        "    req_time[int(req[i,t]),i] = t+1\n",
        "    req_time1[int(gen_req[i,t]),i] = t+1\n",
        "  \n",
        "  ireward_LRU =  np.zeros(I)\n",
        "  ireward_LSTM =  np.zeros(I)\n",
        "  ireward_LFU =  np.zeros(I)\n",
        "  ireward_FTPL =  np.zeros(I)\n",
        "  \n",
        "  for i in range(I):\n",
        "    temp1 = np.zeros(N)\n",
        "    temp2 = np.zeros(N)\n",
        "    temp3 = np.zeros(N)\n",
        "    temp4 = np.zeros(N)\n",
        "    connected_cache = []\n",
        "    for j in range(J):\n",
        "      if connection[i,j] == 1:\n",
        "        connected_cache.append(j)\n",
        "    for k in range(len(connected_cache)):\n",
        "      temp1 += y_FTPL[connected_cache[k],:]\n",
        "      temp2 += y_LFU[connected_cache[k],:]\n",
        "      temp3 += y_LRU[connected_cache[k],:]\n",
        "      temp4 += y_LSTM[connected_cache[k],:]\n",
        "    ireward_FTPL[i] += np.dot(np.minimum(np.ones(N),temp1),x_t[:,i])\n",
        "    ireward_LFU[i] += np.dot(np.minimum(np.ones(N),temp2),x_t[:,i])\n",
        "    ireward_LRU[i] += np.dot(np.minimum(np.ones(N),temp3),x_t[:,i])\n",
        "    ireward_LSTM[i] += np.dot(np.minimum(np.ones(N),temp4),x_t1[:,i])\n",
        "\n",
        "  reward_FTPL[t] =  np.sum(ireward_FTPL)\n",
        "  reward_LRU[t] =  np.sum(ireward_LRU)\n",
        "  reward_LFU[t] =  np.sum(ireward_LFU)\n",
        "  reward_LSTM[t] =  np.sum(ireward_LSTM)\n",
        "  reward_LSTMc = np.sum(reward_LSTM)\n",
        "  reward_FTPLc = np.sum(reward_FTPL)\n",
        "  reward_LRUc = np.sum(reward_LRU)\n",
        "  reward_LFUc = np.sum(reward_LFU)\n",
        "\n",
        "\n",
        "  y_LFU = LFU(y_LFU,x_t,count,connection)\n",
        "  y_LRU = LRU(y_LRU,x_t,req_time,connection)\n",
        "  y_LSTM = LRU(y_LSTM,x_t1,req_time1,connection)\n",
        "\n",
        "  eta = pow(4*pi*np.log(N),-.25)*pow((t+1)/C,.5)\n",
        "  perturbed_count=per_count(eta,count)\n",
        "\n",
        "  if t%1 == 0:\n",
        "    for j in range(J):\n",
        "      max_FTPL = np.zeros(N)\n",
        "      for f in range(N):\n",
        "        y_FTPL[j,f] = 1\n",
        "        z_FTPL = np.zeros((I,N), dtype = float)\n",
        "        for i in range(I):\n",
        "          for k in range(J):\n",
        "            if connection[i,k] == 1:\n",
        "              z_FTPL[i] += y_FTPL[k]\n",
        "          z_FTPL[i] = np.minimum(np.ones(N),z_FTPL[i].reshape(N))\n",
        "        max_FTPL[f] += np.dot(z_FTPL[i],perturbed_count[:,i])  \n",
        "        y_FTPL[j,f] = 0\n",
        "      f_FTPL = (-max_FTPL).argsort()[:C]\n",
        "      for k in range (C):\n",
        "        y_FTPL[j,f_FTPL[k]] = 1\n",
        "  \n",
        "  for j in range(J):\n",
        "    for k in range(N):\n",
        "      new_LRU.append(y_LRU[j,k])\n",
        "      new_LFU.append(y_LFU[j,k])\n",
        "      new_FTPL.append(y_FTPL[j,k])\n",
        "      new_LSTM.append(y_LSTM[j,k])\n",
        "  \n",
        "#  print(old_LRU)\n",
        "  miss_FTPL += (np.sum(np.logical_and(new_FTPL,np.logical_not(old_FTPL))))\n",
        "  miss_LFU += (np.sum(np.logical_and(new_LFU,np.logical_not(old_LFU))))\n",
        "  miss_LRU += (np.sum(np.logical_and(new_LRU,np.logical_not(old_LRU))))\n",
        "  miss_LSTM += (np.sum(np.logical_and(new_LSTM,np.logical_not(old_LSTM))))\n",
        "  download_LFU.append(miss_LFU)\n",
        "  download_LRU.append(miss_LRU)\n",
        "  download_FTPL.append(miss_FTPL)\n",
        "  download_LSTM.append(miss_LSTM)\n",
        "\n",
        "  hits_LRU.append(reward_LRUc)\n",
        "  hits_LFU.append(reward_LFUc)\n",
        "  hits_FTPL.append(reward_FTPLc)\n",
        "  hits_LSTM.append(reward_LSTMc)\n",
        "\n",
        "  if t %1000 == 0:\n",
        "    print(t,hits_FTPL[t],hits_LFU[t],hits_LRU[t],hits_LSTM[t],download_FTPL[t],download_LFU[t],download_LRU[t],download_LSTM[t])"
      ],
      "execution_count": 27,
      "outputs": [
        {
          "output_type": "stream",
          "text": [
            "0 1.0 1.0 1.0 0.0 90 86 86 60\n",
            "1000 7244.0 2335.0 2273.0 2743.0 57860 87136 87167 84131\n",
            "2000 14412.0 4664.0 4527.0 5571.0 114828 174248 174311 167906\n",
            "3000 21580.0 6996.0 6826.0 8408.0 172328 261496 261493 251709\n",
            "4000 28680.0 9322.0 9089.0 11248.0 229373 348538 348603 335254\n",
            "5000 35764.0 11608.0 11327.0 14171.0 286291 435653 435654 418302\n",
            "6000 42961.0 13926.0 13588.0 16946.0 343343 522790 522855 502187\n",
            "7000 50154.0 16306.0 15949.0 19798.0 400211 609609 609674 585837\n",
            "8000 57418.0 18685.0 18247.0 22673.0 457144 696493 696544 669359\n",
            "9000 64536.0 21011.0 20507.0 25536.0 514068 783627 783684 752517\n"
          ],
          "name": "stdout"
        }
      ]
    },
    {
      "cell_type": "code",
      "metadata": {
        "id": "2iv4C7Z09VGe",
        "colab_type": "code",
        "colab": {
          "base_uri": "https://localhost:8080/",
          "height": 279
        },
        "outputId": "b9d48676-0051-4e8b-d985-776bd45185de"
      },
      "source": [
        "plt.plot(hits_FTPL,'black',label='FTPL')\n",
        "plt.plot(hits_LRU,'green',label='LRU')\n",
        "plt.plot(hits_LFU,'blue',label='LFU')\n",
        "plt.plot(hits_LSTM,'red',label='LSTM')\n",
        "plt.xlabel('T')\n",
        "plt.ylabel('total hits')\n",
        "plt.legend()\n",
        "plt.savefig('Total hits(I=15 J=10 d=7).png')"
      ],
      "execution_count": 28,
      "outputs": [
        {
          "output_type": "display_data",
          "data": {
            "image/png": "[encoded data removed]",
            "text/plain": [
              "<Figure size 432x288 with 1 Axes>"
            ]
          },
          "metadata": {
            "tags": [],
            "needs_background": "light"
          }
        }
      ]
    },
    {
      "cell_type": "code",
      "metadata": {
        "id": "0BUxR46t9YE8",
        "colab_type": "code",
        "colab": {
          "base_uri": "https://localhost:8080/",
          "height": 279
        },
        "outputId": "65abca5c-c88f-4730-e07a-85d76d3a0bf8"
      },
      "source": [
        "plt.plot(download_FTPL,'black',label='FTPL')\n",
        "plt.plot(download_LRU,'green',label='LRU')\n",
        "plt.plot(download_LFU,'blue',label='LFU')\n",
        "plt.plot(download_LSTM,'red',label='LSTM')\n",
        "plt.xlabel('T')\n",
        "plt.ylabel('new downloads')\n",
        "plt.legend()\n",
        "plt.savefig('New downloads(I=15 J=10 d=7).png')"
      ],
      "execution_count": 29,
      "outputs": [
        {
          "output_type": "display_data",
          "data": {
            "image/png": "[encoded data removed]",
            "text/plain": [
              "<Figure size 432x288 with 1 Axes>"
            ]
          },
          "metadata": {
            "tags": [],
            "needs_background": "light"
          }
        }
      ]
    },
    {
      "cell_type": "code",
      "metadata": {
        "id": "3IUNmYL4sKgY",
        "colab_type": "code",
        "colab": {}
      },
      "source": [
        ""
      ],
      "execution_count": null,
      "outputs": []
    }
  ]
}