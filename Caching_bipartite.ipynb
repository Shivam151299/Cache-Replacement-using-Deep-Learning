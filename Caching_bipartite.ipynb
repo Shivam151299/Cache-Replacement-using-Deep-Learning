{
  "nbformat": 4,
  "nbformat_minor": 0,
  "metadata": {
    "colab": {
      "name": "Caching bipartite",
      "provenance": [],
      "collapsed_sections": []
    },
    "kernelspec": {
      "name": "python3",
      "display_name": "Python 3"
    }
  },
  "cells": [
    {
      "cell_type": "code",
      "metadata": {
        "id": "g6dzR9rt_krF",
        "colab_type": "code",
        "colab": {}
      },
      "source": [
        "import numpy as np\n",
        "from numpy import random\n",
        "import matplotlib.pyplot as plt\n",
        "%matplotlib inline"
      ],
      "execution_count": 1,
      "outputs": []
    },
    {
      "cell_type": "code",
      "metadata": {
        "id": "eki7BDaX_RpP",
        "colab_type": "code",
        "colab": {}
      },
      "source": [
        "gen_req1 = np.load('/content/drive/My Drive/gen_req.npy')\n",
        "req1 = np.load('/content/drive/My Drive/req.npy')"
      ],
      "execution_count": 5,
      "outputs": []
    },
    {
      "cell_type": "code",
      "metadata": {
        "id": "lAcMUnr1RECc",
        "colab_type": "code",
        "colab": {
          "base_uri": "https://localhost:8080/",
          "height": 34
        },
        "outputId": "cbbeffd4-52ab-4280-8828-e4df5433d0a2"
      },
      "source": [
        "#req1 = req1[20000:2005000]\n",
        "#gen_req1 = gen_req1[20000:2005000]\n",
        "req1.shape,gen_req1.shape"
      ],
      "execution_count": 6,
      "outputs": [
        {
          "output_type": "execute_result",
          "data": {
            "text/plain": [
              "((2005000,), (2255000,))"
            ]
          },
          "metadata": {
            "tags": []
          },
          "execution_count": 6
        }
      ]
    },
    {
      "cell_type": "code",
      "metadata": {
        "id": "SOUAMkThUS-c",
        "colab_type": "code",
        "colab": {}
      },
      "source": [
        "N = 100 # total ids \n",
        "pi = 3.14"
      ],
      "execution_count": 7,
      "outputs": []
    },
    {
      "cell_type": "markdown",
      "metadata": {
        "id": "Av1Kgt5FUF3x",
        "colab_type": "text"
      },
      "source": [
        "LRU"
      ]
    },
    {
      "cell_type": "code",
      "metadata": {
        "id": "IU2Dme6MjK66",
        "colab_type": "code",
        "colab": {}
      },
      "source": [
        "def LRU(y, x, request_time,con):\n",
        "  [N,I] = x.shape\n",
        "  J = len(y)\n",
        "  old = y.reshape(J*N).copy()\n",
        "  for j in range(J):\n",
        "    x_t_j = np.zeros((N),int)\n",
        "    file_req_time = np.zeros((N),int)\n",
        "\n",
        "    # to find which users are connected to this cache \n",
        "    connected_users = []\n",
        "    for k in range(I):\n",
        "      if con[k,j] == 1:\n",
        "        connected_users.append(k)\n",
        "    for k in range(len(connected_users)):\n",
        "      x_t_j += x[:,connected_users[k]]\n",
        "      file_req_time = np.maximum(file_req_time, request_time[:,connected_users[k]])\n",
        "    x_t_j = np.minimum(np.ones(N),x_t_j)\n",
        "\n",
        "    a1 = np.transpose(np.logical_and(y[j],np.logical_not(np.logical_and(y[j],np.transpose(x_t_j)))))# file which is not requested but still in the cache\n",
        "    b1 = np.transpose(np.logical_and(np.transpose(x_t_j),np.logical_not(np.logical_and(y[j],np.transpose(x_t_j))))) # file requested but not in the cache.\n",
        "    a = np.sum(a1)\n",
        "    b = np.sum(b1)\n",
        "\n",
        "    if a>0 and b>0:\n",
        "      if a>b:\n",
        "        ind = []\n",
        "        for k in range(N):\n",
        "          if a1[k] == 1:\n",
        "            ind.append(k)\n",
        "        t = np.zeros(a)\n",
        "        for k in range(a):\n",
        "          t[k] = file_req_time[ind[k]]\n",
        "        replace = (t).argsort()[:b]\n",
        "        for k in range(b):\n",
        "          y[j,ind[int(replace[k])]] = 0\n",
        "        for k in range(N):\n",
        "          if b1[k] == 1:\n",
        "            y[j,k] = 1\n",
        "      \n",
        "      else:\n",
        "        for k in range(N):\n",
        "          if a1[k] == 1:\n",
        "            y[j,k] = 0\n",
        "        ind = []\n",
        "        for k in range(N):\n",
        "          if b1[k] == 1:\n",
        "            ind.append(k)\n",
        "        for k in range(a):\n",
        "          y[j,ind[k]] = 1\n",
        "  new = y.reshape(J*N)\n",
        "  download = np.sum(np.logical_and(new,np.logical_not(old)))\n",
        "  return y,download"
      ],
      "execution_count": 8,
      "outputs": []
    },
    {
      "cell_type": "markdown",
      "metadata": {
        "id": "rlnncX3lUi-6",
        "colab_type": "text"
      },
      "source": [
        "LFU"
      ]
    },
    {
      "cell_type": "code",
      "metadata": {
        "id": "rZKodE159k31",
        "colab_type": "code",
        "colab": {}
      },
      "source": [
        "def LFU(y,x,freq,con):\n",
        "  [N,I] = x.shape\n",
        "  J = len(y)\n",
        "  old = y.reshape(J*N).copy()\n",
        "  for j in range(J):\n",
        "    file_freq = np.zeros((N),int)\n",
        "    x_t_j = np.zeros((N),int)\n",
        "\n",
        "    # to find which users are connected to this cache \n",
        "    connected_users = []\n",
        "    for k in range(I):\n",
        "      if con[k,j] == 1:\n",
        "        connected_users.append(k)\n",
        "    for k in range(len(connected_users)):\n",
        "      x_t_j += x[:,connected_users[k]]\n",
        "      file_freq += freq[:,connected_users[k]]\n",
        "    x_t_j = np.minimum(np.ones(N),x_t_j)\n",
        "\n",
        "    a1 = np.transpose(np.logical_and(y[j],np.logical_not(np.logical_and(y[j],np.transpose(x_t_j)))))# file which is not requested but still in the cache\n",
        "    b1 = np.transpose(np.logical_and(np.transpose(x_t_j),np.logical_not(np.logical_and(y[j],np.transpose(x_t_j))))) # file requested but not in the cache.\n",
        "    a = np.sum(a1)\n",
        "    b = np.sum(b1)\n",
        "  \n",
        "    if a>0 and b>0:\n",
        "      if a>b:\n",
        "        ind = []\n",
        "        for k in range(N):\n",
        "          if a1[k] == 1:\n",
        "            ind.append(k)\n",
        "        t = np.zeros(a)\n",
        "        for k in range(a):\n",
        "          t[k] = file_freq[ind[k]]\n",
        "        replace = (t).argsort()[:b]\n",
        "        for k in range(b):\n",
        "          y[j,ind[int(replace[k])]] = 0\n",
        "        for k in range(N):\n",
        "          if b1[k] == 1:\n",
        "            y[j,k] = 1\n",
        "      else:\n",
        "        for k in range(N):\n",
        "          if a1[k] == 1:\n",
        "            y[j,k] = 0\n",
        "        ind = []\n",
        "        for k in range(N):\n",
        "          if b1[k] == 1:\n",
        "            ind.append(k)\n",
        "        for k in range(a):\n",
        "          y[j,ind[k]] = 1\n",
        "  new = y.reshape(J*N)\n",
        "  download = np.sum(np.logical_and(new,np.logical_not(old)))\n",
        "  return y,download"
      ],
      "execution_count": 9,
      "outputs": []
    },
    {
      "cell_type": "markdown",
      "metadata": {
        "id": "NxQfsTnXWQyP",
        "colab_type": "text"
      },
      "source": [
        "perturbed count"
      ]
    },
    {
      "cell_type": "code",
      "metadata": {
        "id": "V4d6vCcjWOP7",
        "colab_type": "code",
        "colab": {}
      },
      "source": [
        "def per_count(eta,count):\n",
        "  [N,I] = count.shape\n",
        "  p_count = np.zeros((N,I),dtype = 'f4')\n",
        "  for i in range(I):\n",
        "    p_count[:,i] = count[:,i] + np.round(np.multiply(eta, random.normal(0,1,[N,1])).reshape(N),4)\n",
        "  return p_count"
      ],
      "execution_count": 10,
      "outputs": []
    },
    {
      "cell_type": "markdown",
      "metadata": {
        "id": "WIbLBZBYswP8",
        "colab_type": "text"
      },
      "source": [
        "GREEDY"
      ]
    },
    {
      "cell_type": "code",
      "metadata": {
        "id": "plLnprjKsv75",
        "colab_type": "code",
        "colab": {}
      },
      "source": [
        "def Greedy(con,count):\n",
        "  [I,J] = con.shape\n",
        "  [N,I] = count.shape\n",
        "  load = np.zeros((1,J),dtype = int)\n",
        "\n",
        "  for i in range(I):\n",
        "    for f in range(N):\n",
        "      if count[f,i] < 0:\n",
        "        count[f,i] = 0\n",
        "  \n",
        "  loadc = 0\n",
        "  y = np.zeros((J,N),dtype = int)\n",
        "  z = np.zeros((I,N),dtype = 'f4')\n",
        "  mark = np.zeros((I,N),dtype = int)\n",
        "\n",
        "  while(loadc < J):\n",
        "    best_cache = -1\n",
        "    best_file = -1\n",
        "    best_imp = -1\n",
        "\n",
        "    for j in range(J):\n",
        "      if load[0,j] < C:\n",
        "        for f in range(N):\n",
        "          if y[j,f] != 1:\n",
        "            imp = 0\n",
        "\n",
        "            for i in range(I):\n",
        "              if con[i,j] == 1 and mark[i,f] == 0:\n",
        "                imp += count[f,i]\n",
        "\n",
        "            if imp >= best_imp:\n",
        "              best_cache = j\n",
        "              best_file = f\n",
        "              best_imp = imp\n",
        "\n",
        "    y[best_cache,best_file] = 1\n",
        "\n",
        "    for i in range(I):\n",
        "      if con[i,best_cache] == 1:\n",
        "        mark[i,best_file] = 1\n",
        "\n",
        "    load[0,best_cache] += 1\n",
        "    if load[0,best_cache] == C:\n",
        "      loadc += 1\n",
        "  \n",
        "  for i in range(I):\n",
        "    for f in range(N):\n",
        "      for j in range(J):\n",
        "        if con[i,j] == 1:\n",
        "          z[i,f] = np.maximum(y[j,f],z[i,f])\n",
        "      \n",
        "  return y,z"
      ],
      "execution_count": 24,
      "outputs": []
    },
    {
      "cell_type": "markdown",
      "metadata": {
        "id": "8RkOlMhDjohA",
        "colab_type": "text"
      },
      "source": [
        "SINGLE CACHE"
      ]
    },
    {
      "cell_type": "code",
      "metadata": {
        "id": "ZyC3_Jwrjn5s",
        "colab_type": "code",
        "colab": {
          "base_uri": "https://localhost:8080/",
          "height": 34
        },
        "outputId": "e0a46996-93ec-4a3c-cad0-0f9a76539d1a"
      },
      "source": [
        "I = 1 #users\n",
        "T = 100000\n",
        "degree = 1\n",
        "J = 1 #caches\n",
        "C = 5\n",
        "connection = np.array([[1]])\n",
        "connection.shape"
      ],
      "execution_count": 12,
      "outputs": [
        {
          "output_type": "execute_result",
          "data": {
            "text/plain": [
              "(1, 1)"
            ]
          },
          "metadata": {
            "tags": []
          },
          "execution_count": 12
        }
      ]
    },
    {
      "cell_type": "code",
      "metadata": {
        "id": "4Xqi6iqtfnhE",
        "colab_type": "code",
        "colab": {
          "base_uri": "https://localhost:8080/",
          "height": 34
        },
        "outputId": "315a10cc-3c3d-4868-911d-7e4110e9752a"
      },
      "source": [
        "req = req1[:I*T].reshape(I,T)\n",
        "req"
      ],
      "execution_count": 13,
      "outputs": [
        {
          "output_type": "execute_result",
          "data": {
            "text/plain": [
              "array([[17, 80, 26, ..., 69, 34, 83]])"
            ]
          },
          "metadata": {
            "tags": []
          },
          "execution_count": 13
        }
      ]
    },
    {
      "cell_type": "code",
      "metadata": {
        "id": "7NQUPQz7JvtR",
        "colab_type": "code",
        "colab": {
          "base_uri": "https://localhost:8080/",
          "height": 34
        },
        "outputId": "2b996664-17fe-4f64-a94f-645616f0c225"
      },
      "source": [
        "gen_req = gen_req1[:I*T].reshape(I,T)\n",
        "gen_req"
      ],
      "execution_count": 14,
      "outputs": [
        {
          "output_type": "execute_result",
          "data": {
            "text/plain": [
              "array([[17, 80, 26, ..., 64, 79, 87]])"
            ]
          },
          "metadata": {
            "tags": []
          },
          "execution_count": 14
        }
      ]
    },
    {
      "cell_type": "code",
      "metadata": {
        "id": "pWowJlSAki2e",
        "colab_type": "code",
        "colab": {
          "base_uri": "https://localhost:8080/",
          "height": 185
        },
        "outputId": "41393ab8-deab-4aa9-d30a-f12cc08fc34f"
      },
      "source": [
        "y_LRU = np.zeros((J,N),dtype = int)\n",
        "y_LFU = np.zeros((J,N),dtype = int)\n",
        "y_FTPL = np.zeros((J,N),dtype = int)\n",
        "y_LSTM = np.zeros((J,N),dtype = int)\n",
        "y_LSTM[:,:C] = np.ones((J,C),dtype = int)\n",
        "y_FTPL[:,:C] = np.ones((J,C),dtype = int)\n",
        "y_LRU[:,:C] = np.ones((J,C),dtype = int)\n",
        "y_LFU[:,:C] = np.ones((J,C),dtype = int)\n",
        "count = np.zeros((N,I),dtype = int)\n",
        "reward_LSTM =  np.zeros((T),int)\n",
        "reward_FTPL =  np.zeros((T),int)\n",
        "reward_LRU =  np.zeros((T),int)\n",
        "reward_LFU =  np.zeros((T),int)\n",
        "hits_FTPL =  []\n",
        "hits_LRU =  []\n",
        "hits_LFU =  []\n",
        "hits_LSTM = []\n",
        "download_FTPL =  []\n",
        "download_LRU =  []\n",
        "download_LFU =  []\n",
        "download_LSTM = []\n",
        "FTPL_downloads_slotwise = np.zeros((T),int)\n",
        "LFU_downloads_slotwise = np.zeros((T),int)\n",
        "LRU_downloads_slotwise = np.zeros((T),int)\n",
        "LSTM_downloads_slotwise = np.zeros((T),int)\n",
        "req_time = np.zeros((N,I),dtype = int) \n",
        "req_time1 = np.zeros((N,I),dtype = int) \n",
        "\n",
        "for t in range(T):\n",
        "  x_t1 = np.zeros((N,I),dtype = int)\n",
        "  x_t = np.zeros((N,I),dtype = int)\n",
        "  for i in range(I):\n",
        "    x_t[req[i,t],i] += 1\n",
        "    x_t1[gen_req[i,t],i] += 1\n",
        "    count[int(req[i,t]),i] += 1\n",
        "    req_time[int(req[i,t]),i] = t+1\n",
        "    req_time1[int(gen_req[i,t]),i] = t+1\n",
        "  \n",
        "  ireward_LRU =  np.zeros((I),int)\n",
        "  ireward_LSTM =  np.zeros((I),int)\n",
        "  ireward_LFU =  np.zeros((I),int)\n",
        "  ireward_FTPL =  np.zeros((I),int)\n",
        "  \n",
        "  for i in range(I):\n",
        "    temp1 = np.zeros((N),int)\n",
        "    temp2 = np.zeros((N),int)\n",
        "    temp3 = np.zeros((N),int)\n",
        "    temp4 = np.zeros((N),int)\n",
        "    connected_cache = []\n",
        "    for j in range(J):\n",
        "      if connection[i,j] == 1:\n",
        "        connected_cache.append(j)\n",
        "    for k in range(len(connected_cache)):\n",
        "      temp1 += y_FTPL[connected_cache[k],:]\n",
        "      temp2 += y_LFU[connected_cache[k],:]\n",
        "      temp3 += y_LRU[connected_cache[k],:]\n",
        "      temp4 += y_LSTM[connected_cache[k],:]\n",
        "    ireward_FTPL[i] += np.dot(np.minimum(np.ones(N),temp1),x_t[:,i])\n",
        "    ireward_LFU[i] += np.dot(np.minimum(np.ones(N),temp2),x_t[:,i])\n",
        "    ireward_LRU[i] += np.dot(np.minimum(np.ones(N),temp3),x_t[:,i])\n",
        "    ireward_LSTM[i] += np.dot(np.minimum(np.ones(N),temp4),x_t1[:,i])\n",
        "\n",
        "  reward_FTPL[t] =  np.sum(ireward_FTPL)\n",
        "  reward_LRU[t] =  np.sum(ireward_LRU)\n",
        "  reward_LFU[t] =  np.sum(ireward_LFU)\n",
        "  reward_LSTM[t] =  np.sum(ireward_LSTM)\n",
        "  reward_LSTMc = np.sum(reward_LSTM)\n",
        "  reward_FTPLc = np.sum(reward_FTPL)\n",
        "  reward_LRUc = np.sum(reward_LRU)\n",
        "  reward_LFUc = np.sum(reward_LFU)\n",
        "\n",
        "  [y_LFU,LFU_downloads_slotwise[t]] = LFU(y_LFU,x_t,count,connection)\n",
        "  [y_LRU,LRU_downloads_slotwise[t]] = LRU(y_LRU,x_t,req_time,connection)\n",
        "  [y_LSTM,LSTM_downloads_slotwise[t]] = LRU(y_LSTM,x_t1,req_time1,connection)\n",
        "\n",
        "  eta = round(I*pow(4*pi*np.log(N*I),-.25)*pow((t+1)/(J*degree*C),.5),4)\n",
        "  perturbed_count=per_count(eta,count)\n",
        "  old_FTPL = y_FTPL.reshape(J*N)\n",
        "  add = (-perturbed_count[:,0]).argsort()[:C]\n",
        "  y_FTPL = np.zeros((J,N),dtype = int)\n",
        "  for k in range(len(add)):\n",
        "    y_FTPL[0,int(add[k])] = 1 \n",
        "  new_FTPL = y_FTPL.reshape(J*N)\n",
        "  FTPL_downloads_slotwise[t] = (np.sum(np.logical_and(new_FTPL,np.logical_not(old_FTPL))))\n",
        " \n",
        "  download_FTPL.append(np.sum(FTPL_downloads_slotwise))\n",
        "  download_LFU.append(np.sum(LFU_downloads_slotwise))\n",
        "  download_LRU.append(np.sum(LRU_downloads_slotwise))\n",
        "  download_LSTM.append(np.sum(LSTM_downloads_slotwise))\n",
        "\n",
        "  hits_LRU.append(reward_LRUc)\n",
        "  hits_LFU.append(reward_LFUc)\n",
        "  hits_FTPL.append(reward_FTPLc)\n",
        "  hits_LSTM.append(reward_LSTMc)\n",
        "\n",
        "  if t %10000 == 0:\n",
        "    print(t,download_FTPL[t],download_LFU[t],download_LRU[t],download_LSTM[t],hits_FTPL[t],hits_LFU[t],hits_LRU[t],hits_LSTM[t])"
      ],
      "execution_count": 15,
      "outputs": [
        {
          "output_type": "stream",
          "text": [
            "0 4 1 1 1 0 0 0 0\n",
            "10000 37079 9397 9477 9477 551 604 524 524\n",
            "20000 63617 18715 18994 18994 1183 1286 1007 1007\n",
            "30000 85824 28029 28465 27616 1862 1972 1536 2385\n",
            "40000 103010 37355 37919 36214 2544 2646 2082 3787\n",
            "50000 118158 46740 47407 44815 3212 3261 2594 5186\n",
            "60000 131210 56073 56865 53412 3907 3928 3136 6589\n",
            "70000 142638 65392 66324 62018 4609 4609 3677 7983\n",
            "80000 153420 74733 75808 70578 5323 5268 4193 9423\n",
            "90000 163372 84087 85340 79217 5993 5914 4661 10784\n"
          ],
          "name": "stdout"
        }
      ]
    },
    {
      "cell_type": "code",
      "metadata": {
        "id": "J_3kWL_JCNjX",
        "colab_type": "code",
        "colab": {
          "base_uri": "https://localhost:8080/",
          "height": 279
        },
        "outputId": "f339ca78-cf11-4944-f2d4-e4238d69bd60"
      },
      "source": [
        "plt.plot(hits_FTPL,'black',label='FTPL')\n",
        "plt.plot(hits_LRU,'green',label='LRU')\n",
        "plt.plot(hits_LFU,'blue',label='LFU')\n",
        "plt.plot(hits_LSTM,'red',label='LSTM')\n",
        "plt.xlabel('T')\n",
        "plt.ylabel('Total hits')\n",
        "plt.legend()\n",
        "plt.savefig('Total hits(I=J=1).png')"
      ],
      "execution_count": 16,
      "outputs": [
        {
          "output_type": "display_data",
          "data": {
            "image/png": "[encoded data removed]",
            "text/plain": [
              "<Figure size 432x288 with 1 Axes>"
            ]
          },
          "metadata": {
            "tags": [],
            "needs_background": "light"
          }
        }
      ]
    },
    {
      "cell_type": "code",
      "metadata": {
        "id": "YK-m4yZjrs3l",
        "colab_type": "code",
        "colab": {
          "base_uri": "https://localhost:8080/",
          "height": 279
        },
        "outputId": "9edba65c-0f9e-4bb1-dbf9-4fccb9f78c66"
      },
      "source": [
        "plt.plot(download_FTPL,'black',label='FTPL')\n",
        "plt.plot(download_LRU,'green',label='LRU')\n",
        "plt.plot(download_LFU,'blue',label='LFU')\n",
        "plt.plot(download_LSTM,'red',label='LSTM')\n",
        "plt.xlabel('T')\n",
        "plt.ylabel('New downloads')\n",
        "plt.legend()\n",
        "plt.savefig('New downloads(I=J=1).png')"
      ],
      "execution_count": 17,
      "outputs": [
        {
          "output_type": "display_data",
          "data": {
            "image/png": "[encoded data removed]",
            "text/plain": [
              "<Figure size 432x288 with 1 Axes>"
            ]
          },
          "metadata": {
            "tags": [],
            "needs_background": "light"
          }
        }
      ]
    },
    {
      "cell_type": "markdown",
      "metadata": {
        "id": "Fj30MgQaWN_E",
        "colab_type": "text"
      },
      "source": [
        "I = 5 J = 3 d = 3"
      ]
    },
    {
      "cell_type": "code",
      "metadata": {
        "id": "jA0Kz7jzKJ3G",
        "colab_type": "code",
        "colab": {}
      },
      "source": [
        "C = 5\n",
        "I = 5\n",
        "J = 3\n",
        "degree = 3\n",
        "T = 100000"
      ],
      "execution_count": 49,
      "outputs": []
    },
    {
      "cell_type": "code",
      "metadata": {
        "id": "fkzyLhrGKhB6",
        "colab_type": "code",
        "colab": {
          "base_uri": "https://localhost:8080/",
          "height": 101
        },
        "outputId": "2e743649-3fe1-455c-a533-0148cf906f44"
      },
      "source": [
        "connection = np.zeros((I,J),dtype = int)\n",
        "i = 0\n",
        "for j in range(J):\n",
        "  x = 0\n",
        "  while x < degree:\n",
        "    connection[i,j] = 1\n",
        "    x += 1\n",
        "    i += 1\n",
        "    if i == I:\n",
        "      i = 0\n",
        "connection"
      ],
      "execution_count": 50,
      "outputs": [
        {
          "output_type": "execute_result",
          "data": {
            "text/plain": [
              "array([[1, 1, 0],\n",
              "       [1, 0, 1],\n",
              "       [1, 0, 1],\n",
              "       [0, 1, 1],\n",
              "       [0, 1, 0]])"
            ]
          },
          "metadata": {
            "tags": []
          },
          "execution_count": 50
        }
      ]
    },
    {
      "cell_type": "code",
      "metadata": {
        "id": "TIjWw46mSfxG",
        "colab_type": "code",
        "colab": {}
      },
      "source": [
        "gen_req1 = np.load('/content/drive/My Drive/gen_req.npy')\n",
        "req1 = np.load('/content/drive/My Drive/req.npy')\n",
        "req1 = req1[20000:]\n",
        "gen_req1 = gen_req1[20000:]"
      ],
      "execution_count": 51,
      "outputs": []
    },
    {
      "cell_type": "code",
      "metadata": {
        "id": "DNOrEFxxThnu",
        "colab_type": "code",
        "colab": {
          "base_uri": "https://localhost:8080/",
          "height": 34
        },
        "outputId": "e31b2cc1-94aa-4dd8-ddab-93e0bb53a4ef"
      },
      "source": [
        "req = req1.reshape(I,-1)\n",
        "req.shape"
      ],
      "execution_count": 52,
      "outputs": [
        {
          "output_type": "execute_result",
          "data": {
            "text/plain": [
              "(5, 397000)"
            ]
          },
          "metadata": {
            "tags": []
          },
          "execution_count": 52
        }
      ]
    },
    {
      "cell_type": "code",
      "metadata": {
        "id": "DAQ_EHg8TlOp",
        "colab_type": "code",
        "colab": {
          "base_uri": "https://localhost:8080/",
          "height": 34
        },
        "outputId": "ec367855-3455-4b6f-df05-11233a588670"
      },
      "source": [
        "gen_req = gen_req1.reshape(I,-1)\n",
        "gen_req.shape"
      ],
      "execution_count": 53,
      "outputs": [
        {
          "output_type": "execute_result",
          "data": {
            "text/plain": [
              "(5, 447000)"
            ]
          },
          "metadata": {
            "tags": []
          },
          "execution_count": 53
        }
      ]
    },
    {
      "cell_type": "code",
      "metadata": {
        "id": "5U7m8AJ9Sw6B",
        "colab_type": "code",
        "colab": {
          "base_uri": "https://localhost:8080/",
          "height": 1000
        },
        "outputId": "112511fd-6ff1-4711-cd7f-2e2b6f0944b9"
      },
      "source": [
        "y_LRU = np.zeros((J,N),dtype = int)\n",
        "y_LFU = np.zeros((J,N),dtype = int)\n",
        "y_FTPL = np.zeros((J,N),dtype = int)\n",
        "y_LSTM = np.zeros((J,N),dtype = int)\n",
        "y_LSTM[:,:C] = np.ones((J,C),dtype = int)\n",
        "y_FTPL[:,:C] = np.ones((J,C),dtype = int)\n",
        "y_LRU[:,:C] = np.ones((J,C),dtype = int)\n",
        "y_LFU[:,:C] = np.ones((J,C),dtype = int)\n",
        "count = np.zeros((N,I),dtype = int)\n",
        "reward_LSTM =  np.zeros((T),int)\n",
        "reward_FTPL =  np.zeros((T),int)\n",
        "reward_LRU =  np.zeros((T),int)\n",
        "reward_LFU =  np.zeros((T),int)\n",
        "hits_FTPL =  []\n",
        "hits_LRU =  []\n",
        "hits_LFU =  []\n",
        "hits_LSTM = []\n",
        "download_FTPL =  []\n",
        "download_LRU =  []\n",
        "download_LFU =  []\n",
        "download_LSTM = []\n",
        "FTPL_downloads_slotwise = np.zeros((T),int)\n",
        "LFU_downloads_slotwise = np.zeros((T),int)\n",
        "LRU_downloads_slotwise = np.zeros((T),int)\n",
        "LSTM_downloads_slotwise = np.zeros((T),int)\n",
        "req_time = np.zeros((N,I),dtype = int) \n",
        "req_time1 = np.zeros((N,I),dtype = int) \n",
        "\n",
        "for t in range(T):\n",
        "  x_t1 = np.zeros((N,I),dtype = int)\n",
        "  x_t = np.zeros((N,I),dtype = int)\n",
        "  for i in range(I):\n",
        "    x_t[req[i,t],i] += 1\n",
        "    x_t1[gen_req[i,t],i] += 1\n",
        "    count[int(req[i,t]),i] += 1\n",
        "    req_time[int(req[i,t]),i] = t+1\n",
        "    req_time1[int(gen_req[i,t]),i] = t+1\n",
        "  \n",
        "  ireward_LRU =  np.zeros((I),int)\n",
        "  ireward_LSTM =  np.zeros((I),int)\n",
        "  ireward_LFU =  np.zeros((I),int)\n",
        "  ireward_FTPL =  np.zeros((I),int)\n",
        "  \n",
        "  for i in range(I):\n",
        "    temp1 = np.zeros((N),int)\n",
        "    temp2 = np.zeros((N),int)\n",
        "    temp3 = np.zeros((N),int)\n",
        "    temp4 = np.zeros((N),int)\n",
        "    connected_cache = []\n",
        "    for j in range(J):\n",
        "      if connection[i,j] == 1:\n",
        "        connected_cache.append(j)\n",
        "    for k in range(len(connected_cache)):\n",
        "      temp1 += y_FTPL[connected_cache[k],:]\n",
        "      temp2 += y_LFU[connected_cache[k],:]\n",
        "      temp3 += y_LRU[connected_cache[k],:]\n",
        "      temp4 += y_LSTM[connected_cache[k],:]\n",
        "    ireward_FTPL[i] += np.dot(np.minimum(np.ones(N),temp1),x_t[:,i])\n",
        "    ireward_LFU[i] += np.dot(np.minimum(np.ones(N),temp2),x_t[:,i])\n",
        "    ireward_LRU[i] += np.dot(np.minimum(np.ones(N),temp3),x_t[:,i])\n",
        "    ireward_LSTM[i] += np.dot(np.minimum(np.ones(N),temp4),x_t1[:,i])\n",
        "\n",
        "  reward_FTPL[t] =  np.sum(ireward_FTPL)\n",
        "  reward_LRU[t] =  np.sum(ireward_LRU)\n",
        "  reward_LFU[t] =  np.sum(ireward_LFU)\n",
        "  reward_LSTM[t] =  np.sum(ireward_LSTM)\n",
        "  reward_LSTMc = np.sum(reward_LSTM)\n",
        "  reward_FTPLc = np.sum(reward_FTPL)\n",
        "  reward_LRUc = np.sum(reward_LRU)\n",
        "  reward_LFUc = np.sum(reward_LFU)\n",
        "\n",
        "  [y_LFU,LFU_downloads_slotwise[t]] = LFU(y_LFU,x_t,count,connection)\n",
        "  [y_LRU,LRU_downloads_slotwise[t]] = LRU(y_LRU,x_t,req_time,connection)\n",
        "  [y_LSTM,LSTM_downloads_slotwise[t]] = LRU(y_LSTM,x_t1,req_time1,connection)\n",
        "\n",
        "  eta = round(I*pow(4*pi*np.log(N*I),-.25)*pow((t+1)/(J*degree*C),.5),4)\n",
        "  perturbed_count=per_count(eta,count)\n",
        "  old_FTPL = y_FTPL.reshape(J*N).copy()\n",
        "  [y_FTPL,Z] = Greedy(connection,perturbed_count) \n",
        "  new_FTPL = y_FTPL.reshape(J*N).copy()\n",
        "  FTPL_downloads_slotwise[t] = (np.sum(np.logical_and(new_FTPL,np.logical_not(old_FTPL))))\n",
        " \n",
        "  download_FTPL.append(np.sum(FTPL_downloads_slotwise))\n",
        "  download_LFU.append(np.sum(LFU_downloads_slotwise))\n",
        "  download_LRU.append(np.sum(LRU_downloads_slotwise))\n",
        "  download_LSTM.append(np.sum(LSTM_downloads_slotwise))\n",
        "\n",
        "  hits_LRU.append(reward_LRUc)\n",
        "  hits_LFU.append(reward_LFUc)\n",
        "  hits_FTPL.append(reward_FTPLc)\n",
        "  hits_LSTM.append(reward_LSTMc)\n",
        "\n",
        "  if t %1000 == 0:\n",
        "    print(t,download_FTPL[t],download_LFU[t],download_LRU[t],download_LSTM[t],hits_FTPL[t],hits_LFU[t],hits_LRU[t],hits_LSTM[t])"
      ],
      "execution_count": 54,
      "outputs": [
        {
          "output_type": "stream",
          "text": [
            "0 15 9 9 8 0 0 0 0\n",
            "1000 13702 8437 8469 7895 461 374 362 634\n",
            "2000 26891 16792 16909 15702 986 802 735 1302\n",
            "3000 39919 25204 25332 23453 1488 1160 1118 2014\n",
            "4000 52787 33591 33809 31031 1992 1538 1458 2760\n",
            "5000 65510 41969 42253 38715 2485 1925 1820 3436\n",
            "6000 78017 50354 50743 46447 3020 2311 2154 4172\n",
            "7000 90205 58705 59182 54194 3577 2708 2512 4877\n",
            "8000 102146 67061 67586 61930 4111 3122 2900 5592\n",
            "9000 114187 75447 76026 69427 4630 3532 3265 6406\n",
            "10000 126023 83765 84413 77284 5203 3991 3649 7037\n",
            "11000 137835 92089 92861 85040 5762 4432 4015 7724\n",
            "12000 149561 100503 101317 92785 6304 4820 4360 8412\n",
            "13000 161292 108823 109734 100266 6843 5222 4752 9218\n",
            "14000 172949 117218 118201 108003 7423 5578 5101 9919\n",
            "15000 184581 125610 126670 115746 7974 5941 5447 10631\n",
            "16000 196168 134034 135166 123515 8503 6281 5787 11294\n",
            "17000 207813 142430 143630 130994 9033 6613 6118 12101\n",
            "18000 219317 150851 152112 138785 9612 6989 6470 12785\n",
            "19000 230691 159217 160555 146585 10158 7397 6836 13459\n",
            "20000 242053 167602 169022 154407 10702 7782 7190 14080\n",
            "21000 253266 175915 177455 161874 11260 8211 7569 14899\n",
            "22000 264300 184302 185910 169556 11807 8584 7925 15628\n",
            "23000 275489 192677 194360 177297 12340 8958 8286 16339\n",
            "24000 286767 201116 202859 185119 12903 9299 8638 17000\n",
            "25000 297928 209538 211317 192844 13480 9637 8998 17678\n",
            "26000 309114 217928 219733 200386 14040 9994 9391 18483\n",
            "27000 320269 226324 228196 208067 14589 10346 9744 19246\n",
            "28000 331377 234655 236599 215819 15151 10724 10121 19936\n",
            "29000 342413 243064 245066 223561 15701 11061 10466 20645\n",
            "30000 353394 251458 253498 231076 16258 11408 10837 21390\n",
            "31000 364453 259826 261951 238900 16822 11767 11196 22030\n",
            "32000 375556 268211 270397 246646 17382 12111 11563 22750\n",
            "33000 386560 276541 278817 254389 17952 12500 11939 23466\n",
            "34000 397607 284928 287289 261898 18518 12866 12295 24271\n",
            "35000 408639 293230 295728 269602 19076 13260 12657 25000\n",
            "36000 419549 301611 304187 277395 19609 13623 13006 25662\n",
            "37000 430600 310032 312663 285153 20173 13959 13351 26356\n",
            "38000 441627 318415 321123 292541 20759 14320 13718 27207\n",
            "39000 452601 326827 329614 300335 21349 14663 14055 27875\n",
            "40000 463507 335207 338066 308132 21905 15023 14414 28526\n",
            "41000 474297 343562 346500 315909 22493 15393 14778 29200\n",
            "42000 485127 351934 354909 323466 23026 15753 15163 30003\n",
            "43000 496021 360264 363324 331108 23589 16153 15554 30742\n",
            "44000 506891 368641 371781 338944 24180 16504 15912 31360\n",
            "45000 517766 376971 380207 346680 24769 16869 16267 32062\n",
            "46000 528567 385361 388667 354437 25350 17216 16613 32742\n",
            "47000 539232 393758 397124 362013 25906 17575 16973 33473\n",
            "48000 549849 402178 405584 369780 26447 17918 17332 34151\n",
            "49000 560550 410597 414072 377586 26983 18243 17661 34820\n",
            "50000 571242 418957 422470 385393 27524 18604 18047 35488\n",
            "51000 581842 427355 430914 392832 28043 18955 18428 36296\n",
            "52000 592558 435751 439344 400638 28590 19305 18806 36955\n",
            "53000 603169 444111 447811 408512 29148 19670 19156 37546\n",
            "54000 613784 452495 456247 416334 29689 20035 19527 38198\n",
            "55000 624516 460912 464738 423752 30239 20370 19862 39055\n",
            "56000 635259 469274 473179 431543 30757 20736 20229 39712\n",
            "57000 645865 477653 481612 439322 31337 21092 20604 40402\n",
            "58000 656423 486032 490071 447103 31959 21453 20953 41051\n",
            "59000 666931 494381 498511 454605 32535 21819 21315 41855\n",
            "60000 677489 502740 506954 462314 33086 22187 21678 42589\n",
            "61000 688065 511121 515417 470101 33668 22546 22025 43258\n",
            "62000 698708 519523 523868 477943 34232 22889 22387 43885\n",
            "63000 709323 527891 532351 485595 34820 23248 22722 44616\n",
            "64000 719884 536276 540787 493212 35370 23605 23094 45356\n",
            "65000 730519 544618 549200 500994 35950 23998 23491 46015\n",
            "66000 741139 552950 557605 508769 36522 24377 23863 46697\n",
            "67000 751681 561364 566062 516552 37042 24702 24209 47365\n",
            "68000 762299 569739 574515 523981 37604 25060 24571 48192\n",
            "69000 773016 578133 582994 531772 38185 25414 24923 48848\n",
            "70000 783510 586493 591440 539546 38793 25782 25296 49539\n",
            "71000 794224 594844 599899 547351 39358 26160 25656 50189\n",
            "72000 804765 603208 608313 554857 39973 26537 26064 50945\n",
            "73000 815292 611569 616709 562599 40538 26899 26447 51677\n",
            "74000 825785 619931 625173 570408 41096 27251 26800 52335\n",
            "75000 836389 628320 633577 578207 41709 27612 27199 52994\n",
            "76000 846854 636669 641992 585743 42301 27991 27582 53756\n",
            "77000 857357 645023 650445 593539 42874 28367 27942 54440\n",
            "78000 867813 653416 658880 601332 43402 28715 28314 55106\n",
            "79000 878233 661819 667318 609102 43982 29060 28682 55791\n",
            "80000 888684 670217 675780 616575 44548 29411 29047 56606\n",
            "81000 899083 678591 684236 624367 45152 29761 29394 57245\n",
            "82000 909325 686943 692673 632160 45691 30134 29760 57907\n",
            "83000 919537 695344 701174 639904 46259 30472 30081 58607\n",
            "84000 929691 703708 709648 647634 46835 30839 30429 59311\n",
            "85000 939887 712115 718125 655171 47346 31193 30783 60081\n",
            "86000 950042 720465 726562 662896 47917 31570 31148 60798\n",
            "87000 960257 728868 735012 670674 48528 31917 31510 61462\n",
            "88000 970476 737208 743433 678485 49099 32303 31895 62100\n",
            "89000 980645 745612 751912 685989 49659 32647 32247 62852\n",
            "90000 990913 753999 760349 693746 50235 33006 32622 63554\n",
            "91000 1001051 762352 768784 701545 50795 33382 32994 64233\n",
            "92000 1011335 770749 777224 709341 51364 33724 33364 64909\n",
            "93000 1021429 779146 785699 716848 51942 34081 33718 65657\n",
            "94000 1031654 787489 794137 724698 52503 34463 34096 66263\n",
            "95000 1041799 795850 802607 732499 53102 34845 34455 66910\n",
            "96000 1052127 804220 811014 740323 53663 35209 34845 67571\n",
            "97000 1062380 812633 819480 747763 54213 35544 35188 68412\n",
            "98000 1072487 820985 827904 755599 54781 35913 35549 69046\n",
            "99000 1082741 829321 836334 763344 55368 36299 35916 69748\n"
          ],
          "name": "stdout"
        }
      ]
    },
    {
      "cell_type": "code",
      "metadata": {
        "id": "u33MS3DDT1CZ",
        "colab_type": "code",
        "colab": {
          "base_uri": "https://localhost:8080/",
          "height": 279
        },
        "outputId": "9c89fc41-c977-4986-97e2-37ca27fce837"
      },
      "source": [
        "plt.plot(hits_FTPL,'black',label='FTPL')\n",
        "plt.plot(hits_LRU,'green',label='LRU')\n",
        "plt.plot(hits_LFU,'blue',label='LFU')\n",
        "plt.plot(hits_LSTM,'red',label='LSTM')\n",
        "plt.xlabel('T')\n",
        "plt.ylabel('total hits')\n",
        "plt.legend()\n",
        "plt.savefig('Total hits(I=5 J=3 d=3).png')"
      ],
      "execution_count": 55,
      "outputs": [
        {
          "output_type": "display_data",
          "data": {
            "image/png": "[encoded data removed]",
            "text/plain": [
              "<Figure size 432x288 with 1 Axes>"
            ]
          },
          "metadata": {
            "tags": [],
            "needs_background": "light"
          }
        }
      ]
    },
    {
      "cell_type": "code",
      "metadata": {
        "id": "BO6RqcCjt-I0",
        "colab_type": "code",
        "colab": {
          "base_uri": "https://localhost:8080/",
          "height": 290
        },
        "outputId": "70e90132-514c-4fc3-cd83-c29a4c38b45c"
      },
      "source": [
        "plt.plot(download_FTPL,'black',label='FTPL')\n",
        "plt.plot(download_LRU,'green',label='LRU')\n",
        "plt.plot(download_LFU,'blue',label='LFU')\n",
        "plt.plot(download_LSTM,'red',label='LSTM')\n",
        "plt.xlabel('T')\n",
        "plt.ylabel('New downloads')\n",
        "plt.legend()\n",
        "plt.savefig('New downloads(I=5 J=3 d=3).png')"
      ],
      "execution_count": 59,
      "outputs": [
        {
          "output_type": "display_data",
          "data": {
            "image/png": "[encoded data removed]",
            "text/plain": [
              "<Figure size 432x288 with 1 Axes>"
            ]
          },
          "metadata": {
            "tags": [],
            "needs_background": "light"
          }
        }
      ]
    },
    {
      "cell_type": "markdown",
      "metadata": {
        "id": "BdHsz8OLbfRt",
        "colab_type": "text"
      },
      "source": [
        "I = 15 J = 10 d = 7"
      ]
    },
    {
      "cell_type": "code",
      "metadata": {
        "id": "2k2iUESfYkec",
        "colab_type": "code",
        "colab": {}
      },
      "source": [
        "I = 15\n",
        "J = 10\n",
        "C = 15\n",
        "degree = 7\n",
        "T = 20000"
      ],
      "execution_count": 60,
      "outputs": []
    },
    {
      "cell_type": "code",
      "metadata": {
        "id": "P6LK3SH5cVIs",
        "colab_type": "code",
        "colab": {
          "base_uri": "https://localhost:8080/",
          "height": 269
        },
        "outputId": "a53e8108-3ebf-48e0-d6f3-fa8ba99839ac"
      },
      "source": [
        "connection = np.zeros((I,J),dtype = int)\n",
        "i = 0\n",
        "for j in range(J):\n",
        "  x = 0\n",
        "  while x < degree:\n",
        "    connection[i,j] = 1\n",
        "    x += 1\n",
        "    i += 1\n",
        "    if i == I:\n",
        "      i = 0\n",
        "connection"
      ],
      "execution_count": 61,
      "outputs": [
        {
          "output_type": "execute_result",
          "data": {
            "text/plain": [
              "array([[1, 0, 1, 0, 1, 0, 1, 0, 1, 0],\n",
              "       [1, 0, 1, 0, 1, 0, 1, 0, 1, 0],\n",
              "       [1, 0, 1, 0, 1, 0, 1, 0, 1, 0],\n",
              "       [1, 0, 1, 0, 1, 0, 1, 0, 0, 1],\n",
              "       [1, 0, 1, 0, 1, 0, 0, 1, 0, 1],\n",
              "       [1, 0, 1, 0, 0, 1, 0, 1, 0, 1],\n",
              "       [1, 0, 0, 1, 0, 1, 0, 1, 0, 1],\n",
              "       [0, 1, 0, 1, 0, 1, 0, 1, 0, 1],\n",
              "       [0, 1, 0, 1, 0, 1, 0, 1, 0, 1],\n",
              "       [0, 1, 0, 1, 0, 1, 0, 1, 0, 1],\n",
              "       [0, 1, 0, 1, 0, 1, 0, 1, 0, 0],\n",
              "       [0, 1, 0, 1, 0, 1, 0, 0, 1, 0],\n",
              "       [0, 1, 0, 1, 0, 0, 1, 0, 1, 0],\n",
              "       [0, 1, 0, 0, 1, 0, 1, 0, 1, 0],\n",
              "       [0, 0, 1, 0, 1, 0, 1, 0, 1, 0]])"
            ]
          },
          "metadata": {
            "tags": []
          },
          "execution_count": 61
        }
      ]
    },
    {
      "cell_type": "code",
      "metadata": {
        "id": "fHrvasV4Xl3O",
        "colab_type": "code",
        "colab": {}
      },
      "source": [
        "gen_req1 = np.load('/content/drive/My Drive/gen_req.npy')\n",
        "req1 = np.load('/content/drive/My Drive/req.npy')\n",
        "req1 = req1[20000:2004995]\n",
        "gen_req1 = gen_req1[20000:]"
      ],
      "execution_count": 62,
      "outputs": []
    },
    {
      "cell_type": "code",
      "metadata": {
        "id": "bxgJO20wXaAR",
        "colab_type": "code",
        "colab": {
          "base_uri": "https://localhost:8080/",
          "height": 34
        },
        "outputId": "384581b1-83db-4ff6-a612-d40958ddbfaa"
      },
      "source": [
        "req = req1.reshape(I,-1)\n",
        "req.shape"
      ],
      "execution_count": 63,
      "outputs": [
        {
          "output_type": "execute_result",
          "data": {
            "text/plain": [
              "(15, 132333)"
            ]
          },
          "metadata": {
            "tags": []
          },
          "execution_count": 63
        }
      ]
    },
    {
      "cell_type": "code",
      "metadata": {
        "id": "-JCKP3hMXiq-",
        "colab_type": "code",
        "colab": {
          "base_uri": "https://localhost:8080/",
          "height": 34
        },
        "outputId": "d8df79bd-8610-448b-ac17-c33e23a5b6ea"
      },
      "source": [
        "gen_req = gen_req1.reshape(I,-1)\n",
        "gen_req.shape"
      ],
      "execution_count": 64,
      "outputs": [
        {
          "output_type": "execute_result",
          "data": {
            "text/plain": [
              "(15, 149000)"
            ]
          },
          "metadata": {
            "tags": []
          },
          "execution_count": 64
        }
      ]
    },
    {
      "cell_type": "code",
      "metadata": {
        "id": "Oke-J6xqgp0l",
        "colab_type": "code",
        "colab": {
          "base_uri": "https://localhost:8080/",
          "height": 353
        },
        "outputId": "e6a0baa8-8a47-41bc-afd6-cb3e00e063a6"
      },
      "source": [
        "y_LRU = np.zeros((J,N),dtype = int)\n",
        "y_LFU = np.zeros((J,N),dtype = int)\n",
        "y_FTPL = np.zeros((J,N),dtype = int)\n",
        "y_LSTM = np.zeros((J,N),dtype = int)\n",
        "y_LSTM[:,:C] = np.ones((J,C),dtype = int)\n",
        "y_FTPL[:,:C] = np.ones((J,C),dtype = int)\n",
        "y_LRU[:,:C] = np.ones((J,C),dtype = int)\n",
        "y_LFU[:,:C] = np.ones((J,C),dtype = int)\n",
        "count = np.zeros((N,I),dtype = int)\n",
        "reward_LSTM =  np.zeros((T),int)\n",
        "reward_FTPL =  np.zeros((T),int)\n",
        "reward_LRU =  np.zeros((T),int)\n",
        "reward_LFU =  np.zeros((T),int)\n",
        "hits_FTPL =  []\n",
        "hits_LRU =  []\n",
        "hits_LFU =  []\n",
        "hits_LSTM = []\n",
        "download_FTPL =  []\n",
        "download_LRU =  []\n",
        "download_LFU =  []\n",
        "download_LSTM = []\n",
        "FTPL_downloads_slotwise = np.zeros((T),int)\n",
        "LFU_downloads_slotwise = np.zeros((T),int)\n",
        "LRU_downloads_slotwise = np.zeros((T),int)\n",
        "LSTM_downloads_slotwise = np.zeros((T),int)\n",
        "req_time = np.zeros((N,I),dtype = int) \n",
        "req_time1 = np.zeros((N,I),dtype = int) \n",
        "\n",
        "for t in range(T):\n",
        "  x_t1 = np.zeros((N,I),dtype = int)\n",
        "  x_t = np.zeros((N,I),dtype = int)\n",
        "  for i in range(I):\n",
        "    x_t[req[i,t],i] += 1\n",
        "    x_t1[gen_req[i,t],i] += 1\n",
        "    count[int(req[i,t]),i] += 1\n",
        "    req_time[int(req[i,t]),i] = t+1\n",
        "    req_time1[int(gen_req[i,t]),i] = t+1\n",
        "  \n",
        "  ireward_LRU =  np.zeros((I),int)\n",
        "  ireward_LSTM =  np.zeros((I),int)\n",
        "  ireward_LFU =  np.zeros((I),int)\n",
        "  ireward_FTPL =  np.zeros((I),int)\n",
        "  \n",
        "  for i in range(I):\n",
        "    temp1 = np.zeros((N),int)\n",
        "    temp2 = np.zeros((N),int)\n",
        "    temp3 = np.zeros((N),int)\n",
        "    temp4 = np.zeros((N),int)\n",
        "    connected_cache = []\n",
        "    for j in range(J):\n",
        "      if connection[i,j] == 1:\n",
        "        connected_cache.append(j)\n",
        "    for k in range(len(connected_cache)):\n",
        "      temp1 += y_FTPL[connected_cache[k],:]\n",
        "      temp2 += y_LFU[connected_cache[k],:]\n",
        "      temp3 += y_LRU[connected_cache[k],:]\n",
        "      temp4 += y_LSTM[connected_cache[k],:]\n",
        "    ireward_FTPL[i] += np.dot(np.minimum(np.ones(N),temp1),x_t[:,i])\n",
        "    ireward_LFU[i] += np.dot(np.minimum(np.ones(N),temp2),x_t[:,i])\n",
        "    ireward_LRU[i] += np.dot(np.minimum(np.ones(N),temp3),x_t[:,i])\n",
        "    ireward_LSTM[i] += np.dot(np.minimum(np.ones(N),temp4),x_t1[:,i])\n",
        "\n",
        "  reward_FTPL[t] =  np.sum(ireward_FTPL)\n",
        "  reward_LRU[t] =  np.sum(ireward_LRU)\n",
        "  reward_LFU[t] =  np.sum(ireward_LFU)\n",
        "  reward_LSTM[t] =  np.sum(ireward_LSTM)\n",
        "  reward_LSTMc = np.sum(reward_LSTM)\n",
        "  reward_FTPLc = np.sum(reward_FTPL)\n",
        "  reward_LRUc = np.sum(reward_LRU)\n",
        "  reward_LFUc = np.sum(reward_LFU)\n",
        "\n",
        "  [y_LFU,LFU_downloads_slotwise[t]] = LFU(y_LFU,x_t,count,connection)\n",
        "  [y_LRU,LRU_downloads_slotwise[t]] = LRU(y_LRU,x_t,req_time,connection)\n",
        "  [y_LSTM,LSTM_downloads_slotwise[t]] = LRU(y_LSTM,x_t1,req_time1,connection)\n",
        "\n",
        "  eta = round(I*pow(4*pi*np.log(N*I),-.25)*pow((t+1)/(J*degree*C),.5),4)\n",
        "  perturbed_count=per_count(eta,count)\n",
        "  old_FTPL = y_FTPL.reshape(J*N)\n",
        "  [y_FTPL,Z] = Greedy(connection,perturbed_count) \n",
        "  new_FTPL = y_FTPL.reshape(J*N)\n",
        "  FTPL_downloads_slotwise[t] = (np.sum(np.logical_and(new_FTPL,np.logical_not(old_FTPL))))\n",
        " \n",
        "  download_FTPL.append(np.sum(FTPL_downloads_slotwise))\n",
        "  download_LFU.append(np.sum(LFU_downloads_slotwise))\n",
        "  download_LRU.append(np.sum(LRU_downloads_slotwise))\n",
        "  download_LSTM.append(np.sum(LSTM_downloads_slotwise))\n",
        "\n",
        "  hits_LRU.append(reward_LRUc)\n",
        "  hits_LFU.append(reward_LFUc)\n",
        "  hits_FTPL.append(reward_FTPLc)\n",
        "  hits_LSTM.append(reward_LSTMc)\n",
        "\n",
        "  if t %1000 == 0:\n",
        "    print(t,download_FTPL[t],download_LFU[t],download_LRU[t],download_LSTM[t],hits_FTPL[t],hits_LFU[t],hits_LRU[t],hits_LSTM[t])"
      ],
      "execution_count": 66,
      "outputs": [
        {
          "output_type": "stream",
          "text": [
            "0 130 69 69 60 0 0 0 1\n",
            "1000 118287 56658 57762 54507 10593 4202 3720 4090\n",
            "2000 236528 112825 114933 108696 21430 8199 7593 8154\n",
            "3000 354598 168770 172400 162787 32250 12141 11348 12159\n",
            "4000 471868 225047 230170 217096 43107 15906 15065 16148\n",
            "5000 588626 280848 287279 271710 53911 19753 18937 20111\n",
            "6000 705328 336661 344800 325573 64874 23591 22721 24252\n",
            "7000 820785 392392 402076 379537 75756 27292 26524 28324\n",
            "8000 936847 448006 459238 433823 86648 30978 30319 32435\n",
            "9000 1053170 503559 516480 487798 97661 34730 34186 36562\n",
            "10000 1169340 559648 573858 541778 108577 38342 37999 40667\n",
            "11000 1285129 615257 631181 595904 119578 42051 41813 44732\n",
            "12000 1400607 670994 688397 650114 130583 45718 45646 48723\n",
            "13000 1516233 726642 745816 704100 141599 49371 49443 52849\n",
            "14000 1631476 782775 803199 757960 152648 53013 53266 56972\n",
            "15000 1747202 838992 861059 812272 163597 56613 56929 61018\n",
            "16000 1862349 895458 918956 866173 174516 60137 60609 65105\n",
            "17000 1978032 951129 976439 920199 185514 63911 64416 69166\n",
            "18000 2093454 1007102 1033745 974731 196458 67545 68216 73141\n",
            "19000 2208898 1062944 1091014 1029175 207400 71192 72018 77182\n"
          ],
          "name": "stdout"
        }
      ]
    },
    {
      "cell_type": "code",
      "metadata": {
        "id": "2iv4C7Z09VGe",
        "colab_type": "code",
        "colab": {
          "base_uri": "https://localhost:8080/",
          "height": 279
        },
        "outputId": "c8bbac87-9f17-4355-8f18-409d37dea722"
      },
      "source": [
        "plt.plot(hits_FTPL,'black',label='FTPL')\n",
        "plt.plot(hits_LRU,'green',label='LRU')\n",
        "plt.plot(hits_LFU,'blue',label='LFU')\n",
        "plt.plot(hits_LSTM,'red',label='LSTM')\n",
        "plt.xlabel('T')\n",
        "plt.ylabel('total hits')\n",
        "plt.legend()\n",
        "plt.savefig('Total hits(I=15 J=10 d=7).png')"
      ],
      "execution_count": 67,
      "outputs": [
        {
          "output_type": "display_data",
          "data": {
            "image/png": "[encoded data removed]",
            "text/plain": [
              "<Figure size 432x288 with 1 Axes>"
            ]
          },
          "metadata": {
            "tags": [],
            "needs_background": "light"
          }
        }
      ]
    },
    {
      "cell_type": "code",
      "metadata": {
        "id": "0BUxR46t9YE8",
        "colab_type": "code",
        "colab": {
          "base_uri": "https://localhost:8080/",
          "height": 290
        },
        "outputId": "f4f36556-fa50-4a2a-91ca-166e380b6a1d"
      },
      "source": [
        "plt.plot(download_FTPL,'black',label='FTPL')\n",
        "plt.plot(download_LRU,'green',label='LRU')\n",
        "plt.plot(download_LFU,'blue',label='LFU')\n",
        "plt.plot(download_LSTM,'red',label='LSTM')\n",
        "plt.xlabel('T')\n",
        "plt.ylabel('new downloads')\n",
        "plt.legend()\n",
        "plt.savefig('New downloads(I=15 J=10 d=7).png')"
      ],
      "execution_count": 68,
      "outputs": [
        {
          "output_type": "display_data",
          "data": {
            "image/png": "[encoded data removed]",
            "text/plain": [
              "<Figure size 432x288 with 1 Axes>"
            ]
          },
          "metadata": {
            "tags": [],
            "needs_background": "light"
          }
        }
      ]
    }
  ]
}