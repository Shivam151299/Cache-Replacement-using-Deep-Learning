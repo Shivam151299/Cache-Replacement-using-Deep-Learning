{
  "nbformat": 4,
  "nbformat_minor": 0,
  "metadata": {
    "colab": {
      "name": "Caching bipartite",
      "provenance": [],
      "collapsed_sections": []
    },
    "kernelspec": {
      "name": "python3",
      "display_name": "Python 3"
    }
  },
  "cells": [
    {
      "cell_type": "code",
      "metadata": {
        "id": "g6dzR9rt_krF",
        "colab_type": "code",
        "colab": {}
      },
      "source": [
        "import numpy as np\n",
        "from numpy import random\n",
        "import matplotlib.pyplot as plt\n",
        "%matplotlib inline"
      ],
      "execution_count": 7,
      "outputs": []
    },
    {
      "cell_type": "code",
      "metadata": {
        "id": "eki7BDaX_RpP",
        "colab_type": "code",
        "colab": {}
      },
      "source": [
        "gen_req1 = np.load('/content/drive/My Drive/gen_req.npy')\n",
        "req1 = np.load('/content/drive/My Drive/req.npy')"
      ],
      "execution_count": 8,
      "outputs": []
    },
    {
      "cell_type": "code",
      "metadata": {
        "id": "lAcMUnr1RECc",
        "colab_type": "code",
        "colab": {
          "base_uri": "https://localhost:8080/",
          "height": 34
        },
        "outputId": "a521f795-d69c-40e6-a442-cc457cf5aaee"
      },
      "source": [
        "#req1 = req1[20000:2005000]\n",
        "#gen_req1 = gen_req1[20000:2005000]\n",
        "req1.shape,gen_req1.shape"
      ],
      "execution_count": 9,
      "outputs": [
        {
          "output_type": "execute_result",
          "data": {
            "text/plain": [
              "((2005000,), (2255000,))"
            ]
          },
          "metadata": {
            "tags": []
          },
          "execution_count": 9
        }
      ]
    },
    {
      "cell_type": "code",
      "metadata": {
        "id": "SOUAMkThUS-c",
        "colab_type": "code",
        "colab": {}
      },
      "source": [
        "N = 100 # total ids \n",
        "pi = 3.14"
      ],
      "execution_count": 10,
      "outputs": []
    },
    {
      "cell_type": "markdown",
      "metadata": {
        "id": "Av1Kgt5FUF3x",
        "colab_type": "text"
      },
      "source": [
        "LRU"
      ]
    },
    {
      "cell_type": "code",
      "metadata": {
        "id": "IU2Dme6MjK66",
        "colab_type": "code",
        "colab": {}
      },
      "source": [
        "def LRU(y, x, request_time,con):\n",
        "  [N,I] = x.shape\n",
        "  J = len(y)\n",
        "  old = y.reshape(J*N).copy()\n",
        "  for j in range(J):\n",
        "    x_t_j = np.zeros(N)\n",
        "    file_req_time = np.zeros(N)\n",
        "\n",
        "    # to find which users are connected to this cache \n",
        "    connected_users = []\n",
        "    for k in range(I):\n",
        "      if con[k,j] == 1:\n",
        "        connected_users.append(k)\n",
        "    for k in range(len(connected_users)):\n",
        "      x_t_j += x[:,connected_users[k]]\n",
        "      file_req_time = np.maximum(file_req_time, request_time[:,connected_users[k]])\n",
        "    x_t_j = np.minimum(np.ones(N),x_t_j)\n",
        "\n",
        "    a1 = np.transpose(np.logical_and(y[j],np.logical_not(np.logical_and(y[j],np.transpose(x_t_j)))))# file which is not requested but still in the cache\n",
        "    b1 = np.transpose(np.logical_and(np.transpose(x_t_j),np.logical_not(np.logical_and(y[j],np.transpose(x_t_j))))) # file requested but not in the cache.\n",
        "    a = np.sum(a1)\n",
        "    b = np.sum(b1)\n",
        "\n",
        "    if a>0 and b>0:\n",
        "      if a>b:\n",
        "        ind = []\n",
        "        for k in range(N):\n",
        "          if a1[k] == 1:\n",
        "            ind.append(k)\n",
        "        t = np.zeros(a)\n",
        "        for k in range(a):\n",
        "          t[k] = file_req_time[ind[k]]\n",
        "        replace = (t).argsort()[:b]\n",
        "        for k in range(b):\n",
        "          y[j,ind[int(replace[k])]] = 0\n",
        "        for k in range(N):\n",
        "          if b1[k] == 1:\n",
        "            y[j,k] = 1\n",
        "      \n",
        "      else:\n",
        "        for k in range(N):\n",
        "          if a1[k] == 1:\n",
        "            y[j,k] = 0\n",
        "        \n",
        "        ind = []\n",
        "        for k in range(N):\n",
        "          if b1[k] == 1:\n",
        "            ind.append(k)\n",
        "        t = np.zeros(b)\n",
        "        for k in range(b):\n",
        "          t[k] = file_req_time[ind[k]]\n",
        "        replace = (t).argsort()[:a]\n",
        "        for k in range(a):\n",
        "          y[j,ind[int(replace[k])]] = 1\n",
        "  new = y.reshape(J*N).copy()\n",
        "  download = np.sum(np.logical_and(new,np.logical_not(old)))\n",
        "  return y,download"
      ],
      "execution_count": 11,
      "outputs": []
    },
    {
      "cell_type": "markdown",
      "metadata": {
        "id": "rlnncX3lUi-6",
        "colab_type": "text"
      },
      "source": [
        "LFU"
      ]
    },
    {
      "cell_type": "code",
      "metadata": {
        "id": "rZKodE159k31",
        "colab_type": "code",
        "colab": {}
      },
      "source": [
        "def LFU(y,x,freq,con):\n",
        "  [N,I] = x.shape\n",
        "  J = len(y)\n",
        "  old = y.reshape(J*N).copy()\n",
        "  for j in range(J):\n",
        "    file_freq = np.zeros(N)\n",
        "    x_t_j = np.zeros(N)\n",
        "\n",
        "    # to find which users are connected to this cache \n",
        "    connected_users = []\n",
        "    for k in range(I):\n",
        "      if con[k,j] == 1:\n",
        "        connected_users.append(k)\n",
        "    for k in range(len(connected_users)):\n",
        "      x_t_j += x[:,connected_users[k]]\n",
        "      file_freq += freq[:,connected_users[k]]\n",
        "    x_t_j = np.minimum(np.ones(N),x_t_j)\n",
        "\n",
        "    a1 = np.transpose(np.logical_and(y[j],np.logical_not(np.logical_and(y[j],np.transpose(x_t_j)))))# file which is not requested but still in the cache\n",
        "    b1 = np.transpose(np.logical_and(np.transpose(x_t_j),np.logical_not(np.logical_and(y[j],np.transpose(x_t_j))))) # file requested but not in the cache.\n",
        "    a = np.sum(a1)\n",
        "    b = np.sum(b1)\n",
        "  \n",
        "    if a>0 and b>0:\n",
        "      if a>b:\n",
        "        ind = []\n",
        "        for k in range(N):\n",
        "          if a1[k] == 1:\n",
        "            ind.append(k)\n",
        "        t = np.zeros(a)\n",
        "        for k in range(a):\n",
        "          t[k] = file_freq[ind[k]]\n",
        "        replace = (t).argsort()[:b]\n",
        "        for k in range(b):\n",
        "          y[j,ind[int(replace[k])]] = 0\n",
        "        for k in range(N):\n",
        "          if b1[k] == 1:\n",
        "            y[j,k] = 1\n",
        "      else:\n",
        "        for k in range(N):\n",
        "          if a1[k] == 1:\n",
        "            y[j,k] = 0\n",
        "        ind = []\n",
        "        for k in range(N):\n",
        "          if b1[k] == 1:\n",
        "            ind.append(k)\n",
        "        t = np.zeros(b)\n",
        "        for k in range(b):\n",
        "          t[k] = file_freq[ind[k]]\n",
        "        replace = (t).argsort()[:a]\n",
        "        for k in range(a):\n",
        "          y[j,ind[int(replace[k])]] = 1\n",
        "\n",
        "  new = y.reshape(J*N).copy()\n",
        "  download = np.sum(np.logical_and(new,np.logical_not(old)))\n",
        "  return y,download"
      ],
      "execution_count": 12,
      "outputs": []
    },
    {
      "cell_type": "markdown",
      "metadata": {
        "id": "NxQfsTnXWQyP",
        "colab_type": "text"
      },
      "source": [
        "perturbed count"
      ]
    },
    {
      "cell_type": "code",
      "metadata": {
        "id": "V4d6vCcjWOP7",
        "colab_type": "code",
        "colab": {}
      },
      "source": [
        "def per_count(eta,count):\n",
        "  [N,I] = count.shape\n",
        "  p_count = np.zeros((N,I),dtype = float)\n",
        "  for i in range(I):\n",
        "    p_count[:,i] = count[:,i] + (eta*random.normal(0,1,[N,1])).reshape(N)\n",
        "  return p_count"
      ],
      "execution_count": 13,
      "outputs": []
    },
    {
      "cell_type": "markdown",
      "metadata": {
        "id": "WIbLBZBYswP8",
        "colab_type": "text"
      },
      "source": [
        "GREEDY"
      ]
    },
    {
      "cell_type": "code",
      "metadata": {
        "id": "plLnprjKsv75",
        "colab_type": "code",
        "colab": {}
      },
      "source": [
        "def Greedy(con,count):\n",
        "  [I,J] = con.shape\n",
        "  [N,I] = count.shape\n",
        "  load = np.zeros((1,J),dtype = float)\n",
        "\n",
        "  for i in range(I):\n",
        "    for f in range(N):\n",
        "      if count[f,i] < 0:\n",
        "        count[f,i] = 0\n",
        "  \n",
        "  loadc = 0\n",
        "  y = np.zeros((J,N),dtype = float)\n",
        "  z = np.zeros((I,N),dtype = float)\n",
        "  mark = np.zeros((I,N),dtype = float)\n",
        "\n",
        "  while(loadc < J):\n",
        "    best_cache = -1\n",
        "    best_file = -1\n",
        "    best_imp = -1\n",
        "\n",
        "    for j in range(J):\n",
        "      if load[0,j] < C:\n",
        "        for f in range(N):\n",
        "          if y[j,f] != 1:\n",
        "            imp = 0\n",
        "\n",
        "            for i in range(I):\n",
        "              if con[i,j] == 1 and mark[i,f] == 0:\n",
        "                imp += count[f,i]\n",
        "\n",
        "            if imp >= best_imp:\n",
        "              best_cache = j\n",
        "              best_file = f\n",
        "              best_imp = imp\n",
        "\n",
        "    y[best_cache,best_file] = 1\n",
        "\n",
        "    for i in range(I):\n",
        "      if con[i,best_cache] == 1:\n",
        "        mark[i,best_cache] = 1\n",
        "\n",
        "    load[0,best_cache] += 1\n",
        "    if load[0,best_cache] == C:\n",
        "      loadc += 1\n",
        "  \n",
        "  for i in range(I):\n",
        "    for f in range(N):\n",
        "      for j in range(J):\n",
        "        if con[i,j] == 1:\n",
        "          z[i,f] = np.maximum(y[j,f],z[i,f])\n",
        "      \n",
        "  return y,z"
      ],
      "execution_count": 14,
      "outputs": []
    },
    {
      "cell_type": "markdown",
      "metadata": {
        "id": "8RkOlMhDjohA",
        "colab_type": "text"
      },
      "source": [
        "SINGLE CACHE"
      ]
    },
    {
      "cell_type": "code",
      "metadata": {
        "id": "ZyC3_Jwrjn5s",
        "colab_type": "code",
        "colab": {
          "base_uri": "https://localhost:8080/",
          "height": 34
        },
        "outputId": "93416331-2121-4479-ed96-22da994a16ff"
      },
      "source": [
        "I = 1 #users\n",
        "T = 100000\n",
        "degree = 1\n",
        "J = 1 #caches\n",
        "C = 5\n",
        "connection = np.array([[1]])\n",
        "connection.shape"
      ],
      "execution_count": 15,
      "outputs": [
        {
          "output_type": "execute_result",
          "data": {
            "text/plain": [
              "(1, 1)"
            ]
          },
          "metadata": {
            "tags": []
          },
          "execution_count": 15
        }
      ]
    },
    {
      "cell_type": "code",
      "metadata": {
        "id": "4Xqi6iqtfnhE",
        "colab_type": "code",
        "colab": {
          "base_uri": "https://localhost:8080/",
          "height": 34
        },
        "outputId": "3450dc2a-4a91-4ecb-cbca-d37699ca6b23"
      },
      "source": [
        "req = req1[:I*T].reshape(I,T)\n",
        "req"
      ],
      "execution_count": 16,
      "outputs": [
        {
          "output_type": "execute_result",
          "data": {
            "text/plain": [
              "array([[17, 80, 26, ..., 69, 34, 83]])"
            ]
          },
          "metadata": {
            "tags": []
          },
          "execution_count": 16
        }
      ]
    },
    {
      "cell_type": "code",
      "metadata": {
        "id": "7NQUPQz7JvtR",
        "colab_type": "code",
        "colab": {
          "base_uri": "https://localhost:8080/",
          "height": 34
        },
        "outputId": "2bdea8c3-cc3f-4eb5-cc17-ff266f75019f"
      },
      "source": [
        "gen_req = gen_req1[:I*T].reshape(I,T)\n",
        "gen_req"
      ],
      "execution_count": 17,
      "outputs": [
        {
          "output_type": "execute_result",
          "data": {
            "text/plain": [
              "array([[17, 80, 26, ..., 64, 79, 87]])"
            ]
          },
          "metadata": {
            "tags": []
          },
          "execution_count": 17
        }
      ]
    },
    {
      "cell_type": "code",
      "metadata": {
        "id": "pWowJlSAki2e",
        "colab_type": "code",
        "colab": {
          "base_uri": "https://localhost:8080/",
          "height": 185
        },
        "outputId": "554690ee-bc26-41a1-9240-25dca49e4afc"
      },
      "source": [
        "y_LRU = np.zeros((J,N),dtype = float)\n",
        "y_LFU = np.zeros((J,N),dtype = float)\n",
        "y_FTPL = np.zeros((J,N),dtype = float)\n",
        "y_LSTM = np.zeros((J,N),dtype = float)\n",
        "y_LSTM[:,:C] = np.ones((J,C),dtype = float)\n",
        "y_FTPL[:,:C] = np.ones((J,C),dtype = float)\n",
        "y_LRU[:,:C] = np.ones((J,C),dtype = float)\n",
        "y_LFU[:,:C] = np.ones((J,C),dtype = float)\n",
        "count = np.zeros((N,I),dtype = float)\n",
        "reward_LSTM =  np.zeros(T)\n",
        "reward_FTPL =  np.zeros(T)\n",
        "reward_LRU =  np.zeros(T)\n",
        "reward_LFU =  np.zeros(T)\n",
        "hits_FTPL =  []\n",
        "hits_LRU =  []\n",
        "hits_LFU =  []\n",
        "hits_LSTM = []\n",
        "download_FTPL =  []\n",
        "download_LRU =  []\n",
        "download_LFU =  []\n",
        "download_LSTM = []\n",
        "FTPL_downloads_slotwise = np.zeros(T)\n",
        "LFU_downloads_slotwise = np.zeros(T)\n",
        "LRU_downloads_slotwise = np.zeros(T)\n",
        "LSTM_downloads_slotwise = np.zeros(T)\n",
        "req_time = np.zeros((N,I),dtype = float) \n",
        "req_time1 = np.zeros((N,I),dtype = float) \n",
        "\n",
        "for t in range(T):\n",
        "  x_t1 = np.zeros((N,I),dtype = int)\n",
        "  x_t = np.zeros((N,I),dtype = int)\n",
        "  for i in range(I):\n",
        "    x_t[req[i,t],i] += 1\n",
        "    x_t1[gen_req[i,t],i] += 1\n",
        "    count[int(req[i,t]),i] += 1\n",
        "    req_time[int(req[i,t]),i] = t+1\n",
        "    req_time1[int(gen_req[i,t]),i] = t+1\n",
        "  \n",
        "  ireward_LRU =  np.zeros(I)\n",
        "  ireward_LSTM =  np.zeros(I)\n",
        "  ireward_LFU =  np.zeros(I)\n",
        "  ireward_FTPL =  np.zeros(I)\n",
        "  \n",
        "  for i in range(I):\n",
        "    temp1 = np.zeros(N)\n",
        "    temp2 = np.zeros(N)\n",
        "    temp3 = np.zeros(N)\n",
        "    temp4 = np.zeros(N)\n",
        "    connected_cache = []\n",
        "    for j in range(J):\n",
        "      if connection[i,j] == 1:\n",
        "        connected_cache.append(j)\n",
        "    for k in range(len(connected_cache)):\n",
        "      temp1 += y_FTPL[connected_cache[k],:]\n",
        "      temp2 += y_LFU[connected_cache[k],:]\n",
        "      temp3 += y_LRU[connected_cache[k],:]\n",
        "      temp4 += y_LSTM[connected_cache[k],:]\n",
        "    ireward_FTPL[i] += np.dot(np.minimum(np.ones(N),temp1),x_t[:,i])\n",
        "    ireward_LFU[i] += np.dot(np.minimum(np.ones(N),temp2),x_t[:,i])\n",
        "    ireward_LRU[i] += np.dot(np.minimum(np.ones(N),temp3),x_t[:,i])\n",
        "    ireward_LSTM[i] += np.dot(np.minimum(np.ones(N),temp4),x_t1[:,i])\n",
        "\n",
        "  reward_FTPL[t] =  np.sum(ireward_FTPL)\n",
        "  reward_LRU[t] =  np.sum(ireward_LRU)\n",
        "  reward_LFU[t] =  np.sum(ireward_LFU)\n",
        "  reward_LSTM[t] =  np.sum(ireward_LSTM)\n",
        "  reward_LSTMc = np.sum(reward_LSTM)\n",
        "  reward_FTPLc = np.sum(reward_FTPL)\n",
        "  reward_LRUc = np.sum(reward_LRU)\n",
        "  reward_LFUc = np.sum(reward_LFU)\n",
        "\n",
        "  [y_LFU,LFU_downloads_slotwise[t]] = LFU(y_LFU,x_t,count,connection)\n",
        "  [y_LRU,LRU_downloads_slotwise[t]] = LRU(y_LRU,x_t,req_time,connection)\n",
        "  [y_LSTM,LSTM_downloads_slotwise[t]] = LRU(y_LSTM,x_t1,req_time1,connection)\n",
        "\n",
        "  eta = pow(4*pi*np.log(N),-.25)*pow((t+1)/C,.5)\n",
        "  perturbed_count=per_count(eta,count)\n",
        "  old_FTPL = y_FTPL.reshape(J*N)\n",
        "  add = (-perturbed_count[:,0]).argsort()[:C]\n",
        "  y_FTPL = np.zeros((J,N),dtype = float)\n",
        "  for k in range(len(add)):\n",
        "    y_FTPL[0,int(add[k])] = 1 \n",
        "  new_FTPL = y_FTPL.reshape(J*N)\n",
        "  FTPL_downloads_slotwise[t] = (np.sum(np.logical_and(new_FTPL,np.logical_not(old_FTPL))))\n",
        " \n",
        "  download_FTPL.append(np.sum(FTPL_downloads_slotwise))\n",
        "  download_LFU.append(np.sum(LFU_downloads_slotwise))\n",
        "  download_LRU.append(np.sum(LRU_downloads_slotwise))\n",
        "  download_LSTM.append(np.sum(LSTM_downloads_slotwise))\n",
        "\n",
        "  hits_LRU.append(reward_LRUc)\n",
        "  hits_LFU.append(reward_LFUc)\n",
        "  hits_FTPL.append(reward_FTPLc)\n",
        "  hits_LSTM.append(reward_LSTMc)\n",
        "\n",
        "  if t %10000 == 0:\n",
        "    print(t,download_FTPL[t],download_LFU[t],download_LRU[t],download_LSTM[t])"
      ],
      "execution_count": 18,
      "outputs": [
        {
          "output_type": "stream",
          "text": [
            "0 5.0 1.0 1.0 1.0\n",
            "10000 36633.0 9397.0 9477.0 9477.0\n",
            "20000 63022.0 18715.0 18994.0 18994.0\n",
            "30000 85113.0 28029.0 28465.0 27616.0\n",
            "40000 102251.0 37355.0 37919.0 36214.0\n",
            "50000 117242.0 46740.0 47407.0 44815.0\n",
            "60000 130221.0 56073.0 56865.0 53412.0\n",
            "70000 141455.0 65392.0 66324.0 62018.0\n",
            "80000 152140.0 74733.0 75808.0 70578.0\n",
            "90000 161937.0 84087.0 85340.0 79217.0\n"
          ],
          "name": "stdout"
        }
      ]
    },
    {
      "cell_type": "code",
      "metadata": {
        "id": "J_3kWL_JCNjX",
        "colab_type": "code",
        "colab": {
          "base_uri": "https://localhost:8080/",
          "height": 279
        },
        "outputId": "a9770103-0ae3-4d2d-aaf2-63bd7bfde977"
      },
      "source": [
        "plt.plot(hits_FTPL,'black',label='FTPL')\n",
        "plt.plot(hits_LRU,'green',label='LRU')\n",
        "plt.plot(hits_LFU,'blue',label='LFU')\n",
        "plt.plot(hits_LSTM,'red',label='LSTM')\n",
        "plt.xlabel('T')\n",
        "plt.ylabel('Total hits')\n",
        "plt.legend()\n",
        "plt.savefig('Total hits(I=J=1).png')"
      ],
      "execution_count": 19,
      "outputs": [
        {
          "output_type": "display_data",
          "data": {
            "image/png": "[encoded data removed]",
            "text/plain": [
              "<Figure size 432x288 with 1 Axes>"
            ]
          },
          "metadata": {
            "tags": [],
            "needs_background": "light"
          }
        }
      ]
    },
    {
      "cell_type": "code",
      "metadata": {
        "id": "YK-m4yZjrs3l",
        "colab_type": "code",
        "colab": {
          "base_uri": "https://localhost:8080/",
          "height": 279
        },
        "outputId": "38da1880-9bf5-49ec-cad0-24aad98af924"
      },
      "source": [
        "plt.plot(download_FTPL,'black',label='FTPL')\n",
        "plt.plot(download_LRU,'green',label='LRU')\n",
        "plt.plot(download_LFU,'blue',label='LFU')\n",
        "plt.plot(download_LSTM,'red',label='LSTM')\n",
        "plt.xlabel('T')\n",
        "plt.ylabel('New downloads')\n",
        "plt.legend()\n",
        "plt.savefig('New downloads(I=J=1).png')"
      ],
      "execution_count": 20,
      "outputs": [
        {
          "output_type": "display_data",
          "data": {
            "image/png": "[encoded data removed]",
            "text/plain": [
              "<Figure size 432x288 with 1 Axes>"
            ]
          },
          "metadata": {
            "tags": [],
            "needs_background": "light"
          }
        }
      ]
    },
    {
      "cell_type": "markdown",
      "metadata": {
        "id": "Fj30MgQaWN_E",
        "colab_type": "text"
      },
      "source": [
        "I = 5 J = 3 d = 3"
      ]
    },
    {
      "cell_type": "code",
      "metadata": {
        "id": "jA0Kz7jzKJ3G",
        "colab_type": "code",
        "colab": {}
      },
      "source": [
        "C = 5\n",
        "I = 5\n",
        "J = 3\n",
        "degree = 3\n",
        "T = 30000"
      ],
      "execution_count": 37,
      "outputs": []
    },
    {
      "cell_type": "code",
      "metadata": {
        "id": "fkzyLhrGKhB6",
        "colab_type": "code",
        "colab": {
          "base_uri": "https://localhost:8080/",
          "height": 101
        },
        "outputId": "0675b41a-e02b-4efb-84f2-e507cc2dd4a2"
      },
      "source": [
        "connection = np.zeros((I,J),dtype = int)\n",
        "i = 0\n",
        "for j in range(J):\n",
        "  x = 0\n",
        "  while x < degree:\n",
        "    connection[i,j] = 1\n",
        "    x += 1\n",
        "    i += 1\n",
        "    if i == I:\n",
        "      i = 0\n",
        "connection"
      ],
      "execution_count": 38,
      "outputs": [
        {
          "output_type": "execute_result",
          "data": {
            "text/plain": [
              "array([[1, 1, 0],\n",
              "       [1, 0, 1],\n",
              "       [1, 0, 1],\n",
              "       [0, 1, 1],\n",
              "       [0, 1, 0]])"
            ]
          },
          "metadata": {
            "tags": []
          },
          "execution_count": 38
        }
      ]
    },
    {
      "cell_type": "code",
      "metadata": {
        "id": "TIjWw46mSfxG",
        "colab_type": "code",
        "colab": {}
      },
      "source": [
        "gen_req1 = np.load('/content/drive/My Drive/gen_req.npy')\n",
        "req1 = np.load('/content/drive/My Drive/req.npy')\n",
        "req1 = req1[20000:]\n",
        "gen_req1 = gen_req1[20000:]"
      ],
      "execution_count": 39,
      "outputs": []
    },
    {
      "cell_type": "code",
      "metadata": {
        "id": "DNOrEFxxThnu",
        "colab_type": "code",
        "colab": {
          "base_uri": "https://localhost:8080/",
          "height": 34
        },
        "outputId": "6335f18c-95cf-432e-bce6-9886f2ae5206"
      },
      "source": [
        "req = req1.reshape(I,-1)\n",
        "req.shape"
      ],
      "execution_count": 40,
      "outputs": [
        {
          "output_type": "execute_result",
          "data": {
            "text/plain": [
              "(5, 397000)"
            ]
          },
          "metadata": {
            "tags": []
          },
          "execution_count": 40
        }
      ]
    },
    {
      "cell_type": "code",
      "metadata": {
        "id": "DAQ_EHg8TlOp",
        "colab_type": "code",
        "colab": {
          "base_uri": "https://localhost:8080/",
          "height": 34
        },
        "outputId": "38c9c7b0-00b8-4db7-f2f1-9c0a5f77093d"
      },
      "source": [
        "gen_req = gen_req1.reshape(I,-1)\n",
        "gen_req.shape"
      ],
      "execution_count": 41,
      "outputs": [
        {
          "output_type": "execute_result",
          "data": {
            "text/plain": [
              "(5, 447000)"
            ]
          },
          "metadata": {
            "tags": []
          },
          "execution_count": 41
        }
      ]
    },
    {
      "cell_type": "code",
      "metadata": {
        "id": "5U7m8AJ9Sw6B",
        "colab_type": "code",
        "colab": {
          "base_uri": "https://localhost:8080/",
          "height": 521
        },
        "outputId": "e296e691-a3d8-4b48-fa39-73b33eeb7ede"
      },
      "source": [
        "y_LRU = np.zeros((J,N),dtype = float)\n",
        "y_LFU = np.zeros((J,N),dtype = float)\n",
        "y_FTPL = np.zeros((J,N),dtype = float)\n",
        "y_LSTM = np.zeros((J,N),dtype = float)\n",
        "y_LSTM[:,:C] = np.ones((J,C),dtype = float)\n",
        "y_FTPL[:,:C] = np.ones((J,C),dtype = float)\n",
        "y_LRU[:,:C] = np.ones((J,C),dtype = float)\n",
        "y_LFU[:,:C] = np.ones((J,C),dtype = float)\n",
        "count = np.zeros((N,I),dtype = float)\n",
        "reward_LSTM =  np.zeros(T)\n",
        "reward_FTPL =  np.zeros(T)\n",
        "reward_LRU =  np.zeros(T)\n",
        "reward_LFU =  np.zeros(T)\n",
        "hits_FTPL =  []\n",
        "hits_LRU =  []\n",
        "hits_LFU =  []\n",
        "hits_LSTM = []\n",
        "download_FTPL =  []\n",
        "download_LRU =  []\n",
        "download_LFU =  []\n",
        "download_LSTM = []\n",
        "FTPL_downloads_slotwise = np.zeros(T)\n",
        "LFU_downloads_slotwise = np.zeros(T)\n",
        "LRU_downloads_slotwise = np.zeros(T)\n",
        "LSTM_downloads_slotwise = np.zeros(T)\n",
        "req_time = np.zeros((N,I),dtype = float) \n",
        "req_time1 = np.zeros((N,I),dtype = float) \n",
        "\n",
        "for t in range(T):\n",
        "  x_t1 = np.zeros((N,I),dtype = int)\n",
        "  x_t = np.zeros((N,I),dtype = int)\n",
        "  for i in range(I):\n",
        "    x_t[req[i,t],i] += 1\n",
        "    x_t1[gen_req[i,t],i] += 1\n",
        "    count[int(req[i,t]),i] += 1\n",
        "    req_time[int(req[i,t]),i] = t+1\n",
        "    req_time1[int(gen_req[i,t]),i] = t+1\n",
        "  \n",
        "  ireward_LRU =  np.zeros(I)\n",
        "  ireward_LSTM =  np.zeros(I)\n",
        "  ireward_LFU =  np.zeros(I)\n",
        "  ireward_FTPL =  np.zeros(I)\n",
        "  \n",
        "  for i in range(I):\n",
        "    temp1 = np.zeros(N)\n",
        "    temp2 = np.zeros(N)\n",
        "    temp3 = np.zeros(N)\n",
        "    temp4 = np.zeros(N)\n",
        "    connected_cache = []\n",
        "    for j in range(J):\n",
        "      if connection[i,j] == 1:\n",
        "        connected_cache.append(j)\n",
        "    for k in range(len(connected_cache)):\n",
        "      temp1 += y_FTPL[connected_cache[k],:]\n",
        "      temp2 += y_LFU[connected_cache[k],:]\n",
        "      temp3 += y_LRU[connected_cache[k],:]\n",
        "      temp4 += y_LSTM[connected_cache[k],:]\n",
        "    ireward_FTPL[i] += np.dot(np.minimum(np.ones(N),temp1),x_t[:,i])\n",
        "    ireward_LFU[i] += np.dot(np.minimum(np.ones(N),temp2),x_t[:,i])\n",
        "    ireward_LRU[i] += np.dot(np.minimum(np.ones(N),temp3),x_t[:,i])\n",
        "    ireward_LSTM[i] += np.dot(np.minimum(np.ones(N),temp4),x_t1[:,i])\n",
        "\n",
        "  reward_FTPL[t] =  np.sum(ireward_FTPL)\n",
        "  reward_LRU[t] =  np.sum(ireward_LRU)\n",
        "  reward_LFU[t] =  np.sum(ireward_LFU)\n",
        "  reward_LSTM[t] =  np.sum(ireward_LSTM)\n",
        "  reward_LSTMc = np.sum(reward_LSTM)\n",
        "  reward_FTPLc = np.sum(reward_FTPL)\n",
        "  reward_LRUc = np.sum(reward_LRU)\n",
        "  reward_LFUc = np.sum(reward_LFU)\n",
        "\n",
        "  [y_LFU,LFU_downloads_slotwise[t]] = LFU(y_LFU,x_t,count,connection)\n",
        "  [y_LRU,LRU_downloads_slotwise[t]] = LRU(y_LRU,x_t,req_time,connection)\n",
        "  [y_LSTM,LSTM_downloads_slotwise[t]] = LRU(y_LSTM,x_t1,req_time1,connection)\n",
        "\n",
        "  eta = I*pow(4*pi*np.log(N*I),-.25)*pow((t+1)/(J*degree*C),.5)\n",
        "  perturbed_count=per_count(eta,count)\n",
        "  old_FTPL = y_FTPL.reshape(J*N).copy()\n",
        "  [y_FTPL,z] = Greedy(connection,perturbed_count)\n",
        "  new_FTPL = y_FTPL.reshape(J*N).copy()\n",
        "  FTPL_downloads_slotwise[t] = (np.sum(np.logical_and(new_FTPL,np.logical_not(old_FTPL))))\n",
        " \n",
        "  download_FTPL.append(np.sum(FTPL_downloads_slotwise))\n",
        "  download_LFU.append(np.sum(LFU_downloads_slotwise))\n",
        "  download_LRU.append(np.sum(LRU_downloads_slotwise))\n",
        "  download_LSTM.append(np.sum(LSTM_downloads_slotwise))\n",
        "\n",
        "  hits_LRU.append(reward_LRUc)\n",
        "  hits_LFU.append(reward_LFUc)\n",
        "  hits_FTPL.append(reward_FTPLc)\n",
        "  hits_LSTM.append(reward_LSTMc)\n",
        "\n",
        "  if t %1000 == 0:\n",
        "    print(t,download_FTPL[t],download_LFU[t],download_LRU[t],download_LSTM[t],hits_FTPL[t],hits_LFU[t],hits_LRU[t],hits_LSTM[t])"
      ],
      "execution_count": 42,
      "outputs": [
        {
          "output_type": "stream",
          "text": [
            "0 14.0 9.0 9.0 8.0 0.0 0.0 0.0 0.0\n",
            "1000 13396.0 8437.0 8469.0 7895.0 431.0 374.0 362.0 634.0\n",
            "2000 26211.0 16792.0 16909.0 15702.0 848.0 802.0 735.0 1302.0\n",
            "3000 38457.0 25204.0 25332.0 23453.0 1292.0 1160.0 1118.0 2014.0\n",
            "4000 50353.0 33591.0 33809.0 31031.0 1713.0 1538.0 1458.0 2760.0\n",
            "5000 61845.0 41969.0 42253.0 38715.0 2174.0 1925.0 1820.0 3436.0\n",
            "6000 72829.0 50354.0 50743.0 46447.0 2601.0 2311.0 2154.0 4172.0\n",
            "7000 82940.0 58705.0 59182.0 54194.0 3078.0 2708.0 2512.0 4877.0\n",
            "8000 92543.0 67061.0 67586.0 61930.0 3550.0 3122.0 2900.0 5592.0\n",
            "9000 101602.0 75447.0 76026.0 69427.0 3983.0 3532.0 3265.0 6406.0\n",
            "10000 109975.0 83765.0 84413.0 77284.0 4424.0 3991.0 3649.0 7037.0\n",
            "11000 117734.0 92089.0 92861.0 85040.0 4869.0 4432.0 4015.0 7724.0\n",
            "12000 125137.0 100503.0 101317.0 92785.0 5291.0 4820.0 4360.0 8412.0\n",
            "13000 132478.0 108823.0 109734.0 100266.0 5709.0 5222.0 4752.0 9218.0\n",
            "14000 139465.0 117218.0 118201.0 108003.0 6133.0 5578.0 5101.0 9919.0\n",
            "15000 146505.0 125610.0 126670.0 115746.0 6540.0 5941.0 5447.0 10631.0\n",
            "16000 153361.0 134034.0 135166.0 123515.0 6952.0 6281.0 5787.0 11294.0\n",
            "17000 160049.0 142430.0 143630.0 130994.0 7383.0 6613.0 6118.0 12101.0\n",
            "18000 166606.0 150851.0 152112.0 138785.0 7815.0 6989.0 6470.0 12785.0\n",
            "19000 173100.0 159217.0 160555.0 146585.0 8233.0 7397.0 6836.0 13459.0\n",
            "20000 179416.0 167602.0 169022.0 154407.0 8670.0 7782.0 7190.0 14080.0\n",
            "21000 185287.0 175915.0 177455.0 161874.0 9091.0 8211.0 7569.0 14899.0\n",
            "22000 191014.0 184302.0 185910.0 169556.0 9500.0 8584.0 7925.0 15628.0\n",
            "23000 196553.0 192677.0 194360.0 177297.0 9890.0 8958.0 8286.0 16339.0\n",
            "24000 201925.0 201116.0 202859.0 185119.0 10285.0 9299.0 8638.0 17000.0\n",
            "25000 207273.0 209538.0 211317.0 192844.0 10678.0 9637.0 8998.0 17678.0\n",
            "26000 212740.0 217928.0 219733.0 200386.0 11080.0 9994.0 9391.0 18483.0\n",
            "27000 218122.0 226324.0 228196.0 208067.0 11472.0 10346.0 9744.0 19246.0\n",
            "28000 223397.0 234655.0 236599.0 215819.0 11880.0 10724.0 10121.0 19936.0\n",
            "29000 228673.0 243064.0 245066.0 223561.0 12270.0 11061.0 10466.0 20645.0\n"
          ],
          "name": "stdout"
        }
      ]
    },
    {
      "cell_type": "code",
      "metadata": {
        "id": "u33MS3DDT1CZ",
        "colab_type": "code",
        "colab": {
          "base_uri": "https://localhost:8080/",
          "height": 279
        },
        "outputId": "d2be68dd-1eaa-45d8-c29a-80d1b03442f0"
      },
      "source": [
        "plt.plot(hits_FTPL,'black',label='FTPL')\n",
        "plt.plot(hits_LRU,'green',label='LRU')\n",
        "plt.plot(hits_LFU,'blue',label='LFU')\n",
        "plt.plot(hits_LSTM,'red',label='LSTM')\n",
        "plt.xlabel('T')\n",
        "plt.ylabel('total hits')\n",
        "plt.legend()\n",
        "plt.savefig('Total hits(I=5 J=3 d=3).png')"
      ],
      "execution_count": 43,
      "outputs": [
        {
          "output_type": "display_data",
          "data": {
            "image/png": "[encoded data removed]",
            "text/plain": [
              "<Figure size 432x288 with 1 Axes>"
            ]
          },
          "metadata": {
            "tags": [],
            "needs_background": "light"
          }
        }
      ]
    },
    {
      "cell_type": "code",
      "metadata": {
        "id": "BO6RqcCjt-I0",
        "colab_type": "code",
        "colab": {
          "base_uri": "https://localhost:8080/",
          "height": 279
        },
        "outputId": "3024e007-1734-4a48-91ca-6e9d3810c497"
      },
      "source": [
        "plt.plot(download_FTPL,'black',label='FTPL')\n",
        "plt.plot(download_LRU,'green',label='LRU')\n",
        "plt.plot(download_LFU,'blue',label='LFU')\n",
        "plt.plot(download_LSTM,'red',label='LSTM')\n",
        "plt.xlabel('T')\n",
        "plt.ylabel('New downloads')\n",
        "plt.legend()\n",
        "plt.savefig('New downloads(I=5 J=3 d=3).png')"
      ],
      "execution_count": 45,
      "outputs": [
        {
          "output_type": "display_data",
          "data": {
            "image/png": "[encoded data removed]",
            "text/plain": [
              "<Figure size 432x288 with 1 Axes>"
            ]
          },
          "metadata": {
            "tags": [],
            "needs_background": "light"
          }
        }
      ]
    },
    {
      "cell_type": "markdown",
      "metadata": {
        "id": "BdHsz8OLbfRt",
        "colab_type": "text"
      },
      "source": [
        "I = 15 J = 10 d = 7"
      ]
    },
    {
      "cell_type": "code",
      "metadata": {
        "id": "2k2iUESfYkec",
        "colab_type": "code",
        "colab": {}
      },
      "source": [
        "I = 15\n",
        "J = 10\n",
        "C = 15\n",
        "degree = 7\n",
        "T = 10000"
      ],
      "execution_count": 53,
      "outputs": []
    },
    {
      "cell_type": "code",
      "metadata": {
        "id": "P6LK3SH5cVIs",
        "colab_type": "code",
        "colab": {
          "base_uri": "https://localhost:8080/",
          "height": 269
        },
        "outputId": "85b9f8c8-928c-41b2-844a-ba1925f88603"
      },
      "source": [
        "connection = np.zeros((I,J),dtype = int)\n",
        "i = 0\n",
        "for j in range(J):\n",
        "  x = 0\n",
        "  while x < degree:\n",
        "    connection[i,j] = 1\n",
        "    x += 1\n",
        "    i += 1\n",
        "    if i == I:\n",
        "      i = 0\n",
        "connection"
      ],
      "execution_count": 54,
      "outputs": [
        {
          "output_type": "execute_result",
          "data": {
            "text/plain": [
              "array([[1, 0, 1, 0, 1, 0, 1, 0, 1, 0],\n",
              "       [1, 0, 1, 0, 1, 0, 1, 0, 1, 0],\n",
              "       [1, 0, 1, 0, 1, 0, 1, 0, 1, 0],\n",
              "       [1, 0, 1, 0, 1, 0, 1, 0, 0, 1],\n",
              "       [1, 0, 1, 0, 1, 0, 0, 1, 0, 1],\n",
              "       [1, 0, 1, 0, 0, 1, 0, 1, 0, 1],\n",
              "       [1, 0, 0, 1, 0, 1, 0, 1, 0, 1],\n",
              "       [0, 1, 0, 1, 0, 1, 0, 1, 0, 1],\n",
              "       [0, 1, 0, 1, 0, 1, 0, 1, 0, 1],\n",
              "       [0, 1, 0, 1, 0, 1, 0, 1, 0, 1],\n",
              "       [0, 1, 0, 1, 0, 1, 0, 1, 0, 0],\n",
              "       [0, 1, 0, 1, 0, 1, 0, 0, 1, 0],\n",
              "       [0, 1, 0, 1, 0, 0, 1, 0, 1, 0],\n",
              "       [0, 1, 0, 0, 1, 0, 1, 0, 1, 0],\n",
              "       [0, 0, 1, 0, 1, 0, 1, 0, 1, 0]])"
            ]
          },
          "metadata": {
            "tags": []
          },
          "execution_count": 54
        }
      ]
    },
    {
      "cell_type": "code",
      "metadata": {
        "id": "fHrvasV4Xl3O",
        "colab_type": "code",
        "colab": {}
      },
      "source": [
        "gen_req1 = np.load('/content/drive/My Drive/gen_req.npy')\n",
        "req1 = np.load('/content/drive/My Drive/req.npy')\n",
        "req1 = req1[20000:2004995]\n",
        "gen_req1 = gen_req1[20000:]"
      ],
      "execution_count": 55,
      "outputs": []
    },
    {
      "cell_type": "code",
      "metadata": {
        "id": "bxgJO20wXaAR",
        "colab_type": "code",
        "colab": {
          "base_uri": "https://localhost:8080/",
          "height": 34
        },
        "outputId": "f9ca5dff-a741-48bd-d2bb-b3242f90cb61"
      },
      "source": [
        "req = req1.reshape(I,-1)\n",
        "req.shape"
      ],
      "execution_count": 56,
      "outputs": [
        {
          "output_type": "execute_result",
          "data": {
            "text/plain": [
              "(15, 132333)"
            ]
          },
          "metadata": {
            "tags": []
          },
          "execution_count": 56
        }
      ]
    },
    {
      "cell_type": "code",
      "metadata": {
        "id": "-JCKP3hMXiq-",
        "colab_type": "code",
        "colab": {
          "base_uri": "https://localhost:8080/",
          "height": 34
        },
        "outputId": "ae48ec2a-bef6-4325-da6b-8c2c090a9511"
      },
      "source": [
        "gen_req = gen_req1.reshape(I,-1)\n",
        "gen_req.shape"
      ],
      "execution_count": 57,
      "outputs": [
        {
          "output_type": "execute_result",
          "data": {
            "text/plain": [
              "(15, 149000)"
            ]
          },
          "metadata": {
            "tags": []
          },
          "execution_count": 57
        }
      ]
    },
    {
      "cell_type": "code",
      "metadata": {
        "id": "Oke-J6xqgp0l",
        "colab_type": "code",
        "colab": {
          "base_uri": "https://localhost:8080/",
          "height": 1000
        },
        "outputId": "8f3cc409-5af1-4592-872f-1e2bdb1dd148"
      },
      "source": [
        "y_LRU = np.zeros((J,N),dtype = float)\n",
        "y_LFU = np.zeros((J,N),dtype = float)\n",
        "y_FTPL = np.zeros((J,N),dtype = float)\n",
        "y_LSTM = np.zeros((J,N),dtype = float)\n",
        "y_LSTM[:,:C] = np.ones((J,C),dtype = float)\n",
        "y_FTPL[:,:C] = np.ones((J,C),dtype = float)\n",
        "y_LRU[:,:C] = np.ones((J,C),dtype = float)\n",
        "y_LFU[:,:C] = np.ones((J,C),dtype = float)\n",
        "count = np.zeros((N,I),dtype = float)\n",
        "reward_LSTM =  np.zeros(T)\n",
        "reward_FTPL =  np.zeros(T)\n",
        "reward_LRU =  np.zeros(T)\n",
        "reward_LFU =  np.zeros(T)\n",
        "hits_FTPL =  []\n",
        "hits_LRU =  []\n",
        "hits_LFU =  []\n",
        "hits_LSTM = []\n",
        "download_FTPL =  []\n",
        "download_LRU =  []\n",
        "download_LFU =  []\n",
        "download_LSTM = []\n",
        "FTPL_downloads_slotwise = np.zeros(T)\n",
        "LFU_downloads_slotwise = np.zeros(T)\n",
        "LRU_downloads_slotwise = np.zeros(T)\n",
        "LSTM_downloads_slotwise = np.zeros(T)\n",
        "req_time = np.zeros((N,I),dtype = float) \n",
        "req_time1 = np.zeros((N,I),dtype = float) \n",
        "\n",
        "for t in range(T):\n",
        "  x_t1 = np.zeros((N,I),dtype = int)\n",
        "  x_t = np.zeros((N,I),dtype = int)\n",
        "  for i in range(I):\n",
        "    x_t[req[i,t],i] += 1\n",
        "    x_t1[gen_req[i,t],i] += 1\n",
        "    count[int(req[i,t]),i] += 1\n",
        "    req_time[int(req[i,t]),i] = t+1\n",
        "    req_time1[int(gen_req[i,t]),i] = t+1\n",
        "  \n",
        "  ireward_LRU =  np.zeros(I)\n",
        "  ireward_LSTM =  np.zeros(I)\n",
        "  ireward_LFU =  np.zeros(I)\n",
        "  ireward_FTPL =  np.zeros(I)\n",
        "  \n",
        "  for i in range(I):\n",
        "    temp1 = np.zeros(N)\n",
        "    temp2 = np.zeros(N)\n",
        "    temp3 = np.zeros(N)\n",
        "    temp4 = np.zeros(N)\n",
        "    connected_cache = []\n",
        "    for j in range(J):\n",
        "      if connection[i,j] == 1:\n",
        "        connected_cache.append(j)\n",
        "    for k in range(len(connected_cache)):\n",
        "      temp1 += y_FTPL[connected_cache[k],:]\n",
        "      temp2 += y_LFU[connected_cache[k],:]\n",
        "      temp3 += y_LRU[connected_cache[k],:]\n",
        "      temp4 += y_LSTM[connected_cache[k],:]\n",
        "    ireward_FTPL[i] += np.dot(np.minimum(np.ones(N),temp1),x_t[:,i])\n",
        "    ireward_LFU[i] += np.dot(np.minimum(np.ones(N),temp2),x_t[:,i])\n",
        "    ireward_LRU[i] += np.dot(np.minimum(np.ones(N),temp3),x_t[:,i])\n",
        "    ireward_LSTM[i] += np.dot(np.minimum(np.ones(N),temp4),x_t1[:,i])\n",
        "\n",
        "  reward_FTPL[t] =  np.sum(ireward_FTPL)\n",
        "  reward_LRU[t] =  np.sum(ireward_LRU)\n",
        "  reward_LFU[t] =  np.sum(ireward_LFU)\n",
        "  reward_LSTM[t] =  np.sum(ireward_LSTM)\n",
        "  reward_LSTMc = np.sum(reward_LSTM)\n",
        "  reward_FTPLc = np.sum(reward_FTPL)\n",
        "  reward_LRUc = np.sum(reward_LRU)\n",
        "  reward_LFUc = np.sum(reward_LFU)\n",
        "\n",
        "  [y_LFU,LFU_downloads_slotwise[t]] = LFU(y_LFU,x_t,count,connection)\n",
        "  [y_LRU,LRU_downloads_slotwise[t]] = LRU(y_LRU,x_t,req_time,connection)\n",
        "  [y_LSTM,LSTM_downloads_slotwise[t]] = LRU(y_LSTM,x_t1,req_time1,connection)\n",
        "\n",
        "  eta = I*pow(4*pi*np.log(N*I),-.25)*pow((t+1)/(J*degree*C),.5)\n",
        "  perturbed_count=per_count(eta,count)\n",
        "  old_FTPL = y_FTPL.reshape(J*N).copy()\n",
        "  [y_FTPL,z] = Greedy(connection,perturbed_count)\n",
        "  new_FTPL = y_FTPL.reshape(J*N).copy()\n",
        "  FTPL_downloads_slotwise[t] = (np.sum(np.logical_and(new_FTPL,np.logical_not(old_FTPL))))\n",
        " \n",
        "  download_FTPL.append(np.sum(FTPL_downloads_slotwise))\n",
        "  download_LFU.append(np.sum(LFU_downloads_slotwise))\n",
        "  download_LRU.append(np.sum(LRU_downloads_slotwise))\n",
        "  download_LSTM.append(np.sum(LSTM_downloads_slotwise))\n",
        "\n",
        "  hits_LRU.append(reward_LRUc)\n",
        "  hits_LFU.append(reward_LFUc)\n",
        "  hits_FTPL.append(reward_FTPLc)\n",
        "  hits_LSTM.append(reward_LSTMc)\n",
        "\n",
        "  if t %100 == 0:\n",
        "    print(t,download_FTPL[t],download_LFU[t],download_LRU[t],download_LSTM[t],hits_FTPL[t],hits_LFU[t],hits_LRU[t],hits_LSTM[t])"
      ],
      "execution_count": 58,
      "outputs": [
        {
          "output_type": "stream",
          "text": [
            "0 141.0 69.0 69.0 60.0 0.0 0.0 0.0 1.0\n",
            "100 9911.0 5826.0 5875.0 5775.0 482.0 439.0 371.0 392.0\n",
            "200 19891.0 11520.0 11678.0 11063.0 990.0 902.0 738.0 795.0\n",
            "300 29736.0 17185.0 17464.0 16411.0 1459.0 1346.0 1087.0 1199.0\n",
            "400 39415.0 22856.0 23264.0 22045.0 1935.0 1806.0 1454.0 1611.0\n",
            "500 48916.0 28489.0 28917.0 27541.0 2412.0 2234.0 1863.0 2005.0\n",
            "600 57992.0 34110.0 34661.0 32707.0 2884.0 2632.0 2225.0 2434.0\n",
            "700 66993.0 39707.0 40424.0 38457.0 3385.0 3051.0 2598.0 2797.0\n",
            "800 75772.0 45342.0 46170.0 43755.0 3858.0 3454.0 2977.0 3212.0\n",
            "900 84362.0 51007.0 51973.0 48891.0 4334.0 3834.0 3355.0 3689.0\n",
            "1000 92804.0 56658.0 57762.0 54507.0 4822.0 4202.0 3720.0 4090.0\n",
            "1100 100916.0 62282.0 63552.0 59800.0 5308.0 4600.0 4088.0 4509.0\n",
            "1200 108969.0 67788.0 69235.0 65126.0 5794.0 5029.0 4494.0 4906.0\n",
            "1300 116663.0 73529.0 75026.0 70831.0 6265.0 5398.0 4861.0 5303.0\n",
            "1400 124108.0 79164.0 80688.0 76202.0 6715.0 5784.0 5256.0 5702.0\n",
            "1500 131445.0 84693.0 86327.0 81393.0 7190.0 6199.0 5663.0 6149.0\n",
            "1600 138583.0 90364.0 92122.0 87012.0 7639.0 6583.0 6025.0 6529.0\n",
            "1700 145879.0 96057.0 97830.0 92448.0 8096.0 6962.0 6420.0 6907.0\n",
            "1800 152823.0 101586.0 103568.0 97640.0 8547.0 7384.0 6800.0 7352.0\n",
            "1900 159696.0 107215.0 109291.0 103279.0 9027.0 7794.0 7190.0 7752.0\n",
            "2000 166507.0 112825.0 114933.0 108696.0 9488.0 8199.0 7593.0 8154.0\n",
            "2100 172957.0 118488.0 120772.0 113968.0 9959.0 8566.0 7937.0 8584.0\n",
            "2200 179517.0 124064.0 126537.0 119511.0 10422.0 8970.0 8302.0 9007.0\n",
            "2300 185987.0 129619.0 132247.0 125031.0 10884.0 9376.0 8686.0 9359.0\n",
            "2400 192180.0 135161.0 137967.0 130265.0 11333.0 9779.0 9056.0 9779.0\n",
            "2500 198238.0 140716.0 143591.0 135861.0 11765.0 10187.0 9477.0 10175.0\n",
            "2600 204493.0 146297.0 149328.0 141238.0 12189.0 10589.0 9853.0 10564.0\n",
            "2700 210579.0 151866.0 155067.0 146563.0 12636.0 11000.0 10237.0 10957.0\n",
            "2800 216617.0 157537.0 160877.0 152026.0 13057.0 11380.0 10609.0 11397.0\n",
            "2900 222659.0 163225.0 166698.0 157554.0 13503.0 11741.0 10963.0 11742.0\n",
            "3000 228470.0 168770.0 172400.0 162787.0 13947.0 12141.0 11348.0 12159.0\n",
            "3100 234436.0 174354.0 178171.0 168313.0 14394.0 12526.0 11727.0 12558.0\n",
            "3200 240290.0 180065.0 183949.0 173821.0 14798.0 12881.0 12095.0 12923.0\n",
            "3300 246171.0 185624.0 189710.0 179126.0 15248.0 13283.0 12478.0 13345.0\n",
            "3400 251914.0 191231.0 195440.0 184658.0 15692.0 13681.0 12864.0 13756.0\n",
            "3500 257548.0 196810.0 201240.0 190222.0 16142.0 14079.0 13232.0 14125.0\n",
            "3600 263079.0 202418.0 206962.0 195341.0 16554.0 14455.0 13612.0 14554.0\n",
            "3700 268592.0 208134.0 212789.0 200762.0 16979.0 14813.0 13972.0 14988.0\n",
            "3800 274043.0 213808.0 218602.0 206339.0 17398.0 15176.0 14328.0 15345.0\n",
            "3900 279546.0 219436.0 224382.0 211606.0 17812.0 15539.0 14701.0 15740.0\n",
            "4000 285088.0 225047.0 230170.0 217096.0 18245.0 15906.0 15065.0 16148.0\n",
            "4100 290668.0 230566.0 235914.0 222738.0 18682.0 16295.0 15447.0 16487.0\n",
            "4200 296103.0 236149.0 241678.0 228068.0 19102.0 16667.0 15820.0 16906.0\n",
            "4300 301555.0 241772.0 247417.0 233452.0 19537.0 17048.0 16217.0 17334.0\n",
            "4400 306943.0 247355.0 253120.0 239056.0 19981.0 17427.0 16578.0 17711.0\n",
            "4500 312217.0 252908.0 258815.0 244235.0 20392.0 17827.0 16977.0 18145.0\n",
            "4600 317476.0 258513.0 264506.0 249708.0 20803.0 18216.0 17369.0 18543.0\n",
            "4700 322650.0 264116.0 270284.0 255284.0 21218.0 18595.0 17723.0 18923.0\n",
            "4800 327645.0 269716.0 276059.0 260671.0 21621.0 18976.0 18104.0 19320.0\n",
            "4900 332800.0 275318.0 281643.0 266119.0 21997.0 19359.0 18530.0 19744.0\n",
            "5000 338045.0 280848.0 287279.0 271710.0 22401.0 19753.0 18937.0 20111.0\n",
            "5100 343178.0 286423.0 293084.0 276998.0 22830.0 20130.0 19303.0 20497.0\n",
            "5200 348266.0 292086.0 298882.0 282351.0 23227.0 20492.0 19664.0 20931.0\n",
            "5300 353345.0 297708.0 304602.0 287931.0 23633.0 20880.0 20052.0 21318.0\n",
            "5400 358447.0 303268.0 310391.0 293115.0 24091.0 21269.0 20419.0 21756.0\n",
            "5500 363499.0 308719.0 316130.0 298563.0 24520.0 21690.0 20807.0 22179.0\n",
            "5600 368212.0 314340.0 321886.0 304023.0 24933.0 22081.0 21187.0 22591.0\n",
            "5700 373040.0 319897.0 327488.0 309335.0 25361.0 22481.0 21605.0 22988.0\n",
            "5800 377948.0 325439.0 333213.0 314616.0 25787.0 22846.0 21985.0 23448.0\n",
            "5900 382808.0 331030.0 339017.0 320230.0 26202.0 23217.0 22352.0 23852.0\n",
            "6000 387504.0 336661.0 344800.0 325573.0 26620.0 23591.0 22721.0 24252.0\n",
            "6100 392265.0 342274.0 350477.0 330839.0 27021.0 23966.0 23112.0 24681.0\n",
            "6200 396904.0 347794.0 356125.0 336518.0 27425.0 24356.0 23524.0 25053.0\n",
            "6300 401517.0 353418.0 361883.0 341748.0 27817.0 24715.0 23887.0 25472.0\n",
            "6400 406144.0 359021.0 367725.0 347086.0 28247.0 25081.0 24247.0 25891.0\n",
            "6500 410792.0 364596.0 373429.0 352824.0 28670.0 25447.0 24627.0 26253.0\n",
            "6600 415388.0 370076.0 379138.0 358096.0 29084.0 25839.0 25009.0 26661.0\n",
            "6700 419956.0 375710.0 384938.0 363319.0 29482.0 26198.0 25373.0 27092.0\n",
            "6800 424680.0 381243.0 390614.0 368976.0 29881.0 26566.0 25750.0 27480.0\n",
            "6900 429177.0 386809.0 396324.0 374286.0 30285.0 26934.0 26146.0 27887.0\n",
            "7000 433599.0 392392.0 402076.0 379537.0 30648.0 27292.0 26524.0 28324.0\n",
            "7100 438103.0 398004.0 407737.0 385293.0 31045.0 27646.0 26919.0 28696.0\n",
            "7200 442669.0 403709.0 413494.0 390523.0 31432.0 27997.0 27305.0 29100.0\n",
            "7300 447248.0 409340.0 419243.0 395674.0 31826.0 28354.0 27682.0 29572.0\n",
            "7400 451827.0 414849.0 424952.0 401394.0 32218.0 28715.0 28063.0 29971.0\n",
            "7500 456273.0 420385.0 430757.0 406668.0 32624.0 29090.0 28417.0 30396.0\n",
            "7600 460864.0 425958.0 436544.0 411896.0 33023.0 29451.0 28778.0 30820.0\n",
            "7700 465308.0 431395.0 442139.0 417528.0 33460.0 29858.0 29186.0 31213.0\n",
            "7800 469757.0 437036.0 447986.0 422741.0 33826.0 30204.0 29523.0 31656.0\n",
            "7900 474174.0 442599.0 453613.0 428130.0 34226.0 30568.0 29915.0 32043.0\n",
            "8000 478436.0 448006.0 459238.0 433823.0 34640.0 30978.0 30319.0 32435.0\n",
            "8100 482773.0 453660.0 464972.0 439087.0 35028.0 31333.0 30702.0 32858.0\n",
            "8200 487137.0 459138.0 470685.0 444389.0 35451.0 31727.0 31076.0 33248.0\n",
            "8300 491541.0 464745.0 476400.0 450156.0 35858.0 32086.0 31450.0 33613.0\n",
            "8400 495898.0 470242.0 482109.0 455457.0 36283.0 32493.0 31866.0 34041.0\n",
            "8500 500160.0 475923.0 487866.0 460658.0 36709.0 32843.0 32253.0 34492.0\n",
            "8600 504368.0 481502.0 493530.0 466311.0 37132.0 33226.0 32667.0 34900.0\n",
            "8700 508565.0 486992.0 499176.0 471627.0 37521.0 33616.0 33074.0 35316.0\n",
            "8800 512737.0 492507.0 504881.0 476833.0 37912.0 33991.0 33468.0 35740.0\n",
            "8900 516844.0 497963.0 510616.0 482488.0 38337.0 34370.0 33835.0 36160.0\n",
            "9000 520993.0 503559.0 516480.0 487798.0 38742.0 34730.0 34186.0 36562.0\n",
            "9100 525202.0 509181.0 522231.0 492953.0 39131.0 35077.0 34557.0 37008.0\n",
            "9200 529309.0 514824.0 527948.0 498620.0 39529.0 35441.0 34960.0 37407.0\n",
            "9300 533440.0 520400.0 533627.0 503980.0 39896.0 35802.0 35338.0 37823.0\n",
            "9400 537541.0 525986.0 539347.0 509263.0 40292.0 36175.0 35729.0 38250.0\n",
            "9500 541704.0 531615.0 545088.0 514904.0 40696.0 36526.0 36112.0 38652.0\n",
            "9600 545855.0 537206.0 550783.0 520312.0 41083.0 36899.0 36499.0 39033.0\n",
            "9700 550018.0 542777.0 556570.0 525556.0 41506.0 37271.0 36872.0 39435.0\n",
            "9800 554073.0 548420.0 562320.0 531080.0 41894.0 37617.0 37259.0 39850.0\n",
            "9900 558298.0 554011.0 568075.0 536442.0 42283.0 37983.0 37629.0 40266.0\n"
          ],
          "name": "stdout"
        }
      ]
    },
    {
      "cell_type": "code",
      "metadata": {
        "id": "2iv4C7Z09VGe",
        "colab_type": "code",
        "colab": {
          "base_uri": "https://localhost:8080/",
          "height": 279
        },
        "outputId": "53120163-e447-4017-e75e-639c27c16606"
      },
      "source": [
        "plt.plot(hits_FTPL,'black',label='FTPL')\n",
        "plt.plot(hits_LRU,'green',label='LRU')\n",
        "plt.plot(hits_LFU,'blue',label='LFU')\n",
        "plt.plot(hits_LSTM,'red',label='LSTM')\n",
        "plt.xlabel('T')\n",
        "plt.ylabel('total hits')\n",
        "plt.legend()\n",
        "plt.savefig('Total hits(I=15 J=10 d=7).png')"
      ],
      "execution_count": 59,
      "outputs": [
        {
          "output_type": "display_data",
          "data": {
            "image/png": "[encoded data removed]",
            "text/plain": [
              "<Figure size 432x288 with 1 Axes>"
            ]
          },
          "metadata": {
            "tags": [],
            "needs_background": "light"
          }
        }
      ]
    },
    {
      "cell_type": "code",
      "metadata": {
        "id": "0BUxR46t9YE8",
        "colab_type": "code",
        "colab": {
          "base_uri": "https://localhost:8080/",
          "height": 282
        },
        "outputId": "d9265404-af88-4f72-84ab-dad320b09229"
      },
      "source": [
        "plt.plot(download_FTPL,'black',label='FTPL')\n",
        "plt.plot(download_LRU,'green',label='LRU')\n",
        "plt.plot(download_LFU,'blue',label='LFU')\n",
        "plt.plot(download_LSTM,'red',label='LSTM')\n",
        "plt.xlabel('T')\n",
        "plt.ylabel('new downloads')\n",
        "plt.legend()\n",
        "plt.savefig('New downloads(I=15 J=10 d=7).png')"
      ],
      "execution_count": 60,
      "outputs": [
        {
          "output_type": "display_data",
          "data": {
            "image/png": "[encoded data removed]",
            "text/plain": [
              "<Figure size 432x288 with 1 Axes>"
            ]
          },
          "metadata": {
            "tags": [],
            "needs_background": "light"
          }
        }
      ]
    },
    {
      "cell_type": "code",
      "metadata": {
        "id": "Y3BSdBiwipHp",
        "colab_type": "code",
        "colab": {}
      },
      "source": [
        ""
      ],
      "execution_count": null,
      "outputs": []
    }
  ]
}