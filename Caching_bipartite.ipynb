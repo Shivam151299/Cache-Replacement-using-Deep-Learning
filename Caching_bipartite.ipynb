{
  "nbformat": 4,
  "nbformat_minor": 0,
  "metadata": {
    "colab": {
      "name": "Caching bipartite",
      "provenance": [],
      "collapsed_sections": []
    },
    "kernelspec": {
      "name": "python3",
      "display_name": "Python 3"
    }
  },
  "cells": [
    {
      "cell_type": "code",
      "metadata": {
        "id": "g6dzR9rt_krF",
        "colab_type": "code",
        "colab": {}
      },
      "source": [
        "import numpy as np\n",
        "from numpy import random\n",
        "import matplotlib.pyplot as plt\n",
        "%matplotlib inline"
      ],
      "execution_count": 1,
      "outputs": []
    },
    {
      "cell_type": "code",
      "metadata": {
        "id": "eki7BDaX_RpP",
        "colab_type": "code",
        "colab": {}
      },
      "source": [
        "gen_req1 = np.load('/content/drive/My Drive/gen_req.npy')\n",
        "req1 = np.load('/content/drive/My Drive/req.npy')"
      ],
      "execution_count": 2,
      "outputs": []
    },
    {
      "cell_type": "code",
      "metadata": {
        "id": "lAcMUnr1RECc",
        "colab_type": "code",
        "colab": {
          "base_uri": "https://localhost:8080/",
          "height": 34
        },
        "outputId": "aa5a9eb4-543c-4176-a314-6bf136b5f935"
      },
      "source": [
        "#req1 = req1[20000:2005000]\n",
        "#gen_req1 = gen_req1[20000:2005000]\n",
        "req1.shape,gen_req1.shape"
      ],
      "execution_count": 3,
      "outputs": [
        {
          "output_type": "execute_result",
          "data": {
            "text/plain": [
              "((2005000,), (2255000,))"
            ]
          },
          "metadata": {
            "tags": []
          },
          "execution_count": 3
        }
      ]
    },
    {
      "cell_type": "code",
      "metadata": {
        "id": "SOUAMkThUS-c",
        "colab_type": "code",
        "colab": {}
      },
      "source": [
        "N = 100 # total ids \n",
        "pi = 3.14"
      ],
      "execution_count": 4,
      "outputs": []
    },
    {
      "cell_type": "markdown",
      "metadata": {
        "id": "Av1Kgt5FUF3x",
        "colab_type": "text"
      },
      "source": [
        "LRU"
      ]
    },
    {
      "cell_type": "code",
      "metadata": {
        "id": "IU2Dme6MjK66",
        "colab_type": "code",
        "colab": {}
      },
      "source": [
        "def LRU(y, x, request_time,con):\n",
        "  [N,I] = x.shape\n",
        "  J = len(y)\n",
        "  for j in range(J):\n",
        "    x_t_j = np.zeros(N)\n",
        "    file_req_time = np.zeros(N)\n",
        "\n",
        "    # to find which users are connected to this cache \n",
        "    connected_users = []\n",
        "    for k in range(I):\n",
        "      if con[k,j] == 1:\n",
        "        connected_users.append(k)\n",
        "    for k in range(len(connected_users)):\n",
        "      x_t_j += x[:,connected_users[k]]\n",
        "      file_req_time = np.maximum(file_req_time, request_time[:,connected_users[k]])\n",
        "    x_t_j = np.minimum(np.ones(N),x_t_j)\n",
        "\n",
        "    a1 = np.transpose(np.logical_and(y[j],np.logical_not(np.logical_and(y[j],np.transpose(x_t_j)))))# file which is not requested but still in the cache\n",
        "    b1 = np.transpose(np.logical_and(np.transpose(x_t_j),np.logical_not(np.logical_and(y[j],np.transpose(x_t_j))))) # file requested but not in the cache.\n",
        "    a = np.sum(a1)\n",
        "    b = np.sum(b1)\n",
        "\n",
        "    if a>0 and b>0:\n",
        "      if a>b:\n",
        "        ind = []\n",
        "        for k in range(N):\n",
        "          if a1[k] == 1:\n",
        "            ind.append(k)\n",
        "        t = np.zeros(a)\n",
        "        for k in range(a):\n",
        "          t[k] = file_req_time[ind[k]]\n",
        "        replace = (t).argsort()[:b]\n",
        "        for k in range(b):\n",
        "          y[j,ind[int(replace[k])]] = 0\n",
        "        for k in range(N):\n",
        "          if b1[k] == 1:\n",
        "            y[j,k] = 1\n",
        "      \n",
        "      else:\n",
        "        for k in range(N):\n",
        "          if a1[k] == 1:\n",
        "            y[j,k] = 0\n",
        "        \n",
        "        ind = []\n",
        "        for k in range(N):\n",
        "          if b1[k] == 1:\n",
        "            ind.append(k)\n",
        "        t = np.zeros(b)\n",
        "        for k in range(b):\n",
        "          t[k] = file_req_time[ind[k]]\n",
        "        replace = (t).argsort()[:a]\n",
        "        for k in range(a):\n",
        "          y[j,ind[int(replace[k])]] = 1\n",
        "  return y"
      ],
      "execution_count": 5,
      "outputs": []
    },
    {
      "cell_type": "markdown",
      "metadata": {
        "id": "rlnncX3lUi-6",
        "colab_type": "text"
      },
      "source": [
        "LFU"
      ]
    },
    {
      "cell_type": "code",
      "metadata": {
        "id": "rZKodE159k31",
        "colab_type": "code",
        "colab": {}
      },
      "source": [
        "def LFU(y,x,freq,con):\n",
        "  [N,I] = x.shape\n",
        "  J = len(y)\n",
        "\n",
        "  for j in range(J):\n",
        "    file_freq = np.zeros(N)\n",
        "    x_t_j = np.zeros(N)\n",
        "\n",
        "    # to find which users are connected to this cache \n",
        "    connected_users = []\n",
        "    for k in range(I):\n",
        "      if con[k,j] == 1:\n",
        "        connected_users.append(k)\n",
        "    for k in range(len(connected_users)):\n",
        "      x_t_j += x[:,connected_users[k]]\n",
        "      file_freq += freq[:,connected_users[k]]\n",
        "    x_t_j = np.minimum(np.ones(N),x_t_j)\n",
        "\n",
        "    a1 = np.transpose(np.logical_and(y[j],np.logical_not(np.logical_and(y[j],np.transpose(x_t_j)))))# file which is not requested but still in the cache\n",
        "    b1 = np.transpose(np.logical_and(np.transpose(x_t_j),np.logical_not(np.logical_and(y[j],np.transpose(x_t_j))))) # file requested but not in the cache.\n",
        "    a = np.sum(a1)\n",
        "    b = np.sum(b1)\n",
        "  \n",
        "    if a>0 and b>0:\n",
        "      if a>b:\n",
        "        ind = []\n",
        "        for k in range(N):\n",
        "          if a1[k] == 1:\n",
        "            ind.append(k)\n",
        "        t = np.zeros(a)\n",
        "        for k in range(a):\n",
        "          t[k] = file_freq[ind[k]]\n",
        "        replace = (t).argsort()[:b]\n",
        "        for k in range(b):\n",
        "          y[j,ind[int(replace[k])]] = 0\n",
        "        for k in range(N):\n",
        "          if b1[k] == 1:\n",
        "            y[j,k] = 1\n",
        "      else:\n",
        "        for k in range(N):\n",
        "          if a1[k] == 1:\n",
        "            y[j,k] = 0\n",
        "        ind = []\n",
        "        for k in range(N):\n",
        "          if b1[k] == 1:\n",
        "            ind.append(k)\n",
        "        t = np.zeros(b)\n",
        "        for k in range(b):\n",
        "          t[k] = file_freq[ind[k]]\n",
        "        replace = (t).argsort()[:a]\n",
        "        for k in range(a):\n",
        "          y[j,ind[int(replace[k])]] = 1\n",
        "\n",
        "  return y"
      ],
      "execution_count": 6,
      "outputs": []
    },
    {
      "cell_type": "markdown",
      "metadata": {
        "id": "NxQfsTnXWQyP",
        "colab_type": "text"
      },
      "source": [
        "perturbed count"
      ]
    },
    {
      "cell_type": "code",
      "metadata": {
        "id": "V4d6vCcjWOP7",
        "colab_type": "code",
        "colab": {}
      },
      "source": [
        "def per_count(eta,count):\n",
        "  [N,I] = count.shape\n",
        "  p_count = np.zeros((N,I),dtype = float)\n",
        "  for i in range(I):\n",
        "    p_count[:,i] = count[:,i] + (eta*random.normal(0,1,[N,1])).reshape(N)\n",
        "  return p_count"
      ],
      "execution_count": 7,
      "outputs": []
    },
    {
      "cell_type": "markdown",
      "metadata": {
        "id": "WIbLBZBYswP8",
        "colab_type": "text"
      },
      "source": [
        "GREEDY"
      ]
    },
    {
      "cell_type": "code",
      "metadata": {
        "id": "plLnprjKsv75",
        "colab_type": "code",
        "colab": {}
      },
      "source": [
        "def Greedy(con,count):\n",
        "  [I,J] = con.shape\n",
        "  [N,I] = count.shape\n",
        "  load = np.zeros((1,J),dtype = float)\n",
        "\n",
        "  for i in range(I):\n",
        "    for f in range(N):\n",
        "      if count[f,i] < 0:\n",
        "        count[f,i] = 0\n",
        "  \n",
        "  loadc = 0\n",
        "  y = np.zeros((J,N),dtype = float)\n",
        "  z = np.zeros((I,N),dtype = float)\n",
        "  mark = np.zeros((I,N),dtype = float)\n",
        "\n",
        "  while(loadc < J):\n",
        "    best_cache = -1\n",
        "    best_file = -1\n",
        "    best_imp = -1\n",
        "\n",
        "    for j in range(J):\n",
        "      if load[0,j] < C:\n",
        "        for f in range(N):\n",
        "          if y[j,f] != 1:\n",
        "            imp = 0\n",
        "\n",
        "            for i in range(I):\n",
        "              if con[i,j] == 1 and mark[i,f] == 0:\n",
        "                imp += count[f,i]\n",
        "\n",
        "            if imp >= best_imp:\n",
        "              best_cache = j\n",
        "              best_file = f\n",
        "              best_imp = imp\n",
        "\n",
        "    y[best_cache,best_file] = 1\n",
        "\n",
        "    for i in range(I):\n",
        "      if con[i,best_cache] == 1:\n",
        "        mark[i,best_cache] = 1\n",
        "\n",
        "    load[0,best_cache] += 1\n",
        "    if load[0,best_cache] == C:\n",
        "      loadc += 1\n",
        "  \n",
        "  for i in range(I):\n",
        "    for f in range(N):\n",
        "      for j in range(J):\n",
        "        if con[i,j] == 1:\n",
        "          z[i,f] = np.maximum(y[j,f],z[i,f])\n",
        "      \n",
        "  return y,z"
      ],
      "execution_count": 8,
      "outputs": []
    },
    {
      "cell_type": "markdown",
      "metadata": {
        "id": "8RkOlMhDjohA",
        "colab_type": "text"
      },
      "source": [
        "SINGLE CACHE"
      ]
    },
    {
      "cell_type": "code",
      "metadata": {
        "id": "ZyC3_Jwrjn5s",
        "colab_type": "code",
        "colab": {
          "base_uri": "https://localhost:8080/",
          "height": 34
        },
        "outputId": "c5f4d4e0-2e67-44ad-b538-ac8e744b4c04"
      },
      "source": [
        "I = 1 #users\n",
        "T = 100000\n",
        "degree = 1\n",
        "J = 1 #caches\n",
        "C = 5\n",
        "connection = np.array([[1]])\n",
        "connection.shape"
      ],
      "execution_count": 9,
      "outputs": [
        {
          "output_type": "execute_result",
          "data": {
            "text/plain": [
              "(1, 1)"
            ]
          },
          "metadata": {
            "tags": []
          },
          "execution_count": 9
        }
      ]
    },
    {
      "cell_type": "code",
      "metadata": {
        "id": "4Xqi6iqtfnhE",
        "colab_type": "code",
        "colab": {
          "base_uri": "https://localhost:8080/",
          "height": 34
        },
        "outputId": "26ce872d-62b8-4fe1-f5fd-4254b44a7ff1"
      },
      "source": [
        "req = np.zeros((I,T),dtype = int)\n",
        "for i in range(I):\n",
        "  for j in range(T):\n",
        "    req[i,j] = req1[(i+1)*(j+1) - 1]\n",
        "req.shape"
      ],
      "execution_count": 10,
      "outputs": [
        {
          "output_type": "execute_result",
          "data": {
            "text/plain": [
              "(1, 100000)"
            ]
          },
          "metadata": {
            "tags": []
          },
          "execution_count": 10
        }
      ]
    },
    {
      "cell_type": "code",
      "metadata": {
        "id": "7NQUPQz7JvtR",
        "colab_type": "code",
        "colab": {
          "base_uri": "https://localhost:8080/",
          "height": 34
        },
        "outputId": "708b9e5b-0aab-4aec-f2a4-a68ef565f2c1"
      },
      "source": [
        "gen_req = np.zeros((I,T),dtype = int)\n",
        "for i in range(I):\n",
        "  for j in range(T):\n",
        "    gen_req[i,j] = gen_req1[(i+1)*(j+1) - 1]\n",
        "gen_req.shape"
      ],
      "execution_count": 11,
      "outputs": [
        {
          "output_type": "execute_result",
          "data": {
            "text/plain": [
              "(1, 100000)"
            ]
          },
          "metadata": {
            "tags": []
          },
          "execution_count": 11
        }
      ]
    },
    {
      "cell_type": "code",
      "metadata": {
        "id": "pWowJlSAki2e",
        "colab_type": "code",
        "colab": {
          "base_uri": "https://localhost:8080/",
          "height": 185
        },
        "outputId": "8500597d-fe2b-4d52-95c7-3b708cf3dada"
      },
      "source": [
        "y_LRU = np.zeros((J,N),dtype = float)\n",
        "y_LFU = np.zeros((J,N),dtype = float)\n",
        "y_FTPL = np.zeros((J,N),dtype = float)\n",
        "y_LSTM = np.zeros((J,N),dtype = float)\n",
        "y_LSTM[:,:C] = np.ones((J,C),dtype = float)\n",
        "y_FTPL[:,:C] = np.ones((J,C),dtype = float)\n",
        "y_LRU[:,:C] = np.ones((J,C),dtype = float)\n",
        "y_LFU[:,:C] = np.ones((J,C),dtype = float)\n",
        "\n",
        "count = np.zeros((N,I),dtype = float)\n",
        "\n",
        "reward_LSTM =  np.zeros(T)\n",
        "reward_FTPL =  np.zeros(T)\n",
        "reward_LRU =  np.zeros(T)\n",
        "reward_LFU =  np.zeros(T)\n",
        "hits_FTPL =  []\n",
        "hits_LRU =  []\n",
        "hits_LFU =  []\n",
        "hits_LSTM = []\n",
        "download_FTPL =  []\n",
        "download_LRU =  []\n",
        "download_LFU =  []\n",
        "download_LSTM = []\n",
        "miss_LRU =  0\n",
        "miss_LSTM =  0\n",
        "miss_LFU =  0\n",
        "miss_FTPL =  0\n",
        "\n",
        "\n",
        "req_time = np.zeros((N,I),dtype = float) \n",
        "req_time1 = np.zeros((N,I),dtype = float) \n",
        "\n",
        "for t in range(T):\n",
        "  old_FTPL = []\n",
        "  old_LRU = []\n",
        "  old_LFU = []\n",
        "  old_LSTM = []\n",
        "  new_FTPL = []\n",
        "  new_LRU = []\n",
        "  new_LFU = []\n",
        "  new_LSTM = []\n",
        "  for j in range(J):\n",
        "    for k in range(N):\n",
        "      old_LRU.append(y_LRU[j,k])\n",
        "      old_LFU.append(y_LFU[j,k])\n",
        "      old_FTPL.append(y_FTPL[j,k])\n",
        "      old_LSTM.append(y_LSTM[j,k])\n",
        "\n",
        "  x_t1 = np.zeros((N,I),dtype = int)\n",
        "  x_t = np.zeros((N,I),dtype = int)\n",
        "  for i in range(I):\n",
        "    x_t[req[i,t],i] += 1\n",
        "    x_t1[gen_req[i,t],i] += 1\n",
        "    count[int(req[i,t]),i] += 1\n",
        "    req_time[int(req[i,t]),i] = t+1\n",
        "    req_time1[int(gen_req[i,t]),i] = t+1\n",
        "  \n",
        "  ireward_LRU =  np.zeros(I)\n",
        "  ireward_LSTM =  np.zeros(I)\n",
        "  ireward_LFU =  np.zeros(I)\n",
        "  ireward_FTPL =  np.zeros(I)\n",
        "  \n",
        "  for i in range(I):\n",
        "    temp1 = np.zeros(N)\n",
        "    temp2 = np.zeros(N)\n",
        "    temp3 = np.zeros(N)\n",
        "    temp4 = np.zeros(N)\n",
        "    connected_cache = []\n",
        "    for j in range(J):\n",
        "      if connection[i,j] == 1:\n",
        "        connected_cache.append(j)\n",
        "    for k in range(len(connected_cache)):\n",
        "      temp1 += y_FTPL[connected_cache[k],:]\n",
        "      temp2 += y_LFU[connected_cache[k],:]\n",
        "      temp3 += y_LRU[connected_cache[k],:]\n",
        "      temp4 += y_LSTM[connected_cache[k],:]\n",
        "    ireward_FTPL[i] += np.dot(np.minimum(np.ones(N),temp1),x_t[:,i])\n",
        "    ireward_LFU[i] += np.dot(np.minimum(np.ones(N),temp2),x_t[:,i])\n",
        "    ireward_LRU[i] += np.dot(np.minimum(np.ones(N),temp3),x_t[:,i])\n",
        "    ireward_LSTM[i] += np.dot(np.minimum(np.ones(N),temp4),x_t1[:,i])\n",
        "\n",
        "  reward_FTPL[t] =  np.sum(ireward_FTPL)\n",
        "  reward_LRU[t] =  np.sum(ireward_LRU)\n",
        "  reward_LFU[t] =  np.sum(ireward_LFU)\n",
        "  reward_LSTM[t] =  np.sum(ireward_LSTM)\n",
        "  reward_LSTMc = np.sum(reward_LSTM)\n",
        "  reward_FTPLc = np.sum(reward_FTPL)\n",
        "  reward_LRUc = np.sum(reward_LRU)\n",
        "  reward_LFUc = np.sum(reward_LFU)\n",
        "\n",
        "\n",
        "  y_LFU = LFU(y_LFU,x_t,count,connection)\n",
        "  y_LRU = LRU(y_LRU,x_t,req_time,connection)\n",
        "  y_LSTM = LRU(y_LSTM,x_t1,req_time1,connection)\n",
        "\n",
        "  eta = pow(4*pi*np.log(N),-.25)*pow((t+1)/C,.5)\n",
        "  perturbed_count=per_count(eta,count)\n",
        "\n",
        "  add = (-perturbed_count[:,0]).argsort()[:C]\n",
        "  y_FTPL = np.zeros((J,N),dtype = float)\n",
        "  for k in range(len(add)):\n",
        "    y_FTPL[0,int(add[k])] = 1 \n",
        " \n",
        "  for j in range(J):\n",
        "    for k in range(N):\n",
        "      new_LRU.append(y_LRU[j,k])\n",
        "      new_LFU.append(y_LFU[j,k])\n",
        "      new_FTPL.append(y_FTPL[j,k])\n",
        "      new_LSTM.append(y_LSTM[j,k])\n",
        "  \n",
        "  miss_FTPL += (np.sum(np.logical_and(new_FTPL,np.logical_not(old_FTPL))))\n",
        "  miss_LFU += (np.sum(np.logical_and(new_LFU,np.logical_not(old_LFU))))\n",
        "  miss_LRU += (np.sum(np.logical_and(new_LRU,np.logical_not(old_LRU))))\n",
        "  miss_LSTM += (np.sum(np.logical_and(new_LSTM,np.logical_not(old_LSTM))))\n",
        "  download_LFU.append(miss_LFU)\n",
        "  download_LRU.append(miss_LRU)\n",
        "  download_FTPL.append(miss_FTPL)\n",
        "  download_LSTM.append(miss_LSTM)\n",
        "\n",
        "  hits_LRU.append(reward_LRUc)\n",
        "  hits_LFU.append(reward_LFUc)\n",
        "  hits_FTPL.append(reward_FTPLc)\n",
        "  hits_LSTM.append(reward_LSTMc)\n",
        "\n",
        "  if t %10000 == 0:\n",
        "    print(t,download_FTPL[t],download_LFU[t],download_LRU[t],download_LSTM[t])"
      ],
      "execution_count": 12,
      "outputs": [
        {
          "output_type": "stream",
          "text": [
            "0 5 1 1 1\n",
            "10000 36923 9397 9477 9477\n",
            "20000 63539 18715 18994 18994\n",
            "30000 85606 28029 28465 27616\n",
            "40000 102667 37355 37919 36214\n",
            "50000 117728 46740 47407 44815\n",
            "60000 130701 56073 56865 53412\n",
            "70000 142012 65392 66324 62018\n",
            "80000 152818 74733 75808 70578\n",
            "90000 162563 84087 85340 79217\n"
          ],
          "name": "stdout"
        }
      ]
    },
    {
      "cell_type": "code",
      "metadata": {
        "id": "J_3kWL_JCNjX",
        "colab_type": "code",
        "colab": {
          "base_uri": "https://localhost:8080/",
          "height": 279
        },
        "outputId": "f62519cb-3fbe-4a83-971a-883a7e1046fb"
      },
      "source": [
        "plt.plot(hits_FTPL,'black',label='FTPL')\n",
        "plt.plot(hits_LRU,'green',label='LRU')\n",
        "plt.plot(hits_LFU,'blue',label='LFU')\n",
        "plt.plot(hits_LSTM,'red',label='LSTM')\n",
        "plt.xlabel('T')\n",
        "plt.ylabel('Total hits')\n",
        "plt.legend()\n",
        "plt.savefig('Total hits(I=J=1).png')"
      ],
      "execution_count": 13,
      "outputs": [
        {
          "output_type": "display_data",
          "data": {
            "image/png": "[encoded data removed]",
            "text/plain": [
              "<Figure size 432x288 with 1 Axes>"
            ]
          },
          "metadata": {
            "tags": [],
            "needs_background": "light"
          }
        }
      ]
    },
    {
      "cell_type": "code",
      "metadata": {
        "id": "YK-m4yZjrs3l",
        "colab_type": "code",
        "colab": {
          "base_uri": "https://localhost:8080/",
          "height": 279
        },
        "outputId": "97012fa4-b417-4abf-8ece-b60fb796afa5"
      },
      "source": [
        "plt.plot(download_FTPL,'black',label='FTPL')\n",
        "plt.plot(download_LRU,'green',label='LRU')\n",
        "plt.plot(download_LFU,'blue',label='LFU')\n",
        "plt.plot(download_LSTM,'red',label='LSTM')\n",
        "plt.xlabel('T')\n",
        "plt.ylabel('New downloads')\n",
        "plt.legend()\n",
        "plt.savefig('New downloads(I=J=1).png')"
      ],
      "execution_count": 14,
      "outputs": [
        {
          "output_type": "display_data",
          "data": {
            "image/png": "[encoded data removed]",
            "text/plain": [
              "<Figure size 432x288 with 1 Axes>"
            ]
          },
          "metadata": {
            "tags": [],
            "needs_background": "light"
          }
        }
      ]
    },
    {
      "cell_type": "markdown",
      "metadata": {
        "id": "Fj30MgQaWN_E",
        "colab_type": "text"
      },
      "source": [
        "I = 5 J = 3 d = 2"
      ]
    },
    {
      "cell_type": "code",
      "metadata": {
        "id": "jA0Kz7jzKJ3G",
        "colab_type": "code",
        "colab": {}
      },
      "source": [
        "C = 5\n",
        "I = 5\n",
        "J = 3\n",
        "degree = 3\n",
        "T = 20000"
      ],
      "execution_count": 20,
      "outputs": []
    },
    {
      "cell_type": "code",
      "metadata": {
        "id": "fkzyLhrGKhB6",
        "colab_type": "code",
        "colab": {
          "base_uri": "https://localhost:8080/",
          "height": 101
        },
        "outputId": "e4854032-7eb1-4042-874c-a8bd79d5fb3d"
      },
      "source": [
        "connection = np.zeros((I,J),dtype = int)\n",
        "i = 0\n",
        "for j in range(J):\n",
        "  x = 0\n",
        "  while x < degree:\n",
        "    connection[i,j] = 1\n",
        "    x += 1\n",
        "    i += 1\n",
        "    if i == I:\n",
        "      i = 0\n",
        "  i = j+1\n",
        "connection"
      ],
      "execution_count": 21,
      "outputs": [
        {
          "output_type": "execute_result",
          "data": {
            "text/plain": [
              "array([[1, 0, 0],\n",
              "       [1, 1, 0],\n",
              "       [1, 1, 1],\n",
              "       [0, 1, 1],\n",
              "       [0, 0, 1]])"
            ]
          },
          "metadata": {
            "tags": []
          },
          "execution_count": 21
        }
      ]
    },
    {
      "cell_type": "code",
      "metadata": {
        "id": "TIjWw46mSfxG",
        "colab_type": "code",
        "colab": {}
      },
      "source": [
        "gen_req1 = np.load('/content/drive/My Drive/gen_req.npy')\n",
        "req1 = np.load('/content/drive/My Drive/req.npy')\n",
        "req1 = req1[20000:2005000]\n",
        "gen_req1 = gen_req1[20000:2005000]"
      ],
      "execution_count": 22,
      "outputs": []
    },
    {
      "cell_type": "code",
      "metadata": {
        "id": "DNOrEFxxThnu",
        "colab_type": "code",
        "colab": {
          "base_uri": "https://localhost:8080/",
          "height": 34
        },
        "outputId": "1e795db3-be1a-4cd1-f540-ecf819b7e3c0"
      },
      "source": [
        "req = np.zeros((I,T),dtype = int)\n",
        "for i in range(I):\n",
        "  for j in range(T):\n",
        "    req[i,j] = req1[(i+1)*(j+1) - 1]\n",
        "req.shape"
      ],
      "execution_count": 23,
      "outputs": [
        {
          "output_type": "execute_result",
          "data": {
            "text/plain": [
              "(5, 20000)"
            ]
          },
          "metadata": {
            "tags": []
          },
          "execution_count": 23
        }
      ]
    },
    {
      "cell_type": "code",
      "metadata": {
        "id": "DAQ_EHg8TlOp",
        "colab_type": "code",
        "colab": {
          "base_uri": "https://localhost:8080/",
          "height": 34
        },
        "outputId": "98864467-033b-466d-9028-b921dedd6a91"
      },
      "source": [
        "gen_req = np.zeros((I,T),dtype = int)\n",
        "for i in range(I):\n",
        "  for j in range(T):\n",
        "    gen_req[i,j] = gen_req1[(i+1)*(j+1) - 1]\n",
        "gen_req.shape"
      ],
      "execution_count": 24,
      "outputs": [
        {
          "output_type": "execute_result",
          "data": {
            "text/plain": [
              "(5, 20000)"
            ]
          },
          "metadata": {
            "tags": []
          },
          "execution_count": 24
        }
      ]
    },
    {
      "cell_type": "code",
      "metadata": {
        "id": "5U7m8AJ9Sw6B",
        "colab_type": "code",
        "colab": {
          "base_uri": "https://localhost:8080/",
          "height": 353
        },
        "outputId": "f3101c5d-ecd5-4081-b89b-ac3479e87adc"
      },
      "source": [
        "y_LRU = np.zeros((J,N),dtype = float)\n",
        "y_LFU = np.zeros((J,N),dtype = float)\n",
        "y_FTPL = np.zeros((J,N),dtype = float)\n",
        "y_LSTM = np.zeros((J,N),dtype = float)\n",
        "y_LSTM[:,:C] = np.ones((J,C),dtype = float)\n",
        "y_FTPL[:,:C] = np.ones((J,C),dtype = float)\n",
        "y_LRU[:,:C] = np.ones((J,C),dtype = float)\n",
        "y_LFU[:,:C] = np.ones((J,C),dtype = float)\n",
        "\n",
        "count = np.zeros((N,I),dtype = float)\n",
        "\n",
        "reward_LSTM =  np.zeros(T)\n",
        "reward_FTPL =  np.zeros(T)\n",
        "reward_LRU =  np.zeros(T)\n",
        "reward_LFU =  np.zeros(T)\n",
        "hits_FTPL =  []\n",
        "hits_LRU =  []\n",
        "hits_LFU =  []\n",
        "hits_LSTM = []\n",
        "download_FTPL =  []\n",
        "download_LRU =  []\n",
        "download_LFU =  []\n",
        "download_LSTM = []\n",
        "miss_LRU =  0\n",
        "miss_LSTM =  0\n",
        "miss_LFU =  0\n",
        "miss_FTPL =  0\n",
        "\n",
        "\n",
        "req_time = np.zeros((N,I),dtype = float) \n",
        "req_time1 = np.zeros((N,I),dtype = float) \n",
        "\n",
        "for t in range(T):\n",
        "  old_FTPL = []\n",
        "  old_LRU = []\n",
        "  old_LFU = []\n",
        "  old_LSTM = []\n",
        "  new_FTPL = []\n",
        "  new_LRU = []\n",
        "  new_LFU = []\n",
        "  new_LSTM = []\n",
        "  for j in range(J):\n",
        "    for k in range(N):\n",
        "      old_LRU.append(y_LRU[j,k])\n",
        "      old_LFU.append(y_LFU[j,k])\n",
        "      old_FTPL.append(y_FTPL[j,k])\n",
        "      old_LSTM.append(y_LSTM[j,k])\n",
        "  x_t1 = np.zeros((N,I),dtype = int)\n",
        "  x_t = np.zeros((N,I),dtype = int)\n",
        "  for i in range(I):\n",
        "    x_t[req[i,t],i] += 1\n",
        "    x_t1[gen_req[i,t],i] += 1\n",
        "    count[int(req[i,t]),i] += 1\n",
        "    req_time[int(req[i,t]),i] = t+1\n",
        "    req_time1[int(gen_req[i,t]),i] = t+1\n",
        "  \n",
        "  ireward_LRU =  np.zeros(I)\n",
        "  ireward_LSTM =  np.zeros(I)\n",
        "  ireward_LFU =  np.zeros(I)\n",
        "  ireward_FTPL =  np.zeros(I)\n",
        "  \n",
        "  for i in range(I):\n",
        "    temp1 = np.zeros(N)\n",
        "    temp2 = np.zeros(N)\n",
        "    temp3 = np.zeros(N)\n",
        "    temp4 = np.zeros(N)\n",
        "    connected_cache = []\n",
        "    for j in range(J):\n",
        "      if connection[i,j] == 1:\n",
        "        connected_cache.append(j)\n",
        "    for k in range(len(connected_cache)):\n",
        "      temp1 += y_FTPL[connected_cache[k],:]\n",
        "      temp2 += y_LFU[connected_cache[k],:]\n",
        "      temp3 += y_LRU[connected_cache[k],:]\n",
        "      temp4 += y_LSTM[connected_cache[k],:]\n",
        "    ireward_FTPL[i] += np.dot(np.minimum(np.ones(N),temp1),x_t[:,i])\n",
        "    ireward_LFU[i] += np.dot(np.minimum(np.ones(N),temp2),x_t[:,i])\n",
        "    ireward_LRU[i] += np.dot(np.minimum(np.ones(N),temp3),x_t[:,i])\n",
        "    ireward_LSTM[i] += np.dot(np.minimum(np.ones(N),temp4),x_t1[:,i])\n",
        "\n",
        "  reward_FTPL[t] =  np.sum(ireward_FTPL)\n",
        "  reward_LRU[t] =  np.sum(ireward_LRU)\n",
        "  reward_LFU[t] =  np.sum(ireward_LFU)\n",
        "  reward_LSTM[t] =  np.sum(ireward_LSTM)\n",
        "  reward_LSTMc = np.sum(reward_LSTM)\n",
        "  reward_FTPLc = np.sum(reward_FTPL)\n",
        "  reward_LRUc = np.sum(reward_LRU)\n",
        "  reward_LFUc = np.sum(reward_LFU)\n",
        "\n",
        "\n",
        "  y_LFU = LFU(y_LFU,x_t,count,connection)\n",
        "  y_LRU = LRU(y_LRU,x_t,req_time,connection)\n",
        "  y_LSTM = LRU(y_LSTM,x_t1,req_time1,connection)\n",
        "\n",
        "  eta = I*pow(4*pi*np.log(N*I),-0.25)*pow((t+1)/(J*degree*C),.5)\n",
        "  perturbed_count=per_count(eta,count)\n",
        "\n",
        "  [y_FTPL,z] = Greedy(connection,perturbed_count)\n",
        "  for j in range(J):\n",
        "    for k in range(N):\n",
        "      new_LRU.append(y_LRU[j,k])\n",
        "      new_LFU.append(y_LFU[j,k])\n",
        "      new_FTPL.append(y_FTPL[j,k])\n",
        "      new_LSTM.append(y_LSTM[j,k])\n",
        "  \n",
        "#  print(old_LRU)\n",
        "  miss_FTPL += (np.sum(np.logical_and(new_FTPL,np.logical_not(old_FTPL))))\n",
        "  miss_LFU += (np.sum(np.logical_and(new_LFU,np.logical_not(old_LFU))))\n",
        "  miss_LRU += (np.sum(np.logical_and(new_LRU,np.logical_not(old_LRU))))\n",
        "  miss_LSTM += (np.sum(np.logical_and(new_LSTM,np.logical_not(old_LSTM))))\n",
        "  download_LFU.append(miss_LFU)\n",
        "  download_LRU.append(miss_LRU)\n",
        "  download_FTPL.append(miss_FTPL)\n",
        "  download_LSTM.append(miss_LSTM)\n",
        "\n",
        "  hits_LRU.append(reward_LRUc)\n",
        "  hits_LFU.append(reward_LFUc)\n",
        "  hits_FTPL.append(reward_FTPLc)\n",
        "  hits_LSTM.append(reward_LSTMc)\n",
        "\n",
        "  if t %1000 == 0:\n",
        "    print(t,download_FTPL[t],download_LFU[t],download_LRU[t],download_LSTM[t],hits_FTPL[t],hits_LFU[t],hits_LRU[t],hits_LSTM[t])"
      ],
      "execution_count": 25,
      "outputs": [
        {
          "output_type": "stream",
          "text": [
            "0 14 9 9 9 0.0 0.0 0.0 0.0\n",
            "1000 13029 8351 8405 8123 410.0 397.0 352.0 529.0\n",
            "2000 25426 16728 16823 16272 825.0 785.0 719.0 1072.0\n",
            "3000 37029 25113 25277 24408 1233.0 1149.0 1036.0 1593.0\n",
            "4000 47643 33411 33673 32549 1661.0 1570.0 1385.0 2135.0\n",
            "5000 57336 41753 42092 40568 2055.0 1946.0 1718.0 2733.0\n",
            "6000 66766 50147 50502 48666 2446.0 2312.0 2074.0 3299.0\n",
            "7000 75853 58474 58871 56769 2881.0 2686.0 2452.0 3848.0\n",
            "8000 84572 66897 67345 64902 3265.0 3009.0 2776.0 4377.0\n",
            "9000 93148 75292 75771 72985 3671.0 3378.0 3120.0 4936.0\n",
            "10000 101468 83738 84279 81058 4073.0 3706.0 3413.0 5515.0\n",
            "11000 109654 92113 92715 89189 4472.0 4073.0 3751.0 6066.0\n",
            "12000 117696 100492 101154 97318 4881.0 4423.0 4069.0 6612.0\n",
            "13000 125350 108906 109594 105336 5257.0 4780.0 4407.0 7188.0\n",
            "14000 133192 117233 118004 113462 5668.0 5171.0 4753.0 7741.0\n",
            "15000 140808 125629 126482 121595 6079.0 5539.0 5075.0 8287.0\n",
            "16000 148180 133976 134883 129700 6482.0 5906.0 5424.0 8856.0\n",
            "17000 155485 142385 143375 137771 6865.0 6254.0 5724.0 9430.0\n",
            "18000 162519 150775 151865 145896 7293.0 6620.0 6030.0 9962.0\n",
            "19000 169313 159162 160279 154033 7692.0 6981.0 6375.0 10505.0\n"
          ],
          "name": "stdout"
        }
      ]
    },
    {
      "cell_type": "code",
      "metadata": {
        "id": "u33MS3DDT1CZ",
        "colab_type": "code",
        "colab": {
          "base_uri": "https://localhost:8080/",
          "height": 279
        },
        "outputId": "a5747580-6fd4-4599-b0c0-a81b7dfb35ea"
      },
      "source": [
        "plt.plot(hits_FTPL,'black',label='FTPL')\n",
        "plt.plot(hits_LRU,'green',label='LRU')\n",
        "plt.plot(hits_LFU,'blue',label='LFU')\n",
        "plt.plot(hits_LSTM,'red',label='LSTM')\n",
        "plt.xlabel('T')\n",
        "plt.ylabel('total hits')\n",
        "plt.legend()\n",
        "plt.savefig('Total hits(I=5 J=3 d=2).png')"
      ],
      "execution_count": 26,
      "outputs": [
        {
          "output_type": "display_data",
          "data": {
            "image/png": "[encoded data removed]",
            "text/plain": [
              "<Figure size 432x288 with 1 Axes>"
            ]
          },
          "metadata": {
            "tags": [],
            "needs_background": "light"
          }
        }
      ]
    },
    {
      "cell_type": "code",
      "metadata": {
        "id": "BO6RqcCjt-I0",
        "colab_type": "code",
        "colab": {
          "base_uri": "https://localhost:8080/",
          "height": 279
        },
        "outputId": "ed87fad4-0470-4478-dd92-247fd020c323"
      },
      "source": [
        "plt.plot(download_FTPL,'black',label='FTPL')\n",
        "plt.plot(download_LRU,'green',label='LRU')\n",
        "plt.plot(download_LFU,'blue',label='LFU')\n",
        "plt.plot(download_LSTM,'red',label='LSTM')\n",
        "plt.xlabel('T')\n",
        "plt.ylabel('New downloads')\n",
        "plt.legend()\n",
        "plt.savefig('New downloads(I=5 J=3 d=2).png')"
      ],
      "execution_count": 27,
      "outputs": [
        {
          "output_type": "display_data",
          "data": {
            "image/png": "[encoded data removed]",
            "text/plain": [
              "<Figure size 432x288 with 1 Axes>"
            ]
          },
          "metadata": {
            "tags": [],
            "needs_background": "light"
          }
        }
      ]
    },
    {
      "cell_type": "markdown",
      "metadata": {
        "id": "BdHsz8OLbfRt",
        "colab_type": "text"
      },
      "source": [
        "I = 15 J = 10 d = 7"
      ]
    },
    {
      "cell_type": "code",
      "metadata": {
        "id": "2k2iUESfYkec",
        "colab_type": "code",
        "colab": {}
      },
      "source": [
        "I = 15\n",
        "J = 10\n",
        "C = 10\n",
        "degree = 7\n",
        "T = 5000"
      ],
      "execution_count": 29,
      "outputs": []
    },
    {
      "cell_type": "code",
      "metadata": {
        "id": "P6LK3SH5cVIs",
        "colab_type": "code",
        "colab": {
          "base_uri": "https://localhost:8080/",
          "height": 269
        },
        "outputId": "c73a3513-b036-4010-86cf-2d653acf843f"
      },
      "source": [
        "connection = np.zeros((I,J),dtype = int)\n",
        "i = 0\n",
        "for j in range(J):\n",
        "  x = 0\n",
        "  while x < degree:\n",
        "    connection[i,j] = 1\n",
        "    x += 1\n",
        "    i += 1\n",
        "    if i == I:\n",
        "      i = 0\n",
        "  i = j+1\n",
        "connection"
      ],
      "execution_count": 30,
      "outputs": [
        {
          "output_type": "execute_result",
          "data": {
            "text/plain": [
              "array([[1, 0, 0, 0, 0, 0, 0, 0, 0, 1],\n",
              "       [1, 1, 0, 0, 0, 0, 0, 0, 0, 0],\n",
              "       [1, 1, 1, 0, 0, 0, 0, 0, 0, 0],\n",
              "       [1, 1, 1, 1, 0, 0, 0, 0, 0, 0],\n",
              "       [1, 1, 1, 1, 1, 0, 0, 0, 0, 0],\n",
              "       [1, 1, 1, 1, 1, 1, 0, 0, 0, 0],\n",
              "       [1, 1, 1, 1, 1, 1, 1, 0, 0, 0],\n",
              "       [0, 1, 1, 1, 1, 1, 1, 1, 0, 0],\n",
              "       [0, 0, 1, 1, 1, 1, 1, 1, 1, 0],\n",
              "       [0, 0, 0, 1, 1, 1, 1, 1, 1, 1],\n",
              "       [0, 0, 0, 0, 1, 1, 1, 1, 1, 1],\n",
              "       [0, 0, 0, 0, 0, 1, 1, 1, 1, 1],\n",
              "       [0, 0, 0, 0, 0, 0, 1, 1, 1, 1],\n",
              "       [0, 0, 0, 0, 0, 0, 0, 1, 1, 1],\n",
              "       [0, 0, 0, 0, 0, 0, 0, 0, 1, 1]])"
            ]
          },
          "metadata": {
            "tags": []
          },
          "execution_count": 30
        }
      ]
    },
    {
      "cell_type": "code",
      "metadata": {
        "id": "h4UcLkHF6DUJ",
        "colab_type": "code",
        "colab": {}
      },
      "source": [
        "gen_req1 = np.load('/content/drive/My Drive/gen_req.npy')\n",
        "req1 = np.load('/content/drive/My Drive/req.npy')\n",
        "req1 = req1[20000:2005000]\n",
        "gen_req1 = gen_req1[20000:2005000]"
      ],
      "execution_count": 31,
      "outputs": []
    },
    {
      "cell_type": "code",
      "metadata": {
        "id": "UNmrOGVdccUk",
        "colab_type": "code",
        "colab": {
          "base_uri": "https://localhost:8080/",
          "height": 34
        },
        "outputId": "c9e48921-eb6e-47d5-dbf0-434b7899bf7d"
      },
      "source": [
        "req = np.zeros((I,T),dtype = int)\n",
        "for i in range(I):\n",
        "  for j in range(T):\n",
        "    req[i,j] = req1[(i+1)*(j+1) - 1]\n",
        "req.shape"
      ],
      "execution_count": 32,
      "outputs": [
        {
          "output_type": "execute_result",
          "data": {
            "text/plain": [
              "(15, 5000)"
            ]
          },
          "metadata": {
            "tags": []
          },
          "execution_count": 32
        }
      ]
    },
    {
      "cell_type": "code",
      "metadata": {
        "id": "qrLF_GmicgHd",
        "colab_type": "code",
        "colab": {
          "base_uri": "https://localhost:8080/",
          "height": 34
        },
        "outputId": "c847ecc9-8786-4a8e-adf4-5ab2c2f6bc36"
      },
      "source": [
        "gen_req = np.zeros((I,T),dtype = int)\n",
        "for i in range(I):\n",
        "  for j in range(T):\n",
        "    gen_req[i,j] = gen_req1[(i+1)*(j+1) - 1]\n",
        "gen_req.shape"
      ],
      "execution_count": 33,
      "outputs": [
        {
          "output_type": "execute_result",
          "data": {
            "text/plain": [
              "(15, 5000)"
            ]
          },
          "metadata": {
            "tags": []
          },
          "execution_count": 33
        }
      ]
    },
    {
      "cell_type": "code",
      "metadata": {
        "id": "Oke-J6xqgp0l",
        "colab_type": "code",
        "colab": {
          "base_uri": "https://localhost:8080/",
          "height": 857
        },
        "outputId": "353f0293-150d-4978-834d-167936e1802c"
      },
      "source": [
        "y_LRU = np.zeros((J,N),dtype = float)\n",
        "y_LFU = np.zeros((J,N),dtype = float)\n",
        "y_FTPL = np.zeros((J,N),dtype = float)\n",
        "y_LSTM = np.zeros((J,N),dtype = float)\n",
        "y_LSTM[:,:C] = np.ones((J,C),dtype = float)\n",
        "y_FTPL[:,:C] = np.ones((J,C),dtype = float)\n",
        "y_LRU[:,:C] = np.ones((J,C),dtype = float)\n",
        "y_LFU[:,:C] = np.ones((J,C),dtype = float)\n",
        "\n",
        "count = np.zeros((N,I),dtype = float)\n",
        "\n",
        "reward_LSTM =  np.zeros(T)\n",
        "reward_FTPL =  np.zeros(T)\n",
        "reward_LRU =  np.zeros(T)\n",
        "reward_LFU =  np.zeros(T)\n",
        "hits_FTPL =  []\n",
        "hits_LRU =  []\n",
        "hits_LFU =  []\n",
        "hits_LSTM = []\n",
        "download_FTPL =  []\n",
        "download_LRU =  []\n",
        "download_LFU =  []\n",
        "download_LSTM = []\n",
        "miss_LRU =  0\n",
        "miss_LSTM =  0\n",
        "miss_LFU =  0\n",
        "miss_FTPL =  0\n",
        "\n",
        "\n",
        "req_time = np.zeros((N,I),dtype = float) \n",
        "req_time1 = np.zeros((N,I),dtype = float) \n",
        "\n",
        "for t in range(T):\n",
        "  old_FTPL = []\n",
        "  old_LRU = []\n",
        "  old_LFU = []\n",
        "  old_LSTM = []\n",
        "  new_FTPL = []\n",
        "  new_LRU = []\n",
        "  new_LFU = []\n",
        "  new_LSTM = []\n",
        "  for j in range(J):\n",
        "    for k in range(N):\n",
        "      old_LRU.append(y_LRU[j,k])\n",
        "      old_LFU.append(y_LFU[j,k])\n",
        "      old_FTPL.append(y_FTPL[j,k])\n",
        "      old_LSTM.append(y_LSTM[j,k])\n",
        "  x_t1 = np.zeros((N,I),dtype = int)\n",
        "  x_t = np.zeros((N,I),dtype = int)\n",
        "  for i in range(I):\n",
        "    x_t[req[i,t],i] += 1\n",
        "    x_t1[gen_req[i,t],i] += 1\n",
        "    count[int(req[i,t]),i] += 1\n",
        "    req_time[int(req[i,t]),i] = t+1\n",
        "    req_time1[int(gen_req[i,t]),i] = t+1\n",
        "  \n",
        "  ireward_LRU =  np.zeros(I)\n",
        "  ireward_LSTM =  np.zeros(I)\n",
        "  ireward_LFU =  np.zeros(I)\n",
        "  ireward_FTPL =  np.zeros(I)\n",
        "  \n",
        "  for i in range(I):\n",
        "    temp1 = np.zeros(N)\n",
        "    temp2 = np.zeros(N)\n",
        "    temp3 = np.zeros(N)\n",
        "    temp4 = np.zeros(N)\n",
        "    connected_cache = []\n",
        "    for j in range(J):\n",
        "      if connection[i,j] == 1:\n",
        "        connected_cache.append(j)\n",
        "    for k in range(len(connected_cache)):\n",
        "      temp1 += y_FTPL[connected_cache[k],:]\n",
        "      temp2 += y_LFU[connected_cache[k],:]\n",
        "      temp3 += y_LRU[connected_cache[k],:]\n",
        "      temp4 += y_LSTM[connected_cache[k],:]\n",
        "    ireward_FTPL[i] += np.dot(np.minimum(np.ones(N),temp1),x_t[:,i])\n",
        "    ireward_LFU[i] += np.dot(np.minimum(np.ones(N),temp2),x_t[:,i])\n",
        "    ireward_LRU[i] += np.dot(np.minimum(np.ones(N),temp3),x_t[:,i])\n",
        "    ireward_LSTM[i] += np.dot(np.minimum(np.ones(N),temp4),x_t1[:,i])\n",
        "\n",
        "  reward_FTPL[t] =  np.sum(ireward_FTPL)\n",
        "  reward_LRU[t] =  np.sum(ireward_LRU)\n",
        "  reward_LFU[t] =  np.sum(ireward_LFU)\n",
        "  reward_LSTM[t] =  np.sum(ireward_LSTM)\n",
        "  reward_LSTMc = np.sum(reward_LSTM)\n",
        "  reward_FTPLc = np.sum(reward_FTPL)\n",
        "  reward_LRUc = np.sum(reward_LRU)\n",
        "  reward_LFUc = np.sum(reward_LFU)\n",
        "\n",
        "\n",
        "  y_LFU = LFU(y_LFU,x_t,count,connection)\n",
        "  y_LRU = LRU(y_LRU,x_t,req_time,connection)\n",
        "  y_LSTM = LRU(y_LSTM,x_t1,req_time1,connection)\n",
        "\n",
        "  eta = I*pow(4*pi*np.log(N*I),-0.25)*pow((t+1)/(J*degree*C),.5)\n",
        "  perturbed_count=per_count(eta,count)\n",
        "\n",
        "  [y_FTPL,z] = Greedy(connection,perturbed_count)\n",
        "  for j in range(J):\n",
        "    for k in range(N):\n",
        "      new_LRU.append(y_LRU[j,k])\n",
        "      new_LFU.append(y_LFU[j,k])\n",
        "      new_FTPL.append(y_FTPL[j,k])\n",
        "      new_LSTM.append(y_LSTM[j,k])\n",
        "  \n",
        "#  print(old_LRU)\n",
        "  miss_FTPL += (np.sum(np.logical_and(new_FTPL,np.logical_not(old_FTPL))))\n",
        "  miss_LFU += (np.sum(np.logical_and(new_LFU,np.logical_not(old_LFU))))\n",
        "  miss_LRU += (np.sum(np.logical_and(new_LRU,np.logical_not(old_LRU))))\n",
        "  miss_LSTM += (np.sum(np.logical_and(new_LSTM,np.logical_not(old_LSTM))))\n",
        "  download_LFU.append(miss_LFU)\n",
        "  download_LRU.append(miss_LRU)\n",
        "  download_FTPL.append(miss_FTPL)\n",
        "  download_LSTM.append(miss_LSTM)\n",
        "\n",
        "  hits_LRU.append(reward_LRUc)\n",
        "  hits_LFU.append(reward_LFUc)\n",
        "  hits_FTPL.append(reward_FTPLc)\n",
        "  hits_LSTM.append(reward_LSTMc)\n",
        "\n",
        "  if t %100 == 0:\n",
        "    print(t,download_FTPL[t],download_LFU[t],download_LRU[t],download_LSTM[t],hits_FTPL[t],hits_LFU[t],hits_LRU[t],hits_LSTM[t])"
      ],
      "execution_count": 34,
      "outputs": [
        {
          "output_type": "stream",
          "text": [
            "0 100 63 63 54 1.0 1.0 1.0 0.0\n",
            "100 6529 6003 6010 5739 401.0 322.0 298.0 348.0\n",
            "200 13804 11981 12049 11771 766.0 625.0 571.0 601.0\n",
            "300 20747 18025 18246 17681 1086.0 885.0 784.0 887.0\n",
            "400 27602 24057 24358 23682 1415.0 1135.0 1004.0 1156.0\n",
            "500 34156 29908 30283 29321 1729.0 1417.0 1276.0 1493.0\n",
            "600 40867 35889 36308 35277 2073.0 1669.0 1523.0 1767.0\n",
            "700 47537 41902 42407 41171 2407.0 1932.0 1770.0 2047.0\n",
            "800 53907 47946 48532 47102 2724.0 2192.0 1994.0 2307.0\n",
            "900 60196 53977 54575 52860 3035.0 2451.0 2240.0 2638.0\n",
            "1000 66572 60008 60686 58821 3357.0 2714.0 2477.0 2909.0\n",
            "1100 72867 65915 66633 64771 3676.0 3000.0 2739.0 3191.0\n",
            "1200 79052 71892 72692 70602 3992.0 3285.0 2994.0 3498.0\n",
            "1300 85143 77904 78821 76543 4316.0 3550.0 3233.0 3772.0\n",
            "1400 91212 83929 84897 82138 4659.0 3807.0 3475.0 4154.0\n",
            "1500 97031 89952 90991 88125 4997.0 4084.0 3728.0 4406.0\n",
            "1600 102696 95891 97088 93977 5330.0 4368.0 3976.0 4694.0\n",
            "1700 108370 101936 103198 99855 5625.0 4630.0 4216.0 4991.0\n",
            "1800 113851 107956 109252 105546 5914.0 4862.0 4462.0 5347.0\n",
            "1900 119305 114005 115404 111535 6218.0 5097.0 4693.0 5608.0\n",
            "2000 124616 120110 121516 117443 6523.0 5313.0 4916.0 5914.0\n",
            "2100 130120 126072 127545 123285 6812.0 5582.0 5171.0 6215.0\n",
            "2200 135368 131989 133652 129192 7134.0 5848.0 5407.0 6494.0\n",
            "2300 140695 138073 139754 134852 7431.0 6075.0 5647.0 6851.0\n",
            "2400 145696 144066 145906 140725 7729.0 6326.0 5876.0 7144.0\n",
            "2500 150711 150059 151955 146558 8003.0 6578.0 6133.0 7455.0\n",
            "2600 155605 156085 158089 152455 8294.0 6838.0 6367.0 7748.0\n",
            "2700 160444 162059 164193 158210 8576.0 7100.0 6613.0 8089.0\n",
            "2800 165251 168103 170341 164102 8875.0 7335.0 6846.0 8381.0\n",
            "2900 169844 174250 176519 170041 9157.0 7563.0 7082.0 8658.0\n",
            "3000 174433 180286 182625 175909 9467.0 7816.0 7334.0 8950.0\n",
            "3100 178888 186328 188728 181765 9785.0 8063.0 7576.0 9241.0\n",
            "3200 183370 192403 194895 187505 10065.0 8308.0 7819.0 9580.0\n",
            "3300 187863 198487 201012 193354 10337.0 8550.0 8073.0 9869.0\n",
            "3400 192264 204517 207115 199159 10628.0 8792.0 8316.0 10180.0\n",
            "3500 196542 210491 213194 205035 10940.0 9067.0 8562.0 10481.0\n",
            "3600 200702 216524 219251 210719 11224.0 9303.0 8820.0 10840.0\n",
            "3700 204867 222520 225297 216663 11485.0 9559.0 9067.0 11118.0\n",
            "3800 209114 228475 231383 222507 11795.0 9822.0 9303.0 11413.0\n",
            "3900 213086 234462 237501 228409 12062.0 10096.0 9542.0 11700.0\n",
            "4000 217087 240439 243568 234358 12373.0 10369.0 9803.0 11982.0\n",
            "4100 221133 246484 249729 239960 12636.0 10612.0 10022.0 12362.0\n",
            "4200 225037 252551 255854 245728 12898.0 10849.0 10254.0 12667.0\n",
            "4300 229083 258615 262036 251662 13194.0 11104.0 10490.0 12962.0\n",
            "4400 233095 264679 268134 257570 13469.0 11347.0 10731.0 13236.0\n",
            "4500 236890 270629 274189 263201 13754.0 11627.0 10989.0 13597.0\n",
            "4600 240738 276732 280338 269153 14049.0 11869.0 11210.0 13865.0\n",
            "4700 244570 282806 286528 274918 14327.0 12122.0 11430.0 14182.0\n",
            "4800 248405 288839 292598 280895 14589.0 12376.0 11674.0 14471.0\n",
            "4900 252248 294923 298678 286801 14889.0 12621.0 11928.0 14781.0\n"
          ],
          "name": "stdout"
        }
      ]
    },
    {
      "cell_type": "code",
      "metadata": {
        "id": "2iv4C7Z09VGe",
        "colab_type": "code",
        "colab": {
          "base_uri": "https://localhost:8080/",
          "height": 279
        },
        "outputId": "4dce2a65-20db-4491-9515-cba5f295908e"
      },
      "source": [
        "plt.plot(hits_FTPL,'black',label='FTPL')\n",
        "plt.plot(hits_LRU,'green',label='LRU')\n",
        "plt.plot(hits_LFU,'blue',label='LFU')\n",
        "plt.plot(hits_LSTM,'red',label='LSTM')\n",
        "plt.xlabel('T')\n",
        "plt.ylabel('total hits')\n",
        "plt.legend()\n",
        "plt.savefig('Total hits(I=15 J=10 d=7).png')"
      ],
      "execution_count": 35,
      "outputs": [
        {
          "output_type": "display_data",
          "data": {
            "image/png": "[encoded data removed]",
            "text/plain": [
              "<Figure size 432x288 with 1 Axes>"
            ]
          },
          "metadata": {
            "tags": [],
            "needs_background": "light"
          }
        }
      ]
    },
    {
      "cell_type": "code",
      "metadata": {
        "id": "0BUxR46t9YE8",
        "colab_type": "code",
        "colab": {
          "base_uri": "https://localhost:8080/",
          "height": 279
        },
        "outputId": "4197a45c-267e-4188-8d19-ba6d15395b4f"
      },
      "source": [
        "plt.plot(download_FTPL,'black',label='FTPL')\n",
        "plt.plot(download_LRU,'green',label='LRU')\n",
        "plt.plot(download_LFU,'blue',label='LFU')\n",
        "plt.plot(download_LSTM,'red',label='LSTM')\n",
        "plt.xlabel('T')\n",
        "plt.ylabel('new downloads')\n",
        "plt.legend()\n",
        "plt.savefig('New downloads(I=15 J=10 d=7).png')"
      ],
      "execution_count": 36,
      "outputs": [
        {
          "output_type": "display_data",
          "data": {
            "image/png": "[encoded data removed]",
            "text/plain": [
              "<Figure size 432x288 with 1 Axes>"
            ]
          },
          "metadata": {
            "tags": [],
            "needs_background": "light"
          }
        }
      ]
    },
    {
      "cell_type": "code",
      "metadata": {
        "id": "TwCeyj9cIBdj",
        "colab_type": "code",
        "colab": {}
      },
      "source": [
        ""
      ],
      "execution_count": null,
      "outputs": []
    }
  ]
}