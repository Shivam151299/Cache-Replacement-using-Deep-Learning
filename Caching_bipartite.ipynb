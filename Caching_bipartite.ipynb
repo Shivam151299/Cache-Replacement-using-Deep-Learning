{
  "nbformat": 4,
  "nbformat_minor": 0,
  "metadata": {
    "colab": {
      "name": "Caching bipartite",
      "provenance": [],
      "collapsed_sections": []
    },
    "kernelspec": {
      "name": "python3",
      "display_name": "Python 3"
    }
  },
  "cells": [
    {
      "cell_type": "code",
      "metadata": {
        "id": "g6dzR9rt_krF",
        "colab_type": "code",
        "colab": {}
      },
      "source": [
        "import numpy as np\n",
        "from numpy import random\n",
        "import matplotlib.pyplot as plt\n",
        "%matplotlib inline"
      ],
      "execution_count": 1,
      "outputs": []
    },
    {
      "cell_type": "code",
      "metadata": {
        "id": "I3q3IaHWk6dP",
        "colab_type": "code",
        "colab": {
          "base_uri": "https://localhost:8080/",
          "height": 121
        },
        "outputId": "68f9f8fc-7adb-4b78-946a-e3873b60d1fe"
      },
      "source": [
        "from google.colab import drive\n",
        "drive.mount('/content/drive')"
      ],
      "execution_count": 2,
      "outputs": [
        {
          "output_type": "stream",
          "text": [
            "Go to this URL in a browser: https://accounts.google.com/o/oauth2/auth?client_id=947318989803-6bn6qk8qdgf4n4g3pfee6491hc0brc4i.apps.googleusercontent.com&redirect_uri=urn%3aietf%3awg%3aoauth%3a2.0%3aoob&response_type=code&scope=email%20https%3a%2f%2fwww.googleapis.com%2fauth%2fdocs.test%20https%3a%2f%2fwww.googleapis.com%2fauth%2fdrive%20https%3a%2f%2fwww.googleapis.com%2fauth%2fdrive.photos.readonly%20https%3a%2f%2fwww.googleapis.com%2fauth%2fpeopleapi.readonly\n",
            "\n",
            "Enter your authorization code:\n",
            "··········\n",
            "Mounted at /content/drive\n"
          ],
          "name": "stdout"
        }
      ]
    },
    {
      "cell_type": "code",
      "metadata": {
        "id": "eki7BDaX_RpP",
        "colab_type": "code",
        "colab": {}
      },
      "source": [
        "gen_req1 = np.load('/content/drive/My Drive/gen_req.npy')\n",
        "req1 = np.load('/content/drive/My Drive/req.npy')"
      ],
      "execution_count": 3,
      "outputs": []
    },
    {
      "cell_type": "code",
      "metadata": {
        "id": "lAcMUnr1RECc",
        "colab_type": "code",
        "colab": {
          "base_uri": "https://localhost:8080/",
          "height": 34
        },
        "outputId": "4ee46e4f-75f3-4b4a-d2e2-449eff185a3a"
      },
      "source": [
        "#req1 = req1[20000:2005000]\n",
        "#gen_req1 = gen_req1[20000:2005000]\n",
        "req1.shape,gen_req1.shape"
      ],
      "execution_count": 4,
      "outputs": [
        {
          "output_type": "execute_result",
          "data": {
            "text/plain": [
              "((2005000,), (2255000,))"
            ]
          },
          "metadata": {
            "tags": []
          },
          "execution_count": 4
        }
      ]
    },
    {
      "cell_type": "code",
      "metadata": {
        "id": "SOUAMkThUS-c",
        "colab_type": "code",
        "colab": {}
      },
      "source": [
        "N = 100 # total ids \n",
        "pi = 3.14"
      ],
      "execution_count": 5,
      "outputs": []
    },
    {
      "cell_type": "markdown",
      "metadata": {
        "id": "Av1Kgt5FUF3x",
        "colab_type": "text"
      },
      "source": [
        "LRU"
      ]
    },
    {
      "cell_type": "code",
      "metadata": {
        "id": "IU2Dme6MjK66",
        "colab_type": "code",
        "colab": {}
      },
      "source": [
        "def LRU(y, x, request_time,con):\n",
        "  [N,I] = x.shape\n",
        "  J = len(y)\n",
        "  for j in range(J):\n",
        "    x_t_j = np.zeros(N)\n",
        "    file_req_time = np.zeros(N)\n",
        "\n",
        "    # to find which users are connected to this cache \n",
        "    connected_users = []\n",
        "    for k in range(I):\n",
        "      if con[k,j] == 1:\n",
        "        connected_users.append(k)\n",
        "    for k in range(len(connected_users)):\n",
        "      x_t_j += x[:,connected_users[k]]\n",
        "      file_req_time = np.maximum(file_req_time, request_time[:,connected_users[k]])\n",
        "    x_t_j = np.minimum(np.ones(N),x_t_j)\n",
        "\n",
        "    a1 = np.transpose(np.logical_and(y[j],np.logical_not(np.logical_and(y[j],np.transpose(x_t_j)))))# file which is not requested but still in the cache\n",
        "    b1 = np.transpose(np.logical_and(np.transpose(x_t_j),np.logical_not(np.logical_and(y[j],np.transpose(x_t_j))))) # file requested but not in the cache.\n",
        "    a = np.sum(a1)\n",
        "    b = np.sum(b1)\n",
        "\n",
        "    if a>0 and b>0:\n",
        "      if a>b:\n",
        "        ind = []\n",
        "        for k in range(N):\n",
        "          if a1[k] == 1:\n",
        "            ind.append(k)\n",
        "        t = np.zeros(a)\n",
        "        for k in range(a):\n",
        "          t[k] = file_req_time[ind[k]]\n",
        "        replace = (t).argsort()[:b]\n",
        "        for k in range(b):\n",
        "          y[j,ind[int(replace[k])]] = 0\n",
        "        for k in range(N):\n",
        "          if b1[k] == 1:\n",
        "            y[j,k] = 1\n",
        "      \n",
        "      else:\n",
        "        for k in range(N):\n",
        "          if a1[k] == 1:\n",
        "            y[j,k] = 0\n",
        "        \n",
        "        ind = []\n",
        "        for k in range(N):\n",
        "          if b1[k] == 1:\n",
        "            ind.append(k)\n",
        "        t = np.zeros(b)\n",
        "        for k in range(b):\n",
        "          t[k] = file_req_time[ind[k]]\n",
        "        replace = (t).argsort()[:a]\n",
        "        for k in range(a):\n",
        "          y[j,ind[int(replace[k])]] = 1\n",
        "  return y"
      ],
      "execution_count": 6,
      "outputs": []
    },
    {
      "cell_type": "markdown",
      "metadata": {
        "id": "rlnncX3lUi-6",
        "colab_type": "text"
      },
      "source": [
        "LFU"
      ]
    },
    {
      "cell_type": "code",
      "metadata": {
        "id": "rZKodE159k31",
        "colab_type": "code",
        "colab": {}
      },
      "source": [
        "def LFU(y,x,freq,con):\n",
        "  [N,I] = x.shape\n",
        "  J = len(y)\n",
        "\n",
        "  for j in range(J):\n",
        "    file_freq = np.zeros(N)\n",
        "    x_t_j = np.zeros(N)\n",
        "\n",
        "    # to find which users are connected to this cache \n",
        "    connected_users = []\n",
        "    for k in range(I):\n",
        "      if con[k,j] == 1:\n",
        "        connected_users.append(k)\n",
        "    for k in range(len(connected_users)):\n",
        "      x_t_j += x[:,connected_users[k]]\n",
        "      file_freq += freq[:,connected_users[k]]\n",
        "    x_t_j = np.minimum(np.ones(N),x_t_j)\n",
        "\n",
        "    a1 = np.transpose(np.logical_and(y[j],np.logical_not(np.logical_and(y[j],np.transpose(x_t_j)))))# file which is not requested but still in the cache\n",
        "    b1 = np.transpose(np.logical_and(np.transpose(x_t_j),np.logical_not(np.logical_and(y[j],np.transpose(x_t_j))))) # file requested but not in the cache.\n",
        "    a = np.sum(a1)\n",
        "    b = np.sum(b1)\n",
        "  \n",
        "    if a>0 and b>0:\n",
        "      if a>b:\n",
        "        ind = []\n",
        "        for k in range(N):\n",
        "          if a1[k] == 1:\n",
        "            ind.append(k)\n",
        "        t = np.zeros(a)\n",
        "        for k in range(a):\n",
        "          t[k] = file_freq[ind[k]]\n",
        "        replace = (t).argsort()[:b]\n",
        "        for k in range(b):\n",
        "          y[j,ind[int(replace[k])]] = 0\n",
        "        for k in range(N):\n",
        "          if b1[k] == 1:\n",
        "            y[j,k] = 1\n",
        "      else:\n",
        "        for k in range(N):\n",
        "          if a1[k] == 1:\n",
        "            y[j,k] = 0\n",
        "        ind = []\n",
        "        for k in range(N):\n",
        "          if b1[k] == 1:\n",
        "            ind.append(k)\n",
        "        t = np.zeros(b)\n",
        "        for k in range(b):\n",
        "          t[k] = file_freq[ind[k]]\n",
        "        replace = (t).argsort()[:a]\n",
        "        for k in range(a):\n",
        "          y[j,ind[int(replace[k])]] = 1\n",
        "\n",
        "  return y"
      ],
      "execution_count": 7,
      "outputs": []
    },
    {
      "cell_type": "markdown",
      "metadata": {
        "id": "NxQfsTnXWQyP",
        "colab_type": "text"
      },
      "source": [
        "perturbed count"
      ]
    },
    {
      "cell_type": "code",
      "metadata": {
        "id": "V4d6vCcjWOP7",
        "colab_type": "code",
        "colab": {}
      },
      "source": [
        "def per_count(eta,count):\n",
        "  [N,I] = count.shape\n",
        "  p_count = np.zeros((N,I),dtype = float)\n",
        "  for i in range(I):\n",
        "    p_count[:,i] = count[:,i] + (eta*random.normal(0,1,[N,1])).reshape(N)\n",
        "  return p_count"
      ],
      "execution_count": 8,
      "outputs": []
    },
    {
      "cell_type": "markdown",
      "metadata": {
        "id": "WIbLBZBYswP8",
        "colab_type": "text"
      },
      "source": [
        "GREEDY"
      ]
    },
    {
      "cell_type": "code",
      "metadata": {
        "id": "plLnprjKsv75",
        "colab_type": "code",
        "colab": {}
      },
      "source": [
        "def Greedy(con,count):\n",
        "  [I,J] = con.shape\n",
        "  [N,I] = count.shape\n",
        "  load = np.zeros((1,J),dtype = float)\n",
        "\n",
        "  for i in range(I):\n",
        "    for f in range(N):\n",
        "      if count[f,i] < 0:\n",
        "        count[f,i] = 0\n",
        "  \n",
        "  loadc = 0\n",
        "  y = np.zeros((J,N),dtype = float)\n",
        "  z = np.zeros((I,N),dtype = float)\n",
        "  mark = np.zeros((I,N),dtype = float)\n",
        "\n",
        "  while(loadc < J):\n",
        "    best_cache = -1\n",
        "    best_file = -1\n",
        "    best_imp = -1\n",
        "\n",
        "    for j in range(J):\n",
        "      if load[0,j] < C:\n",
        "        for f in range(N):\n",
        "          if y[j,f] != 1:\n",
        "            imp = 0\n",
        "\n",
        "            for i in range(I):\n",
        "              if con[i,j] == 1 and mark[i,f] == 0:\n",
        "                imp += count[f,i]\n",
        "\n",
        "            if imp >= best_imp:\n",
        "              best_cache = j\n",
        "              best_file = f\n",
        "              best_imp = imp\n",
        "\n",
        "    y[best_cache,best_file] = 1\n",
        "\n",
        "    for i in range(I):\n",
        "      if con[i,best_cache] == 1:\n",
        "        mark[i,best_cache] = 1\n",
        "\n",
        "    load[0,best_cache] += 1\n",
        "    if load[0,best_cache] == C:\n",
        "      loadc += 1\n",
        "  \n",
        "  for i in range(I):\n",
        "    for f in range(N):\n",
        "      for j in range(J):\n",
        "        if con[i,j] == 1:\n",
        "          z[i,f] = np.maximum(y[j,f],z[i,f])\n",
        "      \n",
        "  return y,z"
      ],
      "execution_count": 9,
      "outputs": []
    },
    {
      "cell_type": "markdown",
      "metadata": {
        "id": "8RkOlMhDjohA",
        "colab_type": "text"
      },
      "source": [
        "SINGLE CACHE"
      ]
    },
    {
      "cell_type": "code",
      "metadata": {
        "id": "ZyC3_Jwrjn5s",
        "colab_type": "code",
        "colab": {
          "base_uri": "https://localhost:8080/",
          "height": 34
        },
        "outputId": "f61d1dde-c82b-4427-b74d-9e22bc823270"
      },
      "source": [
        "I = 1 #users\n",
        "T = 100000\n",
        "degree = 1\n",
        "J = 1 #caches\n",
        "C = 5\n",
        "connection = np.array([[1]])\n",
        "connection.shape"
      ],
      "execution_count": 10,
      "outputs": [
        {
          "output_type": "execute_result",
          "data": {
            "text/plain": [
              "(1, 1)"
            ]
          },
          "metadata": {
            "tags": []
          },
          "execution_count": 10
        }
      ]
    },
    {
      "cell_type": "code",
      "metadata": {
        "id": "4Xqi6iqtfnhE",
        "colab_type": "code",
        "colab": {
          "base_uri": "https://localhost:8080/",
          "height": 34
        },
        "outputId": "d00621fc-bcec-47af-8686-d0e7a79ce418"
      },
      "source": [
        "req = np.zeros((I,T),dtype = int)\n",
        "for i in range(I):\n",
        "  for j in range(T):\n",
        "    req[i,j] = req1[(i+1)*(j+1) - 1]\n",
        "req.shape"
      ],
      "execution_count": 11,
      "outputs": [
        {
          "output_type": "execute_result",
          "data": {
            "text/plain": [
              "(1, 100000)"
            ]
          },
          "metadata": {
            "tags": []
          },
          "execution_count": 11
        }
      ]
    },
    {
      "cell_type": "code",
      "metadata": {
        "id": "7NQUPQz7JvtR",
        "colab_type": "code",
        "colab": {
          "base_uri": "https://localhost:8080/",
          "height": 34
        },
        "outputId": "e091361b-199e-48cf-a118-35446884d8be"
      },
      "source": [
        "gen_req = np.zeros((I,T),dtype = int)\n",
        "for i in range(I):\n",
        "  for j in range(T):\n",
        "    gen_req[i,j] = gen_req1[(i+1)*(j+1) - 1]\n",
        "gen_req.shape"
      ],
      "execution_count": 12,
      "outputs": [
        {
          "output_type": "execute_result",
          "data": {
            "text/plain": [
              "(1, 100000)"
            ]
          },
          "metadata": {
            "tags": []
          },
          "execution_count": 12
        }
      ]
    },
    {
      "cell_type": "code",
      "metadata": {
        "id": "pWowJlSAki2e",
        "colab_type": "code",
        "colab": {
          "base_uri": "https://localhost:8080/",
          "height": 185
        },
        "outputId": "1a496a00-7c79-4b4f-a839-6698cf7c86af"
      },
      "source": [
        "y_LRU = np.zeros((J,N),dtype = float)\n",
        "y_LFU = np.zeros((J,N),dtype = float)\n",
        "y_FTPL = np.zeros((J,N),dtype = float)\n",
        "y_LSTM = np.zeros((J,N),dtype = float)\n",
        "y_LSTM[:,:C] = np.ones((J,C),dtype = float)\n",
        "y_FTPL[:,:C] = np.ones((J,C),dtype = float)\n",
        "y_LRU[:,:C] = np.ones((J,C),dtype = float)\n",
        "y_LFU[:,:C] = np.ones((J,C),dtype = float)\n",
        "\n",
        "count = np.zeros((N,I),dtype = float)\n",
        "\n",
        "reward_LSTM =  np.zeros(T)\n",
        "reward_FTPL =  np.zeros(T)\n",
        "reward_LRU =  np.zeros(T)\n",
        "reward_LFU =  np.zeros(T)\n",
        "hits_FTPL =  []\n",
        "hits_LRU =  []\n",
        "hits_LFU =  []\n",
        "hits_LSTM = []\n",
        "download_FTPL =  []\n",
        "download_LRU =  []\n",
        "download_LFU =  []\n",
        "download_LSTM = []\n",
        "miss_LRU =  0\n",
        "miss_LSTM =  0\n",
        "miss_LFU =  0\n",
        "miss_FTPL =  0\n",
        "\n",
        "\n",
        "req_time = np.zeros((N,I),dtype = float) \n",
        "req_time1 = np.zeros((N,I),dtype = float) \n",
        "\n",
        "for t in range(T):\n",
        "  old_FTPL = []\n",
        "  old_LRU = []\n",
        "  old_LFU = []\n",
        "  old_LSTM = []\n",
        "  new_FTPL = []\n",
        "  new_LRU = []\n",
        "  new_LFU = []\n",
        "  new_LSTM = []\n",
        "  for j in range(J):\n",
        "    for k in range(N):\n",
        "      old_LRU.append(y_LRU[j,k])\n",
        "      old_LFU.append(y_LFU[j,k])\n",
        "      old_FTPL.append(y_FTPL[j,k])\n",
        "      old_LSTM.append(y_LSTM[j,k])\n",
        "\n",
        "  x_t1 = np.zeros((N,I),dtype = int)\n",
        "  x_t = np.zeros((N,I),dtype = int)\n",
        "  for i in range(I):\n",
        "    x_t[req[i,t],i] += 1\n",
        "    x_t1[gen_req[i,t],i] += 1\n",
        "    count[int(req[i,t]),i] += 1\n",
        "    req_time[int(req[i,t]),i] = t+1\n",
        "    req_time1[int(gen_req[i,t]),i] = t+1\n",
        "  \n",
        "  ireward_LRU =  np.zeros(I)\n",
        "  ireward_LSTM =  np.zeros(I)\n",
        "  ireward_LFU =  np.zeros(I)\n",
        "  ireward_FTPL =  np.zeros(I)\n",
        "  \n",
        "  for i in range(I):\n",
        "    temp1 = np.zeros(N)\n",
        "    temp2 = np.zeros(N)\n",
        "    temp3 = np.zeros(N)\n",
        "    temp4 = np.zeros(N)\n",
        "    connected_cache = []\n",
        "    for j in range(J):\n",
        "      if connection[i,j] == 1:\n",
        "        connected_cache.append(j)\n",
        "    for k in range(len(connected_cache)):\n",
        "      temp1 += y_FTPL[connected_cache[k],:]\n",
        "      temp2 += y_LFU[connected_cache[k],:]\n",
        "      temp3 += y_LRU[connected_cache[k],:]\n",
        "      temp4 += y_LSTM[connected_cache[k],:]\n",
        "    ireward_FTPL[i] += np.dot(np.minimum(np.ones(N),temp1),x_t[:,i])\n",
        "    ireward_LFU[i] += np.dot(np.minimum(np.ones(N),temp2),x_t[:,i])\n",
        "    ireward_LRU[i] += np.dot(np.minimum(np.ones(N),temp3),x_t[:,i])\n",
        "    ireward_LSTM[i] += np.dot(np.minimum(np.ones(N),temp4),x_t1[:,i])\n",
        "\n",
        "  reward_FTPL[t] =  np.sum(ireward_FTPL)\n",
        "  reward_LRU[t] =  np.sum(ireward_LRU)\n",
        "  reward_LFU[t] =  np.sum(ireward_LFU)\n",
        "  reward_LSTM[t] =  np.sum(ireward_LSTM)\n",
        "  reward_LSTMc = np.sum(reward_LSTM)\n",
        "  reward_FTPLc = np.sum(reward_FTPL)\n",
        "  reward_LRUc = np.sum(reward_LRU)\n",
        "  reward_LFUc = np.sum(reward_LFU)\n",
        "\n",
        "\n",
        "  y_LFU = LFU(y_LFU,x_t,count,connection)\n",
        "  y_LRU = LRU(y_LRU,x_t,req_time,connection)\n",
        "  y_LSTM = LRU(y_LSTM,x_t1,req_time1,connection)\n",
        "\n",
        "  eta = pow(4*pi*np.log(N),-.25)*pow((t+1)/C,.5)\n",
        "  perturbed_count=per_count(eta,count)\n",
        "\n",
        "  add = (-perturbed_count[:,0]).argsort()[:C]\n",
        "  y_FTPL = np.zeros((J,N),dtype = float)\n",
        "  for k in range(len(add)):\n",
        "    y_FTPL[0,int(add[k])] = 1 \n",
        " \n",
        "  for j in range(J):\n",
        "    for k in range(N):\n",
        "      new_LRU.append(y_LRU[j,k])\n",
        "      new_LFU.append(y_LFU[j,k])\n",
        "      new_FTPL.append(y_FTPL[j,k])\n",
        "      new_LSTM.append(y_LSTM[j,k])\n",
        "  \n",
        "  miss_FTPL += (np.sum(np.logical_and(new_FTPL,np.logical_not(old_FTPL))))\n",
        "  miss_LFU += (np.sum(np.logical_and(new_LFU,np.logical_not(old_LFU))))\n",
        "  miss_LRU += (np.sum(np.logical_and(new_LRU,np.logical_not(old_LRU))))\n",
        "  miss_LSTM += (np.sum(np.logical_and(new_LSTM,np.logical_not(old_LSTM))))\n",
        "  download_LFU.append(miss_LFU)\n",
        "  download_LRU.append(miss_LRU)\n",
        "  download_FTPL.append(miss_FTPL)\n",
        "  download_LSTM.append(miss_LSTM)\n",
        "\n",
        "  hits_LRU.append(reward_LRUc)\n",
        "  hits_LFU.append(reward_LFUc)\n",
        "  hits_FTPL.append(reward_FTPLc)\n",
        "  hits_LSTM.append(reward_LSTMc)\n",
        "\n",
        "  if t %10000 == 0:\n",
        "    print(t,download_FTPL[t],download_LFU[t],download_LRU[t],download_LSTM[t])"
      ],
      "execution_count": 13,
      "outputs": [
        {
          "output_type": "stream",
          "text": [
            "0 4 1 1 1\n",
            "10000 36815 9397 9477 9477\n",
            "20000 63309 18715 18994 18994\n",
            "30000 85340 28029 28465 27616\n",
            "40000 102523 37355 37919 36214\n",
            "50000 117468 46740 47407 44815\n",
            "60000 130336 56073 56865 53412\n",
            "70000 141659 65392 66324 62018\n",
            "80000 152337 74733 75808 70578\n",
            "90000 162296 84087 85340 79217\n"
          ],
          "name": "stdout"
        }
      ]
    },
    {
      "cell_type": "code",
      "metadata": {
        "id": "J_3kWL_JCNjX",
        "colab_type": "code",
        "colab": {
          "base_uri": "https://localhost:8080/",
          "height": 279
        },
        "outputId": "1249633f-63b1-4462-a645-e19dab6826f2"
      },
      "source": [
        "plt.plot(hits_FTPL,'black',label='FTPL')\n",
        "plt.plot(hits_LRU,'green',label='LRU')\n",
        "plt.plot(hits_LFU,'blue',label='LFU')\n",
        "plt.plot(hits_LSTM,'red',label='LSTM')\n",
        "plt.xlabel('T')\n",
        "plt.ylabel('Total hits')\n",
        "plt.legend()\n",
        "plt.savefig('Total hits(I=J=1).png')"
      ],
      "execution_count": 14,
      "outputs": [
        {
          "output_type": "display_data",
          "data": {
            "image/png": "[encoded data removed]",
            "text/plain": [
              "<Figure size 432x288 with 1 Axes>"
            ]
          },
          "metadata": {
            "tags": [],
            "needs_background": "light"
          }
        }
      ]
    },
    {
      "cell_type": "code",
      "metadata": {
        "id": "YK-m4yZjrs3l",
        "colab_type": "code",
        "colab": {
          "base_uri": "https://localhost:8080/",
          "height": 279
        },
        "outputId": "7b5b54e8-9302-4abc-a838-9c21436e8269"
      },
      "source": [
        "plt.plot(download_FTPL,'black',label='FTPL')\n",
        "plt.plot(download_LRU,'green',label='LRU')\n",
        "plt.plot(download_LFU,'blue',label='LFU')\n",
        "plt.plot(download_LSTM,'red',label='LSTM')\n",
        "plt.xlabel('T')\n",
        "plt.ylabel('New downloads')\n",
        "plt.legend()\n",
        "plt.savefig('New downloads(I=J=1).png')"
      ],
      "execution_count": 15,
      "outputs": [
        {
          "output_type": "display_data",
          "data": {
            "image/png": "[encoded data removed]",
            "text/plain": [
              "<Figure size 432x288 with 1 Axes>"
            ]
          },
          "metadata": {
            "tags": [],
            "needs_background": "light"
          }
        }
      ]
    },
    {
      "cell_type": "markdown",
      "metadata": {
        "id": "Fj30MgQaWN_E",
        "colab_type": "text"
      },
      "source": [
        "I = 5 J = 3 d = 2"
      ]
    },
    {
      "cell_type": "code",
      "metadata": {
        "id": "jA0Kz7jzKJ3G",
        "colab_type": "code",
        "colab": {}
      },
      "source": [
        "C = 5\n",
        "I = 5\n",
        "J = 3\n",
        "degree = 3\n",
        "T = 20000"
      ],
      "execution_count": 16,
      "outputs": []
    },
    {
      "cell_type": "code",
      "metadata": {
        "id": "fkzyLhrGKhB6",
        "colab_type": "code",
        "colab": {
          "base_uri": "https://localhost:8080/",
          "height": 101
        },
        "outputId": "bfcfbcad-3842-4fd2-873b-788c05fbed6c"
      },
      "source": [
        "connection = np.zeros((I,J),dtype = int)\n",
        "i = 0\n",
        "for j in range(J):\n",
        "  x = 0\n",
        "  while x < degree:\n",
        "    connection[i,j] = 1\n",
        "    x += 1\n",
        "    i += 1\n",
        "    if i == I:\n",
        "      i = 0\n",
        "  i = j+1\n",
        "connection"
      ],
      "execution_count": 17,
      "outputs": [
        {
          "output_type": "execute_result",
          "data": {
            "text/plain": [
              "array([[1, 0, 0],\n",
              "       [1, 1, 0],\n",
              "       [1, 1, 1],\n",
              "       [0, 1, 1],\n",
              "       [0, 0, 1]])"
            ]
          },
          "metadata": {
            "tags": []
          },
          "execution_count": 17
        }
      ]
    },
    {
      "cell_type": "code",
      "metadata": {
        "id": "TIjWw46mSfxG",
        "colab_type": "code",
        "colab": {}
      },
      "source": [
        "gen_req1 = np.load('/content/drive/My Drive/gen_req.npy')\n",
        "req1 = np.load('/content/drive/My Drive/req.npy')\n",
        "req1 = req1[20000:2005000]\n",
        "gen_req1 = gen_req1[20000:2005000]"
      ],
      "execution_count": 18,
      "outputs": []
    },
    {
      "cell_type": "code",
      "metadata": {
        "id": "DNOrEFxxThnu",
        "colab_type": "code",
        "colab": {
          "base_uri": "https://localhost:8080/",
          "height": 34
        },
        "outputId": "ce9dc14d-e625-4846-f7b1-cf1233e2b815"
      },
      "source": [
        "req = np.zeros((I,T),dtype = int)\n",
        "for i in range(I):\n",
        "  for j in range(T):\n",
        "    req[i,j] = req1[(i+1)*(j+1) - 1]\n",
        "req.shape"
      ],
      "execution_count": 19,
      "outputs": [
        {
          "output_type": "execute_result",
          "data": {
            "text/plain": [
              "(5, 20000)"
            ]
          },
          "metadata": {
            "tags": []
          },
          "execution_count": 19
        }
      ]
    },
    {
      "cell_type": "code",
      "metadata": {
        "id": "DAQ_EHg8TlOp",
        "colab_type": "code",
        "colab": {
          "base_uri": "https://localhost:8080/",
          "height": 34
        },
        "outputId": "487225d2-f0d9-42d5-e248-2f9289d91005"
      },
      "source": [
        "gen_req = np.zeros((I,T),dtype = int)\n",
        "for i in range(I):\n",
        "  for j in range(T):\n",
        "    gen_req[i,j] = gen_req1[(i+1)*(j+1) - 1]\n",
        "gen_req.shape"
      ],
      "execution_count": 20,
      "outputs": [
        {
          "output_type": "execute_result",
          "data": {
            "text/plain": [
              "(5, 20000)"
            ]
          },
          "metadata": {
            "tags": []
          },
          "execution_count": 20
        }
      ]
    },
    {
      "cell_type": "code",
      "metadata": {
        "id": "5U7m8AJ9Sw6B",
        "colab_type": "code",
        "colab": {
          "base_uri": "https://localhost:8080/",
          "height": 353
        },
        "outputId": "eef4cec8-c35c-4bec-8f78-837e02353f79"
      },
      "source": [
        "y_LRU = np.zeros((J,N),dtype = float)\n",
        "y_LFU = np.zeros((J,N),dtype = float)\n",
        "y_FTPL = np.zeros((J,N),dtype = float)\n",
        "y_LSTM = np.zeros((J,N),dtype = float)\n",
        "y_LSTM[:,:C] = np.ones((J,C),dtype = float)\n",
        "y_FTPL[:,:C] = np.ones((J,C),dtype = float)\n",
        "y_LRU[:,:C] = np.ones((J,C),dtype = float)\n",
        "y_LFU[:,:C] = np.ones((J,C),dtype = float)\n",
        "\n",
        "count = np.zeros((N,I),dtype = float)\n",
        "\n",
        "reward_LSTM =  np.zeros(T)\n",
        "reward_FTPL =  np.zeros(T)\n",
        "reward_LRU =  np.zeros(T)\n",
        "reward_LFU =  np.zeros(T)\n",
        "hits_FTPL =  []\n",
        "hits_LRU =  []\n",
        "hits_LFU =  []\n",
        "hits_LSTM = []\n",
        "download_FTPL =  []\n",
        "download_LRU =  []\n",
        "download_LFU =  []\n",
        "download_LSTM = []\n",
        "miss_LRU =  0\n",
        "miss_LSTM =  0\n",
        "miss_LFU =  0\n",
        "miss_FTPL =  0\n",
        "\n",
        "\n",
        "req_time = np.zeros((N,I),dtype = float) \n",
        "req_time1 = np.zeros((N,I),dtype = float) \n",
        "\n",
        "for t in range(T):\n",
        "  old_FTPL = []\n",
        "  old_LRU = []\n",
        "  old_LFU = []\n",
        "  old_LSTM = []\n",
        "  new_FTPL = []\n",
        "  new_LRU = []\n",
        "  new_LFU = []\n",
        "  new_LSTM = []\n",
        "  for j in range(J):\n",
        "    for k in range(N):\n",
        "      old_LRU.append(y_LRU[j,k])\n",
        "      old_LFU.append(y_LFU[j,k])\n",
        "      old_FTPL.append(y_FTPL[j,k])\n",
        "      old_LSTM.append(y_LSTM[j,k])\n",
        "  x_t1 = np.zeros((N,I),dtype = int)\n",
        "  x_t = np.zeros((N,I),dtype = int)\n",
        "  for i in range(I):\n",
        "    x_t[req[i,t],i] += 1\n",
        "    x_t1[gen_req[i,t],i] += 1\n",
        "    count[int(req[i,t]),i] += 1\n",
        "    req_time[int(req[i,t]),i] = t+1\n",
        "    req_time1[int(gen_req[i,t]),i] = t+1\n",
        "  \n",
        "  ireward_LRU =  np.zeros(I)\n",
        "  ireward_LSTM =  np.zeros(I)\n",
        "  ireward_LFU =  np.zeros(I)\n",
        "  ireward_FTPL =  np.zeros(I)\n",
        "  \n",
        "  for i in range(I):\n",
        "    temp1 = np.zeros(N)\n",
        "    temp2 = np.zeros(N)\n",
        "    temp3 = np.zeros(N)\n",
        "    temp4 = np.zeros(N)\n",
        "    connected_cache = []\n",
        "    for j in range(J):\n",
        "      if connection[i,j] == 1:\n",
        "        connected_cache.append(j)\n",
        "    for k in range(len(connected_cache)):\n",
        "      temp1 += y_FTPL[connected_cache[k],:]\n",
        "      temp2 += y_LFU[connected_cache[k],:]\n",
        "      temp3 += y_LRU[connected_cache[k],:]\n",
        "      temp4 += y_LSTM[connected_cache[k],:]\n",
        "    ireward_FTPL[i] += np.dot(np.minimum(np.ones(N),temp1),x_t[:,i])\n",
        "    ireward_LFU[i] += np.dot(np.minimum(np.ones(N),temp2),x_t[:,i])\n",
        "    ireward_LRU[i] += np.dot(np.minimum(np.ones(N),temp3),x_t[:,i])\n",
        "    ireward_LSTM[i] += np.dot(np.minimum(np.ones(N),temp4),x_t1[:,i])\n",
        "\n",
        "  reward_FTPL[t] =  np.sum(ireward_FTPL)\n",
        "  reward_LRU[t] =  np.sum(ireward_LRU)\n",
        "  reward_LFU[t] =  np.sum(ireward_LFU)\n",
        "  reward_LSTM[t] =  np.sum(ireward_LSTM)\n",
        "  reward_LSTMc = np.sum(reward_LSTM)\n",
        "  reward_FTPLc = np.sum(reward_FTPL)\n",
        "  reward_LRUc = np.sum(reward_LRU)\n",
        "  reward_LFUc = np.sum(reward_LFU)\n",
        "\n",
        "\n",
        "  y_LFU = LFU(y_LFU,x_t,count,connection)\n",
        "  y_LRU = LRU(y_LRU,x_t,req_time,connection)\n",
        "  y_LSTM = LRU(y_LSTM,x_t1,req_time1,connection)\n",
        "\n",
        "  eta = I*pow(4*pi*np.log(N*I),-0.25)*pow((t+1)/(J*degree*C),.5)\n",
        "  perturbed_count=per_count(eta,count)\n",
        "\n",
        "  [y_FTPL,z] = Greedy(connection,perturbed_count)\n",
        "  for j in range(J):\n",
        "    for k in range(N):\n",
        "      new_LRU.append(y_LRU[j,k])\n",
        "      new_LFU.append(y_LFU[j,k])\n",
        "      new_FTPL.append(y_FTPL[j,k])\n",
        "      new_LSTM.append(y_LSTM[j,k])\n",
        "  \n",
        "#  print(old_LRU)\n",
        "  miss_FTPL += (np.sum(np.logical_and(new_FTPL,np.logical_not(old_FTPL))))\n",
        "  miss_LFU += (np.sum(np.logical_and(new_LFU,np.logical_not(old_LFU))))\n",
        "  miss_LRU += (np.sum(np.logical_and(new_LRU,np.logical_not(old_LRU))))\n",
        "  miss_LSTM += (np.sum(np.logical_and(new_LSTM,np.logical_not(old_LSTM))))\n",
        "  download_LFU.append(miss_LFU)\n",
        "  download_LRU.append(miss_LRU)\n",
        "  download_FTPL.append(miss_FTPL)\n",
        "  download_LSTM.append(miss_LSTM)\n",
        "\n",
        "  hits_LRU.append(reward_LRUc)\n",
        "  hits_LFU.append(reward_LFUc)\n",
        "  hits_FTPL.append(reward_FTPLc)\n",
        "  hits_LSTM.append(reward_LSTMc)\n",
        "\n",
        "  if t %1000 == 0:\n",
        "    print(t,download_FTPL[t],download_LFU[t],download_LRU[t],download_LSTM[t],hits_FTPL[t],hits_LFU[t],hits_LRU[t],hits_LSTM[t])"
      ],
      "execution_count": 21,
      "outputs": [
        {
          "output_type": "stream",
          "text": [
            "0 15 9 9 9 0.0 0.0 0.0 0.0\n",
            "1000 13043 8351 8405 8123 381.0 397.0 352.0 529.0\n",
            "2000 25433 16728 16823 16272 811.0 785.0 719.0 1072.0\n",
            "3000 36983 25113 25277 24408 1231.0 1149.0 1036.0 1593.0\n",
            "4000 47588 33411 33673 32549 1666.0 1570.0 1385.0 2135.0\n",
            "5000 57269 41753 42092 40568 2068.0 1946.0 1718.0 2733.0\n",
            "6000 66653 50147 50502 48666 2476.0 2312.0 2074.0 3299.0\n",
            "7000 75803 58474 58871 56769 2871.0 2686.0 2452.0 3848.0\n",
            "8000 84510 66897 67345 64902 3244.0 3009.0 2776.0 4377.0\n",
            "9000 93140 75292 75771 72985 3641.0 3378.0 3120.0 4936.0\n",
            "10000 101595 83738 84279 81058 4057.0 3706.0 3413.0 5515.0\n",
            "11000 109719 92113 92715 89189 4480.0 4073.0 3751.0 6066.0\n",
            "12000 117640 100492 101154 97318 4861.0 4423.0 4069.0 6612.0\n",
            "13000 125480 108906 109594 105336 5262.0 4780.0 4407.0 7188.0\n",
            "14000 133376 117233 118004 113462 5691.0 5171.0 4753.0 7741.0\n",
            "15000 140857 125629 126482 121595 6106.0 5539.0 5075.0 8287.0\n",
            "16000 148230 133976 134883 129700 6498.0 5906.0 5424.0 8856.0\n",
            "17000 155610 142385 143375 137771 6900.0 6254.0 5724.0 9430.0\n",
            "18000 162680 150775 151865 145896 7312.0 6620.0 6030.0 9962.0\n",
            "19000 169396 159162 160279 154033 7743.0 6981.0 6375.0 10505.0\n"
          ],
          "name": "stdout"
        }
      ]
    },
    {
      "cell_type": "code",
      "metadata": {
        "id": "u33MS3DDT1CZ",
        "colab_type": "code",
        "colab": {
          "base_uri": "https://localhost:8080/",
          "height": 279
        },
        "outputId": "99727d63-a6fb-432b-8d7c-eea5787d4c99"
      },
      "source": [
        "plt.plot(hits_FTPL,'black',label='FTPL')\n",
        "plt.plot(hits_LRU,'green',label='LRU')\n",
        "plt.plot(hits_LFU,'blue',label='LFU')\n",
        "plt.plot(hits_LSTM,'red',label='LSTM')\n",
        "plt.xlabel('T')\n",
        "plt.ylabel('total hits')\n",
        "plt.legend()\n",
        "plt.savefig('Total hits(I=5 J=3 d=2).png')"
      ],
      "execution_count": 22,
      "outputs": [
        {
          "output_type": "display_data",
          "data": {
            "image/png": "[encoded data removed]",
            "text/plain": [
              "<Figure size 432x288 with 1 Axes>"
            ]
          },
          "metadata": {
            "tags": [],
            "needs_background": "light"
          }
        }
      ]
    },
    {
      "cell_type": "code",
      "metadata": {
        "id": "BO6RqcCjt-I0",
        "colab_type": "code",
        "colab": {
          "base_uri": "https://localhost:8080/",
          "height": 279
        },
        "outputId": "93e98797-8e19-44c8-b04f-c0814d4188ef"
      },
      "source": [
        "plt.plot(download_FTPL,'black',label='FTPL')\n",
        "plt.plot(download_LRU,'green',label='LRU')\n",
        "plt.plot(download_LFU,'blue',label='LFU')\n",
        "plt.plot(download_LSTM,'red',label='LSTM')\n",
        "plt.xlabel('T')\n",
        "plt.ylabel('New downloads')\n",
        "plt.legend()\n",
        "plt.savefig('New downloads(I=5 J=3 d=2).png')"
      ],
      "execution_count": 23,
      "outputs": [
        {
          "output_type": "display_data",
          "data": {
            "image/png": "[encoded data removed]",
            "text/plain": [
              "<Figure size 432x288 with 1 Axes>"
            ]
          },
          "metadata": {
            "tags": [],
            "needs_background": "light"
          }
        }
      ]
    },
    {
      "cell_type": "markdown",
      "metadata": {
        "id": "BdHsz8OLbfRt",
        "colab_type": "text"
      },
      "source": [
        "I = 15 J = 10 d = 7"
      ]
    },
    {
      "cell_type": "code",
      "metadata": {
        "id": "2k2iUESfYkec",
        "colab_type": "code",
        "colab": {}
      },
      "source": [
        "I = 15\n",
        "J = 10\n",
        "C = 10\n",
        "degree = 7\n",
        "T = 10000"
      ],
      "execution_count": 24,
      "outputs": []
    },
    {
      "cell_type": "code",
      "metadata": {
        "id": "P6LK3SH5cVIs",
        "colab_type": "code",
        "colab": {
          "base_uri": "https://localhost:8080/",
          "height": 269
        },
        "outputId": "2fd0db71-3249-4dca-f121-13d47aeeca7f"
      },
      "source": [
        "connection = np.zeros((I,J),dtype = int)\n",
        "i = 0\n",
        "for j in range(J):\n",
        "  x = 0\n",
        "  while x < degree:\n",
        "    connection[i,j] = 1\n",
        "    x += 1\n",
        "    i += 1\n",
        "    if i == I:\n",
        "      i = 0\n",
        "  i = j+1\n",
        "connection"
      ],
      "execution_count": 25,
      "outputs": [
        {
          "output_type": "execute_result",
          "data": {
            "text/plain": [
              "array([[1, 0, 0, 0, 0, 0, 0, 0, 0, 1],\n",
              "       [1, 1, 0, 0, 0, 0, 0, 0, 0, 0],\n",
              "       [1, 1, 1, 0, 0, 0, 0, 0, 0, 0],\n",
              "       [1, 1, 1, 1, 0, 0, 0, 0, 0, 0],\n",
              "       [1, 1, 1, 1, 1, 0, 0, 0, 0, 0],\n",
              "       [1, 1, 1, 1, 1, 1, 0, 0, 0, 0],\n",
              "       [1, 1, 1, 1, 1, 1, 1, 0, 0, 0],\n",
              "       [0, 1, 1, 1, 1, 1, 1, 1, 0, 0],\n",
              "       [0, 0, 1, 1, 1, 1, 1, 1, 1, 0],\n",
              "       [0, 0, 0, 1, 1, 1, 1, 1, 1, 1],\n",
              "       [0, 0, 0, 0, 1, 1, 1, 1, 1, 1],\n",
              "       [0, 0, 0, 0, 0, 1, 1, 1, 1, 1],\n",
              "       [0, 0, 0, 0, 0, 0, 1, 1, 1, 1],\n",
              "       [0, 0, 0, 0, 0, 0, 0, 1, 1, 1],\n",
              "       [0, 0, 0, 0, 0, 0, 0, 0, 1, 1]])"
            ]
          },
          "metadata": {
            "tags": []
          },
          "execution_count": 25
        }
      ]
    },
    {
      "cell_type": "code",
      "metadata": {
        "id": "h4UcLkHF6DUJ",
        "colab_type": "code",
        "colab": {}
      },
      "source": [
        "gen_req1 = np.load('/content/drive/My Drive/gen_req.npy')\n",
        "req1 = np.load('/content/drive/My Drive/req.npy')\n",
        "req1 = req1[20000:2005000]\n",
        "gen_req1 = gen_req1[20000:2005000]"
      ],
      "execution_count": 26,
      "outputs": []
    },
    {
      "cell_type": "code",
      "metadata": {
        "id": "UNmrOGVdccUk",
        "colab_type": "code",
        "colab": {
          "base_uri": "https://localhost:8080/",
          "height": 34
        },
        "outputId": "1d71709b-5930-465f-dec6-2d06b87c6aa1"
      },
      "source": [
        "req = np.zeros((I,T),dtype = int)\n",
        "for i in range(I):\n",
        "  for j in range(T):\n",
        "    req[i,j] = req1[(i+1)*(j+1) - 1]\n",
        "req.shape"
      ],
      "execution_count": 27,
      "outputs": [
        {
          "output_type": "execute_result",
          "data": {
            "text/plain": [
              "(15, 10000)"
            ]
          },
          "metadata": {
            "tags": []
          },
          "execution_count": 27
        }
      ]
    },
    {
      "cell_type": "code",
      "metadata": {
        "id": "qrLF_GmicgHd",
        "colab_type": "code",
        "colab": {
          "base_uri": "https://localhost:8080/",
          "height": 34
        },
        "outputId": "ba047e79-2e38-4038-910c-d888b45aaf90"
      },
      "source": [
        "gen_req = np.zeros((I,T),dtype = int)\n",
        "for i in range(I):\n",
        "  for j in range(T):\n",
        "    gen_req[i,j] = gen_req1[(i+1)*(j+1) - 1]\n",
        "gen_req.shape"
      ],
      "execution_count": 28,
      "outputs": [
        {
          "output_type": "execute_result",
          "data": {
            "text/plain": [
              "(15, 10000)"
            ]
          },
          "metadata": {
            "tags": []
          },
          "execution_count": 28
        }
      ]
    },
    {
      "cell_type": "code",
      "metadata": {
        "id": "Oke-J6xqgp0l",
        "colab_type": "code",
        "colab": {
          "base_uri": "https://localhost:8080/",
          "height": 185
        },
        "outputId": "b22ac495-bbc6-4aa6-e446-3998c231be03"
      },
      "source": [
        "y_LRU = np.zeros((J,N),dtype = float)\n",
        "y_LFU = np.zeros((J,N),dtype = float)\n",
        "y_FTPL = np.zeros((J,N),dtype = float)\n",
        "y_LSTM = np.zeros((J,N),dtype = float)\n",
        "y_LSTM[:,:C] = np.ones((J,C),dtype = float)\n",
        "y_FTPL[:,:C] = np.ones((J,C),dtype = float)\n",
        "y_LRU[:,:C] = np.ones((J,C),dtype = float)\n",
        "y_LFU[:,:C] = np.ones((J,C),dtype = float)\n",
        "\n",
        "count = np.zeros((N,I),dtype = float)\n",
        "\n",
        "reward_LSTM =  np.zeros(T)\n",
        "reward_FTPL =  np.zeros(T)\n",
        "reward_LRU =  np.zeros(T)\n",
        "reward_LFU =  np.zeros(T)\n",
        "hits_FTPL =  []\n",
        "hits_LRU =  []\n",
        "hits_LFU =  []\n",
        "hits_LSTM = []\n",
        "download_FTPL =  []\n",
        "download_LRU =  []\n",
        "download_LFU =  []\n",
        "download_LSTM = []\n",
        "miss_LRU =  0\n",
        "miss_LSTM =  0\n",
        "miss_LFU =  0\n",
        "miss_FTPL =  0\n",
        "\n",
        "req_time = np.zeros((N,I),dtype = float) \n",
        "req_time1 = np.zeros((N,I),dtype = float) \n",
        "\n",
        "for t in range(T):\n",
        "  old_FTPL = []\n",
        "  old_LRU = []\n",
        "  old_LFU = []\n",
        "  old_LSTM = []\n",
        "  new_FTPL = []\n",
        "  new_LRU = []\n",
        "  new_LFU = []\n",
        "  new_LSTM = []\n",
        "  for j in range(J):\n",
        "    for k in range(N):\n",
        "      old_LRU.append(y_LRU[j,k])\n",
        "      old_LFU.append(y_LFU[j,k])\n",
        "      old_FTPL.append(y_FTPL[j,k])\n",
        "      old_LSTM.append(y_LSTM[j,k])\n",
        "  x_t1 = np.zeros((N,I),dtype = int)\n",
        "  x_t = np.zeros((N,I),dtype = int)\n",
        "  for i in range(I):\n",
        "    x_t[req[i,t],i] += 1\n",
        "    x_t1[gen_req[i,t],i] += 1\n",
        "    count[int(req[i,t]),i] += 1\n",
        "    req_time[int(req[i,t]),i] = t+1\n",
        "    req_time1[int(gen_req[i,t]),i] = t+1\n",
        "  \n",
        "  ireward_LRU =  np.zeros(I)\n",
        "  ireward_LSTM =  np.zeros(I)\n",
        "  ireward_LFU =  np.zeros(I)\n",
        "  ireward_FTPL =  np.zeros(I)\n",
        "  \n",
        "  for i in range(I):\n",
        "    temp1 = np.zeros(N)\n",
        "    temp2 = np.zeros(N)\n",
        "    temp3 = np.zeros(N)\n",
        "    temp4 = np.zeros(N)\n",
        "    connected_cache = []\n",
        "    for j in range(J):\n",
        "      if connection[i,j] == 1:\n",
        "        connected_cache.append(j)\n",
        "    for k in range(len(connected_cache)):\n",
        "      temp1 += y_FTPL[connected_cache[k],:]\n",
        "      temp2 += y_LFU[connected_cache[k],:]\n",
        "      temp3 += y_LRU[connected_cache[k],:]\n",
        "      temp4 += y_LSTM[connected_cache[k],:]\n",
        "    ireward_FTPL[i] += np.dot(np.minimum(np.ones(N),temp1),x_t[:,i])\n",
        "    ireward_LFU[i] += np.dot(np.minimum(np.ones(N),temp2),x_t[:,i])\n",
        "    ireward_LRU[i] += np.dot(np.minimum(np.ones(N),temp3),x_t[:,i])\n",
        "    ireward_LSTM[i] += np.dot(np.minimum(np.ones(N),temp4),x_t1[:,i])\n",
        "\n",
        "  reward_FTPL[t] =  np.sum(ireward_FTPL)\n",
        "  reward_LRU[t] =  np.sum(ireward_LRU)\n",
        "  reward_LFU[t] =  np.sum(ireward_LFU)\n",
        "  reward_LSTM[t] =  np.sum(ireward_LSTM)\n",
        "  reward_LSTMc = np.sum(reward_LSTM)\n",
        "  reward_FTPLc = np.sum(reward_FTPL)\n",
        "  reward_LRUc = np.sum(reward_LRU)\n",
        "  reward_LFUc = np.sum(reward_LFU)\n",
        "\n",
        "  y_LFU = LFU(y_LFU,x_t,count,connection)\n",
        "  y_LRU = LRU(y_LRU,x_t,req_time,connection)\n",
        "  y_LSTM = LRU(y_LSTM,x_t1,req_time1,connection)\n",
        "\n",
        "  eta = I*pow(4*pi*np.log(N*I),-0.25)*pow((t+1)/(J*degree*C),.5)\n",
        "  perturbed_count=per_count(eta,count)\n",
        "  [y_FTPL,z] = Greedy(connection,perturbed_count)\n",
        "\n",
        "  for j in range(J):\n",
        "    for k in range(N):\n",
        "      new_LRU.append(y_LRU[j,k])\n",
        "      new_LFU.append(y_LFU[j,k])\n",
        "      new_FTPL.append(y_FTPL[j,k])\n",
        "      new_LSTM.append(y_LSTM[j,k])\n",
        "  \n",
        "#  print(old_LRU)\n",
        "  miss_FTPL += (np.sum(np.logical_and(new_FTPL,np.logical_not(old_FTPL))))\n",
        "  miss_LFU += (np.sum(np.logical_and(new_LFU,np.logical_not(old_LFU))))\n",
        "  miss_LRU += (np.sum(np.logical_and(new_LRU,np.logical_not(old_LRU))))\n",
        "  miss_LSTM += (np.sum(np.logical_and(new_LSTM,np.logical_not(old_LSTM))))\n",
        "  download_LFU.append(miss_LFU)\n",
        "  download_LRU.append(miss_LRU)\n",
        "  download_FTPL.append(miss_FTPL)\n",
        "  download_LSTM.append(miss_LSTM)\n",
        "\n",
        "  hits_LRU.append(reward_LRUc)\n",
        "  hits_LFU.append(reward_LFUc)\n",
        "  hits_FTPL.append(reward_FTPLc)\n",
        "  hits_LSTM.append(reward_LSTMc)\n",
        "\n",
        "  if t %1000 == 0:\n",
        "    print(t,download_FTPL[t],download_LFU[t],download_LRU[t],download_LSTM[t],hits_FTPL[t],hits_LFU[t],hits_LRU[t],hits_LSTM[t])"
      ],
      "execution_count": 29,
      "outputs": [
        {
          "output_type": "stream",
          "text": [
            "0 99 63 63 54 1.0 1.0 1.0 0.0\n",
            "1000 66605 60008 60686 58821 3445.0 2714.0 2477.0 2909.0\n",
            "2000 124498 120110 121516 117443 6651.0 5313.0 4916.0 5914.0\n",
            "3000 174583 180286 182625 175909 9650.0 7816.0 7334.0 8950.0\n",
            "4000 217548 240439 243568 234358 12512.0 10369.0 9803.0 11982.0\n",
            "5000 256226 300925 304747 292410 15287.0 12879.0 12190.0 15137.0\n",
            "6000 291258 361101 365858 351035 18050.0 15427.0 14602.0 18129.0\n",
            "7000 323656 421388 426659 409501 20719.0 17987.0 17103.0 21154.0\n",
            "8000 355702 481568 487549 467928 23377.0 20550.0 19592.0 24205.0\n",
            "9000 385991 541846 548597 526060 26069.0 23003.0 21989.0 27263.0\n"
          ],
          "name": "stdout"
        }
      ]
    },
    {
      "cell_type": "code",
      "metadata": {
        "id": "2iv4C7Z09VGe",
        "colab_type": "code",
        "colab": {
          "base_uri": "https://localhost:8080/",
          "height": 279
        },
        "outputId": "d4074133-fc60-4075-a5f9-125814c0a02e"
      },
      "source": [
        "plt.plot(hits_FTPL,'black',label='FTPL')\n",
        "plt.plot(hits_LRU,'green',label='LRU')\n",
        "plt.plot(hits_LFU,'blue',label='LFU')\n",
        "plt.plot(hits_LSTM,'red',label='LSTM')\n",
        "plt.xlabel('T')\n",
        "plt.ylabel('total hits')\n",
        "plt.legend()\n",
        "plt.savefig('Total hits(I=15 J=10 d=7).png')"
      ],
      "execution_count": 30,
      "outputs": [
        {
          "output_type": "display_data",
          "data": {
            "image/png": "[encoded data removed]",
            "text/plain": [
              "<Figure size 432x288 with 1 Axes>"
            ]
          },
          "metadata": {
            "tags": [],
            "needs_background": "light"
          }
        }
      ]
    },
    {
      "cell_type": "code",
      "metadata": {
        "id": "0BUxR46t9YE8",
        "colab_type": "code",
        "colab": {
          "base_uri": "https://localhost:8080/",
          "height": 279
        },
        "outputId": "27143857-7a88-413f-b9c4-aa1a3c21d1d8"
      },
      "source": [
        "plt.plot(download_FTPL,'black',label='FTPL')\n",
        "plt.plot(download_LRU,'green',label='LRU')\n",
        "plt.plot(download_LFU,'blue',label='LFU')\n",
        "plt.plot(download_LSTM,'red',label='LSTM')\n",
        "plt.xlabel('T')\n",
        "plt.ylabel('new downloads')\n",
        "plt.legend()\n",
        "plt.savefig('New downloads(I=15 J=10 d=7).png')"
      ],
      "execution_count": 31,
      "outputs": [
        {
          "output_type": "display_data",
          "data": {
            "image/png": "[encoded data removed]",
            "text/plain": [
              "<Figure size 432x288 with 1 Axes>"
            ]
          },
          "metadata": {
            "tags": [],
            "needs_background": "light"
          }
        }
      ]
    },
    {
      "cell_type": "code",
      "metadata": {
        "id": "Y3BSdBiwipHp",
        "colab_type": "code",
        "colab": {}
      },
      "source": [
        ""
      ],
      "execution_count": null,
      "outputs": []
    }
  ]
}