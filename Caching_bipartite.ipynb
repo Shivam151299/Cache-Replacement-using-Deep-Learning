{
  "nbformat": 4,
  "nbformat_minor": 0,
  "metadata": {
    "colab": {
      "name": "Caching bipartite",
      "provenance": [],
      "collapsed_sections": []
    },
    "kernelspec": {
      "name": "python3",
      "display_name": "Python 3"
    }
  },
  "cells": [
    {
      "cell_type": "code",
      "metadata": {
        "id": "g6dzR9rt_krF",
        "colab_type": "code",
        "colab": {}
      },
      "source": [
        "import numpy as np\n",
        "from numpy import random\n",
        "import matplotlib.pyplot as plt\n",
        "%matplotlib inline"
      ],
      "execution_count": 1,
      "outputs": []
    },
    {
      "cell_type": "code",
      "metadata": {
        "id": "eki7BDaX_RpP",
        "colab_type": "code",
        "colab": {}
      },
      "source": [
        "gen_req1 = np.load('/content/drive/My Drive/gen_req.npy')\n",
        "req1 = np.load('/content/drive/My Drive/req.npy')"
      ],
      "execution_count": 7,
      "outputs": []
    },
    {
      "cell_type": "code",
      "metadata": {
        "id": "lAcMUnr1RECc",
        "colab_type": "code",
        "colab": {
          "base_uri": "https://localhost:8080/",
          "height": 34
        },
        "outputId": "03a8e3b1-2ca2-4a2b-aec9-1cc9b003c674"
      },
      "source": [
        "#req1 = req1[20000:2005000]\n",
        "#gen_req1 = gen_req1[20000:2005000]\n",
        "req1.shape,gen_req1.shape"
      ],
      "execution_count": 5,
      "outputs": [
        {
          "output_type": "execute_result",
          "data": {
            "text/plain": [
              "((2005000,), (2255000,))"
            ]
          },
          "metadata": {
            "tags": []
          },
          "execution_count": 5
        }
      ]
    },
    {
      "cell_type": "code",
      "metadata": {
        "id": "SOUAMkThUS-c",
        "colab_type": "code",
        "colab": {}
      },
      "source": [
        "N = 100 # total ids \n",
        "pi = 3.14"
      ],
      "execution_count": 6,
      "outputs": []
    },
    {
      "cell_type": "markdown",
      "metadata": {
        "id": "Av1Kgt5FUF3x",
        "colab_type": "text"
      },
      "source": [
        "LRU"
      ]
    },
    {
      "cell_type": "code",
      "metadata": {
        "id": "IU2Dme6MjK66",
        "colab_type": "code",
        "colab": {}
      },
      "source": [
        "def LRU(y, x, request_time,con):\n",
        "  [N,I] = x.shape\n",
        "  J = len(y)\n",
        "  old = y.reshape(J*N).copy()\n",
        "  for j in range(J):\n",
        "    x_t_j = np.zeros((N),int)\n",
        "    file_req_time = np.zeros((N),int)\n",
        "\n",
        "    # to find which users are connected to this cache \n",
        "    connected_users = []\n",
        "    for k in range(I):\n",
        "      if con[k,j] == 1:\n",
        "        connected_users.append(k)\n",
        "    for k in range(len(connected_users)):\n",
        "      x_t_j += x[:,connected_users[k]]\n",
        "      file_req_time = np.maximum(file_req_time, request_time[:,connected_users[k]])\n",
        "    x_t_j = np.minimum(np.ones(N),x_t_j)\n",
        "\n",
        "    a1 = np.transpose(np.logical_and(y[j],np.logical_not(np.logical_and(y[j],np.transpose(x_t_j)))))# file which is not requested but still in the cache\n",
        "    b1 = np.transpose(np.logical_and(np.transpose(x_t_j),np.logical_not(np.logical_and(y[j],np.transpose(x_t_j))))) # file requested but not in the cache.\n",
        "    a = np.sum(a1)\n",
        "    b = np.sum(b1)\n",
        "\n",
        "    if a>0 and b>0:\n",
        "      if a>b:\n",
        "        ind = []\n",
        "        for k in range(N):\n",
        "          if a1[k] == 1:\n",
        "            ind.append(k)\n",
        "        t = np.zeros(a)\n",
        "        for k in range(a):\n",
        "          t[k] = file_req_time[ind[k]]\n",
        "        replace = (t).argsort()[:b]\n",
        "        for k in range(b):\n",
        "          y[j,ind[int(replace[k])]] = 0\n",
        "        for k in range(N):\n",
        "          if b1[k] == 1:\n",
        "            y[j,k] = 1\n",
        "      \n",
        "      else:\n",
        "        for k in range(N):\n",
        "          if a1[k] == 1:\n",
        "            y[j,k] = 0\n",
        "        ind = []\n",
        "        for k in range(N):\n",
        "          if b1[k] == 1:\n",
        "            ind.append(k)\n",
        "        for k in range(a):\n",
        "          y[j,ind[k]] = 1\n",
        "  new = y.reshape(J*N)\n",
        "  download = np.sum(np.logical_and(new,np.logical_not(old)))\n",
        "  return y,download"
      ],
      "execution_count": 8,
      "outputs": []
    },
    {
      "cell_type": "markdown",
      "metadata": {
        "id": "rlnncX3lUi-6",
        "colab_type": "text"
      },
      "source": [
        "LFU"
      ]
    },
    {
      "cell_type": "code",
      "metadata": {
        "id": "rZKodE159k31",
        "colab_type": "code",
        "colab": {}
      },
      "source": [
        "def LFU(y,x,freq,con):\n",
        "  [N,I] = x.shape\n",
        "  J = len(y)\n",
        "  old = y.reshape(J*N).copy()\n",
        "  for j in range(J):\n",
        "    file_freq = np.zeros((N),int)\n",
        "    x_t_j = np.zeros((N),int)\n",
        "\n",
        "    # to find which users are connected to this cache \n",
        "    connected_users = []\n",
        "    for k in range(I):\n",
        "      if con[k,j] == 1:\n",
        "        connected_users.append(k)\n",
        "    for k in range(len(connected_users)):\n",
        "      x_t_j += x[:,connected_users[k]]\n",
        "      file_freq += freq[:,connected_users[k]]\n",
        "    x_t_j = np.minimum(np.ones(N),x_t_j)\n",
        "\n",
        "    a1 = np.transpose(np.logical_and(y[j],np.logical_not(np.logical_and(y[j],np.transpose(x_t_j)))))# file which is not requested but still in the cache\n",
        "    b1 = np.transpose(np.logical_and(np.transpose(x_t_j),np.logical_not(np.logical_and(y[j],np.transpose(x_t_j))))) # file requested but not in the cache.\n",
        "    a = np.sum(a1)\n",
        "    b = np.sum(b1)\n",
        "  \n",
        "    if a>0 and b>0:\n",
        "      if a>b:\n",
        "        ind = []\n",
        "        for k in range(N):\n",
        "          if a1[k] == 1:\n",
        "            ind.append(k)\n",
        "        t = np.zeros(a)\n",
        "        for k in range(a):\n",
        "          t[k] = file_freq[ind[k]]\n",
        "        replace = (t).argsort()[:b]\n",
        "        for k in range(b):\n",
        "          y[j,ind[int(replace[k])]] = 0\n",
        "        for k in range(N):\n",
        "          if b1[k] == 1:\n",
        "            y[j,k] = 1\n",
        "      else:\n",
        "        for k in range(N):\n",
        "          if a1[k] == 1:\n",
        "            y[j,k] = 0\n",
        "        ind = []\n",
        "        for k in range(N):\n",
        "          if b1[k] == 1:\n",
        "            ind.append(k)\n",
        "        for k in range(a):\n",
        "          y[j,ind[k]] = 1\n",
        "  new = y.reshape(J*N)\n",
        "  download = np.sum(np.logical_and(new,np.logical_not(old)))\n",
        "  return y,download"
      ],
      "execution_count": 9,
      "outputs": []
    },
    {
      "cell_type": "markdown",
      "metadata": {
        "id": "NxQfsTnXWQyP",
        "colab_type": "text"
      },
      "source": [
        "perturbed count"
      ]
    },
    {
      "cell_type": "code",
      "metadata": {
        "id": "V4d6vCcjWOP7",
        "colab_type": "code",
        "colab": {}
      },
      "source": [
        "def per_count(eta,count):\n",
        "  [N,I] = count.shape\n",
        "  p_count = np.zeros((N,I),dtype = 'f4')\n",
        "  for i in range(I):\n",
        "    p_count[:,i] = count[:,i] + np.round(np.multiply(eta, random.normal(0,1,[N,1])).reshape(N),4)\n",
        "  return p_count"
      ],
      "execution_count": 10,
      "outputs": []
    },
    {
      "cell_type": "markdown",
      "metadata": {
        "id": "WIbLBZBYswP8",
        "colab_type": "text"
      },
      "source": [
        "GREEDY"
      ]
    },
    {
      "cell_type": "code",
      "metadata": {
        "id": "plLnprjKsv75",
        "colab_type": "code",
        "colab": {}
      },
      "source": [
        "def Greedy(con,count):\n",
        "  [I,J] = con.shape\n",
        "  [N,I] = count.shape\n",
        "  load = np.zeros((1,J),dtype = int)\n",
        "\n",
        "  for i in range(I):\n",
        "    for f in range(N):\n",
        "      if count[f,i] < 0:\n",
        "        count[f,i] = 0\n",
        "  \n",
        "  loadc = 0\n",
        "  y = np.zeros((J,N),dtype = int)\n",
        "  z = np.zeros((I,N),dtype = 'f4')\n",
        "  mark = np.zeros((I,N),dtype = int)\n",
        "\n",
        "  while(loadc < J):\n",
        "    best_cache = -1\n",
        "    best_file = -1\n",
        "    best_imp = -1\n",
        "\n",
        "    for j in range(J):\n",
        "      if load[0,j] < C:\n",
        "        for f in range(N):\n",
        "          if y[j,f] != 1:\n",
        "            imp = 0\n",
        "\n",
        "            for i in range(I):\n",
        "              if con[i,j] == 1 and mark[i,f] == 0:\n",
        "                imp += count[f,i]\n",
        "\n",
        "            if imp >= best_imp:\n",
        "              best_cache = j\n",
        "              best_file = f\n",
        "              best_imp = imp\n",
        "\n",
        "    y[best_cache,best_file] = 1\n",
        "\n",
        "    for i in range(I):\n",
        "      if con[i,best_cache] == 1:\n",
        "        mark[i,best_cache] = 1\n",
        "\n",
        "    load[0,best_cache] += 1\n",
        "    if load[0,best_cache] == C:\n",
        "      loadc += 1\n",
        "  \n",
        "  for i in range(I):\n",
        "    for f in range(N):\n",
        "      for j in range(J):\n",
        "        if con[i,j] == 1:\n",
        "          z[i,f] = np.maximum(y[j,f],z[i,f])\n",
        "      \n",
        "  return y,z"
      ],
      "execution_count": 16,
      "outputs": []
    },
    {
      "cell_type": "markdown",
      "metadata": {
        "id": "8RkOlMhDjohA",
        "colab_type": "text"
      },
      "source": [
        "SINGLE CACHE"
      ]
    },
    {
      "cell_type": "code",
      "metadata": {
        "id": "ZyC3_Jwrjn5s",
        "colab_type": "code",
        "colab": {
          "base_uri": "https://localhost:8080/",
          "height": 34
        },
        "outputId": "c2ec40c6-9427-4073-b043-2db8bd10f797"
      },
      "source": [
        "I = 1 #users\n",
        "T = 100000\n",
        "degree = 1\n",
        "J = 1 #caches\n",
        "C = 5\n",
        "connection = np.array([[1]])\n",
        "connection.shape"
      ],
      "execution_count": 12,
      "outputs": [
        {
          "output_type": "execute_result",
          "data": {
            "text/plain": [
              "(1, 1)"
            ]
          },
          "metadata": {
            "tags": []
          },
          "execution_count": 12
        }
      ]
    },
    {
      "cell_type": "code",
      "metadata": {
        "id": "4Xqi6iqtfnhE",
        "colab_type": "code",
        "colab": {
          "base_uri": "https://localhost:8080/",
          "height": 34
        },
        "outputId": "20754525-8e57-47c7-b4dc-edcbcbc5cd2e"
      },
      "source": [
        "req = req1[:I*T].reshape(I,T)\n",
        "req"
      ],
      "execution_count": 13,
      "outputs": [
        {
          "output_type": "execute_result",
          "data": {
            "text/plain": [
              "array([[17, 80, 26, ..., 69, 34, 83]])"
            ]
          },
          "metadata": {
            "tags": []
          },
          "execution_count": 13
        }
      ]
    },
    {
      "cell_type": "code",
      "metadata": {
        "id": "7NQUPQz7JvtR",
        "colab_type": "code",
        "colab": {
          "base_uri": "https://localhost:8080/",
          "height": 34
        },
        "outputId": "6c6f66ca-80c1-49bd-f5a1-1b046e6c66b4"
      },
      "source": [
        "gen_req = gen_req1[:I*T].reshape(I,T)\n",
        "gen_req"
      ],
      "execution_count": 14,
      "outputs": [
        {
          "output_type": "execute_result",
          "data": {
            "text/plain": [
              "array([[17, 80, 26, ..., 64, 79, 87]])"
            ]
          },
          "metadata": {
            "tags": []
          },
          "execution_count": 14
        }
      ]
    },
    {
      "cell_type": "code",
      "metadata": {
        "id": "pWowJlSAki2e",
        "colab_type": "code",
        "colab": {
          "base_uri": "https://localhost:8080/",
          "height": 185
        },
        "outputId": "341f460f-3167-40b7-8192-006187bcdc92"
      },
      "source": [
        "y_LRU = np.zeros((J,N),dtype = int)\n",
        "y_LFU = np.zeros((J,N),dtype = int)\n",
        "y_FTPL = np.zeros((J,N),dtype = int)\n",
        "y_LSTM = np.zeros((J,N),dtype = int)\n",
        "y_LSTM[:,:C] = np.ones((J,C),dtype = int)\n",
        "y_FTPL[:,:C] = np.ones((J,C),dtype = int)\n",
        "y_LRU[:,:C] = np.ones((J,C),dtype = int)\n",
        "y_LFU[:,:C] = np.ones((J,C),dtype = int)\n",
        "count = np.zeros((N,I),dtype = int)\n",
        "reward_LSTM =  np.zeros((T),int)\n",
        "reward_FTPL =  np.zeros((T),int)\n",
        "reward_LRU =  np.zeros((T),int)\n",
        "reward_LFU =  np.zeros((T),int)\n",
        "hits_FTPL =  []\n",
        "hits_LRU =  []\n",
        "hits_LFU =  []\n",
        "hits_LSTM = []\n",
        "download_FTPL =  []\n",
        "download_LRU =  []\n",
        "download_LFU =  []\n",
        "download_LSTM = []\n",
        "FTPL_downloads_slotwise = np.zeros((T),int)\n",
        "LFU_downloads_slotwise = np.zeros((T),int)\n",
        "LRU_downloads_slotwise = np.zeros((T),int)\n",
        "LSTM_downloads_slotwise = np.zeros((T),int)\n",
        "req_time = np.zeros((N,I),dtype = int) \n",
        "req_time1 = np.zeros((N,I),dtype = int) \n",
        "\n",
        "for t in range(T):\n",
        "  x_t1 = np.zeros((N,I),dtype = int)\n",
        "  x_t = np.zeros((N,I),dtype = int)\n",
        "  for i in range(I):\n",
        "    x_t[req[i,t],i] += 1\n",
        "    x_t1[gen_req[i,t],i] += 1\n",
        "    count[int(req[i,t]),i] += 1\n",
        "    req_time[int(req[i,t]),i] = t+1\n",
        "    req_time1[int(gen_req[i,t]),i] = t+1\n",
        "  \n",
        "  ireward_LRU =  np.zeros((I),int)\n",
        "  ireward_LSTM =  np.zeros((I),int)\n",
        "  ireward_LFU =  np.zeros((I),int)\n",
        "  ireward_FTPL =  np.zeros((I),int)\n",
        "  \n",
        "  for i in range(I):\n",
        "    temp1 = np.zeros((N),int)\n",
        "    temp2 = np.zeros((N),int)\n",
        "    temp3 = np.zeros((N),int)\n",
        "    temp4 = np.zeros((N),int)\n",
        "    connected_cache = []\n",
        "    for j in range(J):\n",
        "      if connection[i,j] == 1:\n",
        "        connected_cache.append(j)\n",
        "    for k in range(len(connected_cache)):\n",
        "      temp1 += y_FTPL[connected_cache[k],:]\n",
        "      temp2 += y_LFU[connected_cache[k],:]\n",
        "      temp3 += y_LRU[connected_cache[k],:]\n",
        "      temp4 += y_LSTM[connected_cache[k],:]\n",
        "    ireward_FTPL[i] += np.dot(np.minimum(np.ones(N),temp1),x_t[:,i])\n",
        "    ireward_LFU[i] += np.dot(np.minimum(np.ones(N),temp2),x_t[:,i])\n",
        "    ireward_LRU[i] += np.dot(np.minimum(np.ones(N),temp3),x_t[:,i])\n",
        "    ireward_LSTM[i] += np.dot(np.minimum(np.ones(N),temp4),x_t1[:,i])\n",
        "\n",
        "  reward_FTPL[t] =  np.sum(ireward_FTPL)\n",
        "  reward_LRU[t] =  np.sum(ireward_LRU)\n",
        "  reward_LFU[t] =  np.sum(ireward_LFU)\n",
        "  reward_LSTM[t] =  np.sum(ireward_LSTM)\n",
        "  reward_LSTMc = np.sum(reward_LSTM)\n",
        "  reward_FTPLc = np.sum(reward_FTPL)\n",
        "  reward_LRUc = np.sum(reward_LRU)\n",
        "  reward_LFUc = np.sum(reward_LFU)\n",
        "\n",
        "  [y_LFU,LFU_downloads_slotwise[t]] = LFU(y_LFU,x_t,count,connection)\n",
        "  [y_LRU,LRU_downloads_slotwise[t]] = LRU(y_LRU,x_t,req_time,connection)\n",
        "  [y_LSTM,LSTM_downloads_slotwise[t]] = LRU(y_LSTM,x_t1,req_time1,connection)\n",
        "\n",
        "  eta = round(I*pow(4*pi*np.log(N*I),-.25)*pow((t+1)/(J*degree*C),.5),4)\n",
        "  perturbed_count=per_count(eta,count)\n",
        "  old_FTPL = y_FTPL.reshape(J*N)\n",
        "  add = (-perturbed_count[:,0]).argsort()[:C]\n",
        "  y_FTPL = np.zeros((J,N),dtype = int)\n",
        "  for k in range(len(add)):\n",
        "    y_FTPL[0,int(add[k])] = 1 \n",
        "  new_FTPL = y_FTPL.reshape(J*N)\n",
        "  FTPL_downloads_slotwise[t] = (np.sum(np.logical_and(new_FTPL,np.logical_not(old_FTPL))))\n",
        " \n",
        "  download_FTPL.append(np.sum(FTPL_downloads_slotwise))\n",
        "  download_LFU.append(np.sum(LFU_downloads_slotwise))\n",
        "  download_LRU.append(np.sum(LRU_downloads_slotwise))\n",
        "  download_LSTM.append(np.sum(LSTM_downloads_slotwise))\n",
        "\n",
        "  hits_LRU.append(reward_LRUc)\n",
        "  hits_LFU.append(reward_LFUc)\n",
        "  hits_FTPL.append(reward_FTPLc)\n",
        "  hits_LSTM.append(reward_LSTMc)\n",
        "\n",
        "  if t %10000 == 0:\n",
        "    print(t,download_FTPL[t],download_LFU[t],download_LRU[t],download_LSTM[t],hits_FTPL[t],hits_LFU[t],hits_LRU[t],hits_LSTM[t])"
      ],
      "execution_count": 27,
      "outputs": [
        {
          "output_type": "stream",
          "text": [
            "0 5 1 1 1 0 0 0 0\n",
            "10000 36884 9397 9477 9477 581 604 524 524\n",
            "20000 63480 18715 18994 18994 1264 1286 1007 1007\n",
            "30000 85350 28029 28465 27616 1916 1972 1536 2385\n",
            "40000 102428 37355 37919 36214 2613 2646 2082 3787\n",
            "50000 117480 46740 47407 44815 3261 3261 2594 5186\n",
            "60000 130383 56073 56865 53412 3963 3928 3136 6589\n",
            "70000 141662 65392 66324 62018 4681 4609 3677 7983\n",
            "80000 152436 74733 75808 70578 5382 5268 4193 9423\n",
            "90000 162123 84087 85340 79217 6063 5914 4661 10784\n"
          ],
          "name": "stdout"
        }
      ]
    },
    {
      "cell_type": "code",
      "metadata": {
        "id": "J_3kWL_JCNjX",
        "colab_type": "code",
        "colab": {
          "base_uri": "https://localhost:8080/",
          "height": 279
        },
        "outputId": "1e8e74b3-4528-4455-81c6-5361e2a72a86"
      },
      "source": [
        "plt.plot(hits_FTPL,'black',label='FTPL')\n",
        "plt.plot(hits_LRU,'green',label='LRU')\n",
        "plt.plot(hits_LFU,'blue',label='LFU')\n",
        "plt.plot(hits_LSTM,'red',label='LSTM')\n",
        "plt.xlabel('T')\n",
        "plt.ylabel('Total hits')\n",
        "plt.legend()\n",
        "plt.savefig('Total hits(I=J=1).png')"
      ],
      "execution_count": 28,
      "outputs": [
        {
          "output_type": "display_data",
          "data": {
            "image/png": "[encoded data removed]",
            "text/plain": [
              "<Figure size 432x288 with 1 Axes>"
            ]
          },
          "metadata": {
            "tags": [],
            "needs_background": "light"
          }
        }
      ]
    },
    {
      "cell_type": "code",
      "metadata": {
        "id": "YK-m4yZjrs3l",
        "colab_type": "code",
        "colab": {
          "base_uri": "https://localhost:8080/",
          "height": 279
        },
        "outputId": "7e06f576-73e6-41b4-eaca-7939f1155713"
      },
      "source": [
        "plt.plot(download_FTPL,'black',label='FTPL')\n",
        "plt.plot(download_LRU,'green',label='LRU')\n",
        "plt.plot(download_LFU,'blue',label='LFU')\n",
        "plt.plot(download_LSTM,'red',label='LSTM')\n",
        "plt.xlabel('T')\n",
        "plt.ylabel('New downloads')\n",
        "plt.legend()\n",
        "plt.savefig('New downloads(I=J=1).png')"
      ],
      "execution_count": 29,
      "outputs": [
        {
          "output_type": "display_data",
          "data": {
            "image/png": "[encoded data removed]",
            "text/plain": [
              "<Figure size 432x288 with 1 Axes>"
            ]
          },
          "metadata": {
            "tags": [],
            "needs_background": "light"
          }
        }
      ]
    },
    {
      "cell_type": "markdown",
      "metadata": {
        "id": "Fj30MgQaWN_E",
        "colab_type": "text"
      },
      "source": [
        "I = 5 J = 3 d = 3"
      ]
    },
    {
      "cell_type": "code",
      "metadata": {
        "id": "jA0Kz7jzKJ3G",
        "colab_type": "code",
        "colab": {}
      },
      "source": [
        "C = 5\n",
        "I = 5\n",
        "J = 3\n",
        "degree = 3\n",
        "T = 30000"
      ],
      "execution_count": 30,
      "outputs": []
    },
    {
      "cell_type": "code",
      "metadata": {
        "id": "fkzyLhrGKhB6",
        "colab_type": "code",
        "colab": {
          "base_uri": "https://localhost:8080/",
          "height": 101
        },
        "outputId": "626b925e-6eb7-48cf-83fd-1e648328a9f0"
      },
      "source": [
        "connection = np.zeros((I,J),dtype = int)\n",
        "i = 0\n",
        "for j in range(J):\n",
        "  x = 0\n",
        "  while x < degree:\n",
        "    connection[i,j] = 1\n",
        "    x += 1\n",
        "    i += 1\n",
        "    if i == I:\n",
        "      i = 0\n",
        "connection"
      ],
      "execution_count": 31,
      "outputs": [
        {
          "output_type": "execute_result",
          "data": {
            "text/plain": [
              "array([[1, 1, 0],\n",
              "       [1, 0, 1],\n",
              "       [1, 0, 1],\n",
              "       [0, 1, 1],\n",
              "       [0, 1, 0]])"
            ]
          },
          "metadata": {
            "tags": []
          },
          "execution_count": 31
        }
      ]
    },
    {
      "cell_type": "code",
      "metadata": {
        "id": "TIjWw46mSfxG",
        "colab_type": "code",
        "colab": {}
      },
      "source": [
        "gen_req1 = np.load('/content/drive/My Drive/gen_req.npy')\n",
        "req1 = np.load('/content/drive/My Drive/req.npy')\n",
        "req1 = req1[20000:]\n",
        "gen_req1 = gen_req1[20000:]"
      ],
      "execution_count": 32,
      "outputs": []
    },
    {
      "cell_type": "code",
      "metadata": {
        "id": "DNOrEFxxThnu",
        "colab_type": "code",
        "colab": {
          "base_uri": "https://localhost:8080/",
          "height": 34
        },
        "outputId": "b424ceea-1248-4783-9e27-3c80819c9164"
      },
      "source": [
        "req = req1.reshape(I,-1)\n",
        "req.shape"
      ],
      "execution_count": 33,
      "outputs": [
        {
          "output_type": "execute_result",
          "data": {
            "text/plain": [
              "(5, 397000)"
            ]
          },
          "metadata": {
            "tags": []
          },
          "execution_count": 33
        }
      ]
    },
    {
      "cell_type": "code",
      "metadata": {
        "id": "DAQ_EHg8TlOp",
        "colab_type": "code",
        "colab": {
          "base_uri": "https://localhost:8080/",
          "height": 34
        },
        "outputId": "8b166720-5725-4ee2-f84b-b4438a2fd09c"
      },
      "source": [
        "gen_req = gen_req1.reshape(I,-1)\n",
        "gen_req.shape"
      ],
      "execution_count": 34,
      "outputs": [
        {
          "output_type": "execute_result",
          "data": {
            "text/plain": [
              "(5, 447000)"
            ]
          },
          "metadata": {
            "tags": []
          },
          "execution_count": 34
        }
      ]
    },
    {
      "cell_type": "code",
      "metadata": {
        "id": "5U7m8AJ9Sw6B",
        "colab_type": "code",
        "colab": {
          "base_uri": "https://localhost:8080/",
          "height": 521
        },
        "outputId": "7632da6a-8942-4236-83da-034e2a3936ed"
      },
      "source": [
        "y_LRU = np.zeros((J,N),dtype = int)\n",
        "y_LFU = np.zeros((J,N),dtype = int)\n",
        "y_FTPL = np.zeros((J,N),dtype = int)\n",
        "y_LSTM = np.zeros((J,N),dtype = int)\n",
        "y_LSTM[:,:C] = np.ones((J,C),dtype = int)\n",
        "y_FTPL[:,:C] = np.ones((J,C),dtype = int)\n",
        "y_LRU[:,:C] = np.ones((J,C),dtype = int)\n",
        "y_LFU[:,:C] = np.ones((J,C),dtype = int)\n",
        "count = np.zeros((N,I),dtype = int)\n",
        "reward_LSTM =  np.zeros((T),int)\n",
        "reward_FTPL =  np.zeros((T),int)\n",
        "reward_LRU =  np.zeros((T),int)\n",
        "reward_LFU =  np.zeros((T),int)\n",
        "hits_FTPL =  []\n",
        "hits_LRU =  []\n",
        "hits_LFU =  []\n",
        "hits_LSTM = []\n",
        "download_FTPL =  []\n",
        "download_LRU =  []\n",
        "download_LFU =  []\n",
        "download_LSTM = []\n",
        "FTPL_downloads_slotwise = np.zeros((T),int)\n",
        "LFU_downloads_slotwise = np.zeros((T),int)\n",
        "LRU_downloads_slotwise = np.zeros((T),int)\n",
        "LSTM_downloads_slotwise = np.zeros((T),int)\n",
        "req_time = np.zeros((N,I),dtype = int) \n",
        "req_time1 = np.zeros((N,I),dtype = int) \n",
        "\n",
        "for t in range(T):\n",
        "  x_t1 = np.zeros((N,I),dtype = int)\n",
        "  x_t = np.zeros((N,I),dtype = int)\n",
        "  for i in range(I):\n",
        "    x_t[req[i,t],i] += 1\n",
        "    x_t1[gen_req[i,t],i] += 1\n",
        "    count[int(req[i,t]),i] += 1\n",
        "    req_time[int(req[i,t]),i] = t+1\n",
        "    req_time1[int(gen_req[i,t]),i] = t+1\n",
        "  \n",
        "  ireward_LRU =  np.zeros((I),int)\n",
        "  ireward_LSTM =  np.zeros((I),int)\n",
        "  ireward_LFU =  np.zeros((I),int)\n",
        "  ireward_FTPL =  np.zeros((I),int)\n",
        "  \n",
        "  for i in range(I):\n",
        "    temp1 = np.zeros((N),int)\n",
        "    temp2 = np.zeros((N),int)\n",
        "    temp3 = np.zeros((N),int)\n",
        "    temp4 = np.zeros((N),int)\n",
        "    connected_cache = []\n",
        "    for j in range(J):\n",
        "      if connection[i,j] == 1:\n",
        "        connected_cache.append(j)\n",
        "    for k in range(len(connected_cache)):\n",
        "      temp1 += y_FTPL[connected_cache[k],:]\n",
        "      temp2 += y_LFU[connected_cache[k],:]\n",
        "      temp3 += y_LRU[connected_cache[k],:]\n",
        "      temp4 += y_LSTM[connected_cache[k],:]\n",
        "    ireward_FTPL[i] += np.dot(np.minimum(np.ones(N),temp1),x_t[:,i])\n",
        "    ireward_LFU[i] += np.dot(np.minimum(np.ones(N),temp2),x_t[:,i])\n",
        "    ireward_LRU[i] += np.dot(np.minimum(np.ones(N),temp3),x_t[:,i])\n",
        "    ireward_LSTM[i] += np.dot(np.minimum(np.ones(N),temp4),x_t1[:,i])\n",
        "\n",
        "  reward_FTPL[t] =  np.sum(ireward_FTPL)\n",
        "  reward_LRU[t] =  np.sum(ireward_LRU)\n",
        "  reward_LFU[t] =  np.sum(ireward_LFU)\n",
        "  reward_LSTM[t] =  np.sum(ireward_LSTM)\n",
        "  reward_LSTMc = np.sum(reward_LSTM)\n",
        "  reward_FTPLc = np.sum(reward_FTPL)\n",
        "  reward_LRUc = np.sum(reward_LRU)\n",
        "  reward_LFUc = np.sum(reward_LFU)\n",
        "\n",
        "  [y_LFU,LFU_downloads_slotwise[t]] = LFU(y_LFU,x_t,count,connection)\n",
        "  [y_LRU,LRU_downloads_slotwise[t]] = LRU(y_LRU,x_t,req_time,connection)\n",
        "  [y_LSTM,LSTM_downloads_slotwise[t]] = LRU(y_LSTM,x_t1,req_time1,connection)\n",
        "\n",
        "  eta = round(I*pow(4*pi*np.log(N*I),-.25)*pow((t+1)/(J*degree*C),.5),4)\n",
        "  perturbed_count=per_count(eta,count)\n",
        "  old_FTPL = y_FTPL.reshape(J*N).copy()\n",
        "  [y_FTPL,Z] = Greedy(connection,perturbed_count) \n",
        "  new_FTPL = y_FTPL.reshape(J*N).copy()\n",
        "  FTPL_downloads_slotwise[t] = (np.sum(np.logical_and(new_FTPL,np.logical_not(old_FTPL))))\n",
        " \n",
        "  download_FTPL.append(np.sum(FTPL_downloads_slotwise))\n",
        "  download_LFU.append(np.sum(LFU_downloads_slotwise))\n",
        "  download_LRU.append(np.sum(LRU_downloads_slotwise))\n",
        "  download_LSTM.append(np.sum(LSTM_downloads_slotwise))\n",
        "\n",
        "  hits_LRU.append(reward_LRUc)\n",
        "  hits_LFU.append(reward_LFUc)\n",
        "  hits_FTPL.append(reward_FTPLc)\n",
        "  hits_LSTM.append(reward_LSTMc)\n",
        "\n",
        "  if t %1000 == 0:\n",
        "    print(t,download_FTPL[t],download_LFU[t],download_LRU[t],download_LSTM[t],hits_FTPL[t],hits_LFU[t],hits_LRU[t],hits_LSTM[t])"
      ],
      "execution_count": 37,
      "outputs": [
        {
          "output_type": "stream",
          "text": [
            "0 15 9 9 8 0 0 0 0\n",
            "1000 13247 8437 8469 7895 400 374 362 634\n",
            "2000 26047 16792 16909 15702 834 802 735 1302\n",
            "3000 38233 25204 25332 23453 1274 1160 1118 2014\n",
            "4000 50119 33591 33809 31031 1716 1538 1458 2760\n",
            "5000 61572 41969 42253 38715 2128 1925 1820 3436\n",
            "6000 72650 50354 50743 46447 2616 2311 2154 4172\n",
            "7000 82848 58705 59182 54194 3079 2708 2512 4877\n",
            "8000 92352 67061 67586 61930 3550 3122 2900 5592\n",
            "9000 101366 75447 76026 69427 3995 3532 3265 6406\n",
            "10000 109781 83765 84413 77284 4447 3991 3649 7037\n",
            "11000 117557 92089 92861 85040 4912 4432 4015 7724\n",
            "12000 124900 100503 101317 92785 5331 4820 4360 8412\n",
            "13000 132121 108823 109734 100266 5779 5222 4752 9218\n",
            "14000 139179 117218 118201 108003 6186 5578 5101 9919\n",
            "15000 146233 125610 126670 115746 6591 5941 5447 10631\n",
            "16000 153066 134034 135166 123515 6978 6281 5787 11294\n",
            "17000 159816 142430 143630 130994 7403 6613 6118 12101\n",
            "18000 166475 150851 152112 138785 7832 6989 6470 12785\n",
            "19000 173026 159217 160555 146585 8235 7397 6836 13459\n",
            "20000 179255 167602 169022 154407 8665 7782 7190 14080\n",
            "21000 185230 175915 177455 161874 9123 8211 7569 14899\n",
            "22000 190909 184302 185910 169556 9519 8584 7925 15628\n",
            "23000 196519 192677 194360 177297 9902 8958 8286 16339\n",
            "24000 201953 201116 202859 185119 10297 9299 8638 17000\n",
            "25000 207308 209538 211317 192844 10695 9637 8998 17678\n",
            "26000 212833 217928 219733 200386 11105 9994 9391 18483\n",
            "27000 218241 226324 228196 208067 11495 10346 9744 19246\n",
            "28000 223547 234655 236599 215819 11919 10724 10121 19936\n",
            "29000 228766 243064 245066 223561 12296 11061 10466 20645\n"
          ],
          "name": "stdout"
        }
      ]
    },
    {
      "cell_type": "code",
      "metadata": {
        "id": "u33MS3DDT1CZ",
        "colab_type": "code",
        "colab": {
          "base_uri": "https://localhost:8080/",
          "height": 279
        },
        "outputId": "e3c339bf-4d3b-4552-e44b-04a7aec57a80"
      },
      "source": [
        "plt.plot(hits_FTPL,'black',label='FTPL')\n",
        "plt.plot(hits_LRU,'green',label='LRU')\n",
        "plt.plot(hits_LFU,'blue',label='LFU')\n",
        "plt.plot(hits_LSTM,'red',label='LSTM')\n",
        "plt.xlabel('T')\n",
        "plt.ylabel('total hits')\n",
        "plt.legend()\n",
        "plt.savefig('Total hits(I=5 J=3 d=3).png')"
      ],
      "execution_count": 38,
      "outputs": [
        {
          "output_type": "display_data",
          "data": {
            "image/png": "[encoded data removed]",
            "text/plain": [
              "<Figure size 432x288 with 1 Axes>"
            ]
          },
          "metadata": {
            "tags": [],
            "needs_background": "light"
          }
        }
      ]
    },
    {
      "cell_type": "code",
      "metadata": {
        "id": "BO6RqcCjt-I0",
        "colab_type": "code",
        "colab": {
          "base_uri": "https://localhost:8080/",
          "height": 279
        },
        "outputId": "663a2dfb-be54-40e7-ca4e-4297e53dda23"
      },
      "source": [
        "plt.plot(download_FTPL,'black',label='FTPL')\n",
        "plt.plot(download_LRU,'green',label='LRU')\n",
        "plt.plot(download_LFU,'blue',label='LFU')\n",
        "plt.plot(download_LSTM,'red',label='LSTM')\n",
        "plt.xlabel('T')\n",
        "plt.ylabel('New downloads')\n",
        "plt.legend()\n",
        "plt.savefig('New downloads(I=5 J=3 d=3).png')"
      ],
      "execution_count": 39,
      "outputs": [
        {
          "output_type": "display_data",
          "data": {
            "image/png": "[encoded data removed]",
            "text/plain": [
              "<Figure size 432x288 with 1 Axes>"
            ]
          },
          "metadata": {
            "tags": [],
            "needs_background": "light"
          }
        }
      ]
    },
    {
      "cell_type": "markdown",
      "metadata": {
        "id": "BdHsz8OLbfRt",
        "colab_type": "text"
      },
      "source": [
        "I = 15 J = 10 d = 7"
      ]
    },
    {
      "cell_type": "code",
      "metadata": {
        "id": "2k2iUESfYkec",
        "colab_type": "code",
        "colab": {}
      },
      "source": [
        "I = 15\n",
        "J = 10\n",
        "C = 15\n",
        "degree = 7\n",
        "T = 20000"
      ],
      "execution_count": 45,
      "outputs": []
    },
    {
      "cell_type": "code",
      "metadata": {
        "id": "P6LK3SH5cVIs",
        "colab_type": "code",
        "colab": {
          "base_uri": "https://localhost:8080/",
          "height": 269
        },
        "outputId": "67bbfa73-d5a9-4c82-c14d-ff484748b75c"
      },
      "source": [
        "connection = np.zeros((I,J),dtype = int)\n",
        "i = 0\n",
        "for j in range(J):\n",
        "  x = 0\n",
        "  while x < degree:\n",
        "    connection[i,j] = 1\n",
        "    x += 1\n",
        "    i += 1\n",
        "    if i == I:\n",
        "      i = 0\n",
        "connection"
      ],
      "execution_count": 46,
      "outputs": [
        {
          "output_type": "execute_result",
          "data": {
            "text/plain": [
              "array([[1, 0, 1, 0, 1, 0, 1, 0, 1, 0],\n",
              "       [1, 0, 1, 0, 1, 0, 1, 0, 1, 0],\n",
              "       [1, 0, 1, 0, 1, 0, 1, 0, 1, 0],\n",
              "       [1, 0, 1, 0, 1, 0, 1, 0, 0, 1],\n",
              "       [1, 0, 1, 0, 1, 0, 0, 1, 0, 1],\n",
              "       [1, 0, 1, 0, 0, 1, 0, 1, 0, 1],\n",
              "       [1, 0, 0, 1, 0, 1, 0, 1, 0, 1],\n",
              "       [0, 1, 0, 1, 0, 1, 0, 1, 0, 1],\n",
              "       [0, 1, 0, 1, 0, 1, 0, 1, 0, 1],\n",
              "       [0, 1, 0, 1, 0, 1, 0, 1, 0, 1],\n",
              "       [0, 1, 0, 1, 0, 1, 0, 1, 0, 0],\n",
              "       [0, 1, 0, 1, 0, 1, 0, 0, 1, 0],\n",
              "       [0, 1, 0, 1, 0, 0, 1, 0, 1, 0],\n",
              "       [0, 1, 0, 0, 1, 0, 1, 0, 1, 0],\n",
              "       [0, 0, 1, 0, 1, 0, 1, 0, 1, 0]])"
            ]
          },
          "metadata": {
            "tags": []
          },
          "execution_count": 46
        }
      ]
    },
    {
      "cell_type": "code",
      "metadata": {
        "id": "fHrvasV4Xl3O",
        "colab_type": "code",
        "colab": {}
      },
      "source": [
        "gen_req1 = np.load('/content/drive/My Drive/gen_req.npy')\n",
        "req1 = np.load('/content/drive/My Drive/req.npy')\n",
        "req1 = req1[20000:2004995]\n",
        "gen_req1 = gen_req1[20000:]"
      ],
      "execution_count": 47,
      "outputs": []
    },
    {
      "cell_type": "code",
      "metadata": {
        "id": "bxgJO20wXaAR",
        "colab_type": "code",
        "colab": {
          "base_uri": "https://localhost:8080/",
          "height": 34
        },
        "outputId": "f5358701-bd46-4672-dc0e-46c8391d659e"
      },
      "source": [
        "req = req1.reshape(I,-1)\n",
        "req.shape"
      ],
      "execution_count": 48,
      "outputs": [
        {
          "output_type": "execute_result",
          "data": {
            "text/plain": [
              "(15, 132333)"
            ]
          },
          "metadata": {
            "tags": []
          },
          "execution_count": 48
        }
      ]
    },
    {
      "cell_type": "code",
      "metadata": {
        "id": "-JCKP3hMXiq-",
        "colab_type": "code",
        "colab": {
          "base_uri": "https://localhost:8080/",
          "height": 34
        },
        "outputId": "71095e69-a8b4-4313-ee49-603e6b94c88e"
      },
      "source": [
        "gen_req = gen_req1.reshape(I,-1)\n",
        "gen_req.shape"
      ],
      "execution_count": 49,
      "outputs": [
        {
          "output_type": "execute_result",
          "data": {
            "text/plain": [
              "(15, 149000)"
            ]
          },
          "metadata": {
            "tags": []
          },
          "execution_count": 49
        }
      ]
    },
    {
      "cell_type": "code",
      "metadata": {
        "id": "Oke-J6xqgp0l",
        "colab_type": "code",
        "colab": {
          "base_uri": "https://localhost:8080/",
          "height": 353
        },
        "outputId": "f51950d8-ffd5-4098-87c4-3612d54a77db"
      },
      "source": [
        "y_LRU = np.zeros((J,N),dtype = int)\n",
        "y_LFU = np.zeros((J,N),dtype = int)\n",
        "y_FTPL = np.zeros((J,N),dtype = int)\n",
        "y_LSTM = np.zeros((J,N),dtype = int)\n",
        "y_LSTM[:,:C] = np.ones((J,C),dtype = int)\n",
        "y_FTPL[:,:C] = np.ones((J,C),dtype = int)\n",
        "y_LRU[:,:C] = np.ones((J,C),dtype = int)\n",
        "y_LFU[:,:C] = np.ones((J,C),dtype = int)\n",
        "count = np.zeros((N,I),dtype = int)\n",
        "reward_LSTM =  np.zeros((T),int)\n",
        "reward_FTPL =  np.zeros((T),int)\n",
        "reward_LRU =  np.zeros((T),int)\n",
        "reward_LFU =  np.zeros((T),int)\n",
        "hits_FTPL =  []\n",
        "hits_LRU =  []\n",
        "hits_LFU =  []\n",
        "hits_LSTM = []\n",
        "download_FTPL =  []\n",
        "download_LRU =  []\n",
        "download_LFU =  []\n",
        "download_LSTM = []\n",
        "FTPL_downloads_slotwise = np.zeros((T),int)\n",
        "LFU_downloads_slotwise = np.zeros((T),int)\n",
        "LRU_downloads_slotwise = np.zeros((T),int)\n",
        "LSTM_downloads_slotwise = np.zeros((T),int)\n",
        "req_time = np.zeros((N,I),dtype = int) \n",
        "req_time1 = np.zeros((N,I),dtype = int) \n",
        "\n",
        "for t in range(T):\n",
        "  x_t1 = np.zeros((N,I),dtype = int)\n",
        "  x_t = np.zeros((N,I),dtype = int)\n",
        "  for i in range(I):\n",
        "    x_t[req[i,t],i] += 1\n",
        "    x_t1[gen_req[i,t],i] += 1\n",
        "    count[int(req[i,t]),i] += 1\n",
        "    req_time[int(req[i,t]),i] = t+1\n",
        "    req_time1[int(gen_req[i,t]),i] = t+1\n",
        "  \n",
        "  ireward_LRU =  np.zeros((I),int)\n",
        "  ireward_LSTM =  np.zeros((I),int)\n",
        "  ireward_LFU =  np.zeros((I),int)\n",
        "  ireward_FTPL =  np.zeros((I),int)\n",
        "  \n",
        "  for i in range(I):\n",
        "    temp1 = np.zeros((N),int)\n",
        "    temp2 = np.zeros((N),int)\n",
        "    temp3 = np.zeros((N),int)\n",
        "    temp4 = np.zeros((N),int)\n",
        "    connected_cache = []\n",
        "    for j in range(J):\n",
        "      if connection[i,j] == 1:\n",
        "        connected_cache.append(j)\n",
        "    for k in range(len(connected_cache)):\n",
        "      temp1 += y_FTPL[connected_cache[k],:]\n",
        "      temp2 += y_LFU[connected_cache[k],:]\n",
        "      temp3 += y_LRU[connected_cache[k],:]\n",
        "      temp4 += y_LSTM[connected_cache[k],:]\n",
        "    ireward_FTPL[i] += np.dot(np.minimum(np.ones(N),temp1),x_t[:,i])\n",
        "    ireward_LFU[i] += np.dot(np.minimum(np.ones(N),temp2),x_t[:,i])\n",
        "    ireward_LRU[i] += np.dot(np.minimum(np.ones(N),temp3),x_t[:,i])\n",
        "    ireward_LSTM[i] += np.dot(np.minimum(np.ones(N),temp4),x_t1[:,i])\n",
        "\n",
        "  reward_FTPL[t] =  np.sum(ireward_FTPL)\n",
        "  reward_LRU[t] =  np.sum(ireward_LRU)\n",
        "  reward_LFU[t] =  np.sum(ireward_LFU)\n",
        "  reward_LSTM[t] =  np.sum(ireward_LSTM)\n",
        "  reward_LSTMc = np.sum(reward_LSTM)\n",
        "  reward_FTPLc = np.sum(reward_FTPL)\n",
        "  reward_LRUc = np.sum(reward_LRU)\n",
        "  reward_LFUc = np.sum(reward_LFU)\n",
        "\n",
        "  [y_LFU,LFU_downloads_slotwise[t]] = LFU(y_LFU,x_t,count,connection)\n",
        "  [y_LRU,LRU_downloads_slotwise[t]] = LRU(y_LRU,x_t,req_time,connection)\n",
        "  [y_LSTM,LSTM_downloads_slotwise[t]] = LRU(y_LSTM,x_t1,req_time1,connection)\n",
        "\n",
        "  eta = round(I*pow(4*pi*np.log(N*I),-.25)*pow((t+1)/(J*degree*C),.5),4)\n",
        "  perturbed_count=per_count(eta,count)\n",
        "  old_FTPL = y_FTPL.reshape(J*N)\n",
        "  [y_FTPL,Z] = Greedy(connection,perturbed_count) \n",
        "  new_FTPL = y_FTPL.reshape(J*N)\n",
        "  FTPL_downloads_slotwise[t] = (np.sum(np.logical_and(new_FTPL,np.logical_not(old_FTPL))))\n",
        " \n",
        "  download_FTPL.append(np.sum(FTPL_downloads_slotwise))\n",
        "  download_LFU.append(np.sum(LFU_downloads_slotwise))\n",
        "  download_LRU.append(np.sum(LRU_downloads_slotwise))\n",
        "  download_LSTM.append(np.sum(LSTM_downloads_slotwise))\n",
        "\n",
        "  hits_LRU.append(reward_LRUc)\n",
        "  hits_LFU.append(reward_LFUc)\n",
        "  hits_FTPL.append(reward_FTPLc)\n",
        "  hits_LSTM.append(reward_LSTMc)\n",
        "\n",
        "  if t %1000 == 0:\n",
        "    print(t,download_FTPL[t],download_LFU[t],download_LRU[t],download_LSTM[t],hits_FTPL[t],hits_LFU[t],hits_LRU[t],hits_LSTM[t])"
      ],
      "execution_count": 50,
      "outputs": [
        {
          "output_type": "stream",
          "text": [
            "0 145 69 69 60 0 0 0 1\n",
            "1000 93150 56658 57762 54507 4827 4202 3720 4090\n",
            "2000 167314 112825 114933 108696 9509 8199 7593 8154\n",
            "3000 230008 168770 172400 162787 14045 12141 11348 12159\n",
            "4000 286449 225047 230170 217096 18308 15906 15065 16148\n",
            "5000 338989 280848 287279 271710 22425 19753 18937 20111\n",
            "6000 388333 336661 344800 325573 26635 23591 22721 24252\n",
            "7000 434530 392392 402076 379537 30734 27292 26524 28324\n",
            "8000 479536 448006 459238 433823 34691 30978 30319 32435\n",
            "9000 521986 503559 516480 487798 38760 34730 34186 36562\n",
            "10000 562833 559648 573858 541778 42626 38342 37999 40667\n",
            "11000 603734 615257 631181 595904 46570 42051 41813 44732\n",
            "12000 643515 670994 688397 650114 50476 45718 45646 48723\n",
            "13000 682823 726642 745816 704100 54329 49371 49443 52849\n",
            "14000 720915 782775 803199 757960 58208 53013 53266 56972\n",
            "15000 758228 838992 861059 812272 62080 56613 56929 61018\n",
            "16000 795396 895458 918956 866173 65934 60137 60609 65105\n",
            "17000 831038 951129 976439 920199 69753 63911 64416 69166\n",
            "18000 866034 1007102 1033745 974731 73486 67545 68216 73141\n",
            "19000 899879 1062944 1091014 1029175 77330 71192 72018 77182\n"
          ],
          "name": "stdout"
        }
      ]
    },
    {
      "cell_type": "code",
      "metadata": {
        "id": "2iv4C7Z09VGe",
        "colab_type": "code",
        "colab": {
          "base_uri": "https://localhost:8080/",
          "height": 279
        },
        "outputId": "3303b67b-a371-44ec-e8a7-bb41ff1fae0e"
      },
      "source": [
        "plt.plot(hits_FTPL,'black',label='FTPL')\n",
        "plt.plot(hits_LRU,'green',label='LRU')\n",
        "plt.plot(hits_LFU,'blue',label='LFU')\n",
        "plt.plot(hits_LSTM,'red',label='LSTM')\n",
        "plt.xlabel('T')\n",
        "plt.ylabel('total hits')\n",
        "plt.legend()\n",
        "plt.savefig('Total hits(I=15 J=10 d=7).png')"
      ],
      "execution_count": 51,
      "outputs": [
        {
          "output_type": "display_data",
          "data": {
            "image/png": "[encoded data removed]",
            "text/plain": [
              "<Figure size 432x288 with 1 Axes>"
            ]
          },
          "metadata": {
            "tags": [],
            "needs_background": "light"
          }
        }
      ]
    },
    {
      "cell_type": "code",
      "metadata": {
        "id": "0BUxR46t9YE8",
        "colab_type": "code",
        "colab": {
          "base_uri": "https://localhost:8080/",
          "height": 290
        },
        "outputId": "2102ff37-cb46-4e99-f823-7ad6f8140829"
      },
      "source": [
        "plt.plot(download_FTPL,'black',label='FTPL')\n",
        "plt.plot(download_LRU,'green',label='LRU')\n",
        "plt.plot(download_LFU,'blue',label='LFU')\n",
        "plt.plot(download_LSTM,'red',label='LSTM')\n",
        "plt.xlabel('T')\n",
        "plt.ylabel('new downloads')\n",
        "plt.legend()\n",
        "plt.savefig('New downloads(I=15 J=10 d=7).png')"
      ],
      "execution_count": 52,
      "outputs": [
        {
          "output_type": "display_data",
          "data": {
            "image/png": "[encoded data removed]",
            "text/plain": [
              "<Figure size 432x288 with 1 Axes>"
            ]
          },
          "metadata": {
            "tags": [],
            "needs_background": "light"
          }
        }
      ]
    },
    {
      "cell_type": "code",
      "metadata": {
        "id": "Y3BSdBiwipHp",
        "colab_type": "code",
        "colab": {}
      },
      "source": [
        ""
      ],
      "execution_count": null,
      "outputs": []
    }
  ]
}