{
  "nbformat": 4,
  "nbformat_minor": 0,
  "metadata": {
    "colab": {
      "name": "Caching bipartite",
      "provenance": [],
      "collapsed_sections": []
    },
    "kernelspec": {
      "name": "python3",
      "display_name": "Python 3"
    }
  },
  "cells": [
    {
      "cell_type": "code",
      "metadata": {
        "id": "g6dzR9rt_krF",
        "colab_type": "code",
        "colab": {}
      },
      "source": [
        "import numpy as np\n",
        "from numpy import random\n",
        "import matplotlib.pyplot as plt\n",
        "%matplotlib inline"
      ],
      "execution_count": 0,
      "outputs": []
    },
    {
      "cell_type": "code",
      "metadata": {
        "id": "eki7BDaX_RpP",
        "colab_type": "code",
        "colab": {}
      },
      "source": [
        "gen_req1 = np.load('/content/drive/My Drive/gen_req.npy')\n",
        "req1 = np.load('/content/drive/My Drive/req.npy')"
      ],
      "execution_count": 0,
      "outputs": []
    },
    {
      "cell_type": "code",
      "metadata": {
        "id": "lAcMUnr1RECc",
        "colab_type": "code",
        "outputId": "148de77a-f1eb-40a4-de66-16261bbe7f62",
        "colab": {
          "base_uri": "https://localhost:8080/",
          "height": 34
        }
      },
      "source": [
        "#req1 = req1[20000:2005000]\n",
        "#gen_req1 = gen_req1[20000:2005000]\n",
        "req1.shape,gen_req1.shape"
      ],
      "execution_count": 121,
      "outputs": [
        {
          "output_type": "execute_result",
          "data": {
            "text/plain": [
              "((2005000,), (2255000,))"
            ]
          },
          "metadata": {
            "tags": []
          },
          "execution_count": 121
        }
      ]
    },
    {
      "cell_type": "code",
      "metadata": {
        "id": "SOUAMkThUS-c",
        "colab_type": "code",
        "colab": {}
      },
      "source": [
        "N = 100 # total ids \n",
        "pi = 3.14\n",
        "C = 5 #cache memory"
      ],
      "execution_count": 0,
      "outputs": []
    },
    {
      "cell_type": "markdown",
      "metadata": {
        "id": "Av1Kgt5FUF3x",
        "colab_type": "text"
      },
      "source": [
        "LRU"
      ]
    },
    {
      "cell_type": "code",
      "metadata": {
        "id": "IU2Dme6MjK66",
        "colab_type": "code",
        "colab": {}
      },
      "source": [
        "def LRU(y, x, request_time,con):\n",
        "  [N,I] = x.shape\n",
        "  J = len(y)\n",
        "\n",
        "  for j in range(J):\n",
        "    x_t_j = np.zeros(N)\n",
        "    file_req_time = np.zeros(N)\n",
        "\n",
        "    # to find which users are connected to this cache \n",
        "    connected_users = []\n",
        "    for k in range(I):\n",
        "      if con[k,j] == 1:\n",
        "        connected_users.append(k)\n",
        "    for k in range(len(connected_users)):\n",
        "      x_t_j += x[:,connected_users[k]]\n",
        "      file_req_time = np.maximum(file_req_time, request_time[:,connected_users[k]])\n",
        "    x_t_j = np.minimum(np.ones(N),x_t_j)\n",
        "\n",
        "    a1 = np.transpose(np.logical_and(y[j],np.logical_not(np.logical_and(y[j],np.transpose(x_t_j)))))# file which is not requested but still in the cache\n",
        "    b1 = np.transpose(np.logical_and(np.transpose(x_t_j),np.logical_not(np.logical_and(y[j],np.transpose(x_t_j))))) # file requested but not in the cache.\n",
        "    a = np.sum(a1)\n",
        "    b = np.sum(b1)\n",
        "\n",
        "    if a>0 and b>0:\n",
        "      if a>b:\n",
        "        ind = []\n",
        "        for k in range(N):\n",
        "          if a1[k] == 1:\n",
        "            ind.append(k)\n",
        "        t = np.zeros(a)\n",
        "        for k in range(a):\n",
        "          t[k] = file_req_time[ind[k]]\n",
        "        replace = (t).argsort()[:b]\n",
        "        for k in range(b):\n",
        "          y[j,ind[int(replace[k])]] = 0\n",
        "        for k in range(N):\n",
        "          if b1[k] == 1:\n",
        "            y[j,k] = 1\n",
        "      \n",
        "      else:\n",
        "        for k in range(N):\n",
        "          if a1[k] == 1:\n",
        "            y[j,k] = 0\n",
        "        \n",
        "        ind = []\n",
        "        for k in range(N):\n",
        "          if b1[k] == 1:\n",
        "            ind.append(k)\n",
        "        t = np.zeros(b)\n",
        "        for k in range(b):\n",
        "          t[k] = file_req_time[ind[k]]\n",
        "        replace = (t).argsort()[:a]\n",
        "        for k in range(a):\n",
        "          y[j,ind[int(replace[k])]] = 1\n",
        "\n",
        "  return y"
      ],
      "execution_count": 0,
      "outputs": []
    },
    {
      "cell_type": "markdown",
      "metadata": {
        "id": "rlnncX3lUi-6",
        "colab_type": "text"
      },
      "source": [
        "LFU"
      ]
    },
    {
      "cell_type": "code",
      "metadata": {
        "id": "rZKodE159k31",
        "colab_type": "code",
        "colab": {}
      },
      "source": [
        "def LFU(y,x,freq,con):\n",
        "  [N,I] = x.shape\n",
        "  J = len(y)\n",
        "\n",
        "  for j in range(J):\n",
        "    file_freq = np.zeros(N)\n",
        "    x_t_j = np.zeros(N)\n",
        "\n",
        "    # to find which users are connected to this cache \n",
        "    connected_users = []\n",
        "    for k in range(I):\n",
        "      if con[k,j] == 1:\n",
        "        connected_users.append(k)\n",
        "    for k in range(len(connected_users)):\n",
        "      x_t_j += x[:,connected_users[k]]\n",
        "      file_freq += freq[:,connected_users[k]]\n",
        "    x_t_j = np.minimum(np.ones(N),x_t_j)\n",
        "\n",
        "    a1 = np.transpose(np.logical_and(y[j],np.logical_not(np.logical_and(y[j],np.transpose(x_t_j)))))# file which is not requested but still in the cache\n",
        "    b1 = np.transpose(np.logical_and(np.transpose(x_t_j),np.logical_not(np.logical_and(y[j],np.transpose(x_t_j))))) # file requested but not in the cache.\n",
        "    a = np.sum(a1)\n",
        "    b = np.sum(b1)\n",
        "  \n",
        "    if a>0 and b>0:\n",
        "      if a>b:\n",
        "        ind = []\n",
        "        for k in range(N):\n",
        "          if a1[k] == 1:\n",
        "            ind.append(k)\n",
        "        t = np.zeros(a)\n",
        "        for k in range(a):\n",
        "          t[k] = file_freq[ind[k]]\n",
        "        replace = (t).argsort()[:b]\n",
        "        for k in range(b):\n",
        "          y[j,ind[int(replace[k])]] = 0\n",
        "        for k in range(N):\n",
        "          if b1[k] == 1:\n",
        "            y[j,k] = 1\n",
        "      else:\n",
        "        for k in range(N):\n",
        "          if a1[k] == 1:\n",
        "            y[j,k] = 0\n",
        "        ind = []\n",
        "        for k in range(N):\n",
        "          if b1[k] == 1:\n",
        "            ind.append(k)\n",
        "        t = np.zeros(b)\n",
        "        for k in range(b):\n",
        "          t[k] = file_freq[ind[k]]\n",
        "        replace = (t).argsort()[:a]\n",
        "        for k in range(a):\n",
        "          y[j,ind[int(replace[k])]] = 1\n",
        "\n",
        "  return y"
      ],
      "execution_count": 0,
      "outputs": []
    },
    {
      "cell_type": "markdown",
      "metadata": {
        "id": "NxQfsTnXWQyP",
        "colab_type": "text"
      },
      "source": [
        "perturbed count"
      ]
    },
    {
      "cell_type": "code",
      "metadata": {
        "id": "V4d6vCcjWOP7",
        "colab_type": "code",
        "colab": {}
      },
      "source": [
        "def per_count(eta,count):\n",
        "  [N,I] = count.shape\n",
        "  p_count = np.zeros((N,I),dtype = float)\n",
        "  for i in range(I):\n",
        "    p_count[:,i] = count[:,i] + np.multiply(eta, random.normal(0,1,[N,1])).reshape(N)\n",
        "  return p_count"
      ],
      "execution_count": 0,
      "outputs": []
    },
    {
      "cell_type": "markdown",
      "metadata": {
        "id": "8RkOlMhDjohA",
        "colab_type": "text"
      },
      "source": [
        "SINGLE CACHE"
      ]
    },
    {
      "cell_type": "code",
      "metadata": {
        "id": "ZyC3_Jwrjn5s",
        "colab_type": "code",
        "outputId": "4517ad09-1e3c-4b37-ed02-a93dd8d92ba4",
        "colab": {
          "base_uri": "https://localhost:8080/",
          "height": 34
        }
      },
      "source": [
        "I = 1 #users\n",
        "T = 50000\n",
        "degree = 1\n",
        "J = 1 #caches\n",
        "connection = np.array([[1]])\n",
        "connection.shape"
      ],
      "execution_count": 122,
      "outputs": [
        {
          "output_type": "execute_result",
          "data": {
            "text/plain": [
              "(1, 1)"
            ]
          },
          "metadata": {
            "tags": []
          },
          "execution_count": 122
        }
      ]
    },
    {
      "cell_type": "code",
      "metadata": {
        "id": "4Xqi6iqtfnhE",
        "colab_type": "code",
        "outputId": "952975f6-c227-4ae4-e94b-a746ead2e0bc",
        "colab": {
          "base_uri": "https://localhost:8080/",
          "height": 34
        }
      },
      "source": [
        "req = np.zeros((I,T),dtype = int)\n",
        "for i in range(I):\n",
        "  for j in range(T):\n",
        "    req[i,j] = req1[(i+1)*(j+1) - 1]\n",
        "req.shape"
      ],
      "execution_count": 123,
      "outputs": [
        {
          "output_type": "execute_result",
          "data": {
            "text/plain": [
              "(1, 50000)"
            ]
          },
          "metadata": {
            "tags": []
          },
          "execution_count": 123
        }
      ]
    },
    {
      "cell_type": "code",
      "metadata": {
        "id": "7NQUPQz7JvtR",
        "colab_type": "code",
        "outputId": "e3125111-ea71-4930-fdaf-af197f06bb8b",
        "colab": {
          "base_uri": "https://localhost:8080/",
          "height": 34
        }
      },
      "source": [
        "gen_req = np.zeros((I,T),dtype = int)\n",
        "for i in range(I):\n",
        "  for j in range(T):\n",
        "    gen_req[i,j] = gen_req1[(i+1)*(j+1) - 1]\n",
        "gen_req.shape"
      ],
      "execution_count": 124,
      "outputs": [
        {
          "output_type": "execute_result",
          "data": {
            "text/plain": [
              "(1, 50000)"
            ]
          },
          "metadata": {
            "tags": []
          },
          "execution_count": 124
        }
      ]
    },
    {
      "cell_type": "code",
      "metadata": {
        "id": "SlEif3_kkIvU",
        "colab_type": "code",
        "outputId": "10a13924-cde7-42ad-ee15-7bd4cbe38b2b",
        "colab": {
          "base_uri": "https://localhost:8080/",
          "height": 857
        }
      },
      "source": [
        "y_LRU = np.zeros((J,N),dtype = float)\n",
        "y_LFU = np.zeros((J,N),dtype = float)\n",
        "y_FTPL = np.zeros((J,N),dtype = float)\n",
        "y_LSTM = np.zeros((J,N),dtype = float)\n",
        "y_LSTM[:,:C] = np.ones((J,C),dtype = float)\n",
        "y_FTPL[:,:C] = np.ones((J,C),dtype = float)\n",
        "y_LRU[:,:C] = np.ones((J,C),dtype = float)\n",
        "y_LFU[:,:C] = np.ones((J,C),dtype = float)\n",
        "\n",
        "count = np.zeros((N,I),dtype = float)\n",
        "\n",
        "reward_LSTM =  np.zeros(T)\n",
        "reward_FTPL =  np.zeros(T)\n",
        "reward_LRU =  np.zeros(T)\n",
        "reward_LFU =  np.zeros(T)\n",
        "hits_FTPL =  []\n",
        "hits_LRU =  []\n",
        "hits_LFU =  []\n",
        "hits_LSTM = []\n",
        "\n",
        "req_time = np.zeros((N,I),dtype = float) \n",
        "req_time1 = np.zeros((N,I),dtype = float) \n",
        "\n",
        "for t in range(T):\n",
        "  x_t1 = np.zeros((N,I),dtype = int)\n",
        "  x_t = np.zeros((N,I),dtype = int)\n",
        "  for i in range(I):\n",
        "    x_t[req[i,t],i] += 1\n",
        "    x_t1[gen_req[i,t],i] += 1\n",
        "    count[int(req[i,t]),i] += 1\n",
        "    req_time[int(req[i,t]),i] = t+1\n",
        "    req_time1[int(gen_req[i,t]),i] = t+1\n",
        "  \n",
        "  ireward_LRU =  np.zeros(I)\n",
        "  ireward_LSTM =  np.zeros(I)\n",
        "  ireward_LFU =  np.zeros(I)\n",
        "  ireward_FTPL =  np.zeros(I)\n",
        "  \n",
        "  for i in range(I):\n",
        "    temp1 = np.zeros(N)\n",
        "    temp2 = np.zeros(N)\n",
        "    temp3 = np.zeros(N)\n",
        "    temp4 = np.zeros(N)\n",
        "    connected_cache = []\n",
        "    for j in range(J):\n",
        "      if connection[i,j] == 1:\n",
        "        connected_cache.append(j)\n",
        "    for k in range(len(connected_cache)):\n",
        "      temp1 += y_FTPL[connected_cache[k],:]\n",
        "      temp2 += y_LFU[connected_cache[k],:]\n",
        "      temp3 += y_LRU[connected_cache[k],:]\n",
        "      temp4 += y_LSTM[connected_cache[k],:]\n",
        "    ireward_FTPL[i] += np.dot(np.minimum(np.ones(N),temp1),x_t[:,i])\n",
        "    ireward_LFU[i] += np.dot(np.minimum(np.ones(N),temp2),x_t[:,i])\n",
        "    ireward_LRU[i] += np.dot(np.minimum(np.ones(N),temp3),x_t[:,i])\n",
        "    ireward_LSTM[i] += np.dot(np.minimum(np.ones(N),temp4),x_t1[:,i])\n",
        "\n",
        "  reward_FTPL[t] =  np.sum(ireward_FTPL)\n",
        "  reward_LRU[t] =  np.sum(ireward_LRU)\n",
        "  reward_LFU[t] =  np.sum(ireward_LFU)\n",
        "  reward_LSTM[t] =  np.sum(ireward_LSTM)\n",
        "  reward_LSTMc = np.sum(reward_LSTM)\n",
        "  reward_FTPLc = np.sum(reward_FTPL)\n",
        "  reward_LRUc = np.sum(reward_LRU)\n",
        "  reward_LFUc = np.sum(reward_LFU)\n",
        "  \n",
        "  y_LFU = LFU(y_LFU,x_t,count,connection)\n",
        "  y_LRU = LRU(y_LRU,x_t,req_time,connection)\n",
        "  y_LSTM = LRU(y_LSTM,x_t1,req_time1,connection)\n",
        "\n",
        "  eta = I*pow(4*pi*np.log(N*I),-.25)*pow(T/(J*degree*C),.5)\n",
        "  perturbed_count=per_count(eta,count)\n",
        "  y_FTPL = np.zeros((J,N),dtype = float)\n",
        "  y_opt = np.zeros((J,N),dtype = float)\n",
        "  \n",
        "  \n",
        "  eta = pow(4*pi*np.log(N),-.25)*pow(T/C,.5)\n",
        "  perturbed_count=per_count(eta,count)\n",
        "\n",
        "  add = (-perturbed_count[:,0]).argsort()[:C]\n",
        "  y_FTPL = np.zeros((J,N),dtype = float)\n",
        "\n",
        "  for k in range(len(add)):\n",
        "    y_FTPL[0,int(add[k])] = 1 \n",
        "\n",
        "  \n",
        "  hits_LRU.append(reward_LRUc)\n",
        "  hits_LFU.append(reward_LFUc)\n",
        "  hits_FTPL.append(reward_FTPLc)\n",
        "  hits_LSTM.append(reward_LSTMc)\n",
        "\n",
        "  if t %1000 == 0:\n",
        "    print(t,hits_FTPL[t],hits_LFU[t],hits_LRU[t],hits_LSTM[t])"
      ],
      "execution_count": 125,
      "outputs": [
        {
          "output_type": "stream",
          "text": [
            "0 0.0 0.0 0.0 0.0\n",
            "1000 53.0 45.0 55.0 55.0\n",
            "2000 101.0 100.0 107.0 107.0\n",
            "3000 161.0 158.0 161.0 161.0\n",
            "4000 219.0 223.0 212.0 212.0\n",
            "5000 276.0 284.0 265.0 265.0\n",
            "6000 328.0 355.0 315.0 315.0\n",
            "7000 379.0 424.0 359.0 359.0\n",
            "8000 431.0 490.0 408.0 408.0\n",
            "9000 499.0 554.0 467.0 467.0\n",
            "10000 540.0 604.0 524.0 524.0\n",
            "11000 600.0 667.0 561.0 561.0\n",
            "12000 672.0 732.0 604.0 604.0\n",
            "13000 726.0 810.0 659.0 659.0\n",
            "14000 797.0 899.0 723.0 723.0\n",
            "15000 861.0 964.0 777.0 777.0\n",
            "16000 914.0 1028.0 817.0 817.0\n",
            "17000 969.0 1084.0 864.0 864.0\n",
            "18000 1025.0 1154.0 910.0 910.0\n",
            "19000 1101.0 1219.0 960.0 960.0\n",
            "20000 1147.0 1286.0 1007.0 1007.0\n",
            "21000 1207.0 1349.0 1052.0 1132.0\n",
            "22000 1282.0 1432.0 1110.0 1262.0\n",
            "23000 1335.0 1481.0 1169.0 1397.0\n",
            "24000 1400.0 1551.0 1219.0 1547.0\n",
            "25000 1464.0 1624.0 1272.0 1696.0\n",
            "26000 1526.0 1700.0 1330.0 1831.0\n",
            "27000 1595.0 1773.0 1388.0 1966.0\n",
            "28000 1656.0 1828.0 1433.0 2095.0\n",
            "29000 1724.0 1894.0 1477.0 2256.0\n",
            "30000 1797.0 1972.0 1536.0 2385.0\n",
            "31000 1874.0 2057.0 1593.0 2508.0\n",
            "32000 1928.0 2112.0 1658.0 2649.0\n",
            "33000 2004.0 2190.0 1727.0 2825.0\n",
            "34000 2068.0 2255.0 1775.0 2966.0\n",
            "35000 2132.0 2316.0 1831.0 3100.0\n",
            "36000 2200.0 2379.0 1879.0 3230.0\n",
            "37000 2267.0 2439.0 1931.0 3402.0\n",
            "38000 2325.0 2509.0 1979.0 3526.0\n",
            "39000 2394.0 2586.0 2028.0 3654.0\n",
            "40000 2457.0 2646.0 2082.0 3787.0\n",
            "41000 2521.0 2714.0 2128.0 3940.0\n",
            "42000 2585.0 2776.0 2174.0 4076.0\n",
            "43000 2655.0 2836.0 2223.0 4206.0\n",
            "44000 2714.0 2887.0 2272.0 4329.0\n",
            "45000 2767.0 2940.0 2327.0 4466.0\n",
            "46000 2835.0 3004.0 2389.0 4616.0\n",
            "47000 2892.0 3059.0 2431.0 4747.0\n",
            "48000 2967.0 3123.0 2490.0 4885.0\n",
            "49000 3038.0 3191.0 2540.0 5021.0\n"
          ],
          "name": "stdout"
        }
      ]
    },
    {
      "cell_type": "code",
      "metadata": {
        "id": "J_3kWL_JCNjX",
        "colab_type": "code",
        "outputId": "2b78e1b4-c48d-484f-ec70-a7ef8e870b8a",
        "colab": {
          "base_uri": "https://localhost:8080/",
          "height": 296
        }
      },
      "source": [
        "plt.plot(hits_FTPL,'green',label='FTPL')\n",
        "plt.plot(hits_LRU,'black',label='LRU')\n",
        "plt.plot(hits_LFU,'blue',label='LFU')\n",
        "plt.plot(hits_LSTM,'red',label='LSTM')\n",
        "plt.xlabel('T')\n",
        "plt.ylabel('total hits')\n",
        "plt.legend()"
      ],
      "execution_count": 126,
      "outputs": [
        {
          "output_type": "execute_result",
          "data": {
            "text/plain": [
              "<matplotlib.legend.Legend at 0x7f3687661e48>"
            ]
          },
          "metadata": {
            "tags": []
          },
          "execution_count": 126
        },
        {
          "output_type": "display_data",
          "data": {
            "image/png": "[encoded data removed]",
            "text/plain": [
              "<Figure size 432x288 with 1 Axes>"
            ]
          },
          "metadata": {
            "tags": [],
            "needs_background": "light"
          }
        }
      ]
    },
    {
      "cell_type": "markdown",
      "metadata": {
        "id": "O8xTcERhKKWR",
        "colab_type": "text"
      },
      "source": [
        "BIPARTITE NETWORK"
      ]
    },
    {
      "cell_type": "code",
      "metadata": {
        "id": "jA0Kz7jzKJ3G",
        "colab_type": "code",
        "colab": {}
      },
      "source": [
        "I = 15\n",
        "J = 10\n",
        "degree = 7\n",
        "T = 2500"
      ],
      "execution_count": 0,
      "outputs": []
    },
    {
      "cell_type": "code",
      "metadata": {
        "id": "fkzyLhrGKhB6",
        "colab_type": "code",
        "outputId": "f6c46195-2544-40bf-9d72-f7e14d80a0a5",
        "colab": {
          "base_uri": "https://localhost:8080/",
          "height": 269
        }
      },
      "source": [
        "connection = np.zeros((I,J),dtype = int)\n",
        "j = 0\n",
        "for i in range(I):\n",
        "    x = 0\n",
        "    while x < degree:\n",
        "        connection[i,j] = 1\n",
        "        x += 1\n",
        "        j += 1\n",
        "        if j == J:\n",
        "          j = 0\n",
        "connection"
      ],
      "execution_count": 64,
      "outputs": [
        {
          "output_type": "execute_result",
          "data": {
            "text/plain": [
              "array([[1, 1, 1, 1, 1, 1, 1, 0, 0, 0],\n",
              "       [1, 1, 1, 1, 0, 0, 0, 1, 1, 1],\n",
              "       [1, 0, 0, 0, 1, 1, 1, 1, 1, 1],\n",
              "       [0, 1, 1, 1, 1, 1, 1, 1, 0, 0],\n",
              "       [1, 1, 1, 1, 1, 0, 0, 0, 1, 1],\n",
              "       [1, 1, 0, 0, 0, 1, 1, 1, 1, 1],\n",
              "       [0, 0, 1, 1, 1, 1, 1, 1, 1, 0],\n",
              "       [1, 1, 1, 1, 1, 1, 0, 0, 0, 1],\n",
              "       [1, 1, 1, 0, 0, 0, 1, 1, 1, 1],\n",
              "       [0, 0, 0, 1, 1, 1, 1, 1, 1, 1],\n",
              "       [1, 1, 1, 1, 1, 1, 1, 0, 0, 0],\n",
              "       [1, 1, 1, 1, 0, 0, 0, 1, 1, 1],\n",
              "       [1, 0, 0, 0, 1, 1, 1, 1, 1, 1],\n",
              "       [0, 1, 1, 1, 1, 1, 1, 1, 0, 0],\n",
              "       [1, 1, 1, 1, 1, 0, 0, 0, 1, 1]])"
            ]
          },
          "metadata": {
            "tags": []
          },
          "execution_count": 64
        }
      ]
    },
    {
      "cell_type": "code",
      "metadata": {
        "id": "TIjWw46mSfxG",
        "colab_type": "code",
        "colab": {}
      },
      "source": [
        "req1 = req1[20000:2005000]\n",
        "gen_req1 = gen_req1[20000:2005000]"
      ],
      "execution_count": 0,
      "outputs": []
    },
    {
      "cell_type": "code",
      "metadata": {
        "id": "DNOrEFxxThnu",
        "colab_type": "code",
        "outputId": "04651840-2c7d-4a78-c530-2d4a7d4a1f77",
        "colab": {
          "base_uri": "https://localhost:8080/",
          "height": 34
        }
      },
      "source": [
        "req = np.zeros((I,T),dtype = int)\n",
        "for i in range(I):\n",
        "  for j in range(T):\n",
        "    req[i,j] = req1[(i+1)*(j+1) - 1]\n",
        "req.shape"
      ],
      "execution_count": 66,
      "outputs": [
        {
          "output_type": "execute_result",
          "data": {
            "text/plain": [
              "(15, 2500)"
            ]
          },
          "metadata": {
            "tags": []
          },
          "execution_count": 66
        }
      ]
    },
    {
      "cell_type": "code",
      "metadata": {
        "id": "DAQ_EHg8TlOp",
        "colab_type": "code",
        "outputId": "21711e83-fb9a-4e56-d730-ff0ae3bab3c3",
        "colab": {
          "base_uri": "https://localhost:8080/",
          "height": 34
        }
      },
      "source": [
        "gen_req = np.zeros((I,T),dtype = int)\n",
        "for i in range(I):\n",
        "  for j in range(T):\n",
        "    gen_req[i,j] = gen_req1[(i+1)*(j+1) - 1]\n",
        "gen_req.shape"
      ],
      "execution_count": 67,
      "outputs": [
        {
          "output_type": "execute_result",
          "data": {
            "text/plain": [
              "(15, 2500)"
            ]
          },
          "metadata": {
            "tags": []
          },
          "execution_count": 67
        }
      ]
    },
    {
      "cell_type": "code",
      "metadata": {
        "id": "5U7m8AJ9Sw6B",
        "colab_type": "code",
        "outputId": "4bdf5a57-94b6-4208-deec-f83e757cdb54",
        "colab": {
          "base_uri": "https://localhost:8080/",
          "height": 437
        }
      },
      "source": [
        "y_LRU = np.zeros((J,N),dtype = float)\n",
        "y_LFU = np.zeros((J,N),dtype = float)\n",
        "y_FTPL = np.zeros((J,N),dtype = float)\n",
        "y_LSTM = np.zeros((J,N),dtype = float)\n",
        "y_LSTM[:,:C] = np.ones((J,C),dtype = float)\n",
        "y_FTPL[:,:C] = np.ones((J,C),dtype = float)\n",
        "y_LRU[:,:C] = np.ones((J,C),dtype = float)\n",
        "y_LFU[:,:C] = np.ones((J,C),dtype = float)\n",
        "\n",
        "count = np.zeros((N,I),dtype = float)\n",
        "regret_LRU =  np.zeros(T)\n",
        "regret_LFU =  np.zeros(T)\n",
        "regret_FTPL =  np.zeros(T)\n",
        "regret_LSTM = np.zeros(T)\n",
        "reward_LSTM =  np.zeros(T)\n",
        "reward_FTPL =  np.zeros(T)\n",
        "reward_LRU =  np.zeros(T)\n",
        "reward_LFU =  np.zeros(T)\n",
        "hits_FTPL =  []\n",
        "hits_LRU =  []\n",
        "hits_LFU =  []\n",
        "hits_LSTM = []\n",
        "hits_optimal = []\n",
        "\n",
        "\n",
        "req_time = np.zeros((N,I),dtype = float) \n",
        "req_time1 = np.zeros((N,I),dtype = float) \n",
        "\n",
        "for t in range(T):\n",
        "  x_t1 = np.zeros((N,I),dtype = int)\n",
        "  x_t = np.zeros((N,I),dtype = int)\n",
        "  for i in range(I):\n",
        "    x_t[req[i,t],i] += 1\n",
        "    x_t1[gen_req[i,t],i] += 1\n",
        "    count[int(req[i,t]),i] += 1\n",
        "    req_time[int(req[i,t]),i] = t+1\n",
        "    req_time1[int(gen_req[i,t]),i] = t+1\n",
        "  \n",
        "  ireward_LRU =  np.zeros(I)\n",
        "  ireward_LSTM =  np.zeros(I)\n",
        "  ireward_LFU =  np.zeros(I)\n",
        "  ireward_FTPL =  np.zeros(I)\n",
        "  \n",
        "  for i in range(I):\n",
        "    temp1 = np.zeros(N)\n",
        "    temp2 = np.zeros(N)\n",
        "    temp3 = np.zeros(N)\n",
        "    temp4 = np.zeros(N)\n",
        "    connected_cache = []\n",
        "    for j in range(J):\n",
        "      if connection[i,j] == 1:\n",
        "        connected_cache.append(j)\n",
        "    for k in range(len(connected_cache)):\n",
        "      temp1 += y_FTPL[connected_cache[k],:]\n",
        "      temp2 += y_LFU[connected_cache[k],:]\n",
        "      temp3 += y_LRU[connected_cache[k],:]\n",
        "      temp4 += y_LSTM[connected_cache[k],:]\n",
        "    ireward_FTPL[i] += np.dot(np.minimum(np.ones(N),temp1),x_t[:,i])\n",
        "    ireward_LFU[i] += np.dot(np.minimum(np.ones(N),temp2),x_t[:,i])\n",
        "    ireward_LRU[i] += np.dot(np.minimum(np.ones(N),temp3),x_t[:,i])\n",
        "    ireward_LSTM[i] += np.dot(np.minimum(np.ones(N),temp4),x_t1[:,i])\n",
        "\n",
        "  reward_FTPL[t] =  np.sum(ireward_FTPL)\n",
        "  reward_LRU[t] =  np.sum(ireward_LRU)\n",
        "  reward_LFU[t] =  np.sum(ireward_LFU)\n",
        "  reward_LSTM[t] =  np.sum(ireward_LSTM)\n",
        "  reward_LSTMc = np.sum(reward_LSTM)\n",
        "  reward_FTPLc = np.sum(reward_FTPL)\n",
        "  reward_LRUc = np.sum(reward_LRU)\n",
        "  reward_LFUc = np.sum(reward_LFU)\n",
        "  \n",
        "  y_LFU = LFU(y_LFU,x_t,count,connection)\n",
        "  y_LRU = LRU(y_LRU,x_t,req_time,connection)\n",
        "  y_LSTM = LRU(y_LSTM,x_t1,req_time1,connection)\n",
        "\n",
        "  eta = I*pow(4*pi*np.log(N*I),-.25)*pow(T/(J*degree*C),.5)\n",
        "  perturbed_count=per_count(eta,count)\n",
        "  y_FTPL = np.zeros((J,N),dtype = float)\n",
        "  y_opt = np.zeros((J,N),dtype = float)\n",
        "\n",
        "  for j in range(J):\n",
        "    max_opt = np.zeros(N)\n",
        "    for f in range(N):\n",
        "      y_opt[j,f] = 1\n",
        "      z_opt = np.zeros((I,N), dtype = float)\n",
        "      for i in range(I):\n",
        "        for k in range(J):\n",
        "          if connection[i,k] == 1:\n",
        "            z_opt[i] += y_opt[k]\n",
        "        z_opt[i] = np.minimum(np.ones(N),z_opt[i].reshape(N))\n",
        "        max_opt[f] += np.dot(z_opt[i],count[:,i]) \n",
        "      y_opt[j,f] = 0\n",
        "    f_opt = (-max_opt).argsort()[:C]\n",
        "    for k in range (C):\n",
        "      y_opt[j,f_opt[k]] = 1\n",
        "\n",
        "  if t%3 == 0:\n",
        "    for j in range(J):\n",
        "      max_FTPL = np.zeros(N)\n",
        "      for f in range(N):\n",
        "        y_FTPL[j,f] = 1\n",
        "        z_FTPL = np.zeros((I,N), dtype = float)\n",
        "        for i in range(I):\n",
        "          for k in range(J):\n",
        "            if connection[i,k] == 1:\n",
        "              z_FTPL[i] += y_FTPL[k]\n",
        "          z_FTPL[i] = np.minimum(np.ones(N),z_FTPL[i].reshape(N))\n",
        "        max_FTPL[f] += np.dot(z_FTPL[i],perturbed_count[:,i])  \n",
        "        y_FTPL[j,f] = 0\n",
        "      f_FTPL = (-max_FTPL).argsort()[:C]\n",
        "      for k in range (C):\n",
        "        y_FTPL[j,f_FTPL[k]] = 1\n",
        "    \n",
        "  #OPTIMAL\n",
        "  reward_optimal =  np.zeros(T)\n",
        "  for t1 in range(t+1):\n",
        "    x = np.zeros((N,I),dtype = int)\n",
        "    for i in range(I):\n",
        "      x[int(req[i,t1]),i] += 1\n",
        "      \n",
        "    ireward_optimal =  np.zeros(I)\n",
        "    for i in range(I):\n",
        "      connected_cache = []\n",
        "      for j in range(J):\n",
        "        if connection[i,j] == 1:\n",
        "          connected_cache.append(j)\n",
        "      otemp = np.zeros(N)  \n",
        "      for k in range(len(connected_cache)):\n",
        "        otemp += y_opt[connected_cache[k],:]  \n",
        "      ireward_optimal[i] += np.dot(np.minimum(np.ones(N),otemp),x[:,i])\n",
        "    \n",
        "    reward_optimal[t1] = np.sum(ireward_optimal)\n",
        "  reward_optimalc = np.sum(reward_optimal)\n",
        "\n",
        "\n",
        "  hits_optimal.append(reward_optimalc)  \n",
        "  hits_LRU.append(reward_LRUc)\n",
        "  hits_LFU.append(reward_LFUc)\n",
        "  hits_FTPL.append(reward_FTPLc)\n",
        "  hits_LSTM.append(reward_LSTMc)\n",
        "  regret_FTPL[t] = (reward_optimalc - reward_FTPLc)/(t+1)\n",
        "  regret_LFU[t] = (reward_optimalc - reward_LFUc)/(t+1)\n",
        "  regret_LRU[t] = (reward_optimalc - reward_LRUc)/(t+1)\n",
        "  regret_LSTM[t] = (reward_optimalc - reward_LSTMc)/(t+1)\n",
        "  if t %100 == 0:\n",
        "    print(t,regret_FTPL[t],regret_LFU[t],regret_LRU[t],regret_LSTM[t],reward_optimalc)"
      ],
      "execution_count": 68,
      "outputs": [
        {
          "output_type": "stream",
          "text": [
            "0 15.0 15.0 15.0 14.0 15.0\n",
            "100 6.673267326732673 6.524752475247524 6.702970297029703 6.445544554455446 815.0\n",
            "200 5.920398009950249 5.845771144278607 5.985074626865671 5.731343283582089 1475.0\n",
            "300 5.53156146179402 5.465116279069767 5.59468438538206 5.392026578073089 2090.0\n",
            "400 5.3366583541147135 5.3192019950124685 5.44139650872818 5.179551122194514 2698.0\n",
            "500 5.189620758483034 5.173652694610778 5.3053892215568865 4.8822355289421155 3285.0\n",
            "600 5.071547420965058 5.02495840266223 5.168053244592346 4.788685524126456 3882.0\n",
            "700 4.974322396576319 4.977175463623396 5.1055634807417976 4.748930099857347 4487.0\n",
            "800 4.955056179775281 4.987515605493134 5.091136079900124 4.747815230961298 5107.0\n",
            "900 4.914539400665927 4.945615982241954 5.039955604883462 4.617092119866815 5699.0\n",
            "1000 4.903096903096903 4.934065934065934 5.018981018981019 4.654345654345654 6320.0\n",
            "1100 4.83197093551317 4.8628519527702085 4.932788374205268 4.5858310626703 6872.0\n",
            "1200 4.796003330557869 4.856786011656952 4.912572855953372 4.57285595337219 7482.0\n",
            "1300 4.75249807840123 4.811683320522675 4.862413528055342 4.551883166794774 8055.0\n",
            "1400 4.7387580299785865 4.788722341184868 4.846538187009279 4.5046395431834405 8645.0\n",
            "1500 4.737508327781479 4.791472351765489 4.843437708194537 4.51165889407062 9249.0\n",
            "1600 4.7158026233604 4.773891317926296 4.835103060587133 4.512804497189257 9846.0\n",
            "1700 4.7178130511463845 4.786596119929453 4.828336272780717 4.51793062904174 10466.0\n",
            "1800 4.687951138256524 4.770127706829539 4.812881732370905 4.4536368684064405 11026.0\n",
            "1900 4.674907943187796 4.760652288269332 4.801157285639137 4.458179905312993 11624.0\n",
            "2000 4.687656171914043 4.778610694652674 4.813593203398301 4.480259870064968 12264.0\n",
            "2100 4.683008091385055 4.785816277962875 4.821037601142313 4.481199428843408 12874.0\n",
            "2200 4.645615629259428 4.765106769650159 4.803725579282144 4.466606088141754 13438.0\n",
            "2300 4.649717514124294 4.7783572359843545 4.819643633202955 4.453715775749674 14060.0\n",
            "2400 4.628904623073719 4.770928779675136 4.815493544356518 4.456892961266139 14642.0\n"
          ],
          "name": "stdout"
        }
      ]
    },
    {
      "cell_type": "code",
      "metadata": {
        "id": "rIGdGhoGveGd",
        "colab_type": "code",
        "colab": {
          "base_uri": "https://localhost:8080/",
          "height": 296
        },
        "outputId": "8870f44f-75c9-469f-94d2-f8a7eebf84c6"
      },
      "source": [
        "plt.plot(regret_FTPL,'black',label='FTPL')\n",
        "plt.plot(regret_LRU,'green',label='LRU')\n",
        "plt.plot(regret_LFU,'blue',label='LFU')\n",
        "plt.plot(regret_LSTM,'red',label='LSTM')\n",
        "plt.xlabel('T')\n",
        "plt.ylabel('$ \\dfrac{R_T}{T}$')\n",
        "plt.legend()"
      ],
      "execution_count": 69,
      "outputs": [
        {
          "output_type": "execute_result",
          "data": {
            "text/plain": [
              "<matplotlib.legend.Legend at 0x7f36886883c8>"
            ]
          },
          "metadata": {
            "tags": []
          },
          "execution_count": 69
        },
        {
          "output_type": "display_data",
          "data": {
            "image/png": "[encoded data removed]",
            "text/plain": [
              "<Figure size 432x288 with 1 Axes>"
            ]
          },
          "metadata": {
            "tags": [],
            "needs_background": "light"
          }
        }
      ]
    },
    {
      "cell_type": "code",
      "metadata": {
        "id": "u33MS3DDT1CZ",
        "colab_type": "code",
        "outputId": "ab8389ef-36e0-408b-fa9b-74e6c7bb269d",
        "colab": {
          "base_uri": "https://localhost:8080/",
          "height": 296
        }
      },
      "source": [
        "plt.plot(hits_FTPL,'black',label='FTPL')\n",
        "plt.plot(hits_LRU,'green',label='LRU')\n",
        "plt.plot(hits_LFU,'blue',label='LFU')\n",
        "plt.plot(hits_LSTM,'red',label='LSTM')\n",
        "plt.xlabel('T')\n",
        "plt.ylabel('total hits')\n",
        "plt.legend()"
      ],
      "execution_count": 70,
      "outputs": [
        {
          "output_type": "execute_result",
          "data": {
            "text/plain": [
              "<matplotlib.legend.Legend at 0x7f3687da05f8>"
            ]
          },
          "metadata": {
            "tags": []
          },
          "execution_count": 70
        },
        {
          "output_type": "display_data",
          "data": {
            "image/png": "[encoded data removed]",
            "text/plain": [
              "<Figure size 432x288 with 1 Axes>"
            ]
          },
          "metadata": {
            "tags": [],
            "needs_background": "light"
          }
        }
      ]
    },
    {
      "cell_type": "markdown",
      "metadata": {
        "id": "BdHsz8OLbfRt",
        "colab_type": "text"
      },
      "source": [
        "\n",
        "\n",
        "I = 5 and J = 3"
      ]
    },
    {
      "cell_type": "code",
      "metadata": {
        "id": "2k2iUESfYkec",
        "colab_type": "code",
        "colab": {}
      },
      "source": [
        "I = 5\n",
        "J = 3\n",
        "degree = 2\n",
        "T = 2500"
      ],
      "execution_count": 0,
      "outputs": []
    },
    {
      "cell_type": "code",
      "metadata": {
        "id": "P6LK3SH5cVIs",
        "colab_type": "code",
        "colab": {}
      },
      "source": [
        "connection = np.zeros((I,J),dtype = int)\n",
        "j = 0\n",
        "for i in range(I):\n",
        "    x = 0\n",
        "    while x < degree:\n",
        "        connection[i,j] = 1\n",
        "        x += 1\n",
        "        j += 1\n",
        "        if j == J:\n",
        "          j = 0"
      ],
      "execution_count": 0,
      "outputs": []
    },
    {
      "cell_type": "code",
      "metadata": {
        "id": "UNmrOGVdccUk",
        "colab_type": "code",
        "outputId": "83818e66-0d59-4365-a653-3de96344b9d5",
        "colab": {
          "base_uri": "https://localhost:8080/",
          "height": 34
        }
      },
      "source": [
        "req = np.zeros((I,T),dtype = int)\n",
        "for i in range(I):\n",
        "  for j in range(T):\n",
        "    req[i,j] = req1[(i+1)*(j+1) - 1]\n",
        "req.shape"
      ],
      "execution_count": 73,
      "outputs": [
        {
          "output_type": "execute_result",
          "data": {
            "text/plain": [
              "(5, 2500)"
            ]
          },
          "metadata": {
            "tags": []
          },
          "execution_count": 73
        }
      ]
    },
    {
      "cell_type": "code",
      "metadata": {
        "id": "qrLF_GmicgHd",
        "colab_type": "code",
        "outputId": "4eb5143b-0e51-4b71-e71d-79a9dd8f36ca",
        "colab": {
          "base_uri": "https://localhost:8080/",
          "height": 34
        }
      },
      "source": [
        "gen_req = np.zeros((I,T),dtype = int)\n",
        "for i in range(I):\n",
        "  for j in range(T):\n",
        "    gen_req[i,j] = gen_req1[(i+1)*(j+1) - 1]\n",
        "gen_req.shape"
      ],
      "execution_count": 74,
      "outputs": [
        {
          "output_type": "execute_result",
          "data": {
            "text/plain": [
              "(5, 2500)"
            ]
          },
          "metadata": {
            "tags": []
          },
          "execution_count": 74
        }
      ]
    },
    {
      "cell_type": "code",
      "metadata": {
        "id": "Oke-J6xqgp0l",
        "colab_type": "code",
        "outputId": "c0bbd6d4-38cd-4ae9-c96f-9079fd446bea",
        "colab": {
          "base_uri": "https://localhost:8080/",
          "height": 437
        }
      },
      "source": [
        "y_LRU = np.zeros((J,N),dtype = float)\n",
        "y_LFU = np.zeros((J,N),dtype = float)\n",
        "y_FTPL = np.zeros((J,N),dtype = float)\n",
        "y_LSTM = np.zeros((J,N),dtype = float)\n",
        "y_LSTM[:,:C] = np.ones((J,C),dtype = float)\n",
        "y_FTPL[:,:C] = np.ones((J,C),dtype = float)\n",
        "y_LRU[:,:C] = np.ones((J,C),dtype = float)\n",
        "y_LFU[:,:C] = np.ones((J,C),dtype = float)\n",
        "\n",
        "count = np.zeros((N,I),dtype = float)\n",
        "regret_LRU =  np.zeros(T)\n",
        "regret_LFU =  np.zeros(T)\n",
        "regret_FTPL =  np.zeros(T)\n",
        "regret_LSTM = np.zeros(T)\n",
        "reward_LSTM =  np.zeros(T)\n",
        "reward_FTPL =  np.zeros(T)\n",
        "reward_LRU =  np.zeros(T)\n",
        "reward_LFU =  np.zeros(T)\n",
        "hits_FTPL =  []\n",
        "hits_LRU =  []\n",
        "hits_LFU =  []\n",
        "hits_LSTM = []\n",
        "hits_optimal = []\n",
        "\n",
        "\n",
        "req_time = np.zeros((N,I),dtype = float) \n",
        "req_time1 = np.zeros((N,I),dtype = float) \n",
        "\n",
        "for t in range(T):\n",
        "  x_t1 = np.zeros((N,I),dtype = int)\n",
        "  x_t = np.zeros((N,I),dtype = int)\n",
        "  for i in range(I):\n",
        "    x_t[req[i,t],i] += 1\n",
        "    x_t1[gen_req[i,t],i] += 1\n",
        "    count[int(req[i,t]),i] += 1\n",
        "    req_time[int(req[i,t]),i] = t+1\n",
        "    req_time1[int(gen_req[i,t]),i] = t+1\n",
        "  \n",
        "  ireward_LRU =  np.zeros(I)\n",
        "  ireward_LSTM =  np.zeros(I)\n",
        "  ireward_LFU =  np.zeros(I)\n",
        "  ireward_FTPL =  np.zeros(I)\n",
        "  \n",
        "  for i in range(I):\n",
        "    temp1 = np.zeros(N)\n",
        "    temp2 = np.zeros(N)\n",
        "    temp3 = np.zeros(N)\n",
        "    temp4 = np.zeros(N)\n",
        "    connected_cache = []\n",
        "    for j in range(J):\n",
        "      if connection[i,j] == 1:\n",
        "        connected_cache.append(j)\n",
        "    for k in range(len(connected_cache)):\n",
        "      temp1 += y_FTPL[connected_cache[k],:]\n",
        "      temp2 += y_LFU[connected_cache[k],:]\n",
        "      temp3 += y_LRU[connected_cache[k],:]\n",
        "      temp4 += y_LSTM[connected_cache[k],:]\n",
        "    ireward_FTPL[i] += np.dot(np.minimum(np.ones(N),temp1),x_t[:,i])\n",
        "    ireward_LFU[i] += np.dot(np.minimum(np.ones(N),temp2),x_t[:,i])\n",
        "    ireward_LRU[i] += np.dot(np.minimum(np.ones(N),temp3),x_t[:,i])\n",
        "    ireward_LSTM[i] += np.dot(np.minimum(np.ones(N),temp4),x_t1[:,i])\n",
        "\n",
        "  reward_FTPL[t] =  np.sum(ireward_FTPL)\n",
        "  reward_LRU[t] =  np.sum(ireward_LRU)\n",
        "  reward_LFU[t] =  np.sum(ireward_LFU)\n",
        "  reward_LSTM[t] =  np.sum(ireward_LSTM)\n",
        "  reward_LSTMc = np.sum(reward_LSTM)\n",
        "  reward_FTPLc = np.sum(reward_FTPL)\n",
        "  reward_LRUc = np.sum(reward_LRU)\n",
        "  reward_LFUc = np.sum(reward_LFU)\n",
        "  \n",
        "  y_LFU = LFU(y_LFU,x_t,count,connection)\n",
        "  y_LRU = LRU(y_LRU,x_t,req_time,connection)\n",
        "  y_LSTM = LRU(y_LSTM,x_t1,req_time1,connection)\n",
        "\n",
        "  eta = I*pow(4*pi*np.log(N*I),-.25)*pow(T/(J*degree*C),.5)\n",
        "  perturbed_count=per_count(eta,count)\n",
        "  y_FTPL = np.zeros((J,N),dtype = float)\n",
        "  y_opt = np.zeros((J,N),dtype = float)\n",
        "\n",
        "  for j in range(J):\n",
        "    max_opt = np.zeros(N)\n",
        "    for f in range(N):\n",
        "      y_opt[j,f] = 1\n",
        "      z_opt = np.zeros((I,N), dtype = float)\n",
        "      for i in range(I):\n",
        "        for k in range(J):\n",
        "          if connection[i,k] == 1:\n",
        "            z_opt[i] += y_opt[k]\n",
        "        z_opt[i] = np.minimum(np.ones(N),z_opt[i].reshape(N))\n",
        "        max_opt[f] += np.dot(z_opt[i],count[:,i]) \n",
        "      y_opt[j,f] = 0\n",
        "    f_opt = (-max_opt).argsort()[:C]\n",
        "    for k in range (C):\n",
        "      y_opt[j,f_opt[k]] = 1\n",
        "\n",
        "  for j in range(J):\n",
        "    max_FTPL = np.zeros(N)\n",
        "    for f in range(N):\n",
        "      y_FTPL[j,f] = 1\n",
        "      z_FTPL = np.zeros((I,N), dtype = float)\n",
        "      for i in range(I):\n",
        "        for k in range(J):\n",
        "          if connection[i,k] == 1:\n",
        "            z_FTPL[i] += y_FTPL[k]\n",
        "        z_FTPL[i] = np.minimum(np.ones(N),z_FTPL[i].reshape(N))\n",
        "      max_FTPL[f] += np.dot(z_FTPL[i],perturbed_count[:,i])  \n",
        "      y_FTPL[j,f] = 0\n",
        "    f_FTPL = (-max_FTPL).argsort()[:C]\n",
        "    for k in range (C):\n",
        "      y_FTPL[j,f_FTPL[k]] = 1\n",
        "    \n",
        "  #OPTIMAL\n",
        "  reward_optimal =  np.zeros(T)\n",
        "  for t1 in range(t+1):\n",
        "    x = np.zeros((N,I),dtype = int)\n",
        "    for i in range(I):\n",
        "      x[int(req[i,t1]),i] += 1\n",
        "      \n",
        "    ireward_optimal =  np.zeros(I)\n",
        "    for i in range(I):\n",
        "      connected_cache = []\n",
        "      for j in range(J):\n",
        "        if connection[i,j] == 1:\n",
        "          connected_cache.append(j)\n",
        "      otemp = np.zeros(N)  \n",
        "      for k in range(len(connected_cache)):\n",
        "        otemp += y_opt[connected_cache[k],:]  \n",
        "      ireward_optimal[i] += np.dot(np.minimum(np.ones(N),otemp),x[:,i])\n",
        "    \n",
        "    reward_optimal[t1] = np.sum(ireward_optimal)\n",
        "  reward_optimalc = np.sum(reward_optimal)\n",
        "\n",
        "\n",
        "  hits_optimal.append(reward_optimalc)  \n",
        "  hits_LRU.append(reward_LRUc)\n",
        "  hits_LFU.append(reward_LFUc)\n",
        "  hits_FTPL.append(reward_FTPLc)\n",
        "  hits_LSTM.append(reward_LSTMc)\n",
        "  regret_FTPL[t] = (reward_optimalc - reward_FTPLc)/(t+1)\n",
        "  regret_LFU[t] = (reward_optimalc - reward_LFUc)/(t+1)\n",
        "  regret_LRU[t] = (reward_optimalc - reward_LRUc)/(t+1)\n",
        "  regret_LSTM[t] = (reward_optimalc - reward_LSTMc)/(t+1)\n",
        "  if t %100 == 0:\n",
        "    print(t,regret_FTPL[t],regret_LFU[t],regret_LRU[t],regret_LSTM[t],reward_optimalc)"
      ],
      "execution_count": 75,
      "outputs": [
        {
          "output_type": "stream",
          "text": [
            "0 5.0 5.0 5.0 5.0 5.0\n",
            "100 0.6336633663366337 0.7722772277227723 0.7722772277227723 0.5742574257425742 124.0\n",
            "200 0.5174129353233831 0.5472636815920398 0.5920398009950248 0.417910447761194 206.0\n",
            "300 0.4219269102990033 0.4584717607973422 0.5182724252491694 0.3521594684385382 276.0\n",
            "400 0.38902743142144636 0.4538653366583541 0.48129675810473815 0.34663341645885287 349.0\n",
            "500 0.34331337325349304 0.4091816367265469 0.4471057884231537 0.2275449101796407 421.0\n",
            "600 0.3277870216306156 0.3810316139767055 0.40931780366056575 0.22628951747088186 490.0\n",
            "700 0.2967189728958631 0.340941512125535 0.37375178316690444 0.1840228245363766 547.0\n",
            "800 0.2746566791510612 0.3196004993757803 0.35830212234706615 0.18102372034956304 610.0\n",
            "900 0.2619311875693674 0.3118756936736959 0.3340732519422864 0.10321864594894561 666.0\n",
            "1000 0.24875124875124874 0.2937062937062937 0.3176823176823177 0.11488511488511488 731.0\n",
            "1100 0.23251589464123523 0.28792007266121705 0.3079019073569482 0.11171662125340599 795.0\n",
            "1200 0.23397169025811823 0.279766860949209 0.3047460449625312 0.10990840965861781 860.0\n",
            "1300 0.22059953881629515 0.28055342044581094 0.3059185242121445 0.11529592621060722 925.0\n",
            "1400 0.21770164168451106 0.2819414703783012 0.30620985010706636 0.08565310492505353 990.0\n",
            "1500 0.21185876082611593 0.2804796802131912 0.29980013324450366 0.09260493004663557 1056.0\n",
            "1600 0.2023735165521549 0.28044971892567144 0.2985633978763273 0.09618988132417239 1123.0\n",
            "1700 0.2004703115814227 0.27042915931804823 0.28512639623750735 0.08818342151675485 1178.0\n",
            "1800 0.20099944475291504 0.2787340366463076 0.2926152137701277 0.0694058856191005 1257.0\n",
            "1900 0.1893740136770121 0.27301420305102575 0.28826933193056287 0.07522356654392424 1308.0\n",
            "2000 0.18790604697651175 0.2748625687156422 0.2893553223388306 0.08395802098950525 1378.0\n",
            "2100 0.1865778200856735 0.2703474535935269 0.28510233222275105 0.0823417420276059 1445.0\n",
            "2200 0.18082689686506134 0.26624261699227625 0.28123580190822356 0.0813266696955929 1498.0\n",
            "2300 0.17644502390265102 0.26510212950890916 0.28118209474141675 0.0595393307257714 1556.0\n",
            "2400 0.1886713869221158 0.27696793002915454 0.29237817576009995 0.07663473552686381 1643.0\n"
          ],
          "name": "stdout"
        }
      ]
    },
    {
      "cell_type": "code",
      "metadata": {
        "id": "2_CbOoAhiYAy",
        "colab_type": "code",
        "colab": {
          "base_uri": "https://localhost:8080/",
          "height": 296
        },
        "outputId": "64743254-b53a-4a22-f41e-b49315828ea4"
      },
      "source": [
        "plt.plot(regret_FTPL,'black',label='FTPL')\n",
        "plt.plot(regret_LRU,'green',label='LRU')\n",
        "plt.plot(regret_LFU,'blue',label='LFU')\n",
        "plt.plot(regret_LSTM,'red',label='LSTM')\n",
        "plt.xlabel('T')\n",
        "plt.ylabel('$ \\dfrac{R_T}{T}$')\n",
        "plt.legend()"
      ],
      "execution_count": 76,
      "outputs": [
        {
          "output_type": "execute_result",
          "data": {
            "text/plain": [
              "<matplotlib.legend.Legend at 0x7f3687debc18>"
            ]
          },
          "metadata": {
            "tags": []
          },
          "execution_count": 76
        },
        {
          "output_type": "display_data",
          "data": {
            "image/png": "[encoded data removed]",
            "text/plain": [
              "<Figure size 432x288 with 1 Axes>"
            ]
          },
          "metadata": {
            "tags": [],
            "needs_background": "light"
          }
        }
      ]
    },
    {
      "cell_type": "code",
      "metadata": {
        "id": "2iv4C7Z09VGe",
        "colab_type": "code",
        "colab": {
          "base_uri": "https://localhost:8080/",
          "height": 296
        },
        "outputId": "5770d6f6-11cc-4c9c-f8d1-5e771b846780"
      },
      "source": [
        "plt.plot(hits_FTPL,'black',label='FTPL')\n",
        "plt.plot(hits_LRU,'green',label='LRU')\n",
        "plt.plot(hits_LFU,'blue',label='LFU')\n",
        "plt.plot(hits_LSTM,'red',label='LSTM')\n",
        "plt.xlabel('T')\n",
        "plt.ylabel('total hits')\n",
        "plt.legend()"
      ],
      "execution_count": 77,
      "outputs": [
        {
          "output_type": "execute_result",
          "data": {
            "text/plain": [
              "<matplotlib.legend.Legend at 0x7f3688847668>"
            ]
          },
          "metadata": {
            "tags": []
          },
          "execution_count": 77
        },
        {
          "output_type": "display_data",
          "data": {
            "image/png": "[encoded data removed]",
            "text/plain": [
              "<Figure size 432x288 with 1 Axes>"
            ]
          },
          "metadata": {
            "tags": [],
            "needs_background": "light"
          }
        }
      ]
    },
    {
      "cell_type": "code",
      "metadata": {
        "id": "0BUxR46t9YE8",
        "colab_type": "code",
        "colab": {}
      },
      "source": [
        ""
      ],
      "execution_count": 0,
      "outputs": []
    }
  ]
}