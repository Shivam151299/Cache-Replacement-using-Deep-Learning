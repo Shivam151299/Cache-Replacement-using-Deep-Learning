{
  "nbformat": 4,
  "nbformat_minor": 0,
  "metadata": {
    "colab": {
      "name": "Popularity prediction",
      "provenance": []
    },
    "kernelspec": {
      "name": "python3",
      "display_name": "Python 3"
    }
  },
  "cells": [
    {
      "cell_type": "code",
      "metadata": {
        "id": "hwluSTbYnuIQ",
        "colab_type": "code",
        "colab": {}
      },
      "source": [
        "from numpy import array\n",
        "import numpy as np\n",
        "from numpy import random\n",
        "from keras.models import Model\n",
        "from keras.layers import Input\n",
        "from keras.layers import LSTM\n",
        "from keras.layers import Dense\n",
        "from keras.optimizers import Adam\n",
        "%matplotlib inline"
      ],
      "execution_count": 1,
      "outputs": []
    },
    {
      "cell_type": "markdown",
      "metadata": {
        "id": "7zkdp1xHozgk",
        "colab_type": "text"
      },
      "source": [
        "DATA"
      ]
    },
    {
      "cell_type": "code",
      "metadata": {
        "id": "GCzc8mIhoA3X",
        "colab_type": "code",
        "colab": {}
      },
      "source": [
        "data = []\n",
        "with open('/content/drive/My Drive/cdn1_500m_sigmetrics18.tr' , errors='ignore' ) as fin:\n",
        "    fin.seek(0)\n",
        "    d = fin.read(100000000) "
      ],
      "execution_count": 2,
      "outputs": []
    },
    {
      "cell_type": "code",
      "metadata": {
        "id": "dXCDg6zKLkqc",
        "colab_type": "code",
        "colab": {
          "base_uri": "https://localhost:8080/",
          "height": 35
        },
        "outputId": "04643ded-c82e-4c8d-fba9-81c058903fe3"
      },
      "source": [
        "d[99999980:]"
      ],
      "execution_count": 3,
      "outputs": [
        {
          "output_type": "execute_result",
          "data": {
            "application/vnd.google.colaboratory.intrinsic+json": {
              "type": "string"
            },
            "text/plain": [
              "'9 881\\n4240754 388731'"
            ]
          },
          "metadata": {
            "tags": []
          },
          "execution_count": 3
        }
      ]
    },
    {
      "cell_type": "code",
      "metadata": {
        "id": "exT5bSzNoGAt",
        "colab_type": "code",
        "colab": {
          "base_uri": "https://localhost:8080/",
          "height": 185
        },
        "outputId": "c12c154f-1169-4073-c8d0-e5583ab4d37c"
      },
      "source": [
        "#Spliting the continous sequence\n",
        "data = d.split()\n",
        "data[:10]"
      ],
      "execution_count": 4,
      "outputs": [
        {
          "output_type": "execute_result",
          "data": {
            "text/plain": [
              "['1',\n",
              " '778030675',\n",
              " '13539',\n",
              " '2',\n",
              " '3484637698',\n",
              " '17635',\n",
              " '3',\n",
              " '1130267045',\n",
              " '152',\n",
              " '4']"
            ]
          },
          "metadata": {
            "tags": []
          },
          "execution_count": 4
        }
      ]
    },
    {
      "cell_type": "code",
      "metadata": {
        "id": "vIlc5xD5oIRD",
        "colab_type": "code",
        "colab": {
          "base_uri": "https://localhost:8080/",
          "height": 34
        },
        "outputId": "7666ff63-1fa0-48a6-b0b5-ebb1a5a29acf"
      },
      "source": [
        "del d\n",
        "len(data)"
      ],
      "execution_count": 5,
      "outputs": [
        {
          "output_type": "execute_result",
          "data": {
            "text/plain": [
              "12722261"
            ]
          },
          "metadata": {
            "tags": []
          },
          "execution_count": 5
        }
      ]
    },
    {
      "cell_type": "code",
      "metadata": {
        "id": "V5CoFsl9K7po",
        "colab_type": "code",
        "colab": {
          "base_uri": "https://localhost:8080/",
          "height": 34
        },
        "outputId": "01f86af7-d2cd-4278-c19c-5a4411dcacfd"
      },
      "source": [
        "#We are interested in number of request and request id.\n",
        "req = []\n",
        "for i in range(len(data)):\n",
        "  if (i-1)%3 == 0:\n",
        "    req.append(int(data[i]))\n",
        "    #To convert string into real numbers. \n",
        "\n",
        "req = np.array(req[:2001000])\n",
        "req.shape"
      ],
      "execution_count": 6,
      "outputs": [
        {
          "output_type": "execute_result",
          "data": {
            "text/plain": [
              "(2001000,)"
            ]
          },
          "metadata": {
            "tags": []
          },
          "execution_count": 6
        }
      ]
    },
    {
      "cell_type": "code",
      "metadata": {
        "id": "IF16v8oyQLUy",
        "colab_type": "code",
        "colab": {
          "base_uri": "https://localhost:8080/",
          "height": 34
        },
        "outputId": "5d6d323d-e6dd-43fd-d4f7-d291d29eaa5d"
      },
      "source": [
        "np.min(req),np.max(req)"
      ],
      "execution_count": 7,
      "outputs": [
        {
          "output_type": "execute_result",
          "data": {
            "text/plain": [
              "(2301, 4294966263)"
            ]
          },
          "metadata": {
            "tags": []
          },
          "execution_count": 7
        }
      ]
    },
    {
      "cell_type": "code",
      "metadata": {
        "id": "qz2wQM7OoLW5",
        "colab_type": "code",
        "colab": {
          "base_uri": "https://localhost:8080/",
          "height": 34
        },
        "outputId": "2b829786-8253-46f4-a353-4d9e390c3d64"
      },
      "source": [
        "id, req1 = np.unique(req, return_inverse= True)\n",
        "print(len(id))"
      ],
      "execution_count": 8,
      "outputs": [
        {
          "output_type": "stream",
          "text": [
            "762195\n"
          ],
          "name": "stdout"
        }
      ]
    },
    {
      "cell_type": "code",
      "metadata": {
        "id": "yOstRzJHoNWJ",
        "colab_type": "code",
        "colab": {
          "base_uri": "https://localhost:8080/",
          "height": 34
        },
        "outputId": "ab10f4d1-f86d-40bb-f994-9925286dd19f"
      },
      "source": [
        "#To find the range of request id\n",
        "min = np.min(req1)\n",
        "max = np.max(req1)\n",
        "min,max"
      ],
      "execution_count": 9,
      "outputs": [
        {
          "output_type": "execute_result",
          "data": {
            "text/plain": [
              "(0, 762194)"
            ]
          },
          "metadata": {
            "tags": []
          },
          "execution_count": 9
        }
      ]
    },
    {
      "cell_type": "code",
      "metadata": {
        "id": "vYUKWiZYoO-u",
        "colab_type": "code",
        "colab": {
          "base_uri": "https://localhost:8080/",
          "height": 34
        },
        "outputId": "afa67699-6134-4086-aba1-80707d996080"
      },
      "source": [
        "# To reduce total numbers of ID\n",
        "id = 100\n",
        "factor = (max - min)/(id-1)\n",
        "req = np.zeros(len(req1))\n",
        "for i in range(len(req1)):\n",
        "  req[i] = int(req1[i]/factor)\n",
        "req.shape"
      ],
      "execution_count": 10,
      "outputs": [
        {
          "output_type": "execute_result",
          "data": {
            "text/plain": [
              "(2001000,)"
            ]
          },
          "metadata": {
            "tags": []
          },
          "execution_count": 10
        }
      ]
    },
    {
      "cell_type": "code",
      "metadata": {
        "id": "ZD9D9_QqbXeV",
        "colab_type": "code",
        "colab": {
          "base_uri": "https://localhost:8080/",
          "height": 34
        },
        "outputId": "eccbdbab-0467-44dc-84e2-e824ef48ddfc"
      },
      "source": [
        "np.min(req),np.max(req)"
      ],
      "execution_count": 11,
      "outputs": [
        {
          "output_type": "execute_result",
          "data": {
            "text/plain": [
              "(0.0, 99.0)"
            ]
          },
          "metadata": {
            "tags": []
          },
          "execution_count": 11
        }
      ]
    },
    {
      "cell_type": "code",
      "metadata": {
        "id": "jKSqYavHfQB1",
        "colab_type": "code",
        "colab": {}
      },
      "source": [
        "window = 1000"
      ],
      "execution_count": 12,
      "outputs": []
    },
    {
      "cell_type": "code",
      "metadata": {
        "id": "QvxyeZjroWb1",
        "colab_type": "code",
        "colab": {
          "base_uri": "https://localhost:8080/",
          "height": 34
        },
        "outputId": "5d807aa9-dc12-480e-9034-214b6aa1a86a"
      },
      "source": [
        "count = np.zeros((id),int)\n",
        "for i in range(window):\n",
        "    count[int(req[i])] += 1\n",
        "count.shape"
      ],
      "execution_count": 13,
      "outputs": [
        {
          "output_type": "execute_result",
          "data": {
            "text/plain": [
              "(100,)"
            ]
          },
          "metadata": {
            "tags": []
          },
          "execution_count": 13
        }
      ]
    },
    {
      "cell_type": "code",
      "metadata": {
        "id": "w5oAFVTfoZ6N",
        "colab_type": "code",
        "colab": {}
      },
      "source": [
        "prob = np.zeros((len(req)-window,id), dtype = 'f4')"
      ],
      "execution_count": 14,
      "outputs": []
    },
    {
      "cell_type": "code",
      "metadata": {
        "id": "PEU_k5Ugobce",
        "colab_type": "code",
        "colab": {}
      },
      "source": [
        "for i in range(len(req)-window):\n",
        "  count[int(req[i+window])] += 1\n",
        "  count[int(req[i])] -= 1\n",
        "  prob[i] = count/window"
      ],
      "execution_count": 15,
      "outputs": []
    },
    {
      "cell_type": "code",
      "metadata": {
        "id": "ZYZIfTFFmL6z",
        "colab_type": "code",
        "colab": {
          "base_uri": "https://localhost:8080/",
          "height": 34
        },
        "outputId": "c942e1ec-7e9d-43a3-db7f-ebb572fdc515"
      },
      "source": [
        "prob.shape"
      ],
      "execution_count": 16,
      "outputs": [
        {
          "output_type": "execute_result",
          "data": {
            "text/plain": [
              "(2000000, 100)"
            ]
          },
          "metadata": {
            "tags": []
          },
          "execution_count": 16
        }
      ]
    },
    {
      "cell_type": "code",
      "metadata": {
        "id": "OEmziDjPodHm",
        "colab_type": "code",
        "colab": {}
      },
      "source": [
        "del req1, data"
      ],
      "execution_count": 17,
      "outputs": []
    },
    {
      "cell_type": "code",
      "metadata": {
        "id": "SXqoPlg_1RhI",
        "colab_type": "code",
        "colab": {
          "base_uri": "https://localhost:8080/",
          "height": 34
        },
        "outputId": "9a66f9eb-87c4-422a-dc0a-140b7a74704a"
      },
      "source": [
        "sample = 100\n",
        "K = 10\n",
        "l = 1000000\n",
        "batch_size = int(l/sample)\n",
        "encoder_input_data = prob[:l,:].reshape(sample,-1,id) # total samples = 100\n",
        "decoder_target_data = []\n",
        "for i in range(sample):\n",
        "    temp = []\n",
        "    for j in range(K): # to predict next 10 req for every batch\n",
        "        temp.append(prob[int((batch_size*i) + j),:])\n",
        "    decoder_target_data.append(temp)    \n",
        "decoder_target_data = np.array(decoder_target_data).reshape(sample,K,id)\n",
        "\n",
        "print(encoder_input_data.shape,decoder_target_data.shape)"
      ],
      "execution_count": 18,
      "outputs": [
        {
          "output_type": "stream",
          "text": [
            "(100, 10000, 100) (100, 10, 100)\n"
          ],
          "name": "stdout"
        }
      ]
    },
    {
      "cell_type": "code",
      "metadata": {
        "id": "P5IGggDoohgC",
        "colab_type": "code",
        "colab": {
          "base_uri": "https://localhost:8080/",
          "height": 34
        },
        "outputId": "d0e885ba-e675-4c75-c857-71c8fb9695a1"
      },
      "source": [
        "decoder_input_data = np.zeros(decoder_target_data.shape)\n",
        "decoder_input_data[1:,:,:] = decoder_target_data[:-1,:,:]\n",
        "decoder_input_data[0,:,:] = encoder_input_data[-1,-1,:]\n",
        "decoder_input_data.shape"
      ],
      "execution_count": 19,
      "outputs": [
        {
          "output_type": "execute_result",
          "data": {
            "text/plain": [
              "(100, 10, 100)"
            ]
          },
          "metadata": {
            "tags": []
          },
          "execution_count": 19
        }
      ]
    },
    {
      "cell_type": "markdown",
      "metadata": {
        "id": "9so2j5Meoxjt",
        "colab_type": "text"
      },
      "source": [
        "MODEL"
      ]
    },
    {
      "cell_type": "code",
      "metadata": {
        "id": "7n6F4Zi7ojwS",
        "colab_type": "code",
        "colab": {}
      },
      "source": [
        "latent_dim = 100 # LSTM hidden units\n",
        "dropout = 0.1"
      ],
      "execution_count": 20,
      "outputs": []
    },
    {
      "cell_type": "code",
      "metadata": {
        "id": "E3Hh5kopoljB",
        "colab_type": "code",
        "colab": {
          "base_uri": "https://localhost:8080/",
          "height": 353
        },
        "outputId": "a8869d2a-90ea-400d-b6dc-ca766a5455f4"
      },
      "source": [
        "encoder_inputs = Input(shape=(None, id)) \n",
        "encoder = LSTM(latent_dim, dropout=dropout, return_state=True)\n",
        "encoder_outputs, state_h, state_c = encoder(encoder_inputs)\n",
        "encoder_states = [state_h, state_c]\n",
        "\n",
        "decoder_inputs = Input(shape=(None, id)) \n",
        "decoder_lstm = LSTM(latent_dim, dropout=dropout, return_sequences=True, return_state=True)\n",
        "decoder_outputs, _, _ = decoder_lstm(decoder_inputs,initial_state=encoder_states)\n",
        "decoder_outputs = Dense(id, activation='softmax')(decoder_outputs)\n",
        "model = Model([encoder_inputs, decoder_inputs], decoder_outputs)\n",
        "model.summary()"
      ],
      "execution_count": 21,
      "outputs": [
        {
          "output_type": "stream",
          "text": [
            "Model: \"functional_1\"\n",
            "__________________________________________________________________________________________________\n",
            "Layer (type)                    Output Shape         Param #     Connected to                     \n",
            "==================================================================================================\n",
            "input_1 (InputLayer)            [(None, None, 100)]  0                                            \n",
            "__________________________________________________________________________________________________\n",
            "input_2 (InputLayer)            [(None, None, 100)]  0                                            \n",
            "__________________________________________________________________________________________________\n",
            "lstm (LSTM)                     [(None, 100), (None, 80400       input_1[0][0]                    \n",
            "__________________________________________________________________________________________________\n",
            "lstm_1 (LSTM)                   [(None, None, 100),  80400       input_2[0][0]                    \n",
            "                                                                 lstm[0][1]                       \n",
            "                                                                 lstm[0][2]                       \n",
            "__________________________________________________________________________________________________\n",
            "dense (Dense)                   (None, None, 100)    10100       lstm_1[0][0]                     \n",
            "==================================================================================================\n",
            "Total params: 170,900\n",
            "Trainable params: 170,900\n",
            "Non-trainable params: 0\n",
            "__________________________________________________________________________________________________\n"
          ],
          "name": "stdout"
        }
      ]
    },
    {
      "cell_type": "code",
      "metadata": {
        "id": "HYutO5IKom6x",
        "colab_type": "code",
        "colab": {
          "base_uri": "https://localhost:8080/",
          "height": 1000
        },
        "outputId": "c42fdc2c-6f02-4046-c87a-c41674fe73bd"
      },
      "source": [
        "model.compile(Adam(), loss='mean_squared_error')\n",
        "history = model.fit([encoder_input_data, decoder_input_data], decoder_target_data,batch_size=1,epochs=30)"
      ],
      "execution_count": 22,
      "outputs": [
        {
          "output_type": "stream",
          "text": [
            "Epoch 1/30\n",
            "100/100 [==============================] - 464s 5s/step - loss: 1.2217e-05\n",
            "Epoch 2/30\n",
            "100/100 [==============================] - 463s 5s/step - loss: 1.1131e-05\n",
            "Epoch 3/30\n",
            "100/100 [==============================] - 462s 5s/step - loss: 1.0395e-05\n",
            "Epoch 4/30\n",
            "100/100 [==============================] - 462s 5s/step - loss: 1.0097e-05\n",
            "Epoch 5/30\n",
            "100/100 [==============================] - 462s 5s/step - loss: 9.9928e-06\n",
            "Epoch 6/30\n",
            "100/100 [==============================] - 462s 5s/step - loss: 9.9539e-06\n",
            "Epoch 7/30\n",
            "100/100 [==============================] - 461s 5s/step - loss: 9.9287e-06\n",
            "Epoch 8/30\n",
            "100/100 [==============================] - 462s 5s/step - loss: 9.9234e-06\n",
            "Epoch 9/30\n",
            "100/100 [==============================] - 462s 5s/step - loss: 9.9101e-06\n",
            "Epoch 10/30\n",
            "100/100 [==============================] - 462s 5s/step - loss: 9.8991e-06\n",
            "Epoch 11/30\n",
            "100/100 [==============================] - 464s 5s/step - loss: 9.8966e-06\n",
            "Epoch 12/30\n",
            "100/100 [==============================] - 462s 5s/step - loss: 9.8900e-06\n",
            "Epoch 13/30\n",
            "100/100 [==============================] - 463s 5s/step - loss: 9.8947e-06\n",
            "Epoch 14/30\n",
            "100/100 [==============================] - 462s 5s/step - loss: 9.8886e-06\n",
            "Epoch 15/30\n",
            "100/100 [==============================] - 463s 5s/step - loss: 9.8978e-06\n",
            "Epoch 16/30\n",
            "100/100 [==============================] - 465s 5s/step - loss: 9.8830e-06\n",
            "Epoch 17/30\n",
            "100/100 [==============================] - 462s 5s/step - loss: 9.8811e-06\n",
            "Epoch 18/30\n",
            "100/100 [==============================] - 463s 5s/step - loss: 9.8700e-06\n",
            "Epoch 19/30\n",
            "100/100 [==============================] - 463s 5s/step - loss: 9.8700e-06\n",
            "Epoch 20/30\n",
            "100/100 [==============================] - 470s 5s/step - loss: 9.8731e-06\n",
            "Epoch 21/30\n",
            "100/100 [==============================] - 466s 5s/step - loss: 9.8747e-06\n",
            "Epoch 22/30\n",
            "100/100 [==============================] - 465s 5s/step - loss: 9.8604e-06\n",
            "Epoch 23/30\n",
            "100/100 [==============================] - 466s 5s/step - loss: 9.8689e-06\n",
            "Epoch 24/30\n",
            "100/100 [==============================] - 464s 5s/step - loss: 9.8581e-06\n",
            "Epoch 25/30\n",
            "100/100 [==============================] - 467s 5s/step - loss: 9.8553e-06\n",
            "Epoch 26/30\n",
            "100/100 [==============================] - 465s 5s/step - loss: 9.8447e-06\n",
            "Epoch 27/30\n",
            "100/100 [==============================] - 466s 5s/step - loss: 9.8565e-06\n",
            "Epoch 28/30\n",
            "100/100 [==============================] - 466s 5s/step - loss: 9.8493e-06\n",
            "Epoch 29/30\n",
            "100/100 [==============================] - 466s 5s/step - loss: 9.8439e-06\n",
            "Epoch 30/30\n",
            "100/100 [==============================] - 466s 5s/step - loss: 9.8530e-06\n"
          ],
          "name": "stdout"
        }
      ]
    },
    {
      "cell_type": "markdown",
      "metadata": {
        "id": "N2iC30YYotAE",
        "colab_type": "text"
      },
      "source": [
        "FUTURE REQUEST PREDICTION"
      ]
    },
    {
      "cell_type": "code",
      "metadata": {
        "id": "1LQFJ-OKopQU",
        "colab_type": "code",
        "colab": {}
      },
      "source": [
        "encoder_model = Model(encoder_inputs, encoder_states)\n",
        "pred_steps = K\n",
        "\n",
        "decoder_state_input_h = Input(shape=(latent_dim,))\n",
        "decoder_state_input_c = Input(shape=(latent_dim,))\n",
        "decoder_states_inputs = [decoder_state_input_h, decoder_state_input_c]\n",
        "\n",
        "decoder_outputs, state_h, state_c = decoder_lstm(decoder_inputs, initial_state=decoder_states_inputs)\n",
        "decoder_states = [state_h, state_c]\n",
        "\n",
        "decoder_outputs = Dense(id, activation='softmax')(decoder_outputs)\n",
        "decoder_model = Model([decoder_inputs] + decoder_states_inputs,\n",
        "                      [decoder_outputs] + decoder_states)"
      ],
      "execution_count": 23,
      "outputs": []
    },
    {
      "cell_type": "code",
      "metadata": {
        "id": "Dik8yZZMorji",
        "colab_type": "code",
        "colab": {}
      },
      "source": [
        "def decode_sequence(input_seq):\n",
        "    \n",
        "    # Encode the input as state vectors.\n",
        "    states_value = encoder_model.predict(input_seq)\n",
        "\n",
        "    # Generate empty target sequence of length 1.\n",
        "    target_seq = np.zeros((1, 1, id))\n",
        "    \n",
        "    # Populate the first target sequence with end of encoding series pageviews\n",
        "    target_seq[0, 0, :] = input_seq[0, -1, :]\n",
        "\n",
        "    # Sampling loop for a batch of sequences - we will fill decoded_seq with predictions\n",
        "    # (to simplify, here we assume a batch of size 1).\n",
        "\n",
        "    decoded_seq = np.zeros((1,pred_steps,id))\n",
        "    for i in range(pred_steps):\n",
        "        \n",
        "        output, h, c = decoder_model.predict([target_seq] + states_value)\n",
        "        \n",
        "        decoded_seq[0,i,:] = output[0,0,:]\n",
        "\n",
        "        # Update the target sequence (of length 1).\n",
        "        target_seq = np.zeros((1, 1, id))\n",
        "        target_seq[0, 0, :] = output[0,0,:]\n",
        "\n",
        "        # Update states\n",
        "        states_value = [h, c]\n",
        "\n",
        "    return decoded_seq"
      ],
      "execution_count": 24,
      "outputs": []
    },
    {
      "cell_type": "code",
      "metadata": {
        "id": "MDeeF1X1o3gh",
        "colab_type": "code",
        "colab": {
          "base_uri": "https://localhost:8080/",
          "height": 34
        },
        "outputId": "8d19eff4-2d49-470f-e68c-3436563ed1d2"
      },
      "source": [
        "n = int((len(prob) - batch_size)/5000)\n",
        "n"
      ],
      "execution_count": 25,
      "outputs": [
        {
          "output_type": "execute_result",
          "data": {
            "text/plain": [
              "398"
            ]
          },
          "metadata": {
            "tags": []
          },
          "execution_count": 25
        }
      ]
    },
    {
      "cell_type": "code",
      "metadata": {
        "id": "u-B8yoHLo6MZ",
        "colab_type": "code",
        "colab": {
          "base_uri": "https://localhost:8080/",
          "height": 101
        },
        "outputId": "f588a986-52e2-4e4a-cbfe-0b6cb63e5f29"
      },
      "source": [
        "prediction = []\n",
        "for i in range(5000):\n",
        "    if i%1000 == 0:\n",
        "        print(i)\n",
        "    prediction.append(decode_sequence(prob[i*n:i*n + batch_size,:].reshape(1,batch_size,id)))"
      ],
      "execution_count": 26,
      "outputs": [
        {
          "output_type": "stream",
          "text": [
            "0\n",
            "1000\n",
            "2000\n",
            "3000\n",
            "4000\n"
          ],
          "name": "stdout"
        }
      ]
    },
    {
      "cell_type": "code",
      "metadata": {
        "id": "wxXw6JoCo71Q",
        "colab_type": "code",
        "colab": {
          "base_uri": "https://localhost:8080/",
          "height": 34
        },
        "outputId": "13e1aa2b-e343-4d78-c19a-a05ef47a7364"
      },
      "source": [
        "prediction = np.array(prediction).reshape(5000,K,id)\n",
        "prediction.shape"
      ],
      "execution_count": 27,
      "outputs": [
        {
          "output_type": "execute_result",
          "data": {
            "text/plain": [
              "(5000, 10, 100)"
            ]
          },
          "metadata": {
            "tags": []
          },
          "execution_count": 27
        }
      ]
    },
    {
      "cell_type": "markdown",
      "metadata": {
        "id": "RDfL2ubwpAex",
        "colab_type": "text"
      },
      "source": [
        "GENERATION OF FAKE REQUESTS"
      ]
    },
    {
      "cell_type": "code",
      "metadata": {
        "id": "GHhr_3doo-Bd",
        "colab_type": "code",
        "colab": {
          "base_uri": "https://localhost:8080/",
          "height": 34
        },
        "outputId": "60e6743c-6526-47be-c68d-6146c0e8729b"
      },
      "source": [
        "fake_req = []\n",
        "for i in range(5000):\n",
        "    temp1 = []\n",
        "    for j in range(K):\n",
        "        temp = []\n",
        "        for k in range(id):\n",
        "             temp = (-prediction[i,j]).argsort()[:5]\n",
        "        for k in range(5):\n",
        "            temp1.append(temp[k]) \n",
        "    fake_req.append(temp1)        \n",
        "fake_req = np.array(fake_req) \n",
        "fake_req.shape"
      ],
      "execution_count": 28,
      "outputs": [
        {
          "output_type": "execute_result",
          "data": {
            "text/plain": [
              "(5000, 50)"
            ]
          },
          "metadata": {
            "tags": []
          },
          "execution_count": 28
        }
      ]
    },
    {
      "cell_type": "code",
      "metadata": {
        "id": "qvauvpbc72t-",
        "colab_type": "code",
        "colab": {
          "base_uri": "https://localhost:8080/",
          "height": 34
        },
        "outputId": "3d6e8173-fa5b-49e8-cc31-9b3ae3b0464e"
      },
      "source": [
        "len(req) + 5000*50"
      ],
      "execution_count": 29,
      "outputs": [
        {
          "output_type": "execute_result",
          "data": {
            "text/plain": [
              "2251000"
            ]
          },
          "metadata": {
            "tags": []
          },
          "execution_count": 29
        }
      ]
    },
    {
      "cell_type": "code",
      "metadata": {
        "id": "49h9F8AwpFoc",
        "colab_type": "code",
        "colab": {
          "base_uri": "https://localhost:8080/",
          "height": 34
        },
        "outputId": "07217e3c-85c4-4cfb-c4ef-76ca203719aa"
      },
      "source": [
        "gen_req = []\n",
        "for i in range(batch_size):\n",
        "    gen_req.append(req[i])\n",
        "for i in range(50):\n",
        "    gen_req.append(fake_req[0][i])\n",
        "for i in range(5000):\n",
        "    for j in range(n + 51):\n",
        "        if j <= n:\n",
        "            gen_req.append(req[batch_size + j + n*i])\n",
        "        elif(i>0):\n",
        "            gen_req.append(fake_req[i-1,j-n-1])\n",
        "gen_req = np.array(gen_req)\n",
        "gen_req.shape"
      ],
      "execution_count": 30,
      "outputs": [
        {
          "output_type": "execute_result",
          "data": {
            "text/plain": [
              "(2255000,)"
            ]
          },
          "metadata": {
            "tags": []
          },
          "execution_count": 30
        }
      ]
    },
    {
      "cell_type": "code",
      "metadata": {
        "id": "kAGlVrIfpJtT",
        "colab_type": "code",
        "colab": {
          "base_uri": "https://localhost:8080/",
          "height": 34
        },
        "outputId": "9678a192-2dc6-4cfb-965a-911bb3b7db3a"
      },
      "source": [
        "req.shape"
      ],
      "execution_count": 32,
      "outputs": [
        {
          "output_type": "execute_result",
          "data": {
            "text/plain": [
              "(2001000,)"
            ]
          },
          "metadata": {
            "tags": []
          },
          "execution_count": 32
        }
      ]
    },
    {
      "cell_type": "code",
      "metadata": {
        "id": "o3Z9fAhypbxb",
        "colab_type": "code",
        "colab": {}
      },
      "source": [
        "np.save('req',req)\n",
        "np.save('gen_req',gen_req)"
      ],
      "execution_count": 33,
      "outputs": []
    },
    {
      "cell_type": "code",
      "metadata": {
        "id": "IISL5VC0J_Zr",
        "colab_type": "code",
        "colab": {}
      },
      "source": [
        ""
      ],
      "execution_count": null,
      "outputs": []
    }
  ]
}