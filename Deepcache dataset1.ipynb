{
 "cells": [
  {
   "cell_type": "code",
   "execution_count": 1,
   "metadata": {},
   "outputs": [
    {
     "name": "stderr",
     "output_type": "stream",
     "text": [
      "Using TensorFlow backend.\n"
     ]
    }
   ],
   "source": [
    "import pandas as pd\n",
    "import numpy as np\n",
    "import matplotlib.pyplot as plt\n",
    "%matplotlib inline\n",
    "from keras.models import Model\n",
    "from keras.layers import Input, LSTM, Dense\n",
    "from keras.optimizers import Adam\n",
    "\n",
    "import seaborn as sns\n",
    "sns.set()"
   ]
  },
  {
   "cell_type": "markdown",
   "metadata": {},
   "source": [
    "# Data"
   ]
  },
  {
   "cell_type": "code",
   "execution_count": 2,
   "metadata": {},
   "outputs": [
    {
     "data": {
      "text/html": [
       "<div>\n",
       "<style scoped>\n",
       "    .dataframe tbody tr th:only-of-type {\n",
       "        vertical-align: middle;\n",
       "    }\n",
       "\n",
       "    .dataframe tbody tr th {\n",
       "        vertical-align: top;\n",
       "    }\n",
       "\n",
       "    .dataframe thead th {\n",
       "        text-align: right;\n",
       "    }\n",
       "</style>\n",
       "<table border=\"1\" class=\"dataframe\">\n",
       "  <thead>\n",
       "    <tr style=\"text-align: right;\">\n",
       "      <th></th>\n",
       "      <th>object_ID</th>\n",
       "      <th>request_time</th>\n",
       "    </tr>\n",
       "  </thead>\n",
       "  <tbody>\n",
       "    <tr>\n",
       "      <td>0</td>\n",
       "      <td>5</td>\n",
       "      <td>2.961472</td>\n",
       "    </tr>\n",
       "    <tr>\n",
       "      <td>1</td>\n",
       "      <td>25</td>\n",
       "      <td>3.274127</td>\n",
       "    </tr>\n",
       "    <tr>\n",
       "      <td>2</td>\n",
       "      <td>2</td>\n",
       "      <td>3.785475</td>\n",
       "    </tr>\n",
       "    <tr>\n",
       "      <td>3</td>\n",
       "      <td>2</td>\n",
       "      <td>4.455687</td>\n",
       "    </tr>\n",
       "    <tr>\n",
       "      <td>4</td>\n",
       "      <td>4</td>\n",
       "      <td>5.288994</td>\n",
       "    </tr>\n",
       "  </tbody>\n",
       "</table>\n",
       "</div>"
      ],
      "text/plain": [
       "   object_ID  request_time\n",
       "0          5      2.961472\n",
       "1         25      3.274127\n",
       "2          2      3.785475\n",
       "3          2      4.455687\n",
       "4          4      5.288994"
      ]
     },
     "execution_count": 2,
     "metadata": {},
     "output_type": "execute_result"
    }
   ],
   "source": [
    "data = pd.read_csv('D:/IITM/DeepCache/synthetic dataset/syntheticDataset_O50.csv')\n",
    "data.head()"
   ]
  },
  {
   "cell_type": "code",
   "execution_count": 3,
   "metadata": {},
   "outputs": [
    {
     "data": {
      "text/plain": [
       "292146"
      ]
     },
     "execution_count": 3,
     "metadata": {},
     "output_type": "execute_result"
    }
   ],
   "source": [
    "data = np.array(data)\n",
    "req = data[:,0]\n",
    "\n",
    "len(data)"
   ]
  },
  {
   "cell_type": "code",
   "execution_count": 4,
   "metadata": {},
   "outputs": [
    {
     "data": {
      "text/plain": [
       "(291146, 50)"
      ]
     },
     "execution_count": 4,
     "metadata": {},
     "output_type": "execute_result"
    }
   ],
   "source": [
    "# to find the probability of occurrence of Oi object is caculated as Ni/1000\n",
    "# where Ni is number of occurrence of Oi in past 1k req\n",
    "\n",
    "#First find the frequency of each object in initial 1k requests.\n",
    "count = np.zeros(50)\n",
    "for i in range(1000):\n",
    "    for j in range(50):\n",
    "        if req[i] == j+1:\n",
    "            count[j] += 1\n",
    "\n",
    "# Then update count for each coming requests\n",
    "prob = []            \n",
    "for i in range(1000,len(req)):\n",
    "    t = int(req[i] - 1)\n",
    "    count[t] += 1\n",
    "    t = int(req[i-1000] - 1)\n",
    "    count[t] -= 1\n",
    "    prob.append(count/1000) # normalize frequency\n",
    "\n",
    "prob = np.array(prob)\n",
    "prob.shape"
   ]
  },
  {
   "cell_type": "code",
   "execution_count": 5,
   "metadata": {},
   "outputs": [
    {
     "name": "stdout",
     "output_type": "stream",
     "text": [
      "(20, 10000, 50) (20, 10, 50)\n"
     ]
    }
   ],
   "source": [
    "encoder_input_data = prob[:200000,:].reshape(20,-1,50) # total samples = 20\n",
    "batch_size = 10000\n",
    "decoder_target_data = []\n",
    "for i in range(1,21):\n",
    "    temp = []\n",
    "    for j in range(10): # to predict next 10 req for every batch\n",
    "        temp.append(prob[(batch_size*i) + j,:])\n",
    "    decoder_target_data.append(temp)    \n",
    "\n",
    "decoder_target_data = np.array(decoder_target_data).reshape(20,10,-1)\n",
    "\n",
    "print(encoder_input_data.shape,decoder_target_data.shape)"
   ]
  },
  {
   "cell_type": "code",
   "execution_count": 6,
   "metadata": {},
   "outputs": [
    {
     "data": {
      "text/plain": [
       "(20, 10, 50)"
      ]
     },
     "execution_count": 6,
     "metadata": {},
     "output_type": "execute_result"
    }
   ],
   "source": [
    "decoder_input_data = np.zeros(decoder_target_data.shape)\n",
    "decoder_input_data[1:,:,:] = decoder_target_data[:-1,:,:]\n",
    "decoder_input_data[0,:,:] = encoder_input_data[-1,-1,:]\n",
    "decoder_input_data.shape"
   ]
  },
  {
   "cell_type": "markdown",
   "metadata": {},
   "source": [
    "# Model"
   ]
  },
  {
   "cell_type": "code",
   "execution_count": 7,
   "metadata": {},
   "outputs": [],
   "source": [
    "latent_dim = 128 # LSTM hidden units\n",
    "dropout = 0.1"
   ]
  },
  {
   "cell_type": "code",
   "execution_count": 8,
   "metadata": {},
   "outputs": [
    {
     "name": "stdout",
     "output_type": "stream",
     "text": [
      "WARNING:tensorflow:From C:\\Users\\ACER\\Anaconda3\\lib\\site-packages\\keras\\backend\\tensorflow_backend.py:74: The name tf.get_default_graph is deprecated. Please use tf.compat.v1.get_default_graph instead.\n",
      "\n",
      "WARNING:tensorflow:From C:\\Users\\ACER\\Anaconda3\\lib\\site-packages\\keras\\backend\\tensorflow_backend.py:517: The name tf.placeholder is deprecated. Please use tf.compat.v1.placeholder instead.\n",
      "\n",
      "WARNING:tensorflow:From C:\\Users\\ACER\\Anaconda3\\lib\\site-packages\\keras\\backend\\tensorflow_backend.py:4138: The name tf.random_uniform is deprecated. Please use tf.random.uniform instead.\n",
      "\n",
      "WARNING:tensorflow:From C:\\Users\\ACER\\Anaconda3\\lib\\site-packages\\keras\\backend\\tensorflow_backend.py:133: The name tf.placeholder_with_default is deprecated. Please use tf.compat.v1.placeholder_with_default instead.\n",
      "\n",
      "WARNING:tensorflow:From C:\\Users\\ACER\\Anaconda3\\lib\\site-packages\\keras\\backend\\tensorflow_backend.py:3445: calling dropout (from tensorflow.python.ops.nn_ops) with keep_prob is deprecated and will be removed in a future version.\n",
      "Instructions for updating:\n",
      "Please use `rate` instead of `keep_prob`. Rate should be set to `rate = 1 - keep_prob`.\n"
     ]
    }
   ],
   "source": [
    "encoder_inputs = Input(shape=(None, 50)) \n",
    "encoder = LSTM(latent_dim, dropout=dropout, return_state=True)\n",
    "encoder_outputs, state_h, state_c = encoder(encoder_inputs)\n",
    "encoder_states = [state_h, state_c]"
   ]
  },
  {
   "cell_type": "code",
   "execution_count": 9,
   "metadata": {},
   "outputs": [],
   "source": [
    "decoder_inputs = Input(shape=(None, 50)) \n",
    "decoder_lstm = LSTM(latent_dim, dropout=dropout, return_sequences=True, return_state=True)\n",
    "decoder_outputs, _, _ = decoder_lstm(decoder_inputs,\n",
    "                                     initial_state=encoder_states)\n"
   ]
  },
  {
   "cell_type": "code",
   "execution_count": 10,
   "metadata": {},
   "outputs": [],
   "source": [
    "#decoder_dense = Dense(decoder_outputs) # 1 continuous output at each timestep\n",
    "decoder_outputs = Dense(50, activation='softmax')(decoder_outputs)\n"
   ]
  },
  {
   "cell_type": "code",
   "execution_count": 11,
   "metadata": {},
   "outputs": [],
   "source": [
    "model = Model([encoder_inputs, decoder_inputs], decoder_outputs)"
   ]
  },
  {
   "cell_type": "code",
   "execution_count": 12,
   "metadata": {},
   "outputs": [
    {
     "name": "stdout",
     "output_type": "stream",
     "text": [
      "__________________________________________________________________________________________________\n",
      "Layer (type)                    Output Shape         Param #     Connected to                     \n",
      "==================================================================================================\n",
      "input_1 (InputLayer)            (None, None, 50)     0                                            \n",
      "__________________________________________________________________________________________________\n",
      "input_2 (InputLayer)            (None, None, 50)     0                                            \n",
      "__________________________________________________________________________________________________\n",
      "lstm_1 (LSTM)                   [(None, 128), (None, 91648       input_1[0][0]                    \n",
      "__________________________________________________________________________________________________\n",
      "lstm_2 (LSTM)                   [(None, None, 128),  91648       input_2[0][0]                    \n",
      "                                                                 lstm_1[0][1]                     \n",
      "                                                                 lstm_1[0][2]                     \n",
      "__________________________________________________________________________________________________\n",
      "dense_1 (Dense)                 (None, None, 50)     6450        lstm_2[0][0]                     \n",
      "==================================================================================================\n",
      "Total params: 189,746\n",
      "Trainable params: 189,746\n",
      "Non-trainable params: 0\n",
      "__________________________________________________________________________________________________\n"
     ]
    }
   ],
   "source": [
    "model.summary()\n"
   ]
  },
  {
   "cell_type": "code",
   "execution_count": 13,
   "metadata": {},
   "outputs": [
    {
     "name": "stdout",
     "output_type": "stream",
     "text": [
      "WARNING:tensorflow:From C:\\Users\\ACER\\Anaconda3\\lib\\site-packages\\keras\\optimizers.py:790: The name tf.train.Optimizer is deprecated. Please use tf.compat.v1.train.Optimizer instead.\n",
      "\n",
      "WARNING:tensorflow:From C:\\Users\\ACER\\Anaconda3\\lib\\site-packages\\tensorflow\\python\\ops\\math_grad.py:1250: add_dispatch_support.<locals>.wrapper (from tensorflow.python.ops.array_ops) is deprecated and will be removed in a future version.\n",
      "Instructions for updating:\n",
      "Use tf.where in 2.0, which has the same broadcast rule as np.where\n",
      "WARNING:tensorflow:From C:\\Users\\ACER\\Anaconda3\\lib\\site-packages\\keras\\backend\\tensorflow_backend.py:986: The name tf.assign_add is deprecated. Please use tf.compat.v1.assign_add instead.\n",
      "\n",
      "Epoch 1/30\n",
      "20/20 [==============================] - 43s 2s/step - loss: 7.1346e-04\n",
      "Epoch 2/30\n",
      "20/20 [==============================] - 26s 1s/step - loss: 7.1298e-04\n",
      "Epoch 3/30\n",
      "20/20 [==============================] - 26s 1s/step - loss: 7.1241e-04\n",
      "Epoch 4/30\n",
      "20/20 [==============================] - 27s 1s/step - loss: 7.1161e-04\n",
      "Epoch 5/30\n",
      "20/20 [==============================] - 27s 1s/step - loss: 7.1097e-04\n",
      "Epoch 6/30\n",
      "20/20 [==============================] - 26s 1s/step - loss: 7.1017e-04\n",
      "Epoch 7/30\n",
      "20/20 [==============================] - 26s 1s/step - loss: 7.0952e-04\n",
      "Epoch 8/30\n",
      "20/20 [==============================] - 27s 1s/step - loss: 7.0869e-04\n",
      "Epoch 9/30\n",
      "20/20 [==============================] - 27s 1s/step - loss: 7.0784e-04\n",
      "Epoch 10/30\n",
      "20/20 [==============================] - 26s 1s/step - loss: 7.0677e-04\n",
      "Epoch 11/30\n",
      "20/20 [==============================] - 26s 1s/step - loss: 7.0616e-04\n",
      "Epoch 12/30\n",
      "20/20 [==============================] - 27s 1s/step - loss: 7.0537e-04\n",
      "Epoch 13/30\n",
      "20/20 [==============================] - 27s 1s/step - loss: 7.0429e-04\n",
      "Epoch 14/30\n",
      "20/20 [==============================] - 27s 1s/step - loss: 7.0355e-04\n",
      "Epoch 15/30\n",
      "20/20 [==============================] - 32s 2s/step - loss: 7.0275e-04\n",
      "Epoch 16/30\n",
      "20/20 [==============================] - 29s 1s/step - loss: 7.0150e-04\n",
      "Epoch 17/30\n",
      "20/20 [==============================] - 33s 2s/step - loss: 7.0045e-04\n",
      "Epoch 18/30\n",
      "20/20 [==============================] - 33s 2s/step - loss: 6.9987e-04\n",
      "Epoch 19/30\n",
      "20/20 [==============================] - 34s 2s/step - loss: 6.9887e-04\n",
      "Epoch 20/30\n",
      "20/20 [==============================] - 28s 1s/step - loss: 6.9780e-04\n",
      "Epoch 21/30\n",
      "20/20 [==============================] - 27s 1s/step - loss: 6.9669e-04\n",
      "Epoch 22/30\n",
      "20/20 [==============================] - 29s 1s/step - loss: 6.9638e-04\n",
      "Epoch 23/30\n",
      "20/20 [==============================] - 27s 1s/step - loss: 6.9444e-04\n",
      "Epoch 24/30\n",
      "20/20 [==============================] - 29s 1s/step - loss: 6.9351e-04\n",
      "Epoch 25/30\n",
      "20/20 [==============================] - 27s 1s/step - loss: 6.9230e-04\n",
      "Epoch 26/30\n",
      "20/20 [==============================] - 34s 2s/step - loss: 6.9185e-04\n",
      "Epoch 27/30\n",
      "20/20 [==============================] - 32s 2s/step - loss: 6.9053e-04\n",
      "Epoch 28/30\n",
      "20/20 [==============================] - 36s 2s/step - loss: 6.8858e-04\n",
      "Epoch 29/30\n",
      "20/20 [==============================] - 36s 2s/step - loss: 6.8717e-04\n",
      "Epoch 30/30\n",
      "20/20 [==============================] - 33s 2s/step - loss: 6.8577e-04\n"
     ]
    }
   ],
   "source": [
    "model.compile(Adam(), loss='mean_squared_error')\n",
    "history = model.fit([encoder_input_data, decoder_input_data], decoder_target_data,batch_size=batch_size,epochs=30)"
   ]
  },
  {
   "cell_type": "code",
   "execution_count": 14,
   "metadata": {},
   "outputs": [],
   "source": [
    "encoder_model = Model(encoder_inputs, encoder_states)\n",
    "pred_steps = 10\n",
    "\n",
    "decoder_state_input_h = Input(shape=(latent_dim,))\n",
    "decoder_state_input_c = Input(shape=(latent_dim,))\n",
    "decoder_states_inputs = [decoder_state_input_h, decoder_state_input_c]\n",
    "\n",
    "decoder_outputs, state_h, state_c = decoder_lstm(decoder_inputs, initial_state=decoder_states_inputs)\n",
    "decoder_states = [state_h, state_c]\n",
    "\n",
    "decoder_outputs = Dense(50, activation='softmax')(decoder_outputs)\n",
    "decoder_model = Model([decoder_inputs] + decoder_states_inputs,\n",
    "                      [decoder_outputs] + decoder_states)"
   ]
  },
  {
   "cell_type": "code",
   "execution_count": 15,
   "metadata": {},
   "outputs": [],
   "source": [
    "def decode_sequence(input_seq):\n",
    "    \n",
    "    # Encode the input as state vectors.\n",
    "    states_value = encoder_model.predict(input_seq)\n",
    "\n",
    "    # Generate empty target sequence of length 1.\n",
    "    target_seq = np.zeros((1, 1, 50))\n",
    "    \n",
    "    # Populate the first target sequence with end of encoding series pageviews\n",
    "    target_seq[0, 0, :] = input_seq[0, -1, :]\n",
    "\n",
    "    # Sampling loop for a batch of sequences - we will fill decoded_seq with predictions\n",
    "    # (to simplify, here we assume a batch of size 1).\n",
    "\n",
    "    decoded_seq = np.zeros((1,pred_steps,50))\n",
    "    for i in range(pred_steps):\n",
    "        \n",
    "        output, h, c = decoder_model.predict([target_seq] + states_value)\n",
    "        \n",
    "        decoded_seq[0,i,:] = output[0,0,:]\n",
    "\n",
    "        # Update the target sequence (of length 1).\n",
    "        target_seq = np.zeros((1, 1, 50))\n",
    "        target_seq[0, 0, :] = output[0,0,:]\n",
    "\n",
    "        # Update states\n",
    "        states_value = [h, c]\n",
    "\n",
    "    return decoded_seq"
   ]
  },
  {
   "cell_type": "code",
   "execution_count": 16,
   "metadata": {},
   "outputs": [
    {
     "data": {
      "text/plain": [
       "291146"
      ]
     },
     "execution_count": 16,
     "metadata": {},
     "output_type": "execute_result"
    }
   ],
   "source": [
    "len(prob)"
   ]
  },
  {
   "cell_type": "code",
   "execution_count": 17,
   "metadata": {},
   "outputs": [
    {
     "data": {
      "text/plain": [
       "280.0"
      ]
     },
     "execution_count": 17,
     "metadata": {},
     "output_type": "execute_result"
    }
   ],
   "source": [
    "# If we have to merge 1000 fake request set we have to add fake request at every n (here 280) original request interval\n",
    "(290000-10000)/1000"
   ]
  },
  {
   "cell_type": "markdown",
   "metadata": {},
   "source": [
    "# Prediction and creating fake request"
   ]
  },
  {
   "cell_type": "code",
   "execution_count": 18,
   "metadata": {},
   "outputs": [
    {
     "name": "stdout",
     "output_type": "stream",
     "text": [
      "0\n",
      "100\n",
      "200\n",
      "300\n",
      "400\n",
      "500\n",
      "600\n",
      "700\n",
      "800\n",
      "900\n"
     ]
    }
   ],
   "source": [
    "# find 1000 future request set prediction. \n",
    "# each set contains 10 future request.\n",
    "prediction = []\n",
    "for i in range(1000):\n",
    "    if i%100 == 0:\n",
    "        print(i)\n",
    "    prediction.append(decode_sequence(prob[i*280:i*280 + 10000,:].reshape(1,10000,50)))"
   ]
  },
  {
   "cell_type": "code",
   "execution_count": 19,
   "metadata": {},
   "outputs": [
    {
     "data": {
      "text/plain": [
       "(1000, 10, 50)"
      ]
     },
     "execution_count": 19,
     "metadata": {},
     "output_type": "execute_result"
    }
   ],
   "source": [
    "prediction = np.array(prediction).reshape(-1,10,50)\n",
    "prediction.shape"
   ]
  },
  {
   "cell_type": "code",
   "execution_count": 20,
   "metadata": {},
   "outputs": [
    {
     "data": {
      "text/plain": [
       "array([0.02025254, 0.01968201, 0.02077701, 0.02038814, 0.01996497,\n",
       "       0.02105907, 0.01959238, 0.01917567, 0.0195015 , 0.01913534,\n",
       "       0.0197001 , 0.02004368, 0.01884481, 0.0208777 , 0.01978879,\n",
       "       0.01923091, 0.01898219, 0.01999636, 0.0197989 , 0.02010011,\n",
       "       0.01968859, 0.01955435, 0.0200584 , 0.02063816, 0.0202574 ,\n",
       "       0.01937691, 0.01988613, 0.0204275 , 0.02082061, 0.01975769,\n",
       "       0.02084196, 0.02048138, 0.01927365, 0.01941964, 0.0199898 ,\n",
       "       0.02050635, 0.02019302, 0.02092839, 0.02009212, 0.02018601,\n",
       "       0.01974956, 0.01993238, 0.02067892, 0.01989967, 0.01959385,\n",
       "       0.02075091, 0.01942325, 0.02026473, 0.02040775, 0.02002878])"
      ]
     },
     "execution_count": 20,
     "metadata": {},
     "output_type": "execute_result"
    }
   ],
   "source": [
    "prediction[0][0]"
   ]
  },
  {
   "cell_type": "code",
   "execution_count": 21,
   "metadata": {},
   "outputs": [
    {
     "data": {
      "text/plain": [
       "(1000, 50)"
      ]
     },
     "execution_count": 21,
     "metadata": {},
     "output_type": "execute_result"
    }
   ],
   "source": [
    "# from each request prediction top 5 request with highest probability is selected for fake request.\n",
    "# total 50 fake requests (10*5) is merged at every n_th (280) interval.\n",
    "fake_request = []\n",
    "for i in range(1000):\n",
    "    temp = []\n",
    "    for j in range(10):\n",
    "        for k in range(50):\n",
    "            if prediction[i,j,k] > sorted(prediction[i,j],reverse = 1)[5]:\n",
    "                temp.append(k)        \n",
    "    fake_request.append(temp)  \n",
    "fake_request = np.array(fake_request) \n",
    "fake_request.shape"
   ]
  },
  {
   "cell_type": "code",
   "execution_count": 22,
   "metadata": {},
   "outputs": [
    {
     "data": {
      "text/plain": [
       "340000"
      ]
     },
     "execution_count": 22,
     "metadata": {},
     "output_type": "execute_result"
    }
   ],
   "source": [
    "290000 + 1000*50"
   ]
  },
  {
   "cell_type": "code",
   "execution_count": 23,
   "metadata": {},
   "outputs": [
    {
     "data": {
      "text/plain": [
       "(340000,)"
      ]
     },
     "execution_count": 23,
     "metadata": {},
     "output_type": "execute_result"
    }
   ],
   "source": [
    "# simply merging both original and fake requests.\n",
    "request = []\n",
    "for i in range(10000):\n",
    "    request.append(req[i])\n",
    "for i in range(50):\n",
    "    request.append(fake_request[0][i])\n",
    "for i in range(1000):\n",
    "    for j in range(280 + 50):\n",
    "        if j < 280:\n",
    "            request.append(req[10000 + j + 280*i])\n",
    "        elif(i>0):\n",
    "            request.append(fake_request[i,j-280])\n",
    "request = np.array(request)\n",
    "request.shape"
   ]
  },
  {
   "cell_type": "code",
   "execution_count": 24,
   "metadata": {},
   "outputs": [
    {
     "data": {
      "text/plain": [
       "5.0"
      ]
     },
     "execution_count": 24,
     "metadata": {},
     "output_type": "execute_result"
    }
   ],
   "source": [
    "request[10000]"
   ]
  },
  {
   "cell_type": "markdown",
   "metadata": {},
   "source": [
    "# Caching Policy"
   ]
  },
  {
   "cell_type": "code",
   "execution_count": 26,
   "metadata": {},
   "outputs": [
    {
     "data": {
      "text/plain": [
       "CacheInfo(hits=88253, misses=203893, current_size=5, max_size=5, algorithm=<CachingAlgorithmFlag.LRU: 2>, ttl=None, thread_safe=True, order_independent=False, use_custom_key=False)"
      ]
     },
     "execution_count": 26,
     "metadata": {},
     "output_type": "execute_result"
    }
   ],
   "source": [
    "# LRU\n",
    "\n",
    "from memoization import cached, CachingAlgorithmFlag\n",
    "@cached(max_size=5, algorithm=CachingAlgorithmFlag.LRU)\n",
    "def get_url(resource):\n",
    "    try:\n",
    "        \n",
    "        with urllib.request.urlopen(resource) as s:\n",
    "            return True\n",
    "    except Exception as e:\n",
    "        return False\n",
    "    \n",
    "hit_LRU = []\n",
    "miss_LRU = []\n",
    "req = list(req)\n",
    "for i in range(len(req)):\n",
    "    get_url(req[i])\n",
    "    hit_LRU.append(get_url.cache_info().hits)\n",
    "    miss_LRU.append(get_url.cache_info().misses)\n",
    "get_url.cache_info()"
   ]
  },
  {
   "cell_type": "code",
   "execution_count": 27,
   "metadata": {},
   "outputs": [
    {
     "data": {
      "text/plain": [
       "CacheInfo(hits=56495, misses=235651, current_size=5, max_size=5, algorithm=<CachingAlgorithmFlag.LFU: 4>, ttl=None, thread_safe=True, order_independent=False, use_custom_key=False)"
      ]
     },
     "execution_count": 27,
     "metadata": {},
     "output_type": "execute_result"
    }
   ],
   "source": [
    "# LFU\n",
    "\n",
    "@cached(max_size=5, algorithm=CachingAlgorithmFlag.LFU)\n",
    "def get_url(resource):\n",
    "    try:\n",
    "        \n",
    "        with urllib.request.urlopen(resource) as s:\n",
    "            return True\n",
    "    except Exception as e:\n",
    "        return False\n",
    "    \n",
    "hit_LFU = []\n",
    "miss_LFU = []\n",
    "req = list(req)\n",
    "for i in range(len(req)):\n",
    "    get_url(req[i])\n",
    "    hit_LFU.append(get_url.cache_info().hits)\n",
    "    miss_LFU.append(get_url.cache_info().misses)\n",
    "get_url.cache_info()"
   ]
  },
  {
   "cell_type": "code",
   "execution_count": 28,
   "metadata": {},
   "outputs": [
    {
     "data": {
      "text/plain": [
       "CacheInfo(hits=111215, misses=180931, current_size=5, max_size=5, algorithm=<CachingAlgorithmFlag.LRU: 2>, ttl=None, thread_safe=True, order_independent=False, use_custom_key=False)"
      ]
     },
     "execution_count": 28,
     "metadata": {},
     "output_type": "execute_result"
    }
   ],
   "source": [
    "# DeepCache_LRU\n",
    "\n",
    "@cached(max_size=5, algorithm=CachingAlgorithmFlag.LRU)\n",
    "def get_url(resource):\n",
    "    try:\n",
    "        \n",
    "        with urllib.request.urlopen(resource) as s:\n",
    "            return True\n",
    "    except Exception as e:\n",
    "        return False\n",
    "    \n",
    "hit_deepcache_LRU = []\n",
    "miss_deepcache_LRU = []\n",
    "req = list(req)\n",
    "for i in range(len(req)):\n",
    "    get_url(request[i])\n",
    "    hit_deepcache_LRU.append(get_url.cache_info().hits)\n",
    "    miss_deepcache_LRU.append(get_url.cache_info().misses)\n",
    "get_url.cache_info()"
   ]
  },
  {
   "cell_type": "code",
   "execution_count": 29,
   "metadata": {},
   "outputs": [],
   "source": [
    "def distance(id,n):\n",
    "    j = n + 1\n",
    "    while request[j] != id:\n",
    "        j += 1\n",
    "    return j-n"
   ]
  },
  {
   "cell_type": "code",
   "execution_count": 32,
   "metadata": {},
   "outputs": [
    {
     "name": "stdout",
     "output_type": "stream",
     "text": [
      "144048 148093\n"
     ]
    }
   ],
   "source": [
    "size = 5\n",
    "hit = 0\n",
    "miss = 0\n",
    "hit_deepcache_min = []\n",
    "miss_deepcache_min = []\n",
    "cache = []\n",
    "\n",
    "for i in range(len(req)):\n",
    "    # If cache is empty then add requested item\n",
    "    if len(cache) < size:\n",
    "        cache.append(request[i])\n",
    "    # otherwise evict one item and add requested\n",
    "    else:   \n",
    "        # Chech if requested item is present in cache or not\n",
    "        count = 0\n",
    "        for k in range(size):\n",
    "            if request[i] == cache[k]:\n",
    "                count += 1\n",
    "        # If not present evict one item\n",
    "        if count == 0: \n",
    "            miss += 1\n",
    "            # calculate distance for each cached item\n",
    "            d = []\n",
    "            for j in range(size):\n",
    "                d.append(distance(cache[j],i))\n",
    "            d = np.array(d)\n",
    "            #find item with max distance \n",
    "            for k in range(size):\n",
    "                if np.max(d) == d[k]:\n",
    "                    cache[k] = request[i]\n",
    "        # If requested item is already in cache then hit\n",
    "        else:\n",
    "            hit += 1\n",
    "        hit_deepcache_min.append(hit)\n",
    "        miss_deepcache_min.append(miss)\n",
    "    \n",
    "print(hit,miss)"
   ]
  },
  {
   "cell_type": "code",
   "execution_count": 36,
   "metadata": {},
   "outputs": [
    {
     "data": {
      "text/plain": [
       "(50,)"
      ]
     },
     "execution_count": 36,
     "metadata": {},
     "output_type": "execute_result"
    }
   ],
   "source": [
    "C = 5\n",
    "N = 50\n",
    "pi = 3.14\n",
    "n = pow(4*pi*N,-.25)*pow(i/C,.5)\n",
    "count = np.zeros(N)\n",
    "\n",
    "x = np.zeros(50)\n",
    "for i in range(50):\n",
    "    x[i] = i\n",
    "var = np.eye(50)\n",
    "gauss = np.dot(np.exp(-0.5*pow(np.dot(var,x),2)),var)/pow(2*pi,0.5)\n",
    "gauss.shape"
   ]
  },
  {
   "cell_type": "code",
   "execution_count": 37,
   "metadata": {},
   "outputs": [
    {
     "name": "stdout",
     "output_type": "stream",
     "text": [
      "69180 222960\n"
     ]
    }
   ],
   "source": [
    "hit_FTPL = []\n",
    "miss_FTPL = []\n",
    "hit = 0\n",
    "miss = 0\n",
    "for i in range(len(req)):\n",
    "    t = int(req[i]) - 1\n",
    "    count[t] += 1\n",
    "    perturbed_count = count + n*gauss\n",
    "    cache = []\n",
    "    if i <= C:\n",
    "        cache.append(req[i])\n",
    "    else:\n",
    "        for k in range(N):\n",
    "            if perturbed_count[k] >= sorted(perturbed_count,reverse = 1)[C-1] and len(cache) < C:\n",
    "                    cache.append(k+1)\n",
    "        if len(cache) != C:\n",
    "            print(i,len(cache))\n",
    "        x = 0        \n",
    "        for l in range(C):\n",
    "            if req[i] == cache[l]:\n",
    "                x += 1\n",
    "        if x>0:\n",
    "            hit += 1\n",
    "        else:\n",
    "            miss += 1\n",
    "    hit_FTPL.append(hit)\n",
    "    miss_FTPL.append(miss)\n",
    "print(hit,miss)   "
   ]
  },
  {
   "cell_type": "code",
   "execution_count": 38,
   "metadata": {},
   "outputs": [
    {
     "data": {
      "text/plain": [
       "Text(0, 0.5, 'Hit-rate')"
      ]
     },
     "execution_count": 38,
     "metadata": {},
     "output_type": "execute_result"
    },
    {
     "name": "stderr",
     "output_type": "stream",
     "text": [
      "C:\\Users\\ACER\\Anaconda3\\lib\\site-packages\\IPython\\core\\events.py:88: UserWarning: Creating legend with loc=\"best\" can be slow with large amounts of data.\n",
      "  func(*args, **kwargs)\n",
      "C:\\Users\\ACER\\Anaconda3\\lib\\site-packages\\IPython\\core\\pylabtools.py:128: UserWarning: Creating legend with loc=\"best\" can be slow with large amounts of data.\n",
      "  fig.canvas.print_figure(bytes_io, **kw)\n"
     ]
    },
    {
     "data": {
      "image/png": "[encoded data removed]",
      "text/plain": [
       "<Figure size 432x288 with 1 Axes>"
      ]
     },
     "metadata": {
      "needs_background": "light"
     },
     "output_type": "display_data"
    }
   ],
   "source": [
    "plt.plot(hit_LRU,'blue',label = 'LRU')\n",
    "plt.plot(hit_LFU,'yellow',label = 'LFU')\n",
    "plt.plot(hit_FTPL,'black',label = 'FTPL')\n",
    "plt.plot(hit_deepcache_LRU,'green',label = 'DeepCache-LRU')\n",
    "plt.plot(hit_deepcache_min,'red',label = 'DeepCache-MIN')\n",
    "plt.legend()\n",
    "plt.xlabel('Requests')\n",
    "plt.ylabel('Hit-rate')"
   ]
  },
  {
   "cell_type": "code",
   "execution_count": 39,
   "metadata": {},
   "outputs": [
    {
     "data": {
      "text/plain": [
       "Text(0, 0.5, 'Miss-rate')"
      ]
     },
     "execution_count": 39,
     "metadata": {},
     "output_type": "execute_result"
    },
    {
     "data": {
      "image/png": "[encoded data removed]",
      "text/plain": [
       "<Figure size 432x288 with 1 Axes>"
      ]
     },
     "metadata": {
      "needs_background": "light"
     },
     "output_type": "display_data"
    }
   ],
   "source": [
    "plt.plot(miss_LRU,'blue',label = 'LRU')\n",
    "plt.plot(miss_LFU,'yellow',label = 'LFU')\n",
    "plt.plot(miss_FTPL,'black',label = 'FTPL')\n",
    "plt.plot(miss_deepcache_LRU,'green',label = 'DeepCache-LRU')\n",
    "plt.plot(miss_deepcache_min,'red',label = 'DeepCache-MIN')\n",
    "plt.legend()\n",
    "plt.xlabel('Requests')\n",
    "plt.ylabel('Miss-rate')"
   ]
  },
  {
   "cell_type": "markdown",
   "metadata": {},
   "source": [
    "# Test Case\n"
   ]
  },
  {
   "cell_type": "code",
   "execution_count": 112,
   "metadata": {},
   "outputs": [],
   "source": [
    "# model is trained on 200k requests \n",
    "# we will evaluate the model for next 90k requests.\n",
    "req_test = req[190000:290000]\n",
    "prob_test = prob[190000:290000]"
   ]
  },
  {
   "cell_type": "code",
   "execution_count": 138,
   "metadata": {},
   "outputs": [
    {
     "data": {
      "text/plain": [
       "180.0"
      ]
     },
     "execution_count": 138,
     "metadata": {},
     "output_type": "execute_result"
    }
   ],
   "source": [
    "(100000-10000)/500"
   ]
  },
  {
   "cell_type": "code",
   "execution_count": 139,
   "metadata": {},
   "outputs": [
    {
     "name": "stdout",
     "output_type": "stream",
     "text": [
      "0\n",
      "100\n",
      "200\n",
      "300\n",
      "400\n"
     ]
    }
   ],
   "source": [
    "prediction_test = []\n",
    "for i in range(500):\n",
    "    if i%100 == 0:\n",
    "        print(i)\n",
    "    prediction_test.append(decode_sequence(prob_test[i*180:i*180 + 10000,:].reshape(1,10000,50)))"
   ]
  },
  {
   "cell_type": "code",
   "execution_count": 140,
   "metadata": {},
   "outputs": [
    {
     "data": {
      "text/plain": [
       "(500, 10, 50)"
      ]
     },
     "execution_count": 140,
     "metadata": {},
     "output_type": "execute_result"
    }
   ],
   "source": [
    "prediction_test = np.array(prediction_test).reshape(-1,10,50)\n",
    "prediction_test.shape"
   ]
  },
  {
   "cell_type": "code",
   "execution_count": 141,
   "metadata": {},
   "outputs": [
    {
     "data": {
      "text/plain": [
       "(500, 50)"
      ]
     },
     "execution_count": 141,
     "metadata": {},
     "output_type": "execute_result"
    }
   ],
   "source": [
    "fake_request_test = []\n",
    "for i in range(500):\n",
    "    temp = []\n",
    "    for j in range(10):\n",
    "        for k in range(50):\n",
    "            if prediction_test[i,j,k] >= sorted(prediction_test[i,j],reverse = 1)[5] and len(temp)<50:\n",
    "                temp.append(k)        \n",
    "    fake_request_test.append(temp)  \n",
    "fake_request_test = np.array(fake_request_test)\n",
    "fake_request_test.shape"
   ]
  },
  {
   "cell_type": "code",
   "execution_count": null,
   "metadata": {},
   "outputs": [],
   "source": []
  },
  {
   "cell_type": "code",
   "execution_count": 142,
   "metadata": {},
   "outputs": [
    {
     "data": {
      "text/plain": [
       "125000"
      ]
     },
     "execution_count": 142,
     "metadata": {},
     "output_type": "execute_result"
    }
   ],
   "source": [
    "100000 + 500*50"
   ]
  },
  {
   "cell_type": "code",
   "execution_count": 143,
   "metadata": {},
   "outputs": [
    {
     "data": {
      "text/plain": [
       "(125000,)"
      ]
     },
     "execution_count": 143,
     "metadata": {},
     "output_type": "execute_result"
    }
   ],
   "source": [
    "# simply merging both original and fake requests.\n",
    "request_test = []\n",
    "for i in range(10000):\n",
    "    request_test.append(test_req[i])\n",
    "for i in range(50):\n",
    "    request_test.append(fake_request_test[0][i])\n",
    "for i in range(500):\n",
    "    for j in range(180 + 50):\n",
    "        if j < 180:\n",
    "            request_test.append(req[10000 + j + 180*i])\n",
    "        elif(i>0):\n",
    "            request_test.append(fake_request_test[i,j-180])\n",
    "request_test = np.array(request_test)\n",
    "request_test.shape"
   ]
  },
  {
   "cell_type": "code",
   "execution_count": 144,
   "metadata": {},
   "outputs": [
    {
     "data": {
      "text/plain": [
       "2.0"
      ]
     },
     "execution_count": 144,
     "metadata": {},
     "output_type": "execute_result"
    }
   ],
   "source": [
    "request_test[10000]"
   ]
  },
  {
   "cell_type": "code",
   "execution_count": 164,
   "metadata": {},
   "outputs": [
    {
     "data": {
      "text/plain": [
       "CacheInfo(hits=35190, misses=64810, current_size=5, max_size=5, algorithm=<CachingAlgorithmFlag.LRU: 2>, ttl=None, thread_safe=True, order_independent=False, use_custom_key=False)"
      ]
     },
     "execution_count": 164,
     "metadata": {},
     "output_type": "execute_result"
    }
   ],
   "source": [
    "# LRU\n",
    "\n",
    "from memoization import cached, CachingAlgorithmFlag\n",
    "@cached(max_size=5, algorithm=CachingAlgorithmFlag.LRU)\n",
    "def get_url(resource):\n",
    "    try:\n",
    "        \n",
    "        with urllib.request.urlopen(resource) as s:\n",
    "            return True\n",
    "    except Exception as e:\n",
    "        return False\n",
    "    \n",
    "hit_LRU_test = []\n",
    "miss_LRU_test = []\n",
    "for i in range(len(req_test)):\n",
    "    get_url(req_test[i])\n",
    "    hit_LRU_test.append(get_url.cache_info().hits)\n",
    "    miss_LRU_test.append(get_url.cache_info().misses)\n",
    "get_url.cache_info()"
   ]
  },
  {
   "cell_type": "code",
   "execution_count": 165,
   "metadata": {},
   "outputs": [
    {
     "data": {
      "text/plain": [
       "CacheInfo(hits=20473, misses=79527, current_size=5, max_size=5, algorithm=<CachingAlgorithmFlag.LFU: 4>, ttl=None, thread_safe=True, order_independent=False, use_custom_key=False)"
      ]
     },
     "execution_count": 165,
     "metadata": {},
     "output_type": "execute_result"
    }
   ],
   "source": [
    "# LFU\n",
    "\n",
    "@cached(max_size=5, algorithm=CachingAlgorithmFlag.LFU)\n",
    "def get_url(resource):\n",
    "    try:\n",
    "        \n",
    "        with urllib.request.urlopen(resource) as s:\n",
    "            return True\n",
    "    except Exception as e:\n",
    "        return False\n",
    "    \n",
    "hit_LFU_test = []\n",
    "miss_LFU_test = []\n",
    "for i in range(len(req_test)):\n",
    "    get_url(req_test[i])\n",
    "    hit_LFU_test.append(get_url.cache_info().hits)\n",
    "    miss_LFU_test.append(get_url.cache_info().misses)\n",
    "get_url.cache_info()"
   ]
  },
  {
   "cell_type": "code",
   "execution_count": 173,
   "metadata": {},
   "outputs": [
    {
     "data": {
      "text/plain": [
       "CacheInfo(hits=27271, misses=72729, current_size=5, max_size=5, algorithm=<CachingAlgorithmFlag.LRU: 2>, ttl=None, thread_safe=True, order_independent=False, use_custom_key=False)"
      ]
     },
     "execution_count": 173,
     "metadata": {},
     "output_type": "execute_result"
    }
   ],
   "source": [
    "# DeepCache_LRU\n",
    "\n",
    "@cached(max_size=5, algorithm=CachingAlgorithmFlag.LRU)\n",
    "def get_url(resource):\n",
    "    try:\n",
    "        \n",
    "        with urllib.request.urlopen(resource) as s:\n",
    "            return True\n",
    "    except Exception as e:\n",
    "        return False\n",
    "    \n",
    "hit_deepcache_LRU_test = []\n",
    "miss_deepcache_LRU_test = []\n",
    "for i in range(len(req_test)):\n",
    "    get_url(request_test[i])\n",
    "    hit_deepcache_LRU_test.append(get_url.cache_info().hits)\n",
    "    miss_deepcache_LRU_test.append(get_url.cache_info().misses)\n",
    "get_url.cache_info()"
   ]
  },
  {
   "cell_type": "code",
   "execution_count": 170,
   "metadata": {},
   "outputs": [
    {
     "name": "stdout",
     "output_type": "stream",
     "text": [
      "48329 51666\n"
     ]
    }
   ],
   "source": [
    "#MIN\n",
    "def distance(id,n):\n",
    "    j = n + 1\n",
    "    while request_test[j] != id:\n",
    "        j += 1\n",
    "    return j-n\n",
    "\n",
    "size = 5\n",
    "hit = 0\n",
    "miss = 0\n",
    "hit_deepcache_min_test = []\n",
    "miss_deepcache_min_test = []\n",
    "cache = []\n",
    "\n",
    "for i in range(len(req_test)):\n",
    "    # If cache is empty then add requested item\n",
    "    if len(cache) < size:\n",
    "        cache.append(request_test[i])\n",
    "    # otherwise evict one item and add requested\n",
    "    else:   \n",
    "        # Chech if requested item is present in cache or not\n",
    "        count = 0\n",
    "        for k in range(size):\n",
    "            if request_test[i] == cache[k]:\n",
    "                count += 1\n",
    "        # If not present evict one item\n",
    "        if count == 0: \n",
    "            miss += 1\n",
    "            # calculate distance for each cached item\n",
    "            d = []\n",
    "            for j in range(size):\n",
    "                d.append(distance(cache[j],i))\n",
    "            d = np.array(d)\n",
    "            #find item with max distance \n",
    "            for k in range(size):\n",
    "                if np.max(d) == d[k]:\n",
    "                    cache[k] = request_test[i]\n",
    "        # If requested item is already in cache then hit\n",
    "        else:\n",
    "            hit += 1\n",
    "        hit_deepcache_min_test.append(hit)\n",
    "        miss_deepcache_min_test.append(miss)\n",
    "    \n",
    "print(hit,miss)"
   ]
  },
  {
   "cell_type": "code",
   "execution_count": 155,
   "metadata": {},
   "outputs": [],
   "source": [
    "C = 5\n",
    "N = 50\n",
    "pi = 3.14\n",
    "n = pow(4*pi*N,-.25)*pow(i/C,.5)\n",
    "x = np.zeros(50)\n",
    "for i in range(50):\n",
    "    x[i] = i\n",
    "var = np.eye(50)\n",
    "gauss = np.dot(np.exp(-0.5*pow(np.dot(var,x),2)),var)/pow(2*pi,0.5)\n",
    "\n",
    "count = np.zeros(50)\n",
    "for i in range(200000):\n",
    "    t = int(req[i]) - 1\n",
    "    count[t] += 1"
   ]
  },
  {
   "cell_type": "code",
   "execution_count": 156,
   "metadata": {},
   "outputs": [
    {
     "name": "stdout",
     "output_type": "stream",
     "text": [
      "24685 75309\n"
     ]
    }
   ],
   "source": [
    "#FTPL\n",
    "\n",
    "hit_FTPL_test = []\n",
    "miss_FTPL_test = []\n",
    "hit = 0\n",
    "miss = 0\n",
    "for i in range(len(req_test)):\n",
    "    t = int(req_test[i]) - 1\n",
    "    count[t] += 1\n",
    "    perturbed_count = count + n*gauss\n",
    "    cache = []\n",
    "    if i <= C:\n",
    "        cache.append(req_test[i])\n",
    "    else:\n",
    "        for k in range(N):\n",
    "            if perturbed_count[k] >= sorted(perturbed_count,reverse = 1)[C-1] and len(cache) < C:\n",
    "                    cache.append(k+1)\n",
    "        if len(cache) != C:\n",
    "            print(i,len(cache))\n",
    "        x = 0        \n",
    "        for l in range(C):\n",
    "            if req[i] == cache[l]:\n",
    "                x += 1\n",
    "        if x>0:\n",
    "            hit += 1\n",
    "        else:\n",
    "            miss += 1\n",
    "    hit_FTPL_test.append(hit)\n",
    "    miss_FTPL_test.append(miss)\n",
    "print(hit,miss)   "
   ]
  },
  {
   "cell_type": "code",
   "execution_count": 174,
   "metadata": {},
   "outputs": [
    {
     "data": {
      "text/plain": [
       "Text(0, 0.5, 'Hit-rate')"
      ]
     },
     "execution_count": 174,
     "metadata": {},
     "output_type": "execute_result"
    },
    {
     "data": {
      "image/png": "[encoded data removed]",
      "text/plain": [
       "<Figure size 432x288 with 1 Axes>"
      ]
     },
     "metadata": {
      "needs_background": "light"
     },
     "output_type": "display_data"
    }
   ],
   "source": [
    "plt.plot(hit_LRU_test,'blue',label = 'LRU')\n",
    "plt.plot(hit_LFU_test,'yellow',label = 'LFU')\n",
    "plt.plot(hit_FTPL_test,'black',label = 'FTPL')\n",
    "plt.plot(hit_deepcache_LRU_test,'green',label = 'DeepCache-LRU')\n",
    "plt.plot(hit_deepcache_min_test,'red',label = 'DeepCache-MIN')\n",
    "plt.legend()\n",
    "plt.xlabel('Requests')\n",
    "plt.ylabel('Hit-rate')"
   ]
  },
  {
   "cell_type": "code",
   "execution_count": 175,
   "metadata": {},
   "outputs": [
    {
     "data": {
      "text/plain": [
       "Text(0, 0.5, 'Miss-rate')"
      ]
     },
     "execution_count": 175,
     "metadata": {},
     "output_type": "execute_result"
    },
    {
     "data": {
      "image/png": "[encoded data removed]",
      "text/plain": [
       "<Figure size 432x288 with 1 Axes>"
      ]
     },
     "metadata": {
      "needs_background": "light"
     },
     "output_type": "display_data"
    }
   ],
   "source": [
    "plt.plot(miss_LRU_test,'blue',label = 'LRU')\n",
    "plt.plot(miss_LFU_test,'yellow',label = 'LFU')\n",
    "plt.plot(miss_FTPL_test,'black',label = 'FTPL')\n",
    "plt.plot(miss_deepcache_LRU_test,'green',label = 'DeepCache-LRU')\n",
    "plt.plot(miss_deepcache_min_test,'red',label = 'DeepCache-MIN')\n",
    "plt.legend()\n",
    "plt.xlabel('Requests')\n",
    "plt.ylabel('Miss-rate')"
   ]
  },
  {
   "cell_type": "code",
   "execution_count": null,
   "metadata": {},
   "outputs": [],
   "source": []
  },
  {
   "cell_type": "code",
   "execution_count": null,
   "metadata": {},
   "outputs": [],
   "source": []
  }
 ],
 "metadata": {
  "kernelspec": {
   "display_name": "Python 3",
   "language": "python",
   "name": "python3"
  },
  "language_info": {
   "codemirror_mode": {
    "name": "ipython",
    "version": 3
   },
   "file_extension": ".py",
   "mimetype": "text/x-python",
   "name": "python",
   "nbconvert_exporter": "python",
   "pygments_lexer": "ipython3",
   "version": "3.7.4"
  }
 },
 "nbformat": 4,
 "nbformat_minor": 2
}
