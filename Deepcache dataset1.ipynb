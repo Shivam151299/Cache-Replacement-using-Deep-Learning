{
 "cells": [
  {
   "cell_type": "code",
   "execution_count": 1,
   "metadata": {},
   "outputs": [
    {
     "name": "stderr",
     "output_type": "stream",
     "text": [
      "Using TensorFlow backend.\n"
     ]
    }
   ],
   "source": [
    "import pandas as pd\n",
    "import numpy as np\n",
    "import matplotlib.pyplot as plt\n",
    "%matplotlib inline\n",
    "from keras.models import Model\n",
    "from keras.layers import Input, LSTM, Dense\n",
    "from keras.optimizers import Adam\n",
    "\n",
    "import seaborn as sns\n",
    "sns.set()"
   ]
  },
  {
   "cell_type": "markdown",
   "metadata": {},
   "source": [
    "# Data"
   ]
  },
  {
   "cell_type": "code",
   "execution_count": 2,
   "metadata": {},
   "outputs": [
    {
     "data": {
      "text/html": [
       "<div>\n",
       "<style scoped>\n",
       "    .dataframe tbody tr th:only-of-type {\n",
       "        vertical-align: middle;\n",
       "    }\n",
       "\n",
       "    .dataframe tbody tr th {\n",
       "        vertical-align: top;\n",
       "    }\n",
       "\n",
       "    .dataframe thead th {\n",
       "        text-align: right;\n",
       "    }\n",
       "</style>\n",
       "<table border=\"1\" class=\"dataframe\">\n",
       "  <thead>\n",
       "    <tr style=\"text-align: right;\">\n",
       "      <th></th>\n",
       "      <th>object_ID</th>\n",
       "      <th>request_time</th>\n",
       "    </tr>\n",
       "  </thead>\n",
       "  <tbody>\n",
       "    <tr>\n",
       "      <td>0</td>\n",
       "      <td>5</td>\n",
       "      <td>2.961472</td>\n",
       "    </tr>\n",
       "    <tr>\n",
       "      <td>1</td>\n",
       "      <td>25</td>\n",
       "      <td>3.274127</td>\n",
       "    </tr>\n",
       "    <tr>\n",
       "      <td>2</td>\n",
       "      <td>2</td>\n",
       "      <td>3.785475</td>\n",
       "    </tr>\n",
       "    <tr>\n",
       "      <td>3</td>\n",
       "      <td>2</td>\n",
       "      <td>4.455687</td>\n",
       "    </tr>\n",
       "    <tr>\n",
       "      <td>4</td>\n",
       "      <td>4</td>\n",
       "      <td>5.288994</td>\n",
       "    </tr>\n",
       "  </tbody>\n",
       "</table>\n",
       "</div>"
      ],
      "text/plain": [
       "   object_ID  request_time\n",
       "0          5      2.961472\n",
       "1         25      3.274127\n",
       "2          2      3.785475\n",
       "3          2      4.455687\n",
       "4          4      5.288994"
      ]
     },
     "execution_count": 2,
     "metadata": {},
     "output_type": "execute_result"
    }
   ],
   "source": [
    "data = pd.read_csv('D:/IITM/DeepCache/synthetic dataset/syntheticDataset_O50.csv')\n",
    "data.head()"
   ]
  },
  {
   "cell_type": "code",
   "execution_count": 3,
   "metadata": {},
   "outputs": [
    {
     "data": {
      "text/plain": [
       "292146"
      ]
     },
     "execution_count": 3,
     "metadata": {},
     "output_type": "execute_result"
    }
   ],
   "source": [
    "data = np.array(data)\n",
    "req = data[:,0]\n",
    "\n",
    "len(data)"
   ]
  },
  {
   "cell_type": "code",
   "execution_count": 4,
   "metadata": {},
   "outputs": [
    {
     "data": {
      "text/plain": [
       "(291146, 50)"
      ]
     },
     "execution_count": 4,
     "metadata": {},
     "output_type": "execute_result"
    }
   ],
   "source": [
    "# to find the probability of occurrence of Oi object is caculated as Ni/1000\n",
    "# where Ni is number of occurrence of Oi in past 1k req\n",
    "\n",
    "#First find the frequency of each object in initial 1k requests.\n",
    "count = np.zeros(50)\n",
    "for i in range(1000):\n",
    "    for j in range(50):\n",
    "        if req[i] == j+1:\n",
    "            count[j] += 1\n",
    "\n",
    "# Then update count for each coming requests\n",
    "prob = []            \n",
    "for i in range(1000,len(req)):\n",
    "    t = int(req[i] - 1)\n",
    "    count[t] += 1\n",
    "    t = int(req[i-1000] - 1)\n",
    "    count[t] -= 1\n",
    "    prob.append(count/1000) # normalize frequency\n",
    "\n",
    "prob = np.array(prob)\n",
    "prob.shape"
   ]
  },
  {
   "cell_type": "code",
   "execution_count": 5,
   "metadata": {},
   "outputs": [
    {
     "name": "stdout",
     "output_type": "stream",
     "text": [
      "(20, 10000, 50) (20, 10, 50)\n"
     ]
    }
   ],
   "source": [
    "encoder_input_data = prob[:200000,:].reshape(20,-1,50) # total samples = 20\n",
    "batch_size = 10000\n",
    "decoder_target_data = []\n",
    "for i in range(1,21):\n",
    "    temp = []\n",
    "    for j in range(10): # to predict next 10 req for every batch\n",
    "        temp.append(prob[(batch_size*i) + j,:])\n",
    "    decoder_target_data.append(temp)    \n",
    "\n",
    "decoder_target_data = np.array(decoder_target_data).reshape(20,10,-1)\n",
    "\n",
    "print(encoder_input_data.shape,decoder_target_data.shape)"
   ]
  },
  {
   "cell_type": "code",
   "execution_count": 6,
   "metadata": {},
   "outputs": [
    {
     "data": {
      "text/plain": [
       "(20, 10, 50)"
      ]
     },
     "execution_count": 6,
     "metadata": {},
     "output_type": "execute_result"
    }
   ],
   "source": [
    "decoder_input_data = np.zeros(decoder_target_data.shape)\n",
    "decoder_input_data[1:,:,:] = decoder_target_data[:-1,:,:]\n",
    "decoder_input_data[0,:,:] = encoder_input_data[-1,-1,:]\n",
    "decoder_input_data.shape"
   ]
  },
  {
   "cell_type": "markdown",
   "metadata": {},
   "source": [
    "# Model"
   ]
  },
  {
   "cell_type": "code",
   "execution_count": 7,
   "metadata": {},
   "outputs": [],
   "source": [
    "latent_dim = 128 # LSTM hidden units\n",
    "dropout = 0.1"
   ]
  },
  {
   "cell_type": "code",
   "execution_count": 8,
   "metadata": {},
   "outputs": [
    {
     "name": "stdout",
     "output_type": "stream",
     "text": [
      "WARNING:tensorflow:From C:\\Users\\ACER\\Anaconda3\\lib\\site-packages\\keras\\backend\\tensorflow_backend.py:74: The name tf.get_default_graph is deprecated. Please use tf.compat.v1.get_default_graph instead.\n",
      "\n",
      "WARNING:tensorflow:From C:\\Users\\ACER\\Anaconda3\\lib\\site-packages\\keras\\backend\\tensorflow_backend.py:517: The name tf.placeholder is deprecated. Please use tf.compat.v1.placeholder instead.\n",
      "\n",
      "WARNING:tensorflow:From C:\\Users\\ACER\\Anaconda3\\lib\\site-packages\\keras\\backend\\tensorflow_backend.py:4138: The name tf.random_uniform is deprecated. Please use tf.random.uniform instead.\n",
      "\n",
      "WARNING:tensorflow:From C:\\Users\\ACER\\Anaconda3\\lib\\site-packages\\keras\\backend\\tensorflow_backend.py:133: The name tf.placeholder_with_default is deprecated. Please use tf.compat.v1.placeholder_with_default instead.\n",
      "\n",
      "WARNING:tensorflow:From C:\\Users\\ACER\\Anaconda3\\lib\\site-packages\\keras\\backend\\tensorflow_backend.py:3445: calling dropout (from tensorflow.python.ops.nn_ops) with keep_prob is deprecated and will be removed in a future version.\n",
      "Instructions for updating:\n",
      "Please use `rate` instead of `keep_prob`. Rate should be set to `rate = 1 - keep_prob`.\n"
     ]
    }
   ],
   "source": [
    "encoder_inputs = Input(shape=(None, 50)) \n",
    "encoder = LSTM(latent_dim, dropout=dropout, return_state=True)\n",
    "encoder_outputs, state_h, state_c = encoder(encoder_inputs)\n",
    "encoder_states = [state_h, state_c]"
   ]
  },
  {
   "cell_type": "code",
   "execution_count": 9,
   "metadata": {},
   "outputs": [],
   "source": [
    "decoder_inputs = Input(shape=(None, 50)) \n",
    "decoder_lstm = LSTM(latent_dim, dropout=dropout, return_sequences=True, return_state=True)\n",
    "decoder_outputs, _, _ = decoder_lstm(decoder_inputs,\n",
    "                                     initial_state=encoder_states)\n"
   ]
  },
  {
   "cell_type": "code",
   "execution_count": 10,
   "metadata": {},
   "outputs": [],
   "source": [
    "#decoder_dense = Dense(decoder_outputs) # 1 continuous output at each timestep\n",
    "decoder_outputs = Dense(50, activation='softmax')(decoder_outputs)\n"
   ]
  },
  {
   "cell_type": "code",
   "execution_count": 11,
   "metadata": {},
   "outputs": [],
   "source": [
    "model = Model([encoder_inputs, decoder_inputs], decoder_outputs)"
   ]
  },
  {
   "cell_type": "code",
   "execution_count": 12,
   "metadata": {},
   "outputs": [
    {
     "name": "stdout",
     "output_type": "stream",
     "text": [
      "__________________________________________________________________________________________________\n",
      "Layer (type)                    Output Shape         Param #     Connected to                     \n",
      "==================================================================================================\n",
      "input_1 (InputLayer)            (None, None, 50)     0                                            \n",
      "__________________________________________________________________________________________________\n",
      "input_2 (InputLayer)            (None, None, 50)     0                                            \n",
      "__________________________________________________________________________________________________\n",
      "lstm_1 (LSTM)                   [(None, 128), (None, 91648       input_1[0][0]                    \n",
      "__________________________________________________________________________________________________\n",
      "lstm_2 (LSTM)                   [(None, None, 128),  91648       input_2[0][0]                    \n",
      "                                                                 lstm_1[0][1]                     \n",
      "                                                                 lstm_1[0][2]                     \n",
      "__________________________________________________________________________________________________\n",
      "dense_1 (Dense)                 (None, None, 50)     6450        lstm_2[0][0]                     \n",
      "==================================================================================================\n",
      "Total params: 189,746\n",
      "Trainable params: 189,746\n",
      "Non-trainable params: 0\n",
      "__________________________________________________________________________________________________\n"
     ]
    }
   ],
   "source": [
    "model.summary()\n"
   ]
  },
  {
   "cell_type": "code",
   "execution_count": 13,
   "metadata": {},
   "outputs": [
    {
     "name": "stdout",
     "output_type": "stream",
     "text": [
      "WARNING:tensorflow:From C:\\Users\\ACER\\Anaconda3\\lib\\site-packages\\keras\\optimizers.py:790: The name tf.train.Optimizer is deprecated. Please use tf.compat.v1.train.Optimizer instead.\n",
      "\n",
      "WARNING:tensorflow:From C:\\Users\\ACER\\Anaconda3\\lib\\site-packages\\tensorflow\\python\\ops\\math_grad.py:1250: add_dispatch_support.<locals>.wrapper (from tensorflow.python.ops.array_ops) is deprecated and will be removed in a future version.\n",
      "Instructions for updating:\n",
      "Use tf.where in 2.0, which has the same broadcast rule as np.where\n",
      "WARNING:tensorflow:From C:\\Users\\ACER\\Anaconda3\\lib\\site-packages\\keras\\backend\\tensorflow_backend.py:986: The name tf.assign_add is deprecated. Please use tf.compat.v1.assign_add instead.\n",
      "\n",
      "Epoch 1/30\n",
      "20/20 [==============================] - 60s 3s/step - loss: 7.1436e-04\n",
      "Epoch 2/30\n",
      "20/20 [==============================] - 54s 3s/step - loss: 7.1361e-04\n",
      "Epoch 3/30\n",
      "20/20 [==============================] - 55s 3s/step - loss: 7.1298e-04\n",
      "Epoch 4/30\n",
      "20/20 [==============================] - 55s 3s/step - loss: 7.1235e-04\n",
      "Epoch 5/30\n",
      "20/20 [==============================] - 52s 3s/step - loss: 7.1108e-04\n",
      "Epoch 6/30\n",
      "20/20 [==============================] - 58s 3s/step - loss: 7.1084e-04\n",
      "Epoch 7/30\n",
      "20/20 [==============================] - 56s 3s/step - loss: 7.0966e-04\n",
      "Epoch 8/30\n",
      "20/20 [==============================] - 53s 3s/step - loss: 7.0891e-04\n",
      "Epoch 9/30\n",
      "20/20 [==============================] - 51s 3s/step - loss: 7.0800e-04\n",
      "Epoch 10/30\n",
      "20/20 [==============================] - 53s 3s/step - loss: 7.0734e-04\n",
      "Epoch 11/30\n",
      "20/20 [==============================] - 63s 3s/step - loss: 7.0626e-04\n",
      "Epoch 12/30\n",
      "20/20 [==============================] - 64s 3s/step - loss: 7.0559e-04\n",
      "Epoch 13/30\n",
      "20/20 [==============================] - 61s 3s/step - loss: 7.0467e-04\n",
      "Epoch 14/30\n",
      "20/20 [==============================] - 57s 3s/step - loss: 7.0360e-04\n",
      "Epoch 15/30\n",
      "20/20 [==============================] - 56s 3s/step - loss: 7.0222e-04\n",
      "Epoch 16/30\n",
      "20/20 [==============================] - 55s 3s/step - loss: 7.0141e-04\n",
      "Epoch 17/30\n",
      "20/20 [==============================] - 63s 3s/step - loss: 7.0026e-04\n",
      "Epoch 18/30\n",
      "20/20 [==============================] - 57s 3s/step - loss: 6.9925e-04\n",
      "Epoch 19/30\n",
      "20/20 [==============================] - 52s 3s/step - loss: 6.9865e-04\n",
      "Epoch 20/30\n",
      "20/20 [==============================] - 53s 3s/step - loss: 6.9714e-04\n",
      "Epoch 21/30\n",
      "20/20 [==============================] - 52s 3s/step - loss: 6.9634e-04\n",
      "Epoch 22/30\n",
      "20/20 [==============================] - 57s 3s/step - loss: 6.9491e-04\n",
      "Epoch 23/30\n",
      "20/20 [==============================] - 54s 3s/step - loss: 6.9342e-04\n",
      "Epoch 24/30\n",
      "20/20 [==============================] - 56s 3s/step - loss: 6.9211e-04\n",
      "Epoch 25/30\n",
      "20/20 [==============================] - 56s 3s/step - loss: 6.9130e-04\n",
      "Epoch 26/30\n",
      "20/20 [==============================] - 56s 3s/step - loss: 6.8995e-04\n",
      "Epoch 27/30\n",
      "20/20 [==============================] - 57s 3s/step - loss: 6.8852e-04\n",
      "Epoch 28/30\n",
      "20/20 [==============================] - 55s 3s/step - loss: 6.8721e-04\n",
      "Epoch 29/30\n",
      "20/20 [==============================] - 63s 3s/step - loss: 6.8511e-04\n",
      "Epoch 30/30\n",
      "20/20 [==============================] - 51s 3s/step - loss: 6.8382e-04\n"
     ]
    }
   ],
   "source": [
    "model.compile(Adam(), loss='mean_squared_error')\n",
    "history = model.fit([encoder_input_data, decoder_input_data], decoder_target_data,batch_size=batch_size,epochs=30)"
   ]
  },
  {
   "cell_type": "code",
   "execution_count": 14,
   "metadata": {},
   "outputs": [],
   "source": [
    "encoder_model = Model(encoder_inputs, encoder_states)\n",
    "pred_steps = 10\n",
    "\n",
    "decoder_state_input_h = Input(shape=(latent_dim,))\n",
    "decoder_state_input_c = Input(shape=(latent_dim,))\n",
    "decoder_states_inputs = [decoder_state_input_h, decoder_state_input_c]\n",
    "\n",
    "decoder_outputs, state_h, state_c = decoder_lstm(decoder_inputs, initial_state=decoder_states_inputs)\n",
    "decoder_states = [state_h, state_c]\n",
    "\n",
    "decoder_outputs = Dense(50, activation='softmax')(decoder_outputs)\n",
    "decoder_model = Model([decoder_inputs] + decoder_states_inputs,\n",
    "                      [decoder_outputs] + decoder_states)"
   ]
  },
  {
   "cell_type": "code",
   "execution_count": 15,
   "metadata": {},
   "outputs": [],
   "source": [
    "def decode_sequence(input_seq):\n",
    "    \n",
    "    # Encode the input as state vectors.\n",
    "    states_value = encoder_model.predict(input_seq)\n",
    "\n",
    "    # Generate empty target sequence of length 1.\n",
    "    target_seq = np.zeros((1, 1, 50))\n",
    "    \n",
    "    # Populate the first target sequence with end of encoding series pageviews\n",
    "    target_seq[0, 0, :] = input_seq[0, -1, :]\n",
    "\n",
    "    # Sampling loop for a batch of sequences - we will fill decoded_seq with predictions\n",
    "    # (to simplify, here we assume a batch of size 1).\n",
    "\n",
    "    decoded_seq = np.zeros((1,pred_steps,50))\n",
    "    for i in range(pred_steps):\n",
    "        \n",
    "        output, h, c = decoder_model.predict([target_seq] + states_value)\n",
    "        \n",
    "        decoded_seq[0,i,:] = output[0,0,:]\n",
    "\n",
    "        # Update the target sequence (of length 1).\n",
    "        target_seq = np.zeros((1, 1, 50))\n",
    "        target_seq[0, 0, :] = output[0,0,:]\n",
    "\n",
    "        # Update states\n",
    "        states_value = [h, c]\n",
    "\n",
    "    return decoded_seq"
   ]
  },
  {
   "cell_type": "code",
   "execution_count": 16,
   "metadata": {},
   "outputs": [
    {
     "data": {
      "text/plain": [
       "291146"
      ]
     },
     "execution_count": 16,
     "metadata": {},
     "output_type": "execute_result"
    }
   ],
   "source": [
    "len(prob)"
   ]
  },
  {
   "cell_type": "code",
   "execution_count": 17,
   "metadata": {},
   "outputs": [
    {
     "data": {
      "text/plain": [
       "280.0"
      ]
     },
     "execution_count": 17,
     "metadata": {},
     "output_type": "execute_result"
    }
   ],
   "source": [
    "# If we have to merge 1000 fake request set we have to add fake request at every n (here 280) original request interval\n",
    "(290000-10000)/1000"
   ]
  },
  {
   "cell_type": "markdown",
   "metadata": {},
   "source": [
    "# Prediction and creating fake request"
   ]
  },
  {
   "cell_type": "code",
   "execution_count": 18,
   "metadata": {},
   "outputs": [
    {
     "name": "stdout",
     "output_type": "stream",
     "text": [
      "0\n",
      "100\n",
      "200\n",
      "300\n",
      "400\n",
      "500\n",
      "600\n",
      "700\n",
      "800\n",
      "900\n"
     ]
    }
   ],
   "source": [
    "# find 1000 future request set prediction. \n",
    "# each set contains 10 future request.\n",
    "prediction = []\n",
    "for i in range(1000):\n",
    "    if i%100 == 0:\n",
    "        print(i)\n",
    "    prediction.append(decode_sequence(prob[i*280:i*280 + 10000,:].reshape(1,10000,50)))"
   ]
  },
  {
   "cell_type": "code",
   "execution_count": 19,
   "metadata": {},
   "outputs": [
    {
     "data": {
      "text/plain": [
       "(1000, 10, 50)"
      ]
     },
     "execution_count": 19,
     "metadata": {},
     "output_type": "execute_result"
    }
   ],
   "source": [
    "prediction = np.array(prediction).reshape(-1,10,50)\n",
    "prediction.shape"
   ]
  },
  {
   "cell_type": "code",
   "execution_count": 20,
   "metadata": {},
   "outputs": [
    {
     "data": {
      "text/plain": [
       "array([0.02079049, 0.01988892, 0.01955158, 0.02005449, 0.02028988,\n",
       "       0.02020137, 0.02006342, 0.02060241, 0.02022753, 0.02022043,\n",
       "       0.02047505, 0.01954832, 0.02016886, 0.01936567, 0.02072426,\n",
       "       0.01973371, 0.02061834, 0.02038149, 0.02114472, 0.01928058,\n",
       "       0.0204049 , 0.02093335, 0.01928626, 0.02015774, 0.0199403 ,\n",
       "       0.01870837, 0.01892453, 0.02053333, 0.02069815, 0.01919586,\n",
       "       0.02012528, 0.01981623, 0.02098527, 0.02088741, 0.02061937,\n",
       "       0.01865573, 0.0201678 , 0.01924224, 0.01855103, 0.01987716,\n",
       "       0.0197109 , 0.02037936, 0.01990057, 0.01940645, 0.02034715,\n",
       "       0.01943516, 0.01974097, 0.02001509, 0.01960286, 0.02041964])"
      ]
     },
     "execution_count": 20,
     "metadata": {},
     "output_type": "execute_result"
    }
   ],
   "source": [
    "prediction[0][0]"
   ]
  },
  {
   "cell_type": "code",
   "execution_count": 21,
   "metadata": {},
   "outputs": [
    {
     "data": {
      "text/plain": [
       "(1000, 50)"
      ]
     },
     "execution_count": 21,
     "metadata": {},
     "output_type": "execute_result"
    }
   ],
   "source": [
    "# from each request prediction top 5 request with highest probability is selected for fake request.\n",
    "# total 50 fake requests (10*5) is merged at every n_th (280) interval.\n",
    "fake_request = []\n",
    "for i in range(1000):\n",
    "    temp = []\n",
    "    for j in range(10):\n",
    "        for k in range(50):\n",
    "            if prediction[i,j,k] > sorted(prediction[i,j],reverse = 1)[5]:\n",
    "                temp.append(k)        \n",
    "    fake_request.append(temp)  \n",
    "fake_request = np.array(fake_request) \n",
    "fake_request.shape"
   ]
  },
  {
   "cell_type": "code",
   "execution_count": 22,
   "metadata": {},
   "outputs": [
    {
     "data": {
      "text/plain": [
       "340000"
      ]
     },
     "execution_count": 22,
     "metadata": {},
     "output_type": "execute_result"
    }
   ],
   "source": [
    "290000 + 1000*50"
   ]
  },
  {
   "cell_type": "code",
   "execution_count": 29,
   "metadata": {},
   "outputs": [
    {
     "data": {
      "text/plain": [
       "(340000,)"
      ]
     },
     "execution_count": 29,
     "metadata": {},
     "output_type": "execute_result"
    }
   ],
   "source": [
    "# simply merging both original and fake requests.\n",
    "request = []\n",
    "for i in range(10000):\n",
    "    request.append(req[i])\n",
    "for i in range(50):\n",
    "    request.append(fake_request[0][i])\n",
    "for i in range(1000):\n",
    "    for j in range(280 + 50):\n",
    "        if j < 280:\n",
    "            request.append(req[10000 + j + 280*i])\n",
    "        elif(i>0):\n",
    "            request.append(fake_request[i,j-280])\n",
    "request = np.array(request)\n",
    "request.shape"
   ]
  },
  {
   "cell_type": "code",
   "execution_count": 30,
   "metadata": {},
   "outputs": [
    {
     "data": {
      "text/plain": [
       "0.0"
      ]
     },
     "execution_count": 30,
     "metadata": {},
     "output_type": "execute_result"
    }
   ],
   "source": [
    "request[10000]"
   ]
  },
  {
   "cell_type": "markdown",
   "metadata": {},
   "source": [
    "# Caching Policy"
   ]
  },
  {
   "cell_type": "code",
   "execution_count": 31,
   "metadata": {},
   "outputs": [],
   "source": [
    "import time\n",
    "import urllib\n",
    "import urllib.request\n",
    "from functools import lru_cache\n",
    "@lru_cache(maxsize=5)\n",
    "def get_url(resource):\n",
    "    try:\n",
    "        \n",
    "        with urllib.request.urlopen(resource) as s:\n",
    "            return True\n",
    "    except Exception as e:\n",
    "        return False"
   ]
  },
  {
   "cell_type": "code",
   "execution_count": 32,
   "metadata": {},
   "outputs": [
    {
     "data": {
      "text/plain": [
       "CacheInfo(hits=88253, misses=203893, maxsize=5, currsize=5)"
      ]
     },
     "execution_count": 32,
     "metadata": {},
     "output_type": "execute_result"
    }
   ],
   "source": [
    "hit_LRU = []\n",
    "req = list(req)\n",
    "for i in range(len(req)):\n",
    "    get_url(req[i])\n",
    "    hit_LRU.append(get_url.cache_info().hits)\n",
    "get_url.cache_info()"
   ]
  },
  {
   "cell_type": "code",
   "execution_count": 33,
   "metadata": {},
   "outputs": [],
   "source": [
    "import time\n",
    "import urllib\n",
    "import urllib.request\n",
    "from functools import lru_cache\n",
    "@lru_cache(maxsize=5)\n",
    "def get_url(resource):\n",
    "    try:\n",
    "        with urllib.request.urlopen(resource) as s:\n",
    "            return True\n",
    "    except Exception as e:\n",
    "        return False"
   ]
  },
  {
   "cell_type": "code",
   "execution_count": 34,
   "metadata": {},
   "outputs": [
    {
     "data": {
      "text/plain": [
       "CacheInfo(hits=107966, misses=184180, maxsize=5, currsize=5)"
      ]
     },
     "execution_count": 34,
     "metadata": {},
     "output_type": "execute_result"
    }
   ],
   "source": [
    "hit_deepcache = []\n",
    "for i in range(len(req)):\n",
    "    get_url(request[i])\n",
    "    hit_deepcache.append(get_url.cache_info().hits)\n",
    "get_url.cache_info()"
   ]
  },
  {
   "cell_type": "code",
   "execution_count": 57,
   "metadata": {},
   "outputs": [
    {
     "data": {
      "text/plain": [
       "Text(0, 0.5, 'Hit-rate')"
      ]
     },
     "execution_count": 57,
     "metadata": {},
     "output_type": "execute_result"
    },
    {
     "data": {
      "image/png": "[encoded data removed]",
      "text/plain": [
       "<Figure size 432x288 with 1 Axes>"
      ]
     },
     "metadata": {
      "needs_background": "light"
     },
     "output_type": "display_data"
    }
   ],
   "source": [
    "plt.plot(hit_LRU,'blue',label = 'LRU')\n",
    "plt.plot(hit_deepcache,'red',label = 'DeepCache')\n",
    "plt.legend()\n",
    "plt.xlabel('Requests')\n",
    "plt.ylabel('Hit-rate')"
   ]
  }
 ],
 "metadata": {
  "kernelspec": {
   "display_name": "Python 3",
   "language": "python",
   "name": "python3"
  },
  "language_info": {
   "codemirror_mode": {
    "name": "ipython",
    "version": 3
   },
   "file_extension": ".py",
   "mimetype": "text/x-python",
   "name": "python",
   "nbconvert_exporter": "python",
   "pygments_lexer": "ipython3",
   "version": "3.7.4"
  }
 },
 "nbformat": 4,
 "nbformat_minor": 2
}
