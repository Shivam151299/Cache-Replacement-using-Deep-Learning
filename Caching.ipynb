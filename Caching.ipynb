{
  "nbformat": 4,
  "nbformat_minor": 0,
  "metadata": {
    "colab": {
      "name": "Caching ",
      "provenance": [],
      "collapsed_sections": []
    },
    "kernelspec": {
      "name": "python3",
      "display_name": "Python 3"
    }
  },
  "cells": [
    {
      "cell_type": "code",
      "metadata": {
        "id": "g6dzR9rt_krF",
        "colab_type": "code",
        "colab": {}
      },
      "source": [
        "import numpy as np\n",
        "from numpy import random\n",
        "import matplotlib.pyplot as plt\n",
        "%matplotlib inline"
      ],
      "execution_count": 1,
      "outputs": []
    },
    {
      "cell_type": "code",
      "metadata": {
        "id": "LuKLM7myyIoZ",
        "colab_type": "code",
        "colab": {
          "base_uri": "https://localhost:8080/",
          "height": 121
        },
        "outputId": "d25b29cf-1cda-4f4d-d7f2-42a9d9dae84d"
      },
      "source": [
        "from google.colab import drive\n",
        "drive.mount('/content/drive')"
      ],
      "execution_count": 2,
      "outputs": [
        {
          "output_type": "stream",
          "text": [
            "Go to this URL in a browser: https://accounts.google.com/o/oauth2/auth?client_id=947318989803-6bn6qk8qdgf4n4g3pfee6491hc0brc4i.apps.googleusercontent.com&redirect_uri=urn%3aietf%3awg%3aoauth%3a2.0%3aoob&scope=email%20https%3a%2f%2fwww.googleapis.com%2fauth%2fdocs.test%20https%3a%2f%2fwww.googleapis.com%2fauth%2fdrive%20https%3a%2f%2fwww.googleapis.com%2fauth%2fdrive.photos.readonly%20https%3a%2f%2fwww.googleapis.com%2fauth%2fpeopleapi.readonly&response_type=code\n",
            "\n",
            "Enter your authorization code:\n",
            "··········\n",
            "Mounted at /content/drive\n"
          ],
          "name": "stdout"
        }
      ]
    },
    {
      "cell_type": "code",
      "metadata": {
        "id": "SOUAMkThUS-c",
        "colab_type": "code",
        "colab": {}
      },
      "source": [
        "N = 100 # total ids \n",
        "pi = 3.14"
      ],
      "execution_count": 3,
      "outputs": []
    },
    {
      "cell_type": "markdown",
      "metadata": {
        "id": "Av1Kgt5FUF3x",
        "colab_type": "text"
      },
      "source": [
        "LRU"
      ]
    },
    {
      "cell_type": "code",
      "metadata": {
        "id": "IU2Dme6MjK66",
        "colab_type": "code",
        "colab": {}
      },
      "source": [
        "def LRU(y, x, request_time,con,C):\n",
        "  [N,I] = x.shape\n",
        "  J = len(y)\n",
        "  old = y.reshape(J*N).copy()\n",
        "  for j in range(J):\n",
        "    x_t_j = np.zeros((N),int)\n",
        "    file_req_time = np.zeros((N),int)\n",
        "\n",
        "    # to find which users are connected to this cache \n",
        "    connected_users = np.where(con[:,j]==1)[0]\n",
        "    for k in range(len(connected_users)):\n",
        "      x_t_j += x[:,connected_users[k]]\n",
        "      file_req_time = np.maximum(file_req_time, request_time[:,connected_users[k]])\n",
        "    x_t_j = np.minimum(np.ones(N),x_t_j)\n",
        "\n",
        "    # file which is not requested but still in the cache\n",
        "    a1 = np.transpose(np.logical_and(y[j],np.logical_not(np.logical_and(y[j],np.transpose(x_t_j)))))\n",
        "    a = np.where(a1 == 1)[0]\n",
        "    # file requested but not in the cache.\n",
        "    b1 = np.transpose(np.logical_and(np.transpose(x_t_j),np.logical_not(np.logical_and(y[j],np.transpose(x_t_j))))) \n",
        "    b = np.where(b1 == 1)[0]\n",
        "\n",
        "    if len(a)>0 and len(b)>0:\n",
        "      if len(a)>len(b):\n",
        "        t = np.zeros(len(a))\n",
        "        for k in range(len(a)):\n",
        "          t[k] = file_req_time[a[k]]\n",
        "        replace = (t).argsort()[:len(b)]\n",
        "        for k in range(len(b)):\n",
        "          y[j,a[int(replace[k])]] = 0\n",
        "        for k in range(len(b)):\n",
        "            y[j,b[k]] = 1\n",
        "      \n",
        "      else:\n",
        "        t = np.zeros(len(b))\n",
        "        for k in range(len(b)):\n",
        "          t[k] = file_req_time[b[k]]\n",
        "        replace = (t).argsort()[:len(a)]\n",
        "        for k in range(len(a)):\n",
        "          y[j,b[int(replace[k])]] = 1\n",
        "        for k in range(len(a)):\n",
        "          y[j,a[k]] = 0\n",
        "  new = y.reshape(J*N)\n",
        "  download = np.sum(np.logical_and(new,np.logical_not(old)))\n",
        "  return y,download"
      ],
      "execution_count": 4,
      "outputs": []
    },
    {
      "cell_type": "markdown",
      "metadata": {
        "id": "rlnncX3lUi-6",
        "colab_type": "text"
      },
      "source": [
        "LFU"
      ]
    },
    {
      "cell_type": "code",
      "metadata": {
        "id": "rZKodE159k31",
        "colab_type": "code",
        "colab": {}
      },
      "source": [
        "def LFU(y,x,freq,con,C):\n",
        "  [N,I] = x.shape\n",
        "  J = len(y)\n",
        "  old = y.reshape(J*N).copy()\n",
        "  for j in range(J):\n",
        "    file_freq = np.zeros((N),int)\n",
        "    x_t_j = np.zeros((N),int)\n",
        "\n",
        "    # to find which users are connected to this cache \n",
        "    connected_users = np.where(con[:,j]==1)[0]\n",
        "    for k in range(len(connected_users)):\n",
        "      x_t_j += x[:,connected_users[k]]\n",
        "      file_freq += freq[:,connected_users[k]]\n",
        "    x_t_j = np.minimum(np.ones(N),x_t_j)\n",
        "\n",
        "    # file which is not requested but still in the cache\n",
        "    a1 = np.transpose(np.logical_and(y[j],np.logical_not(np.logical_and(y[j],np.transpose(x_t_j)))))\n",
        "    a = np.where(a1 == 1)[0]\n",
        "    # file requested but not in the cache.\n",
        "    b1 = np.transpose(np.logical_and(np.transpose(x_t_j),np.logical_not(np.logical_and(y[j],np.transpose(x_t_j))))) \n",
        "    b = np.where(b1 == 1)[0]\n",
        "\n",
        "    if len(a)>0 and len(b)>0:\n",
        "      if len(a)>len(b):\n",
        "        t = np.zeros(len(a))\n",
        "        for k in range(len(a)):\n",
        "          t[k] = file_freq[a[k]]\n",
        "        replace = (t).argsort()[:len(b)]\n",
        "        for k in range(len(b)):\n",
        "          y[j,a[int(replace[k])]] = 0\n",
        "        for k in range(len(b)):\n",
        "            y[j,b[k]] = 1\n",
        "      \n",
        "      else:\n",
        "        t = np.zeros(len(b))\n",
        "        for k in range(len(b)):\n",
        "          t[k] = file_freq[b[k]]\n",
        "        replace = (t).argsort()[:len(a)]\n",
        "        for k in range(len(a)):\n",
        "          y[j,b[int(replace[k])]] = 1\n",
        "        for k in range(len(a)):\n",
        "          y[j,a[k]] = 0\n",
        "  new = y.reshape(J*N)\n",
        "  download = np.sum(np.logical_and(new,np.logical_not(old)))\n",
        "  return y,download"
      ],
      "execution_count": 5,
      "outputs": []
    },
    {
      "cell_type": "markdown",
      "metadata": {
        "id": "NxQfsTnXWQyP",
        "colab_type": "text"
      },
      "source": [
        "perturbed count"
      ]
    },
    {
      "cell_type": "code",
      "metadata": {
        "id": "V4d6vCcjWOP7",
        "colab_type": "code",
        "colab": {}
      },
      "source": [
        "def per_count(eta,count,normal_dist):\n",
        "  [N,I] = count.shape\n",
        "  p_count = np.zeros((N,I),dtype = 'f4')\n",
        "  for i in range(I):\n",
        "    p_count[:,i] = count[:,i] + np.round(np.multiply(eta, normal_dist[:,i]).reshape(N),4)\n",
        "  return p_count"
      ],
      "execution_count": 6,
      "outputs": []
    },
    {
      "cell_type": "markdown",
      "metadata": {
        "id": "WIbLBZBYswP8",
        "colab_type": "text"
      },
      "source": [
        "GREEDY"
      ]
    },
    {
      "cell_type": "code",
      "metadata": {
        "id": "plLnprjKsv75",
        "colab_type": "code",
        "colab": {}
      },
      "source": [
        "def Greedy(con,count,C):\n",
        "  [I,J] = con.shape\n",
        "  [N,I] = count.shape\n",
        "  load = np.zeros((1,J),dtype = int)\n",
        "\n",
        "  for i in range(I):\n",
        "    for f in range(N):\n",
        "      if count[f,i] < 0:\n",
        "        count[f,i] = 0\n",
        "  \n",
        "  loadc = 0\n",
        "  y = np.zeros((J,N),dtype = int)\n",
        "  z = np.zeros((I,N),dtype = 'f4')\n",
        "  mark = np.zeros((I,N),dtype = int)\n",
        "\n",
        "  while(loadc < J):\n",
        "    best_cache = -1\n",
        "    best_file = -1\n",
        "    best_imp = -1\n",
        "\n",
        "    for j in range(J):\n",
        "      if load[0,j] < C:\n",
        "        for f in range(N):\n",
        "          if y[j,f] != 1:\n",
        "            imp = 0\n",
        "\n",
        "            for i in range(I):\n",
        "              if con[i,j] == 1 and mark[i,f] == 0:\n",
        "                imp += count[f,i]\n",
        "\n",
        "            if imp >= best_imp:\n",
        "              best_cache = j\n",
        "              best_file = f\n",
        "              best_imp = imp\n",
        "\n",
        "    y[best_cache,best_file] = 1\n",
        "\n",
        "    for i in range(I):\n",
        "      if con[i,best_cache] == 1:\n",
        "        mark[i,best_file] = 1\n",
        "\n",
        "    load[0,best_cache] += 1\n",
        "    if load[0,best_cache] == C:\n",
        "      loadc += 1\n",
        "  \n",
        "  for i in range(I):\n",
        "    for f in range(N):\n",
        "      for j in range(J):\n",
        "        if con[i,j] == 1:\n",
        "          z[i,f] = np.maximum(y[j,f],z[i,f])\n",
        "      \n",
        "  return y,z"
      ],
      "execution_count": 7,
      "outputs": []
    },
    {
      "cell_type": "markdown",
      "metadata": {
        "id": "5JQ1Hl3trE62",
        "colab_type": "text"
      },
      "source": [
        "MARKER"
      ]
    },
    {
      "cell_type": "code",
      "metadata": {
        "id": "jvtrx2ek5QqM",
        "colab_type": "code",
        "colab": {}
      },
      "source": [
        "def Marker(y,x,bit,con,phase,C):\n",
        "  [N,I] = x.shape\n",
        "  J = len(y)\n",
        "  old = y.reshape(J*N).copy()\n",
        "  \n",
        "  for j in range(J):\n",
        "    x_t_j = np.zeros((N),int)\n",
        "    connected_users = np.where(con[:,j]==1)[0]\n",
        "    for k in range(len(connected_users)):\n",
        "      x_t_j += x[:,connected_users[k]]\n",
        "    x_t_j = np.minimum(np.ones((N),int),x_t_j)\n",
        "\n",
        "    phase[j,:] += x_t_j  \n",
        "    phase[j] = np.minimum(np.ones((N),int),phase[j]) \n",
        "    # new phase\n",
        "    if np.sum(phase[j]) >= C:\n",
        "      bit[j,:] = np.zeros((1,N),int) #start new phase\n",
        "      phase[j,:] = np.zeros((1,N),int)\n",
        "      \n",
        "    # file which is not requested but still in the cache\n",
        "    a1 = np.transpose(np.logical_and(y[j],np.logical_not(np.logical_and(y[j],np.transpose(x_t_j)))))\n",
        "    a = np.where(a1 == 1)[0]\n",
        "    # file requested but not in the cache.\n",
        "    b1 = np.transpose(np.logical_and(np.transpose(x_t_j),np.logical_not(np.logical_and(y[j],np.transpose(x_t_j))))) \n",
        "    b = np.where(b1 == 1)[0]\n",
        "    # file requested available in cache\n",
        "    c1 = np.logical_and(y[j],x_t_j.reshape(1,N)).reshape(N)\n",
        "    c = np.where(c1 == 1)[0]\n",
        "    \n",
        "    # if requested file is available then bit is set for that file\n",
        "    for i in range(len(c)):\n",
        "      bit[j,c[i]] = 1 \n",
        "    \n",
        "    # now replace add all b1 files in cache and evict randomly untill end of the face.\n",
        "    for i in range(len(b)):\n",
        "      for n in range(N):\n",
        "        if np.logical_and(y[j,n],np.logical_not(bit[j,n])) == 1:\n",
        "          y[j,n] = 0\n",
        "          bit[j,n] = 1\n",
        "          break\n",
        "    for i in range(len(b)):\n",
        "      y[j,b[i]] = 1\n",
        "              \n",
        "  new = y.reshape(J*N).copy()\n",
        "  download = np.sum(np.logical_and(new,np.logical_not(old)))\n",
        "  return y,bit,download,phase"
      ],
      "execution_count": 8,
      "outputs": []
    },
    {
      "cell_type": "markdown",
      "metadata": {
        "id": "8RkOlMhDjohA",
        "colab_type": "text"
      },
      "source": [
        "SINGLE CACHE"
      ]
    },
    {
      "cell_type": "code",
      "metadata": {
        "id": "dUQqUmlZnurN",
        "colab_type": "code",
        "colab": {}
      },
      "source": [
        "gen_req1 = np.load('/content/drive/My Drive/gen_req.npy')\n",
        "req1 = np.load('/content/drive/My Drive/req.npy')"
      ],
      "execution_count": 9,
      "outputs": []
    },
    {
      "cell_type": "code",
      "metadata": {
        "id": "ZyC3_Jwrjn5s",
        "colab_type": "code",
        "colab": {
          "base_uri": "https://localhost:8080/",
          "height": 34
        },
        "outputId": "0fe87ac6-b8f2-45bb-eb9e-5f25e87d37f1"
      },
      "source": [
        "I = 1 #users\n",
        "T = 50000\n",
        "l = 1000000\n",
        "degree = 1\n",
        "J = 1 #caches\n",
        "C = 5\n",
        "connection = np.array([[1]])\n",
        "connection.shape"
      ],
      "execution_count": 10,
      "outputs": [
        {
          "output_type": "execute_result",
          "data": {
            "text/plain": [
              "(1, 1)"
            ]
          },
          "metadata": {
            "tags": []
          },
          "execution_count": 10
        }
      ]
    },
    {
      "cell_type": "code",
      "metadata": {
        "id": "tKQHlx7nN-_L",
        "colab_type": "code",
        "colab": {
          "base_uri": "https://localhost:8080/",
          "height": 34
        },
        "outputId": "5111201a-086e-4e4d-fc1e-29c7923385ce"
      },
      "source": [
        "req1.shape"
      ],
      "execution_count": 11,
      "outputs": [
        {
          "output_type": "execute_result",
          "data": {
            "text/plain": [
              "(2001000,)"
            ]
          },
          "metadata": {
            "tags": []
          },
          "execution_count": 11
        }
      ]
    },
    {
      "cell_type": "code",
      "metadata": {
        "id": "4Xqi6iqtfnhE",
        "colab_type": "code",
        "colab": {
          "base_uri": "https://localhost:8080/",
          "height": 34
        },
        "outputId": "ac3043ef-77a3-4586-9d30-b202298a36ec"
      },
      "source": [
        "req = req1[l:l+I*T].reshape(I,T)\n",
        "req"
      ],
      "execution_count": 12,
      "outputs": [
        {
          "output_type": "execute_result",
          "data": {
            "text/plain": [
              "array([[98., 50., 48., ..., 60., 41., 92.]])"
            ]
          },
          "metadata": {
            "tags": []
          },
          "execution_count": 12
        }
      ]
    },
    {
      "cell_type": "code",
      "metadata": {
        "id": "7NQUPQz7JvtR",
        "colab_type": "code",
        "colab": {
          "base_uri": "https://localhost:8080/",
          "height": 34
        },
        "outputId": "dc3986e2-7f77-4fee-9808-fa0fdf916b2a"
      },
      "source": [
        "gen_req = gen_req1[l:l+I*T].reshape(I,T)\n",
        "gen_req"
      ],
      "execution_count": 16,
      "outputs": [
        {
          "output_type": "execute_result",
          "data": {
            "text/plain": [
              "array([[ 3., 29., 77., ..., 77., 95., 27.]])"
            ]
          },
          "metadata": {
            "tags": []
          },
          "execution_count": 16
        }
      ]
    },
    {
      "cell_type": "code",
      "metadata": {
        "id": "pWowJlSAki2e",
        "colab_type": "code",
        "colab": {
          "base_uri": "https://localhost:8080/",
          "height": 121
        },
        "outputId": "d9d40b30-6a19-4cbb-86a7-ce7460807e04"
      },
      "source": [
        "y_LRU = np.zeros((J,N),dtype = int)\n",
        "y_LFU = np.zeros((J,N),dtype = int)\n",
        "y_FTPL = np.zeros((J,N),dtype = int)\n",
        "y_LSTM = np.zeros((J,N),dtype = int)\n",
        "y_mrk = np.zeros((J,N),dtype = int)\n",
        "y_mrk[:,:C] = np.ones((J,C),dtype = int)\n",
        "y_LSTM[:,:C] = np.ones((J,C),dtype = int)\n",
        "y_FTPL[:,:C] = np.ones((J,C),dtype = int)\n",
        "y_LRU[:,:C] = np.ones((J,C),dtype = int)\n",
        "y_LFU[:,:C] = np.ones((J,C),dtype = int)\n",
        "count = np.zeros((N,I),dtype = int)\n",
        "reward_LSTM =  np.zeros((T),int)\n",
        "reward_FTPL =  np.zeros((T),int)\n",
        "reward_LRU =  np.zeros((T),int)\n",
        "reward_LFU =  np.zeros((T),int)\n",
        "reward_mrk =  np.zeros((T),int)\n",
        "hits_mrk =  []\n",
        "hits_FTPL =  []\n",
        "hits_LRU =  []\n",
        "hits_LFU =  []\n",
        "hits_LSTM = []\n",
        "download_FTPL =  []\n",
        "download_LRU =  []\n",
        "download_LFU =  []\n",
        "download_LSTM = []\n",
        "download_mrk = []\n",
        "mrk_downloads_slotwise = np.zeros((T),int)\n",
        "FTPL_downloads_slotwise = np.zeros((T),int)\n",
        "LFU_downloads_slotwise = np.zeros((T),int)\n",
        "LRU_downloads_slotwise = np.zeros((T),int)\n",
        "LSTM_downloads_slotwise = np.zeros((T),int)\n",
        "req_time = np.zeros((N,I),dtype = int) \n",
        "req_time1 = np.zeros((N,I),dtype = int) \n",
        "bit = np.zeros((J,N),int)\n",
        "phase = np.zeros((J,N),int)\n",
        "normal = random.normal(0,1,[N,I])\n",
        "\n",
        "for t in range(T):\n",
        "  x_t1 = np.zeros((N,I),dtype = int)\n",
        "  x_t = np.zeros((N,I),dtype = int)\n",
        "  for i in range(I):\n",
        "    x_t[int(req[i,t]),i] += 1\n",
        "    x_t1[int(gen_req[i,t]),i] += 1\n",
        "    count[int(req[i,t]),i] += 1\n",
        "    req_time[int(req[i,t]),i] = t+1\n",
        "    req_time1[int(gen_req[i,t]),i] = t+1\n",
        "  \n",
        "  ireward_LRU =  np.zeros((I),int)\n",
        "  ireward_LSTM =  np.zeros((I),int)\n",
        "  ireward_LFU =  np.zeros((I),int)\n",
        "  ireward_FTPL =  np.zeros((I),int)\n",
        "  ireward_mrk =  np.zeros((I),int)\n",
        "  \n",
        "  for i in range(I):\n",
        "    temp1 = np.zeros((N),int)\n",
        "    temp2 = np.zeros((N),int)\n",
        "    temp3 = np.zeros((N),int)\n",
        "    temp4 = np.zeros((N),int)\n",
        "    temp5 = np.zeros((N),int)\n",
        "\n",
        "    connected_cache = np.where(connection[i] == 1)[0]\n",
        "    for k in range(len(connected_cache)):\n",
        "      temp1 += y_FTPL[connected_cache[k],:]\n",
        "      temp2 += y_LFU[connected_cache[k],:]\n",
        "      temp3 += y_LRU[connected_cache[k],:]\n",
        "      temp4 += y_LSTM[connected_cache[k],:]\n",
        "      temp5 += y_mrk[connected_cache[k],:]\n",
        "    ireward_FTPL[i] += np.dot(np.minimum(np.ones(N),temp1),x_t[:,i])\n",
        "    ireward_LFU[i] += np.dot(np.minimum(np.ones(N),temp2),x_t[:,i])\n",
        "    ireward_LRU[i] += np.dot(np.minimum(np.ones(N),temp3),x_t[:,i])\n",
        "    ireward_LSTM[i] += np.dot(np.minimum(np.ones(N),temp4),x_t1[:,i])\n",
        "    ireward_mrk[i] += np.dot(np.minimum(np.ones(N),temp5),x_t[:,i])\n",
        "\n",
        "\n",
        "  reward_FTPL[t] =  np.sum(ireward_FTPL)\n",
        "  reward_LRU[t] =  np.sum(ireward_LRU)\n",
        "  reward_LFU[t] =  np.sum(ireward_LFU)\n",
        "  reward_LSTM[t] =  np.sum(ireward_LSTM)\n",
        "  reward_mrk[t] =  np.sum(ireward_mrk)\n",
        "  reward_mrkc = np.sum(reward_mrk)\n",
        "  reward_LSTMc = np.sum(reward_LSTM)\n",
        "  reward_FTPLc = np.sum(reward_FTPL)\n",
        "  reward_LRUc = np.sum(reward_LRU)\n",
        "  reward_LFUc = np.sum(reward_LFU)\n",
        "\n",
        "  y_LFU, LFU_downloads_slotwise[t] = LFU(y_LFU,x_t,count,connection,C)\n",
        "  y_LRU, LRU_downloads_slotwise[t] = LRU(y_LRU,x_t,req_time,connection,C)\n",
        "  y_LSTM, LSTM_downloads_slotwise[t] = LRU(y_LSTM,x_t1,req_time1,connection,C)\n",
        "  y_mrk, bit, mrk_downloads_slotwise[t], phase = Marker(y_mrk,x_t,bit,connection,phase,C)\n",
        "   \n",
        "  eta = round(pow(I,0.75)*pow(2*(np.log(N/C)+1),0.25)*pow((t+1)/(J*degree*C),.5),4)\n",
        "  perturbed_count=per_count(eta,count,normal)\n",
        "  old_FTPL = y_FTPL.reshape(J*N)\n",
        "  add = (-perturbed_count[:,0]).argsort()[:C]\n",
        "  y_FTPL = np.zeros((J,N),dtype = int)\n",
        "  for k in range(len(add)):\n",
        "    y_FTPL[0,int(add[k])] = 1 \n",
        "  new_FTPL = y_FTPL.reshape(J*N)\n",
        "  FTPL_downloads_slotwise[t] = (np.sum(np.logical_and(new_FTPL,np.logical_not(old_FTPL))))\n",
        " \n",
        "  download_mrk.append(np.sum(mrk_downloads_slotwise)/(t+1))\n",
        "  download_FTPL.append(np.sum(FTPL_downloads_slotwise)/(t+1))\n",
        "  download_LFU.append(np.sum(LFU_downloads_slotwise)/(t+1))\n",
        "  download_LRU.append(np.sum(LRU_downloads_slotwise)/(t+1))\n",
        "  download_LSTM.append(np.sum(LSTM_downloads_slotwise)/(t+1))\n",
        "  hits_mrk.append(reward_mrkc/(t+1))\n",
        "  hits_LRU.append(reward_LRUc/(t+1))\n",
        "  hits_LFU.append(reward_LFUc/(t+1))\n",
        "  hits_FTPL.append(reward_FTPLc/(t+1))\n",
        "  hits_LSTM.append(reward_LSTMc/(t+1))\n",
        "  if t %10000 == 0:\n",
        "    print(t,download_mrk[t],download_FTPL[t],download_LFU[t],download_LRU[t],download_LSTM[t],hits_mrk[t],hits_FTPL[t],hits_LFU[t],hits_LRU[t],hits_LSTM[t])"
      ],
      "execution_count": 17,
      "outputs": [
        {
          "output_type": "stream",
          "text": [
            "0 1.0 5.0 1.0 1.0 0.0 0.0 0.0 0.0 0.0 1.0\n",
            "10000 0.9501049895010499 0.006199380061993801 0.944005599440056 0.9494050594940506 0.8560143985601439 0.04989501049895011 0.060193980601939805 0.05599440055994401 0.050594940505949405 0.143985601439856\n",
            "20000 0.9496525173741313 0.005249737513124344 0.9412029398530074 0.9495525223738813 0.8574071296435178 0.05034748262586871 0.05849707514624269 0.05879706014699265 0.050447477626118696 0.1425928703564822\n",
            "30000 0.9488683710542982 0.0034998833372220928 0.9384020532648911 0.9497016766107796 0.8587380420652645 0.05113162894570181 0.05989800339988667 0.06159794673510883 0.050298323389220356 0.1412619579347355\n",
            "40000 0.9485012874678133 0.003074923126921827 0.936801579960501 0.9498012549686258 0.8579785505362366 0.05149871253218669 0.06192345191370216 0.063198420039499 0.05019874503137422 0.1420214494637634\n"
          ],
          "name": "stdout"
        }
      ]
    },
    {
      "cell_type": "code",
      "metadata": {
        "id": "J_3kWL_JCNjX",
        "colab_type": "code",
        "colab": {
          "base_uri": "https://localhost:8080/",
          "height": 279
        },
        "outputId": "0b615584-c903-496d-c8a2-473d3459fd3e"
      },
      "source": [
        "plt.plot(hits_FTPL,'black',label='FTPL')\n",
        "plt.plot(hits_LRU,'green',label='LRU')\n",
        "plt.plot(hits_LFU,'blue',label='LFU')\n",
        "plt.plot(hits_LSTM,'red',label='LSTM')\n",
        "plt.plot(hits_mrk,'yellow',label='Marker')\n",
        "plt.xlabel('T')\n",
        "plt.ylabel('Total hits/T')\n",
        "plt.legend()\n",
        "plt.savefig('hit-rate(I=J=1).png')"
      ],
      "execution_count": 27,
      "outputs": [
        {
          "output_type": "display_data",
          "data": {
            "image/png": "[encoded data removed]",
            "text/plain": [
              "<Figure size 432x288 with 1 Axes>"
            ]
          },
          "metadata": {
            "tags": [],
            "needs_background": "light"
          }
        }
      ]
    },
    {
      "cell_type": "code",
      "metadata": {
        "id": "YK-m4yZjrs3l",
        "colab_type": "code",
        "colab": {
          "base_uri": "https://localhost:8080/",
          "height": 279
        },
        "outputId": "4daa5cfe-24f9-4156-f2ea-19217eab47f4"
      },
      "source": [
        "plt.plot(download_FTPL,'black',label='FTPL')\n",
        "plt.plot(download_LRU,'green',label='LRU')\n",
        "plt.plot(download_LFU,'blue',label='LFU')\n",
        "plt.plot(download_LSTM,'red',label='LSTM')\n",
        "plt.plot(download_mrk,'yellow',label='Marker')\n",
        "plt.xlabel('T')\n",
        "plt.ylabel('New downloads/T')\n",
        "plt.legend()\n",
        "plt.savefig('download-rate(I=J=1).png')"
      ],
      "execution_count": 28,
      "outputs": [
        {
          "output_type": "display_data",
          "data": {
            "image/png": "[encoded data removed]",
            "text/plain": [
              "<Figure size 432x288 with 1 Axes>"
            ]
          },
          "metadata": {
            "tags": [],
            "needs_background": "light"
          }
        }
      ]
    },
    {
      "cell_type": "markdown",
      "metadata": {
        "id": "Fj30MgQaWN_E",
        "colab_type": "text"
      },
      "source": [
        "I = 5 J = 3 d = 3"
      ]
    },
    {
      "cell_type": "code",
      "metadata": {
        "id": "jA0Kz7jzKJ3G",
        "colab_type": "code",
        "colab": {}
      },
      "source": [
        "T = 50000\n",
        "C = 5\n",
        "I = 5\n",
        "J = 3\n",
        "degree = 3"
      ],
      "execution_count": 29,
      "outputs": []
    },
    {
      "cell_type": "code",
      "metadata": {
        "id": "fkzyLhrGKhB6",
        "colab_type": "code",
        "colab": {
          "base_uri": "https://localhost:8080/",
          "height": 101
        },
        "outputId": "bca222aa-cf24-44de-a4af-ec23a56ceefd"
      },
      "source": [
        "connection = np.zeros((I,J),dtype = int)\n",
        "i = 0\n",
        "for j in range(J):\n",
        "  x = 0\n",
        "  while x < degree:\n",
        "    connection[i,j] = 1\n",
        "    x += 1\n",
        "    i += 1\n",
        "    if i == I:\n",
        "      i = 0\n",
        "connection"
      ],
      "execution_count": 30,
      "outputs": [
        {
          "output_type": "execute_result",
          "data": {
            "text/plain": [
              "array([[1, 1, 0],\n",
              "       [1, 0, 1],\n",
              "       [1, 0, 1],\n",
              "       [0, 1, 1],\n",
              "       [0, 1, 0]])"
            ]
          },
          "metadata": {
            "tags": []
          },
          "execution_count": 30
        }
      ]
    },
    {
      "cell_type": "code",
      "metadata": {
        "id": "TIjWw46mSfxG",
        "colab_type": "code",
        "colab": {}
      },
      "source": [
        "gen_req1 = np.load('/content/drive/My Drive/gen_req.npy')\n",
        "req1 = np.load('/content/drive/My Drive/req.npy')"
      ],
      "execution_count": 31,
      "outputs": []
    },
    {
      "cell_type": "code",
      "metadata": {
        "id": "DNOrEFxxThnu",
        "colab_type": "code",
        "colab": {
          "base_uri": "https://localhost:8080/",
          "height": 34
        },
        "outputId": "c5c5f154-95c5-4f1d-df0e-e651476de79b"
      },
      "source": [
        "req = req1[l:].reshape(I,-1)\n",
        "req.shape"
      ],
      "execution_count": 32,
      "outputs": [
        {
          "output_type": "execute_result",
          "data": {
            "text/plain": [
              "(5, 200200)"
            ]
          },
          "metadata": {
            "tags": []
          },
          "execution_count": 32
        }
      ]
    },
    {
      "cell_type": "code",
      "metadata": {
        "id": "DAQ_EHg8TlOp",
        "colab_type": "code",
        "colab": {
          "base_uri": "https://localhost:8080/",
          "height": 34
        },
        "outputId": "8712e99a-d367-4089-da30-99b9095ae6c6"
      },
      "source": [
        "gen_req = gen_req1[l:].reshape(I,-1)\n",
        "gen_req.shape"
      ],
      "execution_count": 33,
      "outputs": [
        {
          "output_type": "execute_result",
          "data": {
            "text/plain": [
              "(5, 251000)"
            ]
          },
          "metadata": {
            "tags": []
          },
          "execution_count": 33
        }
      ]
    },
    {
      "cell_type": "code",
      "metadata": {
        "id": "sHz0D4AI8mvp",
        "colab_type": "code",
        "colab": {
          "base_uri": "https://localhost:8080/",
          "height": 101
        },
        "outputId": "c39b88ac-2af6-4e6f-dc87-ff6f4994e8b8"
      },
      "source": [
        "req"
      ],
      "execution_count": 34,
      "outputs": [
        {
          "output_type": "execute_result",
          "data": {
            "text/plain": [
              "array([[98., 50., 48., ..., 39., 25., 47.],\n",
              "       [44., 72., 44., ..., 51., 16., 38.],\n",
              "       [96., 55., 75., ..., 42., 52., 30.],\n",
              "       [95., 73., 93., ..., 69., 43., 31.],\n",
              "       [71., 24., 69., ..., 41., 75.,  6.]])"
            ]
          },
          "metadata": {
            "tags": []
          },
          "execution_count": 34
        }
      ]
    },
    {
      "cell_type": "code",
      "metadata": {
        "id": "CT3JL5P38mnF",
        "colab_type": "code",
        "colab": {
          "base_uri": "https://localhost:8080/",
          "height": 101
        },
        "outputId": "04a8a875-9c9c-4fa2-ba99-fd836b2be450"
      },
      "source": [
        "gen_req"
      ],
      "execution_count": 35,
      "outputs": [
        {
          "output_type": "execute_result",
          "data": {
            "text/plain": [
              "array([[ 3., 29., 77., ..., 29., 31., 77.],\n",
              "       [28.,  3., 29., ..., 29., 31.,  3.],\n",
              "       [28., 77., 29., ..., 77., 29., 31.],\n",
              "       [28.,  3., 57., ..., 57.,  3., 29.],\n",
              "       [31., 28., 57., ..., 28., 57., 37.]])"
            ]
          },
          "metadata": {
            "tags": []
          },
          "execution_count": 35
        }
      ]
    },
    {
      "cell_type": "code",
      "metadata": {
        "id": "CPNyGf1grTOl",
        "colab_type": "code",
        "colab": {
          "base_uri": "https://localhost:8080/",
          "height": 121
        },
        "outputId": "e77c40ec-c90e-4a16-b6aa-fa036f5e373b"
      },
      "source": [
        "y_LRU = np.zeros((J,N),dtype = int)\n",
        "y_LFU = np.zeros((J,N),dtype = int)\n",
        "y_FTPL = np.zeros((J,N),dtype = int)\n",
        "y_LSTM = np.zeros((J,N),dtype = int)\n",
        "y_mrk = np.zeros((J,N),dtype = int)\n",
        "y_mrk[:,:C] = np.ones((J,C),dtype = int)\n",
        "y_LSTM[:,:C] = np.ones((J,C),dtype = int)\n",
        "y_FTPL[:,:C] = np.ones((J,C),dtype = int)\n",
        "y_LRU[:,:C] = np.ones((J,C),dtype = int)\n",
        "y_LFU[:,:C] = np.ones((J,C),dtype = int)\n",
        "count = np.zeros((N,I),dtype = int)\n",
        "reward_LSTM =  np.zeros((T),int)\n",
        "reward_FTPL =  np.zeros((T),int)\n",
        "reward_LRU =  np.zeros((T),int)\n",
        "reward_LFU =  np.zeros((T),int)\n",
        "reward_mrk =  np.zeros((T),int)\n",
        "hits_mrk =  []\n",
        "hits_FTPL =  []\n",
        "hits_LRU =  []\n",
        "hits_LFU =  []\n",
        "hits_LSTM = []\n",
        "download_FTPL =  []\n",
        "download_LRU =  []\n",
        "download_LFU =  []\n",
        "download_LSTM = []\n",
        "download_mrk = []\n",
        "mrk_downloads_slotwise = np.zeros((T),int)\n",
        "FTPL_downloads_slotwise = np.zeros((T),int)\n",
        "LFU_downloads_slotwise = np.zeros((T),int)\n",
        "LRU_downloads_slotwise = np.zeros((T),int)\n",
        "LSTM_downloads_slotwise = np.zeros((T),int)\n",
        "req_time = np.zeros((N,I),dtype = int) \n",
        "req_time1 = np.zeros((N,I),dtype = int) \n",
        "bit = np.zeros((J,N),int)\n",
        "phase = np.zeros((J,N),int)\n",
        "normal = random.normal(0,1,[N,I])\n",
        "\n",
        "for t in range(T):\n",
        "  x_t = np.zeros((N,I),dtype = int)\n",
        "  x_t1 = np.zeros((N,I),dtype = int)\n",
        "  for i in range(I):\n",
        "    x_t[int(req[i,t]),i] += 1\n",
        "    x_t1[int(gen_req[i,t]),i] += 1\n",
        "    count[int(req[i,t]),i] += 1\n",
        "    req_time[int(req[i,t]),i] = t+1\n",
        "    req_time1[int(gen_req[i,t]),i] = t+1\n",
        "  \n",
        "  ireward_LRU =  np.zeros((I),int)\n",
        "  ireward_LSTM =  np.zeros((I),int)\n",
        "  ireward_LFU =  np.zeros((I),int)\n",
        "  ireward_FTPL =  np.zeros((I),int)\n",
        "  ireward_mrk =  np.zeros((I),int)\n",
        "  \n",
        "  for i in range(I):\n",
        "    temp1 = np.zeros(N)\n",
        "    temp2 = np.zeros((N),int)\n",
        "    temp3 = np.zeros((N),int)\n",
        "    temp4 = np.zeros((N),int)\n",
        "    temp5 = np.zeros((N),int)\n",
        "\n",
        "    connected_cache = np.where(connection[i] == 1)[0]\n",
        "    for k in range(len(connected_cache)):\n",
        "      temp1 += y_FTPL[connected_cache[k],:]\n",
        "      temp2 += y_LFU[connected_cache[k],:]\n",
        "      temp3 += y_LRU[connected_cache[k],:]\n",
        "      temp4 += y_LSTM[connected_cache[k],:]\n",
        "      temp5 += y_mrk[connected_cache[k],:]\n",
        "    ireward_FTPL[i] += np.dot(np.minimum(np.ones(N),temp1),x_t[:,i])\n",
        "    ireward_LFU[i] += np.dot(np.minimum(np.ones(N),temp2),x_t[:,i])\n",
        "    ireward_LRU[i] += np.dot(np.minimum(np.ones(N),temp3),x_t[:,i])\n",
        "    ireward_LSTM[i] += np.dot(np.minimum(np.ones(N),temp4),x_t1[:,i])\n",
        "    ireward_mrk[i] += np.dot(np.minimum(np.ones(N),temp5),x_t[:,i])\n",
        "\n",
        "  reward_FTPL[t] =  np.sum(ireward_FTPL)\n",
        "  reward_LRU[t] =  np.sum(ireward_LRU)\n",
        "  reward_LFU[t] =  np.sum(ireward_LFU)\n",
        "  reward_LSTM[t] =  np.sum(ireward_LSTM)\n",
        "  reward_mrk[t] =  np.sum(ireward_mrk)\n",
        "  reward_mrkc = np.sum(reward_mrk)\n",
        "  reward_LSTMc = np.sum(reward_LSTM)\n",
        "  reward_FTPLc = np.sum(reward_FTPL)\n",
        "  reward_LRUc = np.sum(reward_LRU)\n",
        "  reward_LFUc = np.sum(reward_LFU)\n",
        "\n",
        "  [y_LFU,LFU_downloads_slotwise[t]] = LFU(y_LFU,x_t,count,connection,C)\n",
        "  [y_LRU,LRU_downloads_slotwise[t]] = LRU(y_LRU,x_t,req_time,connection,C)\n",
        "  [y_LSTM,LSTM_downloads_slotwise[t]] = LRU(y_LSTM,x_t1,req_time1,connection,C)\n",
        "  [y_mrk,bit,mrk_downloads_slotwise[t],phase] = Marker(y_mrk,x_t,bit,connection,phase,C) \n",
        "\n",
        "  eta = round(pow(I,0.75)*pow(2*(np.log(N/C)+1),0.25)*pow((t+1)/(J*degree*C),0.5),4)\n",
        "  perturbed_count=per_count(eta,count,normal)\n",
        "  old_FTPL = y_FTPL.reshape(J*N).copy()\n",
        "  [y_FTPL,Z] = Greedy(connection,perturbed_count,C) \n",
        "  new_FTPL = y_FTPL.reshape(J*N).copy()\n",
        "  FTPL_downloads_slotwise[t] = np.sum(np.logical_and(new_FTPL,np.logical_not(old_FTPL)))\n",
        "\n",
        "  download_mrk.append(np.sum(mrk_downloads_slotwise)/(t+1))\n",
        "  download_FTPL.append(np.sum(FTPL_downloads_slotwise)/(t+1))\n",
        "  download_LFU.append(np.sum(LFU_downloads_slotwise)/(t+1))\n",
        "  download_LRU.append(np.sum(LRU_downloads_slotwise)/(t+1))\n",
        "  download_LSTM.append(np.sum(LSTM_downloads_slotwise)/(t+1))\n",
        "  hits_mrk.append(reward_mrkc/(t+1))\n",
        "  hits_LRU.append(reward_LRUc/(t+1))\n",
        "  hits_LFU.append(reward_LFUc/(t+1))\n",
        "  hits_FTPL.append(reward_FTPLc/(t+1))\n",
        "  hits_LSTM.append(reward_LSTMc/(t+1))\n",
        "\n",
        "  if t %10000 == 0:\n",
        "    print(t,download_mrk[t],download_FTPL[t],download_LFU[t],download_LRU[t],download_LSTM[t],hits_mrk[t],hits_FTPL[t],hits_LFU[t],hits_LRU[t],hits_LSTM[t])"
      ],
      "execution_count": 36,
      "outputs": [
        {
          "output_type": "stream",
          "text": [
            "0 9.0 15.0 9.0 9.0 4.0 0.0 0.0 0.0 0.0 1.0\n",
            "10000 8.463953604639537 0.0164983501649835 8.385761423857614 8.452654734526547 7.979302069793021 0.33296670332966705 0.44625537446255376 0.40275972402759724 0.35776422357764226 0.6412358764123588\n",
            "20000 8.461726913654317 0.00974951252437378 8.393030348482576 8.458877056147193 7.980350982450878 0.33783310834458274 0.45557722113894306 0.3807809609519524 0.35553222338883056 0.6413679316034199\n",
            "30000 8.46181793940202 0.007166427785740476 8.390953634878837 8.46178460717976 7.978300723309223 0.3382220592646912 0.45668477717409417 0.3793540215326156 0.3545881803939869 0.6413119562681244\n",
            "40000 8.460388490287743 0.006374840628984276 8.388990275243119 8.457913552161196 7.978950526236844 0.33966650833729156 0.4647133821654459 0.377265568360791 0.35689107772305695 0.6421839454013649\n"
          ],
          "name": "stdout"
        }
      ]
    },
    {
      "cell_type": "code",
      "metadata": {
        "id": "u33MS3DDT1CZ",
        "colab_type": "code",
        "colab": {
          "base_uri": "https://localhost:8080/",
          "height": 283
        },
        "outputId": "c7afaf25-2ba3-48e0-d884-1068a2f1e3ac"
      },
      "source": [
        "plt.plot(hits_FTPL,'black',label='FTPL')\n",
        "plt.plot(hits_LRU,'green',label='LRU')\n",
        "plt.plot(hits_LFU,'blue',label='LFU')\n",
        "plt.plot(hits_LSTM,'red',label='LSTM')\n",
        "plt.plot(hits_mrk,'yellow',label='Marker')\n",
        "plt.xlabel('T')\n",
        "plt.ylabel('total hits/T')\n",
        "plt.legend()\n",
        "plt.savefig('hit-rate(I=5 J=3 d=3).png')"
      ],
      "execution_count": 37,
      "outputs": [
        {
          "output_type": "display_data",
          "data": {
            "image/png": "[encoded data removed]",
            "text/plain": [
              "<Figure size 432x288 with 1 Axes>"
            ]
          },
          "metadata": {
            "tags": [],
            "needs_background": "light"
          }
        }
      ]
    },
    {
      "cell_type": "code",
      "metadata": {
        "id": "BO6RqcCjt-I0",
        "colab_type": "code",
        "colab": {
          "base_uri": "https://localhost:8080/",
          "height": 279
        },
        "outputId": "44be48ff-a0a7-4394-fdb6-c1fc154b4045"
      },
      "source": [
        "plt.plot(download_mrk,'yellow',label='Marker')\n",
        "plt.plot(download_FTPL,'black',label='FTPL')\n",
        "plt.plot(download_LRU,'green',label='LRU')\n",
        "plt.plot(download_LFU,'blue',label='LFU')\n",
        "plt.plot(download_LSTM,'red',label='LSTM')\n",
        "plt.xlabel('T')\n",
        "plt.ylabel('New downloads')\n",
        "plt.legend()\n",
        "plt.savefig('download-rate(I=5 J=3 d=3).png')"
      ],
      "execution_count": 38,
      "outputs": [
        {
          "output_type": "display_data",
          "data": {
            "image/png": "[encoded data removed]",
            "text/plain": [
              "<Figure size 432x288 with 1 Axes>"
            ]
          },
          "metadata": {
            "tags": [],
            "needs_background": "light"
          }
        }
      ]
    },
    {
      "cell_type": "markdown",
      "metadata": {
        "id": "BdHsz8OLbfRt",
        "colab_type": "text"
      },
      "source": [
        "I = 15 J = 10 d = 7"
      ]
    },
    {
      "cell_type": "code",
      "metadata": {
        "id": "2k2iUESfYkec",
        "colab_type": "code",
        "colab": {}
      },
      "source": [
        "I = 10\n",
        "J = 4\n",
        "C = 10\n",
        "degree = 3\n",
        "normal = random.normal(0,1,[N,I])\n",
        "T = 50000"
      ],
      "execution_count": 61,
      "outputs": []
    },
    {
      "cell_type": "code",
      "metadata": {
        "id": "P6LK3SH5cVIs",
        "colab_type": "code",
        "colab": {
          "base_uri": "https://localhost:8080/",
          "height": 185
        },
        "outputId": "7f6b452c-8794-466b-c329-f8c248c068fe"
      },
      "source": [
        "connection = np.zeros((I,J),dtype = int)\n",
        "i = 0\n",
        "for j in range(J):\n",
        "  x = 0\n",
        "  while x < degree:\n",
        "    connection[i,j] = 1\n",
        "    x += 1\n",
        "    i += 1\n",
        "    if i == I:\n",
        "      i = 0\n",
        "connection"
      ],
      "execution_count": 62,
      "outputs": [
        {
          "output_type": "execute_result",
          "data": {
            "text/plain": [
              "array([[1, 0, 0, 1],\n",
              "       [1, 0, 0, 1],\n",
              "       [1, 0, 0, 0],\n",
              "       [0, 1, 0, 0],\n",
              "       [0, 1, 0, 0],\n",
              "       [0, 1, 0, 0],\n",
              "       [0, 0, 1, 0],\n",
              "       [0, 0, 1, 0],\n",
              "       [0, 0, 1, 0],\n",
              "       [0, 0, 0, 1]])"
            ]
          },
          "metadata": {
            "tags": []
          },
          "execution_count": 62
        }
      ]
    },
    {
      "cell_type": "code",
      "metadata": {
        "id": "fHrvasV4Xl3O",
        "colab_type": "code",
        "colab": {}
      },
      "source": [
        "gen_req1 = np.load('/content/drive/My Drive/gen_req.npy')\n",
        "req1 = np.load('/content/drive/My Drive/req.npy')"
      ],
      "execution_count": 63,
      "outputs": []
    },
    {
      "cell_type": "code",
      "metadata": {
        "id": "bxgJO20wXaAR",
        "colab_type": "code",
        "colab": {
          "base_uri": "https://localhost:8080/",
          "height": 34
        },
        "outputId": "e12c18e7-8ff2-49b8-e09b-a5f8d4b437a6"
      },
      "source": [
        "req = req1[l:].reshape(I,-1)\n",
        "req.shape"
      ],
      "execution_count": 64,
      "outputs": [
        {
          "output_type": "execute_result",
          "data": {
            "text/plain": [
              "(10, 100100)"
            ]
          },
          "metadata": {
            "tags": []
          },
          "execution_count": 64
        }
      ]
    },
    {
      "cell_type": "code",
      "metadata": {
        "id": "-JCKP3hMXiq-",
        "colab_type": "code",
        "colab": {
          "base_uri": "https://localhost:8080/",
          "height": 34
        },
        "outputId": "01c16319-83b4-471c-ad6f-c348aaafde52"
      },
      "source": [
        "gen_req = gen_req1[l:].reshape(I,-1)\n",
        "gen_req.shape"
      ],
      "execution_count": 65,
      "outputs": [
        {
          "output_type": "execute_result",
          "data": {
            "text/plain": [
              "(10, 125500)"
            ]
          },
          "metadata": {
            "tags": []
          },
          "execution_count": 65
        }
      ]
    },
    {
      "cell_type": "code",
      "metadata": {
        "id": "Oke-J6xqgp0l",
        "colab_type": "code",
        "colab": {
          "base_uri": "https://localhost:8080/",
          "height": 877
        },
        "outputId": "9bc81913-19b6-4997-9f46-eb2978dcdbf1"
      },
      "source": [
        "y_LRU = np.zeros((J,N),dtype = int)\n",
        "y_LFU = np.zeros((J,N),dtype = int)\n",
        "y_FTPL = np.zeros((J,N),dtype = int)\n",
        "y_LSTM = np.zeros((J,N),dtype = int)\n",
        "y_mrk = np.zeros((J,N),dtype = int)\n",
        "y_mrk[:,:C] = np.ones((J,C),dtype = int)\n",
        "y_LSTM[:,:C] = np.ones((J,C),dtype = int)\n",
        "y_FTPL[:,:C] = np.ones((J,C),dtype = int)\n",
        "y_LRU[:,:C] = np.ones((J,C),dtype = int)\n",
        "y_LFU[:,:C] = np.ones((J,C),dtype = int)\n",
        "count = np.zeros((N,I),dtype = int)\n",
        "reward_LSTM =  np.zeros((T),int)\n",
        "reward_FTPL =  np.zeros((T),int)\n",
        "reward_LRU =  np.zeros((T),int)\n",
        "reward_LFU =  np.zeros((T),int)\n",
        "reward_mrk =  np.zeros((T),int)\n",
        "hits_mrk =  []\n",
        "hits_FTPL =  []\n",
        "hits_LRU =  []\n",
        "hits_LFU =  []\n",
        "hits_LSTM = []\n",
        "download_FTPL =  []\n",
        "download_LRU =  []\n",
        "download_LFU =  []\n",
        "download_LSTM = []\n",
        "download_mrk = []\n",
        "mrk_downloads_slotwise = np.zeros((T),int)\n",
        "FTPL_downloads_slotwise = np.zeros((T),int)\n",
        "LFU_downloads_slotwise = np.zeros((T),int)\n",
        "LRU_downloads_slotwise = np.zeros((T),int)\n",
        "LSTM_downloads_slotwise = np.zeros((T),int)\n",
        "req_time = np.zeros((N,I),dtype = int) \n",
        "req_time1 = np.zeros((N,I),dtype = int) \n",
        "bit = np.zeros((J,N),int)\n",
        "phase = np.zeros((J,N),int)\n",
        "for t in range(T):\n",
        "  x_t1 = np.zeros((N,I),dtype = int)\n",
        "  x_t = np.zeros((N,I),dtype = int)\n",
        "  for i in range(I):\n",
        "    x_t[int(req[i,t]),i] += 1\n",
        "    x_t1[int(gen_req[i,t]),i] += 1\n",
        "    count[int(req[i,t]),i] += 1\n",
        "    req_time[int(req[i,t]),i] = t+1\n",
        "    req_time1[int(gen_req[i,t]),i] = t+1\n",
        "  \n",
        "  ireward_LRU =  np.zeros((I),int)\n",
        "  ireward_LSTM =  np.zeros((I),int)\n",
        "  ireward_LFU =  np.zeros((I),int)\n",
        "  ireward_FTPL =  np.zeros((I),int)\n",
        "  ireward_mrk =  np.zeros((I),int)\n",
        "  \n",
        "  for i in range(I):\n",
        "    temp1 = np.zeros((N),int)\n",
        "    temp2 = np.zeros((N),int)\n",
        "    temp3 = np.zeros((N),int)\n",
        "    temp4 = np.zeros((N),int)\n",
        "    temp5 = np.zeros((N),int)\n",
        "\n",
        "    connected_cache = np.where(connection[i] == 1)[0]\n",
        "    for k in range(len(connected_cache)):\n",
        "      temp1 += y_FTPL[connected_cache[k],:]\n",
        "      temp2 += y_LFU[connected_cache[k],:]\n",
        "      temp3 += y_LRU[connected_cache[k],:]\n",
        "      temp4 += y_LSTM[connected_cache[k],:]\n",
        "      temp5 += y_mrk[connected_cache[k],:]\n",
        "    ireward_FTPL[i] += np.dot(np.minimum(np.ones(N),temp1),x_t[:,i])\n",
        "    ireward_LFU[i] += np.dot(np.minimum(np.ones(N),temp2),x_t[:,i])\n",
        "    ireward_LRU[i] += np.dot(np.minimum(np.ones(N),temp3),x_t[:,i])\n",
        "    ireward_LSTM[i] += np.dot(np.minimum(np.ones(N),temp4),x_t1[:,i])\n",
        "    ireward_mrk[i] += np.dot(np.minimum(np.ones(N),temp5),x_t[:,i])\n",
        "\n",
        "  reward_FTPL[t] =  np.sum(ireward_FTPL)\n",
        "  reward_LRU[t] =  np.sum(ireward_LRU)\n",
        "  reward_LFU[t] =  np.sum(ireward_LFU)\n",
        "  reward_LSTM[t] =  np.sum(ireward_LSTM)\n",
        "  reward_mrk[t] =  np.sum(ireward_mrk)\n",
        "  reward_mrkc = np.sum(reward_mrk)\n",
        "  reward_LSTMc = np.sum(reward_LSTM)\n",
        "  reward_FTPLc = np.sum(reward_FTPL)\n",
        "  reward_LRUc = np.sum(reward_LRU)\n",
        "  reward_LFUc = np.sum(reward_LFU)\n",
        "\n",
        "  [y_LFU,LFU_downloads_slotwise[t]] = LFU(y_LFU,x_t,count,connection,C)\n",
        "  [y_LRU,LRU_downloads_slotwise[t]] = LRU(y_LRU,x_t,req_time,connection,C)\n",
        "  [y_LSTM,LSTM_downloads_slotwise[t]] = LRU(y_LSTM,x_t1,req_time1,connection,C)\n",
        "  [y_mrk,bit,mrk_downloads_slotwise[t],phase] = Marker(y_mrk,x_t,bit,connection,phase,C) \n",
        "\n",
        "  eta = round(I*pow(4*pi*np.log(N*I),-.25)*pow((t+1)/(J*degree*C),.5),4)\n",
        "  perturbed_count=per_count(eta,count,normal)\n",
        "  old_FTPL = y_FTPL.reshape(J*N).copy()\n",
        "  [y_FTPL,Z] = Greedy(connection,perturbed_count,C) \n",
        "  new_FTPL = y_FTPL.reshape(J*N).copy()\n",
        "  FTPL_downloads_slotwise[t] = (np.sum(np.logical_and(new_FTPL,np.logical_not(old_FTPL))))\n",
        "\n",
        "  download_mrk.append(np.sum(mrk_downloads_slotwise)/(t+1))\n",
        "  download_FTPL.append(np.sum(FTPL_downloads_slotwise)/(t+1))\n",
        "  download_LFU.append(np.sum(LFU_downloads_slotwise)/(t+1))\n",
        "  download_LRU.append(np.sum(LRU_downloads_slotwise)/(t+1))\n",
        "  download_LSTM.append(np.sum(LSTM_downloads_slotwise)/(t+1))\n",
        "  hits_mrk.append(reward_mrkc/(t+1))\n",
        "  hits_LRU.append(reward_LRUc/(t+1))\n",
        "  hits_LFU.append(reward_LFUc/(t+1))\n",
        "  hits_FTPL.append(reward_FTPLc/(t+1))\n",
        "  hits_LSTM.append(reward_LSTMc/(t+1))\n",
        "\n",
        "  if t %1000 == 0:\n",
        "    print(t,download_mrk[t],download_FTPL[t],download_LFU[t],download_LRU[t],download_LSTM[t],hits_mrk[t],hits_FTPL[t],hits_LFU[t],hits_LRU[t],hits_LSTM[t])"
      ],
      "execution_count": 66,
      "outputs": [
        {
          "output_type": "stream",
          "text": [
            "0 12.0 38.0 12.0 12.0 10.0 0.0 0.0 0.0 0.0 1.0\n",
            "1000 10.683316683316683 0.2987012987012987 10.521478521478521 10.666333666333667 10.094905094905094 1.056943056943057 1.3086913086913088 1.2297702297702298 1.0709290709290709 1.6533466533466534\n",
            "2000 10.683658170914542 0.19890054972513743 10.498250874562718 10.652673663168416 10.147426286856572 1.0579710144927537 1.3243378310844578 1.2663668165917041 1.0974512743628186 1.6111944027986007\n",
            "3000 10.695768077307564 0.1526157947350883 10.49516827724092 10.651116294568476 10.147284238587138 1.040986337887371 1.3385538153948684 1.2602465844718427 1.096634455181606 1.607130956347884\n",
            "4000 10.69832541864534 0.13046738315421144 10.499625093726568 10.663834041489627 10.176455886028492 1.036990752311922 1.3524118970257435 1.2461884528867784 1.0862284428892777 1.578105473631592\n",
            "5000 10.697860427914417 0.10937812437512498 10.485902819436113 10.651869626074784 10.12997400519896 1.0357928414317137 1.3615276944611079 1.255748850229954 1.0989802039592083 1.616876624675065\n",
            "6000 10.689885019163473 0.09731711381436427 10.46825529078487 10.652224629228462 10.153641059823363 1.0476587235460757 1.363606065655724 1.268121979670055 1.10281619730045 1.598233627728712\n",
            "7000 10.696186259105842 0.08798743036709042 10.46379088701614 10.656334809312956 10.151406941865448 1.0432795314955006 1.3739465790601342 1.2672475360662763 1.0988430224253678 1.6014855020711327\n",
            "8000 10.685539307586552 0.08223972003499562 10.461692288463942 10.65291838520185 10.159605049368828 1.0529933758280214 1.3782027246594175 1.2650918635170603 1.1031121109861268 1.5923009623797026\n",
            "9000 10.686701477613598 0.07443617375847128 10.45328296855905 10.652149761137652 10.153205199422286 1.0516609265637151 1.3900677702477502 1.2700811020997667 1.1027663592934118 1.597711365403844\n",
            "10000 10.687131286871313 0.06829317068293171 10.452154784521548 10.65853414658534 10.154184581541847 1.0511948805119489 1.3901609839016098 1.2692730726927308 1.096990300969903 1.5955404459554046\n",
            "11000 10.684301427142987 0.0664485046813926 10.447595673120626 10.659394600490865 10.149168257431143 1.0515407690209981 1.391873466048541 1.2704299609126444 1.0962639760021817 1.5994000545404963\n",
            "12000 10.681193233897176 0.06266144487959337 10.451712357303558 10.658695108740938 10.147821014915424 1.0541621531539038 1.3923006416131989 1.2663944671277394 1.096908590950754 1.6013665527872678\n",
            "13000 10.681178370894546 0.05991846781016845 10.449426967156372 10.659026228751635 10.152449811552957 1.0556111068379355 1.3945850319206214 1.267210214598877 1.096531036074148 1.5979540035381894\n",
            "14000 10.685522462681236 0.05713877580172845 10.447396614527534 10.661024212556246 10.14513249053639 1.0517820155703164 1.3947575173201914 1.2666238125848153 1.0948503678308692 1.6041711306335262\n",
            "15000 10.682154523031798 0.05526298246783548 10.442437170855277 10.659756016265582 10.155189654023065 1.0547296846876875 1.3985067662155857 1.2685820945270316 1.0953936404239717 1.59636024265049\n",
            "16000 10.683894756577715 0.05462158615086557 10.437285169676896 10.656896443972252 10.149490656833947 1.0535591525529655 1.3994125367164552 1.2714205362164865 1.0984313480407475 1.6005874632835448\n",
            "17000 10.684547967766601 0.05323216281395212 10.439385918475384 10.661137580142345 10.151520498794188 1.0526439621198753 1.399976471972237 1.2682195164990295 1.093759190635845 1.5984353861537557\n",
            "18000 10.682850952724849 0.051608243986445194 10.436086884061996 10.664351980445531 10.144936392422643 1.0544414199211154 1.4063107605133047 1.270151658241209 1.090772734848064 1.6040219987778457\n",
            "19000 10.682648281669385 0.049734224514499235 10.430872059365296 10.662544076627546 10.150149992105678 1.0541550444713437 1.4096100205252355 1.2724593442450398 1.0915741276774906 1.600915741276775\n",
            "20000 10.679016049197541 0.04924753762311884 10.428678566071696 10.660416979151043 10.147742612869356 1.0579971001449928 1.4106294685265737 1.2734363281835908 1.0939453027348633 1.6024198790060498\n",
            "21000 10.677253464120756 0.04766439693347936 10.427312985095949 10.661397076329699 10.152373696490644 1.0595209751916574 1.4145993047950098 1.2739393362220848 1.0936145897814389 1.5974477405837817\n",
            "22000 10.675696559247307 0.045907004227080585 10.426844234352984 10.658924594336622 10.153083950729512 1.0609063224398891 1.4172992136721059 1.2722603518021909 1.0945411572201265 1.5968819599109132\n",
            "23000 10.676622755532367 0.04525890178687883 10.425111951654277 10.663014651536889 10.149732620320856 1.0596930568236165 1.419981739924351 1.2722925090213468 1.0910395200208687 1.5999304378070518\n",
            "24000 10.675805174784385 0.04378984208991292 10.42406566393067 10.662180742469063 10.151577017624266 1.0599975001041624 1.4235656847631348 1.2726136410982876 1.0919128369651265 1.5983917336777633\n",
            "25000 10.674213031478741 0.04275828966841326 10.41946322147114 10.661973521059158 10.15119395224191 1.061557537698492 1.4270629174833007 1.2755089796408143 1.0922763089476422 1.5990160393584256\n",
            "26000 10.671628014307142 0.04230606515134033 10.420099226952809 10.66378216222453 10.149763470635746 1.0641513787931234 1.428291219568478 1.274104842121457 1.0911888004307526 1.5983231414176378\n",
            "27000 10.66856783082108 0.042146587163438394 10.417058627458243 10.66267916003111 10.147179734083922 1.066293840968853 1.4305025739787416 1.2748787081959927 1.0916262360653308 1.601274026887893\n",
            "28000 10.667904717688653 0.041284239848576834 10.416449412520981 10.661762079925717 10.15038748616121 1.0672118852898111 1.4310560337130818 1.2752044569836791 1.0929609656797972 1.5983357737223671\n",
            "29000 10.668597634564325 0.04086065997724216 10.415916692527844 10.66149443122651 10.15030516189097 1.0661356504948105 1.433122995758767 1.274473294024344 1.092927830074825 1.5988414192614049\n",
            "30000 10.669277690743641 0.04053198226725776 10.413986200459984 10.659744675177494 10.150761641278624 1.0652978234058865 1.4348521715942801 1.274890836972101 1.0941968601046632 1.5978800706643113\n",
            "31000 10.669171962194769 0.039643882455404664 10.414535014999515 10.660236766555917 10.149866133350537 1.065062417341376 1.4366955904648238 1.2746040450308054 1.0936743976000773 1.5984968226831393\n",
            "32000 10.669385331708384 0.03887378519421268 10.414893284584856 10.66110434048936 10.149432830224056 1.0644979844379863 1.4384550482797414 1.2740226867910378 1.0933408330989656 1.5982625542951783\n",
            "33000 10.669010029999091 0.03860489076088603 10.413835944365323 10.661616314657131 10.15099542438108 1.0637556437683706 1.4396533438380654 1.2745371352383261 1.0925123481106633 1.5971031180873307\n",
            "34000 10.669450898502985 0.03835181318196523 10.412340813505486 10.661009970294991 10.15087791535543 1.0633804888091527 1.4419575894826622 1.2754918972971383 1.0927031557895357 1.5971294961912885\n",
            "35000 10.67143795891546 0.03777034941858804 10.412188223193622 10.66212393931602 10.149795720122283 1.0620553698465758 1.4435873260763978 1.2753635610411131 1.0922545070140852 1.5976972086511814\n",
            "36000 10.674453487403127 0.03813782950473598 10.411433015749562 10.661564956528986 10.1488847532013 1.0593039082247715 1.4450709702508264 1.2752145773728507 1.0924696536207328 1.5984000444432098\n",
            "37000 10.672846679819465 0.03743142077241156 10.410880787005757 10.66038755709305 10.151185103105322 1.0605389043539364 1.4462852355341747 1.275100672954785 1.093348828410043 1.5960919975135808\n",
            "38000 10.673719112654931 0.036841135759585274 10.412304939343702 10.659851056551144 10.150417094286992 1.0599194758032684 1.4464619352122312 1.2737033235967474 1.0941817320596827 1.5972211257598483\n",
            "39000 10.67426476244199 0.036691366888028515 10.411450988436194 10.659239506679317 10.152098664136817 1.0593318120048203 1.4477833901694828 1.2741468167482886 1.094279633855542 1.5954975513448373\n",
            "40000 10.674458138546536 0.036074098147546314 10.41046473838154 10.65958351041224 10.150571235719108 1.0589235269118271 1.4503387415314617 1.274843128921777 1.0939976500587485 1.5978600534986624\n",
            "41000 10.67395917172752 0.03548693934294286 10.410526572522622 10.658325406697397 10.151971903124315 1.0588522231165094 1.4512572864076485 1.2743103826735933 1.0946318382478477 1.5962537499085387\n",
            "42000 10.675960096188186 0.034665841289493106 10.40872836361039 10.658508130758792 10.149901192828743 1.056998642889455 1.452917787671722 1.2752077331492107 1.0945453679674293 1.598057189114545\n",
            "43000 10.675170344875701 0.03425501732517849 10.406246366363574 10.657240529290016 10.151066254273156 1.056952163903165 1.4554080137671217 1.2766447291923444 1.0947419827445872 1.5973814562452036\n",
            "44000 10.6755301015886 0.03349923865366696 10.406104406718029 10.657985045794414 10.15063294016045 1.0568623440376355 1.4562623576736893 1.2766073498329584 1.094247858003227 1.5978727756187359\n",
            "45000 10.675651652185508 0.03297704495455656 10.406213195262328 10.65736316970734 10.150263327481612 1.0563098597808938 1.4564120797315616 1.27610497544499 1.0949534454789893 1.5977200506655407\n",
            "46000 10.676572248429382 0.0322601682572118 10.405273798395687 10.660029129801526 10.150779330884111 1.0556292254516206 1.458055259668268 1.2766244212082345 1.0929327623312537 1.5967261581269971\n",
            "47000 10.676560073189933 0.031850386161996556 10.40607646645816 10.659581711027425 10.148571306993468 1.0554243526733473 1.4583945022446332 1.2752920150635092 1.0931682304631816 1.598455352013787\n",
            "48000 10.675715089268973 0.03133268056915481 10.403616591321015 10.659090435615925 10.147892752234329 1.0559988333576384 1.4608028999395846 1.2774733859711256 1.0935813837211725 1.5987791921001646\n",
            "49000 10.675741311401808 0.030836105385604374 10.401808126364768 10.659272259749802 10.146425583151364 1.056080488153303 1.4627456582518723 1.2785657435562539 1.0936103344829697 1.5998449011244669\n"
          ],
          "name": "stdout"
        }
      ]
    },
    {
      "cell_type": "code",
      "metadata": {
        "id": "2iv4C7Z09VGe",
        "colab_type": "code",
        "colab": {
          "base_uri": "https://localhost:8080/",
          "height": 279
        },
        "outputId": "80e6c605-8ab4-4a16-d435-e07f9b74f6ba"
      },
      "source": [
        "plt.plot(hits_FTPL,'black',label='FTPL')\n",
        "plt.plot(hits_LRU,'green',label='LRU')\n",
        "plt.plot(hits_LFU,'blue',label='LFU')\n",
        "plt.plot(hits_LSTM,'red',label='LSTM')\n",
        "plt.plot(hits_mrk,'yellow',label='Marker')\n",
        "plt.xlabel('T')\n",
        "plt.ylabel('total hits')\n",
        "plt.legend()\n",
        "plt.savefig('hit-rate(I=10 J=4 d=3).png')"
      ],
      "execution_count": 67,
      "outputs": [
        {
          "output_type": "display_data",
          "data": {
            "image/png": "[encoded data removed]",
            "text/plain": [
              "<Figure size 432x288 with 1 Axes>"
            ]
          },
          "metadata": {
            "tags": [],
            "needs_background": "light"
          }
        }
      ]
    },
    {
      "cell_type": "code",
      "metadata": {
        "id": "0BUxR46t9YE8",
        "colab_type": "code",
        "colab": {
          "base_uri": "https://localhost:8080/",
          "height": 279
        },
        "outputId": "2e481cec-0ee5-4aa3-f0e4-5806c079b534"
      },
      "source": [
        "plt.plot(download_FTPL,'black',label='FTPL')\n",
        "plt.plot(download_LRU,'green',label='LRU')\n",
        "plt.plot(download_LFU,'blue',label='LFU')\n",
        "plt.plot(download_LSTM,'red',label='LSTM')\n",
        "plt.plot(download_mrk,'yellow',label='Marker')\n",
        "plt.xlabel('T')\n",
        "plt.ylabel('new downloads')\n",
        "plt.legend()\n",
        "plt.savefig('download-rate(I=10 J=4 d=3).png')"
      ],
      "execution_count": 68,
      "outputs": [
        {
          "output_type": "display_data",
          "data": {
            "image/png": "[encoded data removed]",
            "text/plain": [
              "<Figure size 432x288 with 1 Axes>"
            ]
          },
          "metadata": {
            "tags": [],
            "needs_background": "light"
          }
        }
      ]
    }
  ]
}