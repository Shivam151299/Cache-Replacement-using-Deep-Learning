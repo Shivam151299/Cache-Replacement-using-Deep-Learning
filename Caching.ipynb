{
  "nbformat": 4,
  "nbformat_minor": 0,
  "metadata": {
    "colab": {
      "name": "Caching bipartite",
      "provenance": [],
      "collapsed_sections": []
    },
    "kernelspec": {
      "name": "python3",
      "display_name": "Python 3"
    }
  },
  "cells": [
    {
      "cell_type": "code",
      "metadata": {
        "id": "g6dzR9rt_krF",
        "colab_type": "code",
        "colab": {}
      },
      "source": [
        "import numpy as np\n",
        "from numpy import random\n",
        "import matplotlib.pyplot as plt\n",
        "%matplotlib inline"
      ],
      "execution_count": 5,
      "outputs": []
    },
    {
      "cell_type": "code",
      "metadata": {
        "id": "eki7BDaX_RpP",
        "colab_type": "code",
        "colab": {}
      },
      "source": [
        "gen_req1 = np.load('/content/drive/My Drive/gen_req.npy')\n",
        "req1 = np.load('/content/drive/My Drive/req.npy')"
      ],
      "execution_count": 6,
      "outputs": []
    },
    {
      "cell_type": "code",
      "metadata": {
        "id": "lAcMUnr1RECc",
        "colab_type": "code",
        "colab": {
          "base_uri": "https://localhost:8080/",
          "height": 34
        },
        "outputId": "ac6792fa-1902-4392-9060-b30b0e6a4842"
      },
      "source": [
        "#req1 = req1[20000:2005000]\n",
        "#gen_req1 = gen_req1[20000:2005000]\n",
        "req1.shape,gen_req1.shape"
      ],
      "execution_count": 7,
      "outputs": [
        {
          "output_type": "execute_result",
          "data": {
            "text/plain": [
              "((2005000,), (2255000,))"
            ]
          },
          "metadata": {
            "tags": []
          },
          "execution_count": 7
        }
      ]
    },
    {
      "cell_type": "code",
      "metadata": {
        "id": "SOUAMkThUS-c",
        "colab_type": "code",
        "colab": {}
      },
      "source": [
        "N = 100 # total ids \n",
        "pi = 3.14"
      ],
      "execution_count": 8,
      "outputs": []
    },
    {
      "cell_type": "markdown",
      "metadata": {
        "id": "Av1Kgt5FUF3x",
        "colab_type": "text"
      },
      "source": [
        "LRU"
      ]
    },
    {
      "cell_type": "code",
      "metadata": {
        "id": "IU2Dme6MjK66",
        "colab_type": "code",
        "colab": {}
      },
      "source": [
        "def LRU(y, x, request_time,con):\n",
        "  [N,I] = x.shape\n",
        "  J = len(y)\n",
        "  old = y.reshape(J*N).copy()\n",
        "  for j in range(J):\n",
        "    x_t_j = np.zeros((N),int)\n",
        "    file_req_time = np.zeros((N),int)\n",
        "\n",
        "    # to find which users are connected to this cache \n",
        "    connected_users = np.where(con[:,j]==1)[0]\n",
        "    for k in range(len(connected_users)):\n",
        "      x_t_j += x[:,connected_users[k]]\n",
        "      file_req_time = np.maximum(file_req_time, request_time[:,connected_users[k]])\n",
        "    x_t_j = np.minimum(np.ones(N),x_t_j)\n",
        "\n",
        "    # file which is not requested but still in the cache\n",
        "    a1 = np.transpose(np.logical_and(y[j],np.logical_not(np.logical_and(y[j],np.transpose(x_t_j)))))\n",
        "    a = np.where(a1 == 1)[0]\n",
        "    # file requested but not in the cache.\n",
        "    b1 = np.transpose(np.logical_and(np.transpose(x_t_j),np.logical_not(np.logical_and(y[j],np.transpose(x_t_j))))) \n",
        "    b = np.where(b1 == 1)[0]\n",
        "\n",
        "    if len(a)>0 and len(b)>0:\n",
        "      if len(a)>len(b):\n",
        "        t = np.zeros(len(a))\n",
        "        for k in range(len(a)):\n",
        "          t[k] = file_req_time[a[k]]\n",
        "        replace = (t).argsort()[:len(b)]\n",
        "        for k in range(len(b)):\n",
        "          y[j,a[int(replace[k])]] = 0\n",
        "        for k in range(len(b)):\n",
        "            y[j,b[k]] = 1\n",
        "      \n",
        "      else:\n",
        "        t = np.zeros(len(b))\n",
        "        for k in range(len(b)):\n",
        "          t[k] = file_req_time[b[k]]\n",
        "        replace = (t).argsort()[:len(a)]\n",
        "        for k in range(len(a)):\n",
        "          y[j,b[int(replace[k])]] = 1\n",
        "        for k in range(len(a)):\n",
        "          y[j,a[k]] = 0\n",
        "  new = y.reshape(J*N)\n",
        "  download = np.sum(np.logical_and(new,np.logical_not(old)))\n",
        "  return y,download"
      ],
      "execution_count": 9,
      "outputs": []
    },
    {
      "cell_type": "markdown",
      "metadata": {
        "id": "rlnncX3lUi-6",
        "colab_type": "text"
      },
      "source": [
        "LFU"
      ]
    },
    {
      "cell_type": "code",
      "metadata": {
        "id": "rZKodE159k31",
        "colab_type": "code",
        "colab": {}
      },
      "source": [
        "def LFU(y,x,freq,con):\n",
        "  [N,I] = x.shape\n",
        "  J = len(y)\n",
        "  old = y.reshape(J*N).copy()\n",
        "  for j in range(J):\n",
        "    file_freq = np.zeros((N),int)\n",
        "    x_t_j = np.zeros((N),int)\n",
        "\n",
        "    # to find which users are connected to this cache \n",
        "    connected_users = np.where(con[:,j]==1)[0]\n",
        "    for k in range(len(connected_users)):\n",
        "      x_t_j += x[:,connected_users[k]]\n",
        "      file_freq += freq[:,connected_users[k]]\n",
        "    x_t_j = np.minimum(np.ones(N),x_t_j)\n",
        "\n",
        "    # file which is not requested but still in the cache\n",
        "    a1 = np.transpose(np.logical_and(y[j],np.logical_not(np.logical_and(y[j],np.transpose(x_t_j)))))\n",
        "    a = np.where(a1 == 1)[0]\n",
        "    # file requested but not in the cache.\n",
        "    b1 = np.transpose(np.logical_and(np.transpose(x_t_j),np.logical_not(np.logical_and(y[j],np.transpose(x_t_j))))) \n",
        "    b = np.where(b1 == 1)[0]\n",
        "\n",
        "    if len(a)>0 and len(b)>0:\n",
        "      if len(a)>len(b):\n",
        "        t = np.zeros(len(a))\n",
        "        for k in range(len(a)):\n",
        "          t[k] = file_freq[a[k]]\n",
        "        replace = (t).argsort()[:len(b)]\n",
        "        for k in range(len(b)):\n",
        "          y[j,a[int(replace[k])]] = 0\n",
        "        for k in range(len(b)):\n",
        "            y[j,b[k]] = 1\n",
        "      \n",
        "      else:\n",
        "        t = np.zeros(len(b))\n",
        "        for k in range(len(b)):\n",
        "          t[k] = file_freq[b[k]]\n",
        "        replace = (t).argsort()[:len(a)]\n",
        "        for k in range(len(a)):\n",
        "          y[j,b[int(replace[k])]] = 1\n",
        "        for k in range(len(a)):\n",
        "          y[j,a[k]] = 0\n",
        "  new = y.reshape(J*N)\n",
        "  download = np.sum(np.logical_and(new,np.logical_not(old)))\n",
        "  return y,download"
      ],
      "execution_count": 10,
      "outputs": []
    },
    {
      "cell_type": "markdown",
      "metadata": {
        "id": "NxQfsTnXWQyP",
        "colab_type": "text"
      },
      "source": [
        "perturbed count"
      ]
    },
    {
      "cell_type": "code",
      "metadata": {
        "id": "V4d6vCcjWOP7",
        "colab_type": "code",
        "colab": {}
      },
      "source": [
        "def per_count(eta,count):\n",
        "  [N,I] = count.shape\n",
        "  p_count = np.zeros((N,I),dtype = 'f4')\n",
        "  for i in range(I):\n",
        "    p_count[:,i] = count[:,i] + np.round(np.multiply(eta, random.normal(0,1,[N,1])).reshape(N),4)\n",
        "  return p_count"
      ],
      "execution_count": 11,
      "outputs": []
    },
    {
      "cell_type": "markdown",
      "metadata": {
        "id": "WIbLBZBYswP8",
        "colab_type": "text"
      },
      "source": [
        "GREEDY"
      ]
    },
    {
      "cell_type": "code",
      "metadata": {
        "id": "plLnprjKsv75",
        "colab_type": "code",
        "colab": {}
      },
      "source": [
        "def Greedy(con,count):\n",
        "  [I,J] = con.shape\n",
        "  [N,I] = count.shape\n",
        "  load = np.zeros((1,J),dtype = int)\n",
        "\n",
        "  for i in range(I):\n",
        "    for f in range(N):\n",
        "      if count[f,i] < 0:\n",
        "        count[f,i] = 0\n",
        "  \n",
        "  loadc = 0\n",
        "  y = np.zeros((J,N),dtype = int)\n",
        "  z = np.zeros((I,N),dtype = 'f4')\n",
        "  mark = np.zeros((I,N),dtype = int)\n",
        "\n",
        "  while(loadc < J):\n",
        "    best_cache = -1\n",
        "    best_file = -1\n",
        "    best_imp = -1\n",
        "\n",
        "    for j in range(J):\n",
        "      if load[0,j] < C:\n",
        "        for f in range(N):\n",
        "          if y[j,f] != 1:\n",
        "            imp = 0\n",
        "\n",
        "            for i in range(I):\n",
        "              if con[i,j] == 1 and mark[i,f] == 0:\n",
        "                imp += count[f,i]\n",
        "\n",
        "            if imp >= best_imp:\n",
        "              best_cache = j\n",
        "              best_file = f\n",
        "              best_imp = imp\n",
        "\n",
        "    y[best_cache,best_file] = 1\n",
        "\n",
        "    for i in range(I):\n",
        "      if con[i,best_cache] == 1:\n",
        "        mark[i,best_file] = 1\n",
        "\n",
        "    load[0,best_cache] += 1\n",
        "    if load[0,best_cache] == C:\n",
        "      loadc += 1\n",
        "  \n",
        "  for i in range(I):\n",
        "    for f in range(N):\n",
        "      for j in range(J):\n",
        "        if con[i,j] == 1:\n",
        "          z[i,f] = np.maximum(y[j,f],z[i,f])\n",
        "      \n",
        "  return y,z"
      ],
      "execution_count": 12,
      "outputs": []
    },
    {
      "cell_type": "markdown",
      "metadata": {
        "id": "5JQ1Hl3trE62",
        "colab_type": "text"
      },
      "source": [
        "MARKER"
      ]
    },
    {
      "cell_type": "code",
      "metadata": {
        "id": "jvtrx2ek5QqM",
        "colab_type": "code",
        "colab": {}
      },
      "source": [
        "def Marker(y,x,bit,con,phase):\n",
        "  [N,I] = x.shape\n",
        "  J = len(y)\n",
        "  old = y.reshape(J*N).copy()\n",
        "  \n",
        "  for j in range(J):\n",
        "    x_t_j = np.zeros((N),int)\n",
        "    connected_users = np.where(con[:,j]==1)[0]\n",
        "    for k in range(len(connected_users)):\n",
        "      x_t_j += x[:,connected_users[k]]\n",
        "    x_t_j = np.minimum(np.ones((N),int),x_t_j)\n",
        "\n",
        "    phase[j] += x_t_j   \n",
        "    phase[j] = np.minimum(np.ones((N),int),phase[j]) \n",
        "    # new phase\n",
        "    if np.sum(phase[j]) == C:\n",
        "      bit[j,:] = np.zeros((1,N),int) #start new phase\n",
        "      phase[j] = np.zeros((N),int)\n",
        "      \n",
        "    # file which is not requested but still in the cache\n",
        "    a1 = np.transpose(np.logical_and(y[j],np.logical_not(np.logical_and(y[j],np.transpose(x_t_j)))))\n",
        "    a = np.where(a1 == 1)[0]\n",
        "    # file requested but not in the cache.\n",
        "    b1 = np.transpose(np.logical_and(np.transpose(x_t_j),np.logical_not(np.logical_and(y[j],np.transpose(x_t_j))))) \n",
        "    b = np.where(b1 == 1)[0]\n",
        "    # file requested available in cache\n",
        "    c1 = np.logical_and(y[j],x_t_j.reshape(1,N)).reshape(N)\n",
        "    c = np.where(c1 == 1)[0]\n",
        "    \n",
        "    # if requested file is available then bit is set for that file\n",
        "    for i in range(len(c)):\n",
        "      bit[j,c[i]] = 1 \n",
        "    \n",
        "    # now replace add all b1 files in cache and evict randomly untill end of the face.\n",
        "    for i in range(len(b)):\n",
        "      for n in range(N):\n",
        "        if np.logical_and(y[j,n],np.logical_not(bit[j,n])) == 1:\n",
        "          y[j,n] = 0\n",
        "          y[j,b[i]] = 1\n",
        "          bit[j,n] = 1\n",
        "          break\n",
        "              \n",
        "  new = y.reshape(J*N).copy()\n",
        "  download = np.sum(np.logical_and(new,np.logical_not(old)))\n",
        "  return y,bit,download,phase"
      ],
      "execution_count": 13,
      "outputs": []
    },
    {
      "cell_type": "markdown",
      "metadata": {
        "id": "8RkOlMhDjohA",
        "colab_type": "text"
      },
      "source": [
        "SINGLE CACHE"
      ]
    },
    {
      "cell_type": "code",
      "metadata": {
        "id": "ZyC3_Jwrjn5s",
        "colab_type": "code",
        "colab": {
          "base_uri": "https://localhost:8080/",
          "height": 34
        },
        "outputId": "d6bdbf16-d85e-49b6-96f6-ab12a43753b2"
      },
      "source": [
        "I = 1 #users\n",
        "T = 700000\n",
        "degree = 1\n",
        "J = 1 #caches\n",
        "C = 5\n",
        "connection = np.array([[1]])\n",
        "connection.shape"
      ],
      "execution_count": 14,
      "outputs": [
        {
          "output_type": "execute_result",
          "data": {
            "text/plain": [
              "(1, 1)"
            ]
          },
          "metadata": {
            "tags": []
          },
          "execution_count": 14
        }
      ]
    },
    {
      "cell_type": "code",
      "metadata": {
        "id": "4Xqi6iqtfnhE",
        "colab_type": "code",
        "colab": {
          "base_uri": "https://localhost:8080/",
          "height": 34
        },
        "outputId": "0e810531-992d-4747-d76b-a70737722999"
      },
      "source": [
        "req = req1[:I*T].reshape(I,T)\n",
        "req"
      ],
      "execution_count": 15,
      "outputs": [
        {
          "output_type": "execute_result",
          "data": {
            "text/plain": [
              "array([[17, 80, 26, ...,  2, 63, 19]])"
            ]
          },
          "metadata": {
            "tags": []
          },
          "execution_count": 15
        }
      ]
    },
    {
      "cell_type": "code",
      "metadata": {
        "id": "7NQUPQz7JvtR",
        "colab_type": "code",
        "colab": {
          "base_uri": "https://localhost:8080/",
          "height": 34
        },
        "outputId": "aa4ae3ba-fc61-4bd4-8679-1cbca4d2b2b1"
      },
      "source": [
        "gen_req = gen_req1[:I*T].reshape(I,T)\n",
        "gen_req"
      ],
      "execution_count": 16,
      "outputs": [
        {
          "output_type": "execute_result",
          "data": {
            "text/plain": [
              "array([[17, 80, 26, ..., 46, 52, 73]])"
            ]
          },
          "metadata": {
            "tags": []
          },
          "execution_count": 16
        }
      ]
    },
    {
      "cell_type": "code",
      "metadata": {
        "id": "pWowJlSAki2e",
        "colab_type": "code",
        "colab": {
          "base_uri": "https://localhost:8080/",
          "height": 1000
        },
        "outputId": "8cb828c7-7961-4e8c-dc70-f5181469a53f"
      },
      "source": [
        "y_LRU = np.zeros((J,N),dtype = int)\n",
        "y_LFU = np.zeros((J,N),dtype = int)\n",
        "y_FTPL = np.zeros((J,N),dtype = int)\n",
        "y_LSTM = np.zeros((J,N),dtype = int)\n",
        "y_mrk = np.zeros((J,N),dtype = int)\n",
        "y_mrk[:,:C] = np.ones((J,C),dtype = int)\n",
        "y_LSTM[:,:C] = np.ones((J,C),dtype = int)\n",
        "y_FTPL[:,:C] = np.ones((J,C),dtype = int)\n",
        "y_LRU[:,:C] = np.ones((J,C),dtype = int)\n",
        "y_LFU[:,:C] = np.ones((J,C),dtype = int)\n",
        "count = np.zeros((N,I),dtype = int)\n",
        "reward_LSTM =  np.zeros((T),int)\n",
        "reward_FTPL =  np.zeros((T),int)\n",
        "reward_LRU =  np.zeros((T),int)\n",
        "reward_LFU =  np.zeros((T),int)\n",
        "reward_mrk =  np.zeros((T),int)\n",
        "hits_mrk =  []\n",
        "hits_FTPL =  []\n",
        "hits_LRU =  []\n",
        "hits_LFU =  []\n",
        "hits_LSTM = []\n",
        "download_FTPL =  []\n",
        "download_LRU =  []\n",
        "download_LFU =  []\n",
        "download_LSTM = []\n",
        "download_mrk = []\n",
        "mrk_downloads_slotwise = np.zeros((T),int)\n",
        "FTPL_downloads_slotwise = np.zeros((T),int)\n",
        "LFU_downloads_slotwise = np.zeros((T),int)\n",
        "LRU_downloads_slotwise = np.zeros((T),int)\n",
        "LSTM_downloads_slotwise = np.zeros((T),int)\n",
        "req_time = np.zeros((N,I),dtype = int) \n",
        "req_time1 = np.zeros((N,I),dtype = int) \n",
        "bit = np.zeros((J,N),int)\n",
        "phase = np.zeros((J,N),int)\n",
        "\n",
        "for t in range(T):\n",
        "  x_t1 = np.zeros((N,I),dtype = int)\n",
        "  x_t = np.zeros((N,I),dtype = int)\n",
        "  for i in range(I):\n",
        "    x_t[req[i,t],i] += 1\n",
        "    x_t1[gen_req[i,t],i] += 1\n",
        "    count[int(req[i,t]),i] += 1\n",
        "    req_time[int(req[i,t]),i] = t+1\n",
        "    req_time1[int(gen_req[i,t]),i] = t+1\n",
        "  \n",
        "  ireward_LRU =  np.zeros((I),int)\n",
        "  ireward_LSTM =  np.zeros((I),int)\n",
        "  ireward_LFU =  np.zeros((I),int)\n",
        "  ireward_FTPL =  np.zeros((I),int)\n",
        "  ireward_mrk =  np.zeros((I),int)\n",
        "  \n",
        "  for i in range(I):\n",
        "    temp1 = np.zeros((N),int)\n",
        "    temp2 = np.zeros((N),int)\n",
        "    temp3 = np.zeros((N),int)\n",
        "    temp4 = np.zeros((N),int)\n",
        "    temp5 = np.zeros((N),int)\n",
        "\n",
        "    connected_cache = np.where(connection[i] == 1)[0]\n",
        "    for k in range(len(connected_cache)):\n",
        "      temp1 += y_FTPL[connected_cache[k],:]\n",
        "      temp2 += y_LFU[connected_cache[k],:]\n",
        "      temp3 += y_LRU[connected_cache[k],:]\n",
        "      temp4 += y_LSTM[connected_cache[k],:]\n",
        "      temp5 += y_mrk[connected_cache[k],:]\n",
        "    ireward_FTPL[i] += np.dot(np.minimum(np.ones(N),temp1),x_t[:,i])\n",
        "    ireward_LFU[i] += np.dot(np.minimum(np.ones(N),temp2),x_t[:,i])\n",
        "    ireward_LRU[i] += np.dot(np.minimum(np.ones(N),temp3),x_t[:,i])\n",
        "    ireward_LSTM[i] += np.dot(np.minimum(np.ones(N),temp4),x_t1[:,i])\n",
        "    ireward_mrk[i] += np.dot(np.minimum(np.ones(N),temp5),x_t[:,i])\n",
        "\n",
        "\n",
        "  reward_FTPL[t] =  np.sum(ireward_FTPL)\n",
        "  reward_LRU[t] =  np.sum(ireward_LRU)\n",
        "  reward_LFU[t] =  np.sum(ireward_LFU)\n",
        "  reward_LSTM[t] =  np.sum(ireward_LSTM)\n",
        "  reward_mrk[t] =  np.sum(ireward_mrk)\n",
        "  reward_mrkc = np.sum(reward_mrk)\n",
        "  reward_LSTMc = np.sum(reward_LSTM)\n",
        "  reward_FTPLc = np.sum(reward_FTPL)\n",
        "  reward_LRUc = np.sum(reward_LRU)\n",
        "  reward_LFUc = np.sum(reward_LFU)\n",
        "\n",
        "  y_LFU, LFU_downloads_slotwise[t] = LFU(y_LFU,x_t,count,connection)\n",
        "  y_LRU, LRU_downloads_slotwise[t] = LRU(y_LRU,x_t,req_time,connection)\n",
        "  y_LSTM, LSTM_downloads_slotwise[t] = LRU(y_LSTM,x_t1,req_time1,connection)\n",
        "  y_mrk, bit, mrk_downloads_slotwise[t], phase = Marker(y_mrk,x_t,bit,connection,phase) \n",
        "  eta = round(I*pow(4*pi*np.log(N*I),-.25)*pow((t+1)/(J*degree*C),.5),4)\n",
        "  perturbed_count=per_count(eta,count)\n",
        "  old_FTPL = y_FTPL.reshape(J*N)\n",
        "  add = (-perturbed_count[:,0]).argsort()[:C]\n",
        "  y_FTPL = np.zeros((J,N),dtype = int)\n",
        "  for k in range(len(add)):\n",
        "    y_FTPL[0,int(add[k])] = 1 \n",
        "  new_FTPL = y_FTPL.reshape(J*N)\n",
        "  FTPL_downloads_slotwise[t] = (np.sum(np.logical_and(new_FTPL,np.logical_not(old_FTPL))))\n",
        " \n",
        "  download_mrk.append(np.sum(mrk_downloads_slotwise)/(t+1))\n",
        "  download_FTPL.append(np.sum(FTPL_downloads_slotwise)/(t+1))\n",
        "  download_LFU.append(np.sum(LFU_downloads_slotwise)/(t+1))\n",
        "  download_LRU.append(np.sum(LRU_downloads_slotwise)/(t+1))\n",
        "  download_LSTM.append(np.sum(LSTM_downloads_slotwise)/(t+1))\n",
        "  hits_mrk.append(reward_mrkc/(t+1))\n",
        "  hits_LRU.append(reward_LRUc/(t+1))\n",
        "  hits_LFU.append(reward_LFUc/(t+1))\n",
        "  hits_FTPL.append(reward_FTPLc/(t+1))\n",
        "  hits_LSTM.append(reward_LSTMc/(t+1))\n",
        "\n",
        "  if t %10000 == 0:\n",
        "    print(t,download_mrk[t],download_FTPL[t],download_LFU[t],download_LRU[t],download_LSTM[t],hits_mrk[t],hits_FTPL[t],hits_LFU[t],hits_LRU[t],hits_LSTM[t])"
      ],
      "execution_count": 17,
      "outputs": [
        {
          "output_type": "stream",
          "text": [
            "0 1.0 3.0 1.0 1.0 1.0 0.0 0.0 0.0 0.0 0.0\n",
            "10000 0.9521047895210479 3.6833316668333165 0.9396060393960604 0.9476052394760524 0.9476052394760524 0.04789521047895211 0.056694330566943306 0.0603939606039396 0.052394760523947606 0.052394760523947606\n",
            "20000 0.951502424878756 3.173041347932603 0.935703214839258 0.9496525173741313 0.9496525173741313 0.04849757512124394 0.06189690515474226 0.06429678516074196 0.05034748262586871 0.05034748262586871\n",
            "30000 0.9508016399453352 2.8445051831605612 0.9342688577047432 0.9488017066097797 0.9205026499116696 0.049198360054664846 0.06353121562614579 0.06573114229525683 0.05119829339022033 0.07949735008833039\n",
            "40000 0.9503512412189695 2.5636859078523035 0.9338516537086573 0.9479513012174695 0.9053273668158296 0.04964875878103048 0.06487337816554586 0.06614834629134271 0.052048698782530434 0.0946726331841704\n",
            "50000 0.9494210115797684 2.3498930021399573 0.9347813043739125 0.9481210375792484 0.8962820743585128 0.0505789884202316 0.06483870322593548 0.06521869562608748 0.05187896242075159 0.10371792564148717\n",
            "60000 0.9492175130414493 2.1727471208813185 0.9345344244262596 0.9477342044299262 0.890185163580607 0.05078248695855069 0.06583223612939784 0.06546557557374044 0.05226579557007383 0.109814836419393\n",
            "70000 0.9489721575406066 2.024428222453965 0.9341580834559506 0.9474721789688719 0.8859587720175426 0.05102784245939344 0.06642762246253625 0.06584191654404938 0.05252782103112813 0.11404122798245739\n",
            "80000 0.9490256371795353 1.9050011874851565 0.9341508231147111 0.9475881551480606 0.8822139723253459 0.05097436282046475 0.06703666204172448 0.06584917688528893 0.05241184485193935 0.11778602767465407\n",
            "90000 0.9493561182653526 1.8020244219508672 0.9342896190042332 0.9482116865368163 0.8801791091210097 0.05064388173464739 0.06738814013177631 0.06571038099576672 0.051788313463183744 0.11982089087899023\n",
            "100000 0.949250507494925 1.7114328856711434 0.9341406585934141 0.9483405165948341 0.8788012119878801 0.05074949250507495 0.06796932030679693 0.06585934140658593 0.05165948340516595 0.12119878801211988\n",
            "110000 0.9490186452850429 1.630148816828938 0.9340187816474396 0.9481095626403396 0.8774738411468986 0.050981354714957135 0.06812665339406006 0.06598121835256043 0.05189043735966037 0.12252615885310134\n",
            "120000 0.9491670902742477 1.5623953133723885 0.9340505495787536 0.9480420996491696 0.8762176981858485 0.05083290972575229 0.06802443312972392 0.06594945042124649 0.05195790035083041 0.12378230181415155\n",
            "130000 0.9494696194644656 1.5034576657102638 0.9341158914162199 0.9481234759732617 0.8748317320635995 0.05053038053553434 0.0680148614241429 0.06588410858378012 0.05187652402673826 0.12516826793640048\n",
            "140000 0.9494789322933408 1.4508253512474911 0.9341433275476604 0.9483146548953222 0.8738437582588696 0.05052106770665924 0.0679709430646924 0.06585667245233963 0.05168534510467782 0.1261562417411304\n",
            "150000 0.9496870020866528 1.4084172772181518 0.9340804394637369 0.9484936767088219 0.8733675108832608 0.05031299791334724 0.06803287978080146 0.06591956053626309 0.05150632329117806 0.12663248911673922\n",
            "160000 0.9496940644120975 1.372072674545784 0.9340566621458616 0.9487190705058094 0.8724070474559534 0.05030593558790258 0.06821832363547728 0.06594333785413842 0.051280929494190663 0.1275929525440466\n",
            "170000 0.949847353839095 1.3405921141640342 0.9343297980600114 0.948665007852895 0.872012517573426 0.05015264616090494 0.06824077505426439 0.06567020193998858 0.05133499214710502 0.12798748242657396\n",
            "180000 0.9497169460169665 1.3130315942689208 0.9341559213559925 0.9489002838873117 0.8717340459219671 0.05028305398303343 0.06862184098977228 0.06584407864400753 0.051099716112688265 0.1282659540780329\n",
            "190000 0.9497160541260309 1.2888353219193582 0.9343108720480419 0.9491265835442971 0.8710585733759296 0.05028394587396908 0.06854174451713411 0.06568912795195815 0.05087341645570286 0.1289414266240704\n",
            "200000 0.9499202503987481 1.2671936640316799 0.9343803280983595 0.9491852540737297 0.8708456457717711 0.05007974960125199 0.06857465712671437 0.06561967190164049 0.05081474592627037 0.12915435422822885\n",
            "210000 0.9498811910419475 1.2473273936790776 0.9342050752139276 0.949028814148504 0.8705101404279028 0.05011880895805258 0.0686758634482693 0.06579492478607245 0.050971185851495945 0.12948985957209727\n",
            "220000 0.949800228180781 1.2250126135790291 0.934123026713515 0.9490956859287003 0.8703278621460812 0.050199771819219 0.06880423270803314 0.06587697328648506 0.050904314071299674 0.12967213785391885\n",
            "230000 0.9497958704527372 1.2062425815539932 0.9340785474845762 0.9489784827022492 0.8700657823226855 0.05020412954726284 0.06879970087086577 0.06592145251542385 0.05102151729775088 0.12993421767731445\n",
            "240000 0.9497085428810713 1.1869867208886629 0.9340836079849667 0.9489502127074471 0.8695547101887076 0.05029145711892867 0.0688038799838334 0.06591639201503327 0.051049787292552946 0.13044528981129244\n",
            "250000 0.9497642009431962 1.1656073375706497 0.9339602641589434 0.9489242043031828 0.8693645225419099 0.050235799056803775 0.06894772420910317 0.06603973584105663 0.051075795696817215 0.13063547745809018\n",
            "260000 0.9498117314933404 1.146007130741805 0.9338617928392583 0.9487925046442129 0.8689928115661094 0.05018826850665959 0.06896127322587221 0.06613820716074169 0.05120749535578709 0.13100718843389064\n",
            "270000 0.949707593675579 1.1278773041581327 0.9337409861444957 0.9487113010692553 0.8687338195043722 0.05029240632442102 0.06897011492550027 0.06625901385550424 0.051288698930744704 0.1312661804956278\n",
            "280000 0.9496894653947664 1.1092496098228222 0.9337895221802779 0.9488573255095517 0.8685076124728126 0.050310534605233555 0.06902832489883964 0.06621047781972207 0.05114267449044825 0.1314923875271874\n",
            "290000 0.9496312081682476 1.0908169282174889 0.933807124803018 0.9486760390481412 0.8681280409377898 0.0503687918317523 0.06894458984624191 0.06619287519698208 0.05132396095185879 0.13187195906221014\n",
            "300000 0.9495701680994396 1.0753997486675044 0.9337268875770414 0.9486201712660958 0.8678604404651985 0.05042983190056033 0.06904310318965604 0.0662731124229586 0.05137982873390422 0.13213955953480155\n",
            "310000 0.9495614530275709 1.0605804497404847 0.9336453753374989 0.9486356495624207 0.8678036522462831 0.050438546972429124 0.06917074461050125 0.06635462466250108 0.05136435043757923 0.13219634775371691\n",
            "320000 0.9495845325483357 1.0464654797953756 0.9337002071868525 0.9485251608588723 0.8674879141002685 0.05041546745166421 0.06905290920965872 0.06629979281314746 0.05147483914112769 0.13251208589973157\n",
            "330000 0.9495243953806201 1.0330605058772548 0.9337850491362147 0.9485486407616947 0.867297371826146 0.050475604619379943 0.0688967609189063 0.06621495086378526 0.051451359238305336 0.13270262817385403\n",
            "340000 0.949626618745239 1.0208175858306299 0.9337149008385269 0.9485001514701428 0.8671298025594042 0.05037338125476101 0.06899391472378022 0.06628509916147306 0.05149984852985726 0.13287019744059575\n",
            "350000 0.9496658580975483 1.0091542595592584 0.9338373318933374 0.9486172896648867 0.8668775232070766 0.05033414190245171 0.06891123168219519 0.06616266810666255 0.05138271033511333 0.13312247679292344\n",
            "360000 0.9495890289193641 1.000566665092597 0.9338140727386869 0.9486751425690484 0.866736481287552 0.050410971080635886 0.06894980847275424 0.06618592726131316 0.05132485743095158 0.13326351871244801\n",
            "370000 0.9495487850032838 0.9916189415704282 0.9338623409125921 0.9486650036080984 0.866530090459215 0.050451214996716225 0.06892684073826827 0.06613765908740787 0.051334996391901644 0.13346990954078503\n",
            "380000 0.9495527643348307 0.981450048815661 0.9339107002349993 0.9485632932544914 0.866397720006 0.0504472356651693 0.06888929239659895 0.06608929976500062 0.05143670674550856 0.133602279994\n",
            "390000 0.9495103858708055 0.9730923766862136 0.9339411950225769 0.9486309009464078 0.8663234196835393 0.05048961412919454 0.06891007971774431 0.06605880497742314 0.05136909905359217 0.13367658031646074\n",
            "400000 0.9495376261559346 0.9650200874497814 0.9339726650683373 0.9486676283309292 0.866235334411664 0.05046237384406539 0.06886732783168042 0.06602733493166267 0.05133237166907083 0.13376466558833602\n",
            "410000 0.9494806110228999 0.9586391252704262 0.934017234104307 0.948658661808142 0.8662247165250816 0.05051938897710006 0.06882178336150399 0.06598276589569294 0.05134133819185807 0.13377528347491835\n",
            "420000 0.9494858345575368 0.9524834464679846 0.934071585543844 0.9487048840359904 0.8660550808212362 0.05051416544246323 0.06875697915004965 0.06592841445615606 0.05129511596400961 0.13394491917876386\n",
            "430000 0.9494559314978337 0.9465047755702893 0.9339257350564301 0.9486791891181648 0.8659631024113897 0.05054406850216627 0.06882542133622944 0.0660742649435699 0.05132081088183516 0.13403689758861026\n",
            "440000 0.949361478723912 0.9419978590957748 0.9339046956711462 0.9486205713168834 0.8659662137131506 0.050638521276088005 0.06879757091461156 0.0660953043288538 0.05137942868311663 0.13403378628684934\n",
            "450000 0.9493201126219719 0.93866680296266 0.9339112579749823 0.9486267808293759 0.8658402981326708 0.050679887378028046 0.06875540276577163 0.06608874202501772 0.05137321917062407 0.13415970186732917\n",
            "460000 0.9493131536670573 0.9353870969845718 0.9339197088701982 0.9486696768050504 0.8657481179388741 0.05068684633294276 0.06875637226875594 0.06608029112980189 0.051330323194949574 0.13425188206112595\n",
            "470000 0.949327767387729 0.9323150376275795 0.933898012982951 0.9486639390128957 0.8657385835349286 0.05067223261227104 0.06877644941180976 0.0661019870170489 0.05133606098710428 0.13426141646507134\n",
            "480000 0.9492751056768631 0.9298001462496953 0.9338605544571782 0.9486063570700894 0.8656336132633057 0.05072489432313683 0.06888318982668785 0.06613944554282179 0.05139364292991056 0.1343663867366943\n",
            "490000 0.9493001034691766 0.9275511682629219 0.933826665659866 0.9485960232734219 0.8655431315446295 0.05069989653082341 0.06889577776371884 0.066173334340134 0.05140397672657811 0.1344568684553705\n",
            "500000 0.9493321013357974 0.9256561486877026 0.9338201323597353 0.9486321027357946 0.8655522688954622 0.050667898664202675 0.06886386227227545 0.06617986764026472 0.05136789726420547 0.13444773110453778\n",
            "510000 0.94934127580142 0.924555049892059 0.9338334630716411 0.9486746104419403 0.8653865384577677 0.05065872419858 0.06886064929284452 0.06616653692835896 0.05132538955805969 0.13461346154223228\n",
            "520000 0.9493462512572092 0.9222039957615467 0.9338924348222407 0.948734713971704 0.8653983357724312 0.050653748742790876 0.06883640608383446 0.06610756517775927 0.0512652860282961 0.1346016642275688\n",
            "530000 0.9493265107046968 0.9204982632108242 0.93392276618346 0.94876613440352 0.8653021409393568 0.050673489295303215 0.06885647385570971 0.06607723381653997 0.05123386559648001 0.13469785906064327\n",
            "540000 0.9493426864024326 0.9187168171910792 0.934066788765206 0.9488056503599067 0.8651595089638723 0.050657313597567415 0.06872394680750592 0.06593321123479401 0.051194349640093256 0.13484049103612772\n",
            "550000 0.9493400921089235 0.9167128787038569 0.9339819382146578 0.9487928203766902 0.8651402451995542 0.050659907891076564 0.06875987498204549 0.06601806178534221 0.05120717962330978 0.13485975480044582\n",
            "560000 0.9493375904685885 0.9145537240112072 0.9339411893907332 0.9487608057842754 0.8650734552259728 0.05066240953141155 0.0687427343879743 0.06605881060926677 0.051239194215724614 0.13492654477402719\n",
            "570000 0.9493457029022756 0.9120282245118868 0.933979063194626 0.9487930722928556 0.8650862016031551 0.05065429709772439 0.06869637070812157 0.06602093680537402 0.05120692770714437 0.13491379839684492\n",
            "580000 0.9493000874136424 0.9097070522292203 0.9339983896579489 0.9487862951960427 0.865029543052512 0.05069991258635761 0.06867229539259415 0.06600161034205114 0.05121370480395723 0.13497045694748802\n",
            "590000 0.9493136452311097 0.9072899876440887 0.9339831627404022 0.948844154501433 0.864991754251264 0.050686354768890225 0.06870835812142691 0.06601683725959787 0.05115584549856695 0.13500824574873602\n",
            "600000 0.9492767512054147 0.9046984921691797 0.9339301101164832 0.9488184186359689 0.8650085583190694 0.05072324879458534 0.06870321882796862 0.06606988988351686 0.05118158136403106 0.13499144168093052\n",
            "610000 0.9492574602336717 0.9017493413945223 0.9339246984841009 0.948818116691612 0.8649510410638671 0.050742539766328254 0.06871792013455716 0.06607530151589916 0.05118188330838802 0.1350489589361329\n",
            "620000 0.9492033077366004 0.8982711318207551 0.9339049453146043 0.9488371792948721 0.8648840888966308 0.05079669226339958 0.06875795361620385 0.06609505468539567 0.0511628207051279 0.13511591110336918\n",
            "630000 0.9491667473543692 0.8946509608714907 0.9339112160139428 0.9488397637464068 0.8648462462757995 0.05083325264563072 0.0687713194106041 0.06608878398605716 0.05116023625359325 0.13515375372420044\n",
            "640000 0.9491719544188212 0.8913157948190706 0.9338954157884128 0.9488063299901094 0.8648236487130488 0.05082804558117878 0.06880770498796096 0.06610458421158717 0.05119367000989061 0.1351763512869511\n",
            "650000 0.9492216165821283 0.8879094032163027 0.93388933247795 0.9488477710034292 0.8647725157345911 0.050778383417871664 0.06883835563329903 0.06611066752204997 0.05115222899657077 0.13522748426540881\n",
            "660000 0.9492106830141166 0.8846304778326094 0.9338607062716572 0.9488561380967605 0.8647895988036381 0.050789316985883355 0.06888777441246301 0.06613929372834283 0.05114386190323954 0.13521040119636182\n",
            "670000 0.9492433593382696 0.8805404768052585 0.9338986061214835 0.9488985837334571 0.8647016944750828 0.05075664066173036 0.0688849718134749 0.0661013938785166 0.05110141626654289 0.13529830552491712\n",
            "680000 0.9492897804562052 0.8764325346580373 0.9338824501728674 0.948901545733021 0.8646766695931329 0.05071021954379479 0.06891166336520094 0.06611754982713261 0.05109845426697902 0.13532333040686706\n",
            "690000 0.9492870300187971 0.872704532312272 0.9338986465237007 0.948873987139149 0.8647045439064581 0.05071296998120293 0.06891149433116764 0.06610135347629931 0.051126012860850924 0.1352954560935419\n"
          ],
          "name": "stdout"
        }
      ]
    },
    {
      "cell_type": "code",
      "metadata": {
        "id": "J_3kWL_JCNjX",
        "colab_type": "code",
        "colab": {
          "base_uri": "https://localhost:8080/",
          "height": 346
        },
        "outputId": "b9002f52-d5d3-4054-db5e-09a4602a16bf"
      },
      "source": [
        "plt.plot(hits_FTPL,'black',label='FTPL')\n",
        "plt.plot(hits_LRU,'green',label='LRU')\n",
        "plt.plot(hits_LFU,'blue',label='LFU')\n",
        "plt.plot(hits_LSTM,'red',label='LSTM')\n",
        "plt.plot(hits_mrk,'yellow',label='Marker')\n",
        "plt.xlabel('T')\n",
        "plt.ylabel('Total hits/T')\n",
        "plt.legend()\n",
        "plt.savefig('hit-rate(I=J=1).png')"
      ],
      "execution_count": 18,
      "outputs": [
        {
          "output_type": "stream",
          "text": [
            "/usr/local/lib/python3.6/dist-packages/ipykernel_launcher.py:9: UserWarning: Creating legend with loc=\"best\" can be slow with large amounts of data.\n",
            "  if __name__ == '__main__':\n",
            "/usr/local/lib/python3.6/dist-packages/IPython/core/pylabtools.py:125: UserWarning: Creating legend with loc=\"best\" can be slow with large amounts of data.\n",
            "  fig.canvas.print_figure(bytes_io, **kw)\n"
          ],
          "name": "stderr"
        },
        {
          "output_type": "display_data",
          "data": {
            "image/png": "[encoded data removed]",
            "text/plain": [
              "<Figure size 432x288 with 1 Axes>"
            ]
          },
          "metadata": {
            "tags": [],
            "needs_background": "light"
          }
        }
      ]
    },
    {
      "cell_type": "code",
      "metadata": {
        "id": "YK-m4yZjrs3l",
        "colab_type": "code",
        "colab": {
          "base_uri": "https://localhost:8080/",
          "height": 279
        },
        "outputId": "60f95159-4092-40ed-a390-ccce0fe6e087"
      },
      "source": [
        "plt.plot(download_FTPL,'black',label='FTPL')\n",
        "plt.plot(download_LRU,'green',label='LRU')\n",
        "plt.plot(download_LFU,'blue',label='LFU')\n",
        "plt.plot(download_LSTM,'red',label='LSTM')\n",
        "plt.plot(download_mrk,'yellow',label='Marker')\n",
        "plt.xlabel('T')\n",
        "plt.ylabel('New downloads/T')\n",
        "plt.legend()\n",
        "plt.savefig('download-rate(I=J=1).png')"
      ],
      "execution_count": 19,
      "outputs": [
        {
          "output_type": "display_data",
          "data": {
            "image/png": "[encoded data removed]",
            "text/plain": [
              "<Figure size 432x288 with 1 Axes>"
            ]
          },
          "metadata": {
            "tags": [],
            "needs_background": "light"
          }
        }
      ]
    },
    {
      "cell_type": "markdown",
      "metadata": {
        "id": "Fj30MgQaWN_E",
        "colab_type": "text"
      },
      "source": [
        "I = 5 J = 3 d = 3"
      ]
    },
    {
      "cell_type": "code",
      "metadata": {
        "id": "jA0Kz7jzKJ3G",
        "colab_type": "code",
        "colab": {}
      },
      "source": [
        "C = 5\n",
        "I = 5\n",
        "J = 3\n",
        "degree = 3\n",
        "T = 50000"
      ],
      "execution_count": 20,
      "outputs": []
    },
    {
      "cell_type": "code",
      "metadata": {
        "id": "fkzyLhrGKhB6",
        "colab_type": "code",
        "colab": {
          "base_uri": "https://localhost:8080/",
          "height": 101
        },
        "outputId": "cf093b66-e748-4d67-c3c2-956f1e6ce75c"
      },
      "source": [
        "connection = np.zeros((I,J),dtype = int)\n",
        "i = 0\n",
        "for j in range(J):\n",
        "  x = 0\n",
        "  while x < degree:\n",
        "    connection[i,j] = 1\n",
        "    x += 1\n",
        "    i += 1\n",
        "    if i == I:\n",
        "      i = 0\n",
        "connection"
      ],
      "execution_count": 21,
      "outputs": [
        {
          "output_type": "execute_result",
          "data": {
            "text/plain": [
              "array([[1, 1, 0],\n",
              "       [1, 0, 1],\n",
              "       [1, 0, 1],\n",
              "       [0, 1, 1],\n",
              "       [0, 1, 0]])"
            ]
          },
          "metadata": {
            "tags": []
          },
          "execution_count": 21
        }
      ]
    },
    {
      "cell_type": "code",
      "metadata": {
        "id": "TIjWw46mSfxG",
        "colab_type": "code",
        "colab": {}
      },
      "source": [
        "gen_req1 = np.load('/content/drive/My Drive/gen_req.npy')\n",
        "req1 = np.load('/content/drive/My Drive/req.npy')\n",
        "req1 = req1[20000:]\n",
        "gen_req1 = gen_req1[20000:]"
      ],
      "execution_count": 22,
      "outputs": []
    },
    {
      "cell_type": "code",
      "metadata": {
        "id": "DNOrEFxxThnu",
        "colab_type": "code",
        "colab": {
          "base_uri": "https://localhost:8080/",
          "height": 34
        },
        "outputId": "c556eb9d-aab6-4190-fa19-8006fd3b7089"
      },
      "source": [
        "req = req1.reshape(I,-1)\n",
        "req.shape"
      ],
      "execution_count": 23,
      "outputs": [
        {
          "output_type": "execute_result",
          "data": {
            "text/plain": [
              "(5, 397000)"
            ]
          },
          "metadata": {
            "tags": []
          },
          "execution_count": 23
        }
      ]
    },
    {
      "cell_type": "code",
      "metadata": {
        "id": "DAQ_EHg8TlOp",
        "colab_type": "code",
        "colab": {
          "base_uri": "https://localhost:8080/",
          "height": 34
        },
        "outputId": "3dec2d3a-2943-4e97-a38a-463cee0c8c25"
      },
      "source": [
        "gen_req = gen_req1.reshape(I,-1)\n",
        "gen_req.shape"
      ],
      "execution_count": 24,
      "outputs": [
        {
          "output_type": "execute_result",
          "data": {
            "text/plain": [
              "(5, 447000)"
            ]
          },
          "metadata": {
            "tags": []
          },
          "execution_count": 24
        }
      ]
    },
    {
      "cell_type": "code",
      "metadata": {
        "id": "sHz0D4AI8mvp",
        "colab_type": "code",
        "colab": {
          "base_uri": "https://localhost:8080/",
          "height": 101
        },
        "outputId": "63e5da8e-b47c-47a8-e661-054249c77dcb"
      },
      "source": [
        "req"
      ],
      "execution_count": 25,
      "outputs": [
        {
          "output_type": "execute_result",
          "data": {
            "text/plain": [
              "array([[76, 92, 49, ..., 63,  6, 83],\n",
              "       [30, 32, 18, ..., 83, 79, 30],\n",
              "       [67, 26, 42, ..., 68, 95, 61],\n",
              "       [42,  4,  1, ..., 14, 64, 79],\n",
              "       [55, 98, 27, ..., 16, 26, 14]])"
            ]
          },
          "metadata": {
            "tags": []
          },
          "execution_count": 25
        }
      ]
    },
    {
      "cell_type": "code",
      "metadata": {
        "id": "CT3JL5P38mnF",
        "colab_type": "code",
        "colab": {
          "base_uri": "https://localhost:8080/",
          "height": 101
        },
        "outputId": "126971b9-75f4-4430-84fd-c0c885ccf615"
      },
      "source": [
        "gen_req"
      ],
      "execution_count": 26,
      "outputs": [
        {
          "output_type": "execute_result",
          "data": {
            "text/plain": [
              "array([[64, 15, 95, ..., 15, 41, 77],\n",
              "       [49,  8,  3, ..., 15, 41, 77],\n",
              "       [33, 56, 51, ..., 15, 41, 77],\n",
              "       [27, 78, 64, ..., 41, 15, 77],\n",
              "       [64, 92, 46, ..., 15, 41, 77]])"
            ]
          },
          "metadata": {
            "tags": []
          },
          "execution_count": 26
        }
      ]
    },
    {
      "cell_type": "code",
      "metadata": {
        "id": "Iv3NdT9_FL2A",
        "colab_type": "code",
        "colab": {
          "base_uri": "https://localhost:8080/",
          "height": 121
        },
        "outputId": "83310c3d-efa0-4ad0-af70-15b417e2aa67"
      },
      "source": [
        "y_LRU = np.zeros((J,N),dtype = int)\n",
        "y_LFU = np.zeros((J,N),dtype = int)\n",
        "y_FTPL = np.zeros((J,N),dtype = int)\n",
        "y_LSTM = np.zeros((J,N),dtype = int)\n",
        "y_mrk = np.zeros((J,N),dtype = int)\n",
        "y_mrk[:,:C] = np.ones((J,C),dtype = int)\n",
        "y_LSTM[:,:C] = np.ones((J,C),dtype = int)\n",
        "y_FTPL[:,:C] = np.ones((J,C),dtype = int)\n",
        "y_LRU[:,:C] = np.ones((J,C),dtype = int)\n",
        "y_LFU[:,:C] = np.ones((J,C),dtype = int)\n",
        "count = np.zeros((N,I),dtype = int)\n",
        "reward_LSTM =  np.zeros((T),int)\n",
        "reward_FTPL =  np.zeros((T),int)\n",
        "reward_LRU =  np.zeros((T),int)\n",
        "reward_LFU =  np.zeros((T),int)\n",
        "reward_mrk =  np.zeros((T),int)\n",
        "hits_mrk =  []\n",
        "hits_FTPL =  []\n",
        "hits_LRU =  []\n",
        "hits_LFU =  []\n",
        "hits_LSTM = []\n",
        "download_FTPL =  []\n",
        "download_LRU =  []\n",
        "download_LFU =  []\n",
        "download_LSTM = []\n",
        "download_mrk = []\n",
        "mrk_downloads_slotwise = np.zeros((T),int)\n",
        "FTPL_downloads_slotwise = np.zeros((T),int)\n",
        "LFU_downloads_slotwise = np.zeros((T),int)\n",
        "LRU_downloads_slotwise = np.zeros((T),int)\n",
        "LSTM_downloads_slotwise = np.zeros((T),int)\n",
        "req_time = np.zeros((N,I),dtype = int) \n",
        "req_time1 = np.zeros((N,I),dtype = int) \n",
        "bit = np.zeros((J,N),int)\n",
        "phase = np.zeros((J,N),int)\n",
        "for t in range(T):\n",
        "  x_t1 = np.zeros((N,I),dtype = int)\n",
        "  x_t = np.zeros((N,I),dtype = int)\n",
        "  for i in range(I):\n",
        "    x_t[req[i,t],i] += 1\n",
        "    x_t1[gen_req[i,t],i] += 1\n",
        "    count[int(req[i,t]),i] += 1\n",
        "    req_time[int(req[i,t]),i] = t+1\n",
        "    req_time1[int(gen_req[i,t]),i] = t+1\n",
        "  \n",
        "  ireward_LRU =  np.zeros((I),int)\n",
        "  ireward_LSTM =  np.zeros((I),int)\n",
        "  ireward_LFU =  np.zeros((I),int)\n",
        "  ireward_FTPL =  np.zeros((I),int)\n",
        "  ireward_mrk =  np.zeros((I),int)\n",
        "  \n",
        "  for i in range(I):\n",
        "    temp1 = np.zeros((N),int)\n",
        "    temp2 = np.zeros((N),int)\n",
        "    temp3 = np.zeros((N),int)\n",
        "    temp4 = np.zeros((N),int)\n",
        "    temp5 = np.zeros((N),int)\n",
        "\n",
        "    connected_cache = np.where(connection[i] == 1)[0]\n",
        "    for k in range(len(connected_cache)):\n",
        "      temp1 += y_FTPL[connected_cache[k],:]\n",
        "      temp2 += y_LFU[connected_cache[k],:]\n",
        "      temp3 += y_LRU[connected_cache[k],:]\n",
        "      temp4 += y_LSTM[connected_cache[k],:]\n",
        "      temp5 += y_mrk[connected_cache[k],:]\n",
        "    ireward_FTPL[i] += np.dot(np.minimum(np.ones(N),temp1),x_t[:,i])\n",
        "    ireward_LFU[i] += np.dot(np.minimum(np.ones(N),temp2),x_t[:,i])\n",
        "    ireward_LRU[i] += np.dot(np.minimum(np.ones(N),temp3),x_t[:,i])\n",
        "    ireward_LSTM[i] += np.dot(np.minimum(np.ones(N),temp4),x_t1[:,i])\n",
        "    ireward_mrk[i] += np.dot(np.minimum(np.ones(N),temp5),x_t[:,i])\n",
        "\n",
        "  reward_FTPL[t] =  np.sum(ireward_FTPL)\n",
        "  reward_LRU[t] =  np.sum(ireward_LRU)\n",
        "  reward_LFU[t] =  np.sum(ireward_LFU)\n",
        "  reward_LSTM[t] =  np.sum(ireward_LSTM)\n",
        "  reward_mrk[t] =  np.sum(ireward_mrk)\n",
        "  reward_mrkc = np.sum(reward_mrk)\n",
        "  reward_LSTMc = np.sum(reward_LSTM)\n",
        "  reward_FTPLc = np.sum(reward_FTPL)\n",
        "  reward_LRUc = np.sum(reward_LRU)\n",
        "  reward_LFUc = np.sum(reward_LFU)\n",
        "\n",
        "  [y_LFU,LFU_downloads_slotwise[t]] = LFU(y_LFU,x_t,count,connection)\n",
        "  [y_LRU,LRU_downloads_slotwise[t]] = LRU(y_LRU,x_t,req_time,connection)\n",
        "  [y_LSTM,LSTM_downloads_slotwise[t]] = LRU(y_LSTM,x_t1,req_time1,connection)\n",
        "  [y_mrk,bit,mrk_downloads_slotwise[t],phase] = Marker(y_mrk,x_t,bit,connection,phase) \n",
        "\n",
        "  eta = round(I*pow(4*pi*np.log(N*I),-.25)*pow((t+1)/(J*degree*C),.5),4)\n",
        "  perturbed_count=per_count(eta,count)\n",
        "  old_FTPL = y_FTPL.reshape(J*N).copy()\n",
        "  [y_FTPL,Z] = Greedy(connection,perturbed_count) \n",
        "  new_FTPL = y_FTPL.reshape(J*N).copy()\n",
        "  FTPL_downloads_slotwise[t] = (np.sum(np.logical_and(new_FTPL,np.logical_not(old_FTPL))))\n",
        "\n",
        "  download_mrk.append(np.sum(mrk_downloads_slotwise)/(t+1))\n",
        "  download_FTPL.append(np.sum(FTPL_downloads_slotwise)/(t+1))\n",
        "  download_LFU.append(np.sum(LFU_downloads_slotwise)/(t+1))\n",
        "  download_LRU.append(np.sum(LRU_downloads_slotwise)/(t+1))\n",
        "  download_LSTM.append(np.sum(LSTM_downloads_slotwise)/(t+1))\n",
        "  hits_mrk.append(reward_mrkc/(t+1))\n",
        "  hits_LRU.append(reward_LRUc/(t+1))\n",
        "  hits_LFU.append(reward_LFUc/(t+1))\n",
        "  hits_FTPL.append(reward_FTPLc/(t+1))\n",
        "  hits_LSTM.append(reward_LSTMc/(t+1))\n",
        "\n",
        "  if t %10000 == 0:\n",
        "    print(t,download_mrk[t],download_FTPL[t],download_LFU[t],download_LRU[t],download_LSTM[t],hits_mrk[t],hits_FTPL[t],hits_LFU[t],hits_LRU[t],hits_LSTM[t])"
      ],
      "execution_count": 27,
      "outputs": [
        {
          "output_type": "stream",
          "text": [
            "0 9.0 15.0 9.0 9.0 8.0 0.0 0.0 0.0 0.0 0.0\n",
            "10000 0.004299570042995701 12.624137586241376 8.375662433756624 8.440455954404559 7.727627237276272 0.39416058394160586 0.5253474652534746 0.39906009399060094 0.3648635136486351 0.7036296370362963\n",
            "20000 0.0021498925053747312 12.106094695265236 8.379681015949203 8.450677466126693 7.71996400179991 0.39718014099295035 0.5366731663416829 0.38908054597270136 0.35948202589870504 0.703964801759912\n",
            "30000 0.001433285557148095 11.772874237525416 8.381653944868505 8.449651678277391 7.702276590780308 0.39892003599880005 0.5400486650444986 0.38025399153361555 0.3612212926235792 0.7129762341255291\n",
            "40000 0.0010749731256718582 11.576110597235068 8.379965500862479 8.451438714032149 7.703107422314442 0.399240018999525 0.5459113522161946 0.3755656108597285 0.36034099147521315 0.7131321716957076\n"
          ],
          "name": "stdout"
        }
      ]
    },
    {
      "cell_type": "code",
      "metadata": {
        "id": "u33MS3DDT1CZ",
        "colab_type": "code",
        "colab": {
          "base_uri": "https://localhost:8080/",
          "height": 279
        },
        "outputId": "1edcbac0-5896-4863-e02d-94c5557c9cd9"
      },
      "source": [
        "plt.plot(hits_FTPL,'black',label='FTPL')\n",
        "plt.plot(hits_LRU,'green',label='LRU')\n",
        "plt.plot(hits_LFU,'blue',label='LFU')\n",
        "plt.plot(hits_LSTM,'red',label='LSTM')\n",
        "plt.plot(hits_mrk,'yellow',label='Marker')\n",
        "plt.xlabel('T')\n",
        "plt.ylabel('total hits/T')\n",
        "plt.legend()\n",
        "plt.savefig('hit-rate(I=5 J=3 d=3).png')"
      ],
      "execution_count": 28,
      "outputs": [
        {
          "output_type": "display_data",
          "data": {
            "image/png": "[encoded data removed]",
            "text/plain": [
              "<Figure size 432x288 with 1 Axes>"
            ]
          },
          "metadata": {
            "tags": [],
            "needs_background": "light"
          }
        }
      ]
    },
    {
      "cell_type": "code",
      "metadata": {
        "id": "BO6RqcCjt-I0",
        "colab_type": "code",
        "colab": {
          "base_uri": "https://localhost:8080/",
          "height": 279
        },
        "outputId": "65ec3cab-7b9c-4f03-850e-da50acbf2bae"
      },
      "source": [
        "plt.plot(download_FTPL,'black',label='FTPL')\n",
        "plt.plot(download_LRU,'green',label='LRU')\n",
        "plt.plot(download_LFU,'blue',label='LFU')\n",
        "plt.plot(download_LSTM,'red',label='LSTM')\n",
        "plt.plot(download_mrk,'yellow',label='Marker')\n",
        "plt.xlabel('T')\n",
        "plt.ylabel('New downloads/T')\n",
        "plt.legend()\n",
        "plt.savefig('download-rate(I=5 J=3 d=3).png')"
      ],
      "execution_count": 29,
      "outputs": [
        {
          "output_type": "display_data",
          "data": {
            "image/png": "[encoded data removed]",
            "text/plain": [
              "<Figure size 432x288 with 1 Axes>"
            ]
          },
          "metadata": {
            "tags": [],
            "needs_background": "light"
          }
        }
      ]
    },
    {
      "cell_type": "markdown",
      "metadata": {
        "id": "BdHsz8OLbfRt",
        "colab_type": "text"
      },
      "source": [
        "I = 15 J = 10 d = 7"
      ]
    },
    {
      "cell_type": "code",
      "metadata": {
        "id": "2k2iUESfYkec",
        "colab_type": "code",
        "colab": {}
      },
      "source": [
        "I = 10\n",
        "J = 4\n",
        "C = 10\n",
        "degree = 3\n",
        "T = 50000"
      ],
      "execution_count": 41,
      "outputs": []
    },
    {
      "cell_type": "code",
      "metadata": {
        "id": "P6LK3SH5cVIs",
        "colab_type": "code",
        "colab": {
          "base_uri": "https://localhost:8080/",
          "height": 185
        },
        "outputId": "d78230e1-6730-456e-8ed3-caf24273905f"
      },
      "source": [
        "connection = np.zeros((I,J),dtype = int)\n",
        "i = 0\n",
        "for j in range(J):\n",
        "  x = 0\n",
        "  while x < degree:\n",
        "    connection[i,j] = 1\n",
        "    x += 1\n",
        "    i += 1\n",
        "    if i == I:\n",
        "      i = 0\n",
        "connection"
      ],
      "execution_count": 42,
      "outputs": [
        {
          "output_type": "execute_result",
          "data": {
            "text/plain": [
              "array([[1, 0, 0, 1],\n",
              "       [1, 0, 0, 1],\n",
              "       [1, 0, 0, 0],\n",
              "       [0, 1, 0, 0],\n",
              "       [0, 1, 0, 0],\n",
              "       [0, 1, 0, 0],\n",
              "       [0, 0, 1, 0],\n",
              "       [0, 0, 1, 0],\n",
              "       [0, 0, 1, 0],\n",
              "       [0, 0, 0, 1]])"
            ]
          },
          "metadata": {
            "tags": []
          },
          "execution_count": 42
        }
      ]
    },
    {
      "cell_type": "code",
      "metadata": {
        "id": "fHrvasV4Xl3O",
        "colab_type": "code",
        "colab": {}
      },
      "source": [
        "gen_req1 = np.load('/content/drive/My Drive/gen_req.npy')\n",
        "req1 = np.load('/content/drive/My Drive/req.npy')\n",
        "req1 = req1[20000:]\n",
        "gen_req1 = gen_req1[20000:]"
      ],
      "execution_count": 43,
      "outputs": []
    },
    {
      "cell_type": "code",
      "metadata": {
        "id": "bxgJO20wXaAR",
        "colab_type": "code",
        "colab": {
          "base_uri": "https://localhost:8080/",
          "height": 34
        },
        "outputId": "ea337048-abe2-4957-a4d3-9a6d3587fe2a"
      },
      "source": [
        "req = req1.reshape(I,-1)\n",
        "req.shape"
      ],
      "execution_count": 44,
      "outputs": [
        {
          "output_type": "execute_result",
          "data": {
            "text/plain": [
              "(10, 198500)"
            ]
          },
          "metadata": {
            "tags": []
          },
          "execution_count": 44
        }
      ]
    },
    {
      "cell_type": "code",
      "metadata": {
        "id": "-JCKP3hMXiq-",
        "colab_type": "code",
        "colab": {
          "base_uri": "https://localhost:8080/",
          "height": 34
        },
        "outputId": "9f2fcea7-d460-4b97-b558-b943449f1918"
      },
      "source": [
        "gen_req = gen_req1.reshape(I,-1)\n",
        "gen_req.shape"
      ],
      "execution_count": 45,
      "outputs": [
        {
          "output_type": "execute_result",
          "data": {
            "text/plain": [
              "(10, 223500)"
            ]
          },
          "metadata": {
            "tags": []
          },
          "execution_count": 45
        }
      ]
    },
    {
      "cell_type": "code",
      "metadata": {
        "id": "Oke-J6xqgp0l",
        "colab_type": "code",
        "colab": {
          "base_uri": "https://localhost:8080/",
          "height": 877
        },
        "outputId": "84a10a2e-d91d-4068-8433-840df505fde8"
      },
      "source": [
        "y_LRU = np.zeros((J,N),dtype = int)\n",
        "y_LFU = np.zeros((J,N),dtype = int)\n",
        "y_FTPL = np.zeros((J,N),dtype = int)\n",
        "y_LSTM = np.zeros((J,N),dtype = int)\n",
        "y_mrk = np.zeros((J,N),dtype = int)\n",
        "y_mrk[:,:C] = np.ones((J,C),dtype = int)\n",
        "y_LSTM[:,:C] = np.ones((J,C),dtype = int)\n",
        "y_FTPL[:,:C] = np.ones((J,C),dtype = int)\n",
        "y_LRU[:,:C] = np.ones((J,C),dtype = int)\n",
        "y_LFU[:,:C] = np.ones((J,C),dtype = int)\n",
        "count = np.zeros((N,I),dtype = int)\n",
        "reward_LSTM =  np.zeros((T),int)\n",
        "reward_FTPL =  np.zeros((T),int)\n",
        "reward_LRU =  np.zeros((T),int)\n",
        "reward_LFU =  np.zeros((T),int)\n",
        "reward_mrk =  np.zeros((T),int)\n",
        "hits_mrk =  []\n",
        "hits_FTPL =  []\n",
        "hits_LRU =  []\n",
        "hits_LFU =  []\n",
        "hits_LSTM = []\n",
        "download_FTPL =  []\n",
        "download_LRU =  []\n",
        "download_LFU =  []\n",
        "download_LSTM = []\n",
        "download_mrk = []\n",
        "mrk_downloads_slotwise = np.zeros((T),int)\n",
        "FTPL_downloads_slotwise = np.zeros((T),int)\n",
        "LFU_downloads_slotwise = np.zeros((T),int)\n",
        "LRU_downloads_slotwise = np.zeros((T),int)\n",
        "LSTM_downloads_slotwise = np.zeros((T),int)\n",
        "req_time = np.zeros((N,I),dtype = int) \n",
        "req_time1 = np.zeros((N,I),dtype = int) \n",
        "bit = np.zeros((J,N),int)\n",
        "phase = np.zeros((J,N),int)\n",
        "for t in range(T):\n",
        "  x_t1 = np.zeros((N,I),dtype = int)\n",
        "  x_t = np.zeros((N,I),dtype = int)\n",
        "  for i in range(I):\n",
        "    x_t[req[i,t],i] += 1\n",
        "    x_t1[gen_req[i,t],i] += 1\n",
        "    count[int(req[i,t]),i] += 1\n",
        "    req_time[int(req[i,t]),i] = t+1\n",
        "    req_time1[int(gen_req[i,t]),i] = t+1\n",
        "  \n",
        "  ireward_LRU =  np.zeros((I),int)\n",
        "  ireward_LSTM =  np.zeros((I),int)\n",
        "  ireward_LFU =  np.zeros((I),int)\n",
        "  ireward_FTPL =  np.zeros((I),int)\n",
        "  ireward_mrk =  np.zeros((I),int)\n",
        "  \n",
        "  for i in range(I):\n",
        "    temp1 = np.zeros((N),int)\n",
        "    temp2 = np.zeros((N),int)\n",
        "    temp3 = np.zeros((N),int)\n",
        "    temp4 = np.zeros((N),int)\n",
        "    temp5 = np.zeros((N),int)\n",
        "\n",
        "    connected_cache = np.where(connection[i] == 1)[0]\n",
        "    for k in range(len(connected_cache)):\n",
        "      temp1 += y_FTPL[connected_cache[k],:]\n",
        "      temp2 += y_LFU[connected_cache[k],:]\n",
        "      temp3 += y_LRU[connected_cache[k],:]\n",
        "      temp4 += y_LSTM[connected_cache[k],:]\n",
        "      temp5 += y_mrk[connected_cache[k],:]\n",
        "    ireward_FTPL[i] += np.dot(np.minimum(np.ones(N),temp1),x_t[:,i])\n",
        "    ireward_LFU[i] += np.dot(np.minimum(np.ones(N),temp2),x_t[:,i])\n",
        "    ireward_LRU[i] += np.dot(np.minimum(np.ones(N),temp3),x_t[:,i])\n",
        "    ireward_LSTM[i] += np.dot(np.minimum(np.ones(N),temp4),x_t1[:,i])\n",
        "    ireward_mrk[i] += np.dot(np.minimum(np.ones(N),temp5),x_t[:,i])\n",
        "\n",
        "  reward_FTPL[t] =  np.sum(ireward_FTPL)\n",
        "  reward_LRU[t] =  np.sum(ireward_LRU)\n",
        "  reward_LFU[t] =  np.sum(ireward_LFU)\n",
        "  reward_LSTM[t] =  np.sum(ireward_LSTM)\n",
        "  reward_mrk[t] =  np.sum(ireward_mrk)\n",
        "  reward_mrkc = np.sum(reward_mrk)\n",
        "  reward_LSTMc = np.sum(reward_LSTM)\n",
        "  reward_FTPLc = np.sum(reward_FTPL)\n",
        "  reward_LRUc = np.sum(reward_LRU)\n",
        "  reward_LFUc = np.sum(reward_LFU)\n",
        "\n",
        "  [y_LFU,LFU_downloads_slotwise[t]] = LFU(y_LFU,x_t,count,connection)\n",
        "  [y_LRU,LRU_downloads_slotwise[t]] = LRU(y_LRU,x_t,req_time,connection)\n",
        "  [y_LSTM,LSTM_downloads_slotwise[t]] = LRU(y_LSTM,x_t1,req_time1,connection)\n",
        "  [y_mrk,bit,mrk_downloads_slotwise[t],phase] = Marker(y_mrk,x_t,bit,connection,phase) \n",
        "\n",
        "  eta = round(I*pow(4*pi*np.log(N*I),-.25)*pow((t+1)/(J*degree*C),.5),4)\n",
        "  perturbed_count=per_count(eta,count)\n",
        "  old_FTPL = y_FTPL.reshape(J*N).copy()\n",
        "  [y_FTPL,Z] = Greedy(connection,perturbed_count) \n",
        "  new_FTPL = y_FTPL.reshape(J*N).copy()\n",
        "  FTPL_downloads_slotwise[t] = (np.sum(np.logical_and(new_FTPL,np.logical_not(old_FTPL))))\n",
        "\n",
        "  download_mrk.append(np.sum(mrk_downloads_slotwise)/(t+1))\n",
        "  download_FTPL.append(np.sum(FTPL_downloads_slotwise)/(t+1))\n",
        "  download_LFU.append(np.sum(LFU_downloads_slotwise)/(t+1))\n",
        "  download_LRU.append(np.sum(LRU_downloads_slotwise)/(t+1))\n",
        "  download_LSTM.append(np.sum(LSTM_downloads_slotwise)/(t+1))\n",
        "  hits_mrk.append(reward_mrkc/(t+1))\n",
        "  hits_LRU.append(reward_LRUc/(t+1))\n",
        "  hits_LFU.append(reward_LFUc/(t+1))\n",
        "  hits_FTPL.append(reward_FTPLc/(t+1))\n",
        "  hits_LSTM.append(reward_LSTMc/(t+1))\n",
        "\n",
        "  if t %1000 == 0:\n",
        "    print(t,download_mrk[t],download_FTPL[t],download_LFU[t],download_LRU[t],download_LSTM[t],hits_mrk[t],hits_FTPL[t],hits_LFU[t],hits_LRU[t],hits_LSTM[t])"
      ],
      "execution_count": 46,
      "outputs": [
        {
          "output_type": "stream",
          "text": [
            "0 12.0 37.0 12.0 12.0 12.0 0.0 0.0 0.0 0.0 0.0\n",
            "1000 0.10589410589410589 34.08191808191808 10.552447552447552 10.708291708291709 9.764235764235764 1.2157842157842158 1.2877122877122877 1.2277722277722278 1.066933066933067 1.864135864135864\n",
            "2000 0.05297351324337831 33.44777611194403 10.498750624687656 10.668665667166417 9.734132933533234 1.2188905547226387 1.3098450774612693 1.2648675662168916 1.091454272863568 1.8610694652673663\n",
            "3000 0.03532155948017328 33.045651449516825 10.509496834388537 10.677440853048983 9.712762412529157 1.1952682439186937 1.3138953682105965 1.2529156947684106 1.0813062312562478 1.869710096634455\n",
            "4000 0.02649337665583604 32.68557860534866 10.514121469632592 10.689077730567359 9.628342914271432 1.1834541364658835 1.321669582604349 1.2434391402149463 1.068732816795801 1.9275181204698826\n",
            "5000 0.021195760847830435 32.34573085382923 10.495300939812038 10.683063387322536 9.593081383723256 1.1819636072785442 1.3339332133573285 1.255348930213957 1.0745850829834034 1.9528094381123775\n",
            "6000 0.017663722712881188 32.00616563906016 10.478753541076488 10.67822029661723 9.59690051658057 1.1826362272954507 1.340609898350275 1.260123312781203 1.0779870021663056 1.9480086652224629\n",
            "7000 0.01514069418654478 31.653620911298386 10.466361948293102 10.676617626053421 9.608055992001143 1.1731181259820025 1.3543779460077132 1.266247678903014 1.0752749607198973 1.9428653049564348\n",
            "8000 0.013248343957005373 31.305711786026748 10.453068366454193 10.670791151106112 9.61042369703787 1.1726034245719286 1.3649543807024123 1.2775903012123484 1.0802399700037495 1.9407574053243344\n",
            "9000 0.011776469281190978 30.95989334518387 10.446617042550828 10.665592711920898 9.5692700811021 1.1740917675813798 1.3712920786579268 1.2800799911120986 1.08343517386957 1.9741139873347406\n",
            "10000 0.0105989401059894 30.61993800619938 10.433856614338566 10.653934606539346 9.578042195780421 1.1734826517348265 1.3813618638136187 1.2893710628937107 1.0943905609439055 1.9685031496850316\n",
            "11000 0.009635487682937914 30.276702117989274 10.433596945732207 10.657849286428506 9.586673938732842 1.1723479683665121 1.3866012180710845 1.2859740023634214 1.0913553313335151 1.9594582310699027\n",
            "12000 0.008832597283559703 29.9715023748021 10.426047829347555 10.650945754520457 9.59111740688276 1.174985417881843 1.3958836763603033 1.2881426547787684 1.09399216731939 1.9554203816348639\n",
            "13000 0.008153218983155143 29.656718713945082 10.423736635643412 10.64433505114991 9.557034074301976 1.1723713560495346 1.3991231443735097 1.2884393508191678 1.099607722482886 1.981155295746481\n",
            "14000 0.007570887793729019 29.369473609027928 10.426040997071638 10.644811084922505 9.564173987572316 1.1728447968002285 1.4013999000071424 1.2829797871580602 1.0987786586672381 1.974644668237983\n",
            "15000 0.00706619558696087 29.10032664489034 10.425971601893208 10.643690420638624 9.57322845143657 1.1706552896473568 1.404039730684621 1.2799146723551764 1.0987934137724151 1.968868742083861\n",
            "16000 0.006624585963377289 28.839822511093057 10.423473532904193 10.644772201737391 9.576338978813824 1.1656771451784262 1.4086619586275857 1.2792950440597464 1.0979313792887944 1.9673145428410723\n",
            "17000 0.006234927357214282 28.57167225457326 10.420328215987295 10.642844538556556 9.550791129933533 1.1677548379507088 1.414387388977119 1.2799835303805658 1.1003470384095053 1.989118287159579\n",
            "18000 0.005888561746569635 28.31376034664741 10.41736570190545 10.640964390867174 9.556524637520138 1.1666574079217822 1.418476751291595 1.2809843897561246 1.102272095994667 1.9840008888395089\n",
            "19000 0.0055786537550655225 28.0623125098679 10.414346613336141 10.640387348034315 9.566970159465292 1.1636755960212621 1.4188200621019946 1.2815641282037789 1.1040997842218832 1.9773696121256776\n",
            "20000 0.005299735013249337 27.834658267086645 10.414629268536574 10.63966801659917 9.572021398930053 1.1640417979101045 1.4197790110494475 1.2810859457027148 1.1052947352632367 1.9730013499325034\n",
            "21000 0.005047378696252559 27.610685205466407 10.413980286653016 10.640779010523309 9.554354554545021 1.1637064901671348 1.4247892957478214 1.2807485357840103 1.1052807009190038 1.987714870720442\n",
            "22000 0.004817962819871824 27.38684605245216 10.4150720421799 10.642152629425935 9.552565792463978 1.1633107586018818 1.428844143448025 1.279396391073133 1.1049497750102268 1.9894095722921685\n",
            "23000 0.00460849528281379 27.16225381505152 10.41541672101213 10.642711186470153 9.55714968914395 1.1657319246989262 1.4312855962784228 1.278335724533716 1.1050823877222729 1.9860006086691884\n",
            "24000 0.004416482646556394 26.94529394608558 10.414816049331279 10.644306487229699 9.560851631182034 1.164784800633307 1.43156535144369 1.2783634015249365 1.1039540019165868 1.9838340069163785\n",
            "25000 0.004239830406783728 26.735850565977362 10.415903363865445 10.646214151433943 9.558097676092956 1.1644334226630935 1.434542618295268 1.2763089476420943 1.1023959041638334 1.985680572777089\n",
            "26000 0.004076766278220068 26.52894119456944 10.415637860082304 10.646667435867851 9.548478904657513 1.164032152609515 1.437290873427945 1.2754509441944542 1.1017268566593592 1.9938848505826698\n",
            "27000 0.003925780526647161 26.335728306359023 10.418243768749306 10.649124106514574 9.552127698974113 1.1642161401429576 1.436835672752861 1.2735824599088923 1.1002185104255398 1.9908151549942594\n",
            "28000 0.003785579086461198 26.14249491089604 10.41666369058248 10.649226813328095 9.55812292418128 1.1653155244455555 1.437841505660512 1.2740616406556908 1.100389271811721 1.9860719260026427\n",
            "29000 0.0036550463777111136 25.953105065342573 10.416295989793456 10.648253508499707 9.559739319333817 1.1655460156546327 1.4386400468949347 1.273852625771525 1.1018930381710976 1.9850694803627462\n",
            "30000 0.0035332155594813507 25.78340721975934 10.41555281490617 10.647411752941569 9.549581680610647 1.1660944635178827 1.4410519649345022 1.273724209193027 1.102296590113663 1.9940335322155929\n",
            "31000 0.0034192445404986936 25.61956065933357 10.411954453082158 10.645850133866649 9.55294990484178 1.1661236734298894 1.4436953646656558 1.2758298119415503 1.1040611593174414 1.9912260894809846\n",
            "32000 0.003312396487609762 25.45436080122496 10.412080872472735 10.645792318990031 9.556076372613356 1.1661823068029125 1.4448923471141526 1.2753351457766944 1.1038092559607513 1.9889378456923221\n",
            "33000 0.003212023878064301 25.29841519953941 10.408714887427653 10.644435017120694 9.557831580861187 1.165479833944426 1.4455622556892216 1.2770522105390745 1.1038756401321173 1.986606466470713\n",
            "34000 0.0031175553660186465 25.143613423134614 10.407929178553571 10.643892826681569 9.546689803241081 1.1653774888973853 1.4470750860268815 1.2777565365724537 1.1040263521661127 1.9962059939413546\n",
            "35000 0.003028484900431416 24.99611439673152 10.4056455529842 10.643353047055799 9.549012885346134 1.1654524156452672 1.4492728779177737 1.2789063169623724 1.103997028656324 1.993914459586869\n",
            "36000 0.0029443626565928724 24.8550040276659 10.405099858337268 10.643759895558457 9.552095775117358 1.1639954445709841 1.4500152773534067 1.2791311352462431 1.103608233104636 1.9908058109496958\n",
            "37000 0.0028647874381773466 24.71371044025837 10.403448555444447 10.644387989513797 9.552822896678467 1.1650766195508229 1.4517715737412502 1.2801816167130617 1.1032674792573174 1.9900002702629658\n",
            "38000 0.002789400278940028 24.581116286413515 10.402805189337123 10.643562011526013 9.539248967132444 1.1653114391726533 1.4530143943580431 1.279966316675877 1.1039183179390015 2.001026288781874\n",
            "39000 0.0027178790287428526 24.451270480244098 10.399810261275352 10.642727109561294 9.54321684059383 1.1656111381759442 1.4546806492141227 1.2819927694161688 1.104535781133817 1.9980513320171278\n",
            "40000 0.0026499337516562088 24.32579185520362 10.401589960250993 10.64603384915377 9.547161320966977 1.1653208669783255 1.4557636059098522 1.28076798080048 1.101897452563686 1.9950251243718906\n",
            "41000 0.002585302797492744 24.202604814516718 10.399917075193288 10.646789102704812 9.550498768322724 1.166703251140216 1.4572327504207214 1.2814077705421818 1.1005829126118876 1.9921953123094558\n",
            "42000 0.002523749434537273 24.076664841313303 10.400538082426609 10.64796076283898 9.544439418109093 1.1659246208423608 1.4582033761100925 1.2809456917692437 1.1000452370181661 1.9966667460298564\n",
            "43000 0.0024650589521173927 23.956931234157345 10.400804632450408 10.64835701495314 9.542545522197159 1.1664845003604567 1.459128857468431 1.2803655728936536 1.0999976744726867 1.9979302806911468\n",
            "44000 0.0024090361582691303 23.84175359650917 10.40103634008318 10.647689825231245 9.544692166087135 1.1664962159950911 1.460421354060135 1.2803345378514124 1.1011113383786733 1.9956819163200836\n",
            "45000 0.002355503211039755 23.729694895668985 10.402635496988955 10.648718917357392 9.546654518788472 1.1652185506988733 1.460478656029866 1.279193795693429 1.1004422123952802 1.9941334637008066\n",
            "46000 0.002304297732657986 23.620312601899958 10.401556487902436 10.648551118453947 9.547335927479837 1.1647355492271907 1.4617073541879524 1.2795591400186952 1.100693463185583 1.9935436186169866\n",
            "47000 0.0022552711644433098 23.51052105274356 10.400991468266632 10.647071338907683 9.539562988021531 1.1655283930129146 1.4634369481500393 1.2797174528201527 1.1018914491181038 1.9992978872789942\n",
            "48000 0.002208287327347347 23.40555405095727 10.401679131684757 10.648319826670278 9.542467865252807 1.1657882127455679 1.463948667736089 1.2790983521176642 1.1008312326826524 1.9969167309014395\n",
            "49000 0.0021632211587518622 23.299993877675966 10.401930572845453 10.649211240586927 9.545233770739372 1.1656088651252015 1.4647456174363789 1.2783616660884471 1.100120405706006 1.994612354849901\n"
          ],
          "name": "stdout"
        }
      ]
    },
    {
      "cell_type": "code",
      "metadata": {
        "id": "2iv4C7Z09VGe",
        "colab_type": "code",
        "colab": {
          "base_uri": "https://localhost:8080/",
          "height": 279
        },
        "outputId": "fbf4f6d9-2b7a-4392-ee76-088f2cb96f56"
      },
      "source": [
        "plt.plot(hits_FTPL,'black',label='FTPL')\n",
        "plt.plot(hits_LRU,'green',label='LRU')\n",
        "plt.plot(hits_LFU,'blue',label='LFU')\n",
        "plt.plot(hits_LSTM,'red',label='LSTM')\n",
        "plt.plot(hits_mrk,'yellow',label='Marker')\n",
        "plt.xlabel('T')\n",
        "plt.ylabel('total hits')\n",
        "plt.legend()\n",
        "plt.savefig('hit-rate(I=10 J=4 d=3).png')"
      ],
      "execution_count": 49,
      "outputs": [
        {
          "output_type": "display_data",
          "data": {
            "image/png": "[encoded data removed]",
            "text/plain": [
              "<Figure size 432x288 with 1 Axes>"
            ]
          },
          "metadata": {
            "tags": [],
            "needs_background": "light"
          }
        }
      ]
    },
    {
      "cell_type": "code",
      "metadata": {
        "id": "0BUxR46t9YE8",
        "colab_type": "code",
        "colab": {
          "base_uri": "https://localhost:8080/",
          "height": 279
        },
        "outputId": "0b94f48b-2a61-4d1e-9d05-5d7e60f78378"
      },
      "source": [
        "plt.plot(download_FTPL,'black',label='FTPL')\n",
        "plt.plot(download_LRU,'green',label='LRU')\n",
        "plt.plot(download_LFU,'blue',label='LFU')\n",
        "plt.plot(download_LSTM,'red',label='LSTM')\n",
        "plt.plot(download_mrk,'yellow',label='Marker')\n",
        "plt.xlabel('T')\n",
        "plt.ylabel('new downloads')\n",
        "plt.legend()\n",
        "plt.savefig('download-rate(I=10 J=4 d=3).png')"
      ],
      "execution_count": 50,
      "outputs": [
        {
          "output_type": "display_data",
          "data": {
            "image/png": "[encoded data removed]",
            "text/plain": [
              "<Figure size 432x288 with 1 Axes>"
            ]
          },
          "metadata": {
            "tags": [],
            "needs_background": "light"
          }
        }
      ]
    },
    {
      "cell_type": "code",
      "metadata": {
        "id": "HG7zXAnwVOMW",
        "colab_type": "code",
        "colab": {}
      },
      "source": [
        ""
      ],
      "execution_count": null,
      "outputs": []
    }
  ]
}