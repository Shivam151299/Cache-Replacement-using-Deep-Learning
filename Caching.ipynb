{
  "nbformat": 4,
  "nbformat_minor": 0,
  "metadata": {
    "colab": {
      "name": "Caching ",
      "provenance": [],
      "collapsed_sections": []
    },
    "kernelspec": {
      "name": "python3",
      "display_name": "Python 3"
    }
  },
  "cells": [
    {
      "cell_type": "code",
      "metadata": {
        "id": "g6dzR9rt_krF",
        "colab_type": "code",
        "colab": {}
      },
      "source": [
        "import numpy as np\n",
        "from numpy import random\n",
        "import matplotlib.pyplot as plt\n",
        "%matplotlib inline"
      ],
      "execution_count": 106,
      "outputs": []
    },
    {
      "cell_type": "code",
      "metadata": {
        "id": "LuKLM7myyIoZ",
        "colab_type": "code",
        "colab": {
          "base_uri": "https://localhost:8080/",
          "height": 34
        },
        "outputId": "00370d66-14a4-45a8-b7f4-632bfc84095f"
      },
      "source": [
        "from google.colab import drive\n",
        "drive.mount('/content/drive')"
      ],
      "execution_count": 107,
      "outputs": [
        {
          "output_type": "stream",
          "text": [
            "Drive already mounted at /content/drive; to attempt to forcibly remount, call drive.mount(\"/content/drive\", force_remount=True).\n"
          ],
          "name": "stdout"
        }
      ]
    },
    {
      "cell_type": "code",
      "metadata": {
        "id": "SOUAMkThUS-c",
        "colab_type": "code",
        "colab": {}
      },
      "source": [
        "N = 100 # total ids \n",
        "pi = 3.14"
      ],
      "execution_count": 108,
      "outputs": []
    },
    {
      "cell_type": "markdown",
      "metadata": {
        "id": "Av1Kgt5FUF3x",
        "colab_type": "text"
      },
      "source": [
        "LRU"
      ]
    },
    {
      "cell_type": "code",
      "metadata": {
        "id": "IU2Dme6MjK66",
        "colab_type": "code",
        "colab": {}
      },
      "source": [
        "def LRU(y, x, request_time,con):\n",
        "  [N,I] = x.shape\n",
        "  J = len(y)\n",
        "  old = y.reshape(J*N).copy()\n",
        "  for j in range(J):\n",
        "    x_t_j = np.zeros((N),int)\n",
        "    file_req_time = np.zeros((N),int)\n",
        "\n",
        "    # to find which users are connected to this cache \n",
        "    connected_users = np.where(con[:,j]==1)[0]\n",
        "    for k in range(len(connected_users)):\n",
        "      x_t_j += x[:,connected_users[k]]\n",
        "      file_req_time = np.maximum(file_req_time, request_time[:,connected_users[k]])\n",
        "    x_t_j = np.minimum(np.ones(N),x_t_j)\n",
        "\n",
        "    # file which is not requested but still in the cache\n",
        "    a1 = np.transpose(np.logical_and(y[j],np.logical_not(np.logical_and(y[j],np.transpose(x_t_j)))))\n",
        "    a = np.where(a1 == 1)[0]\n",
        "    # file requested but not in the cache.\n",
        "    b1 = np.transpose(np.logical_and(np.transpose(x_t_j),np.logical_not(np.logical_and(y[j],np.transpose(x_t_j))))) \n",
        "    b = np.where(b1 == 1)[0]\n",
        "\n",
        "    if len(a)>0 and len(b)>0:\n",
        "      if len(a)>len(b):\n",
        "        t = np.zeros(len(a))\n",
        "        for k in range(len(a)):\n",
        "          t[k] = file_req_time[a[k]]\n",
        "        replace = (t).argsort()[:len(b)]\n",
        "        for k in range(len(b)):\n",
        "          y[j,a[int(replace[k])]] = 0\n",
        "        for k in range(len(b)):\n",
        "            y[j,b[k]] = 1\n",
        "      \n",
        "      else:\n",
        "        t = np.zeros(len(b))\n",
        "        for k in range(len(b)):\n",
        "          t[k] = file_req_time[b[k]]\n",
        "        replace = (t).argsort()[:len(a)]\n",
        "        for k in range(len(a)):\n",
        "          y[j,b[int(replace[k])]] = 1\n",
        "        for k in range(len(a)):\n",
        "          y[j,a[k]] = 0\n",
        "  new = y.reshape(J*N)\n",
        "  download = np.sum(np.logical_and(new,np.logical_not(old)))\n",
        "  return y,download"
      ],
      "execution_count": 109,
      "outputs": []
    },
    {
      "cell_type": "markdown",
      "metadata": {
        "id": "rlnncX3lUi-6",
        "colab_type": "text"
      },
      "source": [
        "LFU"
      ]
    },
    {
      "cell_type": "code",
      "metadata": {
        "id": "rZKodE159k31",
        "colab_type": "code",
        "colab": {}
      },
      "source": [
        "def LFU(y,x,freq,con):\n",
        "  [N,I] = x.shape\n",
        "  J = len(y)\n",
        "  old = y.reshape(J*N).copy()\n",
        "  for j in range(J):\n",
        "    file_freq = np.zeros((N),int)\n",
        "    x_t_j = np.zeros((N),int)\n",
        "\n",
        "    # to find which users are connected to this cache \n",
        "    connected_users = np.where(con[:,j]==1)[0]\n",
        "    for k in range(len(connected_users)):\n",
        "      x_t_j += x[:,connected_users[k]]\n",
        "      file_freq += freq[:,connected_users[k]]\n",
        "    x_t_j = np.minimum(np.ones(N),x_t_j)\n",
        "\n",
        "    # file which is not requested but still in the cache\n",
        "    a1 = np.transpose(np.logical_and(y[j],np.logical_not(np.logical_and(y[j],np.transpose(x_t_j)))))\n",
        "    a = np.where(a1 == 1)[0]\n",
        "    # file requested but not in the cache.\n",
        "    b1 = np.transpose(np.logical_and(np.transpose(x_t_j),np.logical_not(np.logical_and(y[j],np.transpose(x_t_j))))) \n",
        "    b = np.where(b1 == 1)[0]\n",
        "\n",
        "    if len(a)>0 and len(b)>0:\n",
        "      if len(a)>len(b):\n",
        "        t = np.zeros(len(a))\n",
        "        for k in range(len(a)):\n",
        "          t[k] = file_freq[a[k]]\n",
        "        replace = (t).argsort()[:len(b)]\n",
        "        for k in range(len(b)):\n",
        "          y[j,a[int(replace[k])]] = 0\n",
        "        for k in range(len(b)):\n",
        "            y[j,b[k]] = 1\n",
        "      \n",
        "      else:\n",
        "        t = np.zeros(len(b))\n",
        "        for k in range(len(b)):\n",
        "          t[k] = file_freq[b[k]]\n",
        "        replace = (t).argsort()[:len(a)]\n",
        "        for k in range(len(a)):\n",
        "          y[j,b[int(replace[k])]] = 1\n",
        "        for k in range(len(a)):\n",
        "          y[j,a[k]] = 0\n",
        "  new = y.reshape(J*N)\n",
        "  download = np.sum(np.logical_and(new,np.logical_not(old)))\n",
        "  return y,download"
      ],
      "execution_count": 110,
      "outputs": []
    },
    {
      "cell_type": "markdown",
      "metadata": {
        "id": "NxQfsTnXWQyP",
        "colab_type": "text"
      },
      "source": [
        "perturbed count"
      ]
    },
    {
      "cell_type": "code",
      "metadata": {
        "id": "V4d6vCcjWOP7",
        "colab_type": "code",
        "colab": {}
      },
      "source": [
        "def per_count(eta,count,normal_dist):\n",
        "  [N,I] = count.shape\n",
        "  p_count = np.zeros((N,I),dtype = 'f4')\n",
        "  for i in range(I):\n",
        "    p_count[:,i] = count[:,i] + np.round(np.multiply(eta, normal_dist[:,i]).reshape(N),4)\n",
        "  return p_count"
      ],
      "execution_count": 111,
      "outputs": []
    },
    {
      "cell_type": "markdown",
      "metadata": {
        "id": "WIbLBZBYswP8",
        "colab_type": "text"
      },
      "source": [
        "GREEDY"
      ]
    },
    {
      "cell_type": "code",
      "metadata": {
        "id": "plLnprjKsv75",
        "colab_type": "code",
        "colab": {}
      },
      "source": [
        "def Greedy(con,count):\n",
        "  [I,J] = con.shape\n",
        "  [N,I] = count.shape\n",
        "  load = np.zeros((1,J),dtype = int)\n",
        "\n",
        "  for i in range(I):\n",
        "    for f in range(N):\n",
        "      if count[f,i] < 0:\n",
        "        count[f,i] = 0\n",
        "  \n",
        "  loadc = 0\n",
        "  y = np.zeros((J,N),dtype = int)\n",
        "  z = np.zeros((I,N),dtype = 'f4')\n",
        "  mark = np.zeros((I,N),dtype = int)\n",
        "\n",
        "  while(loadc < J):\n",
        "    best_cache = -1\n",
        "    best_file = -1\n",
        "    best_imp = -1\n",
        "\n",
        "    for j in range(J):\n",
        "      if load[0,j] < C:\n",
        "        for f in range(N):\n",
        "          if y[j,f] != 1:\n",
        "            imp = 0\n",
        "\n",
        "            for i in range(I):\n",
        "              if con[i,j] == 1 and mark[i,f] == 0:\n",
        "                imp += count[f,i]\n",
        "\n",
        "            if imp >= best_imp:\n",
        "              best_cache = j\n",
        "              best_file = f\n",
        "              best_imp = imp\n",
        "\n",
        "    y[best_cache,best_file] = 1\n",
        "\n",
        "    for i in range(I):\n",
        "      if con[i,best_cache] == 1:\n",
        "        mark[i,best_file] = 1\n",
        "\n",
        "    load[0,best_cache] += 1\n",
        "    if load[0,best_cache] == C:\n",
        "      loadc += 1\n",
        "  \n",
        "  for i in range(I):\n",
        "    for f in range(N):\n",
        "      for j in range(J):\n",
        "        if con[i,j] == 1:\n",
        "          z[i,f] = np.maximum(y[j,f],z[i,f])\n",
        "      \n",
        "  return y,z"
      ],
      "execution_count": 112,
      "outputs": []
    },
    {
      "cell_type": "markdown",
      "metadata": {
        "id": "5JQ1Hl3trE62",
        "colab_type": "text"
      },
      "source": [
        "MARKER"
      ]
    },
    {
      "cell_type": "code",
      "metadata": {
        "id": "jvtrx2ek5QqM",
        "colab_type": "code",
        "colab": {}
      },
      "source": [
        "def Marker(y,x,bit,con,phase):\n",
        "  [N,I] = x.shape\n",
        "  J = len(y)\n",
        "  old = y.reshape(J*N).copy()\n",
        "  \n",
        "  for j in range(J):\n",
        "    x_t_j = np.zeros((N),int)\n",
        "    connected_users = np.where(con[:,j]==1)[0]\n",
        "    for k in range(len(connected_users)):\n",
        "      x_t_j += x[:,connected_users[k]]\n",
        "    x_t_j = np.minimum(np.ones((N),int),x_t_j)\n",
        "\n",
        "    phase[j,:] += x_t_j  \n",
        "    phase[j] = np.minimum(np.ones((N),int),phase[j]) \n",
        "    # new phase\n",
        "    if np.sum(phase[j]) >= C:\n",
        "      bit[j,:] = np.zeros((1,N),int) #start new phase\n",
        "      phase[j,:] = np.zeros((1,N),int)\n",
        "      \n",
        "    # file which is not requested but still in the cache\n",
        "    a1 = np.transpose(np.logical_and(y[j],np.logical_not(np.logical_and(y[j],np.transpose(x_t_j)))))\n",
        "    a = np.where(a1 == 1)[0]\n",
        "    # file requested but not in the cache.\n",
        "    b1 = np.transpose(np.logical_and(np.transpose(x_t_j),np.logical_not(np.logical_and(y[j],np.transpose(x_t_j))))) \n",
        "    b = np.where(b1 == 1)[0]\n",
        "    # file requested available in cache\n",
        "    c1 = np.logical_and(y[j],x_t_j.reshape(1,N)).reshape(N)\n",
        "    c = np.where(c1 == 1)[0]\n",
        "    \n",
        "    # if requested file is available then bit is set for that file\n",
        "    for i in range(len(c)):\n",
        "      bit[j,c[i]] = 1 \n",
        "    \n",
        "    # now replace add all b1 files in cache and evict randomly untill end of the face.\n",
        "    for i in range(len(b)):\n",
        "      for n in range(N):\n",
        "        if np.logical_and(y[j,n],np.logical_not(bit[j,n])) == 1:\n",
        "          y[j,n] = 0\n",
        "          bit[j,n] = 1\n",
        "          break\n",
        "    for i in range(len(b)):\n",
        "      y[j,b[i]] = 1\n",
        "              \n",
        "  new = y.reshape(J*N).copy()\n",
        "  download = np.sum(np.logical_and(new,np.logical_not(old)))\n",
        "  return y,bit,download,phase"
      ],
      "execution_count": 113,
      "outputs": []
    },
    {
      "cell_type": "markdown",
      "metadata": {
        "id": "8RkOlMhDjohA",
        "colab_type": "text"
      },
      "source": [
        "SINGLE CACHE"
      ]
    },
    {
      "cell_type": "code",
      "metadata": {
        "id": "dUQqUmlZnurN",
        "colab_type": "code",
        "colab": {}
      },
      "source": [
        "gen_req1 = np.load('/content/drive/My Drive/gen_req.npy')\n",
        "req1 = np.load('/content/drive/My Drive/req.npy')"
      ],
      "execution_count": 114,
      "outputs": []
    },
    {
      "cell_type": "code",
      "metadata": {
        "id": "ZyC3_Jwrjn5s",
        "colab_type": "code",
        "colab": {
          "base_uri": "https://localhost:8080/",
          "height": 34
        },
        "outputId": "a7db2a96-74b9-4637-e3a6-b2e9b219ddf1"
      },
      "source": [
        "I = 1 #users\n",
        "T = 100000\n",
        "degree = 1\n",
        "J = 1 #caches\n",
        "C = 5\n",
        "connection = np.array([[1]])\n",
        "connection.shape"
      ],
      "execution_count": 115,
      "outputs": [
        {
          "output_type": "execute_result",
          "data": {
            "text/plain": [
              "(1, 1)"
            ]
          },
          "metadata": {
            "tags": []
          },
          "execution_count": 115
        }
      ]
    },
    {
      "cell_type": "code",
      "metadata": {
        "id": "4Xqi6iqtfnhE",
        "colab_type": "code",
        "colab": {
          "base_uri": "https://localhost:8080/",
          "height": 34
        },
        "outputId": "b4225557-5bc5-4b6b-81f7-50a18ef982fd"
      },
      "source": [
        "req = req1[:I*T].reshape(I,T)\n",
        "req"
      ],
      "execution_count": 116,
      "outputs": [
        {
          "output_type": "execute_result",
          "data": {
            "text/plain": [
              "array([[17, 80, 26, ..., 69, 34, 83]])"
            ]
          },
          "metadata": {
            "tags": []
          },
          "execution_count": 116
        }
      ]
    },
    {
      "cell_type": "code",
      "metadata": {
        "id": "7NQUPQz7JvtR",
        "colab_type": "code",
        "colab": {
          "base_uri": "https://localhost:8080/",
          "height": 34
        },
        "outputId": "1ae25027-9a25-419f-fc15-7a7792391555"
      },
      "source": [
        "gen_req = gen_req1[:I*T].reshape(I,T)\n",
        "gen_req"
      ],
      "execution_count": 117,
      "outputs": [
        {
          "output_type": "execute_result",
          "data": {
            "text/plain": [
              "array([[17, 80, 26, ..., 64, 79, 87]])"
            ]
          },
          "metadata": {
            "tags": []
          },
          "execution_count": 117
        }
      ]
    },
    {
      "cell_type": "code",
      "metadata": {
        "id": "pWowJlSAki2e",
        "colab_type": "code",
        "colab": {
          "base_uri": "https://localhost:8080/",
          "height": 205
        },
        "outputId": "bebb7e23-cb5f-47e2-dc62-4aebaf1b02b1"
      },
      "source": [
        "y_LRU = np.zeros((J,N),dtype = int)\n",
        "y_LFU = np.zeros((J,N),dtype = int)\n",
        "y_FTPL = np.zeros((J,N),dtype = int)\n",
        "y_LSTM = np.zeros((J,N),dtype = int)\n",
        "y_mrk = np.zeros((J,N),dtype = int)\n",
        "y_mrk[:,:C] = np.ones((J,C),dtype = int)\n",
        "y_LSTM[:,:C] = np.ones((J,C),dtype = int)\n",
        "y_FTPL[:,:C] = np.ones((J,C),dtype = int)\n",
        "y_LRU[:,:C] = np.ones((J,C),dtype = int)\n",
        "y_LFU[:,:C] = np.ones((J,C),dtype = int)\n",
        "count = np.zeros((N,I),dtype = int)\n",
        "reward_LSTM =  np.zeros((T),int)\n",
        "reward_FTPL =  np.zeros((T),int)\n",
        "reward_LRU =  np.zeros((T),int)\n",
        "reward_LFU =  np.zeros((T),int)\n",
        "reward_mrk =  np.zeros((T),int)\n",
        "hits_mrk =  []\n",
        "hits_FTPL =  []\n",
        "hits_LRU =  []\n",
        "hits_LFU =  []\n",
        "hits_LSTM = []\n",
        "download_FTPL =  []\n",
        "download_LRU =  []\n",
        "download_LFU =  []\n",
        "download_LSTM = []\n",
        "download_mrk = []\n",
        "mrk_downloads_slotwise = np.zeros((T),int)\n",
        "FTPL_downloads_slotwise = np.zeros((T),int)\n",
        "LFU_downloads_slotwise = np.zeros((T),int)\n",
        "LRU_downloads_slotwise = np.zeros((T),int)\n",
        "LSTM_downloads_slotwise = np.zeros((T),int)\n",
        "req_time = np.zeros((N,I),dtype = int) \n",
        "req_time1 = np.zeros((N,I),dtype = int) \n",
        "bit = np.zeros((J,N),int)\n",
        "phase = np.zeros((J,N),int)\n",
        "normal = random.normal(0,1,[N,I])\n",
        "\n",
        "for t in range(T):\n",
        "  x_t1 = np.zeros((N,I),dtype = int)\n",
        "  x_t = np.zeros((N,I),dtype = int)\n",
        "  for i in range(I):\n",
        "    x_t[req[i,t],i] += 1\n",
        "    x_t1[gen_req[i,t],i] += 1\n",
        "    count[int(req[i,t]),i] += 1\n",
        "    req_time[int(req[i,t]),i] = t+1\n",
        "    req_time1[int(gen_req[i,t]),i] = t+1\n",
        "  \n",
        "  ireward_LRU =  np.zeros((I),int)\n",
        "  ireward_LSTM =  np.zeros((I),int)\n",
        "  ireward_LFU =  np.zeros((I),int)\n",
        "  ireward_FTPL =  np.zeros((I),int)\n",
        "  ireward_mrk =  np.zeros((I),int)\n",
        "  \n",
        "  for i in range(I):\n",
        "    temp1 = np.zeros((N),int)\n",
        "    temp2 = np.zeros((N),int)\n",
        "    temp3 = np.zeros((N),int)\n",
        "    temp4 = np.zeros((N),int)\n",
        "    temp5 = np.zeros((N),int)\n",
        "\n",
        "    connected_cache = np.where(connection[i] == 1)[0]\n",
        "    for k in range(len(connected_cache)):\n",
        "      temp1 += y_FTPL[connected_cache[k],:]\n",
        "      temp2 += y_LFU[connected_cache[k],:]\n",
        "      temp3 += y_LRU[connected_cache[k],:]\n",
        "      temp4 += y_LSTM[connected_cache[k],:]\n",
        "      temp5 += y_mrk[connected_cache[k],:]\n",
        "    ireward_FTPL[i] += np.dot(np.minimum(np.ones(N),temp1),x_t[:,i])\n",
        "    ireward_LFU[i] += np.dot(np.minimum(np.ones(N),temp2),x_t[:,i])\n",
        "    ireward_LRU[i] += np.dot(np.minimum(np.ones(N),temp3),x_t[:,i])\n",
        "    ireward_LSTM[i] += np.dot(np.minimum(np.ones(N),temp4),x_t1[:,i])\n",
        "    ireward_mrk[i] += np.dot(np.minimum(np.ones(N),temp5),x_t[:,i])\n",
        "\n",
        "\n",
        "  reward_FTPL[t] =  np.sum(ireward_FTPL)\n",
        "  reward_LRU[t] =  np.sum(ireward_LRU)\n",
        "  reward_LFU[t] =  np.sum(ireward_LFU)\n",
        "  reward_LSTM[t] =  np.sum(ireward_LSTM)\n",
        "  reward_mrk[t] =  np.sum(ireward_mrk)\n",
        "  reward_mrkc = np.sum(reward_mrk)\n",
        "  reward_LSTMc = np.sum(reward_LSTM)\n",
        "  reward_FTPLc = np.sum(reward_FTPL)\n",
        "  reward_LRUc = np.sum(reward_LRU)\n",
        "  reward_LFUc = np.sum(reward_LFU)\n",
        "\n",
        "  y_LFU, LFU_downloads_slotwise[t] = LFU(y_LFU,x_t,count,connection)\n",
        "  y_LRU, LRU_downloads_slotwise[t] = LRU(y_LRU,x_t,req_time,connection)\n",
        "  y_LSTM, LSTM_downloads_slotwise[t] = LRU(y_LSTM,x_t1,req_time1,connection)\n",
        "  y_mrk, bit, mrk_downloads_slotwise[t], phase = Marker(y_mrk,x_t,bit,connection,phase) \n",
        "  eta = round(pow(I,0.75)*pow(2*(np.log(N/C)+1),0.25)*pow((t+1)/(J*degree*C),.5),4)\n",
        "  perturbed_count=per_count(eta,count,normal)\n",
        "  old_FTPL = y_FTPL.reshape(J*N)\n",
        "  add = (-perturbed_count[:,0]).argsort()[:C]\n",
        "  y_FTPL = np.zeros((J,N),dtype = int)\n",
        "  for k in range(len(add)):\n",
        "    y_FTPL[0,int(add[k])] = 1 \n",
        "  new_FTPL = y_FTPL.reshape(J*N)\n",
        "  FTPL_downloads_slotwise[t] = (np.sum(np.logical_and(new_FTPL,np.logical_not(old_FTPL))))\n",
        " \n",
        "  download_mrk.append(np.sum(mrk_downloads_slotwise)/(t+1))\n",
        "  download_FTPL.append(np.sum(FTPL_downloads_slotwise)/(t+1))\n",
        "  download_LFU.append(np.sum(LFU_downloads_slotwise)/(t+1))\n",
        "  download_LRU.append(np.sum(LRU_downloads_slotwise)/(t+1))\n",
        "  download_LSTM.append(np.sum(LSTM_downloads_slotwise)/(t+1))\n",
        "  hits_mrk.append(reward_mrkc/(t+1))\n",
        "  hits_LRU.append(reward_LRUc/(t+1))\n",
        "  hits_LFU.append(reward_LFUc/(t+1))\n",
        "  hits_FTPL.append(reward_FTPLc/(t+1))\n",
        "  hits_LSTM.append(reward_LSTMc/(t+1))\n",
        "  if t %10000 == 0:\n",
        "    print(t,download_mrk[t],download_FTPL[t],download_LFU[t],download_LRU[t],download_LSTM[t],hits_mrk[t],hits_FTPL[t],hits_LFU[t],hits_LRU[t],hits_LSTM[t])"
      ],
      "execution_count": 118,
      "outputs": [
        {
          "output_type": "stream",
          "text": [
            "0 1.0 3.0 1.0 1.0 1.0 0.0 0.0 0.0 0.0 0.0\n",
            "10000 0.9521047895210479 0.0017998200179982 0.9396060393960604 0.9476052394760524 0.9476052394760524 0.04789521047895211 0.055194480551944806 0.0603939606039396 0.052394760523947606 0.052394760523947606\n",
            "20000 0.951502424878756 0.0015499225038748063 0.935703214839258 0.9496525173741313 0.9496525173741313 0.04849757512124394 0.055697215139243035 0.06429678516074196 0.05034748262586871 0.05034748262586871\n",
            "30000 0.9508016399453352 0.0010332988900369987 0.9342688577047432 0.9488017066097797 0.9205026499116696 0.049198360054664846 0.05639812006266458 0.06573114229525683 0.05119829339022033 0.07949735008833039\n",
            "40000 0.9503512412189695 0.0007749806254843629 0.9338516537086573 0.9479513012174695 0.9053273668158296 0.04964875878103048 0.05612359691007725 0.06614834629134271 0.052048698782530434 0.0946726331841704\n",
            "50000 0.9494210115797684 0.0006799864002719945 0.9347813043739125 0.9481210375792484 0.8962820743585128 0.0505789884202316 0.056878862422751544 0.06521869562608748 0.05187896242075159 0.10371792564148717\n",
            "60000 0.9492175130414493 0.000566657222379627 0.9345344244262596 0.9477342044299262 0.890185163580607 0.05078248695855069 0.05721571307144881 0.06546557557374044 0.05226579557007383 0.109814836419393\n",
            "70000 0.9489721575406066 0.00048570734703789944 0.9341580834559506 0.9474721789688719 0.8859587720175426 0.05102784245939344 0.057713461236268054 0.06584191654404938 0.05252782103112813 0.11404122798245739\n",
            "80000 0.9490256371795353 0.00042499468756640544 0.9341508231147111 0.9475881551480606 0.8822139723253459 0.05097436282046475 0.05817427282158973 0.06584917688528893 0.05241184485193935 0.11778602767465407\n",
            "90000 0.9493561182653526 0.0003777735802935523 0.9342896190042332 0.9482116865368163 0.8801791091210097 0.05064388173464739 0.05848823901956645 0.06571038099576672 0.051788313463183744 0.11982089087899023\n"
          ],
          "name": "stdout"
        }
      ]
    },
    {
      "cell_type": "code",
      "metadata": {
        "id": "J_3kWL_JCNjX",
        "colab_type": "code",
        "colab": {
          "base_uri": "https://localhost:8080/",
          "height": 279
        },
        "outputId": "8e7dfd0a-d5a6-42f6-f1ee-9ef62908b420"
      },
      "source": [
        "plt.plot(hits_FTPL,'black',label='FTPL')\n",
        "plt.plot(hits_LRU,'green',label='LRU')\n",
        "plt.plot(hits_LFU,'blue',label='LFU')\n",
        "plt.plot(hits_LSTM,'red',label='LSTM')\n",
        "plt.plot(hits_mrk,'yellow',label='Marker')\n",
        "plt.xlabel('T')\n",
        "plt.ylabel('Total hits/T')\n",
        "plt.legend()\n",
        "plt.savefig('hit-rate(I=J=1).png')"
      ],
      "execution_count": 119,
      "outputs": [
        {
          "output_type": "display_data",
          "data": {
            "image/png": "[encoded data removed]",
            "text/plain": [
              "<Figure size 432x288 with 1 Axes>"
            ]
          },
          "metadata": {
            "tags": [],
            "needs_background": "light"
          }
        }
      ]
    },
    {
      "cell_type": "code",
      "metadata": {
        "id": "YK-m4yZjrs3l",
        "colab_type": "code",
        "colab": {
          "base_uri": "https://localhost:8080/",
          "height": 279
        },
        "outputId": "fb2b9570-c2b0-4f88-bed5-5cf44397857a"
      },
      "source": [
        "plt.plot(download_FTPL,'black',label='FTPL')\n",
        "plt.plot(download_LRU,'green',label='LRU')\n",
        "plt.plot(download_LFU,'blue',label='LFU')\n",
        "plt.plot(download_LSTM,'red',label='LSTM')\n",
        "plt.plot(download_mrk,'yellow',label='Marker')\n",
        "plt.xlabel('T')\n",
        "plt.ylabel('New downloads/T')\n",
        "plt.legend()\n",
        "plt.savefig('download-rate(I=J=1).png')"
      ],
      "execution_count": 120,
      "outputs": [
        {
          "output_type": "display_data",
          "data": {
            "image/png": "[encoded data removed]",
            "text/plain": [
              "<Figure size 432x288 with 1 Axes>"
            ]
          },
          "metadata": {
            "tags": [],
            "needs_background": "light"
          }
        }
      ]
    },
    {
      "cell_type": "markdown",
      "metadata": {
        "id": "Fj30MgQaWN_E",
        "colab_type": "text"
      },
      "source": [
        "I = 5 J = 3 d = 3"
      ]
    },
    {
      "cell_type": "code",
      "metadata": {
        "id": "jA0Kz7jzKJ3G",
        "colab_type": "code",
        "colab": {}
      },
      "source": [
        "T = 50000\n",
        "C = 5\n",
        "I = 5\n",
        "J = 3\n",
        "degree = 3"
      ],
      "execution_count": 139,
      "outputs": []
    },
    {
      "cell_type": "code",
      "metadata": {
        "id": "fkzyLhrGKhB6",
        "colab_type": "code",
        "colab": {
          "base_uri": "https://localhost:8080/",
          "height": 101
        },
        "outputId": "ddc3f0ea-ec98-42ec-ba9c-2db8a939f366"
      },
      "source": [
        "connection = np.zeros((I,J),dtype = int)\n",
        "i = 0\n",
        "for j in range(J):\n",
        "  x = 0\n",
        "  while x < degree:\n",
        "    connection[i,j] = 1\n",
        "    x += 1\n",
        "    i += 1\n",
        "    if i == I:\n",
        "      i = 0\n",
        "connection"
      ],
      "execution_count": 140,
      "outputs": [
        {
          "output_type": "execute_result",
          "data": {
            "text/plain": [
              "array([[1, 1, 0],\n",
              "       [1, 0, 1],\n",
              "       [1, 0, 1],\n",
              "       [0, 1, 1],\n",
              "       [0, 1, 0]])"
            ]
          },
          "metadata": {
            "tags": []
          },
          "execution_count": 140
        }
      ]
    },
    {
      "cell_type": "code",
      "metadata": {
        "id": "TIjWw46mSfxG",
        "colab_type": "code",
        "colab": {}
      },
      "source": [
        "gen_req1 = np.load('/content/drive/My Drive/gen_req.npy')\n",
        "req1 = np.load('/content/drive/My Drive/req.npy')\n",
        "req = req1[20000:]\n",
        "gen_req = gen_req1[20000:]"
      ],
      "execution_count": 141,
      "outputs": []
    },
    {
      "cell_type": "code",
      "metadata": {
        "id": "DNOrEFxxThnu",
        "colab_type": "code",
        "colab": {
          "base_uri": "https://localhost:8080/",
          "height": 34
        },
        "outputId": "b0192c3f-b1da-4fa9-8415-7ad3ab465e35"
      },
      "source": [
        "req = req.reshape(I,-1)\n",
        "req.shape"
      ],
      "execution_count": 142,
      "outputs": [
        {
          "output_type": "execute_result",
          "data": {
            "text/plain": [
              "(5, 397000)"
            ]
          },
          "metadata": {
            "tags": []
          },
          "execution_count": 142
        }
      ]
    },
    {
      "cell_type": "code",
      "metadata": {
        "id": "DAQ_EHg8TlOp",
        "colab_type": "code",
        "colab": {
          "base_uri": "https://localhost:8080/",
          "height": 34
        },
        "outputId": "bb1a5f4b-1a48-4742-97e0-90690a2d421f"
      },
      "source": [
        "gen_req = gen_req.reshape(I,-1)\n",
        "gen_req.shape"
      ],
      "execution_count": 143,
      "outputs": [
        {
          "output_type": "execute_result",
          "data": {
            "text/plain": [
              "(5, 447000)"
            ]
          },
          "metadata": {
            "tags": []
          },
          "execution_count": 143
        }
      ]
    },
    {
      "cell_type": "code",
      "metadata": {
        "id": "sHz0D4AI8mvp",
        "colab_type": "code",
        "colab": {
          "base_uri": "https://localhost:8080/",
          "height": 101
        },
        "outputId": "b09f11e5-6557-46a3-bbe2-6f08eb4de700"
      },
      "source": [
        "req"
      ],
      "execution_count": 144,
      "outputs": [
        {
          "output_type": "execute_result",
          "data": {
            "text/plain": [
              "array([[76, 92, 49, ..., 63,  6, 83],\n",
              "       [30, 32, 18, ..., 83, 79, 30],\n",
              "       [67, 26, 42, ..., 68, 95, 61],\n",
              "       [42,  4,  1, ..., 14, 64, 79],\n",
              "       [55, 98, 27, ..., 16, 26, 14]])"
            ]
          },
          "metadata": {
            "tags": []
          },
          "execution_count": 144
        }
      ]
    },
    {
      "cell_type": "code",
      "metadata": {
        "id": "CT3JL5P38mnF",
        "colab_type": "code",
        "colab": {
          "base_uri": "https://localhost:8080/",
          "height": 101
        },
        "outputId": "b9453de4-5a3e-48f2-9774-3fb5faf539c1"
      },
      "source": [
        "gen_req"
      ],
      "execution_count": 145,
      "outputs": [
        {
          "output_type": "execute_result",
          "data": {
            "text/plain": [
              "array([[64, 15, 95, ..., 15, 41, 77],\n",
              "       [49,  8,  3, ..., 15, 41, 77],\n",
              "       [33, 56, 51, ..., 15, 41, 77],\n",
              "       [27, 78, 64, ..., 41, 15, 77],\n",
              "       [64, 92, 46, ..., 15, 41, 77]])"
            ]
          },
          "metadata": {
            "tags": []
          },
          "execution_count": 145
        }
      ]
    },
    {
      "cell_type": "code",
      "metadata": {
        "id": "CPNyGf1grTOl",
        "colab_type": "code",
        "colab": {
          "base_uri": "https://localhost:8080/",
          "height": 877
        },
        "outputId": "e929db7d-d8f6-4d94-db3a-01925b97293d"
      },
      "source": [
        "y_LRU = np.zeros((J,N),dtype = int)\n",
        "y_LFU = np.zeros((J,N),dtype = int)\n",
        "y_FTPL = np.zeros((J,N),dtype = int)\n",
        "y_LSTM = np.zeros((J,N),dtype = int)\n",
        "y_mrk = np.zeros((J,N),dtype = int)\n",
        "y_mrk[:,:C] = np.ones((J,C),dtype = int)\n",
        "y_LSTM[:,:C] = np.ones((J,C),dtype = int)\n",
        "y_FTPL[:,:C] = np.ones((J,C),dtype = int)\n",
        "y_LRU[:,:C] = np.ones((J,C),dtype = int)\n",
        "y_LFU[:,:C] = np.ones((J,C),dtype = int)\n",
        "count = np.zeros((N,I),dtype = int)\n",
        "reward_LSTM =  np.zeros((T),int)\n",
        "reward_FTPL =  np.zeros((T),int)\n",
        "reward_LRU =  np.zeros((T),int)\n",
        "reward_LFU =  np.zeros((T),int)\n",
        "reward_mrk =  np.zeros((T),int)\n",
        "hits_mrk =  []\n",
        "hits_FTPL =  []\n",
        "hits_LRU =  []\n",
        "hits_LFU =  []\n",
        "hits_LSTM = []\n",
        "download_FTPL =  []\n",
        "download_LRU =  []\n",
        "download_LFU =  []\n",
        "download_LSTM = []\n",
        "download_mrk = []\n",
        "mrk_downloads_slotwise = np.zeros((T),int)\n",
        "FTPL_downloads_slotwise = np.zeros((T),int)\n",
        "LFU_downloads_slotwise = np.zeros((T),int)\n",
        "LRU_downloads_slotwise = np.zeros((T),int)\n",
        "LSTM_downloads_slotwise = np.zeros((T),int)\n",
        "req_time = np.zeros((N,I),dtype = int) \n",
        "req_time1 = np.zeros((N,I),dtype = int) \n",
        "bit = np.zeros((J,N),int)\n",
        "phase = np.zeros((J,N),int)\n",
        "normal = random.normal(0,1,[N,I])\n",
        "\n",
        "for t in range(T):\n",
        "  x_t = np.zeros((N,I),dtype = int)\n",
        "  x_t1 = np.zeros((N,I),dtype = int)\n",
        "  for i in range(I):\n",
        "    x_t[req[i,t],i] += 1\n",
        "    x_t1[gen_req[i,t],i] += 1\n",
        "    count[int(req[i,t]),i] += 1\n",
        "    req_time[int(req[i,t]),i] = t+1\n",
        "    req_time1[int(gen_req[i,t]),i] = t+1\n",
        "  \n",
        "  ireward_LRU =  np.zeros((I),int)\n",
        "  ireward_LSTM =  np.zeros((I),int)\n",
        "  ireward_LFU =  np.zeros((I),int)\n",
        "  ireward_FTPL =  np.zeros((I),int)\n",
        "  ireward_mrk =  np.zeros((I),int)\n",
        "  \n",
        "  for i in range(I):\n",
        "    temp1 = np.zeros((N),int)\n",
        "    temp2 = np.zeros((N),int)\n",
        "    temp3 = np.zeros((N),int)\n",
        "    temp4 = np.zeros((N),int)\n",
        "    temp5 = np.zeros((N),int)\n",
        "\n",
        "    connected_cache = np.where(connection[i] == 1)[0]\n",
        "    for k in range(len(connected_cache)):\n",
        "      temp1 += y_FTPL[connected_cache[k],:]\n",
        "      temp2 += y_LFU[connected_cache[k],:]\n",
        "      temp3 += y_LRU[connected_cache[k],:]\n",
        "      temp4 += y_LSTM[connected_cache[k],:]\n",
        "      temp5 += y_mrk[connected_cache[k],:]\n",
        "    ireward_FTPL[i] += np.dot(np.minimum(np.ones(N),temp1),x_t[:,i])\n",
        "    ireward_LFU[i] += np.dot(np.minimum(np.ones(N),temp2),x_t[:,i])\n",
        "    ireward_LRU[i] += np.dot(np.minimum(np.ones(N),temp3),x_t[:,i])\n",
        "    ireward_LSTM[i] += np.dot(np.minimum(np.ones(N),temp4),x_t1[:,i])\n",
        "    ireward_mrk[i] += np.dot(np.minimum(np.ones(N),temp5),x_t[:,i])\n",
        "\n",
        "  reward_FTPL[t] =  np.sum(ireward_FTPL)\n",
        "  reward_LRU[t] =  np.sum(ireward_LRU)\n",
        "  reward_LFU[t] =  np.sum(ireward_LFU)\n",
        "  reward_LSTM[t] =  np.sum(ireward_LSTM)\n",
        "  reward_mrk[t] =  np.sum(ireward_mrk)\n",
        "  reward_mrkc = np.sum(reward_mrk)\n",
        "  reward_LSTMc = np.sum(reward_LSTM)\n",
        "  reward_FTPLc = np.sum(reward_FTPL)\n",
        "  reward_LRUc = np.sum(reward_LRU)\n",
        "  reward_LFUc = np.sum(reward_LFU)\n",
        "\n",
        "  [y_LFU,LFU_downloads_slotwise[t]] = LFU(y_LFU,x_t,count,connection)\n",
        "  [y_LRU,LRU_downloads_slotwise[t]] = LRU(y_LRU,x_t,req_time,connection)\n",
        "  [y_LSTM,LSTM_downloads_slotwise[t]] = LRU(y_LSTM,x_t1,req_time1,connection)\n",
        "  [y_mrk,bit,mrk_downloads_slotwise[t],phase] = Marker(y_mrk,x_t,bit,connection,phase) \n",
        "\n",
        "  eta = round(pow(I,0.75)*pow(2*(np.log(N/C)+1),0.25)*pow((t+1)/(J*degree*C),0.5),4)\n",
        "  perturbed_count=per_count(eta,count,normal)\n",
        "  old_FTPL = y_FTPL.reshape(J*N).copy()\n",
        "  [y_FTPL,Z] = Greedy(connection,perturbed_count) \n",
        "  new_FTPL = y_FTPL.reshape(J*N).copy()\n",
        "  FTPL_downloads_slotwise[t] = np.sum(np.logical_and(new_FTPL,np.logical_not(old_FTPL)))\n",
        "\n",
        "  download_mrk.append(np.sum(mrk_downloads_slotwise)/(t+1))\n",
        "  download_FTPL.append(np.sum(FTPL_downloads_slotwise)/(t+1))\n",
        "  download_LFU.append(np.sum(LFU_downloads_slotwise)/(t+1))\n",
        "  download_LRU.append(np.sum(LRU_downloads_slotwise)/(t+1))\n",
        "  download_LSTM.append(np.sum(LSTM_downloads_slotwise)/(t+1))\n",
        "  hits_mrk.append(reward_mrkc/(t+1))\n",
        "  hits_LRU.append(reward_LRUc/(t+1))\n",
        "  hits_LFU.append(reward_LFUc/(t+1))\n",
        "  hits_FTPL.append(reward_FTPLc/(t+1))\n",
        "  hits_LSTM.append(reward_LSTMc/(t+1))\n",
        "\n",
        "  if t %1000 == 0:\n",
        "    print(t,download_mrk[t],download_FTPL[t],download_LFU[t],download_LRU[t],download_LSTM[t],hits_mrk[t],hits_FTPL[t],hits_LFU[t],hits_LRU[t],hits_LSTM[t])"
      ],
      "execution_count": 146,
      "outputs": [
        {
          "output_type": "stream",
          "text": [
            "0 9.0 13.0 9.0 9.0 8.0 0.0 0.0 0.0 0.0 0.0\n",
            "1000 8.461538461538462 0.06893106893106893 8.428571428571429 8.46053946053946 7.887112887112887 0.34265734265734266 0.47052947052947053 0.37362637362637363 0.36163836163836166 0.6333666333666333\n",
            "2000 8.454772613693153 0.05697151424287856 8.391804097951024 8.450274862568715 7.847076461769116 0.3488255872063968 0.48425787106446777 0.4007996001999001 0.36731634182908546 0.6506746626686657\n",
            "3000 8.456847717427523 0.0433188937020993 8.398533822059314 8.44118627124292 7.815061646117961 0.348217260913029 0.49050316561146284 0.3865378207264245 0.372542485838054 0.6711096301232923\n",
            "4000 8.46113471632092 0.032491877030742314 8.395651087228194 8.450137465633592 7.755811047238191 0.3419145213696576 0.49387653086728317 0.3844038990252437 0.36440889777555613 0.6898275431142215\n",
            "5000 8.457908418316336 0.027594481103779243 8.392121575684863 8.448910217956408 7.741451709658068 0.34173165366926617 0.49190161967606477 0.38492301539692064 0.3639272145570886 0.6870625874825035\n",
            "6000 8.457923679386768 0.026995500749875022 8.390934844192634 8.455757373771037 7.739876687218797 0.3407765372437927 0.4880853191134811 0.38510248291951343 0.3589401766372271 0.6952174637560407\n",
            "7000 8.459362948150265 0.02471075560634195 8.385230681331239 8.45336380517069 7.740894157977432 0.34009427224682187 0.4937866019140123 0.38680188544493643 0.3588058848735895 0.6966147693186687\n",
            "8000 8.452443444569429 0.022997125359330083 8.381577302837146 8.447194100737407 7.740282464691914 0.3429571303587052 0.4965629296337958 0.3902012248468941 0.3624546931633546 0.6989126359205099\n",
            "9000 8.451727585823797 0.02055327185868237 8.382068659037884 8.44639484501722 7.71325408287968 0.34296189312298636 0.4995000555493834 0.3924008443506277 0.3627374736140429 0.7116987001444284\n",
            "10000 8.445855414458554 0.0184981501849815 8.375662433756624 8.440455954404559 7.727627237276272 0.34606539346065396 0.5022497750224978 0.39906009399060094 0.3648635136486351 0.7036296370362963\n",
            "11000 8.444141441687119 0.016816653031542585 8.37096627579311 8.441141714389602 7.730206344877739 0.3481501681665303 0.5009544586855741 0.4028724661394419 0.3649668211980729 0.7021179892737024\n",
            "12000 8.445296225314557 0.01658195150404133 8.374552120656611 8.442379801683193 7.731439046746105 0.34755437046912757 0.5025414548787601 0.4016331972335639 0.36330305807849345 0.7009415882009833\n",
            "13000 8.4441196831013 0.01722944388893162 8.370356126451812 8.440427659410815 7.712175986462579 0.34866548727020996 0.5029613106684101 0.4016614106607184 0.3655103453580494 0.7090223828936235\n",
            "14000 8.44361117063067 0.016855938861509892 8.372116277408756 8.44232554817513 7.713949003642597 0.3493321905578173 0.5059638597243054 0.3984001142775516 0.364331119205771 0.7084493964716806\n",
            "15000 8.444170388640757 0.015998933404439704 8.37344177054863 8.44410372641824 7.715885607626158 0.34884341043930406 0.5069662022531831 0.39604026398240116 0.3631091260582628 0.7086860875941604\n",
            "16000 8.445284669708144 0.016061496156490218 8.3766014624086 8.44734704080995 7.719205049684395 0.3487907005812137 0.5079057558902569 0.3925379663771014 0.3616648959440035 0.7058308855696519\n",
            "17000 8.446503146873713 0.015940238809481797 8.377742485736134 8.448326569025351 7.705076171989883 0.34656784895006176 0.5095582612787483 0.3889771189930004 0.3598611846361979 0.7117816599023586\n",
            "18000 8.448308427309595 0.015499138936725738 8.380145547469585 8.45019721126604 7.709849452808177 0.34642519860007776 0.509916115771346 0.38825620798844507 0.35942447641797676 0.7102383200933281\n",
            "19000 8.447081732540392 0.014683437713804537 8.379401084153466 8.449818430608916 7.7145939687384875 0.34729751065733383 0.5102363033524552 0.3892953002473554 0.35977053839271617 0.7083311404662912\n",
            "20000 8.44652767361632 0.013949302534873257 8.379681015949203 8.450677466126693 7.71996400179991 0.3479326033698315 0.5118744062796861 0.38908054597270136 0.35948202589870504 0.703964801759912\n",
            "21000 8.44535974477406 0.013618399123851245 8.37650588067235 8.449835722108471 7.707918670539498 0.34912623208418647 0.5118803866482549 0.39098138183896003 0.36041140898052476 0.7094424075044046\n",
            "22000 8.445661560838143 0.013363028953229399 8.376982864415254 8.450070451343121 7.7067406026998775 0.34862051724921594 0.5125221580837235 0.39016408345075226 0.36021089950456797 0.7103313485750647\n",
            "23000 8.44671970783879 0.013173340289552629 8.376896656667101 8.450067388374418 7.708230076953176 0.34802834659362636 0.5113255945393679 0.3894613277683579 0.36024520673014215 0.7103604191122125\n",
            "24000 8.447481354943545 0.012666138910878713 8.379484188158827 8.45210616224324 7.712970292904462 0.34827715511853674 0.5121869922086579 0.3874421899087538 0.35990167076371815 0.7083038206741386\n",
            "25000 8.44758209671613 0.012159513619455222 8.381184752609895 8.452341906323747 7.713451461941522 0.3483860645574177 0.5137794488220471 0.38546458141674333 0.35990560377584896 0.7070917163313467\n",
            "26000 8.446982808353525 0.011691858005461329 8.381523787546632 8.45094419445406 7.70685742856044 0.34871735702472983 0.514172531825699 0.38436983192954116 0.361178416214761 0.7108572747202031\n",
            "27000 8.448501907336766 0.011258842265101293 8.38205992370653 8.451390689233731 7.705899781489575 0.34754268360431095 0.5139439280026665 0.3831709936669012 0.360875523128773 0.7127884152438798\n",
            "28000 8.447126888325418 0.010856755115888718 8.380236420127853 8.449662512053141 7.707546159065748 0.3479875718724331 0.5146959037177243 0.3829863219170744 0.36145137673654515 0.7119745723367022\n",
            "29000 8.448191441674425 0.010482397158718664 8.381228233509189 8.450260335850487 7.7087341815799455 0.34702251646494947 0.5162580600668942 0.3814006413571946 0.3608841074445709 0.711872004413641\n",
            "30000 8.448018399386687 0.01013299556681444 8.381653944868505 8.449651678277391 7.702276590780308 0.34712176260791305 0.516216126129129 0.38025399153361555 0.3612212926235792 0.7129762341255291\n",
            "31000 8.44908228766814 0.009806135285958518 8.381213509241638 8.449759685171447 7.706203025708848 0.34669849359698074 0.5157898132318313 0.37956840101932193 0.3611496403341828 0.7106222379923228\n",
            "32000 8.44967344770476 0.009499703134277053 8.381331833380207 8.44964219868129 7.707446642292428 0.3460204368613481 0.5164838598793787 0.3784569232211493 0.36133245836067623 0.7109152838973782\n",
            "33000 8.449077300687858 0.009211842065391957 8.379776370413017 8.448743977455228 7.708523984121693 0.34632283870185754 0.517347959152753 0.37877640071512986 0.36177691585103483 0.711069361534499\n",
            "34000 8.449927943295785 0.009146789800299992 8.379988823858122 8.449427958001236 7.702655804241052 0.34613687832710804 0.5183965177494779 0.37840063527543305 0.36160701155848357 0.7138319461192318\n",
            "35000 8.449101454244165 0.008885460415416702 8.377760635410416 8.449130024856432 7.702694208736893 0.3464186737521785 0.5191565955258421 0.37884631867660923 0.361618239478872 0.7142653067055227\n",
            "36000 8.449654176272881 0.008638648926418711 8.377850615260687 8.449404183217133 7.705202633260187 0.3461570511930224 0.5190966917585622 0.3784061553845727 0.3612677425627066 0.7128135329574179\n",
            "37000 8.450149995946056 0.008405178238425988 8.37901678333018 8.450122969649469 7.706629550552687 0.3460447014945542 0.5191751574281777 0.37726007405205264 0.36082808572741276 0.7123050728358693\n",
            "38000 8.450119733691219 0.008183995158022157 8.379121602063103 8.45038288466093 7.698244783032026 0.3460961553643325 0.5202494671192863 0.3768321886266151 0.3609905002499934 0.7159548432935975\n",
            "39000 8.45160380503064 0.007974154508858747 8.37996461629189 8.45142432245327 7.700699982051742 0.34527319812312507 0.5205507551088434 0.37596471885336274 0.36037537499038486 0.7147252634547833\n",
            "40000 8.452888677783056 0.007774805629859253 8.379965500862479 8.451438714032149 7.703107422314442 0.34434139146521336 0.5204619884502888 0.3755656108597285 0.36034099147521315 0.7131321716957076\n",
            "41000 8.453208458330284 0.007585180849247579 8.379356601058511 8.45101338991732 7.704909636350333 0.3440159996097656 0.5209385136947879 0.37542986756420577 0.36043023340894126 0.7121777517621521\n",
            "42000 8.452489226446989 0.007785528915978191 8.379181448060761 8.45001309492631 7.701388062188996 0.3446108425989857 0.5205352253517773 0.3750624985119402 0.361015213923478 0.7143401347586962\n",
            "43000 8.452291807167276 0.007790516499616288 8.378037720053022 8.449198855840562 7.70000697658194 0.34513150856956815 0.5217553080160926 0.3756424269203042 0.3617125183135276 0.7149136066603102\n",
            "44000 8.452353355605554 0.007658916842799028 8.378014136042363 8.449376150542033 7.703097656871435 0.34499215926910753 0.5223972182450399 0.3750823844912616 0.3616281448148906 0.7127110747483012\n",
            "45000 8.451834403679918 0.007488722472833937 8.376947178951578 8.448856692073509 7.70382880380436 0.3447923379480456 0.5229439345792316 0.37485833648141154 0.3614808559809782 0.7124730561543077\n",
            "46000 8.452011912784505 0.007325927697223973 8.377230929762396 8.4490989326319 7.704984674246212 0.34457946566378994 0.5237494837068759 0.3742527336362253 0.3611443229495011 0.7117671354970544\n",
            "47000 8.452075487755579 0.007170060211484862 8.37765153932895 8.449267036871555 7.7022403778643005 0.34484372672921854 0.5243292695900087 0.3739282142933129 0.3611199761707198 0.7121763366736878\n",
            "48000 8.452386408616487 0.007041519968333993 8.378533780546238 8.449490635611758 7.7035895085519055 0.3447219849586467 0.5251765588216912 0.37328388991896 0.3610758109206058 0.711464344492823\n",
            "49000 8.452664231342217 0.006979449398991857 8.379359604906023 8.450276524968878 7.705679475929062 0.3444827656578437 0.5259076345380707 0.37229852451990775 0.3604212158935532 0.7105977429032061\n"
          ],
          "name": "stdout"
        }
      ]
    },
    {
      "cell_type": "code",
      "metadata": {
        "id": "u33MS3DDT1CZ",
        "colab_type": "code",
        "colab": {
          "base_uri": "https://localhost:8080/",
          "height": 279
        },
        "outputId": "9b97cfea-976f-4979-8513-3f9a95ee5f23"
      },
      "source": [
        "plt.plot(hits_FTPL,'black',label='FTPL')\n",
        "plt.plot(hits_LRU,'green',label='LRU')\n",
        "plt.plot(hits_LFU,'blue',label='LFU')\n",
        "plt.plot(hits_LSTM,'red',label='LSTM')\n",
        "plt.plot(hits_mrk,'yellow',label='Marker')\n",
        "plt.xlabel('T')\n",
        "plt.ylabel('total hits/T')\n",
        "plt.legend()\n",
        "plt.savefig('hit-rate(I=5 J=3 d=3).png')"
      ],
      "execution_count": 147,
      "outputs": [
        {
          "output_type": "display_data",
          "data": {
            "image/png": "[encoded data removed]",
            "text/plain": [
              "<Figure size 432x288 with 1 Axes>"
            ]
          },
          "metadata": {
            "tags": [],
            "needs_background": "light"
          }
        }
      ]
    },
    {
      "cell_type": "code",
      "metadata": {
        "id": "BO6RqcCjt-I0",
        "colab_type": "code",
        "colab": {
          "base_uri": "https://localhost:8080/",
          "height": 279
        },
        "outputId": "f6253ded-2b79-41bb-d370-9b3aaf1e9196"
      },
      "source": [
        "plt.plot(download_mrk,'yellow',label='Marker')\n",
        "plt.plot(download_FTPL,'black',label='FTPL')\n",
        "plt.plot(download_LRU,'green',label='LRU')\n",
        "plt.plot(download_LFU,'blue',label='LFU')\n",
        "plt.plot(download_LSTM,'red',label='LSTM')\n",
        "plt.xlabel('T')\n",
        "plt.ylabel('New downloads')\n",
        "plt.legend()\n",
        "plt.savefig('download-rate(I=5 J=3 d=3).png')"
      ],
      "execution_count": 148,
      "outputs": [
        {
          "output_type": "display_data",
          "data": {
            "image/png": "[encoded data removed]",
            "text/plain": [
              "<Figure size 432x288 with 1 Axes>"
            ]
          },
          "metadata": {
            "tags": [],
            "needs_background": "light"
          }
        }
      ]
    },
    {
      "cell_type": "markdown",
      "metadata": {
        "id": "BdHsz8OLbfRt",
        "colab_type": "text"
      },
      "source": [
        "I = 15 J = 10 d = 7"
      ]
    },
    {
      "cell_type": "code",
      "metadata": {
        "id": "2k2iUESfYkec",
        "colab_type": "code",
        "colab": {}
      },
      "source": [
        "I = 10\n",
        "J = 4\n",
        "C = 10\n",
        "degree = 3\n",
        "normal = random.normal(0,1,[N,I])\n",
        "T = 50000"
      ],
      "execution_count": 149,
      "outputs": []
    },
    {
      "cell_type": "code",
      "metadata": {
        "id": "P6LK3SH5cVIs",
        "colab_type": "code",
        "colab": {
          "base_uri": "https://localhost:8080/",
          "height": 185
        },
        "outputId": "2c8f2eea-b3ee-4d59-e7c3-7a920a6146b6"
      },
      "source": [
        "connection = np.zeros((I,J),dtype = int)\n",
        "i = 0\n",
        "for j in range(J):\n",
        "  x = 0\n",
        "  while x < degree:\n",
        "    connection[i,j] = 1\n",
        "    x += 1\n",
        "    i += 1\n",
        "    if i == I:\n",
        "      i = 0\n",
        "connection"
      ],
      "execution_count": 150,
      "outputs": [
        {
          "output_type": "execute_result",
          "data": {
            "text/plain": [
              "array([[1, 0, 0, 1],\n",
              "       [1, 0, 0, 1],\n",
              "       [1, 0, 0, 0],\n",
              "       [0, 1, 0, 0],\n",
              "       [0, 1, 0, 0],\n",
              "       [0, 1, 0, 0],\n",
              "       [0, 0, 1, 0],\n",
              "       [0, 0, 1, 0],\n",
              "       [0, 0, 1, 0],\n",
              "       [0, 0, 0, 1]])"
            ]
          },
          "metadata": {
            "tags": []
          },
          "execution_count": 150
        }
      ]
    },
    {
      "cell_type": "code",
      "metadata": {
        "id": "fHrvasV4Xl3O",
        "colab_type": "code",
        "colab": {}
      },
      "source": [
        "gen_req1 = np.load('/content/drive/My Drive/gen_req.npy')\n",
        "req1 = np.load('/content/drive/My Drive/req.npy')\n",
        "req1 = req1[20000:]\n",
        "gen_req1 = gen_req1[20000:]"
      ],
      "execution_count": 151,
      "outputs": []
    },
    {
      "cell_type": "code",
      "metadata": {
        "id": "bxgJO20wXaAR",
        "colab_type": "code",
        "colab": {
          "base_uri": "https://localhost:8080/",
          "height": 34
        },
        "outputId": "4b830f87-3e14-414e-ea08-cc209ad80850"
      },
      "source": [
        "req = req1.reshape(I,-1)\n",
        "req.shape"
      ],
      "execution_count": 152,
      "outputs": [
        {
          "output_type": "execute_result",
          "data": {
            "text/plain": [
              "(10, 198500)"
            ]
          },
          "metadata": {
            "tags": []
          },
          "execution_count": 152
        }
      ]
    },
    {
      "cell_type": "code",
      "metadata": {
        "id": "-JCKP3hMXiq-",
        "colab_type": "code",
        "colab": {
          "base_uri": "https://localhost:8080/",
          "height": 34
        },
        "outputId": "12a1c495-3816-4957-ca75-2ea19833626b"
      },
      "source": [
        "gen_req = gen_req1.reshape(I,-1)\n",
        "gen_req.shape"
      ],
      "execution_count": 153,
      "outputs": [
        {
          "output_type": "execute_result",
          "data": {
            "text/plain": [
              "(10, 223500)"
            ]
          },
          "metadata": {
            "tags": []
          },
          "execution_count": 153
        }
      ]
    },
    {
      "cell_type": "code",
      "metadata": {
        "id": "Oke-J6xqgp0l",
        "colab_type": "code",
        "colab": {
          "base_uri": "https://localhost:8080/",
          "height": 877
        },
        "outputId": "647ed4fc-0d95-436c-e7ca-40b93330d7de"
      },
      "source": [
        "y_LRU = np.zeros((J,N),dtype = int)\n",
        "y_LFU = np.zeros((J,N),dtype = int)\n",
        "y_FTPL = np.zeros((J,N),dtype = int)\n",
        "y_LSTM = np.zeros((J,N),dtype = int)\n",
        "y_mrk = np.zeros((J,N),dtype = int)\n",
        "y_mrk[:,:C] = np.ones((J,C),dtype = int)\n",
        "y_LSTM[:,:C] = np.ones((J,C),dtype = int)\n",
        "y_FTPL[:,:C] = np.ones((J,C),dtype = int)\n",
        "y_LRU[:,:C] = np.ones((J,C),dtype = int)\n",
        "y_LFU[:,:C] = np.ones((J,C),dtype = int)\n",
        "count = np.zeros((N,I),dtype = int)\n",
        "reward_LSTM =  np.zeros((T),int)\n",
        "reward_FTPL =  np.zeros((T),int)\n",
        "reward_LRU =  np.zeros((T),int)\n",
        "reward_LFU =  np.zeros((T),int)\n",
        "reward_mrk =  np.zeros((T),int)\n",
        "hits_mrk =  []\n",
        "hits_FTPL =  []\n",
        "hits_LRU =  []\n",
        "hits_LFU =  []\n",
        "hits_LSTM = []\n",
        "download_FTPL =  []\n",
        "download_LRU =  []\n",
        "download_LFU =  []\n",
        "download_LSTM = []\n",
        "download_mrk = []\n",
        "mrk_downloads_slotwise = np.zeros((T),int)\n",
        "FTPL_downloads_slotwise = np.zeros((T),int)\n",
        "LFU_downloads_slotwise = np.zeros((T),int)\n",
        "LRU_downloads_slotwise = np.zeros((T),int)\n",
        "LSTM_downloads_slotwise = np.zeros((T),int)\n",
        "req_time = np.zeros((N,I),dtype = int) \n",
        "req_time1 = np.zeros((N,I),dtype = int) \n",
        "bit = np.zeros((J,N),int)\n",
        "phase = np.zeros((J,N),int)\n",
        "for t in range(T):\n",
        "  x_t1 = np.zeros((N,I),dtype = int)\n",
        "  x_t = np.zeros((N,I),dtype = int)\n",
        "  for i in range(I):\n",
        "    x_t[req[i,t],i] += 1\n",
        "    x_t1[gen_req[i,t],i] += 1\n",
        "    count[int(req[i,t]),i] += 1\n",
        "    req_time[int(req[i,t]),i] = t+1\n",
        "    req_time1[int(gen_req[i,t]),i] = t+1\n",
        "  \n",
        "  ireward_LRU =  np.zeros((I),int)\n",
        "  ireward_LSTM =  np.zeros((I),int)\n",
        "  ireward_LFU =  np.zeros((I),int)\n",
        "  ireward_FTPL =  np.zeros((I),int)\n",
        "  ireward_mrk =  np.zeros((I),int)\n",
        "  \n",
        "  for i in range(I):\n",
        "    temp1 = np.zeros((N),int)\n",
        "    temp2 = np.zeros((N),int)\n",
        "    temp3 = np.zeros((N),int)\n",
        "    temp4 = np.zeros((N),int)\n",
        "    temp5 = np.zeros((N),int)\n",
        "\n",
        "    connected_cache = np.where(connection[i] == 1)[0]\n",
        "    for k in range(len(connected_cache)):\n",
        "      temp1 += y_FTPL[connected_cache[k],:]\n",
        "      temp2 += y_LFU[connected_cache[k],:]\n",
        "      temp3 += y_LRU[connected_cache[k],:]\n",
        "      temp4 += y_LSTM[connected_cache[k],:]\n",
        "      temp5 += y_mrk[connected_cache[k],:]\n",
        "    ireward_FTPL[i] += np.dot(np.minimum(np.ones(N),temp1),x_t[:,i])\n",
        "    ireward_LFU[i] += np.dot(np.minimum(np.ones(N),temp2),x_t[:,i])\n",
        "    ireward_LRU[i] += np.dot(np.minimum(np.ones(N),temp3),x_t[:,i])\n",
        "    ireward_LSTM[i] += np.dot(np.minimum(np.ones(N),temp4),x_t1[:,i])\n",
        "    ireward_mrk[i] += np.dot(np.minimum(np.ones(N),temp5),x_t[:,i])\n",
        "\n",
        "  reward_FTPL[t] =  np.sum(ireward_FTPL)\n",
        "  reward_LRU[t] =  np.sum(ireward_LRU)\n",
        "  reward_LFU[t] =  np.sum(ireward_LFU)\n",
        "  reward_LSTM[t] =  np.sum(ireward_LSTM)\n",
        "  reward_mrk[t] =  np.sum(ireward_mrk)\n",
        "  reward_mrkc = np.sum(reward_mrk)\n",
        "  reward_LSTMc = np.sum(reward_LSTM)\n",
        "  reward_FTPLc = np.sum(reward_FTPL)\n",
        "  reward_LRUc = np.sum(reward_LRU)\n",
        "  reward_LFUc = np.sum(reward_LFU)\n",
        "\n",
        "  [y_LFU,LFU_downloads_slotwise[t]] = LFU(y_LFU,x_t,count,connection)\n",
        "  [y_LRU,LRU_downloads_slotwise[t]] = LRU(y_LRU,x_t,req_time,connection)\n",
        "  [y_LSTM,LSTM_downloads_slotwise[t]] = LRU(y_LSTM,x_t1,req_time1,connection)\n",
        "  [y_mrk,bit,mrk_downloads_slotwise[t],phase] = Marker(y_mrk,x_t,bit,connection,phase) \n",
        "\n",
        "  eta = round(I*pow(4*pi*np.log(N*I),-.25)*pow((t+1)/(J*degree*C),.5),4)\n",
        "  perturbed_count=per_count(eta,count,normal)\n",
        "  old_FTPL = y_FTPL.reshape(J*N).copy()\n",
        "  [y_FTPL,Z] = Greedy(connection,perturbed_count) \n",
        "  new_FTPL = y_FTPL.reshape(J*N).copy()\n",
        "  FTPL_downloads_slotwise[t] = (np.sum(np.logical_and(new_FTPL,np.logical_not(old_FTPL))))\n",
        "\n",
        "  download_mrk.append(np.sum(mrk_downloads_slotwise)/(t+1))\n",
        "  download_FTPL.append(np.sum(FTPL_downloads_slotwise)/(t+1))\n",
        "  download_LFU.append(np.sum(LFU_downloads_slotwise)/(t+1))\n",
        "  download_LRU.append(np.sum(LRU_downloads_slotwise)/(t+1))\n",
        "  download_LSTM.append(np.sum(LSTM_downloads_slotwise)/(t+1))\n",
        "  hits_mrk.append(reward_mrkc/(t+1))\n",
        "  hits_LRU.append(reward_LRUc/(t+1))\n",
        "  hits_LFU.append(reward_LFUc/(t+1))\n",
        "  hits_FTPL.append(reward_FTPLc/(t+1))\n",
        "  hits_LSTM.append(reward_LSTMc/(t+1))\n",
        "\n",
        "  if t %1000 == 0:\n",
        "    print(t,download_mrk[t],download_FTPL[t],download_LFU[t],download_LRU[t],download_LSTM[t],hits_mrk[t],hits_FTPL[t],hits_LFU[t],hits_LRU[t],hits_LSTM[t])"
      ],
      "execution_count": 154,
      "outputs": [
        {
          "output_type": "stream",
          "text": [
            "0 12.0 38.0 12.0 12.0 12.0 0.0 0.0 0.0 0.0 0.0\n",
            "1000 10.7002997002997 0.3826173826173826 10.552447552447552 10.708291708291709 9.764235764235764 1.046953046953047 1.1788211788211789 1.2277722277722278 1.066933066933067 1.864135864135864\n",
            "2000 10.682658670664667 0.24387806096951525 10.498750624687656 10.668665667166417 9.734132933533234 1.065967016491754 1.237881059470265 1.2648675662168916 1.091454272863568 1.8610694652673663\n",
            "3000 10.658447184271909 0.18960346551149618 10.509496834388537 10.677440853048983 9.712762412529157 1.076641119626791 1.2622459180273242 1.2529156947684106 1.0813062312562478 1.869710096634455\n",
            "4000 10.674831292176956 0.16370907273181703 10.514121469632592 10.689077730567359 9.628342914271432 1.060734816295926 1.271432141964509 1.2434391402149463 1.068732816795801 1.9275181204698826\n",
            "5000 10.674665066986602 0.14477104579084182 10.495300939812038 10.683063387322536 9.593081383723256 1.0617876424715056 1.285742851429714 1.255348930213957 1.0745850829834034 1.9528094381123775\n",
            "6000 10.670388268621897 0.1318113647725379 10.478753541076488 10.67822029661723 9.59690051658057 1.0654890851524745 1.2954507582069654 1.260123312781203 1.0779870021663056 1.9480086652224629\n",
            "7000 10.670618483073847 0.12012569632909584 10.466361948293102 10.676617626053421 9.608055992001143 1.0632766747607485 1.303813740894158 1.266247678903014 1.0752749607198973 1.9428653049564348\n",
            "8000 10.664041994750656 0.11423572053493314 10.453068366454193 10.670791151106112 9.61042369703787 1.0706161729783776 1.3067116610423697 1.2775903012123484 1.0802399700037495 1.9407574053243344\n",
            "9000 10.658815687145873 0.1079880013331852 10.446617042550828 10.665592711920898 9.5692700811021 1.0741028774580603 1.313520719920009 1.2800799911120986 1.08343517386957 1.9741139873347406\n",
            "10000 10.653534646535347 0.10158984101589841 10.433856614338566 10.653934606539346 9.578042195780421 1.0783921607839215 1.3221677832216778 1.2893710628937107 1.0943905609439055 1.9685031496850316\n",
            "11000 10.658212889737296 0.09435505863103354 10.433596945732207 10.657849286428506 9.586673938732842 1.0741750749931824 1.3357876556676667 1.2859740023634214 1.0913553313335151 1.9594582310699027\n",
            "12000 10.654695442046496 0.08790934088825932 10.426047829347555 10.650945754520457 9.59111740688276 1.075493708857595 1.3481376551954003 1.2881426547787684 1.09399216731939 1.9554203816348639\n",
            "13000 10.651257595569572 0.08414737327897855 10.423736635643412 10.64433505114991 9.557034074301976 1.0789170063841242 1.3578955464964233 1.2884393508191678 1.099607722482886 1.981155295746481\n",
            "14000 10.654810370687809 0.08042282694093279 10.426040997071638 10.644811084922505 9.564173987572316 1.07570887793729 1.3641882722662666 1.2829797871580602 1.0987786586672381 1.974644668237983\n",
            "15000 10.654556362909139 0.07712819145390307 10.425971601893208 10.643690420638624 9.57322845143657 1.0745283647756816 1.3730417972135192 1.2799146723551764 1.0987934137724151 1.968868742083861\n",
            "16000 10.656208986938317 0.07518280107493282 10.423473532904193 10.644772201737391 9.576338978813824 1.0734329104430973 1.3776013999125054 1.2792950440597464 1.0979313792887944 1.9673145428410723\n",
            "17000 10.6569613552144 0.0715252043997412 10.420328215987295 10.642844538556556 9.550791129933533 1.0726427857184873 1.3860361155226164 1.2799835303805658 1.1003470384095053 1.989118287159579\n",
            "18000 10.655463585356369 0.06832953724793067 10.41736570190545 10.640964390867174 9.556524637520138 1.074329203933115 1.394422532081551 1.2809843897561246 1.102272095994667 1.9840008888395089\n",
            "19000 10.652123572443555 0.06478606389137413 10.414346613336141 10.640387348034315 9.566970159465292 1.0781537813799273 1.3961896742276723 1.2815641282037789 1.1040997842218832 1.9773696121256776\n",
            "20000 10.653767311634418 0.06329683515824208 10.414629268536574 10.63966801659917 9.572021398930053 1.0779961001949903 1.3992300384980751 1.2810859457027148 1.1052947352632367 1.9730013499325034\n",
            "21000 10.655683062711299 0.06228274844055045 10.413980286653016 10.640779010523309 9.554354554545021 1.0767106328270082 1.400599971429932 1.2807485357840103 1.1052807009190038 1.987714870720442\n",
            "22000 10.655924730694059 0.0609972273987546 10.4150720421799 10.642152629425935 9.552565792463978 1.076587427844189 1.403799827280578 1.279396391073133 1.1049497750102268 1.9894095722921685\n",
            "23000 10.65779748706578 0.05904091126472762 10.41541672101213 10.642711186470153 9.55714968914395 1.0749967392722055 1.405591061258206 1.278335724533716 1.1050823877222729 1.9860006086691884\n",
            "24000 10.658430898712554 0.057247614682721555 10.414816049331279 10.644306487229699 9.560851631182034 1.0750802049914587 1.4076080163326528 1.2783634015249365 1.1039540019165868 1.9838340069163785\n",
            "25000 10.660613575456981 0.055357785688572456 10.415903363865445 10.646214151433943 9.558097676092956 1.0727570897164114 1.4099836006559738 1.2763089476420943 1.1023959041638334 1.985680572777089\n",
            "26000 10.661859159263106 0.05361332256451675 10.415637860082304 10.646667435867851 9.548478904657513 1.07188185069805 1.4111380331525711 1.2754509441944542 1.1017268566593592 1.9938848505826698\n",
            "27000 10.665308692270656 0.052442502129550754 10.418243768749306 10.649124106514574 9.552127698974113 1.0695159438539312 1.4130587756009036 1.2735824599088923 1.1002185104255398 1.9908151549942594\n",
            "28000 10.666869040391415 0.05139102174922324 10.41666369058248 10.649226813328095 9.55812292418128 1.0681404235563015 1.4150566051212456 1.2740616406556908 1.100389271811721 1.9860719260026427\n",
            "29000 10.669252784386746 0.05048101789593462 10.416295989793456 10.648253508499707 9.559739319333817 1.0666528740388261 1.417468363159891 1.273852625771525 1.1018930381710976 1.9850694803627462\n",
            "30000 10.668044398520049 0.049365021165961136 10.41555281490617 10.647411752941569 9.549581680610647 1.067797740075331 1.4186527115762808 1.273724209193027 1.102296590113663 1.9940335322155929\n",
            "31000 10.668752620883197 0.04835327892648624 10.411954453082158 10.645850133866649 9.55294990484178 1.0675784652107996 1.424018580045805 1.2758298119415503 1.1040611593174414 1.9912260894809846\n",
            "32000 10.669166588544108 0.04768600981219337 10.412080872472735 10.645792318990031 9.556076372613356 1.0671229024092996 1.4257366957282585 1.2753351457766944 1.1038092559607513 1.9889378456923221\n",
            "33000 10.669403957455835 0.046513742007817944 10.408714887427653 10.644435017120694 9.557831580861187 1.0664525317414624 1.4290173025059847 1.2770522105390745 1.1038756401321173 1.986606466470713\n",
            "34000 10.669950883797535 0.0453810182053469 10.407929178553571 10.643892826681569 9.546689803241081 1.0660862915796594 1.4314873091967883 1.2777565365724537 1.1040263521661127 1.9962059939413546\n",
            "35000 10.669780863403902 0.04411302534213308 10.4056455529842 10.643353047055799 9.549012885346134 1.065969543727322 1.4335590411702523 1.2789063169623724 1.103997028656324 1.993914459586869\n",
            "36000 10.670564706535929 0.04288769756395656 10.405099858337268 10.643759895558457 9.552095775117358 1.065164856531763 1.4346545929279741 1.2791311352462431 1.103608233104636 1.9908058109496958\n",
            "37000 10.671252128320857 0.041998864895543365 10.403448555444447 10.644387989513797 9.552822896678467 1.0647009540282695 1.4379611361855085 1.2801816167130617 1.1032674792573174 1.9900002702629658\n",
            "38000 10.671692850188153 0.04120944185679324 10.402805189337123 10.643562011526013 9.539248967132444 1.0644719875792743 1.4392252835451698 1.279966316675877 1.1039183179390015 2.001026288781874\n",
            "39000 10.67170072562242 0.040716904694751414 10.399810261275352 10.642727109561294 9.54321684059383 1.0643060434347837 1.4420655880618445 1.2819927694161688 1.104535781133817 1.9980513320171278\n",
            "40000 10.673958151046223 0.04019899502512437 10.401589960250993 10.64603384915377 9.547161320966977 1.0628234294142647 1.4427389315267118 1.28076798080048 1.101897452563686 1.9950251243718906\n",
            "41000 10.675032316284968 0.03926733494305017 10.399917075193288 10.646789102704812 9.550498768322724 1.0616082534572326 1.4450379259042463 1.2814077705421818 1.1005829126118876 1.9921953123094558\n",
            "42000 10.675983905145115 0.03833242065665103 10.400538082426609 10.64796076283898 9.544439418109093 1.0612366372229232 1.446846503654675 1.2809456917692437 1.1000452370181661 1.9966667460298564\n",
            "43000 10.677891211832282 0.03753401083695728 10.400804632450408 10.64835701495314 9.542545522197159 1.0598125624985466 1.4476640078137717 1.2803655728936536 1.0999976744726867 1.9979302806911468\n",
            "44000 10.677120974523307 0.036999159110020226 10.40103634008318 10.647689825231245 9.544692166087135 1.0607713461057704 1.449353423785823 1.2803345378514124 1.1011113383786733 1.9956819163200836\n",
            "45000 10.677251616630741 0.03633252594386791 10.402635496988955 10.648718917357392 9.546654518788472 1.060820870647319 1.4502344392346838 1.279193795693429 1.1004422123952802 1.9941334637008066\n",
            "46000 10.677702658637855 0.03567313754048825 10.401556487902436 10.648551118453947 9.547335927479837 1.0606508554161866 1.4515336623116888 1.2795591400186952 1.100693463185583 1.9935436186169866\n",
            "47000 10.676943043765027 0.0349567030488713 10.400991468266632 10.647071338907683 9.539562988021531 1.0615944341609753 1.4532882279100445 1.2797174528201527 1.1018914491181038 1.9992978872789942\n",
            "48000 10.67669423553676 0.03429095227182767 10.401679131684757 10.648319826670278 9.542467865252807 1.0616445490718944 1.4546780275410929 1.2790983521176642 1.1008312326826524 1.9969167309014395\n",
            "49000 10.67761882410563 0.033815636415583356 10.401930572845453 10.649211240586927 9.545233770739372 1.060835493153201 1.455358053917267 1.2783616660884471 1.100120405706006 1.994612354849901\n"
          ],
          "name": "stdout"
        }
      ]
    },
    {
      "cell_type": "code",
      "metadata": {
        "id": "2iv4C7Z09VGe",
        "colab_type": "code",
        "colab": {
          "base_uri": "https://localhost:8080/",
          "height": 279
        },
        "outputId": "57ee439c-e5b9-46f7-912d-b7cf4c53bd40"
      },
      "source": [
        "plt.plot(hits_FTPL,'black',label='FTPL')\n",
        "plt.plot(hits_LRU,'green',label='LRU')\n",
        "plt.plot(hits_LFU,'blue',label='LFU')\n",
        "plt.plot(hits_LSTM,'red',label='LSTM')\n",
        "plt.plot(hits_mrk,'yellow',label='Marker')\n",
        "plt.xlabel('T')\n",
        "plt.ylabel('total hits')\n",
        "plt.legend()\n",
        "plt.savefig('hit-rate(I=10 J=4 d=3).png')"
      ],
      "execution_count": 155,
      "outputs": [
        {
          "output_type": "display_data",
          "data": {
            "image/png": "[encoded data removed]",
            "text/plain": [
              "<Figure size 432x288 with 1 Axes>"
            ]
          },
          "metadata": {
            "tags": [],
            "needs_background": "light"
          }
        }
      ]
    },
    {
      "cell_type": "code",
      "metadata": {
        "id": "0BUxR46t9YE8",
        "colab_type": "code",
        "colab": {
          "base_uri": "https://localhost:8080/",
          "height": 279
        },
        "outputId": "116bc6b2-c8bd-4164-99af-dc8372f6a85b"
      },
      "source": [
        "plt.plot(download_FTPL,'black',label='FTPL')\n",
        "plt.plot(download_LRU,'green',label='LRU')\n",
        "plt.plot(download_LFU,'blue',label='LFU')\n",
        "plt.plot(download_LSTM,'red',label='LSTM')\n",
        "plt.plot(download_mrk,'yellow',label='Marker')\n",
        "plt.xlabel('T')\n",
        "plt.ylabel('new downloads')\n",
        "plt.legend()\n",
        "plt.savefig('download-rate(I=10 J=4 d=3).png')"
      ],
      "execution_count": 156,
      "outputs": [
        {
          "output_type": "display_data",
          "data": {
            "image/png": "[encoded data removed]",
            "text/plain": [
              "<Figure size 432x288 with 1 Axes>"
            ]
          },
          "metadata": {
            "tags": [],
            "needs_background": "light"
          }
        }
      ]
    },
    {
      "cell_type": "code",
      "metadata": {
        "id": "HG7zXAnwVOMW",
        "colab_type": "code",
        "colab": {}
      },
      "source": [
        ""
      ],
      "execution_count": null,
      "outputs": []
    }
  ]
}