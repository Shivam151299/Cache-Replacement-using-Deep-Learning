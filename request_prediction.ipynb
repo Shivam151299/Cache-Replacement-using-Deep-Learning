{
 "cells": [
  {
   "cell_type": "code",
   "execution_count": 53,
   "metadata": {},
   "outputs": [],
   "source": [
    "import pandas as pd\n",
    "import numpy as np\n",
    "import matplotlib.pyplot as plt\n",
    "%matplotlib inline\n",
    "from keras.models import Model\n",
    "from keras.layers import Input, LSTM, Dense\n",
    "from keras.optimizers import Adam\n",
    "\n",
    "import seaborn as sns\n",
    "sns.set()"
   ]
  },
  {
   "cell_type": "markdown",
   "metadata": {},
   "source": [
    "# Data "
   ]
  },
  {
   "cell_type": "code",
   "execution_count": 54,
   "metadata": {},
   "outputs": [
    {
     "data": {
      "text/html": [
       "<div>\n",
       "<style scoped>\n",
       "    .dataframe tbody tr th:only-of-type {\n",
       "        vertical-align: middle;\n",
       "    }\n",
       "\n",
       "    .dataframe tbody tr th {\n",
       "        vertical-align: top;\n",
       "    }\n",
       "\n",
       "    .dataframe thead th {\n",
       "        text-align: right;\n",
       "    }\n",
       "</style>\n",
       "<table border=\"1\" class=\"dataframe\">\n",
       "  <thead>\n",
       "    <tr style=\"text-align: right;\">\n",
       "      <th></th>\n",
       "      <th>object_ID</th>\n",
       "      <th>request_time</th>\n",
       "    </tr>\n",
       "  </thead>\n",
       "  <tbody>\n",
       "    <tr>\n",
       "      <td>0</td>\n",
       "      <td>5</td>\n",
       "      <td>2.961472</td>\n",
       "    </tr>\n",
       "    <tr>\n",
       "      <td>1</td>\n",
       "      <td>25</td>\n",
       "      <td>3.274127</td>\n",
       "    </tr>\n",
       "    <tr>\n",
       "      <td>2</td>\n",
       "      <td>2</td>\n",
       "      <td>3.785475</td>\n",
       "    </tr>\n",
       "    <tr>\n",
       "      <td>3</td>\n",
       "      <td>2</td>\n",
       "      <td>4.455687</td>\n",
       "    </tr>\n",
       "    <tr>\n",
       "      <td>4</td>\n",
       "      <td>4</td>\n",
       "      <td>5.288994</td>\n",
       "    </tr>\n",
       "  </tbody>\n",
       "</table>\n",
       "</div>"
      ],
      "text/plain": [
       "   object_ID  request_time\n",
       "0          5      2.961472\n",
       "1         25      3.274127\n",
       "2          2      3.785475\n",
       "3          2      4.455687\n",
       "4          4      5.288994"
      ]
     },
     "execution_count": 54,
     "metadata": {},
     "output_type": "execute_result"
    }
   ],
   "source": [
    "data = pd.read_csv('D:/IITM/DeepCache/syntheticDataset_O50.csv')\n",
    "data.head()"
   ]
  },
  {
   "cell_type": "code",
   "execution_count": 55,
   "metadata": {},
   "outputs": [],
   "source": [
    "data = np.array(data)\n",
    "req = data[:,0]\n",
    "time = data[:,1]\n",
    "\n",
    "batch_size = 20000 # 10% of training data"
   ]
  },
  {
   "cell_type": "code",
   "execution_count": 56,
   "metadata": {},
   "outputs": [
    {
     "name": "stdout",
     "output_type": "stream",
     "text": [
      "(10, 20000, 1) (10, 10, 1)\n"
     ]
    }
   ],
   "source": [
    "encoder_input_data = req[:200000].reshape(-1,batch_size,1) # total batches = 10\n",
    "\n",
    "decoder_target_data = []\n",
    "for i in range(1,11):\n",
    "    temp = []\n",
    "    for j in range(10): # to predict next 10 req for every batch\n",
    "        temp.append(req[(batch_size*i) + j])\n",
    "    decoder_target_data.append(temp)    \n",
    "\n",
    "decoder_target_data = np.array(decoder_target_data).reshape(10,10,1)\n",
    "\n",
    "print(encoder_input_data.shape,decoder_target_data.shape)"
   ]
  },
  {
   "cell_type": "code",
   "execution_count": 57,
   "metadata": {},
   "outputs": [
    {
     "data": {
      "text/plain": [
       "(10, 10, 1)"
      ]
     },
     "execution_count": 57,
     "metadata": {},
     "output_type": "execute_result"
    }
   ],
   "source": [
    "decoder_input_data = np.zeros(decoder_target_data.shape)\n",
    "decoder_input_data[1:,:,0] = decoder_target_data[:-1,:,0]\n",
    "decoder_input_data[0,0,0] = encoder_input_data[-1,0,0]\n",
    "decoder_input_data.shape"
   ]
  },
  {
   "cell_type": "code",
   "execution_count": 58,
   "metadata": {},
   "outputs": [
    {
     "data": {
      "text/plain": [
       "array([[[ 2.],\n",
       "        [14.],\n",
       "        [ 1.],\n",
       "        [ 3.],\n",
       "        [13.],\n",
       "        [ 4.],\n",
       "        [ 2.],\n",
       "        [ 1.],\n",
       "        [14.],\n",
       "        [ 1.]],\n",
       "\n",
       "       [[ 3.],\n",
       "        [38.],\n",
       "        [16.],\n",
       "        [ 3.],\n",
       "        [ 9.],\n",
       "        [16.],\n",
       "        [ 1.],\n",
       "        [ 1.],\n",
       "        [ 5.],\n",
       "        [37.]],\n",
       "\n",
       "       [[43.],\n",
       "        [19.],\n",
       "        [46.],\n",
       "        [38.],\n",
       "        [38.],\n",
       "        [39.],\n",
       "        [ 7.],\n",
       "        [38.],\n",
       "        [38.],\n",
       "        [43.]],\n",
       "\n",
       "       [[45.],\n",
       "        [ 7.],\n",
       "        [22.],\n",
       "        [45.],\n",
       "        [21.],\n",
       "        [49.],\n",
       "        [ 7.],\n",
       "        [49.],\n",
       "        [ 7.],\n",
       "        [49.]],\n",
       "\n",
       "       [[49.],\n",
       "        [39.],\n",
       "        [43.],\n",
       "        [43.],\n",
       "        [ 7.],\n",
       "        [39.],\n",
       "        [19.],\n",
       "        [45.],\n",
       "        [ 7.],\n",
       "        [39.]],\n",
       "\n",
       "       [[10.],\n",
       "        [10.],\n",
       "        [39.],\n",
       "        [30.],\n",
       "        [21.],\n",
       "        [19.],\n",
       "        [ 1.],\n",
       "        [12.],\n",
       "        [41.],\n",
       "        [ 9.]],\n",
       "\n",
       "       [[45.],\n",
       "        [30.],\n",
       "        [ 9.],\n",
       "        [ 3.],\n",
       "        [16.],\n",
       "        [28.],\n",
       "        [44.],\n",
       "        [36.],\n",
       "        [16.],\n",
       "        [ 1.]],\n",
       "\n",
       "       [[19.],\n",
       "        [43.],\n",
       "        [19.],\n",
       "        [40.],\n",
       "        [40.],\n",
       "        [ 6.],\n",
       "        [40.],\n",
       "        [23.],\n",
       "        [20.],\n",
       "        [48.]],\n",
       "\n",
       "       [[37.],\n",
       "        [20.],\n",
       "        [50.],\n",
       "        [33.],\n",
       "        [12.],\n",
       "        [43.],\n",
       "        [ 7.],\n",
       "        [11.],\n",
       "        [49.],\n",
       "        [37.]],\n",
       "\n",
       "       [[44.],\n",
       "        [ 8.],\n",
       "        [13.],\n",
       "        [17.],\n",
       "        [44.],\n",
       "        [41.],\n",
       "        [48.],\n",
       "        [ 8.],\n",
       "        [41.],\n",
       "        [41.]]])"
      ]
     },
     "execution_count": 58,
     "metadata": {},
     "output_type": "execute_result"
    }
   ],
   "source": [
    "decoder_target_data"
   ]
  },
  {
   "cell_type": "code",
   "execution_count": 59,
   "metadata": {},
   "outputs": [
    {
     "data": {
      "text/plain": [
       "array([[[37.],\n",
       "        [ 0.],\n",
       "        [ 0.],\n",
       "        [ 0.],\n",
       "        [ 0.],\n",
       "        [ 0.],\n",
       "        [ 0.],\n",
       "        [ 0.],\n",
       "        [ 0.],\n",
       "        [ 0.]],\n",
       "\n",
       "       [[ 2.],\n",
       "        [14.],\n",
       "        [ 1.],\n",
       "        [ 3.],\n",
       "        [13.],\n",
       "        [ 4.],\n",
       "        [ 2.],\n",
       "        [ 1.],\n",
       "        [14.],\n",
       "        [ 1.]],\n",
       "\n",
       "       [[ 3.],\n",
       "        [38.],\n",
       "        [16.],\n",
       "        [ 3.],\n",
       "        [ 9.],\n",
       "        [16.],\n",
       "        [ 1.],\n",
       "        [ 1.],\n",
       "        [ 5.],\n",
       "        [37.]],\n",
       "\n",
       "       [[43.],\n",
       "        [19.],\n",
       "        [46.],\n",
       "        [38.],\n",
       "        [38.],\n",
       "        [39.],\n",
       "        [ 7.],\n",
       "        [38.],\n",
       "        [38.],\n",
       "        [43.]],\n",
       "\n",
       "       [[45.],\n",
       "        [ 7.],\n",
       "        [22.],\n",
       "        [45.],\n",
       "        [21.],\n",
       "        [49.],\n",
       "        [ 7.],\n",
       "        [49.],\n",
       "        [ 7.],\n",
       "        [49.]],\n",
       "\n",
       "       [[49.],\n",
       "        [39.],\n",
       "        [43.],\n",
       "        [43.],\n",
       "        [ 7.],\n",
       "        [39.],\n",
       "        [19.],\n",
       "        [45.],\n",
       "        [ 7.],\n",
       "        [39.]],\n",
       "\n",
       "       [[10.],\n",
       "        [10.],\n",
       "        [39.],\n",
       "        [30.],\n",
       "        [21.],\n",
       "        [19.],\n",
       "        [ 1.],\n",
       "        [12.],\n",
       "        [41.],\n",
       "        [ 9.]],\n",
       "\n",
       "       [[45.],\n",
       "        [30.],\n",
       "        [ 9.],\n",
       "        [ 3.],\n",
       "        [16.],\n",
       "        [28.],\n",
       "        [44.],\n",
       "        [36.],\n",
       "        [16.],\n",
       "        [ 1.]],\n",
       "\n",
       "       [[19.],\n",
       "        [43.],\n",
       "        [19.],\n",
       "        [40.],\n",
       "        [40.],\n",
       "        [ 6.],\n",
       "        [40.],\n",
       "        [23.],\n",
       "        [20.],\n",
       "        [48.]],\n",
       "\n",
       "       [[37.],\n",
       "        [20.],\n",
       "        [50.],\n",
       "        [33.],\n",
       "        [12.],\n",
       "        [43.],\n",
       "        [ 7.],\n",
       "        [11.],\n",
       "        [49.],\n",
       "        [37.]]])"
      ]
     },
     "execution_count": 59,
     "metadata": {},
     "output_type": "execute_result"
    }
   ],
   "source": [
    "decoder_input_data"
   ]
  },
  {
   "cell_type": "markdown",
   "metadata": {},
   "source": [
    "# Model"
   ]
  },
  {
   "cell_type": "code",
   "execution_count": 60,
   "metadata": {},
   "outputs": [],
   "source": [
    "latent_dim = 128 # LSTM hidden units\n",
    "dropout = 0"
   ]
  },
  {
   "cell_type": "code",
   "execution_count": 61,
   "metadata": {},
   "outputs": [],
   "source": [
    "encoder_inputs = Input(shape=(None, 1)) \n",
    "encoder = LSTM(latent_dim, dropout=dropout, return_state=True)\n",
    "encoder_outputs, state_h, state_c = encoder(encoder_inputs)\n",
    "encoder_states = [state_h, state_c]"
   ]
  },
  {
   "cell_type": "code",
   "execution_count": 62,
   "metadata": {},
   "outputs": [],
   "source": [
    "decoder_inputs = Input(shape=(None, 1)) \n",
    "decoder_lstm = LSTM(latent_dim, dropout=dropout, return_sequences=True, return_state=True)\n",
    "decoder_outputs, _, _ = decoder_lstm(decoder_inputs,\n",
    "                                     initial_state=encoder_states)\n"
   ]
  },
  {
   "cell_type": "code",
   "execution_count": 63,
   "metadata": {},
   "outputs": [],
   "source": [
    "decoder_dense = Dense(1) # 1 continuous output at each timestep\n",
    "decoder_outputs = decoder_dense(decoder_outputs)\n"
   ]
  },
  {
   "cell_type": "code",
   "execution_count": 64,
   "metadata": {},
   "outputs": [],
   "source": [
    "model = Model([encoder_inputs, decoder_inputs], decoder_outputs)"
   ]
  },
  {
   "cell_type": "code",
   "execution_count": 65,
   "metadata": {},
   "outputs": [
    {
     "name": "stdout",
     "output_type": "stream",
     "text": [
      "__________________________________________________________________________________________________\n",
      "Layer (type)                    Output Shape         Param #     Connected to                     \n",
      "==================================================================================================\n",
      "input_9 (InputLayer)            (None, None, 1)      0                                            \n",
      "__________________________________________________________________________________________________\n",
      "input_10 (InputLayer)           (None, None, 1)      0                                            \n",
      "__________________________________________________________________________________________________\n",
      "lstm_3 (LSTM)                   [(None, 128), (None, 66560       input_9[0][0]                    \n",
      "__________________________________________________________________________________________________\n",
      "lstm_4 (LSTM)                   [(None, None, 128),  66560       input_10[0][0]                   \n",
      "                                                                 lstm_3[0][1]                     \n",
      "                                                                 lstm_3[0][2]                     \n",
      "__________________________________________________________________________________________________\n",
      "dense_2 (Dense)                 (None, None, 1)      129         lstm_4[0][0]                     \n",
      "==================================================================================================\n",
      "Total params: 133,249\n",
      "Trainable params: 133,249\n",
      "Non-trainable params: 0\n",
      "__________________________________________________________________________________________________\n"
     ]
    }
   ],
   "source": [
    "model.summary()\n"
   ]
  },
  {
   "cell_type": "markdown",
   "metadata": {},
   "source": [
    "# Compile The Model"
   ]
  },
  {
   "cell_type": "code",
   "execution_count": 66,
   "metadata": {},
   "outputs": [
    {
     "name": "stdout",
     "output_type": "stream",
     "text": [
      "Epoch 1/30\n",
      "10/10 [==============================] - 78s 8s/step - loss: 25.4652\n",
      "Epoch 2/30\n",
      "10/10 [==============================] - 56s 6s/step - loss: 25.0493\n",
      "Epoch 3/30\n",
      "10/10 [==============================] - 57s 6s/step - loss: 24.6684\n",
      "Epoch 4/30\n",
      "10/10 [==============================] - 57s 6s/step - loss: 24.2976\n",
      "Epoch 5/30\n",
      "10/10 [==============================] - 61s 6s/step - loss: 23.9551\n",
      "Epoch 6/30\n",
      "10/10 [==============================] - 67s 7s/step - loss: 23.6473\n",
      "Epoch 7/30\n",
      "10/10 [==============================] - 64s 6s/step - loss: 23.3513\n",
      "Epoch 8/30\n",
      "10/10 [==============================] - 68s 7s/step - loss: 23.0654\n",
      "Epoch 9/30\n",
      "10/10 [==============================] - 62s 6s/step - loss: 22.7812\n",
      "Epoch 10/30\n",
      "10/10 [==============================] - 58s 6s/step - loss: 22.5164\n",
      "Epoch 11/30\n",
      "10/10 [==============================] - 63s 6s/step - loss: 22.2552\n",
      "Epoch 12/30\n",
      "10/10 [==============================] - 70s 7s/step - loss: 21.9925\n",
      "Epoch 13/30\n",
      "10/10 [==============================] - 70s 7s/step - loss: 21.7352\n",
      "Epoch 14/30\n",
      "10/10 [==============================] - 65s 6s/step - loss: 21.4817\n",
      "Epoch 15/30\n",
      "10/10 [==============================] - 63s 6s/step - loss: 21.2209\n",
      "Epoch 16/30\n",
      "10/10 [==============================] - 62s 6s/step - loss: 20.9632\n",
      "Epoch 17/30\n",
      "10/10 [==============================] - 62s 6s/step - loss: 20.7246\n",
      "Epoch 18/30\n",
      "10/10 [==============================] - 64s 6s/step - loss: 20.4910\n",
      "Epoch 19/30\n",
      "10/10 [==============================] - 61s 6s/step - loss: 20.2612\n",
      "Epoch 20/30\n",
      "10/10 [==============================] - 64s 6s/step - loss: 20.0297\n",
      "Epoch 21/30\n",
      "10/10 [==============================] - 57s 6s/step - loss: 19.7963\n",
      "Epoch 22/30\n",
      "10/10 [==============================] - 59s 6s/step - loss: 19.5691\n",
      "Epoch 23/30\n",
      "10/10 [==============================] - 61s 6s/step - loss: 19.3653\n",
      "Epoch 24/30\n",
      "10/10 [==============================] - 66s 7s/step - loss: 19.1740\n",
      "Epoch 25/30\n",
      "10/10 [==============================] - 78s 8s/step - loss: 18.9888\n",
      "Epoch 26/30\n",
      "10/10 [==============================] - 62s 6s/step - loss: 18.8033\n",
      "Epoch 27/30\n",
      "10/10 [==============================] - 60s 6s/step - loss: 18.6254\n",
      "Epoch 28/30\n",
      "10/10 [==============================] - 59s 6s/step - loss: 18.4476\n",
      "Epoch 29/30\n",
      "10/10 [==============================] - 63s 6s/step - loss: 18.2750\n",
      "Epoch 30/30\n",
      "10/10 [==============================] - 208s 21s/step - loss: 18.1093\n"
     ]
    }
   ],
   "source": [
    "model.compile(Adam(), loss='mean_absolute_error')\n",
    "history = model.fit([encoder_input_data, decoder_input_data], decoder_target_data,batch_size=batch_size,epochs=30)"
   ]
  },
  {
   "cell_type": "markdown",
   "metadata": {},
   "source": [
    "# Testing The Model "
   ]
  },
  {
   "cell_type": "code",
   "execution_count": 67,
   "metadata": {},
   "outputs": [],
   "source": [
    "encoder_model = Model(encoder_inputs, encoder_states)\n",
    "pred_steps = 10\n",
    "# A modified version of the decoding stage that takes in predicted target inputs\n",
    "# and encoded state vectors, returning predicted target outputs and decoder state vectors.\n",
    "# We need to hang onto these state vectors to run the next step of the inference loop.\n",
    "decoder_state_input_h = Input(shape=(latent_dim,))\n",
    "decoder_state_input_c = Input(shape=(latent_dim,))\n",
    "decoder_states_inputs = [decoder_state_input_h, decoder_state_input_c]\n",
    "\n",
    "decoder_outputs, state_h, state_c = decoder_lstm(decoder_inputs, initial_state=decoder_states_inputs)\n",
    "decoder_states = [state_h, state_c]\n",
    "\n",
    "decoder_outputs = decoder_dense(decoder_outputs)\n",
    "decoder_model = Model([decoder_inputs] + decoder_states_inputs,\n",
    "                      [decoder_outputs] + decoder_states)\n",
    "\n",
    "def decode_sequence(input_seq):\n",
    "    \n",
    "    # Encode the input as state vectors.\n",
    "    states_value = encoder_model.predict(input_seq)\n",
    "\n",
    "    # Generate empty target sequence of length 1.\n",
    "    target_seq = np.zeros((1, 1, 1))\n",
    "    \n",
    "    # Populate the first target sequence with end of encoding series pageviews\n",
    "    target_seq[0, 0, 0] = input_seq[0, -1, 0]\n",
    "\n",
    "    # Sampling loop for a batch of sequences - we will fill decoded_seq with predictions\n",
    "    # (to simplify, here we assume a batch of size 1).\n",
    "\n",
    "    decoded_seq = np.zeros((1,pred_steps,1))\n",
    "    for i in range(pred_steps):\n",
    "        \n",
    "        output, h, c = decoder_model.predict([target_seq] + states_value)\n",
    "        \n",
    "        decoded_seq[0,i,0] = output[0,0,0]\n",
    "\n",
    "        # Update the target sequence (of length 1).\n",
    "        target_seq = np.zeros((1, 1, 1))\n",
    "        target_seq[0, 0, 0] = output[0,0,0]\n",
    "\n",
    "        # Update states\n",
    "        states_value = [h, c]\n",
    "\n",
    "    return decoded_seq"
   ]
  },
  {
   "cell_type": "code",
   "execution_count": null,
   "metadata": {},
   "outputs": [],
   "source": []
  },
  {
   "cell_type": "code",
   "execution_count": null,
   "metadata": {},
   "outputs": [],
   "source": []
  },
  {
   "cell_type": "code",
   "execution_count": 80,
   "metadata": {},
   "outputs": [],
   "source": [
    "sample = req[200000:220000].reshape(1,20000,1)\n"
   ]
  },
  {
   "cell_type": "code",
   "execution_count": 81,
   "metadata": {},
   "outputs": [
    {
     "data": {
      "text/plain": [
       "array([[[ 8.43196487],\n",
       "        [ 9.91250706],\n",
       "        [10.57084465],\n",
       "        [10.75850582],\n",
       "        [10.79717255],\n",
       "        [10.78395462],\n",
       "        [10.73087311],\n",
       "        [10.66273499],\n",
       "        [10.59674835],\n",
       "        [10.53757477]]])"
      ]
     },
     "execution_count": 81,
     "metadata": {},
     "output_type": "execute_result"
    }
   ],
   "source": [
    "prediction = decode_sequence(sample)\n",
    "prediction"
   ]
  },
  {
   "cell_type": "code",
   "execution_count": 82,
   "metadata": {},
   "outputs": [
    {
     "data": {
      "text/plain": [
       "array([17., 35., 50.,  8., 12.,  8., 13., 34., 50.])"
      ]
     },
     "execution_count": 82,
     "metadata": {},
     "output_type": "execute_result"
    }
   ],
   "source": [
    "req[220001:220010]"
   ]
  },
  {
   "cell_type": "code",
   "execution_count": 89,
   "metadata": {},
   "outputs": [],
   "source": [
    "# to find the popularity of predicted req\n",
    "def fre(id):\n",
    "    freq = 0\n",
    "    for i in range(220001,len(req)):\n",
    "        if req[i] == id:\n",
    "            freq += 1\n",
    "    return freq              "
   ]
  },
  {
   "cell_type": "code",
   "execution_count": 90,
   "metadata": {},
   "outputs": [
    {
     "data": {
      "text/plain": [
       "4085"
      ]
     },
     "execution_count": 90,
     "metadata": {},
     "output_type": "execute_result"
    }
   ],
   "source": [
    "fre(8)"
   ]
  },
  {
   "cell_type": "code",
   "execution_count": 91,
   "metadata": {},
   "outputs": [
    {
     "data": {
      "text/plain": [
       "706"
      ]
     },
     "execution_count": 91,
     "metadata": {},
     "output_type": "execute_result"
    }
   ],
   "source": [
    "fre(9)"
   ]
  },
  {
   "cell_type": "code",
   "execution_count": null,
   "metadata": {},
   "outputs": [],
   "source": [
    "frq(10)"
   ]
  },
  {
   "cell_type": "code",
   "execution_count": 92,
   "metadata": {},
   "outputs": [
    {
     "data": {
      "text/plain": [
       "996"
      ]
     },
     "execution_count": 92,
     "metadata": {},
     "output_type": "execute_result"
    }
   ],
   "source": [
    "fre(11)"
   ]
  },
  {
   "cell_type": "code",
   "execution_count": null,
   "metadata": {},
   "outputs": [],
   "source": [
    "freq = []\n",
    "for i in range(len(req)):\n",
    "    freq.append(fre(req[i]))\n",
    "    "
   ]
  },
  {
   "cell_type": "code",
   "execution_count": null,
   "metadata": {},
   "outputs": [],
   "source": [
    "freq = np.array(freq)"
   ]
  },
  {
   "cell_type": "code",
   "execution_count": null,
   "metadata": {},
   "outputs": [],
   "source": [
    "print(np.min(freq),np.max(freq))"
   ]
  },
  {
   "cell_type": "code",
   "execution_count": null,
   "metadata": {},
   "outputs": [],
   "source": []
  }
 ],
 "metadata": {
  "kernelspec": {
   "display_name": "Python 3",
   "language": "python",
   "name": "python3"
  },
  "language_info": {
   "codemirror_mode": {
    "name": "ipython",
    "version": 3
   },
   "file_extension": ".py",
   "mimetype": "text/x-python",
   "name": "python",
   "nbconvert_exporter": "python",
   "pygments_lexer": "ipython3",
   "version": "3.7.4"
  }
 },
 "nbformat": 4,
 "nbformat_minor": 2
}
