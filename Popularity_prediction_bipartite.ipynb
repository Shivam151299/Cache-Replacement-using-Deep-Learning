{
  "nbformat": 4,
  "nbformat_minor": 0,
  "metadata": {
    "colab": {
      "name": "Popularity prediction_bipartite",
      "provenance": []
    },
    "kernelspec": {
      "name": "python3",
      "display_name": "Python 3"
    }
  },
  "cells": [
    {
      "cell_type": "code",
      "metadata": {
        "id": "hwluSTbYnuIQ",
        "colab_type": "code",
        "outputId": "1c964b71-4ffe-44b1-ccb6-6fa9083e8ee2",
        "colab": {
          "base_uri": "https://localhost:8080/",
          "height": 33
        }
      },
      "source": [
        "from random import randint\n",
        "from numpy import array\n",
        "import numpy as np\n",
        "from numpy import random\n",
        "from keras.models import Model\n",
        "from scipy.optimize import linprog\n",
        "from keras.layers import Input\n",
        "from keras.layers import LSTM\n",
        "from keras.layers import Dense\n",
        "import matplotlib.pyplot as plt\n",
        "from keras.optimizers import Adam\n",
        "\n",
        "%matplotlib inline"
      ],
      "execution_count": 6,
      "outputs": [
        {
          "output_type": "stream",
          "text": [
            "Using TensorFlow backend.\n"
          ],
          "name": "stderr"
        }
      ]
    },
    {
      "cell_type": "markdown",
      "metadata": {
        "id": "7zkdp1xHozgk",
        "colab_type": "text"
      },
      "source": [
        "DATA"
      ]
    },
    {
      "cell_type": "code",
      "metadata": {
        "id": "GCzc8mIhoA3X",
        "colab_type": "code",
        "colab": {}
      },
      "source": [
        "data = []\n",
        "with open('/content/drive/My Drive/request_seq.txt' , errors='ignore' ) as fin:\n",
        "    fin.seek(0)\n",
        "    d = fin.read(100000000) "
      ],
      "execution_count": 0,
      "outputs": []
    },
    {
      "cell_type": "code",
      "metadata": {
        "id": "aHVp28IzoDfW",
        "colab_type": "code",
        "outputId": "e9186d2d-e435-4ad9-9052-5448feec689e",
        "colab": {
          "base_uri": "https://localhost:8080/",
          "height": 33
        }
      },
      "source": [
        "#Data is continous sequence.Each segment in the sequence separated by '\\n'\n",
        "#Each segment contains 3 items: number of request, request ID and size of requested file.\n",
        "d[:100]"
      ],
      "execution_count": 8,
      "outputs": [
        {
          "output_type": "execute_result",
          "data": {
            "text/plain": [
              "'1 778030675 13539\\n2 3484637698 17635\\n3 1130267045 152\\n4 3423744231 616\\n5 203613471 121\\n6 1342928892 '"
            ]
          },
          "metadata": {
            "tags": []
          },
          "execution_count": 8
        }
      ]
    },
    {
      "cell_type": "code",
      "metadata": {
        "id": "exT5bSzNoGAt",
        "colab_type": "code",
        "outputId": "3bd89ff6-42f0-4605-c532-398792db53e9",
        "colab": {
          "base_uri": "https://localhost:8080/",
          "height": 184
        }
      },
      "source": [
        "#Spliting the continous sequence\n",
        "data = d.split()\n",
        "data[:10]"
      ],
      "execution_count": 9,
      "outputs": [
        {
          "output_type": "execute_result",
          "data": {
            "text/plain": [
              "['1',\n",
              " '778030675',\n",
              " '13539',\n",
              " '2',\n",
              " '3484637698',\n",
              " '17635',\n",
              " '3',\n",
              " '1130267045',\n",
              " '152',\n",
              " '4']"
            ]
          },
          "metadata": {
            "tags": []
          },
          "execution_count": 9
        }
      ]
    },
    {
      "cell_type": "code",
      "metadata": {
        "id": "vIlc5xD5oIRD",
        "colab_type": "code",
        "outputId": "a7827527-1e1b-40f5-c69d-7f26fb2fcafd",
        "colab": {
          "base_uri": "https://localhost:8080/",
          "height": 33
        }
      },
      "source": [
        "del d\n",
        "len(data)"
      ],
      "execution_count": 10,
      "outputs": [
        {
          "output_type": "execute_result",
          "data": {
            "text/plain": [
              "12722261"
            ]
          },
          "metadata": {
            "tags": []
          },
          "execution_count": 10
        }
      ]
    },
    {
      "cell_type": "code",
      "metadata": {
        "id": "W9nu2QU5oJ5R",
        "colab_type": "code",
        "outputId": "8bbfc879-bb10-4124-b214-c3d0ed9511b6",
        "colab": {
          "base_uri": "https://localhost:8080/",
          "height": 33
        }
      },
      "source": [
        "#We are interested in number of request and request id.\n",
        "req = []\n",
        "for i in range(len(data)):\n",
        "  r = []\n",
        "  if (i-1)%3 == 0 and len(req)<2005000:\n",
        "    r.append(data[i])\n",
        "    #To convert string into real numbers. \n",
        "    temp = 0\n",
        "    for j in range(len(r[0])):\n",
        "      temp = temp + int(r[0][j])*pow(10,len(r[0])-j-1)\n",
        "    req.append(temp)\n",
        "\n",
        "req = np.array(req)\n",
        "req.shape"
      ],
      "execution_count": 11,
      "outputs": [
        {
          "output_type": "execute_result",
          "data": {
            "text/plain": [
              "(2005000,)"
            ]
          },
          "metadata": {
            "tags": []
          },
          "execution_count": 11
        }
      ]
    },
    {
      "cell_type": "code",
      "metadata": {
        "id": "qz2wQM7OoLW5",
        "colab_type": "code",
        "outputId": "03fedbcf-6f6a-4467-de35-bf8061ebf80a",
        "colab": {
          "base_uri": "https://localhost:8080/",
          "height": 33
        }
      },
      "source": [
        "id, req1 = np.unique(req, return_inverse= True)\n",
        "print(len(id))"
      ],
      "execution_count": 12,
      "outputs": [
        {
          "output_type": "stream",
          "text": [
            "763307\n"
          ],
          "name": "stdout"
        }
      ]
    },
    {
      "cell_type": "code",
      "metadata": {
        "id": "yOstRzJHoNWJ",
        "colab_type": "code",
        "outputId": "d0efb4ef-c329-4ec8-d955-2a1fa5d2ac12",
        "colab": {
          "base_uri": "https://localhost:8080/",
          "height": 33
        }
      },
      "source": [
        "#To find the range of request id\n",
        "min = np.min(req1)\n",
        "max = np.max(req1)\n",
        "min,max"
      ],
      "execution_count": 13,
      "outputs": [
        {
          "output_type": "execute_result",
          "data": {
            "text/plain": [
              "(0, 763306)"
            ]
          },
          "metadata": {
            "tags": []
          },
          "execution_count": 13
        }
      ]
    },
    {
      "cell_type": "code",
      "metadata": {
        "id": "vYUKWiZYoO-u",
        "colab_type": "code",
        "colab": {
          "base_uri": "https://localhost:8080/",
          "height": 33
        },
        "outputId": "4f5f6b23-99c4-4fbb-d533-18d258152ea8"
      },
      "source": [
        "# To reduce total numbers of ID\n",
        "id = 100\n",
        "factor = (max - min)/(id-1)\n",
        "req = []\n",
        "for i in range(len(req1)):\n",
        "  req.append(int(np.divide(req1[i],factor)))\n",
        "req = np.array(req)\n",
        "req.shape"
      ],
      "execution_count": 14,
      "outputs": [
        {
          "output_type": "execute_result",
          "data": {
            "text/plain": [
              "(2005000,)"
            ]
          },
          "metadata": {
            "tags": []
          },
          "execution_count": 14
        }
      ]
    },
    {
      "cell_type": "code",
      "metadata": {
        "id": "H1S7hvmtoUhB",
        "colab_type": "code",
        "colab": {}
      },
      "source": [
        "del  req1,temp, data, r"
      ],
      "execution_count": 0,
      "outputs": []
    },
    {
      "cell_type": "code",
      "metadata": {
        "id": "QvxyeZjroWb1",
        "colab_type": "code",
        "outputId": "7b8f53e0-fea8-4363-e958-e888a7d966ce",
        "colab": {
          "base_uri": "https://localhost:8080/",
          "height": 33
        }
      },
      "source": [
        "count = np.zeros(id)\n",
        "for i in range(1000):\n",
        "    count[int(req[i])] += 1\n",
        "count.shape"
      ],
      "execution_count": 16,
      "outputs": [
        {
          "output_type": "execute_result",
          "data": {
            "text/plain": [
              "(100,)"
            ]
          },
          "metadata": {
            "tags": []
          },
          "execution_count": 16
        }
      ]
    },
    {
      "cell_type": "code",
      "metadata": {
        "id": "w5oAFVTfoZ6N",
        "colab_type": "code",
        "colab": {}
      },
      "source": [
        "prob = np.zeros((len(req)-1000,id), dtype = 'f4')"
      ],
      "execution_count": 0,
      "outputs": []
    },
    {
      "cell_type": "code",
      "metadata": {
        "id": "PEU_k5Ugobce",
        "colab_type": "code",
        "colab": {}
      },
      "source": [
        "for i in range(len(req)-1000):\n",
        "  count[int(req[i+1000])] += 1\n",
        "  count[int(req[i])] -= 1\n",
        "  prob[i] = count/1000"
      ],
      "execution_count": 0,
      "outputs": []
    },
    {
      "cell_type": "code",
      "metadata": {
        "id": "ZYZIfTFFmL6z",
        "colab_type": "code",
        "colab": {
          "base_uri": "https://localhost:8080/",
          "height": 33
        },
        "outputId": "97f4cda4-0b6d-4888-e2d7-f6211aa4c3b9"
      },
      "source": [
        "prob.shape"
      ],
      "execution_count": 19,
      "outputs": [
        {
          "output_type": "execute_result",
          "data": {
            "text/plain": [
              "(2004000, 100)"
            ]
          },
          "metadata": {
            "tags": []
          },
          "execution_count": 19
        }
      ]
    },
    {
      "cell_type": "code",
      "metadata": {
        "id": "OEmziDjPodHm",
        "colab_type": "code",
        "colab": {}
      },
      "source": [
        "del count"
      ],
      "execution_count": 0,
      "outputs": []
    },
    {
      "cell_type": "code",
      "metadata": {
        "id": "SKBUAuz6oenG",
        "colab_type": "code",
        "outputId": "afaa6f0d-2ca2-476c-eec3-1cb1db8d441b",
        "colab": {
          "base_uri": "https://localhost:8080/",
          "height": 33
        }
      },
      "source": [
        "sample = 100\n",
        "K = 10\n",
        "encoder_input_data = prob[:2000000,:].reshape(sample,-1,id) # total samples = 100\n",
        "batch_size = 20000\n",
        "decoder_target_data = []\n",
        "for i in range(1,sample + 1):\n",
        "    temp = []\n",
        "    for j in range(K): # to predict next 10 req for every batch\n",
        "        temp.append(prob[int((batch_size*i) + j),:])\n",
        "    decoder_target_data.append(temp)    \n",
        "decoder_target_data = np.array(decoder_target_data).reshape(sample,K,id)\n",
        "\n",
        "print(encoder_input_data.shape,decoder_target_data.shape)"
      ],
      "execution_count": 21,
      "outputs": [
        {
          "output_type": "stream",
          "text": [
            "(100, 20000, 100) (100, 10, 100)\n"
          ],
          "name": "stdout"
        }
      ]
    },
    {
      "cell_type": "code",
      "metadata": {
        "id": "P5IGggDoohgC",
        "colab_type": "code",
        "outputId": "d8aa721c-ba46-46c4-e70d-93f577f79920",
        "colab": {
          "base_uri": "https://localhost:8080/",
          "height": 33
        }
      },
      "source": [
        "decoder_input_data = np.zeros(decoder_target_data.shape)\n",
        "decoder_input_data[1:,:,:] = decoder_target_data[:-1,:,:]\n",
        "decoder_input_data[0,:,:] = encoder_input_data[-1,-1,:]\n",
        "decoder_input_data.shape"
      ],
      "execution_count": 22,
      "outputs": [
        {
          "output_type": "execute_result",
          "data": {
            "text/plain": [
              "(100, 10, 100)"
            ]
          },
          "metadata": {
            "tags": []
          },
          "execution_count": 22
        }
      ]
    },
    {
      "cell_type": "markdown",
      "metadata": {
        "id": "9so2j5Meoxjt",
        "colab_type": "text"
      },
      "source": [
        "MODEL"
      ]
    },
    {
      "cell_type": "code",
      "metadata": {
        "id": "7n6F4Zi7ojwS",
        "colab_type": "code",
        "colab": {}
      },
      "source": [
        "latent_dim = 128 # LSTM hidden units\n",
        "dropout = 0.1"
      ],
      "execution_count": 0,
      "outputs": []
    },
    {
      "cell_type": "code",
      "metadata": {
        "id": "E3Hh5kopoljB",
        "colab_type": "code",
        "outputId": "335eeee7-84f6-403c-94d4-5b2c784050c6",
        "colab": {
          "base_uri": "https://localhost:8080/",
          "height": 351
        }
      },
      "source": [
        "encoder_inputs = Input(shape=(None, id)) \n",
        "encoder = LSTM(latent_dim, dropout=dropout, return_state=True)\n",
        "encoder_outputs, state_h, state_c = encoder(encoder_inputs)\n",
        "encoder_states = [state_h, state_c]\n",
        "\n",
        "decoder_inputs = Input(shape=(None, id)) \n",
        "decoder_lstm = LSTM(latent_dim, dropout=dropout, return_sequences=True, return_state=True)\n",
        "decoder_outputs, _, _ = decoder_lstm(decoder_inputs,initial_state=encoder_states)\n",
        "decoder_outputs = Dense(id, activation='softmax')(decoder_outputs)\n",
        "model = Model([encoder_inputs, decoder_inputs], decoder_outputs)\n",
        "model.summary()"
      ],
      "execution_count": 24,
      "outputs": [
        {
          "output_type": "stream",
          "text": [
            "Model: \"model_1\"\n",
            "__________________________________________________________________________________________________\n",
            "Layer (type)                    Output Shape         Param #     Connected to                     \n",
            "==================================================================================================\n",
            "input_1 (InputLayer)            (None, None, 100)    0                                            \n",
            "__________________________________________________________________________________________________\n",
            "input_2 (InputLayer)            (None, None, 100)    0                                            \n",
            "__________________________________________________________________________________________________\n",
            "lstm_1 (LSTM)                   [(None, 128), (None, 117248      input_1[0][0]                    \n",
            "__________________________________________________________________________________________________\n",
            "lstm_2 (LSTM)                   [(None, None, 128),  117248      input_2[0][0]                    \n",
            "                                                                 lstm_1[0][1]                     \n",
            "                                                                 lstm_1[0][2]                     \n",
            "__________________________________________________________________________________________________\n",
            "dense_1 (Dense)                 (None, None, 100)    12900       lstm_2[0][0]                     \n",
            "==================================================================================================\n",
            "Total params: 247,396\n",
            "Trainable params: 247,396\n",
            "Non-trainable params: 0\n",
            "__________________________________________________________________________________________________\n"
          ],
          "name": "stdout"
        }
      ]
    },
    {
      "cell_type": "code",
      "metadata": {
        "id": "HYutO5IKom6x",
        "colab_type": "code",
        "outputId": "5cf78dca-c788-4fb6-f8b1-8fa5aa134a59",
        "colab": {
          "base_uri": "https://localhost:8080/",
          "height": 1000
        }
      },
      "source": [
        "model.compile(Adam(), loss='mean_squared_error')\n",
        "history = model.fit([encoder_input_data, decoder_input_data], decoder_target_data,batch_size=batch_size,epochs=30)"
      ],
      "execution_count": 25,
      "outputs": [
        {
          "output_type": "stream",
          "text": [
            "Epoch 1/30\n",
            "100/100 [==============================] - 64s 645ms/step - loss: 1.2796e-05\n",
            "Epoch 2/30\n",
            "100/100 [==============================] - 63s 627ms/step - loss: 1.2791e-05\n",
            "Epoch 3/30\n",
            "100/100 [==============================] - 63s 631ms/step - loss: 1.2782e-05\n",
            "Epoch 4/30\n",
            "100/100 [==============================] - 64s 637ms/step - loss: 1.2774e-05\n",
            "Epoch 5/30\n",
            "100/100 [==============================] - 63s 631ms/step - loss: 1.2765e-05\n",
            "Epoch 6/30\n",
            "100/100 [==============================] - 63s 631ms/step - loss: 1.2752e-05\n",
            "Epoch 7/30\n",
            "100/100 [==============================] - 63s 631ms/step - loss: 1.2744e-05\n",
            "Epoch 8/30\n",
            "100/100 [==============================] - 63s 631ms/step - loss: 1.2729e-05\n",
            "Epoch 9/30\n",
            "100/100 [==============================] - 66s 655ms/step - loss: 1.2717e-05\n",
            "Epoch 10/30\n",
            "100/100 [==============================] - 66s 658ms/step - loss: 1.2707e-05\n",
            "Epoch 11/30\n",
            "100/100 [==============================] - 64s 637ms/step - loss: 1.2693e-05\n",
            "Epoch 12/30\n",
            "100/100 [==============================] - 63s 635ms/step - loss: 1.2678e-05\n",
            "Epoch 13/30\n",
            "100/100 [==============================] - 64s 638ms/step - loss: 1.2667e-05\n",
            "Epoch 14/30\n",
            "100/100 [==============================] - 64s 638ms/step - loss: 1.2654e-05\n",
            "Epoch 15/30\n",
            "100/100 [==============================] - 63s 635ms/step - loss: 1.2636e-05\n",
            "Epoch 16/30\n",
            "100/100 [==============================] - 64s 637ms/step - loss: 1.2619e-05\n",
            "Epoch 17/30\n",
            "100/100 [==============================] - 64s 637ms/step - loss: 1.2606e-05\n",
            "Epoch 18/30\n",
            "100/100 [==============================] - 64s 636ms/step - loss: 1.2593e-05\n",
            "Epoch 19/30\n",
            "100/100 [==============================] - 65s 647ms/step - loss: 1.2577e-05\n",
            "Epoch 20/30\n",
            "100/100 [==============================] - 64s 639ms/step - loss: 1.2560e-05\n",
            "Epoch 21/30\n",
            "100/100 [==============================] - 64s 637ms/step - loss: 1.2546e-05\n",
            "Epoch 22/30\n",
            "100/100 [==============================] - 64s 640ms/step - loss: 1.2531e-05\n",
            "Epoch 23/30\n",
            "100/100 [==============================] - 67s 673ms/step - loss: 1.2513e-05\n",
            "Epoch 24/30\n",
            "100/100 [==============================] - 65s 645ms/step - loss: 1.2497e-05\n",
            "Epoch 25/30\n",
            "100/100 [==============================] - 63s 635ms/step - loss: 1.2481e-05\n",
            "Epoch 26/30\n",
            "100/100 [==============================] - 64s 637ms/step - loss: 1.2466e-05\n",
            "Epoch 27/30\n",
            "100/100 [==============================] - 64s 641ms/step - loss: 1.2450e-05\n",
            "Epoch 28/30\n",
            "100/100 [==============================] - 66s 655ms/step - loss: 1.2434e-05\n",
            "Epoch 29/30\n",
            "100/100 [==============================] - 66s 659ms/step - loss: 1.2415e-05\n",
            "Epoch 30/30\n",
            "100/100 [==============================] - 64s 642ms/step - loss: 1.2397e-05\n"
          ],
          "name": "stdout"
        }
      ]
    },
    {
      "cell_type": "markdown",
      "metadata": {
        "id": "N2iC30YYotAE",
        "colab_type": "text"
      },
      "source": [
        "FUTURE REQUEST PREDICTION"
      ]
    },
    {
      "cell_type": "code",
      "metadata": {
        "id": "1LQFJ-OKopQU",
        "colab_type": "code",
        "colab": {}
      },
      "source": [
        "encoder_model = Model(encoder_inputs, encoder_states)\n",
        "pred_steps = K\n",
        "\n",
        "decoder_state_input_h = Input(shape=(latent_dim,))\n",
        "decoder_state_input_c = Input(shape=(latent_dim,))\n",
        "decoder_states_inputs = [decoder_state_input_h, decoder_state_input_c]\n",
        "\n",
        "decoder_outputs, state_h, state_c = decoder_lstm(decoder_inputs, initial_state=decoder_states_inputs)\n",
        "decoder_states = [state_h, state_c]\n",
        "\n",
        "decoder_outputs = Dense(id, activation='softmax')(decoder_outputs)\n",
        "decoder_model = Model([decoder_inputs] + decoder_states_inputs,\n",
        "                      [decoder_outputs] + decoder_states)"
      ],
      "execution_count": 0,
      "outputs": []
    },
    {
      "cell_type": "code",
      "metadata": {
        "id": "Dik8yZZMorji",
        "colab_type": "code",
        "colab": {}
      },
      "source": [
        "def decode_sequence(input_seq):\n",
        "    \n",
        "    # Encode the input as state vectors.\n",
        "    states_value = encoder_model.predict(input_seq)\n",
        "\n",
        "    # Generate empty target sequence of length 1.\n",
        "    target_seq = np.zeros((1, 1, id))\n",
        "    \n",
        "    # Populate the first target sequence with end of encoding series pageviews\n",
        "    target_seq[0, 0, :] = input_seq[0, -1, :]\n",
        "\n",
        "    # Sampling loop for a batch of sequences - we will fill decoded_seq with predictions\n",
        "    # (to simplify, here we assume a batch of size 1).\n",
        "\n",
        "    decoded_seq = np.zeros((1,pred_steps,id))\n",
        "    for i in range(pred_steps):\n",
        "        \n",
        "        output, h, c = decoder_model.predict([target_seq] + states_value)\n",
        "        \n",
        "        decoded_seq[0,i,:] = output[0,0,:]\n",
        "\n",
        "        # Update the target sequence (of length 1).\n",
        "        target_seq = np.zeros((1, 1, id))\n",
        "        target_seq[0, 0, :] = output[0,0,:]\n",
        "\n",
        "        # Update states\n",
        "        states_value = [h, c]\n",
        "\n",
        "    return decoded_seq"
      ],
      "execution_count": 0,
      "outputs": []
    },
    {
      "cell_type": "code",
      "metadata": {
        "id": "MDeeF1X1o3gh",
        "colab_type": "code",
        "outputId": "0f9890c2-47be-4043-dd8e-c4cb6029bea3",
        "colab": {
          "base_uri": "https://localhost:8080/",
          "height": 33
        }
      },
      "source": [
        "n = int((len(prob) - batch_size)/5000)\n",
        "n"
      ],
      "execution_count": 35,
      "outputs": [
        {
          "output_type": "execute_result",
          "data": {
            "text/plain": [
              "396"
            ]
          },
          "metadata": {
            "tags": []
          },
          "execution_count": 35
        }
      ]
    },
    {
      "cell_type": "code",
      "metadata": {
        "id": "u-B8yoHLo6MZ",
        "colab_type": "code",
        "outputId": "f0fd39fa-056b-40a1-a043-c8fa4d4eefbb",
        "colab": {
          "base_uri": "https://localhost:8080/",
          "height": 100
        }
      },
      "source": [
        "prediction = []\n",
        "for i in range(5000):\n",
        "    if i%1000 == 0:\n",
        "        print(i)\n",
        "    prediction.append(decode_sequence(prob[i*n:i*n + batch_size,:].reshape(1,batch_size,id)))"
      ],
      "execution_count": 36,
      "outputs": [
        {
          "output_type": "stream",
          "text": [
            "0\n",
            "1000\n",
            "2000\n",
            "3000\n",
            "4000\n"
          ],
          "name": "stdout"
        }
      ]
    },
    {
      "cell_type": "code",
      "metadata": {
        "id": "wxXw6JoCo71Q",
        "colab_type": "code",
        "outputId": "d09639dc-e93a-4c50-a4e0-2f6016958dc8",
        "colab": {
          "base_uri": "https://localhost:8080/",
          "height": 33
        }
      },
      "source": [
        "prediction = np.array(prediction).reshape(5000,K,id)\n",
        "prediction.shape"
      ],
      "execution_count": 37,
      "outputs": [
        {
          "output_type": "execute_result",
          "data": {
            "text/plain": [
              "(5000, 10, 100)"
            ]
          },
          "metadata": {
            "tags": []
          },
          "execution_count": 37
        }
      ]
    },
    {
      "cell_type": "markdown",
      "metadata": {
        "id": "RDfL2ubwpAex",
        "colab_type": "text"
      },
      "source": [
        "GENERATION OF FAKE REQUESTS"
      ]
    },
    {
      "cell_type": "code",
      "metadata": {
        "id": "GHhr_3doo-Bd",
        "colab_type": "code",
        "outputId": "ac3d0fb2-3233-467b-8860-5c107d85318c",
        "colab": {
          "base_uri": "https://localhost:8080/",
          "height": 33
        }
      },
      "source": [
        "fake_req = []\n",
        "for i in range(5000):\n",
        "    temp1 = []\n",
        "    for j in range(K):\n",
        "        temp = []\n",
        "        for k in range(id):\n",
        "             temp = (-prediction[i,j]).argsort()[:5]\n",
        "        for k in range(5):\n",
        "            temp1.append(temp[k]) \n",
        "    fake_req.append(temp1)        \n",
        "fake_req = np.array(fake_req) \n",
        "fake_req.shape"
      ],
      "execution_count": 41,
      "outputs": [
        {
          "output_type": "execute_result",
          "data": {
            "text/plain": [
              "(5000, 50)"
            ]
          },
          "metadata": {
            "tags": []
          },
          "execution_count": 41
        }
      ]
    },
    {
      "cell_type": "code",
      "metadata": {
        "id": "qvauvpbc72t-",
        "colab_type": "code",
        "colab": {
          "base_uri": "https://localhost:8080/",
          "height": 33
        },
        "outputId": "8becc4ac-ba3b-4667-ef67-9ebbcad20771"
      },
      "source": [
        "len(req) + 5000*50"
      ],
      "execution_count": 53,
      "outputs": [
        {
          "output_type": "execute_result",
          "data": {
            "text/plain": [
              "2255000"
            ]
          },
          "metadata": {
            "tags": []
          },
          "execution_count": 53
        }
      ]
    },
    {
      "cell_type": "code",
      "metadata": {
        "id": "49h9F8AwpFoc",
        "colab_type": "code",
        "colab": {
          "base_uri": "https://localhost:8080/",
          "height": 33
        },
        "outputId": "4e85e067-1cbe-4988-b7ff-8915fc424be0"
      },
      "source": [
        "gen_req = []\n",
        "for i in range(batch_size):\n",
        "    gen_req.append(req[i])\n",
        "for i in range(50):\n",
        "    gen_req.append(fake_req[0][i])\n",
        "for i in range(5000):\n",
        "    for j in range(n + 51):\n",
        "        if j <= n:\n",
        "            gen_req.append(req[batch_size + j + n*i])\n",
        "        elif(i>0):\n",
        "            gen_req.append(fake_req[i-1,j-n-1])\n",
        "gen_req = np.array(gen_req)\n",
        "gen_req.shape"
      ],
      "execution_count": 69,
      "outputs": [
        {
          "output_type": "execute_result",
          "data": {
            "text/plain": [
              "(2255000,)"
            ]
          },
          "metadata": {
            "tags": []
          },
          "execution_count": 69
        }
      ]
    },
    {
      "cell_type": "code",
      "metadata": {
        "id": "RgS64oCwpHkk",
        "colab_type": "code",
        "outputId": "e83e8bb2-fa86-4e0f-86ac-b56daa1cc72f",
        "colab": {
          "base_uri": "https://localhost:8080/",
          "height": 33
        }
      },
      "source": [
        "gen_req = np.array(gen_req)\n",
        "gen_req.shape"
      ],
      "execution_count": 70,
      "outputs": [
        {
          "output_type": "execute_result",
          "data": {
            "text/plain": [
              "(2255000,)"
            ]
          },
          "metadata": {
            "tags": []
          },
          "execution_count": 70
        }
      ]
    },
    {
      "cell_type": "code",
      "metadata": {
        "id": "kAGlVrIfpJtT",
        "colab_type": "code",
        "outputId": "5db55e48-b4c8-4b8a-8d61-c818af1f57e8",
        "colab": {
          "base_uri": "https://localhost:8080/",
          "height": 33
        }
      },
      "source": [
        "req.shape"
      ],
      "execution_count": 71,
      "outputs": [
        {
          "output_type": "execute_result",
          "data": {
            "text/plain": [
              "(2005000,)"
            ]
          },
          "metadata": {
            "tags": []
          },
          "execution_count": 71
        }
      ]
    },
    {
      "cell_type": "code",
      "metadata": {
        "id": "o3Z9fAhypbxb",
        "colab_type": "code",
        "colab": {}
      },
      "source": [
        "np.save('req',req)\n",
        "np.save('gen_req',gen_req)"
      ],
      "execution_count": 0,
      "outputs": []
    }
  ]
}