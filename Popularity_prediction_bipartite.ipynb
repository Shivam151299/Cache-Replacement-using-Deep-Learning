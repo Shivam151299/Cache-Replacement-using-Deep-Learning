{
  "nbformat": 4,
  "nbformat_minor": 0,
  "metadata": {
    "colab": {
      "name": "Popularity prediction_bipartite",
      "provenance": []
    },
    "kernelspec": {
      "name": "python3",
      "display_name": "Python 3"
    }
  },
  "cells": [
    {
      "cell_type": "code",
      "metadata": {
        "id": "hwluSTbYnuIQ",
        "colab_type": "code",
        "colab": {}
      },
      "source": [
        "from random import randint\n",
        "from numpy import array\n",
        "import numpy as np\n",
        "from numpy import random\n",
        "from keras.models import Model\n",
        "from scipy.optimize import linprog\n",
        "from keras.layers import Input\n",
        "from keras.layers import LSTM\n",
        "from keras.layers import Dense\n",
        "import matplotlib.pyplot as plt\n",
        "from keras.optimizers import Adam\n",
        "\n",
        "%matplotlib inline"
      ],
      "execution_count": 0,
      "outputs": []
    },
    {
      "cell_type": "markdown",
      "metadata": {
        "id": "7zkdp1xHozgk",
        "colab_type": "text"
      },
      "source": [
        "DATA"
      ]
    },
    {
      "cell_type": "code",
      "metadata": {
        "id": "GCzc8mIhoA3X",
        "colab_type": "code",
        "colab": {}
      },
      "source": [
        "data = []\n",
        "with open('/content/drive/My Drive/request_seq.txt' , errors='ignore' ) as fin:\n",
        "    fin.seek(0)\n",
        "    d = fin.read(100000000) "
      ],
      "execution_count": 0,
      "outputs": []
    },
    {
      "cell_type": "code",
      "metadata": {
        "id": "aHVp28IzoDfW",
        "colab_type": "code",
        "outputId": "9471c6da-ece4-4c43-dec6-ce3311943bc3",
        "colab": {
          "base_uri": "https://localhost:8080/",
          "height": 33
        }
      },
      "source": [
        "#Data is continous sequence.Each segment in the sequence separated by '\\n'\n",
        "#Each segment contains 3 items: number of request, request ID and size of requested file.\n",
        "d[:100]"
      ],
      "execution_count": 48,
      "outputs": [
        {
          "output_type": "execute_result",
          "data": {
            "text/plain": [
              "'1 778030675 13539\\n2 3484637698 17635\\n3 1130267045 152\\n4 3423744231 616\\n5 203613471 121\\n6 1342928892 '"
            ]
          },
          "metadata": {
            "tags": []
          },
          "execution_count": 48
        }
      ]
    },
    {
      "cell_type": "code",
      "metadata": {
        "id": "exT5bSzNoGAt",
        "colab_type": "code",
        "outputId": "202afd86-9cc8-42a0-e5a3-6bb39b6a8b44",
        "colab": {
          "base_uri": "https://localhost:8080/",
          "height": 184
        }
      },
      "source": [
        "#Spliting the continous sequence\n",
        "data = d.split()\n",
        "data[:10]"
      ],
      "execution_count": 49,
      "outputs": [
        {
          "output_type": "execute_result",
          "data": {
            "text/plain": [
              "['1',\n",
              " '778030675',\n",
              " '13539',\n",
              " '2',\n",
              " '3484637698',\n",
              " '17635',\n",
              " '3',\n",
              " '1130267045',\n",
              " '152',\n",
              " '4']"
            ]
          },
          "metadata": {
            "tags": []
          },
          "execution_count": 49
        }
      ]
    },
    {
      "cell_type": "code",
      "metadata": {
        "id": "vIlc5xD5oIRD",
        "colab_type": "code",
        "outputId": "b7104d90-9aeb-4d9b-d731-c4d12dd41050",
        "colab": {
          "base_uri": "https://localhost:8080/",
          "height": 33
        }
      },
      "source": [
        "del d\n",
        "len(data)"
      ],
      "execution_count": 50,
      "outputs": [
        {
          "output_type": "execute_result",
          "data": {
            "text/plain": [
              "12722261"
            ]
          },
          "metadata": {
            "tags": []
          },
          "execution_count": 50
        }
      ]
    },
    {
      "cell_type": "code",
      "metadata": {
        "id": "W9nu2QU5oJ5R",
        "colab_type": "code",
        "outputId": "4cb878b5-efaf-43f5-9c87-ac331a1f88d7",
        "colab": {
          "base_uri": "https://localhost:8080/",
          "height": 33
        }
      },
      "source": [
        "#We are interested in number of request and request id.\n",
        "req = []\n",
        "for i in range(len(data)):\n",
        "  r = []\n",
        "  if (i-1)%3 == 0 and len(req)<2005000:\n",
        "    r.append(data[i])\n",
        "    #To convert string into real numbers. \n",
        "    temp = 0\n",
        "    for j in range(len(r[0])):\n",
        "      temp = temp + int(r[0][j])*pow(10,len(r[0])-j-1)\n",
        "    req.append(temp)\n",
        "\n",
        "req = np.array(req)\n",
        "req.shape"
      ],
      "execution_count": 51,
      "outputs": [
        {
          "output_type": "execute_result",
          "data": {
            "text/plain": [
              "(2005000,)"
            ]
          },
          "metadata": {
            "tags": []
          },
          "execution_count": 51
        }
      ]
    },
    {
      "cell_type": "code",
      "metadata": {
        "id": "qz2wQM7OoLW5",
        "colab_type": "code",
        "outputId": "d5a8ba9b-67f8-4121-9503-016c369f1fe8",
        "colab": {
          "base_uri": "https://localhost:8080/",
          "height": 33
        }
      },
      "source": [
        "total_id = len(np.unique(req))\n",
        "print(total_id)"
      ],
      "execution_count": 52,
      "outputs": [
        {
          "output_type": "stream",
          "text": [
            "763307\n"
          ],
          "name": "stdout"
        }
      ]
    },
    {
      "cell_type": "code",
      "metadata": {
        "id": "yOstRzJHoNWJ",
        "colab_type": "code",
        "outputId": "5f9149a5-efdb-4ba5-c0cd-15d7049a5fb5",
        "colab": {
          "base_uri": "https://localhost:8080/",
          "height": 33
        }
      },
      "source": [
        "#To find the range of request id\n",
        "min = np.min(req)\n",
        "max = np.max(req)\n",
        "min,max"
      ],
      "execution_count": 53,
      "outputs": [
        {
          "output_type": "execute_result",
          "data": {
            "text/plain": [
              "(2301, 4294966263)"
            ]
          },
          "metadata": {
            "tags": []
          },
          "execution_count": 53
        }
      ]
    },
    {
      "cell_type": "code",
      "metadata": {
        "id": "vYUKWiZYoO-u",
        "colab_type": "code",
        "colab": {}
      },
      "source": [
        "# To reduce total numbers of ID\n",
        "id = 100\n",
        "factor = (max - min)/(id-1)\n",
        "req1 = []\n",
        "for i in range(len(req)):\n",
        "  req1 .append(int(np.divide(req[i],factor)))"
      ],
      "execution_count": 0,
      "outputs": []
    },
    {
      "cell_type": "code",
      "metadata": {
        "id": "QEIcyqploQhm",
        "colab_type": "code",
        "colab": {}
      },
      "source": [
        "# For bipartite network, Distributing request among 10 users\n",
        "users = 5\n",
        "req_user = []\n",
        "for i in range(int(len(req1)/users)):\n",
        "  temp = []\n",
        "  for j in range(i*users,(i+1)*users):\n",
        "    temp.append(req1[j])\n",
        "  req_user.append(temp)"
      ],
      "execution_count": 0,
      "outputs": []
    },
    {
      "cell_type": "code",
      "metadata": {
        "id": "pA6_CKNCoSCI",
        "colab_type": "code",
        "outputId": "5ce3c68b-eacd-4134-ad69-48c6dd042d34",
        "colab": {
          "base_uri": "https://localhost:8080/",
          "height": 33
        }
      },
      "source": [
        "req_user = np.array(np.transpose(req_user))\n",
        "req_user.shape"
      ],
      "execution_count": 56,
      "outputs": [
        {
          "output_type": "execute_result",
          "data": {
            "text/plain": [
              "(5, 401000)"
            ]
          },
          "metadata": {
            "tags": []
          },
          "execution_count": 56
        }
      ]
    },
    {
      "cell_type": "code",
      "metadata": {
        "id": "H1S7hvmtoUhB",
        "colab_type": "code",
        "colab": {}
      },
      "source": [
        "del req, req1, temp, data, r"
      ],
      "execution_count": 0,
      "outputs": []
    },
    {
      "cell_type": "code",
      "metadata": {
        "id": "QvxyeZjroWb1",
        "colab_type": "code",
        "outputId": "9c736a85-a0c2-4636-dbe7-9bfe24f34a47",
        "colab": {
          "base_uri": "https://localhost:8080/",
          "height": 33
        }
      },
      "source": [
        "count = np.zeros((users,id), dtype = 'float')\n",
        "for i in range(users):\n",
        "  for j in range(1000):\n",
        "    count[i,int(req_user[i][j])] += 1\n",
        "count.shape"
      ],
      "execution_count": 58,
      "outputs": [
        {
          "output_type": "execute_result",
          "data": {
            "text/plain": [
              "(5, 100)"
            ]
          },
          "metadata": {
            "tags": []
          },
          "execution_count": 58
        }
      ]
    },
    {
      "cell_type": "code",
      "metadata": {
        "id": "w5oAFVTfoZ6N",
        "colab_type": "code",
        "colab": {}
      },
      "source": [
        "prob = np.zeros((users,len(req_user[0])-1000,id), dtype = 'f4')"
      ],
      "execution_count": 0,
      "outputs": []
    },
    {
      "cell_type": "code",
      "metadata": {
        "id": "PEU_k5Ugobce",
        "colab_type": "code",
        "colab": {}
      },
      "source": [
        "for i in range(users):\n",
        "  for j in range(len(req_user[0])-1000):\n",
        "    count[i,int(req_user[i,j+1000])] += 1\n",
        "    count[i,int(req_user[i,j])] -= 1\n",
        "    prob[i,j,:] = count[i,:]/1000"
      ],
      "execution_count": 0,
      "outputs": []
    },
    {
      "cell_type": "code",
      "metadata": {
        "id": "OEmziDjPodHm",
        "colab_type": "code",
        "colab": {}
      },
      "source": [
        "del count"
      ],
      "execution_count": 0,
      "outputs": []
    },
    {
      "cell_type": "code",
      "metadata": {
        "id": "SKBUAuz6oenG",
        "colab_type": "code",
        "outputId": "6abba509-c974-4544-b271-f5acbf97c0cb",
        "colab": {
          "base_uri": "https://localhost:8080/",
          "height": 33
        }
      },
      "source": [
        "batch_size = 15000\n",
        "encoder_input_data = prob[:,:300000,:].reshape(20*users,batch_size,id) # total samples per users = 20\n",
        "encoder_input_data.shape"
      ],
      "execution_count": 62,
      "outputs": [
        {
          "output_type": "execute_result",
          "data": {
            "text/plain": [
              "(100, 15000, 100)"
            ]
          },
          "metadata": {
            "tags": []
          },
          "execution_count": 62
        }
      ]
    },
    {
      "cell_type": "code",
      "metadata": {
        "id": "01gNnhzJogED",
        "colab_type": "code",
        "outputId": "119d1b36-feca-4704-957d-f384b5213c88",
        "colab": {
          "base_uri": "https://localhost:8080/",
          "height": 33
        }
      },
      "source": [
        "decoder_target_data = []\n",
        "K = 10 # Next sequence to be predicted\n",
        "for i in range(1,21):\n",
        "    temp = []\n",
        "    for j in range(K): # to predict next 10 req for every batch\n",
        "        temp.append(prob[:,(batch_size*i) + j,:])\n",
        "    decoder_target_data.append(temp)    \n",
        "\n",
        "decoder_target_data = np.array(decoder_target_data).reshape(20*users,K,id)\n",
        "decoder_target_data.shape"
      ],
      "execution_count": 63,
      "outputs": [
        {
          "output_type": "execute_result",
          "data": {
            "text/plain": [
              "(100, 10, 100)"
            ]
          },
          "metadata": {
            "tags": []
          },
          "execution_count": 63
        }
      ]
    },
    {
      "cell_type": "code",
      "metadata": {
        "id": "P5IGggDoohgC",
        "colab_type": "code",
        "outputId": "1f8acc12-f2d4-441f-bff4-ed8339838247",
        "colab": {
          "base_uri": "https://localhost:8080/",
          "height": 33
        }
      },
      "source": [
        "decoder_input_data = np.zeros(decoder_target_data.shape)\n",
        "decoder_input_data[1:,:,:] = decoder_target_data[:-1,:,:]\n",
        "decoder_input_data[0,:,:] = encoder_input_data[-1,-1,:]\n",
        "decoder_input_data.shape"
      ],
      "execution_count": 64,
      "outputs": [
        {
          "output_type": "execute_result",
          "data": {
            "text/plain": [
              "(100, 10, 100)"
            ]
          },
          "metadata": {
            "tags": []
          },
          "execution_count": 64
        }
      ]
    },
    {
      "cell_type": "markdown",
      "metadata": {
        "id": "9so2j5Meoxjt",
        "colab_type": "text"
      },
      "source": [
        "MODEL"
      ]
    },
    {
      "cell_type": "code",
      "metadata": {
        "id": "7n6F4Zi7ojwS",
        "colab_type": "code",
        "colab": {}
      },
      "source": [
        "latent_dim = 128 # LSTM hidden units\n",
        "dropout = 0.1"
      ],
      "execution_count": 0,
      "outputs": []
    },
    {
      "cell_type": "code",
      "metadata": {
        "id": "E3Hh5kopoljB",
        "colab_type": "code",
        "outputId": "bcd1467f-c8bc-40ef-d908-d481f9b89cad",
        "colab": {
          "base_uri": "https://localhost:8080/",
          "height": 351
        }
      },
      "source": [
        "encoder_inputs = Input(shape=(None, id)) \n",
        "encoder = LSTM(latent_dim, dropout=dropout, return_state=True)\n",
        "encoder_outputs, state_h, state_c = encoder(encoder_inputs)\n",
        "encoder_states = [state_h, state_c]\n",
        "\n",
        "decoder_inputs = Input(shape=(None, id)) \n",
        "decoder_lstm = LSTM(latent_dim, dropout=dropout, return_sequences=True, return_state=True)\n",
        "decoder_outputs, _, _ = decoder_lstm(decoder_inputs,\n",
        "                                     initial_state=encoder_states)\n",
        "\n",
        "decoder_outputs = Dense(id, activation='softmax')(decoder_outputs)\n",
        "\n",
        "model = Model([encoder_inputs, decoder_inputs], decoder_outputs)\n",
        "model.summary()"
      ],
      "execution_count": 66,
      "outputs": [
        {
          "output_type": "stream",
          "text": [
            "Model: \"model_4\"\n",
            "__________________________________________________________________________________________________\n",
            "Layer (type)                    Output Shape         Param #     Connected to                     \n",
            "==================================================================================================\n",
            "input_5 (InputLayer)            (None, None, 100)    0                                            \n",
            "__________________________________________________________________________________________________\n",
            "input_6 (InputLayer)            (None, None, 100)    0                                            \n",
            "__________________________________________________________________________________________________\n",
            "lstm_3 (LSTM)                   [(None, 128), (None, 117248      input_5[0][0]                    \n",
            "__________________________________________________________________________________________________\n",
            "lstm_4 (LSTM)                   [(None, None, 128),  117248      input_6[0][0]                    \n",
            "                                                                 lstm_3[0][1]                     \n",
            "                                                                 lstm_3[0][2]                     \n",
            "__________________________________________________________________________________________________\n",
            "dense_3 (Dense)                 (None, None, 100)    12900       lstm_4[0][0]                     \n",
            "==================================================================================================\n",
            "Total params: 247,396\n",
            "Trainable params: 247,396\n",
            "Non-trainable params: 0\n",
            "__________________________________________________________________________________________________\n"
          ],
          "name": "stdout"
        }
      ]
    },
    {
      "cell_type": "code",
      "metadata": {
        "id": "HYutO5IKom6x",
        "colab_type": "code",
        "outputId": "11b38646-4387-422f-b2d0-061151c55556",
        "colab": {
          "base_uri": "https://localhost:8080/",
          "height": 351
        }
      },
      "source": [
        "model.compile(Adam(), loss='mean_squared_error')\n",
        "history = model.fit([encoder_input_data, decoder_input_data], decoder_target_data,batch_size=batch_size,epochs=10)"
      ],
      "execution_count": 67,
      "outputs": [
        {
          "output_type": "stream",
          "text": [
            "Epoch 1/10\n",
            "100/100 [==============================] - 55s 549ms/step - loss: 1.2663e-05\n",
            "Epoch 2/10\n",
            "100/100 [==============================] - 48s 480ms/step - loss: 1.2660e-05\n",
            "Epoch 3/10\n",
            "100/100 [==============================] - 47s 469ms/step - loss: 1.2654e-05\n",
            "Epoch 4/10\n",
            "100/100 [==============================] - 47s 472ms/step - loss: 1.2646e-05\n",
            "Epoch 5/10\n",
            "100/100 [==============================] - 51s 512ms/step - loss: 1.2637e-05\n",
            "Epoch 6/10\n",
            "100/100 [==============================] - 47s 475ms/step - loss: 1.2628e-05\n",
            "Epoch 7/10\n",
            "100/100 [==============================] - 47s 466ms/step - loss: 1.2617e-05\n",
            "Epoch 8/10\n",
            "100/100 [==============================] - 47s 467ms/step - loss: 1.2607e-05\n",
            "Epoch 9/10\n",
            "100/100 [==============================] - 47s 467ms/step - loss: 1.2593e-05\n",
            "Epoch 10/10\n",
            "100/100 [==============================] - 47s 467ms/step - loss: 1.2582e-05\n"
          ],
          "name": "stdout"
        }
      ]
    },
    {
      "cell_type": "markdown",
      "metadata": {
        "id": "N2iC30YYotAE",
        "colab_type": "text"
      },
      "source": [
        "FUTURE REQUEST PREDICTION"
      ]
    },
    {
      "cell_type": "code",
      "metadata": {
        "id": "1LQFJ-OKopQU",
        "colab_type": "code",
        "colab": {}
      },
      "source": [
        "encoder_model = Model(encoder_inputs, encoder_states)\n",
        "pred_steps = K\n",
        "\n",
        "decoder_state_input_h = Input(shape=(latent_dim,))\n",
        "decoder_state_input_c = Input(shape=(latent_dim,))\n",
        "decoder_states_inputs = [decoder_state_input_h, decoder_state_input_c]\n",
        "\n",
        "decoder_outputs, state_h, state_c = decoder_lstm(decoder_inputs, initial_state=decoder_states_inputs)\n",
        "decoder_states = [state_h, state_c]\n",
        "\n",
        "decoder_outputs = Dense(id, activation='softmax')(decoder_outputs)\n",
        "decoder_model = Model([decoder_inputs] + decoder_states_inputs,\n",
        "                      [decoder_outputs] + decoder_states)"
      ],
      "execution_count": 0,
      "outputs": []
    },
    {
      "cell_type": "code",
      "metadata": {
        "id": "Dik8yZZMorji",
        "colab_type": "code",
        "colab": {}
      },
      "source": [
        "def decode_sequence(input_seq):\n",
        "    \n",
        "    # Encode the input as state vectors.\n",
        "    states_value = encoder_model.predict(input_seq)\n",
        "\n",
        "    # Generate empty target sequence of length 1.\n",
        "    target_seq = np.zeros((1, 1, id))\n",
        "    \n",
        "    # Populate the first target sequence with end of encoding series pageviews\n",
        "    target_seq[0, 0, :] = input_seq[0, -1, :]\n",
        "\n",
        "    # Sampling loop for a batch of sequences - we will fill decoded_seq with predictions\n",
        "    # (to simplify, here we assume a batch of size 1).\n",
        "\n",
        "    decoded_seq = np.zeros((1,pred_steps,id))\n",
        "    for i in range(pred_steps):\n",
        "        \n",
        "        output, h, c = decoder_model.predict([target_seq] + states_value)\n",
        "        \n",
        "        decoded_seq[0,i,:] = output[0,0,:]\n",
        "\n",
        "        # Update the target sequence (of length 1).\n",
        "        target_seq = np.zeros((1, 1, id))\n",
        "        target_seq[0, 0, :] = output[0,0,:]\n",
        "\n",
        "        # Update states\n",
        "        states_value = [h, c]\n",
        "\n",
        "    return decoded_seq"
      ],
      "execution_count": 0,
      "outputs": []
    },
    {
      "cell_type": "code",
      "metadata": {
        "id": "MDeeF1X1o3gh",
        "colab_type": "code",
        "outputId": "f9b21486-3a14-4c97-96d3-15d999c7e63b",
        "colab": {
          "base_uri": "https://localhost:8080/",
          "height": 33
        }
      },
      "source": [
        "n = int((len(prob[0]) - batch_size)/1000)\n",
        "n"
      ],
      "execution_count": 70,
      "outputs": [
        {
          "output_type": "execute_result",
          "data": {
            "text/plain": [
              "385"
            ]
          },
          "metadata": {
            "tags": []
          },
          "execution_count": 70
        }
      ]
    },
    {
      "cell_type": "code",
      "metadata": {
        "id": "u-B8yoHLo6MZ",
        "colab_type": "code",
        "outputId": "29ddc66f-b43e-4d59-dbe3-ea126ef6ad9c",
        "colab": {
          "base_uri": "https://localhost:8080/",
          "height": 100
        }
      },
      "source": [
        "prediction = []\n",
        "for i in range(users):\n",
        "  print(i)\n",
        "  temp = []\n",
        "  for j in range(1000):\n",
        "    temp.append(decode_sequence(prob[i,int(j*n) : int(j*n + batch_size),:].reshape(1,batch_size,id)))\n",
        "  prediction.append(temp)"
      ],
      "execution_count": 71,
      "outputs": [
        {
          "output_type": "stream",
          "text": [
            "0\n",
            "1\n",
            "2\n",
            "3\n",
            "4\n"
          ],
          "name": "stdout"
        }
      ]
    },
    {
      "cell_type": "code",
      "metadata": {
        "id": "wxXw6JoCo71Q",
        "colab_type": "code",
        "outputId": "e84ea5d8-afea-46e3-9ef1-bfeb1f2b654a",
        "colab": {
          "base_uri": "https://localhost:8080/",
          "height": 33
        }
      },
      "source": [
        "prediction = np.array(prediction).reshape(users,1000,K,id)\n",
        "prediction.shape"
      ],
      "execution_count": 72,
      "outputs": [
        {
          "output_type": "execute_result",
          "data": {
            "text/plain": [
              "(5, 1000, 10, 100)"
            ]
          },
          "metadata": {
            "tags": []
          },
          "execution_count": 72
        }
      ]
    },
    {
      "cell_type": "markdown",
      "metadata": {
        "id": "RDfL2ubwpAex",
        "colab_type": "text"
      },
      "source": [
        "GENERATION OF FAKE REQUESTS"
      ]
    },
    {
      "cell_type": "code",
      "metadata": {
        "id": "GHhr_3doo-Bd",
        "colab_type": "code",
        "outputId": "bbb95bc3-d904-465a-a686-079bb924f7ef",
        "colab": {
          "base_uri": "https://localhost:8080/",
          "height": 33
        }
      },
      "source": [
        "fake_req = []\n",
        "for i in range(users):\n",
        "  t = []\n",
        "  for j in range(1000):\n",
        "    temp = []\n",
        "    for k in range(10):\n",
        "      for l in range(id):\n",
        "        if prediction[i,j,k,l] > sorted(prediction[i,j,k],reverse = 1)[5]:\n",
        "          temp.append(l)\n",
        "    while len(temp) < 50:\n",
        "      temp.append(0)\n",
        "    t.append(temp)\n",
        "  fake_req.append(t)\n",
        "fake_req = np.array(fake_req) \n",
        "fake_req.shape"
      ],
      "execution_count": 73,
      "outputs": [
        {
          "output_type": "execute_result",
          "data": {
            "text/plain": [
              "(5, 1000, 50)"
            ]
          },
          "metadata": {
            "tags": []
          },
          "execution_count": 73
        }
      ]
    },
    {
      "cell_type": "code",
      "metadata": {
        "id": "49h9F8AwpFoc",
        "colab_type": "code",
        "colab": {}
      },
      "source": [
        "generated_req = []\n",
        "for l in range(users):\n",
        "  request = []\n",
        "  for i in range(batch_size):\n",
        "    request.append(req_user[l,i])\n",
        "  for i in range(50):\n",
        "    request.append(fake_req[l,0,i])\n",
        "  for i in range(1000):\n",
        "    for j in range(n + 50):\n",
        "      if j < n:\n",
        "        request.append(req_user[l,10000 + j + n*i])\n",
        "      elif(i>0):\n",
        "        request.append(fake_req[l,i,j-n])\n",
        "  generated_req.append(request)"
      ],
      "execution_count": 0,
      "outputs": []
    },
    {
      "cell_type": "code",
      "metadata": {
        "id": "RgS64oCwpHkk",
        "colab_type": "code",
        "outputId": "667bc700-1e3a-47c6-f792-db4e9a6695b8",
        "colab": {
          "base_uri": "https://localhost:8080/",
          "height": 33
        }
      },
      "source": [
        "generated_req = np.array(generated_req)\n",
        "generated_req.shape"
      ],
      "execution_count": 75,
      "outputs": [
        {
          "output_type": "execute_result",
          "data": {
            "text/plain": [
              "(5, 450000)"
            ]
          },
          "metadata": {
            "tags": []
          },
          "execution_count": 75
        }
      ]
    },
    {
      "cell_type": "code",
      "metadata": {
        "id": "kAGlVrIfpJtT",
        "colab_type": "code",
        "colab": {
          "base_uri": "https://localhost:8080/",
          "height": 33
        },
        "outputId": "774e1215-5dfe-47e4-9759-7bd1379fa737"
      },
      "source": [
        "req_user.shape"
      ],
      "execution_count": 76,
      "outputs": [
        {
          "output_type": "execute_result",
          "data": {
            "text/plain": [
              "(5, 401000)"
            ]
          },
          "metadata": {
            "tags": []
          },
          "execution_count": 76
        }
      ]
    },
    {
      "cell_type": "code",
      "metadata": {
        "id": "o3Z9fAhypbxb",
        "colab_type": "code",
        "colab": {}
      },
      "source": [
        "np.save('req',req_user)\n",
        "np.save('gen_req',generated_req)"
      ],
      "execution_count": 0,
      "outputs": []
    }
  ]
}