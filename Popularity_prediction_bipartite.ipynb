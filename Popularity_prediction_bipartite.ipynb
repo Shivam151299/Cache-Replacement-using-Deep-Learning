{
  "nbformat": 4,
  "nbformat_minor": 0,
  "metadata": {
    "colab": {
      "name": "Popularity prediction_bipartite",
      "provenance": []
    },
    "kernelspec": {
      "name": "python3",
      "display_name": "Python 3"
    }
  },
  "cells": [
    {
      "cell_type": "code",
      "metadata": {
        "id": "hwluSTbYnuIQ",
        "colab_type": "code",
        "outputId": "9c24c055-f212-45ae-f937-90a06687131b",
        "colab": {
          "base_uri": "https://localhost:8080/",
          "height": 33
        }
      },
      "source": [
        "from random import randint\n",
        "from numpy import array\n",
        "import numpy as np\n",
        "from numpy import random\n",
        "from keras.models import Model\n",
        "from scipy.optimize import linprog\n",
        "from keras.layers import Input\n",
        "from keras.layers import LSTM\n",
        "from keras.layers import Dense\n",
        "import matplotlib.pyplot as plt\n",
        "from keras.optimizers import Adam\n",
        "\n",
        "%matplotlib inline"
      ],
      "execution_count": 3,
      "outputs": [
        {
          "output_type": "stream",
          "text": [
            "Using TensorFlow backend.\n"
          ],
          "name": "stderr"
        }
      ]
    },
    {
      "cell_type": "markdown",
      "metadata": {
        "id": "7zkdp1xHozgk",
        "colab_type": "text"
      },
      "source": [
        "DATA"
      ]
    },
    {
      "cell_type": "code",
      "metadata": {
        "id": "GCzc8mIhoA3X",
        "colab_type": "code",
        "colab": {}
      },
      "source": [
        "data = []\n",
        "with open('/content/drive/My Drive/request_seq.txt' , errors='ignore' ) as fin:\n",
        "    fin.seek(0)\n",
        "    d = fin.read(100000000) "
      ],
      "execution_count": 0,
      "outputs": []
    },
    {
      "cell_type": "code",
      "metadata": {
        "id": "aHVp28IzoDfW",
        "colab_type": "code",
        "outputId": "76d0f73f-1038-493b-be17-eb91c597b36c",
        "colab": {
          "base_uri": "https://localhost:8080/",
          "height": 33
        }
      },
      "source": [
        "#Data is continous sequence.Each segment in the sequence separated by '\\n'\n",
        "#Each segment contains 3 items: number of request, request ID and size of requested file.\n",
        "d[:100]"
      ],
      "execution_count": 5,
      "outputs": [
        {
          "output_type": "execute_result",
          "data": {
            "text/plain": [
              "'1 778030675 13539\\n2 3484637698 17635\\n3 1130267045 152\\n4 3423744231 616\\n5 203613471 121\\n6 1342928892 '"
            ]
          },
          "metadata": {
            "tags": []
          },
          "execution_count": 5
        }
      ]
    },
    {
      "cell_type": "code",
      "metadata": {
        "id": "exT5bSzNoGAt",
        "colab_type": "code",
        "outputId": "0866780e-4cc0-4160-add6-905c96563e0c",
        "colab": {
          "base_uri": "https://localhost:8080/",
          "height": 184
        }
      },
      "source": [
        "#Spliting the continous sequence\n",
        "data = d.split()\n",
        "data[:10]"
      ],
      "execution_count": 6,
      "outputs": [
        {
          "output_type": "execute_result",
          "data": {
            "text/plain": [
              "['1',\n",
              " '778030675',\n",
              " '13539',\n",
              " '2',\n",
              " '3484637698',\n",
              " '17635',\n",
              " '3',\n",
              " '1130267045',\n",
              " '152',\n",
              " '4']"
            ]
          },
          "metadata": {
            "tags": []
          },
          "execution_count": 6
        }
      ]
    },
    {
      "cell_type": "code",
      "metadata": {
        "id": "vIlc5xD5oIRD",
        "colab_type": "code",
        "outputId": "f8ab9e8d-0dde-4b23-c394-c73c50970ad8",
        "colab": {
          "base_uri": "https://localhost:8080/",
          "height": 33
        }
      },
      "source": [
        "del d\n",
        "len(data)"
      ],
      "execution_count": 7,
      "outputs": [
        {
          "output_type": "execute_result",
          "data": {
            "text/plain": [
              "12722261"
            ]
          },
          "metadata": {
            "tags": []
          },
          "execution_count": 7
        }
      ]
    },
    {
      "cell_type": "code",
      "metadata": {
        "id": "W9nu2QU5oJ5R",
        "colab_type": "code",
        "outputId": "85722824-15d4-456c-ec88-e5462176a1c9",
        "colab": {
          "base_uri": "https://localhost:8080/",
          "height": 33
        }
      },
      "source": [
        "#We are interested in number of request and request id.\n",
        "req = []\n",
        "for i in range(len(data)):\n",
        "  r = []\n",
        "  if (i-1)%3 == 0 and len(req)<2005000:\n",
        "    r.append(data[i])\n",
        "    #To convert string into real numbers. \n",
        "    temp = 0\n",
        "    for j in range(len(r[0])):\n",
        "      temp = temp + int(r[0][j])*pow(10,len(r[0])-j-1)\n",
        "    req.append(temp)\n",
        "\n",
        "req = np.array(req)\n",
        "req.shape"
      ],
      "execution_count": 8,
      "outputs": [
        {
          "output_type": "execute_result",
          "data": {
            "text/plain": [
              "(2005000,)"
            ]
          },
          "metadata": {
            "tags": []
          },
          "execution_count": 8
        }
      ]
    },
    {
      "cell_type": "code",
      "metadata": {
        "id": "qz2wQM7OoLW5",
        "colab_type": "code",
        "outputId": "0bbcd233-dfc0-4bea-ee54-396408c1ce2b",
        "colab": {
          "base_uri": "https://localhost:8080/",
          "height": 33
        }
      },
      "source": [
        "id, req1 = np.unique(req, return_inverse= True)\n",
        "print(len(id))"
      ],
      "execution_count": 9,
      "outputs": [
        {
          "output_type": "stream",
          "text": [
            "763307\n"
          ],
          "name": "stdout"
        }
      ]
    },
    {
      "cell_type": "code",
      "metadata": {
        "id": "yOstRzJHoNWJ",
        "colab_type": "code",
        "outputId": "2adc4fc8-4116-402f-a73c-a32cb7c11e98",
        "colab": {
          "base_uri": "https://localhost:8080/",
          "height": 33
        }
      },
      "source": [
        "#To find the range of request id\n",
        "min = np.min(req1)\n",
        "max = np.max(req1)\n",
        "min,max"
      ],
      "execution_count": 10,
      "outputs": [
        {
          "output_type": "execute_result",
          "data": {
            "text/plain": [
              "(0, 763306)"
            ]
          },
          "metadata": {
            "tags": []
          },
          "execution_count": 10
        }
      ]
    },
    {
      "cell_type": "code",
      "metadata": {
        "id": "vYUKWiZYoO-u",
        "colab_type": "code",
        "colab": {}
      },
      "source": [
        "# To reduce total numbers of ID\n",
        "id = 100\n",
        "factor = (max - min)/(id-1)\n",
        "req2 = []\n",
        "for i in range(len(req1)):\n",
        "  req2.append(int(np.divide(req1[i],factor)))"
      ],
      "execution_count": 0,
      "outputs": []
    },
    {
      "cell_type": "code",
      "metadata": {
        "id": "QEIcyqploQhm",
        "colab_type": "code",
        "colab": {}
      },
      "source": [
        "# For bipartite network, Distributing request among 10 users\n",
        "users = 5\n",
        "req_user = []\n",
        "for i in range(int(len(req2)/users)):\n",
        "  temp = []\n",
        "  for j in range(i*users,(i+1)*users):\n",
        "    temp.append(req2[j])\n",
        "  req_user.append(temp)"
      ],
      "execution_count": 0,
      "outputs": []
    },
    {
      "cell_type": "code",
      "metadata": {
        "id": "pA6_CKNCoSCI",
        "colab_type": "code",
        "outputId": "10982ab2-a558-425a-dd3d-f1cd1086719d",
        "colab": {
          "base_uri": "https://localhost:8080/",
          "height": 33
        }
      },
      "source": [
        "req_user = np.array(np.transpose(req_user))\n",
        "req_user.shape"
      ],
      "execution_count": 13,
      "outputs": [
        {
          "output_type": "execute_result",
          "data": {
            "text/plain": [
              "(5, 401000)"
            ]
          },
          "metadata": {
            "tags": []
          },
          "execution_count": 13
        }
      ]
    },
    {
      "cell_type": "code",
      "metadata": {
        "id": "H1S7hvmtoUhB",
        "colab_type": "code",
        "colab": {}
      },
      "source": [
        "del req, req1,req2, temp, data, r"
      ],
      "execution_count": 0,
      "outputs": []
    },
    {
      "cell_type": "code",
      "metadata": {
        "id": "QvxyeZjroWb1",
        "colab_type": "code",
        "outputId": "33d38477-8e59-42b6-d7a6-dea4c9c442c6",
        "colab": {
          "base_uri": "https://localhost:8080/",
          "height": 33
        }
      },
      "source": [
        "count = np.zeros((users,id), dtype = 'float')\n",
        "for i in range(users):\n",
        "  for j in range(1000):\n",
        "    count[i,int(req_user[i][j])] += 1\n",
        "count.shape"
      ],
      "execution_count": 15,
      "outputs": [
        {
          "output_type": "execute_result",
          "data": {
            "text/plain": [
              "(5, 100)"
            ]
          },
          "metadata": {
            "tags": []
          },
          "execution_count": 15
        }
      ]
    },
    {
      "cell_type": "code",
      "metadata": {
        "id": "w5oAFVTfoZ6N",
        "colab_type": "code",
        "colab": {}
      },
      "source": [
        "prob = np.zeros((users,len(req_user[0])-1000,id), dtype = 'f4')"
      ],
      "execution_count": 0,
      "outputs": []
    },
    {
      "cell_type": "code",
      "metadata": {
        "id": "PEU_k5Ugobce",
        "colab_type": "code",
        "colab": {}
      },
      "source": [
        "for i in range(users):\n",
        "  for j in range(len(req_user[0])-1000):\n",
        "    count[i,int(req_user[i,j+1000])] += 1\n",
        "    count[i,int(req_user[i,j])] -= 1\n",
        "    prob[i,j,:] = count[i,:]/1000"
      ],
      "execution_count": 0,
      "outputs": []
    },
    {
      "cell_type": "code",
      "metadata": {
        "id": "OEmziDjPodHm",
        "colab_type": "code",
        "colab": {}
      },
      "source": [
        "del count"
      ],
      "execution_count": 0,
      "outputs": []
    },
    {
      "cell_type": "code",
      "metadata": {
        "id": "SKBUAuz6oenG",
        "colab_type": "code",
        "outputId": "f5738e37-0554-4a70-a481-c52a1c8d6821",
        "colab": {
          "base_uri": "https://localhost:8080/",
          "height": 33
        }
      },
      "source": [
        "batch_size = 15000\n",
        "encoder_input_data = prob[:,:300000,:].reshape(20*users,batch_size,id) # total samples per users = 20\n",
        "encoder_input_data.shape"
      ],
      "execution_count": 19,
      "outputs": [
        {
          "output_type": "execute_result",
          "data": {
            "text/plain": [
              "(100, 15000, 100)"
            ]
          },
          "metadata": {
            "tags": []
          },
          "execution_count": 19
        }
      ]
    },
    {
      "cell_type": "code",
      "metadata": {
        "id": "01gNnhzJogED",
        "colab_type": "code",
        "outputId": "c578db95-8448-4f7d-df08-cf6e7e9f0929",
        "colab": {
          "base_uri": "https://localhost:8080/",
          "height": 33
        }
      },
      "source": [
        "decoder_target_data = []\n",
        "K = 10 # Next sequence to be predicted\n",
        "for i in range(1,21):\n",
        "    temp = []\n",
        "    for j in range(K): # to predict next 10 req for every batch\n",
        "        temp.append(prob[:,(batch_size*i) + j,:])\n",
        "    decoder_target_data.append(temp)    \n",
        "\n",
        "decoder_target_data = np.array(decoder_target_data).reshape(20*users,K,id)\n",
        "decoder_target_data.shape"
      ],
      "execution_count": 20,
      "outputs": [
        {
          "output_type": "execute_result",
          "data": {
            "text/plain": [
              "(100, 10, 100)"
            ]
          },
          "metadata": {
            "tags": []
          },
          "execution_count": 20
        }
      ]
    },
    {
      "cell_type": "code",
      "metadata": {
        "id": "P5IGggDoohgC",
        "colab_type": "code",
        "outputId": "e11a3c20-0ec3-4959-ea14-1c5a28d2c5b4",
        "colab": {
          "base_uri": "https://localhost:8080/",
          "height": 33
        }
      },
      "source": [
        "decoder_input_data = np.zeros(decoder_target_data.shape)\n",
        "decoder_input_data[1:,:,:] = decoder_target_data[:-1,:,:]\n",
        "decoder_input_data[0,:,:] = encoder_input_data[-1,-1,:]\n",
        "decoder_input_data.shape"
      ],
      "execution_count": 21,
      "outputs": [
        {
          "output_type": "execute_result",
          "data": {
            "text/plain": [
              "(100, 10, 100)"
            ]
          },
          "metadata": {
            "tags": []
          },
          "execution_count": 21
        }
      ]
    },
    {
      "cell_type": "markdown",
      "metadata": {
        "id": "9so2j5Meoxjt",
        "colab_type": "text"
      },
      "source": [
        "MODEL"
      ]
    },
    {
      "cell_type": "code",
      "metadata": {
        "id": "7n6F4Zi7ojwS",
        "colab_type": "code",
        "colab": {}
      },
      "source": [
        "latent_dim = 128 # LSTM hidden units\n",
        "dropout = 0.1"
      ],
      "execution_count": 0,
      "outputs": []
    },
    {
      "cell_type": "code",
      "metadata": {
        "id": "E3Hh5kopoljB",
        "colab_type": "code",
        "outputId": "9089ff15-0acd-412a-8186-3900135f42df",
        "colab": {
          "base_uri": "https://localhost:8080/",
          "height": 351
        }
      },
      "source": [
        "encoder_inputs = Input(shape=(None, id)) \n",
        "encoder = LSTM(latent_dim, dropout=dropout, return_state=True)\n",
        "encoder_outputs, state_h, state_c = encoder(encoder_inputs)\n",
        "encoder_states = [state_h, state_c]\n",
        "\n",
        "decoder_inputs = Input(shape=(None, id)) \n",
        "decoder_lstm = LSTM(latent_dim, dropout=dropout, return_sequences=True, return_state=True)\n",
        "decoder_outputs, _, _ = decoder_lstm(decoder_inputs,\n",
        "                                     initial_state=encoder_states)\n",
        "\n",
        "decoder_outputs = Dense(id, activation='softmax')(decoder_outputs)\n",
        "\n",
        "model = Model([encoder_inputs, decoder_inputs], decoder_outputs)\n",
        "model.summary()"
      ],
      "execution_count": 23,
      "outputs": [
        {
          "output_type": "stream",
          "text": [
            "Model: \"model_1\"\n",
            "__________________________________________________________________________________________________\n",
            "Layer (type)                    Output Shape         Param #     Connected to                     \n",
            "==================================================================================================\n",
            "input_1 (InputLayer)            (None, None, 100)    0                                            \n",
            "__________________________________________________________________________________________________\n",
            "input_2 (InputLayer)            (None, None, 100)    0                                            \n",
            "__________________________________________________________________________________________________\n",
            "lstm_1 (LSTM)                   [(None, 128), (None, 117248      input_1[0][0]                    \n",
            "__________________________________________________________________________________________________\n",
            "lstm_2 (LSTM)                   [(None, None, 128),  117248      input_2[0][0]                    \n",
            "                                                                 lstm_1[0][1]                     \n",
            "                                                                 lstm_1[0][2]                     \n",
            "__________________________________________________________________________________________________\n",
            "dense_1 (Dense)                 (None, None, 100)    12900       lstm_2[0][0]                     \n",
            "==================================================================================================\n",
            "Total params: 247,396\n",
            "Trainable params: 247,396\n",
            "Non-trainable params: 0\n",
            "__________________________________________________________________________________________________\n"
          ],
          "name": "stdout"
        }
      ]
    },
    {
      "cell_type": "code",
      "metadata": {
        "id": "HYutO5IKom6x",
        "colab_type": "code",
        "outputId": "790ebe64-b113-41c5-aa77-b6605cf19959",
        "colab": {
          "base_uri": "https://localhost:8080/",
          "height": 1000
        }
      },
      "source": [
        "model.compile(Adam(), loss='mean_squared_error')\n",
        "history = model.fit([encoder_input_data, decoder_input_data], decoder_target_data,batch_size=batch_size,epochs=30)"
      ],
      "execution_count": 24,
      "outputs": [
        {
          "output_type": "stream",
          "text": [
            "Epoch 1/30\n",
            "100/100 [==============================] - 52s 525ms/step - loss: 1.2661e-05\n",
            "Epoch 2/30\n",
            "100/100 [==============================] - 51s 505ms/step - loss: 1.2656e-05\n",
            "Epoch 3/30\n",
            "100/100 [==============================] - 52s 519ms/step - loss: 1.2650e-05\n",
            "Epoch 4/30\n",
            "100/100 [==============================] - 50s 502ms/step - loss: 1.2642e-05\n",
            "Epoch 5/30\n",
            "100/100 [==============================] - 50s 503ms/step - loss: 1.2632e-05\n",
            "Epoch 6/30\n",
            "100/100 [==============================] - 51s 511ms/step - loss: 1.2624e-05\n",
            "Epoch 7/30\n",
            "100/100 [==============================] - 50s 497ms/step - loss: 1.2613e-05\n",
            "Epoch 8/30\n",
            "100/100 [==============================] - 48s 482ms/step - loss: 1.2602e-05\n",
            "Epoch 9/30\n",
            "100/100 [==============================] - 49s 487ms/step - loss: 1.2592e-05\n",
            "Epoch 10/30\n",
            "100/100 [==============================] - 48s 483ms/step - loss: 1.2578e-05\n",
            "Epoch 11/30\n",
            "100/100 [==============================] - 49s 492ms/step - loss: 1.2567e-05\n",
            "Epoch 12/30\n",
            "100/100 [==============================] - 51s 507ms/step - loss: 1.2556e-05\n",
            "Epoch 13/30\n",
            "100/100 [==============================] - 48s 483ms/step - loss: 1.2543e-05\n",
            "Epoch 14/30\n",
            "100/100 [==============================] - 49s 489ms/step - loss: 1.2529e-05\n",
            "Epoch 15/30\n",
            "100/100 [==============================] - 49s 494ms/step - loss: 1.2516e-05\n",
            "Epoch 16/30\n",
            "100/100 [==============================] - 48s 480ms/step - loss: 1.2501e-05\n",
            "Epoch 17/30\n",
            "100/100 [==============================] - 48s 483ms/step - loss: 1.2488e-05\n",
            "Epoch 18/30\n",
            "100/100 [==============================] - 49s 491ms/step - loss: 1.2474e-05\n",
            "Epoch 19/30\n",
            "100/100 [==============================] - 50s 501ms/step - loss: 1.2459e-05\n",
            "Epoch 20/30\n",
            "100/100 [==============================] - 48s 480ms/step - loss: 1.2446e-05\n",
            "Epoch 21/30\n",
            "100/100 [==============================] - 50s 500ms/step - loss: 1.2430e-05\n",
            "Epoch 22/30\n",
            "100/100 [==============================] - 52s 519ms/step - loss: 1.2416e-05\n",
            "Epoch 23/30\n",
            "100/100 [==============================] - 52s 516ms/step - loss: 1.2403e-05\n",
            "Epoch 24/30\n",
            "100/100 [==============================] - 53s 535ms/step - loss: 1.2386e-05\n",
            "Epoch 25/30\n",
            "100/100 [==============================] - 52s 524ms/step - loss: 1.2372e-05\n",
            "Epoch 26/30\n",
            "100/100 [==============================] - 50s 500ms/step - loss: 1.2356e-05\n",
            "Epoch 27/30\n",
            "100/100 [==============================] - 53s 534ms/step - loss: 1.2341e-05\n",
            "Epoch 28/30\n",
            "100/100 [==============================] - 54s 539ms/step - loss: 1.2326e-05\n",
            "Epoch 29/30\n",
            "100/100 [==============================] - 53s 529ms/step - loss: 1.2311e-05\n",
            "Epoch 30/30\n",
            "100/100 [==============================] - 52s 517ms/step - loss: 1.2295e-05\n"
          ],
          "name": "stdout"
        }
      ]
    },
    {
      "cell_type": "markdown",
      "metadata": {
        "id": "N2iC30YYotAE",
        "colab_type": "text"
      },
      "source": [
        "FUTURE REQUEST PREDICTION"
      ]
    },
    {
      "cell_type": "code",
      "metadata": {
        "id": "1LQFJ-OKopQU",
        "colab_type": "code",
        "colab": {}
      },
      "source": [
        "encoder_model = Model(encoder_inputs, encoder_states)\n",
        "pred_steps = K\n",
        "\n",
        "decoder_state_input_h = Input(shape=(latent_dim,))\n",
        "decoder_state_input_c = Input(shape=(latent_dim,))\n",
        "decoder_states_inputs = [decoder_state_input_h, decoder_state_input_c]\n",
        "\n",
        "decoder_outputs, state_h, state_c = decoder_lstm(decoder_inputs, initial_state=decoder_states_inputs)\n",
        "decoder_states = [state_h, state_c]\n",
        "\n",
        "decoder_outputs = Dense(id, activation='softmax')(decoder_outputs)\n",
        "decoder_model = Model([decoder_inputs] + decoder_states_inputs,\n",
        "                      [decoder_outputs] + decoder_states)"
      ],
      "execution_count": 0,
      "outputs": []
    },
    {
      "cell_type": "code",
      "metadata": {
        "id": "Dik8yZZMorji",
        "colab_type": "code",
        "colab": {}
      },
      "source": [
        "def decode_sequence(input_seq):\n",
        "    \n",
        "    # Encode the input as state vectors.\n",
        "    states_value = encoder_model.predict(input_seq)\n",
        "\n",
        "    # Generate empty target sequence of length 1.\n",
        "    target_seq = np.zeros((1, 1, id))\n",
        "    \n",
        "    # Populate the first target sequence with end of encoding series pageviews\n",
        "    target_seq[0, 0, :] = input_seq[0, -1, :]\n",
        "\n",
        "    # Sampling loop for a batch of sequences - we will fill decoded_seq with predictions\n",
        "    # (to simplify, here we assume a batch of size 1).\n",
        "\n",
        "    decoded_seq = np.zeros((1,pred_steps,id))\n",
        "    for i in range(pred_steps):\n",
        "        \n",
        "        output, h, c = decoder_model.predict([target_seq] + states_value)\n",
        "        \n",
        "        decoded_seq[0,i,:] = output[0,0,:]\n",
        "\n",
        "        # Update the target sequence (of length 1).\n",
        "        target_seq = np.zeros((1, 1, id))\n",
        "        target_seq[0, 0, :] = output[0,0,:]\n",
        "\n",
        "        # Update states\n",
        "        states_value = [h, c]\n",
        "\n",
        "    return decoded_seq"
      ],
      "execution_count": 0,
      "outputs": []
    },
    {
      "cell_type": "code",
      "metadata": {
        "id": "MDeeF1X1o3gh",
        "colab_type": "code",
        "outputId": "484968a4-9679-40b4-98b4-6ac161a102f3",
        "colab": {
          "base_uri": "https://localhost:8080/",
          "height": 33
        }
      },
      "source": [
        "n = int((len(prob[0]) - batch_size)/1000)\n",
        "n"
      ],
      "execution_count": 27,
      "outputs": [
        {
          "output_type": "execute_result",
          "data": {
            "text/plain": [
              "385"
            ]
          },
          "metadata": {
            "tags": []
          },
          "execution_count": 27
        }
      ]
    },
    {
      "cell_type": "code",
      "metadata": {
        "id": "u-B8yoHLo6MZ",
        "colab_type": "code",
        "outputId": "250881f1-7882-4b86-8c53-12dd35305e62",
        "colab": {
          "base_uri": "https://localhost:8080/",
          "height": 100
        }
      },
      "source": [
        "prediction = []\n",
        "for i in range(users):\n",
        "  print(i)\n",
        "  temp = []\n",
        "  for j in range(1000):\n",
        "    temp.append(decode_sequence(prob[i,int(j*n) : int(j*n + batch_size),:].reshape(1,batch_size,id)))\n",
        "  prediction.append(temp)"
      ],
      "execution_count": 28,
      "outputs": [
        {
          "output_type": "stream",
          "text": [
            "0\n",
            "1\n",
            "2\n",
            "3\n",
            "4\n"
          ],
          "name": "stdout"
        }
      ]
    },
    {
      "cell_type": "code",
      "metadata": {
        "id": "wxXw6JoCo71Q",
        "colab_type": "code",
        "outputId": "73f9f2f7-6872-4c71-9ddd-38a7c1db4f36",
        "colab": {
          "base_uri": "https://localhost:8080/",
          "height": 33
        }
      },
      "source": [
        "prediction = np.array(prediction).reshape(users,1000,K,id)\n",
        "prediction.shape"
      ],
      "execution_count": 29,
      "outputs": [
        {
          "output_type": "execute_result",
          "data": {
            "text/plain": [
              "(5, 1000, 10, 100)"
            ]
          },
          "metadata": {
            "tags": []
          },
          "execution_count": 29
        }
      ]
    },
    {
      "cell_type": "markdown",
      "metadata": {
        "id": "RDfL2ubwpAex",
        "colab_type": "text"
      },
      "source": [
        "GENERATION OF FAKE REQUESTS"
      ]
    },
    {
      "cell_type": "code",
      "metadata": {
        "id": "GHhr_3doo-Bd",
        "colab_type": "code",
        "outputId": "a3b991dd-4178-41c4-a1ad-43aac5e1dfa4",
        "colab": {
          "base_uri": "https://localhost:8080/",
          "height": 33
        }
      },
      "source": [
        "fake_req = []\n",
        "for i in range(users):\n",
        "  t1 = []\n",
        "  for j in range(1000):\n",
        "    t  = []\n",
        "    for k in range(10):\n",
        "      temp = (-prediction[i,j,k,:]).argsort()[:5]\n",
        "      for l in range(len(temp)):\n",
        "        t.append(temp[l])\n",
        "    t1.append(t)\n",
        "  fake_req.append(t1)\n",
        "fake_req = np.array(fake_req) \n",
        "fake_req.shape"
      ],
      "execution_count": 52,
      "outputs": [
        {
          "output_type": "execute_result",
          "data": {
            "text/plain": [
              "(5, 1000, 50)"
            ]
          },
          "metadata": {
            "tags": []
          },
          "execution_count": 52
        }
      ]
    },
    {
      "cell_type": "code",
      "metadata": {
        "id": "49h9F8AwpFoc",
        "colab_type": "code",
        "colab": {}
      },
      "source": [
        "generated_req = []\n",
        "for l in range(users):\n",
        "  request = []\n",
        "  for i in range(batch_size):\n",
        "    request.append(req_user[l,i])\n",
        "  for i in range(50):\n",
        "    request.append(fake_req[l,0,i])\n",
        "  for i in range(1000):\n",
        "    for j in range(n + 50):\n",
        "      if j < n:\n",
        "        request.append(req_user[l,10000 + j + n*i])\n",
        "      elif(i>0):\n",
        "        request.append(fake_req[l,i,j-n])\n",
        "  generated_req.append(request)"
      ],
      "execution_count": 0,
      "outputs": []
    },
    {
      "cell_type": "code",
      "metadata": {
        "id": "RgS64oCwpHkk",
        "colab_type": "code",
        "outputId": "c22a05d2-1f45-4e65-9167-02b90db42688",
        "colab": {
          "base_uri": "https://localhost:8080/",
          "height": 33
        }
      },
      "source": [
        "generated_req = np.array(generated_req)\n",
        "generated_req.shape"
      ],
      "execution_count": 54,
      "outputs": [
        {
          "output_type": "execute_result",
          "data": {
            "text/plain": [
              "(5, 450000)"
            ]
          },
          "metadata": {
            "tags": []
          },
          "execution_count": 54
        }
      ]
    },
    {
      "cell_type": "code",
      "metadata": {
        "id": "kAGlVrIfpJtT",
        "colab_type": "code",
        "outputId": "b7a82a53-88d1-403a-9ac6-29e6cbf23e6a",
        "colab": {
          "base_uri": "https://localhost:8080/",
          "height": 33
        }
      },
      "source": [
        "req_user.shape"
      ],
      "execution_count": 55,
      "outputs": [
        {
          "output_type": "execute_result",
          "data": {
            "text/plain": [
              "(5, 401000)"
            ]
          },
          "metadata": {
            "tags": []
          },
          "execution_count": 55
        }
      ]
    },
    {
      "cell_type": "code",
      "metadata": {
        "id": "o3Z9fAhypbxb",
        "colab_type": "code",
        "colab": {}
      },
      "source": [
        "np.save('req',req_user)\n",
        "np.save('gen_req',generated_req)"
      ],
      "execution_count": 0,
      "outputs": []
    },
    {
      "cell_type": "code",
      "metadata": {
        "id": "uCvcy9pav8hS",
        "colab_type": "code",
        "colab": {}
      },
      "source": [
        ""
      ],
      "execution_count": 0,
      "outputs": []
    }
  ]
}