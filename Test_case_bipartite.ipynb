{
  "nbformat": 4,
  "nbformat_minor": 0,
  "metadata": {
    "colab": {
      "name": "Test case bipartite",
      "provenance": []
    },
    "kernelspec": {
      "name": "python3",
      "display_name": "Python 3"
    }
  },
  "cells": [
    {
      "cell_type": "code",
      "metadata": {
        "id": "0J4llIkjajb0",
        "colab_type": "code",
        "colab": {}
      },
      "source": [
        "import numpy as np\n",
        "from numpy import random\n",
        "from scipy.optimize import linprog\n",
        "import matplotlib.pyplot as plt\n",
        "%matplotlib inline"
      ],
      "execution_count": 0,
      "outputs": []
    },
    {
      "cell_type": "code",
      "metadata": {
        "id": "os97TDvXascs",
        "colab_type": "code",
        "colab": {}
      },
      "source": [
        "gen_req = np.load('/content/drive/My Drive/gen_req.npy')\n",
        "req = np.load('/content/drive/My Drive/req.npy')"
      ],
      "execution_count": 0,
      "outputs": []
    },
    {
      "cell_type": "code",
      "metadata": {
        "id": "8saZdWWvaulR",
        "colab_type": "code",
        "colab": {
          "base_uri": "https://localhost:8080/",
          "height": 33
        },
        "outputId": "5abd5838-3c17-4764-8f98-65ea97492821"
      },
      "source": [
        "req.shape,gen_req.shape"
      ],
      "execution_count": 4,
      "outputs": [
        {
          "output_type": "execute_result",
          "data": {
            "text/plain": [
              "((5, 401000), (5, 450000))"
            ]
          },
          "metadata": {
            "tags": []
          },
          "execution_count": 4
        }
      ]
    },
    {
      "cell_type": "code",
      "metadata": {
        "id": "BmVaFfTDa0qT",
        "colab_type": "code",
        "colab": {}
      },
      "source": [
        "req_test = req[:,300000:400000]\n",
        "gen_req_test = gen_req[:,313000:413000]"
      ],
      "execution_count": 0,
      "outputs": []
    },
    {
      "cell_type": "code",
      "metadata": {
        "id": "ZBZ2xyfcbUJB",
        "colab_type": "code",
        "colab": {
          "base_uri": "https://localhost:8080/",
          "height": 33
        },
        "outputId": "265ec03b-a57f-4592-f042-640c9a9c4417"
      },
      "source": [
        "req_test.shape,gen_req_test.shape"
      ],
      "execution_count": 6,
      "outputs": [
        {
          "output_type": "execute_result",
          "data": {
            "text/plain": [
              "((5, 100000), (5, 100000))"
            ]
          },
          "metadata": {
            "tags": []
          },
          "execution_count": 6
        }
      ]
    },
    {
      "cell_type": "code",
      "metadata": {
        "id": "M-n7Uxhob44O",
        "colab_type": "code",
        "colab": {}
      },
      "source": [
        "N = 100 # total ids\n",
        "K = 10 \n",
        "pi = 3.14\n",
        "I = 5 #users\n",
        "d = 5 #degree\n",
        "T = len(req_test[0])\n",
        "J = 1 #caches\n",
        "C = 10 #cache memory"
      ],
      "execution_count": 0,
      "outputs": []
    },
    {
      "cell_type": "markdown",
      "metadata": {
        "id": "5VaclEa5bq8M",
        "colab_type": "text"
      },
      "source": [
        "LRU"
      ]
    },
    {
      "cell_type": "code",
      "metadata": {
        "id": "YoJCTqE7bWjI",
        "colab_type": "code",
        "colab": {}
      },
      "source": [
        "def distance(j,x):\n",
        "  n = j-1\n",
        "  i = 0\n",
        "  while req_test[i,n] != x and n > 0:\n",
        "    i += 1\n",
        "    if i == 5:\n",
        "      i = 0 \n",
        "      n -= 1\n",
        "  return j - n"
      ],
      "execution_count": 0,
      "outputs": []
    },
    {
      "cell_type": "code",
      "metadata": {
        "id": "bDzkUBdubutd",
        "colab_type": "code",
        "colab": {
          "base_uri": "https://localhost:8080/",
          "height": 33
        },
        "outputId": "392ecd10-dd76-4f48-8899-0680692e1b47"
      },
      "source": [
        "miss = 0\n",
        "hit = 0\n",
        "miss_LRU_test = []\n",
        "hit_LRU_test = []\n",
        "cache = []\n",
        "for i in range(I):\n",
        "  cache.append(req_test[i,0])\n",
        "  cache.append(req_test[i,1])\n",
        "\n",
        "for j in range(T):\n",
        "    # if upcoming request set is available the hit++ other wise miss++ and eviction.\n",
        "    e = np.zeros(C)\n",
        "    add = np.zeros(I)\n",
        "\n",
        "    for x in range(I):\n",
        "      for y in range(C):\n",
        "        if np.array(req_test[x,j]) == np.array(cache[y]):\n",
        "          e[y] += 1 # if e = 1 it cache number is contains requested file \n",
        "          add[x] += 1\n",
        "    match = np.sum(e)\n",
        "    hit += match\n",
        "    miss += (I - match)\n",
        "    if match < I :\n",
        "      # if e = 0 it cache can be evicted. But we have to decide which file to evict among these.\n",
        "      evict = 5 - match # total files to be evicted\n",
        "      d = []\n",
        "      for i in range(len(cache)):\n",
        "        if e[i] == 0: #then only we have to evict \n",
        "          t = distance(j,cache[i])\n",
        "          d.append(t)\n",
        "        elif e[i] == 1:\n",
        "          d.append(0)\n",
        "      \n",
        "      #choose total (5 - match) files with highest distance and evict them\n",
        "      for i in range(len(d)):\n",
        "        if d[i] > sorted(d, reverse = 1)[int(evict)]:\n",
        "          for k in range(len(add)):\n",
        "            if add[k] == 0:\n",
        "              cache[i] = req_test[k,j]\n",
        "              add[k] = 1\n",
        "    hit_LRU_test.append(hit)\n",
        "    miss_LRU_test.append(miss)\n",
        "print(hit,miss)"
      ],
      "execution_count": 16,
      "outputs": [
        {
          "output_type": "stream",
          "text": [
            "51610.0 448390.0\n"
          ],
          "name": "stdout"
        }
      ]
    },
    {
      "cell_type": "markdown",
      "metadata": {
        "id": "ZZ47y9ysb9Hd",
        "colab_type": "text"
      },
      "source": [
        "LFU"
      ]
    },
    {
      "cell_type": "code",
      "metadata": {
        "id": "ymOfL32sb2Kg",
        "colab_type": "code",
        "colab": {}
      },
      "source": [
        ""
      ],
      "execution_count": 0,
      "outputs": []
    },
    {
      "cell_type": "code",
      "metadata": {
        "id": "SFZm9rr0cNKL",
        "colab_type": "code",
        "colab": {
          "base_uri": "https://localhost:8080/",
          "height": 33
        },
        "outputId": "930384f3-076b-4aad-b1ed-124dd42bcbe3"
      },
      "source": [
        "hit = 0\n",
        "miss = 0\n",
        "hit_LFU_test = []\n",
        "miss_LFU_test = []\n",
        "count = np.zeros(N)\n",
        "cache = []\n",
        "for i in range(I):\n",
        "  cache.append(req_test[i,0])\n",
        "  cache.append(req_test[i,1])\n",
        "\n",
        "for j in range(T):\n",
        "  e = np.zeros(C)\n",
        "  add = np.zeros(I)\n",
        "  for x in range(I):\n",
        "    count[int(req_test[x,j])] += 1\n",
        "    for y in range(C):\n",
        "      if np.array(req_test[x,j]) == np.array(cache[y]):\n",
        "        e[y] += 1 # if e = 1 it cache number is contains requested file \n",
        "        add[x] += 1\n",
        "  match = np.sum(e)\n",
        "  hit += match\n",
        "  miss += (I - match)\n",
        "  regret = I - match\n",
        "  if match < I : # if e = 0 it cache can be evicted. But we have to decide which file to evict among these.\n",
        "    evict = 5 - match # total files to be evicted\n",
        "    d = []\n",
        "    for i in range(len(cache)):\n",
        "      if e[i] == 0: #then only we have to evict \n",
        "        t = count[int(cache[i])]\n",
        "        d.append(t)\n",
        "      elif e[i] == 1:\n",
        "        d.append(0)\n",
        "    #choose total (5 - match) files with highest distance and evict them\n",
        "    for i in range(len(d)):\n",
        "      if d[i] > sorted(d, reverse = 1)[int(evict)]:\n",
        "        for k in range(len(add)):\n",
        "          if add[k] == 0:\n",
        "            cache[i] = req_test[k,j]\n",
        "            add[k] = 1\n",
        "  hit_LFU_test.append(hit)\n",
        "  miss_LFU_test.append(miss)\n",
        "print(hit,miss)"
      ],
      "execution_count": 17,
      "outputs": [
        {
          "output_type": "stream",
          "text": [
            "45882.0 454118.0\n"
          ],
          "name": "stdout"
        }
      ]
    },
    {
      "cell_type": "markdown",
      "metadata": {
        "id": "mpSY0_Msc1rw",
        "colab_type": "text"
      },
      "source": [
        "LRU LSTM"
      ]
    },
    {
      "cell_type": "code",
      "metadata": {
        "id": "a4GXqPoSczpZ",
        "colab_type": "code",
        "colab": {}
      },
      "source": [
        "def dist(j,x):\n",
        "  n = j-1\n",
        "  i = 0\n",
        "  while gen_req[i,n] != x and n > 0:\n",
        "    i += 1\n",
        "    if i == 5:\n",
        "      i = 0 \n",
        "      n -= 1\n",
        "  return j - n"
      ],
      "execution_count": 0,
      "outputs": []
    },
    {
      "cell_type": "code",
      "metadata": {
        "id": "k1ci86Dsc5Ya",
        "colab_type": "code",
        "colab": {
          "base_uri": "https://localhost:8080/",
          "height": 33
        },
        "outputId": "2cfde094-de64-45a8-df5b-0f27ddba2f02"
      },
      "source": [
        "miss = 0\n",
        "hit = 0\n",
        "miss_LSTM_LRU_test = []\n",
        "hit_LSTM_LRU_test = []\n",
        "cache = []\n",
        "for i in range(I):\n",
        "  cache.append(gen_req_test[i,0])\n",
        "  cache.append(gen_req_test[i,1])\n",
        "\n",
        "for j in range(T):\n",
        "    # if upcoming request set is available the hit++ other wise miss++ and eviction.\n",
        "    e = np.zeros(C)\n",
        "    add = np.zeros(I)\n",
        "\n",
        "    for x in range(I):\n",
        "      for y in range(C):\n",
        "        if np.array(gen_req_test[x,j]) == np.array(cache[y]):\n",
        "          e[y] += 1 # if e = 1 it cache number is contains requested file \n",
        "          add[x] += 1\n",
        "    match = np.sum(e)\n",
        "    hit += match\n",
        "    miss += (I - match)\n",
        "    \n",
        "    if match < I :\n",
        "      # if e = 0 it cache can be evicted. But we have to decide which file to evict among these.\n",
        "      evict = I - match # total files to be evicted\n",
        "      d = []\n",
        "      for i in range(len(cache)):\n",
        "        if e[i] == 0: #then only we have to evict \n",
        "          t = dist(j,cache[i])\n",
        "          d.append(t)\n",
        "        elif e[i] == 1:\n",
        "          d.append(0)\n",
        "      \n",
        "      #choose total (I - match) files with highest distance and evict them\n",
        "      for i in range(len(d)):\n",
        "        if d[i] > sorted(d, reverse = 1)[int(evict)]:\n",
        "          for k in range(len(add)):\n",
        "            if add[k] == 0:\n",
        "              cache[i] = gen_req_test[k,j]\n",
        "              add[k] = 1\n",
        "    hit_LSTM_LRU_test.append(hit) \n",
        "    miss_LSTM_LRU_test.append(miss)\n",
        "print(hit,miss)"
      ],
      "execution_count": 19,
      "outputs": [
        {
          "output_type": "stream",
          "text": [
            "78947.0 421053.0\n"
          ],
          "name": "stdout"
        }
      ]
    },
    {
      "cell_type": "markdown",
      "metadata": {
        "id": "-GlIETjLdJ3y",
        "colab_type": "text"
      },
      "source": [
        "LSTM MIN\n"
      ]
    },
    {
      "cell_type": "code",
      "metadata": {
        "id": "eSZYO-ZKdHEN",
        "colab_type": "code",
        "colab": {}
      },
      "source": [
        "def dist(j,x):\n",
        "  n = j-1\n",
        "  i = 0\n",
        "  while gen_req_test[i,n] != x and n < len(req_test[0])-1:\n",
        "    i += 1\n",
        "    if i == 5:\n",
        "      i = 0 \n",
        "      n += 1\n",
        "  return j - n"
      ],
      "execution_count": 0,
      "outputs": []
    },
    {
      "cell_type": "code",
      "metadata": {
        "id": "YxcF8K8ydQUc",
        "colab_type": "code",
        "colab": {
          "base_uri": "https://localhost:8080/",
          "height": 33
        },
        "outputId": "dab403cd-1ff2-4c2e-a897-5b4e6cdad3e4"
      },
      "source": [
        "miss = 0\n",
        "hit = 0\n",
        "miss_LSTM_min_test = []\n",
        "hit_LSTM_min_test = []\n",
        "cache = []\n",
        "for i in range(I):\n",
        "  cache.append(gen_req_test[i,0])\n",
        "  cache.append(gen_req_test[i,1])\n",
        "\n",
        "for j in range(T-1):\n",
        "    # if upcoming request set is available the hit++ other wise miss++ and eviction.\n",
        "    e = np.zeros(C)\n",
        "    add = np.zeros(I)\n",
        "\n",
        "    for x in range(I):\n",
        "      for y in range(C):\n",
        "        if np.array(gen_req_test[x,j]) == np.array(cache[y]):\n",
        "          e[y] += 1 # if e = 1 it cache number is contains requested file \n",
        "          add[x] += 1\n",
        "    match = np.sum(e)\n",
        "    hit += match\n",
        "    miss += (I - match)\n",
        "    \n",
        "    if match < I :\n",
        "      # if e = 0 it cache can be evicted. But we have to decide which file to evict among these.\n",
        "      evict = I - match # total files to be evicted\n",
        "      d = []\n",
        "      for i in range(len(cache)):\n",
        "        if e[i] == 0: #then only we have to evict \n",
        "          t = dist(j,cache[i])\n",
        "          d.append(t)\n",
        "        elif e[i] == 1:\n",
        "          d.append(0)\n",
        "      \n",
        "      #choose total (I - match) files with highest distance and evict them\n",
        "      for i in range(len(d)):\n",
        "        if d[i] > sorted(d, reverse = 1)[int(evict)]:\n",
        "          for k in range(len(add)):\n",
        "            if add[k] == 0:\n",
        "              cache[i] = gen_req_test[k,j]\n",
        "              add[k] = 1\n",
        "    hit_LSTM_min_test.append(hit) \n",
        "    miss_LSTM_min_test.append(miss)\n",
        "print(hit,miss)"
      ],
      "execution_count": 24,
      "outputs": [
        {
          "output_type": "stream",
          "text": [
            "62957.0 437038.0\n"
          ],
          "name": "stdout"
        }
      ]
    },
    {
      "cell_type": "markdown",
      "metadata": {
        "id": "aoUdiYKiddT-",
        "colab_type": "text"
      },
      "source": [
        "FTPL"
      ]
    },
    {
      "cell_type": "code",
      "metadata": {
        "id": "GkBBVUCPdbCn",
        "colab_type": "code",
        "colab": {}
      },
      "source": [
        "def LP(perturbed_count):\n",
        "  A = np.zeros(((I*N)+J,(I+J)*N), dtype = 'int')\n",
        "  A1 = np.zeros((I*N,J*N), dtype = 'int')\n",
        "  A2 = np.zeros((J,(I+J)*N), dtype = 'int')\n",
        "\n",
        "  j = k = 0\n",
        "  while k < I*N:\n",
        "    if j == 100:\n",
        "      j -= 100\n",
        "    A1[k,j] = 1\n",
        "    j += 1\n",
        "    k += 1\n",
        "  for j in range(I*N):\n",
        "    for k in range(I*N):\n",
        "      if I == N:\n",
        "        A[j,k] = 1\n",
        "      else: \n",
        "        A[j,k] = 0\n",
        "  for j in range(I*N,(I+J)*N):\n",
        "    A2[0,j] = 1 \n",
        "  A[I*N,:] = A2[0,:]\n",
        "\n",
        "  B = np.zeros((I*N + J,1), dtype = int)\n",
        "  B[I*N,0] = C\n",
        "\n",
        "  f = np.zeros((1,(I+J)*N),dtype = 'f4')\n",
        "  for j in range(I):\n",
        "    for k in range(N):\n",
        "      f[0,j*N + k] = perturbed_count[j,k]\n",
        "  ans = linprog(-f,A,B,bounds =[0,1])\n",
        "  X = ans.x\n",
        "\n",
        "  z = np.zeros(I*N)\n",
        "  y = np.zeros((N,J), dtype = 'f4')\n",
        "  for j in range(len(X)):\n",
        "    if j < I*N:\n",
        "      z[j] = X[j]\n",
        "    else:\n",
        "      y[j-I*N,0] = X[j]\n",
        "  \n",
        "  z = z.reshape(N,I)\n",
        "  y = y.reshape(N,J)\n",
        "  return y,z"
      ],
      "execution_count": 0,
      "outputs": []
    },
    {
      "cell_type": "code",
      "metadata": {
        "id": "U1x486Ybdecx",
        "colab_type": "code",
        "colab": {
          "base_uri": "https://localhost:8080/",
          "height": 1000
        },
        "outputId": "dd99641c-5b12-443f-e180-0420f618352b"
      },
      "source": [
        "count = np.zeros((I,N), dtype=int)\n",
        "y_FTPL = np.zeros((N,J), dtype = 'f4')\n",
        "connections = np.ones((I,J),dtype=int)\n",
        "reward = 0\n",
        "regret = 0\n",
        "hit_FTPL_test = []\n",
        "miss_FTPL_test = []\n",
        "eta = I*pow(4*pi*np.log(N*I),-.25)*pow(T/(d*J*C),.5)\n",
        "\n",
        "for i in range(T):\n",
        "  if i %1000 == 0:\n",
        "    print(i)\n",
        "  x_t = np.zeros((J,N),dtype=int)\n",
        "  for j in range(I):\n",
        "    count[j,int(req_test[j,i])] += 1\n",
        "    x_t[0,int(req_test[j,i])] += 1\n",
        "  \n",
        "  perturbed_count = np.zeros((I,N), dtype = 'f4')\n",
        "  norm =  random.normal(0,1,[N,1])\n",
        "  for j in range(I):\n",
        "    for k in range(N):\n",
        "      perturbed_count[j,k] = count[j,k] + np.multiply(eta, norm)[k]\n",
        "  \n",
        "  [y_FTPL,z] = LP(perturbed_count) \n",
        "  reward += np.dot(x_t,y_FTPL)[0,0]\n",
        "  regret += np.sum(np.dot(x_t,z))\n",
        "  hit_FTPL_test.append(reward)\n",
        "  miss_FTPL_test.append(regret)\n",
        "print(reward,regret)"
      ],
      "execution_count": 28,
      "outputs": [
        {
          "output_type": "stream",
          "text": [
            "0\n",
            "1000\n",
            "2000\n",
            "3000\n",
            "4000\n",
            "5000\n",
            "6000\n",
            "7000\n",
            "8000\n",
            "9000\n",
            "10000\n",
            "11000\n",
            "12000\n",
            "13000\n",
            "14000\n",
            "15000\n",
            "16000\n",
            "17000\n",
            "18000\n",
            "19000\n",
            "20000\n",
            "21000\n",
            "22000\n",
            "23000\n",
            "24000\n",
            "25000\n",
            "26000\n",
            "27000\n",
            "28000\n",
            "29000\n",
            "30000\n",
            "31000\n",
            "32000\n",
            "33000\n",
            "34000\n",
            "35000\n",
            "36000\n",
            "37000\n",
            "38000\n",
            "39000\n",
            "40000\n",
            "41000\n",
            "42000\n",
            "43000\n",
            "44000\n",
            "45000\n",
            "46000\n",
            "47000\n",
            "48000\n",
            "49000\n",
            "50000\n",
            "51000\n",
            "52000\n",
            "53000\n",
            "54000\n",
            "55000\n",
            "56000\n",
            "57000\n",
            "58000\n",
            "59000\n",
            "60000\n",
            "61000\n",
            "62000\n",
            "63000\n",
            "64000\n",
            "65000\n",
            "66000\n",
            "67000\n",
            "68000\n",
            "69000\n",
            "70000\n",
            "71000\n",
            "72000\n",
            "73000\n",
            "74000\n",
            "75000\n",
            "76000\n",
            "77000\n",
            "78000\n",
            "79000\n",
            "80000\n",
            "81000\n",
            "82000\n",
            "83000\n",
            "84000\n",
            "85000\n",
            "86000\n",
            "87000\n",
            "88000\n",
            "89000\n",
            "90000\n",
            "91000\n",
            "92000\n",
            "93000\n",
            "94000\n",
            "95000\n",
            "96000\n",
            "97000\n",
            "98000\n",
            "99000\n",
            "49511.20913028717 2414544.0\n"
          ],
          "name": "stdout"
        }
      ]
    },
    {
      "cell_type": "markdown",
      "metadata": {
        "id": "dn1hBUrR_pne",
        "colab_type": "text"
      },
      "source": [
        "PLOTS"
      ]
    },
    {
      "cell_type": "code",
      "metadata": {
        "id": "sA5BFSOGGOK5",
        "colab_type": "code",
        "colab": {}
      },
      "source": [
        "miss_FTPL_test1 = []\n",
        "for i in range(T):\n",
        "  miss_FTPL_test1.append(miss_FTPL_test[i]/I)"
      ],
      "execution_count": 0,
      "outputs": []
    },
    {
      "cell_type": "code",
      "metadata": {
        "id": "HGm2QG3LdsNn",
        "colab_type": "code",
        "colab": {
          "base_uri": "https://localhost:8080/",
          "height": 296
        },
        "outputId": "d1a39ed3-dde0-415a-96b0-04937761d91b"
      },
      "source": [
        "plt.plot(hit_LRU_test,'blue',label = 'LRU')\n",
        "plt.plot(hit_LFU_test,'yellow',label = 'LFU')\n",
        "plt.plot(hit_FTPL_test,'black',label = 'FTPL')\n",
        "plt.plot(hit_LSTM_LRU_test,'green',label = 'LSTM-LRU')\n",
        "plt.plot(hit_LSTM_min_test,'red',label = 'LSTM-MIN')\n",
        "plt.legend()\n",
        "plt.xlabel('Requests')\n",
        "plt.ylabel('Hit-rate')\n",
        "#plt.savefig('hit-rate_test')"
      ],
      "execution_count": 29,
      "outputs": [
        {
          "output_type": "execute_result",
          "data": {
            "text/plain": [
              "Text(0, 0.5, 'Hit-rate')"
            ]
          },
          "metadata": {
            "tags": []
          },
          "execution_count": 29
        },
        {
          "output_type": "display_data",
          "data": {
            "image/png": "[encoded data removed]",
            "text/plain": [
              "<Figure size 432x288 with 1 Axes>"
            ]
          },
          "metadata": {
            "tags": [],
            "needs_background": "light"
          }
        }
      ]
    },
    {
      "cell_type": "code",
      "metadata": {
        "id": "8nj_pM7h1i_M",
        "colab_type": "code",
        "colab": {
          "base_uri": "https://localhost:8080/",
          "height": 297
        },
        "outputId": "c3ddbcce-38fd-4f76-82b4-b27054dcad49"
      },
      "source": [
        "plt.plot(miss_LRU_test,'blue',label = 'LRU')\n",
        "plt.plot(miss_LFU_test,'yellow',label = 'LFU')\n",
        "plt.plot(miss_FTPL_test1,'black',label = 'FTPL')\n",
        "plt.plot(miss_LSTM_LRU_test,'green',label = 'LSTM-LRU')\n",
        "plt.plot(miss_LSTM_min_test,'red',label = 'LSTM-MIN')\n",
        "plt.legend()\n",
        "plt.xlabel('Requests')\n",
        "plt.ylabel('Miss-rate')\n",
        "#plt.savefig('miss-rate_test')"
      ],
      "execution_count": 40,
      "outputs": [
        {
          "output_type": "execute_result",
          "data": {
            "text/plain": [
              "Text(0, 0.5, 'Miss-rate')"
            ]
          },
          "metadata": {
            "tags": []
          },
          "execution_count": 40
        },
        {
          "output_type": "display_data",
          "data": {
            "image/png": "[encoded data removed]",
            "text/plain": [
              "<Figure size 432x288 with 1 Axes>"
            ]
          },
          "metadata": {
            "tags": [],
            "needs_background": "light"
          }
        }
      ]
    },
    {
      "cell_type": "code",
      "metadata": {
        "id": "n6eyVCDVFmhI",
        "colab_type": "code",
        "colab": {}
      },
      "source": [
        ""
      ],
      "execution_count": 0,
      "outputs": []
    }
  ]
}