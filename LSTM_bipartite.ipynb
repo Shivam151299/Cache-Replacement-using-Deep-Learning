{
  "nbformat": 4,
  "nbformat_minor": 0,
  "metadata": {
    "colab": {
      "name": "LSTM-bipartite",
      "provenance": []
    },
    "kernelspec": {
      "name": "python3",
      "display_name": "Python 3"
    }
  },
  "cells": [
    {
      "cell_type": "code",
      "metadata": {
        "id": "sWva_hYzKHxw",
        "colab_type": "code",
        "outputId": "6251e3e2-3c3e-4b8f-e125-a7b687189e42",
        "colab": {
          "base_uri": "https://localhost:8080/",
          "height": 34
        }
      },
      "source": [
        "from random import randint\n",
        "from numpy import array\n",
        "import numpy as np\n",
        "from keras.models import Model\n",
        "from keras.layers import Input\n",
        "from keras.layers import LSTM\n",
        "from keras.layers import Dense\n",
        "import matplotlib.pyplot as plt\n",
        "from keras.optimizers import Adam\n",
        "\n",
        "%matplotlib inline"
      ],
      "execution_count": 1,
      "outputs": [
        {
          "output_type": "stream",
          "text": [
            "Using TensorFlow backend.\n"
          ],
          "name": "stderr"
        }
      ]
    },
    {
      "cell_type": "markdown",
      "metadata": {
        "id": "x4G_hjGrxtzG",
        "colab_type": "text"
      },
      "source": [
        "DATA"
      ]
    },
    {
      "cell_type": "code",
      "metadata": {
        "id": "yS7XS99WKR5g",
        "colab_type": "code",
        "colab": {}
      },
      "source": [
        "data = []\n",
        "with open('/content/drive/My Drive/request_seq.txt' , errors='ignore' ) as fin:\n",
        "    fin.seek(0)\n",
        "    d = fin.read(100000000) "
      ],
      "execution_count": 0,
      "outputs": []
    },
    {
      "cell_type": "code",
      "metadata": {
        "id": "VSqi4I-Xk7BH",
        "colab_type": "code",
        "outputId": "c5dd413e-1177-4d01-daf5-7ce62d7f9b3c",
        "colab": {
          "base_uri": "https://localhost:8080/",
          "height": 34
        }
      },
      "source": [
        "#Data is continous sequence.Each segment in the sequence separated by '\\n'\n",
        "#Each segment contains 3 items: number of request, request ID and size of requested file.\n",
        "d[:100]"
      ],
      "execution_count": 3,
      "outputs": [
        {
          "output_type": "execute_result",
          "data": {
            "text/plain": [
              "'1 778030675 13539\\n2 3484637698 17635\\n3 1130267045 152\\n4 3423744231 616\\n5 203613471 121\\n6 1342928892 '"
            ]
          },
          "metadata": {
            "tags": []
          },
          "execution_count": 3
        }
      ]
    },
    {
      "cell_type": "code",
      "metadata": {
        "id": "M_vRN4OlPMad",
        "colab_type": "code",
        "outputId": "be2e180e-fe89-4168-c225-ad90654aad25",
        "colab": {
          "base_uri": "https://localhost:8080/",
          "height": 185
        }
      },
      "source": [
        "#Spliting the continous sequence\n",
        "data = d.split()\n",
        "data[:10]"
      ],
      "execution_count": 4,
      "outputs": [
        {
          "output_type": "execute_result",
          "data": {
            "text/plain": [
              "['1',\n",
              " '778030675',\n",
              " '13539',\n",
              " '2',\n",
              " '3484637698',\n",
              " '17635',\n",
              " '3',\n",
              " '1130267045',\n",
              " '152',\n",
              " '4']"
            ]
          },
          "metadata": {
            "tags": []
          },
          "execution_count": 4
        }
      ]
    },
    {
      "cell_type": "code",
      "metadata": {
        "id": "LLfMb8A9pNob",
        "colab_type": "code",
        "outputId": "ad431782-97df-42b0-f36e-b7c9520b1e3c",
        "colab": {
          "base_uri": "https://localhost:8080/",
          "height": 34
        }
      },
      "source": [
        "del d\n",
        "len(data)"
      ],
      "execution_count": 5,
      "outputs": [
        {
          "output_type": "execute_result",
          "data": {
            "text/plain": [
              "12722261"
            ]
          },
          "metadata": {
            "tags": []
          },
          "execution_count": 5
        }
      ]
    },
    {
      "cell_type": "code",
      "metadata": {
        "id": "b0NjRlMboTBC",
        "colab_type": "code",
        "colab": {}
      },
      "source": [
        "#We are interested in number of request and request id.\n",
        "req = []\n",
        "for i in range(len(data)):\n",
        "  r = []\n",
        "  if (i-1)%3 == 0 and len(req)<2005000:\n",
        "    r.append(data[i])\n",
        "    #To convert string into real numbers. \n",
        "    temp = 0\n",
        "    for j in range(len(r[0])):\n",
        "      temp = temp + int(r[0][j])*pow(10,len(r[0])-j-1)\n",
        "    req.append(temp)"
      ],
      "execution_count": 0,
      "outputs": []
    },
    {
      "cell_type": "code",
      "metadata": {
        "id": "CfFQtpqcr1m0",
        "colab_type": "code",
        "outputId": "1614e841-642d-47b7-f08e-ca1dca0de5f5",
        "colab": {
          "base_uri": "https://localhost:8080/",
          "height": 34
        }
      },
      "source": [
        "req = np.array(req)\n",
        "req.shape"
      ],
      "execution_count": 7,
      "outputs": [
        {
          "output_type": "execute_result",
          "data": {
            "text/plain": [
              "(2005000,)"
            ]
          },
          "metadata": {
            "tags": []
          },
          "execution_count": 7
        }
      ]
    },
    {
      "cell_type": "code",
      "metadata": {
        "id": "KyL7MNvtu7UU",
        "colab_type": "code",
        "outputId": "6e61dc6b-c874-45d0-9a9c-3f98b1e9c57d",
        "colab": {
          "base_uri": "https://localhost:8080/",
          "height": 34
        }
      },
      "source": [
        "#To find the range of request id\n",
        "min = np.min(req)\n",
        "max = np.max(req)\n",
        "min,max"
      ],
      "execution_count": 8,
      "outputs": [
        {
          "output_type": "execute_result",
          "data": {
            "text/plain": [
              "(2301, 4294966263)"
            ]
          },
          "metadata": {
            "tags": []
          },
          "execution_count": 8
        }
      ]
    },
    {
      "cell_type": "code",
      "metadata": {
        "id": "AlpPbFEvu879",
        "colab_type": "code",
        "colab": {}
      },
      "source": [
        "# To reduce total numbers of ID\n",
        "id = 50\n",
        "factor = (max - min)/(id-1)\n",
        "req1 = []\n",
        "for i in range(len(req)):\n",
        "  req1 .append(int(np.divide(req[i],factor)))"
      ],
      "execution_count": 0,
      "outputs": []
    },
    {
      "cell_type": "code",
      "metadata": {
        "id": "OY0xWAyrvATN",
        "colab_type": "code",
        "colab": {}
      },
      "source": [
        "# For bipartite network, Distributing request among 10 users\n",
        "users = 5\n",
        "req_user = []\n",
        "for i in range(int(len(req1)/users)):\n",
        "  temp = []\n",
        "  for j in range(i*users,(i+1)*users):\n",
        "    temp.append(req1[j])\n",
        "  req_user.append(temp)"
      ],
      "execution_count": 0,
      "outputs": []
    },
    {
      "cell_type": "code",
      "metadata": {
        "id": "YX9glAOWvBm8",
        "colab_type": "code",
        "outputId": "b8dcd233-c95d-40c3-f527-da40e952ef19",
        "colab": {
          "base_uri": "https://localhost:8080/",
          "height": 34
        }
      },
      "source": [
        "req_user = np.array(np.transpose(req_user))\n",
        "req_user.shape"
      ],
      "execution_count": 11,
      "outputs": [
        {
          "output_type": "execute_result",
          "data": {
            "text/plain": [
              "(5, 401000)"
            ]
          },
          "metadata": {
            "tags": []
          },
          "execution_count": 11
        }
      ]
    },
    {
      "cell_type": "code",
      "metadata": {
        "id": "MRUQlpSg-KoN",
        "colab_type": "code",
        "colab": {}
      },
      "source": [
        "del req, req1, temp, data, r"
      ],
      "execution_count": 0,
      "outputs": []
    },
    {
      "cell_type": "code",
      "metadata": {
        "id": "QBSUflAM-10R",
        "colab_type": "code",
        "outputId": "884d5810-52e4-4a1b-be3e-2dbf3c2b31ae",
        "colab": {
          "base_uri": "https://localhost:8080/",
          "height": 34
        }
      },
      "source": [
        "count = np.zeros((users,id), dtype = 'float')\n",
        "for i in range(users):\n",
        "  for j in range(1000):\n",
        "    count[i,int(req_user[i][j])] += 1\n",
        "count.shape"
      ],
      "execution_count": 13,
      "outputs": [
        {
          "output_type": "execute_result",
          "data": {
            "text/plain": [
              "(5, 50)"
            ]
          },
          "metadata": {
            "tags": []
          },
          "execution_count": 13
        }
      ]
    },
    {
      "cell_type": "code",
      "metadata": {
        "id": "oe6Xp5cMLor2",
        "colab_type": "code",
        "colab": {}
      },
      "source": [
        "prob = np.zeros((users,len(req_user[0])-1000,id), dtype = 'f4')"
      ],
      "execution_count": 0,
      "outputs": []
    },
    {
      "cell_type": "code",
      "metadata": {
        "id": "BGuF-XZZmZ-5",
        "colab_type": "code",
        "colab": {}
      },
      "source": [
        "for i in range(users):\n",
        "  for j in range(len(req_user[0])-1000):\n",
        "    count[i,int(req_user[i,j+1000])] += 1\n",
        "    count[i,int(req_user[i,j])] -= 1\n",
        "    prob[i,j,:] = count[i,:]/1000"
      ],
      "execution_count": 0,
      "outputs": []
    },
    {
      "cell_type": "code",
      "metadata": {
        "id": "oHi243s0sOFV",
        "colab_type": "code",
        "outputId": "0c548ff2-7337-462e-9bf4-2b4da7f63f68",
        "colab": {
          "base_uri": "https://localhost:8080/",
          "height": 34
        }
      },
      "source": [
        "prob.shape"
      ],
      "execution_count": 16,
      "outputs": [
        {
          "output_type": "execute_result",
          "data": {
            "text/plain": [
              "(5, 400000, 50)"
            ]
          },
          "metadata": {
            "tags": []
          },
          "execution_count": 16
        }
      ]
    },
    {
      "cell_type": "code",
      "metadata": {
        "id": "TU8JHG5Gfo5t",
        "colab_type": "code",
        "colab": {}
      },
      "source": [
        "del count"
      ],
      "execution_count": 0,
      "outputs": []
    },
    {
      "cell_type": "code",
      "metadata": {
        "id": "NvNFlf45s1rM",
        "colab_type": "code",
        "outputId": "2eafb457-4f72-4c10-debd-8486083ea635",
        "colab": {
          "base_uri": "https://localhost:8080/",
          "height": 34
        }
      },
      "source": [
        "batch_size = 15000\n",
        "encoder_input_data = prob[:,:300000,:].reshape(20*users,batch_size,id) # total samples per users = 20\n",
        "encoder_input_data.shape"
      ],
      "execution_count": 18,
      "outputs": [
        {
          "output_type": "execute_result",
          "data": {
            "text/plain": [
              "(100, 15000, 50)"
            ]
          },
          "metadata": {
            "tags": []
          },
          "execution_count": 18
        }
      ]
    },
    {
      "cell_type": "code",
      "metadata": {
        "id": "YGfLOrKEu-m5",
        "colab_type": "code",
        "outputId": "f66226bb-ea31-44c1-b7df-fa063c673c0f",
        "colab": {
          "base_uri": "https://localhost:8080/",
          "height": 34
        }
      },
      "source": [
        "decoder_target_data = []\n",
        "k = 10 # Next sequence to be predicted\n",
        "for i in range(1,21):\n",
        "    temp = []\n",
        "    for j in range(k): # to predict next 10 req for every batch\n",
        "        temp.append(prob[:,(batch_size*i) + j,:])\n",
        "    decoder_target_data.append(temp)    \n",
        "\n",
        "decoder_target_data = np.array(decoder_target_data).reshape(20*users,k,id)\n",
        "decoder_target_data.shape"
      ],
      "execution_count": 19,
      "outputs": [
        {
          "output_type": "execute_result",
          "data": {
            "text/plain": [
              "(100, 10, 50)"
            ]
          },
          "metadata": {
            "tags": []
          },
          "execution_count": 19
        }
      ]
    },
    {
      "cell_type": "code",
      "metadata": {
        "id": "bfj4yBsS0S1Q",
        "colab_type": "code",
        "outputId": "318233c2-8f87-4e8d-aab4-1ccbf752ff49",
        "colab": {
          "base_uri": "https://localhost:8080/",
          "height": 34
        }
      },
      "source": [
        "decoder_input_data = np.zeros(decoder_target_data.shape)\n",
        "decoder_input_data[1:,:,:] = decoder_target_data[:-1,:,:]\n",
        "decoder_input_data[0,:,:] = encoder_input_data[-1,-1,:]\n",
        "decoder_input_data.shape"
      ],
      "execution_count": 20,
      "outputs": [
        {
          "output_type": "execute_result",
          "data": {
            "text/plain": [
              "(100, 10, 50)"
            ]
          },
          "metadata": {
            "tags": []
          },
          "execution_count": 20
        }
      ]
    },
    {
      "cell_type": "code",
      "metadata": {
        "id": "B308lA310kso",
        "colab_type": "code",
        "colab": {}
      },
      "source": [
        ""
      ],
      "execution_count": 0,
      "outputs": []
    },
    {
      "cell_type": "markdown",
      "metadata": {
        "id": "k_-VYX0l2c9O",
        "colab_type": "text"
      },
      "source": [
        "MODEL\n"
      ]
    },
    {
      "cell_type": "code",
      "metadata": {
        "id": "4ouGrriG08t-",
        "colab_type": "code",
        "colab": {}
      },
      "source": [
        "latent_dim = 128 # LSTM hidden units\n",
        "dropout = 0.1"
      ],
      "execution_count": 0,
      "outputs": []
    },
    {
      "cell_type": "code",
      "metadata": {
        "id": "yYOT-Q731wjk",
        "colab_type": "code",
        "colab": {}
      },
      "source": [
        "encoder_inputs = Input(shape=(None, 50)) \n",
        "encoder = LSTM(latent_dim, dropout=dropout, return_state=True)\n",
        "encoder_outputs, state_h, state_c = encoder(encoder_inputs)\n",
        "encoder_states = [state_h, state_c]"
      ],
      "execution_count": 0,
      "outputs": []
    },
    {
      "cell_type": "code",
      "metadata": {
        "id": "SI0kKGSZ2F2M",
        "colab_type": "code",
        "colab": {}
      },
      "source": [
        "decoder_inputs = Input(shape=(None, 50)) \n",
        "decoder_lstm = LSTM(latent_dim, dropout=dropout, return_sequences=True, return_state=True)\n",
        "decoder_outputs, _, _ = decoder_lstm(decoder_inputs,\n",
        "                                     initial_state=encoder_states)"
      ],
      "execution_count": 0,
      "outputs": []
    },
    {
      "cell_type": "code",
      "metadata": {
        "id": "Dt4bjw5CuZCG",
        "colab_type": "code",
        "colab": {}
      },
      "source": [
        "decoder_outputs = Dense(50, activation='softmax')(decoder_outputs)"
      ],
      "execution_count": 0,
      "outputs": []
    },
    {
      "cell_type": "code",
      "metadata": {
        "id": "N3TV7lvSubT9",
        "colab_type": "code",
        "outputId": "cd5cef5b-15b7-471d-d9d0-94e8ae1de1c7",
        "colab": {
          "base_uri": "https://localhost:8080/",
          "height": 353
        }
      },
      "source": [
        "model = Model([encoder_inputs, decoder_inputs], decoder_outputs)\n",
        "model.summary()"
      ],
      "execution_count": 25,
      "outputs": [
        {
          "output_type": "stream",
          "text": [
            "Model: \"model_1\"\n",
            "__________________________________________________________________________________________________\n",
            "Layer (type)                    Output Shape         Param #     Connected to                     \n",
            "==================================================================================================\n",
            "input_1 (InputLayer)            (None, None, 50)     0                                            \n",
            "__________________________________________________________________________________________________\n",
            "input_2 (InputLayer)            (None, None, 50)     0                                            \n",
            "__________________________________________________________________________________________________\n",
            "lstm_1 (LSTM)                   [(None, 128), (None, 91648       input_1[0][0]                    \n",
            "__________________________________________________________________________________________________\n",
            "lstm_2 (LSTM)                   [(None, None, 128),  91648       input_2[0][0]                    \n",
            "                                                                 lstm_1[0][1]                     \n",
            "                                                                 lstm_1[0][2]                     \n",
            "__________________________________________________________________________________________________\n",
            "dense_1 (Dense)                 (None, None, 50)     6450        lstm_2[0][0]                     \n",
            "==================================================================================================\n",
            "Total params: 189,746\n",
            "Trainable params: 189,746\n",
            "Non-trainable params: 0\n",
            "__________________________________________________________________________________________________\n"
          ],
          "name": "stdout"
        }
      ]
    },
    {
      "cell_type": "code",
      "metadata": {
        "id": "5VRUz2ASugxy",
        "colab_type": "code",
        "outputId": "ac56825d-6e00-42bb-95e3-c74358cc7817",
        "colab": {
          "base_uri": "https://localhost:8080/",
          "height": 1000
        }
      },
      "source": [
        "model.compile(Adam(), loss='mean_squared_error')\n",
        "history = model.fit([encoder_input_data, decoder_input_data], decoder_target_data,batch_size=batch_size,epochs=30)"
      ],
      "execution_count": 26,
      "outputs": [
        {
          "output_type": "stream",
          "text": [
            "Epoch 1/30\n",
            "100/100 [==============================] - 46s 459ms/step - loss: 3.1674e-05\n",
            "Epoch 2/30\n",
            "100/100 [==============================] - 42s 421ms/step - loss: 3.1564e-05\n",
            "Epoch 3/30\n",
            "100/100 [==============================] - 42s 422ms/step - loss: 3.1447e-05\n",
            "Epoch 4/30\n",
            "100/100 [==============================] - 42s 419ms/step - loss: 3.1306e-05\n",
            "Epoch 5/30\n",
            "100/100 [==============================] - 42s 420ms/step - loss: 3.1172e-05\n",
            "Epoch 6/30\n",
            "100/100 [==============================] - 42s 421ms/step - loss: 3.1010e-05\n",
            "Epoch 7/30\n",
            "100/100 [==============================] - 42s 421ms/step - loss: 3.0875e-05\n",
            "Epoch 8/30\n",
            "100/100 [==============================] - 42s 421ms/step - loss: 3.0699e-05\n",
            "Epoch 9/30\n",
            "100/100 [==============================] - 42s 420ms/step - loss: 3.0545e-05\n",
            "Epoch 10/30\n",
            "100/100 [==============================] - 43s 434ms/step - loss: 3.0392e-05\n",
            "Epoch 11/30\n",
            "100/100 [==============================] - 43s 427ms/step - loss: 3.0226e-05\n",
            "Epoch 12/30\n",
            "100/100 [==============================] - 42s 422ms/step - loss: 3.0058e-05\n",
            "Epoch 13/30\n",
            "100/100 [==============================] - 42s 419ms/step - loss: 2.9892e-05\n",
            "Epoch 14/30\n",
            "100/100 [==============================] - 42s 421ms/step - loss: 2.9736e-05\n",
            "Epoch 15/30\n",
            "100/100 [==============================] - 42s 421ms/step - loss: 2.9572e-05\n",
            "Epoch 16/30\n",
            "100/100 [==============================] - 42s 421ms/step - loss: 2.9411e-05\n",
            "Epoch 17/30\n",
            "100/100 [==============================] - 42s 422ms/step - loss: 2.9254e-05\n",
            "Epoch 18/30\n",
            "100/100 [==============================] - 42s 420ms/step - loss: 2.9083e-05\n",
            "Epoch 19/30\n",
            "100/100 [==============================] - 42s 421ms/step - loss: 2.8937e-05\n",
            "Epoch 20/30\n",
            "100/100 [==============================] - 42s 422ms/step - loss: 2.8772e-05\n",
            "Epoch 21/30\n",
            "100/100 [==============================] - 42s 418ms/step - loss: 2.8614e-05\n",
            "Epoch 22/30\n",
            "100/100 [==============================] - 42s 420ms/step - loss: 2.8460e-05\n",
            "Epoch 23/30\n",
            "100/100 [==============================] - 42s 421ms/step - loss: 2.8302e-05\n",
            "Epoch 24/30\n",
            "100/100 [==============================] - 42s 421ms/step - loss: 2.8151e-05\n",
            "Epoch 25/30\n",
            "100/100 [==============================] - 43s 430ms/step - loss: 2.7996e-05\n",
            "Epoch 26/30\n",
            "100/100 [==============================] - 42s 420ms/step - loss: 2.7844e-05\n",
            "Epoch 27/30\n",
            "100/100 [==============================] - 42s 419ms/step - loss: 2.7688e-05\n",
            "Epoch 28/30\n",
            "100/100 [==============================] - 42s 420ms/step - loss: 2.7552e-05\n",
            "Epoch 29/30\n",
            "100/100 [==============================] - 42s 420ms/step - loss: 2.7394e-05\n",
            "Epoch 30/30\n",
            "100/100 [==============================] - 42s 419ms/step - loss: 2.7242e-05\n"
          ],
          "name": "stdout"
        }
      ]
    },
    {
      "cell_type": "code",
      "metadata": {
        "id": "wxafxcdOulJH",
        "colab_type": "code",
        "colab": {}
      },
      "source": [
        "encoder_model = Model(encoder_inputs, encoder_states)\n",
        "pred_steps = 10\n",
        "\n",
        "decoder_state_input_h = Input(shape=(latent_dim,))\n",
        "decoder_state_input_c = Input(shape=(latent_dim,))\n",
        "decoder_states_inputs = [decoder_state_input_h, decoder_state_input_c]\n",
        "\n",
        "decoder_outputs, state_h, state_c = decoder_lstm(decoder_inputs, initial_state=decoder_states_inputs)\n",
        "decoder_states = [state_h, state_c]\n",
        "\n",
        "decoder_outputs = Dense(50, activation='softmax')(decoder_outputs)\n",
        "decoder_model = Model([decoder_inputs] + decoder_states_inputs,\n",
        "                      [decoder_outputs] + decoder_states)"
      ],
      "execution_count": 0,
      "outputs": []
    },
    {
      "cell_type": "code",
      "metadata": {
        "id": "iO58GiL8Af4G",
        "colab_type": "code",
        "colab": {}
      },
      "source": [
        "def decode_sequence(input_seq):\n",
        "    \n",
        "    # Encode the input as state vectors.\n",
        "    states_value = encoder_model.predict(input_seq)\n",
        "\n",
        "    # Generate empty target sequence of length 1.\n",
        "    target_seq = np.zeros((1, 1, 50))\n",
        "    \n",
        "    # Populate the first target sequence with end of encoding series pageviews\n",
        "    target_seq[0, 0, :] = input_seq[0, -1, :]\n",
        "\n",
        "    # Sampling loop for a batch of sequences - we will fill decoded_seq with predictions\n",
        "    # (to simplify, here we assume a batch of size 1).\n",
        "\n",
        "    decoded_seq = np.zeros((1,pred_steps,50))\n",
        "    for i in range(pred_steps):\n",
        "        \n",
        "        output, h, c = decoder_model.predict([target_seq] + states_value)\n",
        "        \n",
        "        decoded_seq[0,i,:] = output[0,0,:]\n",
        "\n",
        "        # Update the target sequence (of length 1).\n",
        "        target_seq = np.zeros((1, 1, 50))\n",
        "        target_seq[0, 0, :] = output[0,0,:]\n",
        "\n",
        "        # Update states\n",
        "        states_value = [h, c]\n",
        "\n",
        "    return decoded_seq"
      ],
      "execution_count": 0,
      "outputs": []
    },
    {
      "cell_type": "markdown",
      "metadata": {
        "id": "qiQvfaV2ArtY",
        "colab_type": "text"
      },
      "source": [
        "TESTING"
      ]
    },
    {
      "cell_type": "code",
      "metadata": {
        "id": "3qqPs5P1AiwX",
        "colab_type": "code",
        "colab": {
          "base_uri": "https://localhost:8080/",
          "height": 34
        },
        "outputId": "da3c2e14-388d-43f6-aa03-d3d67e04728d"
      },
      "source": [
        "prob.shape"
      ],
      "execution_count": 29,
      "outputs": [
        {
          "output_type": "execute_result",
          "data": {
            "text/plain": [
              "(5, 400000, 50)"
            ]
          },
          "metadata": {
            "tags": []
          },
          "execution_count": 29
        }
      ]
    },
    {
      "cell_type": "code",
      "metadata": {
        "id": "lReXyBAwAqFY",
        "colab_type": "code",
        "colab": {
          "base_uri": "https://localhost:8080/",
          "height": 34
        },
        "outputId": "faa6c3b9-5422-467c-e6e0-26d4ba624966"
      },
      "source": [
        "(400000-10000)/1000"
      ],
      "execution_count": 30,
      "outputs": [
        {
          "output_type": "execute_result",
          "data": {
            "text/plain": [
              "390.0"
            ]
          },
          "metadata": {
            "tags": []
          },
          "execution_count": 30
        }
      ]
    },
    {
      "cell_type": "code",
      "metadata": {
        "id": "p-NEYdmlA7ZU",
        "colab_type": "code",
        "colab": {
          "base_uri": "https://localhost:8080/",
          "height": 34
        },
        "outputId": "364dcc4d-81cf-406f-c6e3-e7c43fcae8e9"
      },
      "source": [
        "p = decode_sequence(prob[1,:15000,:].reshape(1,15000,50))\n",
        "p.shape"
      ],
      "execution_count": 31,
      "outputs": [
        {
          "output_type": "execute_result",
          "data": {
            "text/plain": [
              "(1, 10, 50)"
            ]
          },
          "metadata": {
            "tags": []
          },
          "execution_count": 31
        }
      ]
    },
    {
      "cell_type": "code",
      "metadata": {
        "id": "3j7TzjANBhNA",
        "colab_type": "code",
        "colab": {
          "base_uri": "https://localhost:8080/",
          "height": 34
        },
        "outputId": "5dd5df2f-b44b-4e23-c89b-23997f274a33"
      },
      "source": [
        "prediction = []\n",
        "for i in range(users):\n",
        "  print(i)\n",
        "  temp = []\n",
        "  for j in range(1000):\n",
        "    temp.append(decode_sequence(prob[i,i*390:i*390 + 15000,:].reshape(1,15000,50)))\n",
        "  prediction.append(temp)"
      ],
      "execution_count": 0,
      "outputs": [
        {
          "output_type": "stream",
          "text": [
            "0\n"
          ],
          "name": "stdout"
        }
      ]
    },
    {
      "cell_type": "code",
      "metadata": {
        "id": "yqZaENdzBlFU",
        "colab_type": "code",
        "colab": {}
      },
      "source": [
        "prediction = np.array(prediction).reshape(users,1000,k,id)\n",
        "prediction.shape"
      ],
      "execution_count": 0,
      "outputs": []
    },
    {
      "cell_type": "code",
      "metadata": {
        "id": "z-lU2IEQDv0e",
        "colab_type": "code",
        "colab": {}
      },
      "source": [
        ""
      ],
      "execution_count": 0,
      "outputs": []
    },
    {
      "cell_type": "code",
      "metadata": {
        "id": "Szim5c_TD04b",
        "colab_type": "code",
        "colab": {}
      },
      "source": [
        ""
      ],
      "execution_count": 0,
      "outputs": []
    }
  ]
}