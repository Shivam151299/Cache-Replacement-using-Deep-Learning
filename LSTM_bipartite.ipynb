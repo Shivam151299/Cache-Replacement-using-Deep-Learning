{
  "nbformat": 4,
  "nbformat_minor": 0,
  "metadata": {
    "colab": {
      "name": "LSTM-bipartite",
      "provenance": []
    },
    "kernelspec": {
      "name": "python3",
      "display_name": "Python 3"
    }
  },
  "cells": [
    {
      "cell_type": "code",
      "metadata": {
        "id": "sWva_hYzKHxw",
        "colab_type": "code",
        "colab": {}
      },
      "source": [
        "from random import randint\n",
        "from numpy import array\n",
        "import numpy as np\n",
        "from keras.models import Model\n",
        "from keras.layers import Input\n",
        "from keras.layers import LSTM\n",
        "from keras.layers import Dense\n",
        "import matplotlib.pyplot as plt\n",
        "from keras.optimizers import Adam\n",
        "\n",
        "%matplotlib inline"
      ],
      "execution_count": 0,
      "outputs": []
    },
    {
      "cell_type": "markdown",
      "metadata": {
        "id": "x4G_hjGrxtzG",
        "colab_type": "text"
      },
      "source": [
        "DATA"
      ]
    },
    {
      "cell_type": "code",
      "metadata": {
        "id": "yS7XS99WKR5g",
        "colab_type": "code",
        "colab": {}
      },
      "source": [
        "data = []\n",
        "with open('/content/drive/My Drive/request_seq.txt' , errors='ignore' ) as fin:\n",
        "    fin.seek(0)\n",
        "    d = fin.read(100000000) "
      ],
      "execution_count": 0,
      "outputs": []
    },
    {
      "cell_type": "code",
      "metadata": {
        "id": "VSqi4I-Xk7BH",
        "colab_type": "code",
        "outputId": "365b1264-484a-4051-8fc6-7c01d21f4b8d",
        "colab": {
          "base_uri": "https://localhost:8080/",
          "height": 34
        }
      },
      "source": [
        "#Data is continous sequence.Each segment in the sequence separated by '\\n'\n",
        "#Each segment contains 3 items: number of request, request ID and size of requested file.\n",
        "d[:100]"
      ],
      "execution_count": 45,
      "outputs": [
        {
          "output_type": "execute_result",
          "data": {
            "text/plain": [
              "'1 778030675 13539\\n2 3484637698 17635\\n3 1130267045 152\\n4 3423744231 616\\n5 203613471 121\\n6 1342928892 '"
            ]
          },
          "metadata": {
            "tags": []
          },
          "execution_count": 45
        }
      ]
    },
    {
      "cell_type": "code",
      "metadata": {
        "id": "M_vRN4OlPMad",
        "colab_type": "code",
        "outputId": "8d2d86d2-8eea-499d-d84b-49a0de147e0f",
        "colab": {
          "base_uri": "https://localhost:8080/",
          "height": 185
        }
      },
      "source": [
        "#Spliting the continous sequence\n",
        "data = d.split()\n",
        "data[:10]"
      ],
      "execution_count": 46,
      "outputs": [
        {
          "output_type": "execute_result",
          "data": {
            "text/plain": [
              "['1',\n",
              " '778030675',\n",
              " '13539',\n",
              " '2',\n",
              " '3484637698',\n",
              " '17635',\n",
              " '3',\n",
              " '1130267045',\n",
              " '152',\n",
              " '4']"
            ]
          },
          "metadata": {
            "tags": []
          },
          "execution_count": 46
        }
      ]
    },
    {
      "cell_type": "code",
      "metadata": {
        "id": "LLfMb8A9pNob",
        "colab_type": "code",
        "outputId": "9aaf523e-dc2b-4e4e-b81f-07d489e7c326",
        "colab": {
          "base_uri": "https://localhost:8080/",
          "height": 34
        }
      },
      "source": [
        "del d\n",
        "len(data)"
      ],
      "execution_count": 47,
      "outputs": [
        {
          "output_type": "execute_result",
          "data": {
            "text/plain": [
              "12722261"
            ]
          },
          "metadata": {
            "tags": []
          },
          "execution_count": 47
        }
      ]
    },
    {
      "cell_type": "code",
      "metadata": {
        "id": "b0NjRlMboTBC",
        "colab_type": "code",
        "colab": {}
      },
      "source": [
        "#We are interested in number of request and request id.\n",
        "req = []\n",
        "for i in range(len(data)):\n",
        "  r = []\n",
        "  if (i-1)%3 == 0 and len(req)<2005000:\n",
        "    r.append(data[i])\n",
        "    #To convert string into real numbers. \n",
        "    temp = 0\n",
        "    for j in range(len(r[0])):\n",
        "      temp = temp + int(r[0][j])*pow(10,len(r[0])-j-1)\n",
        "    req.append(temp)"
      ],
      "execution_count": 0,
      "outputs": []
    },
    {
      "cell_type": "code",
      "metadata": {
        "id": "CfFQtpqcr1m0",
        "colab_type": "code",
        "outputId": "582de4dc-7651-4001-9b1c-ffcd7d40476e",
        "colab": {
          "base_uri": "https://localhost:8080/",
          "height": 34
        }
      },
      "source": [
        "req = np.array(req)\n",
        "req.shape"
      ],
      "execution_count": 49,
      "outputs": [
        {
          "output_type": "execute_result",
          "data": {
            "text/plain": [
              "(2005000,)"
            ]
          },
          "metadata": {
            "tags": []
          },
          "execution_count": 49
        }
      ]
    },
    {
      "cell_type": "code",
      "metadata": {
        "id": "AmsDVkHpPeW5",
        "colab_type": "code",
        "outputId": "ec37a195-133f-42d2-c277-d7584ee5a4c9",
        "colab": {
          "base_uri": "https://localhost:8080/",
          "height": 34
        }
      },
      "source": [
        "total_id = len(np.unique(req))\n",
        "print(total_id)"
      ],
      "execution_count": 50,
      "outputs": [
        {
          "output_type": "stream",
          "text": [
            "763307\n"
          ],
          "name": "stdout"
        }
      ]
    },
    {
      "cell_type": "code",
      "metadata": {
        "id": "KyL7MNvtu7UU",
        "colab_type": "code",
        "outputId": "6fd65d7f-b675-4c50-9cfe-3205aaa20465",
        "colab": {
          "base_uri": "https://localhost:8080/",
          "height": 34
        }
      },
      "source": [
        "#To find the range of request id\n",
        "min = np.min(req)\n",
        "max = np.max(req)\n",
        "min,max"
      ],
      "execution_count": 51,
      "outputs": [
        {
          "output_type": "execute_result",
          "data": {
            "text/plain": [
              "(2301, 4294966263)"
            ]
          },
          "metadata": {
            "tags": []
          },
          "execution_count": 51
        }
      ]
    },
    {
      "cell_type": "code",
      "metadata": {
        "id": "AlpPbFEvu879",
        "colab_type": "code",
        "colab": {}
      },
      "source": [
        "# To reduce total numbers of ID\n",
        "id = 50\n",
        "factor = (max - min)/(id-1)\n",
        "req1 = []\n",
        "for i in range(len(req)):\n",
        "  req1 .append(int(np.divide(req[i],factor)))"
      ],
      "execution_count": 0,
      "outputs": []
    },
    {
      "cell_type": "code",
      "metadata": {
        "id": "OY0xWAyrvATN",
        "colab_type": "code",
        "colab": {}
      },
      "source": [
        "# For bipartite network, Distributing request among 10 users\n",
        "users = 5\n",
        "req_user = []\n",
        "for i in range(int(len(req1)/users)):\n",
        "  temp = []\n",
        "  for j in range(i*users,(i+1)*users):\n",
        "    temp.append(req1[j])\n",
        "  req_user.append(temp)"
      ],
      "execution_count": 0,
      "outputs": []
    },
    {
      "cell_type": "code",
      "metadata": {
        "id": "YX9glAOWvBm8",
        "colab_type": "code",
        "outputId": "45291ebe-221d-40ee-f15e-ac7bbbccd8b9",
        "colab": {
          "base_uri": "https://localhost:8080/",
          "height": 34
        }
      },
      "source": [
        "req_user = np.array(np.transpose(req_user))\n",
        "req_user.shape"
      ],
      "execution_count": 54,
      "outputs": [
        {
          "output_type": "execute_result",
          "data": {
            "text/plain": [
              "(5, 401000)"
            ]
          },
          "metadata": {
            "tags": []
          },
          "execution_count": 54
        }
      ]
    },
    {
      "cell_type": "code",
      "metadata": {
        "id": "MRUQlpSg-KoN",
        "colab_type": "code",
        "colab": {}
      },
      "source": [
        "del req, req1, temp, data, r"
      ],
      "execution_count": 0,
      "outputs": []
    },
    {
      "cell_type": "code",
      "metadata": {
        "id": "QBSUflAM-10R",
        "colab_type": "code",
        "outputId": "03c6249d-0594-47c6-a4a2-b54f1abc37bf",
        "colab": {
          "base_uri": "https://localhost:8080/",
          "height": 34
        }
      },
      "source": [
        "count = np.zeros((users,id), dtype = 'float')\n",
        "for i in range(users):\n",
        "  for j in range(1000):\n",
        "    count[i,int(req_user[i][j])] += 1\n",
        "count.shape"
      ],
      "execution_count": 56,
      "outputs": [
        {
          "output_type": "execute_result",
          "data": {
            "text/plain": [
              "(5, 50)"
            ]
          },
          "metadata": {
            "tags": []
          },
          "execution_count": 56
        }
      ]
    },
    {
      "cell_type": "code",
      "metadata": {
        "id": "oe6Xp5cMLor2",
        "colab_type": "code",
        "colab": {}
      },
      "source": [
        "prob = np.zeros((users,len(req_user[0])-1000,id), dtype = 'f4')"
      ],
      "execution_count": 0,
      "outputs": []
    },
    {
      "cell_type": "code",
      "metadata": {
        "id": "BGuF-XZZmZ-5",
        "colab_type": "code",
        "colab": {}
      },
      "source": [
        "for i in range(users):\n",
        "  for j in range(len(req_user[0])-1000):\n",
        "    count[i,int(req_user[i,j+1000])] += 1\n",
        "    count[i,int(req_user[i,j])] -= 1\n",
        "    prob[i,j,:] = count[i,:]/1000"
      ],
      "execution_count": 0,
      "outputs": []
    },
    {
      "cell_type": "code",
      "metadata": {
        "id": "oHi243s0sOFV",
        "colab_type": "code",
        "outputId": "5ff228b8-9ddf-41b3-9811-02b80984a7ea",
        "colab": {
          "base_uri": "https://localhost:8080/",
          "height": 34
        }
      },
      "source": [
        "prob.shape"
      ],
      "execution_count": 59,
      "outputs": [
        {
          "output_type": "execute_result",
          "data": {
            "text/plain": [
              "(5, 400000, 50)"
            ]
          },
          "metadata": {
            "tags": []
          },
          "execution_count": 59
        }
      ]
    },
    {
      "cell_type": "code",
      "metadata": {
        "id": "TU8JHG5Gfo5t",
        "colab_type": "code",
        "colab": {}
      },
      "source": [
        "del count"
      ],
      "execution_count": 0,
      "outputs": []
    },
    {
      "cell_type": "code",
      "metadata": {
        "id": "NvNFlf45s1rM",
        "colab_type": "code",
        "outputId": "6d54ceb0-7005-4e13-8c26-0598c810b9d2",
        "colab": {
          "base_uri": "https://localhost:8080/",
          "height": 34
        }
      },
      "source": [
        "batch_size = 15000\n",
        "encoder_input_data = prob[:,:300000,:].reshape(20*users,batch_size,id) # total samples per users = 20\n",
        "encoder_input_data.shape"
      ],
      "execution_count": 61,
      "outputs": [
        {
          "output_type": "execute_result",
          "data": {
            "text/plain": [
              "(100, 15000, 50)"
            ]
          },
          "metadata": {
            "tags": []
          },
          "execution_count": 61
        }
      ]
    },
    {
      "cell_type": "code",
      "metadata": {
        "id": "YGfLOrKEu-m5",
        "colab_type": "code",
        "outputId": "f4fc9d54-a6fb-479d-ed40-09546dd82df8",
        "colab": {
          "base_uri": "https://localhost:8080/",
          "height": 34
        }
      },
      "source": [
        "decoder_target_data = []\n",
        "K = 10 # Next sequence to be predicted\n",
        "for i in range(1,21):\n",
        "    temp = []\n",
        "    for j in range(K): # to predict next 10 req for every batch\n",
        "        temp.append(prob[:,(batch_size*i) + j,:])\n",
        "    decoder_target_data.append(temp)    \n",
        "\n",
        "decoder_target_data = np.array(decoder_target_data).reshape(20*users,K,id)\n",
        "decoder_target_data.shape"
      ],
      "execution_count": 62,
      "outputs": [
        {
          "output_type": "execute_result",
          "data": {
            "text/plain": [
              "(100, 10, 50)"
            ]
          },
          "metadata": {
            "tags": []
          },
          "execution_count": 62
        }
      ]
    },
    {
      "cell_type": "code",
      "metadata": {
        "id": "bfj4yBsS0S1Q",
        "colab_type": "code",
        "outputId": "05b1ad22-926b-4431-9408-97729516bce9",
        "colab": {
          "base_uri": "https://localhost:8080/",
          "height": 34
        }
      },
      "source": [
        "decoder_input_data = np.zeros(decoder_target_data.shape)\n",
        "decoder_input_data[1:,:,:] = decoder_target_data[:-1,:,:]\n",
        "decoder_input_data[0,:,:] = encoder_input_data[-1,-1,:]\n",
        "decoder_input_data.shape"
      ],
      "execution_count": 63,
      "outputs": [
        {
          "output_type": "execute_result",
          "data": {
            "text/plain": [
              "(100, 10, 50)"
            ]
          },
          "metadata": {
            "tags": []
          },
          "execution_count": 63
        }
      ]
    },
    {
      "cell_type": "markdown",
      "metadata": {
        "id": "k_-VYX0l2c9O",
        "colab_type": "text"
      },
      "source": [
        "MODEL\n"
      ]
    },
    {
      "cell_type": "code",
      "metadata": {
        "id": "4ouGrriG08t-",
        "colab_type": "code",
        "colab": {}
      },
      "source": [
        "latent_dim = 128 # LSTM hidden units\n",
        "dropout = 0.1"
      ],
      "execution_count": 0,
      "outputs": []
    },
    {
      "cell_type": "code",
      "metadata": {
        "id": "yYOT-Q731wjk",
        "colab_type": "code",
        "colab": {}
      },
      "source": [
        "encoder_inputs = Input(shape=(None, 50)) \n",
        "encoder = LSTM(latent_dim, dropout=dropout, return_state=True)\n",
        "encoder_outputs, state_h, state_c = encoder(encoder_inputs)\n",
        "encoder_states = [state_h, state_c]"
      ],
      "execution_count": 0,
      "outputs": []
    },
    {
      "cell_type": "code",
      "metadata": {
        "id": "SI0kKGSZ2F2M",
        "colab_type": "code",
        "colab": {}
      },
      "source": [
        "decoder_inputs = Input(shape=(None, 50)) \n",
        "decoder_lstm = LSTM(latent_dim, dropout=dropout, return_sequences=True, return_state=True)\n",
        "decoder_outputs, _, _ = decoder_lstm(decoder_inputs,\n",
        "                                     initial_state=encoder_states)"
      ],
      "execution_count": 0,
      "outputs": []
    },
    {
      "cell_type": "code",
      "metadata": {
        "id": "Dt4bjw5CuZCG",
        "colab_type": "code",
        "colab": {}
      },
      "source": [
        "decoder_outputs = Dense(50, activation='softmax')(decoder_outputs)"
      ],
      "execution_count": 0,
      "outputs": []
    },
    {
      "cell_type": "code",
      "metadata": {
        "id": "N3TV7lvSubT9",
        "colab_type": "code",
        "outputId": "7c8dc311-df22-437d-acec-a92ca26ed515",
        "colab": {
          "base_uri": "https://localhost:8080/",
          "height": 353
        }
      },
      "source": [
        "model = Model([encoder_inputs, decoder_inputs], decoder_outputs)\n",
        "model.summary()"
      ],
      "execution_count": 68,
      "outputs": [
        {
          "output_type": "stream",
          "text": [
            "Model: \"model_4\"\n",
            "__________________________________________________________________________________________________\n",
            "Layer (type)                    Output Shape         Param #     Connected to                     \n",
            "==================================================================================================\n",
            "input_5 (InputLayer)            (None, None, 50)     0                                            \n",
            "__________________________________________________________________________________________________\n",
            "input_6 (InputLayer)            (None, None, 50)     0                                            \n",
            "__________________________________________________________________________________________________\n",
            "lstm_3 (LSTM)                   [(None, 128), (None, 91648       input_5[0][0]                    \n",
            "__________________________________________________________________________________________________\n",
            "lstm_4 (LSTM)                   [(None, None, 128),  91648       input_6[0][0]                    \n",
            "                                                                 lstm_3[0][1]                     \n",
            "                                                                 lstm_3[0][2]                     \n",
            "__________________________________________________________________________________________________\n",
            "dense_3 (Dense)                 (None, None, 50)     6450        lstm_4[0][0]                     \n",
            "==================================================================================================\n",
            "Total params: 189,746\n",
            "Trainable params: 189,746\n",
            "Non-trainable params: 0\n",
            "__________________________________________________________________________________________________\n"
          ],
          "name": "stdout"
        }
      ]
    },
    {
      "cell_type": "code",
      "metadata": {
        "id": "5VRUz2ASugxy",
        "colab_type": "code",
        "outputId": "75508a38-cd3f-44fe-ccc3-62fa4ad1e488",
        "colab": {
          "base_uri": "https://localhost:8080/",
          "height": 1000
        }
      },
      "source": [
        "model.compile(Adam(), loss='mean_squared_error')\n",
        "history = model.fit([encoder_input_data, decoder_input_data], decoder_target_data,batch_size=batch_size,epochs=30)"
      ],
      "execution_count": 69,
      "outputs": [
        {
          "output_type": "stream",
          "text": [
            "Epoch 1/30\n",
            "100/100 [==============================] - 45s 453ms/step - loss: 3.2019e-05\n",
            "Epoch 2/30\n",
            "100/100 [==============================] - 44s 436ms/step - loss: 3.1936e-05\n",
            "Epoch 3/30\n",
            "100/100 [==============================] - 43s 434ms/step - loss: 3.1838e-05\n",
            "Epoch 4/30\n",
            "100/100 [==============================] - 43s 431ms/step - loss: 3.1698e-05\n",
            "Epoch 5/30\n",
            "100/100 [==============================] - 43s 429ms/step - loss: 3.1562e-05\n",
            "Epoch 6/30\n",
            "100/100 [==============================] - 43s 432ms/step - loss: 3.1404e-05\n",
            "Epoch 7/30\n",
            "100/100 [==============================] - 43s 431ms/step - loss: 3.1255e-05\n",
            "Epoch 8/30\n",
            "100/100 [==============================] - 42s 424ms/step - loss: 3.1098e-05\n",
            "Epoch 9/30\n",
            "100/100 [==============================] - 43s 426ms/step - loss: 3.0925e-05\n",
            "Epoch 10/30\n",
            "100/100 [==============================] - 42s 421ms/step - loss: 3.0766e-05\n",
            "Epoch 11/30\n",
            "100/100 [==============================] - 42s 422ms/step - loss: 3.0606e-05\n",
            "Epoch 12/30\n",
            "100/100 [==============================] - 43s 431ms/step - loss: 3.0436e-05\n",
            "Epoch 13/30\n",
            "100/100 [==============================] - 42s 421ms/step - loss: 3.0271e-05\n",
            "Epoch 14/30\n",
            "100/100 [==============================] - 43s 428ms/step - loss: 3.0080e-05\n",
            "Epoch 15/30\n",
            "100/100 [==============================] - 43s 435ms/step - loss: 2.9922e-05\n",
            "Epoch 16/30\n",
            "100/100 [==============================] - 42s 422ms/step - loss: 2.9754e-05\n",
            "Epoch 17/30\n",
            "100/100 [==============================] - 42s 421ms/step - loss: 2.9592e-05\n",
            "Epoch 18/30\n",
            "100/100 [==============================] - 42s 421ms/step - loss: 2.9429e-05\n",
            "Epoch 19/30\n",
            "100/100 [==============================] - 42s 420ms/step - loss: 2.9259e-05\n",
            "Epoch 20/30\n",
            "100/100 [==============================] - 42s 422ms/step - loss: 2.9097e-05\n",
            "Epoch 21/30\n",
            "100/100 [==============================] - 42s 421ms/step - loss: 2.8928e-05\n",
            "Epoch 22/30\n",
            "100/100 [==============================] - 42s 423ms/step - loss: 2.8761e-05\n",
            "Epoch 23/30\n",
            "100/100 [==============================] - 42s 425ms/step - loss: 2.8607e-05\n",
            "Epoch 24/30\n",
            "100/100 [==============================] - 42s 423ms/step - loss: 2.8444e-05\n",
            "Epoch 25/30\n",
            "100/100 [==============================] - 42s 421ms/step - loss: 2.8287e-05\n",
            "Epoch 26/30\n",
            "100/100 [==============================] - 43s 428ms/step - loss: 2.8118e-05\n",
            "Epoch 27/30\n",
            "100/100 [==============================] - 42s 423ms/step - loss: 2.7972e-05\n",
            "Epoch 28/30\n",
            "100/100 [==============================] - 42s 421ms/step - loss: 2.7811e-05\n",
            "Epoch 29/30\n",
            "100/100 [==============================] - 42s 423ms/step - loss: 2.7648e-05\n",
            "Epoch 30/30\n",
            "100/100 [==============================] - 42s 424ms/step - loss: 2.7500e-05\n"
          ],
          "name": "stdout"
        }
      ]
    },
    {
      "cell_type": "markdown",
      "metadata": {
        "id": "M6BMjrZ_SgZz",
        "colab_type": "text"
      },
      "source": [
        "PREDICTION OF FUTURE REQUESTS\n"
      ]
    },
    {
      "cell_type": "code",
      "metadata": {
        "id": "wxafxcdOulJH",
        "colab_type": "code",
        "colab": {}
      },
      "source": [
        "encoder_model = Model(encoder_inputs, encoder_states)\n",
        "pred_steps = 10\n",
        "\n",
        "decoder_state_input_h = Input(shape=(latent_dim,))\n",
        "decoder_state_input_c = Input(shape=(latent_dim,))\n",
        "decoder_states_inputs = [decoder_state_input_h, decoder_state_input_c]\n",
        "\n",
        "decoder_outputs, state_h, state_c = decoder_lstm(decoder_inputs, initial_state=decoder_states_inputs)\n",
        "decoder_states = [state_h, state_c]\n",
        "\n",
        "decoder_outputs = Dense(50, activation='softmax')(decoder_outputs)\n",
        "decoder_model = Model([decoder_inputs] + decoder_states_inputs,\n",
        "                      [decoder_outputs] + decoder_states)"
      ],
      "execution_count": 0,
      "outputs": []
    },
    {
      "cell_type": "code",
      "metadata": {
        "id": "iO58GiL8Af4G",
        "colab_type": "code",
        "colab": {}
      },
      "source": [
        "def decode_sequence(input_seq):\n",
        "    \n",
        "    # Encode the input as state vectors.\n",
        "    states_value = encoder_model.predict(input_seq)\n",
        "\n",
        "    # Generate empty target sequence of length 1.\n",
        "    target_seq = np.zeros((1, 1, 50))\n",
        "    \n",
        "    # Populate the first target sequence with end of encoding series pageviews\n",
        "    target_seq[0, 0, :] = input_seq[0, -1, :]\n",
        "\n",
        "    # Sampling loop for a batch of sequences - we will fill decoded_seq with predictions\n",
        "    # (to simplify, here we assume a batch of size 1).\n",
        "\n",
        "    decoded_seq = np.zeros((1,pred_steps,50))\n",
        "    for i in range(pred_steps):\n",
        "        \n",
        "        output, h, c = decoder_model.predict([target_seq] + states_value)\n",
        "        \n",
        "        decoded_seq[0,i,:] = output[0,0,:]\n",
        "\n",
        "        # Update the target sequence (of length 1).\n",
        "        target_seq = np.zeros((1, 1, 50))\n",
        "        target_seq[0, 0, :] = output[0,0,:]\n",
        "\n",
        "        # Update states\n",
        "        states_value = [h, c]\n",
        "\n",
        "    return decoded_seq"
      ],
      "execution_count": 0,
      "outputs": []
    },
    {
      "cell_type": "code",
      "metadata": {
        "id": "3qqPs5P1AiwX",
        "colab_type": "code",
        "colab": {
          "base_uri": "https://localhost:8080/",
          "height": 34
        },
        "outputId": "32903836-8be7-44a5-9dfb-9bc793322c13"
      },
      "source": [
        "prob.shape"
      ],
      "execution_count": 72,
      "outputs": [
        {
          "output_type": "execute_result",
          "data": {
            "text/plain": [
              "(5, 400000, 50)"
            ]
          },
          "metadata": {
            "tags": []
          },
          "execution_count": 72
        }
      ]
    },
    {
      "cell_type": "code",
      "metadata": {
        "id": "lReXyBAwAqFY",
        "colab_type": "code",
        "colab": {
          "base_uri": "https://localhost:8080/",
          "height": 34
        },
        "outputId": "e5885494-b9cd-49c1-8ed2-9ae47f7c050a"
      },
      "source": [
        "n = int((len(prob[0]) - batch_size)/1000)\n",
        "n"
      ],
      "execution_count": 73,
      "outputs": [
        {
          "output_type": "execute_result",
          "data": {
            "text/plain": [
              "385"
            ]
          },
          "metadata": {
            "tags": []
          },
          "execution_count": 73
        }
      ]
    },
    {
      "cell_type": "code",
      "metadata": {
        "id": "3j7TzjANBhNA",
        "colab_type": "code",
        "colab": {
          "base_uri": "https://localhost:8080/",
          "height": 101
        },
        "outputId": "2841e1d1-97ce-4eab-f80c-75f99809a405"
      },
      "source": [
        "prediction = []\n",
        "for i in range(users):\n",
        "  print(i)\n",
        "  temp = []\n",
        "  for j in range(1000):\n",
        "    temp.append(decode_sequence(prob[i,int(j*n) : int(j*n + 15000),:].reshape(1,15000,50)))\n",
        "  prediction.append(temp)"
      ],
      "execution_count": 74,
      "outputs": [
        {
          "output_type": "stream",
          "text": [
            "0\n",
            "1\n",
            "2\n",
            "3\n",
            "4\n"
          ],
          "name": "stdout"
        }
      ]
    },
    {
      "cell_type": "code",
      "metadata": {
        "id": "yqZaENdzBlFU",
        "colab_type": "code",
        "colab": {
          "base_uri": "https://localhost:8080/",
          "height": 34
        },
        "outputId": "ded13aea-3e46-4407-9522-080784d14e3e"
      },
      "source": [
        "prediction = np.array(prediction).reshape(users,1000,10,id)\n",
        "prediction.shape"
      ],
      "execution_count": 75,
      "outputs": [
        {
          "output_type": "execute_result",
          "data": {
            "text/plain": [
              "(5, 1000, 10, 50)"
            ]
          },
          "metadata": {
            "tags": []
          },
          "execution_count": 75
        }
      ]
    },
    {
      "cell_type": "code",
      "metadata": {
        "id": "z-lU2IEQDv0e",
        "colab_type": "code",
        "colab": {
          "base_uri": "https://localhost:8080/",
          "height": 185
        },
        "outputId": "9744243f-b91e-478b-c2ae-4aa1bd7e2d21"
      },
      "source": [
        "prediction[0,0,0]"
      ],
      "execution_count": 76,
      "outputs": [
        {
          "output_type": "execute_result",
          "data": {
            "text/plain": [
              "array([0.02023662, 0.02083804, 0.02057384, 0.02002467, 0.01923002,\n",
              "       0.02042399, 0.02101225, 0.02008013, 0.01979596, 0.02058708,\n",
              "       0.02032961, 0.01958279, 0.01978235, 0.01998281, 0.01938253,\n",
              "       0.02001707, 0.02019578, 0.01995417, 0.01976968, 0.02050448,\n",
              "       0.02058572, 0.01969059, 0.02057916, 0.02020312, 0.0199188 ,\n",
              "       0.0195139 , 0.0202997 , 0.01935707, 0.0197097 , 0.02066957,\n",
              "       0.01895418, 0.01989372, 0.01997029, 0.01984722, 0.02053131,\n",
              "       0.02011227, 0.02010409, 0.02003513, 0.01990397, 0.01963427,\n",
              "       0.01969289, 0.0197746 , 0.02000872, 0.01938578, 0.02034562,\n",
              "       0.01966355, 0.01992566, 0.01901824, 0.02024199, 0.02012529])"
            ]
          },
          "metadata": {
            "tags": []
          },
          "execution_count": 76
        }
      ]
    },
    {
      "cell_type": "markdown",
      "metadata": {
        "id": "hGek4tevSqX3",
        "colab_type": "text"
      },
      "source": [
        "GENERATION OF FAKE REQUESTS"
      ]
    },
    {
      "cell_type": "code",
      "metadata": {
        "id": "Szim5c_TD04b",
        "colab_type": "code",
        "colab": {
          "base_uri": "https://localhost:8080/",
          "height": 34
        },
        "outputId": "4446d538-5595-45d8-dd1d-53e33d76265e"
      },
      "source": [
        "fake_req = []\n",
        "for i in range(users):\n",
        "  t = []\n",
        "  for j in range(1000):\n",
        "    temp = []\n",
        "    for k in range(10):\n",
        "      for l in range(id):\n",
        "        if prediction[i,j,k,l] > sorted(prediction[i,j,k],reverse = 1)[5]:\n",
        "          temp.append(l)\n",
        "    while len(temp) < 50:\n",
        "      temp.append(0)\n",
        "    t.append(temp)\n",
        "  fake_req.append(t)\n",
        "fake_req = np.array(fake_req) \n",
        "fake_req.shape"
      ],
      "execution_count": 77,
      "outputs": [
        {
          "output_type": "execute_result",
          "data": {
            "text/plain": [
              "(5, 1000, 50)"
            ]
          },
          "metadata": {
            "tags": []
          },
          "execution_count": 77
        }
      ]
    },
    {
      "cell_type": "code",
      "metadata": {
        "id": "MmNHbPFCTuEI",
        "colab_type": "code",
        "colab": {
          "base_uri": "https://localhost:8080/",
          "height": 34
        },
        "outputId": "da0b02cd-f1e7-4fbf-a437-3450b5b7511c"
      },
      "source": [
        "400000 + 1000*50"
      ],
      "execution_count": 78,
      "outputs": [
        {
          "output_type": "execute_result",
          "data": {
            "text/plain": [
              "450000"
            ]
          },
          "metadata": {
            "tags": []
          },
          "execution_count": 78
        }
      ]
    },
    {
      "cell_type": "code",
      "metadata": {
        "id": "CK__e4o7T8pm",
        "colab_type": "code",
        "colab": {}
      },
      "source": [
        "generated_req = []\n",
        "for l in range(users):\n",
        "  request = []\n",
        "  for i in range(batch_size):\n",
        "    request.append(req_user[l,i])\n",
        "  for i in range(50):\n",
        "    request.append(fake_req[l,0,i])\n",
        "  for i in range(1000):\n",
        "    for j in range(n + 50):\n",
        "      if j < n:\n",
        "        request.append(req_user[l,10000 + j + n*i])\n",
        "      elif(i>0):\n",
        "        request.append(fake_req[l,i,j-n])\n",
        "  generated_req.append(request)"
      ],
      "execution_count": 0,
      "outputs": []
    },
    {
      "cell_type": "code",
      "metadata": {
        "id": "cVANwof6WnrF",
        "colab_type": "code",
        "colab": {
          "base_uri": "https://localhost:8080/",
          "height": 34
        },
        "outputId": "6c1128ce-2485-4617-c730-9b9c4a96ded4"
      },
      "source": [
        "generated_req = np.array(generated_req)\n",
        "generated_req.shape"
      ],
      "execution_count": 80,
      "outputs": [
        {
          "output_type": "execute_result",
          "data": {
            "text/plain": [
              "(5, 450000)"
            ]
          },
          "metadata": {
            "tags": []
          },
          "execution_count": 80
        }
      ]
    },
    {
      "cell_type": "code",
      "metadata": {
        "id": "uG3Rmfpq6Ha4",
        "colab_type": "code",
        "colab": {}
      },
      "source": [
        "del prediction,fake_req,request,t,temp"
      ],
      "execution_count": 0,
      "outputs": []
    },
    {
      "cell_type": "markdown",
      "metadata": {
        "id": "rpBrndhCEYyY",
        "colab_type": "text"
      },
      "source": [
        "CACHING POLICIES"
      ]
    },
    {
      "cell_type": "code",
      "metadata": {
        "id": "OiRJu_RHOyjW",
        "colab_type": "code",
        "colab": {
          "base_uri": "https://localhost:8080/",
          "height": 34
        },
        "outputId": "897476fe-69b1-42fe-cf5b-21cd239af232"
      },
      "source": [
        "req_user.shape"
      ],
      "execution_count": 82,
      "outputs": [
        {
          "output_type": "execute_result",
          "data": {
            "text/plain": [
              "(5, 401000)"
            ]
          },
          "metadata": {
            "tags": []
          },
          "execution_count": 82
        }
      ]
    },
    {
      "cell_type": "code",
      "metadata": {
        "id": "_1ShKDZgGayB",
        "colab_type": "code",
        "colab": {
          "base_uri": "https://localhost:8080/",
          "height": 34
        },
        "outputId": "5f708c53-6003-4738-b55b-6f85d6460518"
      },
      "source": [
        "# LRU\n",
        "from memoization import cached, CachingAlgorithmFlag\n",
        "@cached(max_size=5, algorithm=CachingAlgorithmFlag.LRU)\n",
        "def get_url(resource):\n",
        "    try:\n",
        "        \n",
        "        with urllib.request.urlopen(resource) as s:\n",
        "            return True\n",
        "    except Exception as e:\n",
        "        return False\n",
        "    \n",
        "hit_LRU = []\n",
        "miss_LRU = []\n",
        "for i in range(users):\n",
        "  for j in range(len(req_user[i])):\n",
        "    get_url(req_user[i,j])\n",
        "    hit_LRU.append(get_url.cache_info().hits)\n",
        "    miss_LRU.append(get_url.cache_info().misses)\n",
        "get_url.cache_info()"
      ],
      "execution_count": 85,
      "outputs": [
        {
          "output_type": "execute_result",
          "data": {
            "text/plain": [
              "CacheInfo(hits=206522, misses=1798478, current_size=5, max_size=5, algorithm=<CachingAlgorithmFlag.LRU: 2>, ttl=None, thread_safe=True, order_independent=False, use_custom_key=False)"
            ]
          },
          "metadata": {
            "tags": []
          },
          "execution_count": 85
        }
      ]
    },
    {
      "cell_type": "code",
      "metadata": {
        "id": "9SvV0L_B5eob",
        "colab_type": "code",
        "colab": {
          "base_uri": "https://localhost:8080/",
          "height": 34
        },
        "outputId": "2c75e1d3-c7d2-44f4-8b91-cf04e3260ba6"
      },
      "source": [
        "# LFU\n",
        "\n",
        "from memoization import cached, CachingAlgorithmFlag\n",
        "@cached(max_size=5, algorithm=CachingAlgorithmFlag.LFU)\n",
        "def get_url(resource):\n",
        "    try:\n",
        "        \n",
        "        with urllib.request.urlopen(resource) as s:\n",
        "            return True\n",
        "    except Exception as e:\n",
        "        return False\n",
        "    \n",
        "hit_LFU = []\n",
        "miss_LFU = []\n",
        "for i in range(users):\n",
        "  for j in range(len(req_user[i])):\n",
        "    get_url(req_user[i,j])\n",
        "    hit_LFU.append(get_url.cache_info().hits)\n",
        "    miss_LFU.append(get_url.cache_info().misses)\n",
        "get_url.cache_info()"
      ],
      "execution_count": 86,
      "outputs": [
        {
          "output_type": "execute_result",
          "data": {
            "text/plain": [
              "CacheInfo(hits=208078, misses=1796922, current_size=5, max_size=5, algorithm=<CachingAlgorithmFlag.LFU: 4>, ttl=None, thread_safe=True, order_independent=False, use_custom_key=False)"
            ]
          },
          "metadata": {
            "tags": []
          },
          "execution_count": 86
        }
      ]
    },
    {
      "cell_type": "code",
      "metadata": {
        "id": "AGTVxfqtGvE2",
        "colab_type": "code",
        "colab": {
          "base_uri": "https://localhost:8080/",
          "height": 34
        },
        "outputId": "9c46a0cb-62d6-44c2-f492-2cd3b3319514"
      },
      "source": [
        "# LSTM_LRU\n",
        "\n",
        "from memoization import cached, CachingAlgorithmFlag\n",
        "@cached(max_size=5, algorithm=CachingAlgorithmFlag.LRU)\n",
        "def get_url(resource):\n",
        "    try:\n",
        "        \n",
        "        with urllib.request.urlopen(resource) as s:\n",
        "            return True\n",
        "    except Exception as e:\n",
        "        return False\n",
        "    \n",
        "hit_LSTM_LRU = []\n",
        "miss_LSTM_LRU = []\n",
        "for i in range(users):\n",
        "  for j in range(len(req_user[i])):\n",
        "    get_url(generated_req[i,j])\n",
        "    hit_LSTM_LRU.append(get_url.cache_info().hits)\n",
        "    miss_LSTM_LRU.append(get_url.cache_info().misses)\n",
        "get_url.cache_info()"
      ],
      "execution_count": 87,
      "outputs": [
        {
          "output_type": "execute_result",
          "data": {
            "text/plain": [
              "CacheInfo(hits=366802, misses=1638198, current_size=5, max_size=5, algorithm=<CachingAlgorithmFlag.LRU: 2>, ttl=None, thread_safe=True, order_independent=False, use_custom_key=False)"
            ]
          },
          "metadata": {
            "tags": []
          },
          "execution_count": 87
        }
      ]
    },
    {
      "cell_type": "code",
      "metadata": {
        "id": "QahqBLtBR21g",
        "colab_type": "code",
        "colab": {
          "base_uri": "https://localhost:8080/",
          "height": 34
        },
        "outputId": "b74f93f4-830e-42bb-db56-b0bd83e1ec07"
      },
      "source": [
        "def distance(i,id,n):\n",
        "  if n == len(generated_req[i]):\n",
        "    return 0\n",
        "  else:\n",
        "    j = n + 1\n",
        "    while generated_req[i,j] != id and j < len(generated_req[i]):\n",
        "        j += 1\n",
        "        if j == len(generated_req[i]):\n",
        "          break\n",
        "    return j-n\n",
        "\n",
        "size = 5\n",
        "hit = 0\n",
        "miss = 0\n",
        "hit_LSTM_min = []\n",
        "miss_LSTM_min = []\n",
        "cache = []\n",
        "\n",
        "for i in range(users):\n",
        "  for j in range(len(req_user[i])):\n",
        "    # If cache is empty then add requested item\n",
        "    if len(cache) < size:\n",
        "        cache.append(generated_req[i,j])\n",
        "    # otherwise evict one item and add requested\n",
        "    else:   \n",
        "        # Chech if requested item is present in cache or not\n",
        "        count = 0\n",
        "        for k in range(size):\n",
        "            if generated_req[i,j] == cache[k]:\n",
        "                count += 1\n",
        "        # If not present evict one item\n",
        "        if count == 0: \n",
        "            miss += 1\n",
        "            # calculate distance for each cached item\n",
        "            d = []\n",
        "            for k in range(size):\n",
        "                d.append(distance(i,cache[k],j))\n",
        "            d = np.array(d)\n",
        "            #find item with max distance \n",
        "            for k in range(size):\n",
        "                if np.max(d) == d[k]:\n",
        "                    cache[k] = generated_req[i,j]\n",
        "        # If requested item is already in cache then hit\n",
        "        else:\n",
        "            hit += 1\n",
        "    hit_LSTM_min.append(hit)\n",
        "    miss_LSTM_min.append(miss)\n",
        "    \n",
        "print(hit,miss)"
      ],
      "execution_count": 88,
      "outputs": [
        {
          "output_type": "stream",
          "text": [
            "762338 1242657\n"
          ],
          "name": "stdout"
        }
      ]
    },
    {
      "cell_type": "code",
      "metadata": {
        "id": "Lm70-oI_Zku1",
        "colab_type": "code",
        "colab": {
          "base_uri": "https://localhost:8080/",
          "height": 34
        },
        "outputId": "482d86ba-e268-4b98-ae15-f375d60cb5d1"
      },
      "source": [
        "C = 5\n",
        "I = users\n",
        "J = 1\n",
        "N = id\n",
        "pi = 3.14\n",
        "n = I*pow(4*pi*np.log(N*I),-.25)*pow(len(req_user[0])/(J*C),.5)\n",
        "count = np.zeros(N)\n",
        "\n",
        "x = np.zeros(50)\n",
        "for i in range(50):\n",
        "    x[i] = i\n",
        "var = np.eye(50)\n",
        "gauss = np.dot(np.exp(-0.5*pow(np.dot(var,x),2)),var)/pow(2*pi,0.5)\n",
        "gauss.shape"
      ],
      "execution_count": 89,
      "outputs": [
        {
          "output_type": "execute_result",
          "data": {
            "text/plain": [
              "(50,)"
            ]
          },
          "metadata": {
            "tags": []
          },
          "execution_count": 89
        }
      ]
    },
    {
      "cell_type": "code",
      "metadata": {
        "id": "27AWJOzuaBJ1",
        "colab_type": "code",
        "colab": {
          "base_uri": "https://localhost:8080/",
          "height": 34
        },
        "outputId": "82d559e1-0881-4ce4-d4b5-70c87632da2f"
      },
      "source": [
        "hit_FTPL = []\n",
        "miss_FTPL = []\n",
        "hit = 0\n",
        "miss = 0\n",
        "\n",
        "for i in range(users):\n",
        "  for j in range(len(req_user[i]-1)):\n",
        "    t = int(req_user[i,j]) - 1\n",
        "    count[t] += 1\n",
        "    perturbed_count = count + n*gauss\n",
        "    cache = []\n",
        "    if j <= C:\n",
        "        cache.append(req_user[i,j])\n",
        "    else:\n",
        "        for k in range(N):\n",
        "            if perturbed_count[k] >= sorted(perturbed_count,reverse = 1)[C-1] and len(cache) < C:\n",
        "                    cache.append(k+1)\n",
        "        if len(cache) != C:\n",
        "            print(i,len(cache))\n",
        "        x = 0        \n",
        "        for l in range(C):\n",
        "            if req_user[i,j] == cache[l]:\n",
        "                x += 1\n",
        "        if x>0:\n",
        "            hit += 1\n",
        "        else:\n",
        "            miss += 1\n",
        "        hit_FTPL.append(hit)\n",
        "        miss_FTPL.append(miss)\n",
        "print(hit,miss)"
      ],
      "execution_count": 90,
      "outputs": [
        {
          "output_type": "stream",
          "text": [
            "245328 1759642\n"
          ],
          "name": "stdout"
        }
      ]
    },
    {
      "cell_type": "code",
      "metadata": {
        "id": "hKPwL2F3Itlc",
        "colab_type": "code",
        "colab": {
          "base_uri": "https://localhost:8080/",
          "height": 300
        },
        "outputId": "e22d9c6b-735c-4874-90ce-7bb568795544"
      },
      "source": [
        "plt.plot(hit_LRU,'blue',label = 'LRU')\n",
        "plt.plot(hit_LFU,'yellow',label = 'LFU')\n",
        "plt.plot(hit_FTPL,'black',label = 'FTPL')\n",
        "plt.plot(hit_LSTM_LRU,'green',label = 'LSTM-LRU')\n",
        "plt.plot(hit_LSTM_min,'red',label = 'LSTM-MIN')\n",
        "plt.legend()\n",
        "plt.xlabel('Requests')\n",
        "plt.ylabel('Hit-rate')"
      ],
      "execution_count": 91,
      "outputs": [
        {
          "output_type": "execute_result",
          "data": {
            "text/plain": [
              "Text(0, 0.5, 'Hit-rate')"
            ]
          },
          "metadata": {
            "tags": []
          },
          "execution_count": 91
        },
        {
          "output_type": "display_data",
          "data": {
            "image/png": "[encoded data removed]",
            "text/plain": [
              "<Figure size 432x288 with 1 Axes>"
            ]
          },
          "metadata": {
            "tags": [],
            "needs_background": "light"
          }
        }
      ]
    },
    {
      "cell_type": "code",
      "metadata": {
        "id": "Vd9uuRSJI6B9",
        "colab_type": "code",
        "colab": {
          "base_uri": "https://localhost:8080/",
          "height": 307
        },
        "outputId": "b3b61564-4cfb-4057-aca8-4dc6e452eb22"
      },
      "source": [
        "plt.plot(miss_LRU,'blue',label = 'LRU')\n",
        "plt.plot(miss_LFU,'yellow',label = 'LFU')\n",
        "plt.plot(miss_FTPL,'black',label = 'FTPL')\n",
        "plt.plot(miss_LSTM_LRU,'green',label = 'LSTM-LRU')\n",
        "plt.plot(miss_LSTM_min,'red',label = 'LSTM-MIN')\n",
        "plt.legend()\n",
        "plt.xlabel('Requests')\n",
        "plt.ylabel('Miss-rate')"
      ],
      "execution_count": 92,
      "outputs": [
        {
          "output_type": "execute_result",
          "data": {
            "text/plain": [
              "Text(0, 0.5, 'Miss-rate')"
            ]
          },
          "metadata": {
            "tags": []
          },
          "execution_count": 92
        },
        {
          "output_type": "display_data",
          "data": {
            "image/png": "[encoded data removed]",
            "text/plain": [
              "<Figure size 432x288 with 1 Axes>"
            ]
          },
          "metadata": {
            "tags": [],
            "needs_background": "light"
          }
        }
      ]
    },
    {
      "cell_type": "markdown",
      "metadata": {
        "id": "LRnaz8Sshq3O",
        "colab_type": "text"
      },
      "source": [
        "TEST CASE"
      ]
    },
    {
      "cell_type": "code",
      "metadata": {
        "id": "Y6Zy9YRChViy",
        "colab_type": "code",
        "colab": {}
      },
      "source": [
        "# We have used 300k requests per users to train model.\n",
        "# Now we test this model for 300k to 400k requests for each model."
      ],
      "execution_count": 0,
      "outputs": []
    },
    {
      "cell_type": "code",
      "metadata": {
        "id": "fQHckyxTiEaQ",
        "colab_type": "code",
        "colab": {
          "base_uri": "https://localhost:8080/",
          "height": 34
        },
        "outputId": "5bd29bfa-a28b-4df3-8498-4cc6911e2810"
      },
      "source": [
        "req_user_test = req_user[:,300000:400000]\n",
        "req_user_test.shape"
      ],
      "execution_count": 94,
      "outputs": [
        {
          "output_type": "execute_result",
          "data": {
            "text/plain": [
              "(5, 100000)"
            ]
          },
          "metadata": {
            "tags": []
          },
          "execution_count": 94
        }
      ]
    },
    {
      "cell_type": "code",
      "metadata": {
        "id": "FqWRJI79ook6",
        "colab_type": "code",
        "colab": {
          "base_uri": "https://localhost:8080/",
          "height": 34
        },
        "outputId": "8ae04356-3e4d-4991-8c71-8422b883de66"
      },
      "source": [
        "(300000 - 15000)*50/n"
      ],
      "execution_count": 95,
      "outputs": [
        {
          "output_type": "execute_result",
          "data": {
            "text/plain": [
              "29041.4693948263"
            ]
          },
          "metadata": {
            "tags": []
          },
          "execution_count": 95
        }
      ]
    },
    {
      "cell_type": "code",
      "metadata": {
        "id": "6fh5rDMiigYb",
        "colab_type": "code",
        "colab": {
          "base_uri": "https://localhost:8080/",
          "height": 34
        },
        "outputId": "829ad592-f50f-4c1e-df48-cc4512796b3e"
      },
      "source": [
        "generated_req_test = generated_req[:,313000:413000]\n",
        "generated_req_test.shape"
      ],
      "execution_count": 96,
      "outputs": [
        {
          "output_type": "execute_result",
          "data": {
            "text/plain": [
              "(5, 100000)"
            ]
          },
          "metadata": {
            "tags": []
          },
          "execution_count": 96
        }
      ]
    },
    {
      "cell_type": "code",
      "metadata": {
        "id": "3EJ6ZTdgpjAI",
        "colab_type": "code",
        "colab": {
          "base_uri": "https://localhost:8080/",
          "height": 34
        },
        "outputId": "a45b4064-9385-4808-e259-a97d0e285775"
      },
      "source": [
        "# LRU\n",
        "from memoization import cached, CachingAlgorithmFlag\n",
        "@cached(max_size=5, algorithm=CachingAlgorithmFlag.LRU)\n",
        "def get_url(resource):\n",
        "    try:\n",
        "        with urllib.request.urlopen(resource) as s:\n",
        "            return True\n",
        "    except Exception as e:\n",
        "        return False\n",
        "    \n",
        "hit_LRU_test = []\n",
        "miss_LRU_test = []\n",
        "for i in range(users):\n",
        "  for j in range(len(req_user_test[i])):\n",
        "    get_url(req_user_test[i,j])\n",
        "    hit_LRU_test.append(get_url.cache_info().hits)\n",
        "    miss_LRU_test.append(get_url.cache_info().misses)\n",
        "get_url.cache_info()"
      ],
      "execution_count": 97,
      "outputs": [
        {
          "output_type": "execute_result",
          "data": {
            "text/plain": [
              "CacheInfo(hits=51805, misses=448195, current_size=5, max_size=5, algorithm=<CachingAlgorithmFlag.LRU: 2>, ttl=None, thread_safe=True, order_independent=False, use_custom_key=False)"
            ]
          },
          "metadata": {
            "tags": []
          },
          "execution_count": 97
        }
      ]
    },
    {
      "cell_type": "code",
      "metadata": {
        "id": "ragqbz_KqPmX",
        "colab_type": "code",
        "colab": {
          "base_uri": "https://localhost:8080/",
          "height": 34
        },
        "outputId": "b7d7daab-5915-4596-d8d7-11de65773a69"
      },
      "source": [
        "# LFU\n",
        "from memoization import cached, CachingAlgorithmFlag\n",
        "@cached(max_size=5, algorithm=CachingAlgorithmFlag.LRU)\n",
        "def get_url(resource):\n",
        "    try:\n",
        "        with urllib.request.urlopen(resource) as s:\n",
        "            return True\n",
        "    except Exception as e:\n",
        "        return False\n",
        "    \n",
        "hit_LFU_test = []\n",
        "miss_LFU_test = []\n",
        "for i in range(users):\n",
        "  for j in range(len(req_user_test[i])):\n",
        "    get_url(req_user_test[i,j])\n",
        "    hit_LFU_test.append(get_url.cache_info().hits)\n",
        "    miss_LFU_test.append(get_url.cache_info().misses)\n",
        "get_url.cache_info()"
      ],
      "execution_count": 98,
      "outputs": [
        {
          "output_type": "execute_result",
          "data": {
            "text/plain": [
              "CacheInfo(hits=51805, misses=448195, current_size=5, max_size=5, algorithm=<CachingAlgorithmFlag.LRU: 2>, ttl=None, thread_safe=True, order_independent=False, use_custom_key=False)"
            ]
          },
          "metadata": {
            "tags": []
          },
          "execution_count": 98
        }
      ]
    },
    {
      "cell_type": "code",
      "metadata": {
        "id": "okFLnh7DqYlJ",
        "colab_type": "code",
        "colab": {
          "base_uri": "https://localhost:8080/",
          "height": 34
        },
        "outputId": "830307f8-0af2-4858-a5ce-a88c74060a1a"
      },
      "source": [
        "# LSTM_LRU\n",
        "\n",
        "from memoization import cached, CachingAlgorithmFlag\n",
        "@cached(max_size=5, algorithm=CachingAlgorithmFlag.LRU)\n",
        "def get_url(resource):\n",
        "    try:\n",
        "        \n",
        "        with urllib.request.urlopen(resource) as s:\n",
        "            return True\n",
        "    except Exception as e:\n",
        "        return False\n",
        "    \n",
        "hit_LSTM_LRU_test = []\n",
        "miss_LSTM_LRU_test = []\n",
        "for i in range(users):\n",
        "  for j in range(len(req_user_test[i])):\n",
        "    get_url(generated_req_test[i,j])\n",
        "    hit_LSTM_LRU_test.append(get_url.cache_info().hits)\n",
        "    miss_LSTM_LRU_test.append(get_url.cache_info().misses)\n",
        "get_url.cache_info()"
      ],
      "execution_count": 99,
      "outputs": [
        {
          "output_type": "execute_result",
          "data": {
            "text/plain": [
              "CacheInfo(hits=93200, misses=406800, current_size=5, max_size=5, algorithm=<CachingAlgorithmFlag.LRU: 2>, ttl=None, thread_safe=True, order_independent=False, use_custom_key=False)"
            ]
          },
          "metadata": {
            "tags": []
          },
          "execution_count": 99
        }
      ]
    },
    {
      "cell_type": "code",
      "metadata": {
        "id": "2mrtoiNbqyuK",
        "colab_type": "code",
        "colab": {
          "base_uri": "https://localhost:8080/",
          "height": 34
        },
        "outputId": "02f14b74-10a8-4675-bd88-201e7e5b670a"
      },
      "source": [
        "def distance(i,id,x):\n",
        "  j = x + 1\n",
        "  while generated_req_test[i,j] != id and j < len(generated_req_test[i])-1:\n",
        "        j += 1\n",
        "  return j-x\n",
        "\n",
        "size = 5\n",
        "hit = 0\n",
        "miss = 0\n",
        "hit_LSTM_min_test = []\n",
        "miss_LSTM_min_test = []\n",
        "cache = []\n",
        "\n",
        "for i in range(users):\n",
        "  for j in range(99000):\n",
        "    # If cache is empty then add requested item\n",
        "    if len(cache) < size:\n",
        "        cache.append(generated_req_test[i,j])\n",
        "    # otherwise evict one item and add requested\n",
        "    else:   \n",
        "        # Chech if requested item is present in cache or not\n",
        "        count = 0\n",
        "        for k in range(size):\n",
        "            if generated_req_test[i,j] == cache[k]:\n",
        "                count += 1\n",
        "        # If not present evict one item\n",
        "        if count > 0:\n",
        "          hit += 1\n",
        "        else: \n",
        "          miss += 1\n",
        "          # calculate distance for each cached item\n",
        "          d = []\n",
        "          for k in range(size):\n",
        "            d.append(distance(i,cache[k],j))\n",
        "          d = np.array(d)\n",
        "          #find item with max distance \n",
        "          for k in range(size):\n",
        "            if np.max(d) == d[k]:\n",
        "              cache[k] = generated_req_test[i,j]\n",
        "        # If requested item is already in cache then hit\n",
        "    hit_LSTM_min_test.append(hit)\n",
        "    miss_LSTM_min_test.append(miss)\n",
        "    \n",
        "print(hit,miss)"
      ],
      "execution_count": 100,
      "outputs": [
        {
          "output_type": "stream",
          "text": [
            "189290 305705\n"
          ],
          "name": "stdout"
        }
      ]
    },
    {
      "cell_type": "code",
      "metadata": {
        "id": "cHfSmELacaVP",
        "colab_type": "code",
        "colab": {
          "base_uri": "https://localhost:8080/",
          "height": 34
        },
        "outputId": "821da461-dfce-4c3e-c7eb-929d8bd9247c"
      },
      "source": [
        "len(hit_LSTM_min_test)"
      ],
      "execution_count": 101,
      "outputs": [
        {
          "output_type": "execute_result",
          "data": {
            "text/plain": [
              "495000"
            ]
          },
          "metadata": {
            "tags": []
          },
          "execution_count": 101
        }
      ]
    },
    {
      "cell_type": "code",
      "metadata": {
        "id": "x14XyRZXrRPd",
        "colab_type": "code",
        "colab": {
          "base_uri": "https://localhost:8080/",
          "height": 34
        },
        "outputId": "236fe1df-7b35-4cd2-f9e1-2f82938e72a3"
      },
      "source": [
        "C = 5\n",
        "I = users\n",
        "J = 1\n",
        "N = id\n",
        "pi = 3.14\n",
        "n = I*pow(4*pi*np.log(N*I),-.25)*pow(len(req_user_test[0])/(J*C),.5)\n",
        "count = np.zeros(N)\n",
        "\n",
        "x = np.zeros(50)\n",
        "for i in range(50):\n",
        "    x[i] = i\n",
        "var = np.eye(50)\n",
        "gauss = np.dot(np.exp(-0.5*pow(np.dot(var,x),2)),var)/pow(2*pi,0.5)\n",
        "gauss.shape"
      ],
      "execution_count": 102,
      "outputs": [
        {
          "output_type": "execute_result",
          "data": {
            "text/plain": [
              "(50,)"
            ]
          },
          "metadata": {
            "tags": []
          },
          "execution_count": 102
        }
      ]
    },
    {
      "cell_type": "code",
      "metadata": {
        "id": "6M5Hh_Hgr8Fa",
        "colab_type": "code",
        "colab": {
          "base_uri": "https://localhost:8080/",
          "height": 34
        },
        "outputId": "85f12e9f-a35e-4a29-eca1-98ea21e0a4a2"
      },
      "source": [
        "#FTPL\n",
        "hit_FTPL_test = []\n",
        "miss_FTPL_test = []\n",
        "hit = 0\n",
        "miss = 0\n",
        "\n",
        "for i in range(users):\n",
        "  for j in range(len(req_user_test[i])):\n",
        "    t = int(req_user_test[i,j]) - 1\n",
        "    count[t] += 1\n",
        "    perturbed_count = count + n*gauss\n",
        "    cache = []\n",
        "    if j <= C:\n",
        "        cache.append(req_user_test[i,j])\n",
        "    else:\n",
        "        for k in range(N):\n",
        "            if perturbed_count[k] >= sorted(perturbed_count,reverse = 1)[C-1] and len(cache) < C:\n",
        "                    cache.append(k+1)\n",
        "        if len(cache) != C:\n",
        "            print(i,len(cache))\n",
        "        x = 0        \n",
        "        for l in range(C):\n",
        "            if req_user_test[i,j] == cache[l]:\n",
        "                x += 1\n",
        "        if x>0:\n",
        "            hit += 1\n",
        "        else:\n",
        "            miss += 1\n",
        "        hit_FTPL_test.append(hit)\n",
        "        miss_FTPL_test.append(miss)\n",
        "print(hit,miss)"
      ],
      "execution_count": 107,
      "outputs": [
        {
          "output_type": "stream",
          "text": [
            "61106 438864\n"
          ],
          "name": "stdout"
        }
      ]
    },
    {
      "cell_type": "code",
      "metadata": {
        "id": "qH9dU6w3sQWZ",
        "colab_type": "code",
        "colab": {
          "base_uri": "https://localhost:8080/",
          "height": 296
        },
        "outputId": "2bee664d-8fee-4a47-faa1-2a33956f5c8c"
      },
      "source": [
        "plt.plot(hit_LRU_test,'blue',label = 'LRU')\n",
        "plt.plot(hit_LFU_test,'yellow',label = 'LFU')\n",
        "plt.plot(hit_FTPL_test,'black',label = 'FTPL')\n",
        "plt.plot(hit_LSTM_LRU_test,'green',label = 'LSTM-LRU')\n",
        "plt.plot(hit_LSTM_min_test,'red',label = 'LSTM-MIN')\n",
        "plt.legend()\n",
        "plt.xlabel('Requests')\n",
        "plt.ylabel('Hit-rate')"
      ],
      "execution_count": 108,
      "outputs": [
        {
          "output_type": "execute_result",
          "data": {
            "text/plain": [
              "Text(0, 0.5, 'Hit-rate')"
            ]
          },
          "metadata": {
            "tags": []
          },
          "execution_count": 108
        },
        {
          "output_type": "display_data",
          "data": {
            "image/png": "[encoded data removed]",
            "text/plain": [
              "<Figure size 432x288 with 1 Axes>"
            ]
          },
          "metadata": {
            "tags": [],
            "needs_background": "light"
          }
        }
      ]
    },
    {
      "cell_type": "code",
      "metadata": {
        "id": "5AOLTLtxsbBQ",
        "colab_type": "code",
        "colab": {
          "base_uri": "https://localhost:8080/",
          "height": 296
        },
        "outputId": "82c95ffc-3941-4a40-97a7-045b3f000d16"
      },
      "source": [
        "plt.plot(miss_LRU_test,'blue',label = 'LRU')\n",
        "plt.plot(miss_LFU_test,'yellow',label = 'LFU')\n",
        "plt.plot(miss_FTPL_test,'black',label = 'FTPL')\n",
        "plt.plot(miss_LSTM_LRU_test,'green',label = 'LSTM-LRU')\n",
        "plt.plot(miss_LSTM_min_test,'red',label = 'LSTM-MIN')\n",
        "plt.legend()\n",
        "plt.xlabel('Requests')\n",
        "plt.ylabel('Miss-rate')"
      ],
      "execution_count": 109,
      "outputs": [
        {
          "output_type": "execute_result",
          "data": {
            "text/plain": [
              "Text(0, 0.5, 'Miss-rate')"
            ]
          },
          "metadata": {
            "tags": []
          },
          "execution_count": 109
        },
        {
          "output_type": "display_data",
          "data": {
            "image/png": "[encoded data removed]",
            "text/plain": [
              "<Figure size 432x288 with 1 Axes>"
            ]
          },
          "metadata": {
            "tags": [],
            "needs_background": "light"
          }
        }
      ]
    },
    {
      "cell_type": "code",
      "metadata": {
        "id": "ZYGLXaUcZ-Vi",
        "colab_type": "code",
        "colab": {}
      },
      "source": [
        ""
      ],
      "execution_count": 0,
      "outputs": []
    }
  ]
}